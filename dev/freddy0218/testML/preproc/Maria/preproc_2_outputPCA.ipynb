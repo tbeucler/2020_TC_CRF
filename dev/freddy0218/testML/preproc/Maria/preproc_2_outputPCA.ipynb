{
 "cells": [
  {
   "cell_type": "code",
   "execution_count": 1,
   "id": "38825d5d-5ec6-4dde-92e4-fabf81d71926",
   "metadata": {},
   "outputs": [
    {
     "name": "stderr",
     "output_type": "stream",
     "text": [
      "/tmp/ipykernel_506036/63027641.py:20: ProplotWarning: rc setting 'linewidth' was renamed to 'meta.width' in version 0.8.\n",
      "  plot.rc.update({'figure.facecolor':'w','axes.labelweight':'ultralight',\n",
      "distributed.diskutils - INFO - Found stale lock file and directory '/work/FAC/FGSE/IDYST/tbeucler/default/freddy0218/TCGphy/2020_TC_CRF/dev/freddy0218/testML/preproc/Maria/dask-worker-space/worker-p40s7e11', purging\n",
      "distributed.diskutils - INFO - Found stale lock file and directory '/work/FAC/FGSE/IDYST/tbeucler/default/freddy0218/TCGphy/2020_TC_CRF/dev/freddy0218/testML/preproc/Maria/dask-worker-space/worker-26l4vcnu', purging\n"
     ]
    }
   ],
   "source": [
    "import warnings\n",
    "warnings.filterwarnings('ignore',category=RuntimeWarning)\n",
    "import xarray as xr\n",
    "import numpy as np\n",
    "import matplotlib as mpl\n",
    "import matplotlib.pyplot as plt\n",
    "import seaborn as sns\n",
    "import glob,os,sys\n",
    "from tqdm import tqdm\n",
    "import proplot as plot\n",
    "import json,pickle\n",
    "import dask.array as da\n",
    "import gc\n",
    "from sklearn.decomposition import PCA\n",
    "sys.path.insert(1, '/work/FAC/FGSE/IDYST/tbeucler/default/freddy0218/TCGphy/2020_TC_CRF/dev/freddy0218/scikit/')\n",
    "from tools import derive_var,read_and_proc,preproc_noensemble\n",
    "from tools.mlr import mlr\n",
    "from tools.preprocess import do_eof,preproc_maria\n",
    "%matplotlib inline\n",
    "plot.rc.update({'figure.facecolor':'w','axes.labelweight':'ultralight',\n",
    "                'tick.labelweight':'ultralight','gridminor.linestyle':'--','title.weight':'normal','linewidth':0.5})\n",
    "\n",
    "import time\n",
    "import numpy as np\n",
    "from dask import delayed\n",
    "from dask.distributed import Client\n",
    "client = Client(processes=True, threads_per_worker=1,n_workers=2)"
   ]
  },
  {
   "cell_type": "code",
   "execution_count": 2,
   "id": "ced63343-2cbf-44e4-a190-20b1841af9bc",
   "metadata": {
    "tags": []
   },
   "outputs": [
    {
     "name": "stderr",
     "output_type": "stream",
     "text": [
      "100%|██████████████████████████████████████████████████████████████████████████████████████████████████████████████████████████████████████████████████████████████████████████████████████████████████████████████████████████████████████████████████████| 5/5 [01:54<00:00, 22.88s/it]\n",
      "100%|██████████████████████████████████████████████████████████████████████████████████████████████████████████████████████████████████████████████████████████████████████████████████████████████████████████████████████████████████████████████████████| 5/5 [01:12<00:00, 14.48s/it]\n",
      "100%|██████████████████████████████████████████████████████████████████████████████████████████████████████████████████████████████████████████████████████████████████████████████████████████████████████████████████████████████████████████████████████| 5/5 [00:48<00:00,  9.71s/it]\n",
      "100%|██████████████████████████████████████████████████████████████████████████████████████████████████████████████████████████████████████████████████████████████████████████████████████████████████████████████████████████████████████████████████████| 5/5 [00:41<00:00,  8.22s/it]\n",
      "100%|██████████████████████████████████████████████████████████████████████████████████████████████████████████████████████████████████████████████████████████████████████████████████████████████████████████████████████████████████████████████████████| 5/5 [00:42<00:00,  8.59s/it]\n",
      "100%|██████████████████████████████████████████████████████████████████████████████████████████████████████████████████████████████████████████████████████████████████████████████████████████████████████████████████████████████████████████████████████| 5/5 [00:46<00:00,  9.36s/it]\n",
      "100%|██████████████████████████████████████████████████████████████████████████████████████████████████████████████████████████████████████████████████████████████████████████████████████████████████████████████████████████████████████████████████████| 5/5 [00:41<00:00,  8.22s/it]\n",
      "100%|██████████████████████████████████████████████████████████████████████████████████████████████████████████████████████████████████████████████████████████████████████████████████████████████████████████████████████████████████████████████████████| 5/5 [00:41<00:00,  8.28s/it]\n"
     ]
    }
   ],
   "source": [
    "path = '/work/FAC/FGSE/IDYST/tbeucler/default/freddy0218/'\n",
    "suffix = '_smooth_preproc_dict1b_g'\n",
    "\n",
    "haiyan_u = [read_and_proc.depickle(path+'TCGphy/2020_TC_CRF/dev/freddy0218/pca/output/uvwheat/preproc2/'+str(lime)+suffix)['u'] for lime in tqdm(['ctl','ncrf_36h','ncrf_60h','ncrf_96h','lwcrf'])]\n",
    "haiyan_v = [read_and_proc.depickle(path+'TCGphy/2020_TC_CRF/dev/freddy0218/pca/output/uvwheat/preproc2/'+str(lime)+suffix)['v'] for lime in tqdm(['ctl','ncrf_36h','ncrf_60h','ncrf_96h','lwcrf'])]\n",
    "haiyan_w = [read_and_proc.depickle(path+'TCGphy/2020_TC_CRF/dev/freddy0218/pca/output/uvwheat/preproc2/'+str(lime)+suffix)['w'] for lime in tqdm(['ctl','ncrf_36h','ncrf_60h','ncrf_96h','lwcrf'])]\n",
    "haiyan_qv = [read_and_proc.depickle(path+'TCGphy/2020_TC_CRF/dev/freddy0218/pca/output/uvwheat/preproc2/'+str(lime)+suffix)['qv'] for lime in tqdm(['ctl','ncrf_36h','ncrf_60h','ncrf_96h','lwcrf'])]\n",
    "haiyan_theta = [read_and_proc.depickle(path+'TCGphy/2020_TC_CRF/dev/freddy0218/pca/output/uvwheat/preproc2/'+str(lime)+suffix)['theta'] for lime in tqdm(['ctl','ncrf_36h','ncrf_60h','ncrf_96h','lwcrf'])]\n",
    "haiyan_heatsum = [read_and_proc.depickle(path+'TCGphy/2020_TC_CRF/dev/freddy0218/pca/output/uvwheat/preproc2/'+str(lime)+suffix)['heatsum'] for lime in tqdm(['ctl','ncrf_36h','ncrf_60h','ncrf_96h','lwcrf'])]\n",
    "haiyan_hdia = [read_and_proc.depickle(path+'TCGphy/2020_TC_CRF/dev/freddy0218/pca/output/uvwheat/preproc2/'+str(lime)+suffix)['hdia'] for lime in tqdm(['ctl','ncrf_36h','ncrf_60h','ncrf_96h','lwcrf'])]\n",
    "haiyan_rad = [read_and_proc.depickle(path+'TCGphy/2020_TC_CRF/dev/freddy0218/pca/output/uvwheat/preproc2/'+str(lime)+suffix)['rad'] for lime in tqdm(['ctl','ncrf_36h','ncrf_60h','ncrf_96h','lwcrf'])]"
   ]
  },
  {
   "cell_type": "code",
   "execution_count": 3,
   "id": "052812b3-8e34-4fe9-9a23-04e66316b646",
   "metadata": {
    "tags": []
   },
   "outputs": [
    {
     "name": "stderr",
     "output_type": "stream",
     "text": [
      "100%|██████████████████████████████████████████████████████████████████████████████████████████████████████████████████████████████████████████████████████████████████████████████████████████████████████████████████████████████████████████████████████| 5/5 [01:07<00:00, 13.50s/it]\n",
      "100%|██████████████████████████████████████████████████████████████████████████████████████████████████████████████████████████████████████████████████████████████████████████████████████████████████████████████████████████████████████████████████████| 5/5 [00:29<00:00,  5.97s/it]\n"
     ]
    }
   ],
   "source": [
    "haiyan_lw = [read_and_proc.depickle(path+'TCGphy/2020_TC_CRF/dev/freddy0218/pca/output/uvwheat/preproc2/'+str(lime)+suffix+'_radcomp')['LW'] for lime in tqdm(['ctl','ncrf_36h','ncrf_60h','ncrf_96h','lwcrf'])]\n",
    "haiyan_sw = [read_and_proc.depickle(path+'TCGphy/2020_TC_CRF/dev/freddy0218/pca/output/uvwheat/preproc2/'+str(lime)+suffix+'_radcomp')['SW'] for lime in tqdm(['ctl','ncrf_36h','ncrf_60h','ncrf_96h','lwcrf'])]"
   ]
  },
  {
   "cell_type": "code",
   "execution_count": 4,
   "id": "4f04e106-b3fd-4ea5-b534-0468ac509e2d",
   "metadata": {},
   "outputs": [
    {
     "data": {
      "text/plain": [
       "25"
      ]
     },
     "execution_count": 4,
     "metadata": {},
     "output_type": "execute_result"
    }
   ],
   "source": [
    "def find_start(haiyan_data=None,ref1=0,testexp=1):\n",
    "    for i in range(len(haiyan_data[ref1])):\n",
    "        if str((haiyan_data[ref1][i]==haiyan_data[testexp][i]).all())=='True':\n",
    "            continue\n",
    "        else:\n",
    "            break\n",
    "    return i\n",
    "\n",
    "find_start(haiyan_lw,0,1)"
   ]
  },
  {
   "cell_type": "code",
   "execution_count": 5,
   "id": "891b0e8f-09a6-4b5a-8dfb-cdd3ccbcbced",
   "metadata": {
    "tags": []
   },
   "outputs": [],
   "source": [
    "def long_MariaExps(array=None,start=None):\n",
    "    haiyan_temparray = [array[0][12:,:],array[1][int(start[0]):,:],array[2][int(start[1]):,:],array[3][int(start[2]):,:],array[4][int(start[3]):,:]]\n",
    "    del array\n",
    "    gc.collect()\n",
    "    return np.concatenate(haiyan_temparray,axis=0)\n",
    "\n",
    "start = [find_start(haiyan_lw,0,1),find_start(haiyan_lw,0,2),find_start(haiyan_lw,0,3),find_start(haiyan_lw,0,4)]\n",
    "haiyan_ua,haiyan_va,haiyan_wa = long_MariaExps(haiyan_u,start),long_MariaExps(haiyan_v,start),long_MariaExps(haiyan_w,start)\n",
    "haiyan_qva,haiyan_thetaa,haiyan_heatsuma = long_MariaExps(haiyan_qv,start),long_MariaExps(haiyan_theta,start),long_MariaExps(haiyan_heatsum,start)\n",
    "haiyan_hdiaa,haiyan_swa,haiyan_lwa = long_MariaExps(haiyan_hdia,start),long_MariaExps(haiyan_sw,start),long_MariaExps(haiyan_lw,start)"
   ]
  },
  {
   "cell_type": "code",
   "execution_count": 34,
   "id": "9c4be81f-3391-4a04-89b3-5f8d1ae8ad1a",
   "metadata": {
    "tags": []
   },
   "outputs": [
    {
     "data": {
      "text/plain": [
       "0"
      ]
     },
     "execution_count": 34,
     "metadata": {},
     "output_type": "execute_result"
    }
   ],
   "source": [
    "def build_a_xarray_dataset(ds=None,varname=None,varfile=None,dims=None,coords=None):\n",
    "    def build_xa(arraydata=None,arrayname=None):\n",
    "        da = xr.DataArray(data=arraydata,dims=dims,coords=coords,name=arrayname)\n",
    "        return da\n",
    "    # Complete the code\n",
    "    for varobj,varnamen in zip(varfile,varname):\n",
    "        da = build_xa(varobj,varnamen)\n",
    "        ds = xr.merge( [ds , da ] )\n",
    "    return ds\n",
    "\n",
    "dims = ['sample','flatarray']\n",
    "coords = dict(sample=np.linspace(0,haiyan_ua.shape[0]-1,haiyan_ua.shape[0]),flatarray=np.linspace(0,haiyan_ua.shape[1]-1,haiyan_ua.shape[1]))\n",
    "\n",
    "ds = xr.Dataset(coords=coords)\n",
    "maria_data=build_a_xarray_dataset(ds=ds,varname=['u','v','w','theta','heatsum','hdia','lw','qv','sw'],\\\n",
    "                                   varfile=[haiyan_ua,haiyan_va,haiyan_wa,haiyan_thetaa,haiyan_heatsuma,haiyan_hdiaa,haiyan_lwa,haiyan_qva,haiyan_swa],dims=dims,coords=coords)\n",
    "del haiyan_ua,haiyan_va,haiyan_wa,haiyan_thetaa,haiyan_heatsuma,haiyan_hdiaa,haiyan_lwa,haiyan_swa\n",
    "gc.collect()"
   ]
  },
  {
   "cell_type": "code",
   "execution_count": 35,
   "id": "15a6bcca-3a42-4304-a19f-3a17c02c826d",
   "metadata": {},
   "outputs": [],
   "source": [
    "from sklearn.decomposition import IncrementalPCA\n",
    "def fit_cheap_pca(n_batches=None,n_comps=None,var=None):\n",
    "    #n_batches = 20\n",
    "    inc_pca = IncrementalPCA(n_components=n_comps)\n",
    "    for X_batch in tqdm(np.array_split(var.data,n_batches)):\n",
    "        inc_pca.partial_fit(X_batch)\n",
    "    return inc_pca"
   ]
  },
  {
   "cell_type": "code",
   "execution_count": 36,
   "id": "70a8684d-355e-4a9c-b5a5-22bdbd9bfa37",
   "metadata": {},
   "outputs": [
    {
     "name": "stderr",
     "output_type": "stream",
     "text": [
      "100%|██████████████████████████████████████████████████████████████████████████████████████████████████████████████████████████████████████████████████████████████████████████████████████████████████████████████████████████████████████████████████████| 3/3 [04:59<00:00, 99.96s/it]\n",
      "100%|█████████████████████████████████████████████████████████████████████████████████████████████████████████████████████████████████████████████████████████████████████████████████████████████████████████████████████████████████████████████████████| 3/3 [05:02<00:00, 100.99s/it]\n",
      "100%|█████████████████████████████████████████████████████████████████████████████████████████████████████████████████████████████████████████████████████████████████████████████████████████████████████████████████████████████████████████████████████| 3/3 [05:05<00:00, 101.77s/it]\n",
      "100%|█████████████████████████████████████████████████████████████████████████████████████████████████████████████████████████████████████████████████████████████████████████████████████████████████████████████████████████████████████████████████████| 3/3 [05:20<00:00, 106.69s/it]\n",
      "100%|█████████████████████████████████████████████████████████████████████████████████████████████████████████████████████████████████████████████████████████████████████████████████████████████████████████████████████████████████████████████████████| 3/3 [06:04<00:00, 121.66s/it]\n",
      "100%|█████████████████████████████████████████████████████████████████████████████████████████████████████████████████████████████████████████████████████████████████████████████████████████████████████████████████████████████████████████████████████| 3/3 [06:39<00:00, 133.05s/it]\n",
      "100%|█████████████████████████████████████████████████████████████████████████████████████████████████████████████████████████████████████████████████████████████████████████████████████████████████████████████████████████████████████████████████████| 3/3 [07:13<00:00, 144.48s/it]\n",
      "100%|█████████████████████████████████████████████████████████████████████████████████████████████████████████████████████████████████████████████████████████████████████████████████████████████████████████████████████████████████████████████████████| 3/3 [07:23<00:00, 147.70s/it]\n",
      "100%|█████████████████████████████████████████████████████████████████████████████████████████████████████████████████████████████████████████████████████████████████████████████████████████████████████████████████████████████████████████████████████| 3/3 [07:19<00:00, 146.52s/it]\n"
     ]
    }
   ],
   "source": [
    "pca_store = {}\n",
    "for varnamex in (['u','v','w','theta','heatsum','hdia','lw','qv','sw']):#['u','v','w','theta','heatsum','hdia','rad','qv']):\n",
    "    pca_store[varnamex] = fit_cheap_pca(n_batches=3,n_comps=150,var=maria_data[varnamex])"
   ]
  },
  {
   "cell_type": "code",
   "execution_count": 37,
   "id": "5b2aef1e-7d3d-410e-b4ea-fa1e245b973f",
   "metadata": {},
   "outputs": [
    {
     "name": "stdout",
     "output_type": "stream",
     "text": [
      "/work/FAC/FGSE/IDYST/tbeucler/default/freddy0218/TCGphy/2020_TC_CRF/dev/freddy0218/testML/preproc/Maria\n"
     ]
    }
   ],
   "source": [
    "! pwd"
   ]
  },
  {
   "cell_type": "code",
   "execution_count": 38,
   "id": "18adde94-2fcf-4759-a886-db1c1170491f",
   "metadata": {},
   "outputs": [],
   "source": [
    "folderpath='/work/FAC/FGSE/IDYST/tbeucler/default/freddy0218/TCGphy/2020_TC_CRF/dev/freddy0218/testML/output/maria/processed/'\n",
    "read_and_proc.save_to_pickle(folderpath+'PCA/PCAdict3D',pca_store,'PICKLE')"
   ]
  },
  {
   "cell_type": "markdown",
   "id": "43505116-8c88-43d2-8ff8-f4f3f07d05d7",
   "metadata": {
    "tags": []
   },
   "source": [
    "#### Intermediate"
   ]
  },
  {
   "cell_type": "code",
   "execution_count": 40,
   "id": "081a8f93-ebb3-452d-8aed-5c46af905990",
   "metadata": {},
   "outputs": [],
   "source": [
    "def long_MariaExps(array=None,start=None):\n",
    "    haiyan_temparray = [array[0][12:,:],array[1][int(start[0]):,:],array[2][int(start[1]):,:],array[3][int(start[2]):,:],array[4][int(start[3]):,:]]\n",
    "    del array\n",
    "    gc.collect()\n",
    "    return np.concatenate(haiyan_temparray,axis=0)\n",
    "\n",
    "def to_azim(array=None,shape=[39,360,200]):\n",
    "    def _to_azim(array=None):\n",
    "        arrayn = array.reshape(array.shape[0],shape[0],shape[1],shape[2])\n",
    "        return np.nanmean(arrayn,axis=2).reshape(array.shape[0],shape[0]*shape[2])\n",
    "    return [_to_azim(obj) for obj in array]\n",
    "\n",
    "def build_a_xarray_dataset(ds=None,varname=None,varfile=None,dims=None,coords=None):\n",
    "    def build_xa(arraydata=None,arrayname=None):\n",
    "        da = xr.DataArray(data=arraydata,dims=dims,coords=coords,name=arrayname)\n",
    "        return da\n",
    "    # Complete the code\n",
    "    for varobj,varnamen in zip(varfile,varname):\n",
    "        da = build_xa(varobj,varnamen)\n",
    "        ds = xr.merge( [ds , da ] )\n",
    "    return ds\n",
    "\n",
    "from sklearn.decomposition import IncrementalPCA\n",
    "def fit_cheap_pca(n_batches=None,n_comps=None,var=None):\n",
    "    #n_batches = 20\n",
    "    inc_pca = IncrementalPCA(n_components=n_comps)\n",
    "    for X_batch in tqdm(np.array_split(var.data,n_batches)):\n",
    "        inc_pca.partial_fit(X_batch)\n",
    "    return inc_pca"
   ]
  },
  {
   "cell_type": "code",
   "execution_count": 42,
   "id": "c883ede3-460c-41ea-b307-7105a1e6d30f",
   "metadata": {},
   "outputs": [],
   "source": [
    "haiyan_uazim,haiyan_vazim,haiyan_wazim = long_MariaExps(to_azim(haiyan_u),start),long_MariaExps(to_azim(haiyan_v),start),long_MariaExps(to_azim(haiyan_w),start)\n",
    "haiyan_qvazim,haiyan_thetaazim,haiyan_heatsumazim = long_MariaExps(to_azim(haiyan_qv),start),long_MariaExps(to_azim(haiyan_theta),start),long_MariaExps(to_azim(haiyan_heatsum),start)\n",
    "haiyan_hdiaazim,haiyan_lwazim,haiyan_swazim = long_MariaExps(to_azim(haiyan_hdia),start),long_MariaExps(to_azim(haiyan_lw),start),long_MariaExps(to_azim(haiyan_sw),start)"
   ]
  },
  {
   "cell_type": "code",
   "execution_count": 43,
   "id": "7fb0f088-c652-4435-b735-af407623bee1",
   "metadata": {},
   "outputs": [
    {
     "data": {
      "text/plain": [
       "0"
      ]
     },
     "execution_count": 43,
     "metadata": {},
     "output_type": "execute_result"
    }
   ],
   "source": [
    "dims = ['sample','flatarray']\n",
    "coords = dict(sample=np.linspace(0,haiyan_uazim.shape[0]-1,haiyan_uazim.shape[0]),flatarray=np.linspace(0,haiyan_uazim.shape[1]-1,haiyan_uazim.shape[1]))\n",
    "\n",
    "ds = xr.Dataset(coords=coords)\n",
    "maria_data=build_a_xarray_dataset(ds=ds,varname=['u','v','w','theta','heatsum','hdia','lw','qv','sw'],\\\n",
    "                                   varfile=[haiyan_uazim,haiyan_vazim,haiyan_wazim,haiyan_thetaazim,haiyan_heatsumazim,haiyan_hdiaazim,haiyan_lwazim,haiyan_qvazim,haiyan_swazim],dims=dims,coords=coords)\n",
    "del haiyan_uazim,haiyan_vazim,haiyan_wazim,haiyan_thetaazim,haiyan_heatsumazim,haiyan_hdiaazim,haiyan_lwazim,haiyan_swazim\n",
    "gc.collect()"
   ]
  },
  {
   "cell_type": "code",
   "execution_count": 44,
   "id": "08f866ab-b318-4b63-8d0a-7e90db251674",
   "metadata": {},
   "outputs": [],
   "source": [
    "from sklearn.decomposition import IncrementalPCA\n",
    "def fit_cheap_pca(n_batches=None,n_comps=None,var=None):\n",
    "    #n_batches = 20\n",
    "    inc_pca = IncrementalPCA(n_components=n_comps)\n",
    "    for X_batch in tqdm(np.array_split(var.data,n_batches)):\n",
    "        inc_pca.partial_fit(X_batch)\n",
    "    return inc_pca"
   ]
  },
  {
   "cell_type": "code",
   "execution_count": 45,
   "id": "e5d068fd-e47f-4440-a77a-9f38910e8c91",
   "metadata": {},
   "outputs": [
    {
     "name": "stderr",
     "output_type": "stream",
     "text": [
      "100%|██████████████████████████████████████████████████████████████████████████████████████████████████████████████████████████████████████████████████████████████████████████████████████████████████████████████████████████████████████████████████████| 3/3 [00:01<00:00,  2.40it/s]\n",
      "100%|██████████████████████████████████████████████████████████████████████████████████████████████████████████████████████████████████████████████████████████████████████████████████████████████████████████████████████████████████████████████████████| 3/3 [00:00<00:00,  3.36it/s]\n",
      "100%|██████████████████████████████████████████████████████████████████████████████████████████████████████████████████████████████████████████████████████████████████████████████████████████████████████████████████████████████████████████████████████| 3/3 [00:00<00:00,  3.51it/s]\n",
      "100%|██████████████████████████████████████████████████████████████████████████████████████████████████████████████████████████████████████████████████████████████████████████████████████████████████████████████████████████████████████████████████████| 3/3 [00:00<00:00,  3.35it/s]\n",
      "100%|██████████████████████████████████████████████████████████████████████████████████████████████████████████████████████████████████████████████████████████████████████████████████████████████████████████████████████████████████████████████████████| 3/3 [00:00<00:00,  3.29it/s]\n",
      "100%|██████████████████████████████████████████████████████████████████████████████████████████████████████████████████████████████████████████████████████████████████████████████████████████████████████████████████████████████████████████████████████| 3/3 [00:00<00:00,  3.45it/s]\n",
      "100%|██████████████████████████████████████████████████████████████████████████████████████████████████████████████████████████████████████████████████████████████████████████████████████████████████████████████████████████████████████████████████████| 3/3 [00:00<00:00,  3.44it/s]\n",
      "100%|██████████████████████████████████████████████████████████████████████████████████████████████████████████████████████████████████████████████████████████████████████████████████████████████████████████████████████████████████████████████████████| 3/3 [00:00<00:00,  3.44it/s]\n",
      "100%|██████████████████████████████████████████████████████████████████████████████████████████████████████████████████████████████████████████████████████████████████████████████████████████████████████████████████████████████████████████████████████| 3/3 [00:00<00:00,  3.47it/s]\n"
     ]
    }
   ],
   "source": [
    "pca_store = {}\n",
    "for varnamex in (['u','v','w','theta','heatsum','hdia','lw','qv','sw']):#['u','v','w','theta','heatsum','hdia','rad','qv']):\n",
    "    pca_store[varnamex] = fit_cheap_pca(n_batches=3,n_comps=150,var=maria_data[varnamex])"
   ]
  },
  {
   "cell_type": "code",
   "execution_count": 46,
   "id": "24591f4c-103c-4320-b6ea-8ea9752b3dc4",
   "metadata": {},
   "outputs": [],
   "source": [
    "folderpath='/work/FAC/FGSE/IDYST/tbeucler/default/freddy0218/TCGphy/2020_TC_CRF/dev/freddy0218/testML/output/maria/processed/intermediate/'\n",
    "read_and_proc.save_to_pickle(folderpath+'PCA/PCAdict',pca_store,'PICKLE')"
   ]
  },
  {
   "cell_type": "code",
   "execution_count": 47,
   "id": "83b1996f-86a4-4b23-8bb1-f1cbc52da999",
   "metadata": {},
   "outputs": [
    {
     "data": {
      "text/plain": [
       "[25, 49, 85, 25]"
      ]
     },
     "execution_count": 47,
     "metadata": {},
     "output_type": "execute_result"
    }
   ],
   "source": [
    "start"
   ]
  },
  {
   "cell_type": "code",
   "execution_count": null,
   "id": "18cd5330-b757-4eed-9b69-99846e73feea",
   "metadata": {},
   "outputs": [],
   "source": []
  }
 ],
 "metadata": {
  "kernelspec": {
   "display_name": "Python 3 (ipykernel)",
   "language": "python",
   "name": "python3"
  },
  "language_info": {
   "codemirror_mode": {
    "name": "ipython",
    "version": 3
   },
   "file_extension": ".py",
   "mimetype": "text/x-python",
   "name": "python",
   "nbconvert_exporter": "python",
   "pygments_lexer": "ipython3",
   "version": "3.9.15"
  }
 },
 "nbformat": 4,
 "nbformat_minor": 5
}
