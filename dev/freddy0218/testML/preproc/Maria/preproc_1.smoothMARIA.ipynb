{
 "cells": [
  {
   "cell_type": "code",
   "execution_count": 1,
   "id": "a62453a7-5d7a-4898-9ca2-c0425535991f",
   "metadata": {},
   "outputs": [
    {
     "name": "stderr",
     "output_type": "stream",
     "text": [
      "/tmp/ipykernel_1682100/918310841.py:22: ProplotWarning: rc setting 'linewidth' was renamed to 'meta.width' in version 0.8.\n",
      "  plot.rc.update({'figure.facecolor':'w','axes.labelweight':'ultralight',\n"
     ]
    }
   ],
   "source": [
    "import warnings\n",
    "warnings.filterwarnings('ignore',category=RuntimeWarning)\n",
    "import xarray as xr\n",
    "import numpy as np\n",
    "import matplotlib as mpl\n",
    "import matplotlib.pyplot as plt\n",
    "import seaborn as sns\n",
    "import glob,os,sys\n",
    "from tqdm import tqdm\n",
    "import datetime\n",
    "import proplot as plot\n",
    "from wrf import getvar\n",
    "import json,pickle\n",
    "import dask.array as da\n",
    "import gc\n",
    "from sklearn.decomposition import PCA\n",
    "sys.path.insert(1, '/work/FAC/FGSE/IDYST/tbeucler/default/freddy0218/TCGphy/2020_TC_CRF/dev/freddy0218/')\n",
    "from tools import derive_var,read_and_proc,preproc_noensemble\n",
    "from tools.mlr import mlr\n",
    "from tools.preprocess import do_eof,preproc_maria\n",
    "%matplotlib inline\n",
    "plot.rc.update({'figure.facecolor':'w','axes.labelweight':'ultralight',\n",
    "                'tick.labelweight':'ultralight','gridminor.linestyle':'--','title.weight':'normal','linewidth':0.5})\n",
    "\n",
    "from dask.distributed import Client\n",
    "client = Client(processes=True, threads_per_worker=1,n_workers=2)\n",
    "import time\n",
    "import numpy as np"
   ]
  },
  {
   "cell_type": "code",
   "execution_count": 2,
   "id": "2d570de2-ff5c-41b8-bbd9-bc3a2bbc2325",
   "metadata": {},
   "outputs": [],
   "source": [
    "from sklearn.decomposition import PCA\n",
    "def smooth_array_along_axis(array=None,axis=None,window=3):\n",
    "    if axis==0:\n",
    "        aN = array.copy()\n",
    "    else:\n",
    "        aN = np.swapaxes(array,axis,0)\n",
    "    aN = aN.reshape((aN.shape[0], -1))\n",
    "    return np.asarray([np.convolve(aN[:,i],np.ones(window)/window,'same')[0:aN.shape[0]] for i in range(len(aN[0,:]))]).transpose()\n",
    "\n",
    "def dummy(inlist=None):\n",
    "    return inlist\n",
    "\n",
    "def do_PCA(array=None):\n",
    "    skpcaVAR = PCA()\n",
    "    skpcaVAR.fit(array)\n",
    "    return skpcaVAR"
   ]
  },
  {
   "cell_type": "code",
   "execution_count": 3,
   "id": "cff3ab13-dcae-4bf2-843f-8034148de869",
   "metadata": {},
   "outputs": [],
   "source": [
    "def forward_diff(arrayin=None,delta=None,axis=None,LT=1):\n",
    "    result = []\n",
    "    if axis==0:\n",
    "            for i in range(0,arrayin.shape[axis]-LT):\n",
    "                temp = (arrayin[i+LT,:]-arrayin[i,:])/(LT*delta)\n",
    "                result.append(temp)\n",
    "            return np.asarray(result)"
   ]
  },
  {
   "cell_type": "code",
   "execution_count": 4,
   "id": "d981ed13-a714-4db7-a93e-f0a8b83e7dcf",
   "metadata": {
    "collapsed": true,
    "jupyter": {
     "outputs_hidden": true,
     "source_hidden": true
    },
    "tags": []
   },
   "outputs": [
    {
     "ename": "FileNotFoundError",
     "evalue": "[Errno 2] No such file or directory: '/scratch/08350/tg876493/ruppert2020/ctl/urad'",
     "output_type": "error",
     "traceback": [
      "\u001b[0;31m---------------------------------------------------------------------------\u001b[0m",
      "\u001b[0;31mFileNotFoundError\u001b[0m                         Traceback (most recent call last)",
      "Input \u001b[0;32mIn [4]\u001b[0m, in \u001b[0;36m<cell line: 1>\u001b[0;34m()\u001b[0m\n\u001b[0;32m----> 1\u001b[0m ctl_du,ctl_dv,ctl_dw \u001b[38;5;241m=\u001b[39m \u001b[43mpreproc_noensemble\u001b[49m\u001b[38;5;241;43m.\u001b[39;49m\u001b[43mpreproc_dudvdw\u001b[49m\u001b[43m(\u001b[49m\u001b[38;5;124;43m'\u001b[39;49m\u001b[38;5;124;43m/scratch/08350/tg876493/ruppert2020/\u001b[39;49m\u001b[38;5;124;43m'\u001b[39;49m\u001b[43m,\u001b[49m\u001b[43m\\\u001b[49m\n\u001b[1;32m      2\u001b[0m \u001b[43m                                                         \u001b[49m\u001b[38;5;124;43m'\u001b[39;49m\u001b[38;5;124;43m/scratch/06040/tg853394/tc/output/redux/maria/\u001b[39;49m\u001b[38;5;124;43m'\u001b[39;49m\u001b[43m,\u001b[49m\u001b[38;5;124;43m'\u001b[39;49m\u001b[38;5;124;43mctl\u001b[39;49m\u001b[38;5;124;43m'\u001b[39;49m\u001b[43m)\u001b[49m\n\u001b[1;32m      3\u001b[0m ncrf_36h_du,ncrf_36h_dv,ncrf_36h_dw \u001b[38;5;241m=\u001b[39m preproc_noensemble\u001b[38;5;241m.\u001b[39mpreproc_dudvdw(\u001b[38;5;124m'\u001b[39m\u001b[38;5;124m/scratch/08350/tg876493/ruppert2020/\u001b[39m\u001b[38;5;124m'\u001b[39m,\\\n\u001b[1;32m      4\u001b[0m                                                                         \u001b[38;5;124m'\u001b[39m\u001b[38;5;124m/scratch/06040/tg853394/tc/output/redux/maria/\u001b[39m\u001b[38;5;124m'\u001b[39m,\u001b[38;5;124m'\u001b[39m\u001b[38;5;124mncrf_36h\u001b[39m\u001b[38;5;124m'\u001b[39m)\n\u001b[1;32m      5\u001b[0m ncrf_60h_du,ncrf_60h_dv,ncrf_60h_dw \u001b[38;5;241m=\u001b[39m preproc_noensemble\u001b[38;5;241m.\u001b[39mpreproc_dudvdw(\u001b[38;5;124m'\u001b[39m\u001b[38;5;124m/scratch/08350/tg876493/ruppert2020/\u001b[39m\u001b[38;5;124m'\u001b[39m,\\\n\u001b[1;32m      6\u001b[0m                                                                         \u001b[38;5;124m'\u001b[39m\u001b[38;5;124m/scratch/06040/tg853394/tc/output/redux/maria/\u001b[39m\u001b[38;5;124m'\u001b[39m,\u001b[38;5;124m'\u001b[39m\u001b[38;5;124mncrf_60h\u001b[39m\u001b[38;5;124m'\u001b[39m)\n",
      "File \u001b[0;32m/work/FAC/FGSE/IDYST/tbeucler/default/freddy0218/TCGphy/2020_TC_CRF/dev/freddy0218/tools/preproc_noensemble.py:174\u001b[0m, in \u001b[0;36mpreproc_dudvdw\u001b[0;34m(uvtpath, originpath, expname)\u001b[0m\n\u001b[1;32m    170\u001b[0m \u001b[38;5;28;01mdef\u001b[39;00m \u001b[38;5;21mpreproc_dudvdw\u001b[39m(uvtpath\u001b[38;5;241m=\u001b[39m\u001b[38;5;28;01mNone\u001b[39;00m,originpath\u001b[38;5;241m=\u001b[39m\u001b[38;5;28;01mNone\u001b[39;00m,expname\u001b[38;5;241m=\u001b[39m\u001b[38;5;28;01mNone\u001b[39;00m):\n\u001b[1;32m    171\u001b[0m     \u001b[38;5;66;03m###############################################################################################\u001b[39;00m\n\u001b[1;32m    172\u001b[0m     \u001b[38;5;66;03m# urad,vtan,theta & swapaxes\u001b[39;00m\n\u001b[1;32m    173\u001b[0m     \u001b[38;5;66;03m###############################################################################################\u001b[39;00m\n\u001b[0;32m--> 174\u001b[0m     urad \u001b[38;5;241m=\u001b[39m np\u001b[38;5;241m.\u001b[39mswapaxes(np\u001b[38;5;241m.\u001b[39masarray(\u001b[43mread_and_proc\u001b[49m\u001b[38;5;241;43m.\u001b[39;49m\u001b[43mdepickle\u001b[49m\u001b[43m(\u001b[49m\u001b[43muvtpath\u001b[49m\u001b[38;5;241;43m+\u001b[39;49m\u001b[38;5;28;43mstr\u001b[39;49m\u001b[43m(\u001b[49m\u001b[43mexpname\u001b[49m\u001b[43m)\u001b[49m\u001b[38;5;241;43m+\u001b[39;49m\u001b[38;5;124;43m'\u001b[39;49m\u001b[38;5;124;43m/urad\u001b[39;49m\u001b[38;5;124;43m'\u001b[39;49m\u001b[43m)\u001b[49m),\u001b[38;5;241m0\u001b[39m,\u001b[38;5;241m1\u001b[39m)\n\u001b[1;32m    175\u001b[0m     vtan \u001b[38;5;241m=\u001b[39m np\u001b[38;5;241m.\u001b[39mswapaxes(np\u001b[38;5;241m.\u001b[39masarray(read_and_proc\u001b[38;5;241m.\u001b[39mdepickle(uvtpath\u001b[38;5;241m+\u001b[39m\u001b[38;5;28mstr\u001b[39m(expname)\u001b[38;5;241m+\u001b[39m\u001b[38;5;124m'\u001b[39m\u001b[38;5;124m/vtan\u001b[39m\u001b[38;5;124m'\u001b[39m)),\u001b[38;5;241m0\u001b[39m,\u001b[38;5;241m1\u001b[39m)\n\u001b[1;32m    176\u001b[0m     \u001b[38;5;66;03m###############################################################################################\u001b[39;00m\n\u001b[1;32m    177\u001b[0m     \u001b[38;5;66;03m# w\u001b[39;00m\n\u001b[1;32m    178\u001b[0m     \u001b[38;5;66;03m###############################################################################################\u001b[39;00m\n",
      "File \u001b[0;32m/work/FAC/FGSE/IDYST/tbeucler/default/freddy0218/TCGphy/2020_TC_CRF/dev/freddy0218/tools/read_and_proc.py:66\u001b[0m, in \u001b[0;36mdepickle\u001b[0;34m(fileloc)\u001b[0m\n\u001b[1;32m     64\u001b[0m \u001b[38;5;28;01mdef\u001b[39;00m \u001b[38;5;21mdepickle\u001b[39m(fileloc\u001b[38;5;241m=\u001b[39m\u001b[38;5;28;01mNone\u001b[39;00m):\n\u001b[1;32m     65\u001b[0m     output \u001b[38;5;241m=\u001b[39m []\n\u001b[0;32m---> 66\u001b[0m     \u001b[38;5;28;01mwith\u001b[39;00m \u001b[38;5;28;43mopen\u001b[39;49m\u001b[43m(\u001b[49m\u001b[43mfileloc\u001b[49m\u001b[43m,\u001b[49m\u001b[38;5;124;43m'\u001b[39;49m\u001b[38;5;124;43mrb\u001b[39;49m\u001b[38;5;124;43m'\u001b[39;49m\u001b[43m)\u001b[49m \u001b[38;5;28;01mas\u001b[39;00m f:\n\u001b[1;32m     67\u001b[0m         output\u001b[38;5;241m.\u001b[39mappend(pickle\u001b[38;5;241m.\u001b[39mload(f))    \n\u001b[1;32m     68\u001b[0m     \u001b[38;5;28;01mreturn\u001b[39;00m output[\u001b[38;5;241m0\u001b[39m]\n",
      "\u001b[0;31mFileNotFoundError\u001b[0m: [Errno 2] No such file or directory: '/scratch/08350/tg876493/ruppert2020/ctl/urad'"
     ]
    }
   ],
   "source": [
    "ctl_du,ctl_dv,ctl_dw = preproc_noensemble.preproc_dudvdw('/scratch/08350/tg876493/ruppert2020/',\\\n",
    "                                                         '/scratch/06040/tg853394/tc/output/redux/maria/','ctl')\n",
    "ncrf_36h_du,ncrf_36h_dv,ncrf_36h_dw = preproc_noensemble.preproc_dudvdw('/scratch/08350/tg876493/ruppert2020/',\\\n",
    "                                                                        '/scratch/06040/tg853394/tc/output/redux/maria/','ncrf_36h')\n",
    "ncrf_60h_du,ncrf_60h_dv,ncrf_60h_dw = preproc_noensemble.preproc_dudvdw('/scratch/08350/tg876493/ruppert2020/',\\\n",
    "                                                                        '/scratch/06040/tg853394/tc/output/redux/maria/','ncrf_60h')\n",
    "lwcrf_du,lwcrf_dv,lwcrf_dw = preproc_noensemble.preproc_dudvdw('/scratch/08350/tg876493/ruppert2020/',\\\n",
    "                                                               '/scratch/06040/tg853394/tc/output/redux/maria/','lwcrf')\n",
    "\n",
    "ctl_dict = {\"du\":ctl_du,\"dv\":ctl_dv,\"dw\":ctl_dw}\n",
    "del ctl_du,ctl_dv,ctl_dw\n",
    "gc.collect()\n",
    "ncrf_36h_dict = {\"du\":ncrf_36h_du,\"dv\":ncrf_36h_dv,\"dw\":ncrf_36h_dw}\n",
    "del ncrf_36h_du,ncrf_36h_dv,ncrf_36h_dw\n",
    "gc.collect()\n",
    "ncrf_60h_dict = {\"du\":ncrf_60h_du,\"dv\":ncrf_60h_dv,\"dw\":ncrf_60h_dw}\n",
    "del ncrf_60h_du,ncrf_60h_dv,ncrf_60h_dw\n",
    "gc.collect()\n",
    "lwcrf_dict = {\"du\":lwcrf_du,\"dv\":lwcrf_dv,\"dw\":lwcrf_dw}\n",
    "del lwcrf_du,lwcrf_dv,lwcrf_dw\n",
    "gc.collect()"
   ]
  },
  {
   "cell_type": "code",
   "execution_count": 5,
   "id": "5e1ba936-e04f-4ae5-824b-f5b500b1dff0",
   "metadata": {},
   "outputs": [
    {
     "name": "stdout",
     "output_type": "stream",
     "text": [
      "---Finish!---\n",
      "---Finish!---\n",
      "---Finish!---\n",
      "---Finish!---\n",
      "---Finish!---\n"
     ]
    },
    {
     "name": "stderr",
     "output_type": "stream",
     "text": [
      "/work/FAC/FGSE/IDYST/tbeucler/default/freddy0218/miniconda3/envs/fred_workenv/lib/python3.9/site-packages/distributed/worker.py:4149: UserWarning: Large object of size 1.52 GiB detected in task graph: \n",
      "  (<xarray.DataArray 'W' (time: 145, level: 39, azmi ... , [3, 0, 0, 0])\n",
      "Consider scattering large objects ahead of time\n",
      "with client.scatter to reduce scheduler burden and \n",
      "keep data on workers\n",
      "\n",
      "    future = client.submit(func, big_data)    # bad\n",
      "\n",
      "    big_future = client.scatter(big_data)     # good\n",
      "    future = client.submit(func, big_future)  # good\n",
      "  warnings.warn(\n"
     ]
    },
    {
     "name": "stdout",
     "output_type": "stream",
     "text": [
      "(144, 2808000)\n",
      "---Finish!---\n",
      "---Finish!---\n",
      "---Finish!---\n",
      "---Finish!---\n",
      "---Finish!---\n"
     ]
    },
    {
     "data": {
      "text/plain": [
       "[None, None, None, None, None]"
      ]
     },
     "execution_count": 5,
     "metadata": {},
     "output_type": "execute_result"
    }
   ],
   "source": [
    "import importlib\n",
    "importlib.reload(preproc_maria)\n",
    "path = '/work/FAC/FGSE/IDYST/tbeucler/default/freddy0218/'\n",
    "\n",
    "[preproc_maria.preprocess(uvtpath=path+'TCGphy/testML/output/maria/',originpath=path+'data/maria/',expname=i,\n",
    "                          window=5,addctrlmethod='new',gaussian=True,sigma=[3,0,0,0],surfix='preproc_dict1b_g',outsize=200).preproc_uvwF(smooth=True) for i in ['ctl','ncrf_36h','ncrf_60h','ncrf_96h','lwcrf']] #'ctl','ncrf_36h','ncrf_60h',\n",
    "[preproc_maria.preprocess(uvtpath=path+'TCGphy/testML/output/maria/',originpath=path+'data/maria/',expname=i,\n",
    "                               window=5,addctrlmethod='new',gaussian=True,sigma=[3,0,0,0],surfix='preproc_dict1b_g_dudvdwdth',outsize=200).preproc_dudvdw(smooth=True) for i in ['ctl','ncrf_36h','ncrf_60h','ncrf_96h','lwcrf']]\n",
    "#[preproc_maria.preprocess(uvtpath=path+'TCGphy/testML/output/maria/',originpath=path+'data/maria/',expname=i,\n",
    "#                           window=5,addctrlmethod='new',gaussian=True,sigma=[3,0,0,0],surfix='preproc_dict1b_g_radcomp',outsize=200).preproc_heateq(smooth=True) for i in ['ctl','ncrf_36h','ncrf_60h','ncrf_96h','lwcrf']]"
   ]
  },
  {
   "cell_type": "code",
   "execution_count": 4,
   "id": "b407de53-9847-4ae5-8809-43fc10abf887",
   "metadata": {
    "tags": []
   },
   "outputs": [
    {
     "name": "stdout",
     "output_type": "stream",
     "text": [
      "---Finish!---\n",
      "---Finish!---\n",
      "---Finish!---\n",
      "---Finish!---\n"
     ]
    }
   ],
   "source": [
    "############################################################################################################################################################\n",
    "#ir_outdict = {'ctlIR':ctl_outdict['HEAT'],'ncrf36IR':ncrf36_outdict['HEAT'],'ncrf60IR':ncrf60_outdict['HEAT'],'lwcrfIR':lwcrf_outdict['HEAT']}\n",
    "#noir_outdict = {'ctlNOIR':ctl_outdict['NOHEAT'],'ncrf36NOIR':ncrf36_outdict['NOHEAT'],'ncrf60NOIR':ncrf60_outdict['NOHEAT'],'lwcrfNOIR':lwcrf_outdict['NOHEAT']}"
   ]
  },
  {
   "cell_type": "code",
   "execution_count": 7,
   "id": "a3d0858d-ffcf-4854-ba66-674c6954f4c3",
   "metadata": {
    "tags": []
   },
   "outputs": [
    {
     "data": {
      "text/plain": [
       "[None, None, None, None]"
      ]
     },
     "execution_count": 7,
     "metadata": {},
     "output_type": "execute_result"
    }
   ],
   "source": [
    "expname = ['ctl','ncrf_36h','ncrf_60h','lwcrf']#'IR'\n",
    "dicts = [ctl_outdict,ncrf36_outdict,ncrf60_outdict,lwcrf_outdict]\n",
    "folderpath='../output/maria/processed/'\n",
    "[read_and_proc.save_to_pickle(folderpath+str(expnamee)+'_'+'preproc_dict1_g_rads',outdicts,'PICKLE') for expnamee,outdicts in zip(expname,dicts)]\n",
    "\n",
    "#expname = 'NOIR'\n",
    "#read_and_proc.save_to_pickle(folderpath+'pca/output/uvwheat/'+str(expname)+'_'+'preproc_dict1_g_onevar',noir_outdict,'PICKLE')"
   ]
  },
  {
   "cell_type": "code",
   "execution_count": 10,
   "id": "6f07c75b-d7bf-44c1-92e4-61b133aa97ea",
   "metadata": {},
   "outputs": [],
   "source": [
    "folderpath='/work/FAC/FGSE/IDYST/tbeucler/default/freddy0218/TCGphy/2020_TC_CRF/dev/freddy0218/'\n",
    "irdict = read_and_proc.depickle(folderpath+'pca/output/flatvar/NOIR_'+'preproc_dict1')"
   ]
  },
  {
   "cell_type": "code",
   "execution_count": 4,
   "id": "7971c4c9-4955-4d36-9a41-8dddf60e7a5a",
   "metadata": {
    "jupyter": {
     "source_hidden": true
    },
    "tags": []
   },
   "outputs": [],
   "source": [
    "expname = ['ctl','ncrf_60h']\n",
    "folderpath='/work/FAC/FGSE/IDYST/tbeucler/default/freddy0218/TCGphy/2020_TC_CRF/dev/freddy0218/'\n",
    "listdict = [read_and_proc.depickle(folderpath+'pca/output/uvwheat/test/'+str(expname[i])+'_'+'preproc_dict1') for i in range(2)]"
   ]
  },
  {
   "cell_type": "code",
   "execution_count": null,
   "id": "71e96a48-d308-4bda-a0ff-2b2228c75ebb",
   "metadata": {},
   "outputs": [],
   "source": []
  }
 ],
 "metadata": {
  "kernelspec": {
   "display_name": "Python 3 (ipykernel)",
   "language": "python",
   "name": "python3"
  },
  "language_info": {
   "codemirror_mode": {
    "name": "ipython",
    "version": 3
   },
   "file_extension": ".py",
   "mimetype": "text/x-python",
   "name": "python",
   "nbconvert_exporter": "python",
   "pygments_lexer": "ipython3",
   "version": "3.9.7"
  }
 },
 "nbformat": 4,
 "nbformat_minor": 5
}
