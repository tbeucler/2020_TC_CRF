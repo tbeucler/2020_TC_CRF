{
 "cells": [
  {
   "cell_type": "code",
   "execution_count": 1,
   "id": "8a943fa2-6d37-4d32-bf67-381a2eca1f30",
   "metadata": {},
   "outputs": [
    {
     "name": "stderr",
     "output_type": "stream",
     "text": [
      "distributed.diskutils - INFO - Found stale lock file and directory '/work/FAC/FGSE/IDYST/tbeucler/default/freddy0218/TCGphy/testML/preproc/Maria/dask-worker-space/worker-9q8m8s29', purging\n",
      "distributed.diskutils - INFO - Found stale lock file and directory '/work/FAC/FGSE/IDYST/tbeucler/default/freddy0218/TCGphy/testML/preproc/Maria/dask-worker-space/worker-drt2dqe7', purging\n",
      "distributed.diskutils - INFO - Found stale lock file and directory '/work/FAC/FGSE/IDYST/tbeucler/default/freddy0218/TCGphy/testML/preproc/Maria/dask-worker-space/worker-j671guyu', purging\n",
      "distributed.diskutils - INFO - Found stale lock file and directory '/work/FAC/FGSE/IDYST/tbeucler/default/freddy0218/TCGphy/testML/preproc/Maria/dask-worker-space/worker-ecsp8rcy', purging\n",
      "/tmp/ipykernel_1692742/1447050377.py:26: ProplotWarning: rc setting 'linewidth' was renamed to 'meta.width' in version 0.8.\n",
      "  plot.rc.update({'figure.facecolor':'w','axes.labelweight':'ultralight','tick.labelweight':'ultralight','gridminor.linestyle':'--','title.weight':'normal','linewidth':0.5,'axes.labelweight':'normal',\n"
     ]
    }
   ],
   "source": [
    "import warnings\n",
    "warnings.filterwarnings('ignore',category=RuntimeWarning)\n",
    "import xarray as xr\n",
    "import numpy as np\n",
    "import matplotlib as mpl\n",
    "import matplotlib.pyplot as plt\n",
    "import seaborn as sns\n",
    "import glob,os,sys\n",
    "from tqdm.auto import tqdm\n",
    "import proplot as plot\n",
    "import json,pickle\n",
    "import dask.array as da\n",
    "import gc\n",
    "from sklearn.decomposition import PCA\n",
    "sys.path.insert(1, '/work/FAC/FGSE/IDYST/tbeucler/default/freddy0218/TCGphy/2020_TC_CRF/dev/freddy0218/')\n",
    "from tools import derive_var,read_and_proc,preproc_noensemble\n",
    "from tools.mlr import mlr,proc_mlrfcst,maria_IO,ffs\n",
    "from tools.preprocess import do_eof,preproc_maria,preproc_haiyan\n",
    "sys.path.insert(2, '/work/FAC/FGSE/IDYST/tbeucler/default/freddy0218/TCGphy/testML/')\n",
    "import feature_select\n",
    "from dask.distributed import Client\n",
    "client = Client(processes=True, threads_per_worker=1,n_workers=2)\n",
    "%matplotlib inline\n",
    "\n",
    "plot.rc.metacolor = 'k'\n",
    "plot.rc.update({'figure.facecolor':'w','axes.labelweight':'ultralight','tick.labelweight':'ultralight','gridminor.linestyle':'--','title.weight':'normal','linewidth':0.5,'axes.labelweight':'normal',\n",
    "                'tick.labelweight':'normal','figure.facecolor':'w','title.color':'k','fontname': 'Source Sans Pro', 'fontsize': 11,'linewidth':1.25})\n",
    "plot.rc.axesfacecolor = 'w'"
   ]
  },
  {
   "cell_type": "code",
   "execution_count": 2,
   "id": "b29bc1ca-3f7a-46b2-b07b-362a01509084",
   "metadata": {},
   "outputs": [
    {
     "data": {
      "application/vnd.jupyter.widget-view+json": {
       "model_id": "6745ecbbd8d84b908e4e40b6c8231d75",
       "version_major": 2,
       "version_minor": 0
      },
      "text/plain": [
       "  0%|          | 0/5 [00:00<?, ?it/s]"
      ]
     },
     "metadata": {},
     "output_type": "display_data"
    }
   ],
   "source": [
    "path = '/work/FAC/FGSE/IDYST/tbeucler/default/freddy0218/'\n",
    "suffix = '_smooth_preproc_dict1b_g'\n",
    "enter = '/work/FAC/FGSE/IDYST/tbeucler/default/freddy0218/TCGphy/2020_TC_CRF/dev/freddy0218/pca/output/uvwheat/preproc2/'\n",
    "\n",
    "maria_u = [read_and_proc.depickle(path+'TCGphy/2020_TC_CRF/dev/freddy0218/pca/output/uvwheat/preproc2/'+str(lime)+suffix)['u'] for lime in tqdm(['ctl','ncrf_36h','ncrf_60h','ncrf_96h','lwcrf'])]\n",
    "divider = np.asarray([maria_u[0][12:].shape[0],maria_u[1][36:].shape[0],maria_u[2][60:].shape[0],maria_u[3][96:].shape[0],maria_u[4][36:].shape[0]]).cumsum()"
   ]
  },
  {
   "cell_type": "markdown",
   "id": "de72defa-023a-40be-bb79-2ab1ee502b9e",
   "metadata": {},
   "source": [
    "#### Preproc pipeline"
   ]
  },
  {
   "cell_type": "code",
   "execution_count": 3,
   "id": "b5af7b2c-482c-4354-9d85-1ea83e616ed6",
   "metadata": {},
   "outputs": [
    {
     "name": "stdin",
     "output_type": "stream",
     "text": [
      "Enter Path: /work/FAC/FGSE/IDYST/tbeucler/default/freddy0218/TCGphy/2020_TC_CRF/dev/freddy0218/pca/output/uvwheat/preproc2/\n"
     ]
    },
    {
     "data": {
      "application/vnd.jupyter.widget-view+json": {
       "model_id": "09f7419836a447c985d7574845e40ee3",
       "version_major": 2,
       "version_minor": 0
      },
      "text/plain": [
       "  0%|          | 0/5 [00:00<?, ?it/s]"
      ]
     },
     "metadata": {},
     "output_type": "display_data"
    },
    {
     "data": {
      "application/vnd.jupyter.widget-view+json": {
       "model_id": "3d1443271edf46b0bac97f616d93be97",
       "version_major": 2,
       "version_minor": 0
      },
      "text/plain": [
       "  0%|          | 0/5 [00:00<?, ?it/s]"
      ]
     },
     "metadata": {},
     "output_type": "display_data"
    },
    {
     "data": {
      "application/vnd.jupyter.widget-view+json": {
       "model_id": "2733f3a200774a489d6413cbd39e8f6b",
       "version_major": 2,
       "version_minor": 0
      },
      "text/plain": [
       "  0%|          | 0/5 [00:00<?, ?it/s]"
      ]
     },
     "metadata": {},
     "output_type": "display_data"
    },
    {
     "data": {
      "application/vnd.jupyter.widget-view+json": {
       "model_id": "3311741679a048b5ac280d130586fa22",
       "version_major": 2,
       "version_minor": 0
      },
      "text/plain": [
       "  0%|          | 0/5 [00:00<?, ?it/s]"
      ]
     },
     "metadata": {},
     "output_type": "display_data"
    },
    {
     "data": {
      "application/vnd.jupyter.widget-view+json": {
       "model_id": "0a858bbfb8dc4cc68bc87285d8b3100e",
       "version_major": 2,
       "version_minor": 0
      },
      "text/plain": [
       "  0%|          | 0/5 [00:00<?, ?it/s]"
      ]
     },
     "metadata": {},
     "output_type": "display_data"
    },
    {
     "data": {
      "application/vnd.jupyter.widget-view+json": {
       "model_id": "81b86aa2821c4dca8e6a35c58ef975e1",
       "version_major": 2,
       "version_minor": 0
      },
      "text/plain": [
       "  0%|          | 0/5 [00:00<?, ?it/s]"
      ]
     },
     "metadata": {},
     "output_type": "display_data"
    },
    {
     "data": {
      "application/vnd.jupyter.widget-view+json": {
       "model_id": "7898b2e93d9a4da0b62ecab098ab57a3",
       "version_major": 2,
       "version_minor": 0
      },
      "text/plain": [
       "  0%|          | 0/5 [00:00<?, ?it/s]"
      ]
     },
     "metadata": {},
     "output_type": "display_data"
    },
    {
     "data": {
      "application/vnd.jupyter.widget-view+json": {
       "model_id": "6d14968d1bc24ac6bedd043ffd0dc2d1",
       "version_major": 2,
       "version_minor": 0
      },
      "text/plain": [
       "  0%|          | 0/5 [00:00<?, ?it/s]"
      ]
     },
     "metadata": {},
     "output_type": "display_data"
    },
    {
     "data": {
      "application/vnd.jupyter.widget-view+json": {
       "model_id": "83155f92660d4def9d99bcb4d5dd70df",
       "version_major": 2,
       "version_minor": 0
      },
      "text/plain": [
       "  0%|          | 0/5 [00:00<?, ?it/s]"
      ]
     },
     "metadata": {},
     "output_type": "display_data"
    }
   ],
   "source": [
    "def preproc_pipeline(case='Maria',TYPE='3D' or '2D',suffix=None):\n",
    "    if case=='Maria':\n",
    "        filepath = input('Enter Path:')\n",
    "        #------------------------------------------------------------------------------------------------------------------------------------------\n",
    "        # Import Preprocessed Flat Data and PCA dictionary\n",
    "        #------------------------------------------------------------------------------------------------------------------------------------------\n",
    "        if TYPE=='3D':\n",
    "            tempdict = {}\n",
    "            for varname in ['u','v','w','qv','theta','heatsum','hdia','rad','ir']:\n",
    "                temp = [read_and_proc.depickle(filepath+str(lime)+suffix)[varname] for lime in tqdm(['ctl','ncrf_36h','ncrf_60h','ncrf_96h','lwcrf'])]\n",
    "                tempdict[varname] = maria_IO.long_MariaExps(temp)\n",
    "        elif TYPE=='2D':\n",
    "            tempdict = {}\n",
    "            for varname in ['u','v','w','qv','theta','heatsum','hdia','rad','ir']:\n",
    "                temp = [read_and_proc.depickle(filepath+str(lime)+suffix)[varname] for lime in tqdm(['ctl','ncrf_36h','ncrf_60h','ncrf_96h','lwcrf'])]\n",
    "                tempdict[varname] = maria_IO.long_MariaExps(maria_IO.to_azim(temp))            \n",
    "        #------------------------------------------------------------------------------------------------------------------------------------------\n",
    "        # Save to xarray\n",
    "        #------------------------------------------------------------------------------------------------------------------------------------------\n",
    "        dims = ['sample','flatarray']\n",
    "        coords = dict(sample=np.linspace(0,tempdict['u'].shape[0]-1,tempdict['u'].shape[0]),flatarray=np.linspace(0,tempdict['u'].shape[1]-1,tempdict['u'].shape[1]))\n",
    "        ds = xr.Dataset(coords=coords)\n",
    "        maria_data=preproc_haiyan.build_a_xarray_dataset(ds=ds,varname=['u','v','w','theta','heatsum','hdia','rad','qv','ir'],\\\n",
    "                                                         varfile=[tempdict['u'],tempdict['v'],tempdict['w'],tempdict['theta'],tempdict['heatsum'],tempdict['hdia'],tempdict['rad'],tempdict['qv'],tempdict['ir']],dims=dims,coords=coords)\n",
    "        del tempdict\n",
    "        gc.collect()\n",
    "        #------------------------------------------------------------------------------------------------------------------------------------------\n",
    "        # Import PCA dictionary\n",
    "        #------------------------------------------------------------------------------------------------------------------------------------------\n",
    "        if TYPE=='3D':\n",
    "            folderpath='/work/FAC/FGSE/IDYST/tbeucler/default/freddy0218/TCGphy/testML/output/maria/processed/'\n",
    "            dict1 = read_and_proc.depickle(folderpath+'PCA/PCAdict2')\n",
    "        elif TYPE=='2D':\n",
    "            folderpath='/work/FAC/FGSE/IDYST/tbeucler/default/freddy0218/TCGphy/testML/output/maria/processed/intermediate/'\n",
    "            dict1 = read_and_proc.depickle(folderpath+'PCA/PCAdict')\n",
    "\n",
    "        return maria_data, dict1\n",
    "    \n",
    "maria_data, dict1 = preproc_pipeline('Maria','2D','_smooth_preproc_dict1b_g')"
   ]
  },
  {
   "cell_type": "markdown",
   "id": "31fe2239-b5f5-441e-b83e-f042ab25d71a",
   "metadata": {},
   "source": [
    "#### Prediction"
   ]
  },
  {
   "cell_type": "code",
   "execution_count": 4,
   "id": "f9a4ff32-2d19-4a68-bc8f-0dcabdb6693e",
   "metadata": {},
   "outputs": [],
   "source": [
    "folderpath='/work/FAC/FGSE/IDYST/tbeucler/default/freddy0218/TCGphy/testML/output/maria/processed/'\n",
    "modelsDICT = {'model':read_and_proc.depickle(folderpath+'FFW/model'),'reducedX':read_and_proc.depickle(folderpath+'FFW/reducedX'),'newfeature':read_and_proc.depickle(folderpath+'FFW/newfeature')}"
   ]
  },
  {
   "cell_type": "code",
   "execution_count": null,
   "id": "92531e6a-2931-4def-a700-a26a2fb8a588",
   "metadata": {},
   "outputs": [],
   "source": [
    "from sklearn.linear_model import LinearRegression\n",
    "from sklearn.feature_selection import SelectorMixin\n",
    "from sklearn.metrics import r2_score\n",
    "from sklearn.base import BaseEstimator, MetaEstimatorMixin, clone\n",
    "from sklearn.model_selection import cross_val_score\n",
    "\n",
    "def forward_diff(arrayin=None,delta=None,axis=None,LT=1):\n",
    "    result = []\n",
    "    if axis==0:\n",
    "        for i in range(0,arrayin.shape[axis]-LT):\n",
    "            temp = (arrayin[i+LT,:]-arrayin[i,:])/(LT*delta)\n",
    "            result.append(temp)\n",
    "        return np.asarray(result)\n",
    "    \n",
    "class retrieve_cartesian:\n",
    "    def __init__(self,PCA_dict=None,Af_dict=None,numcomp=[11,11,15],LT=None,forecastPC=None,target='all',suffix=None):\n",
    "        self.PCA_dict=PCA_dict\n",
    "        self.numcomp=numcomp\n",
    "        self.forecastPC = forecastPC\n",
    "        self.LT = LT\n",
    "        self.target=target\n",
    "        self.suffix=suffix\n",
    "        \n",
    "    def get_time_diff_terms_intermediate(self,inputvar=None,LT=None,wantvar=None):\n",
    "        def _get_time_diff(array=None,timedelta=60*60,LT=None):\n",
    "            store = []\n",
    "            for exp in array:\n",
    "                a = forward_diff(np.nanmean(exp.reshape(exp.shape[0],10,360,208),axis=2).reshape(exp.shape[0],-1),timedelta,0,LT)\n",
    "                if a.shape[0]>0:\n",
    "                    azero = np.zeros((LT,exp.shape[-1]))\n",
    "                    store.append(np.asarray(a))\n",
    "                    #store.append(np.concatenate((a,azero),axis=0))\n",
    "                else:\n",
    "                    continue\n",
    "                    #store.append(np.zeros((exp.shape[0],exp.shape[-1])))\n",
    "            return store\n",
    "        \n",
    "        storedict = {}\n",
    "        for wantvarZ,wantvarN in enumerate(wantvar):\n",
    "            storedict[wantvarN] = _get_time_diff(array=inputvar[wantvarZ],LT=LT)\n",
    "        return storedict\n",
    "    \n",
    "    def _pop_valid_test(self,examplist=None,validindex=None,testindex=None):\n",
    "        [examplist.pop(i) for i in validindex]\n",
    "        [examplist.pop(i) for i in testindex]\n",
    "        return None\n",
    "        \n",
    "    def windrates_real(self,uvwheatpath=None,LT=None,category='train',validindex=[1,6],testindex=[2,12]):\n",
    "        u = [read_and_proc.depickle(path+uvwheatpath+'mem'+str(lime)+self.suffix)['u'] for lime in (range(1,21))].copy()\n",
    "        v = [read_and_proc.depickle(path+uvwheatpath+'mem'+str(lime)+self.suffix)['v'] for lime in (range(1,21))].copy()\n",
    "        w = [read_and_proc.depickle(path+uvwheatpath+'mem'+str(lime)+self.suffix)['w'] for lime in (range(1,21))].copy()\n",
    "        theta = [read_and_proc.depickle(path+uvwheatpath+'mem'+str(lime)+self.suffix)['theta'] for lime in (range(1,21))].copy()\n",
    "        \n",
    "        if category=='train':\n",
    "            popindex = validindex+testindex\n",
    "            ut = [u[i] for i in range(len(u)) if i not in popindex]\n",
    "            vt = [v[i] for i in range(len(v)) if i not in popindex]\n",
    "            wt = [w[i] for i in range(len(w)) if i not in popindex]\n",
    "            thetat = [theta[i] for i in range(len(theta)) if i not in popindex]\n",
    "            assert len(ut)==16, 'wrong train-valid-test separation!'\n",
    "            dtermsT = self.get_time_diff_terms_intermediate(inputvar=[ut,vt,wt,thetat],LT=LT,wantvar=['u','v','w','theta'])\n",
    "        elif category=='valid':\n",
    "            uv = [u[index] for index in validindex]\n",
    "            vv = [v[index] for index in validindex]\n",
    "            wv = [w[index] for index in validindex]\n",
    "            thetav = [theta[index] for index in validindex]\n",
    "            del u,v,w,theta\n",
    "            gc.collect()\n",
    "            dtermsT = self.get_time_diff_terms_intermediate(inputvar=[uv,vv,wv,thetav],LT=LT,wantvar=['u','v','w','theta'])\n",
    "        elif category=='test':\n",
    "            ut = [u[index] for index in testindex]\n",
    "            vt = [v[index] for index in testindex]\n",
    "            wt = [w[index] for index in testindex]\n",
    "            thetat = [theta[index] for index in testindex]            \n",
    "            del u,v,w,theta\n",
    "            gc.collect()\n",
    "            dtermsT = self.get_time_diff_terms_intermediate(inputvar=[ut,vt,wt,thetat],LT=LT,wantvar=['u','v','w','theta'])            \n",
    "        \n",
    "        dudt = np.concatenate([testx for testx in dtermsT['u']],axis=0)\n",
    "        dvdt = np.concatenate([testx for testx in dtermsT['v']],axis=0)\n",
    "        dwdt = np.concatenate([testx for testx in dtermsT['w']],axis=0)\n",
    "        dthdt = np.concatenate([testx for testx in dtermsT['theta']],axis=0)\n",
    "        del dtermsT\n",
    "        gc.collect()\n",
    "        return dudt,dvdt,dwdt,dthdt\n",
    "    \n",
    "    def output_reshapeRECON(self,forecast_eig=None):\n",
    "        if (self.target=='surface') or (self.target=='alluv'):\n",
    "            testrec_dudt = np.dot(forecast_eig[:,0:self.numcomp[0]],(self.PCA_dict['u'].components_[0:self.numcomp[0]]))#.reshape((91,39,360,167))\n",
    "            testrec_dvdt = np.dot(forecast_eig[:,self.numcomp[0]:self.numcomp[0]+self.numcomp[1]],(self.PCA_dict['v'].components_[0:self.numcomp[1]]))#.reshape((91,39,360,167))\n",
    "            return testrec_dudt,testrec_dvdt\n",
    "        else:\n",
    "            testrec_dudt = np.dot(forecast_eig[:,0:self.numcomp[0]],(self.PCA_dict['u'].components_[0:self.numcomp[0]]))#.reshape((91,39,360,167))\n",
    "            testrec_dvdt = np.dot(forecast_eig[:,self.numcomp[0]:self.numcomp[0]+self.numcomp[1]],(self.PCA_dict['v'].components_[0:self.numcomp[1]]))#.reshape((91,39,360,167))\n",
    "            testrec_dwdt = np.dot(forecast_eig[:,self.numcomp[0]+self.numcomp[1]:self.numcomp[0]+self.numcomp[1]+self.numcomp[2]],(self.PCA_dict['w'].components_[0:self.numcomp[2]]))#.reshape((39,360,167))\n",
    "            testrec_dthdt = np.dot(forecast_eig[:,self.numcomp[0]+self.numcomp[1]+self.numcomp[2]:],(self.PCA_dict['theta'].components_[0:self.numcomp[3]]))#.reshape((39,360,167))\n",
    "            return testrec_dudt,testrec_dvdt,testrec_dwdt,testrec_dthdt\n",
    "        \n",
    "    def conversion_predictPC(self,yforecast=None,mshpe=[39,360,167]):\n",
    "        if self.target=='surface':\n",
    "            t1,t2 = self.output_reshapeRECON(forecast_eig=yforecast)\n",
    "            return (t1.reshape(t1.shape[0],mshpe[0],mshpe[1],mshpe[2])[:,0,:,:]).reshape(t1.shape[0],mshpe[1]*mshpe[2]),(t2.reshape(t2.shape[0],mshpe[0],mshpe[1],mshpe[2])[:,0,:,:]).reshape(t2.shape[0],mshpe[1]*mshpe[2])\n",
    "        elif self.target=='all': \n",
    "            t1,t2,t3,t4 = self.output_reshapeRECON(forecast_eig=yforecast)\n",
    "            return t1,t2,t3,t4\n",
    "        \n",
    "    def output_r2(self,FFWmodels=None,reducedX=None,realU=None,realV=None,realW=None,realTH=None,case='Haiyan'):\n",
    "        yf = [models.predict(Xns) for (models,Xns) in zip(FFWmodels[:],reducedX[:])]\n",
    "        mlr_r2 = []\n",
    "        for i in (range(45)):#len(yf))):\n",
    "            if case=='Maria':\n",
    "                temp1,temp2 = self.conversion_predictPC(yforecast=yf[i],mshpe=[39,360,167])\n",
    "                mlr_r2.append(r2_score(np.concatenate((realU,realV),axis=0),np.concatenate((temp1,temp2),axis=0)))\n",
    "            elif case=='Haiyan':\n",
    "                temp1,temp2,temp3,temp4 = self.conversion_predictPC(yforecast=yf[i],mshpe=[10,360,208])\n",
    "                a = r2_score(np.concatenate((realU,realV,realW,realTH),axis=0),np.concatenate((temp1,temp2,temp3,temp4),axis=0))\n",
    "                mlr_r2.append(a)\n",
    "            elif case=='Haiyan_axisym':\n",
    "                temp1,temp2,temp3,temp4 = self.conversion_predictPC(yforecast=yf[i],mshpe=[10,208])\n",
    "                a = r2_score(np.concatenate((realU,realV,realW,realTH),axis=0),np.concatenate((temp1,temp2,temp3,temp4),axis=0))\n",
    "                mlr_r2.append(a)\n",
    "            del temp1,temp2\n",
    "            gc.collect()\n",
    "        return mlr_r2"
   ]
  }
 ],
 "metadata": {
  "kernelspec": {
   "display_name": "Python 3 (ipykernel)",
   "language": "python",
   "name": "python3"
  },
  "language_info": {
   "codemirror_mode": {
    "name": "ipython",
    "version": 3
   },
   "file_extension": ".py",
   "mimetype": "text/x-python",
   "name": "python",
   "nbconvert_exporter": "python",
   "pygments_lexer": "ipython3",
   "version": "3.9.7"
  }
 },
 "nbformat": 4,
 "nbformat_minor": 5
}
