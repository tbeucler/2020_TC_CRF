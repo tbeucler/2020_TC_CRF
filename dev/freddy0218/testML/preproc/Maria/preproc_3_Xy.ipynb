{
 "cells": [
  {
   "cell_type": "code",
   "execution_count": 1,
   "id": "ab97e482-b260-44c0-9e2b-0587e501fba0",
   "metadata": {},
   "outputs": [
    {
     "name": "stderr",
     "output_type": "stream",
     "text": [
      "/tmp/ipykernel_430177/1773301035.py:20: ProplotWarning: rc setting 'linewidth' was renamed to 'meta.width' in version 0.8.\n",
      "  plot.rc.update({'figure.facecolor':'w','axes.labelweight':'ultralight',\n"
     ]
    }
   ],
   "source": [
    "import warnings\n",
    "warnings.filterwarnings('ignore',category=RuntimeWarning)\n",
    "import xarray as xr\n",
    "import numpy as np\n",
    "import matplotlib as mpl\n",
    "import matplotlib.pyplot as plt\n",
    "import seaborn as sns\n",
    "import glob,os,sys\n",
    "from tqdm.auto import tqdm\n",
    "import proplot as plot\n",
    "import json,pickle\n",
    "import dask.array as da\n",
    "import gc\n",
    "from sklearn.decomposition import PCA\n",
    "sys.path.insert(1, '/work/FAC/FGSE/IDYST/tbeucler/default/freddy0218/TCGphy/2020_TC_CRF/dev/freddy0218/')\n",
    "from tools import derive_var,read_and_proc,preproc_noensemble\n",
    "from tools.mlr import mlr, maria_IO\n",
    "from tools.preprocess import do_eof,preproc_maria,preproc_haiyan\n",
    "%matplotlib inline\n",
    "plot.rc.update({'figure.facecolor':'w','axes.labelweight':'ultralight',\n",
    "                'tick.labelweight':'ultralight','gridminor.linestyle':'--','title.weight':'normal','linewidth':0.5})"
   ]
  },
  {
   "cell_type": "code",
   "execution_count": 2,
   "id": "8b5f3675-fda6-4775-97e7-793482161ea2",
   "metadata": {},
   "outputs": [],
   "source": [
    "def Pipeline(case='Maria',TYPE='3D' or '2D',suffix=None):\n",
    "    \n",
    "    def produce_Xy(PCAdict=None,maria_data=None,nummem=None,divider=None,EXP=None,storename=None):\n",
    "        # Normalized time series (X)\n",
    "        maria_pca_nonorml = maria_IO.input_output( dict1, None, ['u', 'v', 'w', 'qv','theta', 'heatsum', 'hdia', 'rad', 'ir'], nummem ).produce_timeseries( maria_data )\n",
    "        maria_pca_norml = maria_IO.input_output( dict1, None, ['u', 'v', 'w', 'qv','theta', 'heatsum', 'hdia', 'rad', 'ir'], nummem ).normalize_timeseries( maria_pca_nonorml )\n",
    "        # Back to experiments for splitting\n",
    "        exp_pca_norml = maria_IO.input_output( dict1, None, ['u', 'v', 'w', 'qv','theta', 'heatsum', 'hdia', 'rad', 'ir'], nummem ).back_to_exp( maria_pca_norml, divider ) \n",
    "        exp_pca_nonorml = maria_IO.input_output( dict1, None, ['u', 'v', 'w', 'qv','theta', 'heatsum', 'hdia', 'rad', 'ir'], nummem ).back_to_exp( maria_pca_nonorml, divider ) \n",
    "        \n",
    "        X_dict = {}\n",
    "        for ind,obj in enumerate(storename):\n",
    "            test1 = (maria_IO.input_output(dict1,None,['u','v','w','qv','theta','heatsum','hdia','rad','ir'],None).make_X_nosep( exp_pca_norml, EXP[ind]))\n",
    "            X_dict[obj] = test1\n",
    "        yall = maria_IO.input_output( dict1, None, ['u', 'v', 'w', 'qv','theta', 'heatsum', 'hdia', 'rad', 'ir'], nummem ).make_Y_nosep( exp_pca_nonorml, np.linspace(0,35,36)+1)  \n",
    "        return X_dict,yall\n",
    "    \n",
    "    if case=='Maria':\n",
    "        filepath = input('Enter Path:')\n",
    "        #------------------------------------------------------------------------------------------------------------------------------------------\n",
    "        # Import Preprocessed Flat Data and PCA dictionary\n",
    "        #------------------------------------------------------------------------------------------------------------------------------------------\n",
    "        if TYPE=='3D':\n",
    "            tempdict = {}\n",
    "            for varname in ['u','v','w','qv','theta','heatsum','hdia','rad','ir']:\n",
    "                temp = [read_and_proc.depickle(filepath+str(lime)+suffix)[varname] for lime in tqdm(['ctl','ncrf_36h','ncrf_60h','ncrf_96h','lwcrf'])]\n",
    "                tempdict[varname] = maria_IO.long_MariaExps(temp)[0]\n",
    "        elif TYPE=='2D':\n",
    "            tempdict = {}\n",
    "            for varname in ['u','v','w','qv','theta','heatsum','hdia','rad','ir']:\n",
    "                temp = [read_and_proc.depickle(filepath+str(lime)+suffix)[varname] for lime in tqdm(['ctl','ncrf_36h','ncrf_60h','ncrf_96h','lwcrf'])]\n",
    "                tempdict[varname] = maria_IO.long_MariaExps(maria_IO.to_azim(temp))[0]            \n",
    "        #------------------------------------------------------------------------------------------------------------------------------------------\n",
    "        # Save to xarray\n",
    "        #------------------------------------------------------------------------------------------------------------------------------------------\n",
    "        dims = ['sample','flatarray']\n",
    "        coords = dict(sample=np.linspace(0,tempdict['u'].shape[0]-1,tempdict['u'].shape[0]),flatarray=np.linspace(0,tempdict['u'].shape[1]-1,tempdict['u'].shape[1]))\n",
    "        ds = xr.Dataset(coords=coords)\n",
    "        maria_data=preproc_haiyan.build_a_xarray_dataset(ds=ds,varname=['u','v','w','theta','heatsum','hdia','rad','qv','ir'],\\\n",
    "                                                         varfile=[tempdict['u'],tempdict['v'],tempdict['w'],tempdict['theta'],tempdict['heatsum'],tempdict['hdia'],tempdict['rad'],tempdict['qv'],tempdict['ir']],dims=dims,coords=coords)\n",
    "        del tempdict\n",
    "        gc.collect()\n",
    "        #------------------------------------------------------------------------------------------------------------------------------------------\n",
    "        # Import PCA dictionary\n",
    "        #------------------------------------------------------------------------------------------------------------------------------------------\n",
    "        if TYPE=='3D':\n",
    "            folderpath='/work/FAC/FGSE/IDYST/tbeucler/default/freddy0218/TCGphy/testML/output/maria/processed/'\n",
    "            dict1 = read_and_proc.depickle(folderpath+'PCA/PCAdict2')\n",
    "        elif TYPE=='2D':\n",
    "            folderpath='/work/FAC/FGSE/IDYST/tbeucler/default/freddy0218/TCGphy/testML/output/maria/processed/intermediate/'\n",
    "            dict1 = read_and_proc.depickle(folderpath+'PCA/PCAdict')\n",
    "            \n",
    "        print(\"--Start producing Input / Output--\")\n",
    "        #------------------------------------------------------------------------------------------------------------------------------------------\n",
    "        # Create Input/ output\n",
    "        #------------------------------------------------------------------------------------------------------------------------------------------\n",
    "        if TYPE=='3D':\n",
    "            nummem=[54,26,50,5,75,12,12,10,10]\n",
    "        elif TYPE=='2D':\n",
    "            nummem = [20,11,20,5,12,7,7,5,5]\n",
    "        EXP = [['hdia','rad'],['theta','hdia','rad'],['u','v','w','theta','hdia','rad'],['u','v','theta','hdia','rad'],['u','v'],['u','v','w'],['u','v','hdia','rad'],['u','v','w','hdia','rad'],['u','v','w','theta','qv','hdia','rad']]\n",
    "        storename = ['dt','dtth','dtthuvw','dtthuv','uv','uvw','dtuv','dtuvw','dtthuvwqv']\n",
    "        X_dict,yall = produce_Xy(dict1, maria_data, nummem, divider, EXP, storename)\n",
    "        \n",
    "        return maria_data, dict1, X_dict, yall"
   ]
  },
  {
   "cell_type": "code",
   "execution_count": 3,
   "id": "e3f6810e-1083-45f4-95ef-6eed75cad5ba",
   "metadata": {},
   "outputs": [
    {
     "data": {
      "application/vnd.jupyter.widget-view+json": {
       "model_id": "fcd53fee3e3c4c70a4e6ad94f6980be0",
       "version_major": 2,
       "version_minor": 0
      },
      "text/plain": [
       "  0%|          | 0/5 [00:00<?, ?it/s]"
      ]
     },
     "metadata": {},
     "output_type": "display_data"
    }
   ],
   "source": [
    "path = '/work/FAC/FGSE/IDYST/tbeucler/default/freddy0218/'\n",
    "suffix = '_smooth_preproc_dict1b_g'\n",
    "enter = '/work/FAC/FGSE/IDYST/tbeucler/default/freddy0218/TCGphy/2020_TC_CRF/dev/freddy0218/pca/output/uvwheat/preproc2/'\n",
    "\n",
    "maria_u = [read_and_proc.depickle(path+'TCGphy/2020_TC_CRF/dev/freddy0218/pca/output/uvwheat/preproc2/'+str(lime)+suffix)['u'] for lime in tqdm(['ctl','ncrf_36h','ncrf_60h','ncrf_96h','lwcrf'])]\n",
    "divider = np.asarray([maria_u[0][12:].shape[0],maria_u[1][36:].shape[0],maria_u[2][60:].shape[0],maria_u[3][96:].shape[0],maria_u[4][36:].shape[0]]).cumsum()"
   ]
  },
  {
   "cell_type": "code",
   "execution_count": 4,
   "id": "72ef4823-5e3e-467c-bd50-c62ed4b00ff2",
   "metadata": {},
   "outputs": [
    {
     "name": "stdin",
     "output_type": "stream",
     "text": [
      "Enter Path: /work/FAC/FGSE/IDYST/tbeucler/default/freddy0218/TCGphy/2020_TC_CRF/dev/freddy0218/pca/output/uvwheat/preproc2/\n"
     ]
    },
    {
     "data": {
      "application/vnd.jupyter.widget-view+json": {
       "model_id": "a6561128ea52433da928251e0715fa8c",
       "version_major": 2,
       "version_minor": 0
      },
      "text/plain": [
       "  0%|          | 0/5 [00:00<?, ?it/s]"
      ]
     },
     "metadata": {},
     "output_type": "display_data"
    },
    {
     "data": {
      "application/vnd.jupyter.widget-view+json": {
       "model_id": "bdbbbc50d5c6400ab0d707962dfc8556",
       "version_major": 2,
       "version_minor": 0
      },
      "text/plain": [
       "  0%|          | 0/5 [00:00<?, ?it/s]"
      ]
     },
     "metadata": {},
     "output_type": "display_data"
    },
    {
     "data": {
      "application/vnd.jupyter.widget-view+json": {
       "model_id": "c5577af8a93f4cd19cffc6b67dbea83d",
       "version_major": 2,
       "version_minor": 0
      },
      "text/plain": [
       "  0%|          | 0/5 [00:00<?, ?it/s]"
      ]
     },
     "metadata": {},
     "output_type": "display_data"
    },
    {
     "data": {
      "application/vnd.jupyter.widget-view+json": {
       "model_id": "ac53f9c741c14a099b9cac743a430a9f",
       "version_major": 2,
       "version_minor": 0
      },
      "text/plain": [
       "  0%|          | 0/5 [00:00<?, ?it/s]"
      ]
     },
     "metadata": {},
     "output_type": "display_data"
    },
    {
     "data": {
      "application/vnd.jupyter.widget-view+json": {
       "model_id": "1b8b6338ee654b0f8ac63a6038789a5f",
       "version_major": 2,
       "version_minor": 0
      },
      "text/plain": [
       "  0%|          | 0/5 [00:00<?, ?it/s]"
      ]
     },
     "metadata": {},
     "output_type": "display_data"
    },
    {
     "data": {
      "application/vnd.jupyter.widget-view+json": {
       "model_id": "cd304d1443484849b9adbc92f7ee344e",
       "version_major": 2,
       "version_minor": 0
      },
      "text/plain": [
       "  0%|          | 0/5 [00:00<?, ?it/s]"
      ]
     },
     "metadata": {},
     "output_type": "display_data"
    },
    {
     "data": {
      "application/vnd.jupyter.widget-view+json": {
       "model_id": "cf2aaa4bb15f4eb58ede77222436c835",
       "version_major": 2,
       "version_minor": 0
      },
      "text/plain": [
       "  0%|          | 0/5 [00:00<?, ?it/s]"
      ]
     },
     "metadata": {},
     "output_type": "display_data"
    },
    {
     "data": {
      "application/vnd.jupyter.widget-view+json": {
       "model_id": "4d178c356b86409191c1ba86213368fd",
       "version_major": 2,
       "version_minor": 0
      },
      "text/plain": [
       "  0%|          | 0/5 [00:00<?, ?it/s]"
      ]
     },
     "metadata": {},
     "output_type": "display_data"
    },
    {
     "data": {
      "application/vnd.jupyter.widget-view+json": {
       "model_id": "7e56436c050e482085b07c0b630284fb",
       "version_major": 2,
       "version_minor": 0
      },
      "text/plain": [
       "  0%|          | 0/5 [00:00<?, ?it/s]"
      ]
     },
     "metadata": {},
     "output_type": "display_data"
    },
    {
     "name": "stdout",
     "output_type": "stream",
     "text": [
      "--Start producing Input / Output--\n"
     ]
    },
    {
     "data": {
      "application/vnd.jupyter.widget-view+json": {
       "model_id": "e10776cbf60646f4a6f59c272871c7a4",
       "version_major": 2,
       "version_minor": 0
      },
      "text/plain": [
       "0it [00:00, ?it/s]"
      ]
     },
     "metadata": {},
     "output_type": "display_data"
    },
    {
     "data": {
      "application/vnd.jupyter.widget-view+json": {
       "model_id": "213b0e429f7f4182a8a381ebfe44e607",
       "version_major": 2,
       "version_minor": 0
      },
      "text/plain": [
       "0it [00:00, ?it/s]"
      ]
     },
     "metadata": {},
     "output_type": "display_data"
    },
    {
     "data": {
      "application/vnd.jupyter.widget-view+json": {
       "model_id": "ad84f1ac215a46a2b2134a1ea9aee1b7",
       "version_major": 2,
       "version_minor": 0
      },
      "text/plain": [
       "0it [00:00, ?it/s]"
      ]
     },
     "metadata": {},
     "output_type": "display_data"
    },
    {
     "data": {
      "application/vnd.jupyter.widget-view+json": {
       "model_id": "6b8401bbf63842409c766866ff9588c1",
       "version_major": 2,
       "version_minor": 0
      },
      "text/plain": [
       "0it [00:00, ?it/s]"
      ]
     },
     "metadata": {},
     "output_type": "display_data"
    }
   ],
   "source": [
    "maria_data, dict1, X, y = Pipeline('Maria','2D','_smooth_preproc_dict1b_g')"
   ]
  },
  {
   "cell_type": "code",
   "execution_count": 6,
   "id": "d1469f7f-d135-4673-b0b1-0d573428ddef",
   "metadata": {
    "collapsed": true,
    "jupyter": {
     "outputs_hidden": true,
     "source_hidden": true
    },
    "tags": []
   },
   "outputs": [
    {
     "data": {
      "application/vnd.jupyter.widget-view+json": {
       "model_id": "a4f7934eae484958a49fc76884172035",
       "version_major": 2,
       "version_minor": 0
      },
      "text/plain": [
       "  0%|          | 0/5 [00:00<?, ?it/s]"
      ]
     },
     "metadata": {},
     "output_type": "display_data"
    },
    {
     "data": {
      "application/vnd.jupyter.widget-view+json": {
       "model_id": "2767e4fbba2547f5b43a74a8f608baf8",
       "version_major": 2,
       "version_minor": 0
      },
      "text/plain": [
       "  0%|          | 0/5 [00:00<?, ?it/s]"
      ]
     },
     "metadata": {},
     "output_type": "display_data"
    },
    {
     "data": {
      "application/vnd.jupyter.widget-view+json": {
       "model_id": "bbac93c6ce34487bab175965f52d8c30",
       "version_major": 2,
       "version_minor": 0
      },
      "text/plain": [
       "  0%|          | 0/5 [00:00<?, ?it/s]"
      ]
     },
     "metadata": {},
     "output_type": "display_data"
    },
    {
     "data": {
      "application/vnd.jupyter.widget-view+json": {
       "model_id": "eeb36f9e6d7443c7aa08e67ad6c0b257",
       "version_major": 2,
       "version_minor": 0
      },
      "text/plain": [
       "  0%|          | 0/5 [00:00<?, ?it/s]"
      ]
     },
     "metadata": {},
     "output_type": "display_data"
    }
   ],
   "source": [
    "suffix='_smooth_preproc_dict1b_g_dudvdwdth'\n",
    "dudvdwdth = {}\n",
    "for ind,obj in enumerate(['du','dv','dw','dtheta']):\n",
    "    array = [read_and_proc.depickle(path+'TCGphy/2020_TC_CRF/dev/freddy0218/pca/output/uvwheat/preproc2/'+str(lime)+suffix)[obj] for lime in tqdm(['ctl','ncrf_36h','ncrf_60h','ncrf_96h','lwcrf'])]\n",
    "    tempn = [np.nanmean(array[0].reshape(144,39,360,200),axis=2).reshape(144,39*200),np.nanmean(array[1].reshape(144,39,360,200),axis=2).reshape(144,39*200),\\\n",
    "             np.nanmean(array[2].reshape(144,39,360,200),axis=2).reshape(144,39*200),np.nanmean(array[3].reshape(144,39,360,200),axis=2).reshape(144,39*200),\\\n",
    "            np.nanmean(array[4].reshape(144,39,360,200),axis=2).reshape(144,39*200)]\n",
    "    temp = [tempn[0][12:,:],tempn[1][36:,:],tempn[2][60:,:],tempn[3][96:,:],tempn[4][36:,:]]\n",
    "    dudvdwdth[obj] = np.concatenate(temp,axis=0)"
   ]
  },
  {
   "cell_type": "code",
   "execution_count": 10,
   "id": "92aa2649-f934-492d-8450-00be58ea705f",
   "metadata": {},
   "outputs": [
    {
     "data": {
      "text/plain": [
       "[7, 0, 7, 4, 2, 6, 6, 4, 4]"
      ]
     },
     "execution_count": 10,
     "metadata": {},
     "output_type": "execute_result"
    }
   ],
   "source": [
    "#datacheck(b,a,divider).dudvdwVAR(dudvdwdth,'w')\n",
    "#[np.abs(b[obj].explained_variance_ratio_.cumsum()-0.91).argmin() for obj in ['u','v','w','qv','theta','heatsum','hdia','rad','ir']]"
   ]
  },
  {
   "cell_type": "code",
   "execution_count": null,
   "id": "8caff4e4-8232-4d76-b48d-9d3c90e63d43",
   "metadata": {
    "tags": []
   },
   "outputs": [],
   "source": [
    "aaaa = xr.open_dataset('/work/FAC/FGSE/IDYST/tbeucler/default/freddy0218/data/maria/U.nc')\n",
    "fig,axs = plot.subplots(ncols=3,nrows=1,axwidth=4.295,refaspect=1.431)\n",
    "for inx,i in enumerate([0,1,2]):\n",
    "    pcw=axs[inx].contourf(np.linspace(0,199,200)*3,aaaa.pres.data,\n",
    "                   b['rad'].components_[i,:].reshape(39,200),cmap='balance',levels=np.linspace(-0.03,0.03,21),extend='both')\n",
    "    axs[inx].colorbar(pcw,loc='ur',ticks=0.01)\n",
    "    axs[inx].format(title=f'RAD PC#{str(i+1)}, Azimuthal Average')\n",
    "axs.format(xlabel=r'X (km)',ylabel='Y (km)',suptitle='Maria')\n",
    "#plt.savefig('../../figures/0727/maria_important_RAD_azimavg.png',dpi=300)\n",
    "plt.show()"
   ]
  },
  {
   "cell_type": "markdown",
   "id": "872a2bd8-ccc0-48d5-895f-9528787551f3",
   "metadata": {},
   "source": [
    "#### Create input/output"
   ]
  },
  {
   "cell_type": "code",
   "execution_count": 16,
   "id": "e8945c07-2cdc-4b08-9f0c-bb3601cfd33b",
   "metadata": {},
   "outputs": [],
   "source": [
    "nummem = [20,11,20,5,12,7,7,5,5]\n",
    "X_dict_sep = maria_IO.input_output( dict1, None, ['u', 'v', 'w', 'qv','theta', 'heatsum', 'hdia', 'rad', 'ir'], nummem )._back_to_exp( X['dtthuvwqv'], divider ) \n",
    "yall_sep = maria_IO.input_output( dict1, None, ['u', 'v', 'w', 'qv','theta', 'heatsum', 'hdia', 'rad', 'ir'], nummem )._back_to_exp( y[5], divider ) "
   ]
  },
  {
   "cell_type": "code",
   "execution_count": 17,
   "id": "b7900a13-765e-4948-a3c0-a43b78368b15",
   "metadata": {
    "jupyter": {
     "source_hidden": true
    },
    "tags": []
   },
   "outputs": [],
   "source": [
    "def create_index(seed=None,explength=[133,109,85,49,109],percentage=None,findnum=49):\n",
    "    rng = np.random.default_rng(seed)\n",
    "    return [rng.choice(np.linspace(0,explength[i]-1,explength[i]),int(np.round(findnum*percentage[i])),replace=False) for i in range(5)]\n",
    "\n",
    "def sep_train_valid(varlist=None,explength=[133,109,85,49,109]):\n",
    "    def _out_index(length=None,index=None):\n",
    "        return [int(obj) for obj in index], [int(obj) for obj in np.linspace(0,int(length-1),int(length)) if obj not in index]\n",
    "    trainstore,validstore = [],[]\n",
    "    for i in range(len(varlist)):\n",
    "        validindex,trainindex = _out_index(explength[i],indices[i])\n",
    "        validdata,traindata = varlist[i][validindex],varlist[i][trainindex]\n",
    "        trainstore.append(traindata)\n",
    "        validstore.append(validdata)\n",
    "    return trainstore,validstore"
   ]
  },
  {
   "cell_type": "code",
   "execution_count": 27,
   "id": "7053ec52-a2b9-406d-ae45-5e9d63b5fc16",
   "metadata": {
    "tags": []
   },
   "outputs": [],
   "source": [
    "# 3 done\n",
    "Xtrain = np.concatenate([X_dict_sep[i] for i in [0,2,3,4]],axis=0)\n",
    "Xvalid = (X_dict_sep[1])\n",
    "ytrain = (np.concatenate([yall_sep[i] for i in [0,2,3,4]],axis=0))\n",
    "yvalid = (yall_sep[1])"
   ]
  },
  {
   "cell_type": "code",
   "execution_count": 28,
   "id": "78775e17-3fb9-46a8-a8c9-c64854c4f368",
   "metadata": {},
   "outputs": [],
   "source": [
    "def delete_padding(inTS=None,outTS=None):\n",
    "    output_nozero,input_nozero = [],[]\n",
    "    for i in range(len(outTS[:,0])):\n",
    "        temp = outTS[i,:]\n",
    "        tempin = inTS[i,:]\n",
    "        if temp.all()==0:\n",
    "            continue\n",
    "        else:\n",
    "            output_nozero.append(temp)\n",
    "            input_nozero.append(tempin)\n",
    "    return input_nozero,output_nozero"
   ]
  },
  {
   "cell_type": "code",
   "execution_count": 29,
   "id": "fc34549f-7ace-4341-918d-397cf7d9c1a1",
   "metadata": {},
   "outputs": [],
   "source": [
    "folderpath='/work/FAC/FGSE/IDYST/tbeucler/default/freddy0218/TCGphy/testML/output/maria/processed/intermediate/'\n",
    "read_and_proc.save_to_pickle(folderpath+'inputoutput/Xtrain_6_test1',Xtrain,'PICKLE')\n",
    "read_and_proc.save_to_pickle(folderpath+'inputoutput/Xvalid_6_test1',Xvalid,'PICKLE')\n",
    "read_and_proc.save_to_pickle(folderpath+'inputoutput/ytrain_6_test1',ytrain,'PICKLE')\n",
    "read_and_proc.save_to_pickle(folderpath+'inputoutput/yvalid_6_test1',yvalid,'PICKLE')"
   ]
  },
  {
   "cell_type": "code",
   "execution_count": 98,
   "id": "17c062b4-97ab-420e-acb2-69e329353ca3",
   "metadata": {},
   "outputs": [
    {
     "data": {
      "text/plain": [
       "(322, 232)"
      ]
     },
     "execution_count": 98,
     "metadata": {},
     "output_type": "execute_result"
    }
   ],
   "source": [
    "np.asarray(delete_padding(Xtrain[0],ytrain[0])[0]).shape"
   ]
  },
  {
   "cell_type": "code",
   "execution_count": 29,
   "id": "e3227ef3-7724-4e49-a471-f0fee0759c2f",
   "metadata": {},
   "outputs": [
    {
     "data": {
      "text/plain": [
       "(340, 232)"
      ]
     },
     "execution_count": 29,
     "metadata": {},
     "output_type": "execute_result"
    }
   ],
   "source": [
    "np.asarray(delete_padding(Xtrain,ytrain)[0]).shape"
   ]
  },
  {
   "cell_type": "code",
   "execution_count": null,
   "id": "3a944b36-3a1f-4038-b2bd-795422e9c0d3",
   "metadata": {},
   "outputs": [],
   "source": []
  }
 ],
 "metadata": {
  "kernelspec": {
   "display_name": "Python 3 (ipykernel)",
   "language": "python",
   "name": "python3"
  },
  "language_info": {
   "codemirror_mode": {
    "name": "ipython",
    "version": 3
   },
   "file_extension": ".py",
   "mimetype": "text/x-python",
   "name": "python",
   "nbconvert_exporter": "python",
   "pygments_lexer": "ipython3",
   "version": "3.9.7"
  }
 },
 "nbformat": 4,
 "nbformat_minor": 5
}
