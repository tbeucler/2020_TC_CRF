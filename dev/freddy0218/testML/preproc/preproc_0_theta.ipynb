{
 "cells": [
  {
   "cell_type": "code",
   "execution_count": 2,
   "id": "7d72d691-c429-410a-b20b-d8eab4f05824",
   "metadata": {},
   "outputs": [
    {
     "name": "stderr",
     "output_type": "stream",
     "text": [
      "/tmp/ipykernel_1633897/2347411816.py:21: ProplotWarning: rc setting 'linewidth' was renamed to 'meta.width' in version 0.8.\n",
      "  plot.rc.update({'figure.facecolor':'w','axes.labelweight':'ultralight',\n"
     ]
    }
   ],
   "source": [
    "import warnings\n",
    "warnings.filterwarnings('ignore',category=RuntimeWarning)\n",
    "import xarray as xr\n",
    "import numpy as np\n",
    "import matplotlib as mpl\n",
    "import matplotlib.pyplot as plt\n",
    "import seaborn as sns\n",
    "import glob,os\n",
    "from tqdm.auto import tqdm\n",
    "import datetime\n",
    "import proplot as plot\n",
    "from netCDF4 import Dataset\n",
    "import os,sys,gc\n",
    "sys.path.insert(1, '/work/FAC/FGSE/IDYST/tbeucler/default/freddy0218/TCGphy/2020_TC_CRF/dev/freddy0218/scikit/')\n",
    "from tools import derive_var,read_and_proc\n",
    "from tools.mlr import mlr\n",
    "from tools.preprocess import do_eof,preproc_maria\n",
    "\n",
    "%matplotlib inline\n",
    "\n",
    "plot.rc.update({'figure.facecolor':'w','axes.labelweight':'ultralight',\n",
    "                'tick.labelweight':'ultralight','gridminor.linestyle':'--','title.weight':'normal','linewidth':0.5})"
   ]
  },
  {
   "cell_type": "markdown",
   "id": "85faee46-4d0a-4989-ac63-b9d1e473e442",
   "metadata": {},
   "source": [
    "#### Read in stuff"
   ]
  },
  {
   "cell_type": "code",
   "execution_count": 3,
   "id": "5fd85f04-7365-4814-9882-06b583efd2e1",
   "metadata": {},
   "outputs": [],
   "source": [
    "origin_path = '/scratch/06040/tg853394/tc/output/redux/maria/'\n",
    "#############################################################\n",
    "path_coor = '/work/FAC/FGSE/IDYST/tbeucler/default/freddy0218/data/haiyan/U.nc'\n",
    "coor = xr.open_dataset(path_coor)\n",
    "maria_coorpres = [1000.,  975.,  950.,  925.,  900.,  875.,  850.,  825.,  800.,  775.,\n",
    "        750.,  725.,  700.,  675.,  650.,  625.,  600.,  575.,  550.,  525.,\n",
    "        500.,  475.,  450.,  425.,  400.,  375.,  350.,  325.,  300.,  275.,\n",
    "        250.,  225.,  200.,  175.,  150.,  125.,  100.,   75.,   50.]\n",
    "#Function####################################################\n",
    "import json,pickle\n",
    "def read_some_azimuth_fields(fileloc=None,fieldname=None):\n",
    "    dict_name = {}\n",
    "    for inx,obj in enumerate(fileloc):\n",
    "        field_read = xr.open_dataset(obj)\n",
    "        dict_name[fieldname[inx]] = field_read\n",
    "    return dict_name\n",
    "def nearest_index(array, value):\n",
    "    idx = (np.abs(array-value)).argmin()\n",
    "    return idx.values\n",
    "def save_to_pickle(loc=None,var=None):\n",
    "    with open(loc,\"wb\") as f:\n",
    "        pickle.dump(var,f)\n",
    "    return None"
   ]
  },
  {
   "cell_type": "markdown",
   "id": "8067a303-5eac-4238-8cb0-71eca65fffa7",
   "metadata": {
    "tags": []
   },
   "source": [
    "#### Potential Temperature"
   ]
  },
  {
   "cell_type": "code",
   "execution_count": 5,
   "id": "052ffc80-fa00-4d13-b026-d1237fe2935b",
   "metadata": {
    "tags": []
   },
   "outputs": [],
   "source": [
    "def do_theta(originpath=None,coor_pres=coor.pres,savepath=None,number=None,exp=None,TC='haiyan'):\n",
    "    \"\"\"\n",
    "    Derive theta and save to /scratch\n",
    "    \"\"\"\n",
    "    if TC=='haiyan':\n",
    "        coorpres = coor.pres\n",
    "        ctrlvar_dict = read_some_azimuth_fields(fileloc=[originpath+'mem'+str(int(number))+'/azim_T_0-168hr_track1.nc'],fieldname=['T'])        \n",
    "        lwcrf_theta = derive_var.do_theta(ctrlvar_dict['T']['T'],coorpres)\n",
    "        read_and_proc.save_to_pickle(savepath+'mem'+str(int(number))+'_theta',lwcrf_theta)\n",
    "        del ctrlvar_dict,lwcrf_theta\n",
    "        gc.collect()\n",
    "        return None\n",
    "    elif TC=='maria':\n",
    "        coorpres = coor_pres\n",
    "        ctrlvar_dict = read_some_azimuth_fields(fileloc=[glob.glob(originpath+exp+'/azim_T*')[0]],fieldname=['T'])        \n",
    "        lwcrf_theta = derive_var.do_theta(ctrlvar_dict['T']['T'],coorpres)\n",
    "        read_and_proc.save_to_pickle(savepath+exp+'_theta',lwcrf_theta)\n",
    "        del ctrlvar_dict,lwcrf_theta\n",
    "        gc.collect()\n",
    "        return None\n",
    "#azim_T_0-168hr_track1.nc"
   ]
  },
  {
   "cell_type": "code",
   "execution_count": 28,
   "id": "c9dfa6a1-89a7-409d-9d04-699cbf639161",
   "metadata": {},
   "outputs": [],
   "source": [
    "#a = read_some_azimuth_fields(fileloc=['/work/FAC/FGSE/IDYST/tbeucler/default/freddy0218/data/haiyan/'+'mem'+str(int(3))+'/azim_T_0-168hr_track1.nc'],fieldname=['T'])['T']\n",
    "a = read_some_azimuth_fields(fileloc=['/work/FAC/FGSE/IDYST/tbeucler/default/freddy0218/data/haiyan/'+'mem'+str(int(3))+'/azim_T_0-168hr_track1.nc'],fieldname=['T'])['T']\n",
    "aqv = read_some_azimuth_fields(fileloc=['/work/FAC/FGSE/IDYST/tbeucler/default/freddy0218/data/haiyan/'+'mem'+str(int(3))+'/azim_QVAPOR_0-168hr_track1.nc'],fieldname=['QVAPOR'])['QVAPOR']"
   ]
  },
  {
   "cell_type": "code",
   "execution_count": 32,
   "id": "5f91e567-b8df-45d8-a08a-2279d82ce85e",
   "metadata": {},
   "outputs": [],
   "source": [
    "a = read_some_azimuth_fields(fileloc=['/work/FAC/FGSE/IDYST/tbeucler/default/freddy0218/data/haiyan/'+'mem'+str(int(3))+'/azim_T_0-168hr_track1.nc'],fieldname=['T'])['T']\n",
    "aqv = read_some_azimuth_fields(fileloc=['/work/FAC/FGSE/IDYST/tbeucler/default/freddy0218/data/haiyan/'+'mem'+str(int(3))+'/azim_QVAPOR_0-168hr_track1.nc'],fieldname=['QVAPOR'])['QVAPOR']\n",
    "aaaa = derive_var.do_rh(aqv['QVAPOR'],a['T'],coor.pres)"
   ]
  },
  {
   "cell_type": "code",
   "execution_count": 6,
   "id": "a69e7937-f00c-4796-b0af-6399545e5c3e",
   "metadata": {
    "tags": []
   },
   "outputs": [
    {
     "data": {
      "application/vnd.jupyter.widget-view+json": {
       "model_id": "64b804c849b34eecaf9c458149839755",
       "version_major": 2,
       "version_minor": 0
      },
      "text/plain": [
       "  0%|          | 0/1 [00:00<?, ?it/s]"
      ]
     },
     "metadata": {},
     "output_type": "display_data"
    },
    {
     "ename": "FileNotFoundError",
     "evalue": "[Errno 2] No such file or directory: '/work/FAC/FGSE/IDYST/tbeucler/default/freddy0218/TCGphy/testML/output/haiyan/mem1_theta'",
     "output_type": "error",
     "traceback": [
      "\u001b[0;31m---------------------------------------------------------------------------\u001b[0m",
      "\u001b[0;31mFileNotFoundError\u001b[0m                         Traceback (most recent call last)",
      "Input \u001b[0;32mIn [6]\u001b[0m, in \u001b[0;36m<cell line: 3>\u001b[0;34m()\u001b[0m\n\u001b[1;32m      1\u001b[0m \u001b[38;5;66;03m#for i in tqdm(['ncrf_96h']):#'ctl','ncrf_36h','ncrf_60h','lwcrf']):\u001b[39;00m\n\u001b[1;32m      2\u001b[0m \u001b[38;5;66;03m#    do_theta(originpath='/work/FAC/FGSE/IDYST/tbeucler/default/freddy0218/data/maria/',coor_pres=maria_coorpres,savepath='/work/FAC/FGSE/IDYST/tbeucler/default/freddy0218/TCGphy/testML/output/maria/',number=None,exp=i,TC='maria')\u001b[39;00m\n\u001b[1;32m      3\u001b[0m \u001b[38;5;28;01mfor\u001b[39;00m i \u001b[38;5;129;01min\u001b[39;00m tqdm(\u001b[38;5;28mrange\u001b[39m(\u001b[38;5;241m1\u001b[39m,\u001b[38;5;241m2\u001b[39m)):\n\u001b[0;32m----> 4\u001b[0m     \u001b[43mdo_theta\u001b[49m\u001b[43m(\u001b[49m\u001b[43moriginpath\u001b[49m\u001b[38;5;241;43m=\u001b[39;49m\u001b[38;5;124;43m'\u001b[39;49m\u001b[38;5;124;43m/work/FAC/FGSE/IDYST/tbeucler/default/freddy0218/data/haiyan/\u001b[39;49m\u001b[38;5;124;43m'\u001b[39;49m\u001b[43m,\u001b[49m\u001b[43mcoor_pres\u001b[49m\u001b[38;5;241;43m=\u001b[39;49m\u001b[43mcoor\u001b[49m\u001b[38;5;241;43m.\u001b[39;49m\u001b[43mpres\u001b[49m\u001b[43m,\u001b[49m\u001b[43msavepath\u001b[49m\u001b[38;5;241;43m=\u001b[39;49m\u001b[38;5;124;43m'\u001b[39;49m\u001b[38;5;124;43m/work/FAC/FGSE/IDYST/tbeucler/default/freddy0218/TCGphy/testML/output/haiyan/\u001b[39;49m\u001b[38;5;124;43m'\u001b[39;49m\u001b[43m,\u001b[49m\u001b[43mnumber\u001b[49m\u001b[38;5;241;43m=\u001b[39;49m\u001b[43mi\u001b[49m\u001b[43m)\u001b[49m\n",
      "Input \u001b[0;32mIn [5]\u001b[0m, in \u001b[0;36mdo_theta\u001b[0;34m(originpath, coor_pres, savepath, number, exp, TC)\u001b[0m\n\u001b[1;32m      7\u001b[0m ctrlvar_dict \u001b[38;5;241m=\u001b[39m read_some_azimuth_fields(fileloc\u001b[38;5;241m=\u001b[39m[originpath\u001b[38;5;241m+\u001b[39m\u001b[38;5;124m'\u001b[39m\u001b[38;5;124mmem\u001b[39m\u001b[38;5;124m'\u001b[39m\u001b[38;5;241m+\u001b[39m\u001b[38;5;28mstr\u001b[39m(\u001b[38;5;28mint\u001b[39m(number))\u001b[38;5;241m+\u001b[39m\u001b[38;5;124m'\u001b[39m\u001b[38;5;124m/azim_T_0-168hr_track1.nc\u001b[39m\u001b[38;5;124m'\u001b[39m],fieldname\u001b[38;5;241m=\u001b[39m[\u001b[38;5;124m'\u001b[39m\u001b[38;5;124mT\u001b[39m\u001b[38;5;124m'\u001b[39m])        \n\u001b[1;32m      8\u001b[0m lwcrf_theta \u001b[38;5;241m=\u001b[39m derive_var\u001b[38;5;241m.\u001b[39mdo_theta(ctrlvar_dict[\u001b[38;5;124m'\u001b[39m\u001b[38;5;124mT\u001b[39m\u001b[38;5;124m'\u001b[39m][\u001b[38;5;124m'\u001b[39m\u001b[38;5;124mT\u001b[39m\u001b[38;5;124m'\u001b[39m],coorpres)\n\u001b[0;32m----> 9\u001b[0m \u001b[43mread_and_proc\u001b[49m\u001b[38;5;241;43m.\u001b[39;49m\u001b[43msave_to_pickle\u001b[49m\u001b[43m(\u001b[49m\u001b[43msavepath\u001b[49m\u001b[38;5;241;43m+\u001b[39;49m\u001b[38;5;124;43m'\u001b[39;49m\u001b[38;5;124;43mmem\u001b[39;49m\u001b[38;5;124;43m'\u001b[39;49m\u001b[38;5;241;43m+\u001b[39;49m\u001b[38;5;28;43mstr\u001b[39;49m\u001b[43m(\u001b[49m\u001b[38;5;28;43mint\u001b[39;49m\u001b[43m(\u001b[49m\u001b[43mnumber\u001b[49m\u001b[43m)\u001b[49m\u001b[43m)\u001b[49m\u001b[38;5;241;43m+\u001b[39;49m\u001b[38;5;124;43m'\u001b[39;49m\u001b[38;5;124;43m_theta\u001b[39;49m\u001b[38;5;124;43m'\u001b[39;49m\u001b[43m,\u001b[49m\u001b[43mlwcrf_theta\u001b[49m\u001b[43m)\u001b[49m\n\u001b[1;32m     10\u001b[0m \u001b[38;5;28;01mdel\u001b[39;00m ctrlvar_dict,lwcrf_theta\n\u001b[1;32m     11\u001b[0m gc\u001b[38;5;241m.\u001b[39mcollect()\n",
      "File \u001b[0;32m/work/FAC/FGSE/IDYST/tbeucler/default/freddy0218/TCGphy/2020_TC_CRF/dev/freddy0218/scikit/tools/read_and_proc.py:44\u001b[0m, in \u001b[0;36msave_to_pickle\u001b[0;34m(loc, var, TYPE)\u001b[0m\n\u001b[1;32m     42\u001b[0m \u001b[38;5;28;01mdef\u001b[39;00m \u001b[38;5;21msave_to_pickle\u001b[39m(loc\u001b[38;5;241m=\u001b[39m\u001b[38;5;28;01mNone\u001b[39;00m,var\u001b[38;5;241m=\u001b[39m\u001b[38;5;28;01mNone\u001b[39;00m,TYPE\u001b[38;5;241m=\u001b[39m\u001b[38;5;124m'\u001b[39m\u001b[38;5;124mPICKLE\u001b[39m\u001b[38;5;124m'\u001b[39m):\n\u001b[1;32m     43\u001b[0m     \u001b[38;5;28;01mif\u001b[39;00m TYPE\u001b[38;5;241m==\u001b[39m\u001b[38;5;124m'\u001b[39m\u001b[38;5;124mPICKLE\u001b[39m\u001b[38;5;124m'\u001b[39m:\n\u001b[0;32m---> 44\u001b[0m         \u001b[38;5;28;01mwith\u001b[39;00m \u001b[38;5;28;43mopen\u001b[39;49m\u001b[43m(\u001b[49m\u001b[43mloc\u001b[49m\u001b[43m,\u001b[49m\u001b[38;5;124;43m\"\u001b[39;49m\u001b[38;5;124;43mwb\u001b[39;49m\u001b[38;5;124;43m\"\u001b[39;49m\u001b[43m)\u001b[49m \u001b[38;5;28;01mas\u001b[39;00m f:\n\u001b[1;32m     45\u001b[0m             pickle\u001b[38;5;241m.\u001b[39mdump(var,f)\n\u001b[1;32m     46\u001b[0m         \u001b[38;5;28;01mreturn\u001b[39;00m \u001b[38;5;28;01mNone\u001b[39;00m\n",
      "\u001b[0;31mFileNotFoundError\u001b[0m: [Errno 2] No such file or directory: '/work/FAC/FGSE/IDYST/tbeucler/default/freddy0218/TCGphy/testML/output/haiyan/mem1_theta'"
     ]
    }
   ],
   "source": [
    "#for i in tqdm(['ncrf_96h']):#'ctl','ncrf_36h','ncrf_60h','lwcrf']):\n",
    "#    do_theta(originpath='/work/FAC/FGSE/IDYST/tbeucler/default/freddy0218/data/maria/',coor_pres=maria_coorpres,savepath='/work/FAC/FGSE/IDYST/tbeucler/default/freddy0218/TCGphy/testML/output/maria/',number=None,exp=i,TC='maria')\n",
    "for i in tqdm(range(1,2)):\n",
    "    do_theta(originpath='/work/FAC/FGSE/IDYST/tbeucler/default/freddy0218/data/haiyan/',coor_pres=coor.pres,savepath='/work/FAC/FGSE/IDYST/tbeucler/default/freddy0218/TCGphy/testML/output/haiyan/',number=i)"
   ]
  },
  {
   "cell_type": "markdown",
   "id": "aea68b95-2302-4d19-9dad-1af2b8e0f96d",
   "metadata": {},
   "source": [
    "#### Radial/Tangential Velocities"
   ]
  },
  {
   "cell_type": "code",
   "execution_count": 4,
   "id": "4ce85518-a662-401b-9f67-2b44a267823a",
   "metadata": {},
   "outputs": [],
   "source": [
    "def do_uradvtan(originpath=None,coor_pres=coor.pres,savepath=None,number=None,radius=None,exp=None,TC='haiyan'):\n",
    "    \"\"\"\n",
    "    Derive urad/vtan and save to /scratch\n",
    "    \"\"\"\n",
    "    if TC=='haiyan':\n",
    "        ctrlvar_dict = read_some_azimuth_fields(fileloc=[originpath+'mem'+str(int(number))+'/azim_U_0-168hr_track1.nc',\\\n",
    "                                                         originpath+'mem'+str(int(number))+'/azim_V_0-168hr_track1.nc'],fieldname=['U','V'])\n",
    "        r500 = nearest_index(ctrlvar_dict['U']['U'].radius,radius)\n",
    "        ctrlhUrad,ctrlhVtan,_ = derive_var.ruppert_vtmax_calc(ctrlvar_dict['U']['U'].data,ctrlvar_dict['V']['V'].data,r500,ctrlvar_dict['U']['U'][:,0,:,:].azmiuth.values,None)\n",
    "        read_and_proc.save_to_pickle(savepath+'mem'+str(int(number))+'_urad',ctrlhUrad)\n",
    "        read_and_proc.save_to_pickle(savepath+'mem'+str(int(number))+'_vtan',ctrlhVtan)\n",
    "        del ctrlvar_dict,ctrlhUrad,ctrlhVtan\n",
    "        gc.collect()\n",
    "        return None\n",
    "    elif TC=='maria':\n",
    "        ctrlvar_dict = read_some_azimuth_fields(fileloc=[glob.glob(originpath+exp+'/azim_U_*')[0],\\\n",
    "                                                         glob.glob(originpath+exp+'/azim_V_*')[0]],fieldname=['U','V'])\n",
    "        r500 = nearest_index(ctrlvar_dict['U']['U'].radius,radius)\n",
    "        ctrlhUrad,ctrlhVtan,_ = derive_var.ruppert_vtmax_calc(ctrlvar_dict['U']['U'].data,ctrlvar_dict['V']['V'].data,r500,ctrlvar_dict['U']['U'][:,0,:,:].azmiuth.values,None)\n",
    "        assert np.asarray(ctrlhUrad).shape[0]==39, 'axis shape error' \n",
    "        read_and_proc.save_to_pickle(savepath+exp+'_urad',ctrlhUrad)\n",
    "        read_and_proc.save_to_pickle(savepath+exp+'_vtan',ctrlhVtan)\n",
    "        del ctrlvar_dict,ctrlhUrad,ctrlhVtan\n",
    "        gc.collect()\n",
    "        return None"
   ]
  },
  {
   "cell_type": "code",
   "execution_count": 7,
   "id": "29d22f09-9946-4371-8f4e-71fe5eaeb992",
   "metadata": {},
   "outputs": [
    {
     "data": {
      "text/plain": [
       "<module 'tools.derive_var' from '/work/FAC/FGSE/IDYST/tbeucler/default/freddy0218/TCGphy/2020_TC_CRF/dev/freddy0218/tools/derive_var.py'>"
      ]
     },
     "execution_count": 7,
     "metadata": {},
     "output_type": "execute_result"
    }
   ],
   "source": [
    "import importlib\n",
    "importlib.reload(derive_var)"
   ]
  },
  {
   "cell_type": "code",
   "execution_count": 5,
   "id": "b092d740-f5d7-4359-a202-4e0c0592cdef",
   "metadata": {},
   "outputs": [
    {
     "name": "stderr",
     "output_type": "stream",
     "text": [
      "100%|██████████████████████████████████████████████████████████████████████████████████████| 5/5 [01:16<00:00, 15.23s/it]\n"
     ]
    }
   ],
   "source": [
    "from tqdm import tqdm\n",
    "for i in tqdm(['ctl','ncrf_36h','ncrf_60h','ncrf_96h','lwcrf']):\n",
    "    do_uradvtan(originpath='/work/FAC/FGSE/IDYST/tbeucler/default/freddy0218/data/maria/',coor_pres=maria_coorpres,savepath='/work/FAC/FGSE/IDYST/tbeucler/default/freddy0218/TCGphy/testML/output/maria/',number=None,exp=i,TC='maria',radius=600)\n",
    "#for i in tqdm(range(1,21)):\n",
    "#    do_uradvtan(originpath='/work/FAC/FGSE/IDYST/tbeucler/default/freddy0218/data/haiyan/',coor_pres=coor.pres,savepath='/work/FAC/FGSE/IDYST/tbeucler/default/freddy0218/TCGphy/testML/output/haiyan/',number=i,\n",
    "#               radius=625)"
   ]
  },
  {
   "cell_type": "markdown",
   "id": "44088b48-f46c-4a9a-b19d-9816eca9e588",
   "metadata": {},
   "source": [
    "#### Relative Humidity"
   ]
  },
  {
   "cell_type": "code",
   "execution_count": 38,
   "id": "5295578c-c18d-4d5e-be35-b9889fccce3f",
   "metadata": {},
   "outputs": [],
   "source": [
    "def do_rh(originpath=None,coor_pres=coor.pres,savepath=None,number=None,exp=None,TC='haiyan'):\n",
    "    \"\"\"\n",
    "    Derive theta and save to /scratch\n",
    "    \"\"\"\n",
    "    if TC=='haiyan':\n",
    "        coorpres = coor.pres\n",
    "        ctrlvar_dict = read_some_azimuth_fields(fileloc=[originpath+'mem'+str(int(number))+'/azim_T_0-168hr_track1.nc',\\\n",
    "                                                        originpath+'mem'+str(int(number))+'/azim_QVAPOR_0-168hr_track1.nc'],fieldname=['T','QVAPOR'])        \n",
    "        lwcrf_theta = derive_var.do_rh(ctrlvar_dict['QVAPOR']['QVAPOR'],ctrlvar_dict['T']['T'],coorpres)\n",
    "        read_and_proc.save_to_pickle(savepath+'mem'+str(int(number))+'_rh',lwcrf_theta)\n",
    "        del ctrlvar_dict,lwcrf_theta\n",
    "        gc.collect()\n",
    "        return None\n",
    "    elif TC=='maria':\n",
    "        coorpres = coor_pres\n",
    "        ctrlvar_dict = read_some_azimuth_fields(fileloc=[glob.glob(originpath+exp+'/azim_T*')[0],\\\n",
    "                                                        glob.glob(originpath+exp+'/azim_QVAPOR*')[0]],fieldname=['T','QVAPOR'])        \n",
    "        lwcrf_theta = derive_var.do_rh(ctrlvar_dict['QVAPOR']['QVAPOR'],ctrlvar_dict['T']['T'],coorpres)\n",
    "        read_and_proc.save_to_pickle(savepath+exp+'_rh',lwcrf_theta)\n",
    "        del ctrlvar_dict,lwcrf_theta\n",
    "        gc.collect()\n",
    "        return None"
   ]
  },
  {
   "cell_type": "code",
   "execution_count": 41,
   "id": "ca9f8bb7-b649-42cb-b884-5100eeece904",
   "metadata": {},
   "outputs": [
    {
     "data": {
      "application/vnd.jupyter.widget-view+json": {
       "model_id": "d9fecc0835e84b0ab745a707450f3760",
       "version_major": 2,
       "version_minor": 0
      },
      "text/plain": [
       "  0%|          | 0/20 [00:00<?, ?it/s]"
      ]
     },
     "metadata": {},
     "output_type": "display_data"
    }
   ],
   "source": [
    "#for i in tqdm(['ncrf_96h']):#'ctl','ncrf_36h','ncrf_60h','lwcrf']):\n",
    "#    do_theta(originpath='/work/FAC/FGSE/IDYST/tbeucler/default/freddy0218/data/maria/',coor_pres=maria_coorpres,savepath='/work/FAC/FGSE/IDYST/tbeucler/default/freddy0218/TCGphy/testML/output/maria/',number=None,exp=i,TC='maria')\n",
    "for i in tqdm(range(1,21)):\n",
    "    do_rh(originpath='/work/FAC/FGSE/IDYST/tbeucler/default/freddy0218/data/haiyan/',coor_pres=coor.pres,\\\n",
    "          savepath='/work/FAC/FGSE/IDYST/tbeucler/default/freddy0218/TCGphy/2020_TC_CRF/dev/freddy0218/testML/output/haiyan/',number=i)"
   ]
  },
  {
   "cell_type": "code",
   "execution_count": null,
   "id": "2acd4177-42a5-4848-8e1f-f657042647aa",
   "metadata": {},
   "outputs": [],
   "source": []
  }
 ],
 "metadata": {
  "kernelspec": {
   "display_name": "Python 3 (ipykernel)",
   "language": "python",
   "name": "python3"
  },
  "language_info": {
   "codemirror_mode": {
    "name": "ipython",
    "version": 3
   },
   "file_extension": ".py",
   "mimetype": "text/x-python",
   "name": "python",
   "nbconvert_exporter": "python",
   "pygments_lexer": "ipython3",
   "version": "3.9.7"
  }
 },
 "nbformat": 4,
 "nbformat_minor": 5
}
