{
 "cells": [
  {
   "cell_type": "code",
   "execution_count": 1,
   "id": "2a266ba1-4f33-4dc1-a744-9d7a1eb13ec5",
   "metadata": {},
   "outputs": [
    {
     "name": "stderr",
     "output_type": "stream",
     "text": [
      "/tmp/ipykernel_3217441/2472673958.py:24: ProplotWarning: rc setting 'linewidth' was renamed to 'meta.width' in version 0.8.\n",
      "  plot.rc.update({'figure.facecolor':'w','axes.labelweight':'ultralight',\n"
     ]
    }
   ],
   "source": [
    "import warnings\n",
    "warnings.filterwarnings('ignore',category=RuntimeWarning)\n",
    "import xarray as xr\n",
    "import numpy as np\n",
    "import matplotlib as mpl\n",
    "import matplotlib.pyplot as plt\n",
    "import seaborn as sns\n",
    "import glob,os,sys\n",
    "from tqdm.auto import tqdm\n",
    "import proplot as plot\n",
    "import json,pickle\n",
    "import dask.array as da\n",
    "import gc\n",
    "from sklearn.decomposition import PCA\n",
    "sys.path.insert(1, '/work/FAC/FGSE/IDYST/tbeucler/default/freddy0218/TCGphy/2020_TC_CRF/dev/freddy0218/')\n",
    "from tools import derive_var,read_and_proc,preproc_noensemble\n",
    "from tools.mlr import mlr,proc_mlrfcst,maria_IO\n",
    "from tools.preprocess import do_eof,preproc_maria,preproc_haiyan\n",
    "sys.path.insert(2, '/work/FAC/FGSE/IDYST/tbeucler/default/freddy0218/TCGphy/testML/')\n",
    "import feature_select\n",
    "from dask.distributed import Client\n",
    "client = Client(processes=True, threads_per_worker=1,n_workers=2)\n",
    "%matplotlib inline\n",
    "plot.rc.update({'figure.facecolor':'w','axes.labelweight':'ultralight',\n",
    "                'tick.labelweight':'ultralight','gridminor.linestyle':'--','title.weight':'normal','linewidth':0.5})"
   ]
  },
  {
   "cell_type": "markdown",
   "id": "6c801dae-ab76-452b-8cf3-e624d826ff9d",
   "metadata": {},
   "source": [
    "#### Read data"
   ]
  },
  {
   "cell_type": "code",
   "execution_count": 3,
   "id": "1ad65621-d334-4a5e-ab0b-06592c355e74",
   "metadata": {
    "tags": []
   },
   "outputs": [
    {
     "data": {
      "application/vnd.jupyter.widget-view+json": {
       "model_id": "e4e3688c0ac54aa9b8e943d73cfcfa49",
       "version_major": 2,
       "version_minor": 0
      },
      "text/plain": [
       "  0%|          | 0/20 [00:00<?, ?it/s]"
      ]
     },
     "metadata": {},
     "output_type": "display_data"
    },
    {
     "data": {
      "application/vnd.jupyter.widget-view+json": {
       "model_id": "757ecab4b127493798c4f4f8d741b535",
       "version_major": 2,
       "version_minor": 0
      },
      "text/plain": [
       "  0%|          | 0/20 [00:00<?, ?it/s]"
      ]
     },
     "metadata": {},
     "output_type": "display_data"
    },
    {
     "data": {
      "application/vnd.jupyter.widget-view+json": {
       "model_id": "0b5523f5f6614965a988c6cae180f573",
       "version_major": 2,
       "version_minor": 0
      },
      "text/plain": [
       "  0%|          | 0/20 [00:00<?, ?it/s]"
      ]
     },
     "metadata": {},
     "output_type": "display_data"
    },
    {
     "data": {
      "application/vnd.jupyter.widget-view+json": {
       "model_id": "1284814e2abf419a958fba818cb4acba",
       "version_major": 2,
       "version_minor": 0
      },
      "text/plain": [
       "  0%|          | 0/20 [00:00<?, ?it/s]"
      ]
     },
     "metadata": {},
     "output_type": "display_data"
    },
    {
     "data": {
      "application/vnd.jupyter.widget-view+json": {
       "model_id": "1de3757e43ce4f0a89549fef4a48e8ae",
       "version_major": 2,
       "version_minor": 0
      },
      "text/plain": [
       "  0%|          | 0/20 [00:00<?, ?it/s]"
      ]
     },
     "metadata": {},
     "output_type": "display_data"
    },
    {
     "data": {
      "application/vnd.jupyter.widget-view+json": {
       "model_id": "9a872b3c6e36456f80dc1587b1f5f28f",
       "version_major": 2,
       "version_minor": 0
      },
      "text/plain": [
       "  0%|          | 0/20 [00:00<?, ?it/s]"
      ]
     },
     "metadata": {},
     "output_type": "display_data"
    },
    {
     "data": {
      "application/vnd.jupyter.widget-view+json": {
       "model_id": "1e456f8363b24c2ead669d8826e03602",
       "version_major": 2,
       "version_minor": 0
      },
      "text/plain": [
       "  0%|          | 0/20 [00:00<?, ?it/s]"
      ]
     },
     "metadata": {},
     "output_type": "display_data"
    },
    {
     "data": {
      "application/vnd.jupyter.widget-view+json": {
       "model_id": "4525e97f6c0c4ceaab817e377ec9c672",
       "version_major": 2,
       "version_minor": 0
      },
      "text/plain": [
       "  0%|          | 0/20 [00:00<?, ?it/s]"
      ]
     },
     "metadata": {},
     "output_type": "display_data"
    },
    {
     "data": {
      "application/vnd.jupyter.widget-view+json": {
       "model_id": "70eba60e24034ef79e2ebb0e0347d167",
       "version_major": 2,
       "version_minor": 0
      },
      "text/plain": [
       "  0%|          | 0/20 [00:00<?, ?it/s]"
      ]
     },
     "metadata": {},
     "output_type": "display_data"
    }
   ],
   "source": [
    "path = '/work/FAC/FGSE/IDYST/tbeucler/default/freddy0218/'\n",
    "suffix = '_smooth_preproc_dict1b_g'\n",
    "a = [read_and_proc.depickle(path+'TCGphy/testML/output/haiyan/processed/uvwheat/'+'mem'+str(lime)+suffix)['u'].shape for lime in tqdm(range(1,21))]\n",
    "# divide experiments reference\n",
    "divider = np.asarray([aobj[0] for aobj in a]).cumsum()\n",
    "\n",
    "haiyan_u = np.concatenate([read_and_proc.depickle(path+'TCGphy/testML/output/haiyan/processed/uvwheat/'+'mem'+str(lime)+suffix)['u'] for lime in tqdm(range(1,21))],axis=0)\n",
    "haiyan_v = np.concatenate([read_and_proc.depickle(path+'TCGphy/testML/output/haiyan/processed/uvwheat/'+'mem'+str(lime)+suffix)['v'] for lime in tqdm(range(1,21))],axis=0)\n",
    "haiyan_w = np.concatenate([read_and_proc.depickle(path+'TCGphy/testML/output/haiyan/processed/uvwheat/'+'mem'+str(lime)+suffix)['w'] for lime in tqdm(range(1,21))],axis=0)\n",
    "haiyan_qv = np.concatenate([read_and_proc.depickle(path+'TCGphy/testML/output/haiyan/processed/uvwheat/'+'mem'+str(lime)+suffix)['qv'] for lime in tqdm(range(1,21))],axis=0)\n",
    "haiyan_theta = np.concatenate([read_and_proc.depickle(path+'TCGphy/testML/output/haiyan/processed/uvwheat/'+'mem'+str(lime)+suffix)['theta'] for lime in tqdm(range(1,21))],axis=0)\n",
    "haiyan_heatsum = np.concatenate([read_and_proc.depickle(path+'TCGphy/testML/output/haiyan/processed/uvwheat/'+'mem'+str(lime)+suffix)['heatsum'] for lime in tqdm(range(1,21))],axis=0)\n",
    "haiyan_hdia = np.concatenate([read_and_proc.depickle(path+'TCGphy/testML/output/haiyan/processed/uvwheat/'+'mem'+str(lime)+suffix)['hdia'] for lime in tqdm(range(1,21))],axis=0)\n",
    "haiyan_rad = np.concatenate([read_and_proc.depickle(path+'TCGphy/testML/output/haiyan/processed/uvwheat/'+'mem'+str(lime)+suffix)['rad'] for lime in tqdm(range(1,21))],axis=0)\n",
    "haiyan_ir = np.concatenate([read_and_proc.depickle(path+'TCGphy/testML/output/haiyan/processed/uvwheat/'+'mem'+str(lime)+suffix)['ir'] for lime in tqdm(range(1,21))],axis=0)\n",
    "\n",
    "folderpath='/work/FAC/FGSE/IDYST/tbeucler/default/freddy0218/TCGphy/testML/output/haiyan/processed/'\n",
    "PCAdict,dict2 = read_and_proc.depickle(folderpath+'pca/PCA'+'_'+'dict1_g'),read_and_proc.depickle(folderpath+'pca/PCA'+'_'+'dict2_g') #dict1: u,v,w,theta,hdia,rad; dict2:qv,ir\n",
    "PCAdict['qv'] = (dict2['qv'])\n",
    "PCAdict['ir'] = (dict2['ir'])\n",
    "\n",
    "dims = ['sample','flatarray']\n",
    "coords = dict(sample=np.linspace(0,haiyan_u.shape[0]-1,haiyan_u.shape[0]),flatarray=np.linspace(0,haiyan_u.shape[1]-1,haiyan_u.shape[1]))\n",
    "\n",
    "ds = xr.Dataset(coords=coords)\n",
    "haiyan_data=preproc_haiyan.build_a_xarray_dataset(ds=ds,varname=['u','v','w','theta','heatsum','hdia','rad','qv','ir'],\\\n",
    "                                   varfile=[haiyan_u,haiyan_v,haiyan_w,haiyan_theta,haiyan_heatsum,haiyan_hdia,haiyan_rad,haiyan_qv,haiyan_ir],dims=dims,coords=coords)\n",
    "del haiyan_u,haiyan_v,haiyan_w,haiyan_theta,haiyan_heatsum,haiyan_hdia,haiyan_rad\n",
    "gc.collect()"
   ]
  },
  {
   "cell_type": "code",
   "execution_count": 4,
   "id": "cc826d24-3c65-422b-ad0e-9ac18398f6fd",
   "metadata": {},
   "outputs": [
    {
     "data": {
      "text/plain": [
       "222"
      ]
     },
     "execution_count": 4,
     "metadata": {},
     "output_type": "execute_result"
    }
   ],
   "source": [
    "folderpath='/work/FAC/FGSE/IDYST/tbeucler/default/freddy0218/TCGphy/testML/output/haiyan/processed/'\n",
    "PCAdict,dict2 = read_and_proc.depickle(folderpath+'pca/PCA'+'_'+'dict1_g'),read_and_proc.depickle(folderpath+'pca/PCA'+'_'+'dict2_g') #dict1: u,v,w,theta,hdia,rad; dict2:qv,ir\n",
    "PCAdict['qv'] = (dict2['qv'])\n",
    "PCAdict['ir'] = (dict2['ir'])\n",
    "\n",
    "dims = ['sample','flatarray']\n",
    "coords = dict(sample=np.linspace(0,haiyan_u.shape[0]-1,haiyan_u.shape[0]),flatarray=np.linspace(0,haiyan_u.shape[1]-1,haiyan_u.shape[1]))\n",
    "\n",
    "ds = xr.Dataset(coords=coords)\n",
    "haiyan_data=preproc_haiyan.build_a_xarray_dataset(ds=ds,varname=['u','v','w','theta','heatsum','hdia','rad','qv','ir'],\\\n",
    "                                   varfile=[haiyan_u,haiyan_v,haiyan_w,haiyan_theta,haiyan_heatsum,haiyan_hdia,haiyan_rad,haiyan_qv,haiyan_ir],dims=dims,coords=coords)\n",
    "del haiyan_u,haiyan_v,haiyan_w,haiyan_theta,haiyan_heatsum,haiyan_hdia,haiyan_rad\n",
    "gc.collect()"
   ]
  },
  {
   "cell_type": "code",
   "execution_count": 5,
   "id": "f143ee6c-2da5-4145-aec5-40573093b164",
   "metadata": {},
   "outputs": [],
   "source": [
    "folderpath='/work/FAC/FGSE/IDYST/tbeucler/default/freddy0218/TCGphy/testML/output/haiyan/processed/'\n",
    "Xtrain = read_and_proc.depickle(folderpath+'pca/X/Xtrain'+'_'+'dict_g')\n",
    "Xvalid = read_and_proc.depickle(folderpath+'pca/X/Xvalid'+'_'+'dict_g')\n",
    "Xtest = read_and_proc.depickle(folderpath+'pca/X/Xtest'+'_'+'dict_g')\n",
    "yall = read_and_proc.depickle(folderpath+'pca/y/allY'+'_'+'dict_g')"
   ]
  },
  {
   "cell_type": "markdown",
   "id": "c01e514f-47de-491e-9633-649527009a13",
   "metadata": {},
   "source": [
    "#### Import real du/dv data (for R2)"
   ]
  },
  {
   "cell_type": "code",
   "execution_count": 20,
   "id": "371bcf94-bbe7-494b-878e-60bdb36a2117",
   "metadata": {},
   "outputs": [],
   "source": [
    "def forward_diff(arrayin=None,delta=None,axis=None,LT=1):\n",
    "    result = []\n",
    "    if axis==0:\n",
    "        for i in range(0,arrayin.shape[axis]-LT):\n",
    "            temp = (arrayin[i+LT,:]-arrayin[i,:])/(LT*delta)\n",
    "            result.append(temp)\n",
    "        return np.asarray(result)\n",
    "    \n",
    "class retrieve_cartesian:\n",
    "    def __init__(self,PCA_dict=None,Af_dict=None,numcomp=[11,11,15],LT=None,forecastPC=None,target='all',suffix=None):\n",
    "        self.PCA_dict=PCA_dict\n",
    "        self.numcomp=numcomp\n",
    "        self.forecastPC = forecastPC\n",
    "        self.LT = LT\n",
    "        self.target=target\n",
    "        self.suffix=suffix\n",
    "        \n",
    "    def get_time_diff_terms(self,inputvar=None,LT=None,wantvar=None):\n",
    "        def _get_time_diff(array=None,timedelta=60*60,LT=None):\n",
    "            store = []\n",
    "            for exp in array:\n",
    "                a = forward_diff(exp,timedelta,0,LT)\n",
    "                if a.shape[0]>0:\n",
    "                    azero = np.zeros((LT,exp.shape[-1]))\n",
    "                    store.append(np.asarray(a))\n",
    "                    #store.append(np.concatenate((a,azero),axis=0))\n",
    "                else:\n",
    "                    continue\n",
    "                    #store.append(np.zeros((exp.shape[0],exp.shape[-1])))\n",
    "            return store\n",
    "        \n",
    "        storedict = {}\n",
    "        for wantvarZ,wantvarN in enumerate(wantvar):\n",
    "            storedict[wantvarN] = _get_time_diff(array=inputvar[wantvarZ],LT=LT)\n",
    "        return storedict\n",
    "    \n",
    "    def _pop_valid_test(self,examplist=None,validindex=None,testindex=None):\n",
    "        [examplist.pop(i) for i in validindex]\n",
    "        [examplist.pop(i) for i in testindex]\n",
    "        return None\n",
    "        \n",
    "    def windrates_real(self,uvwheatpath=None,LT=None,category='train',validindex=[1,6],testindex=[2,12]):\n",
    "        u = [read_and_proc.depickle(path+uvwheatpath+'mem'+str(lime)+self.suffix)['u'] for lime in tqdm(range(1,21))].copy()\n",
    "        v = [read_and_proc.depickle(path+uvwheatpath+'mem'+str(lime)+self.suffix)['v'] for lime in tqdm(range(1,21))].copy()\n",
    "        w = [read_and_proc.depickle(path+uvwheatpath+'mem'+str(lime)+self.suffix)['w'] for lime in tqdm(range(1,21))].copy()\n",
    "        theta = [read_and_proc.depickle(path+uvwheatpath+'mem'+str(lime)+self.suffix)['theta'] for lime in tqdm(range(1,21))].copy()\n",
    "        \n",
    "        if category=='train':\n",
    "            self._pop_valid_test(u,validindex,testindex)\n",
    "            self._pop_valid_test(v,validindex,testindex)\n",
    "            self._pop_valid_test(w,validindex,testindex)\n",
    "            self._pop_valid_test(theta,validindex,testindex)\n",
    "            assert len(u)==16, 'wrong train-valid-test separation!'\n",
    "            dtermsT = self.get_time_diff_terms(inputvar=[u,v,w,theta],LT=LT,wantvar=['u','v','w','theta'])\n",
    "        elif category=='valid':\n",
    "            uv = [u[index] for index in validindex]\n",
    "            vv = [v[index] for index in validindex]\n",
    "            wv = [w[index] for index in validindex]\n",
    "            thetav = [theta[index] for index in validindex]\n",
    "            del u,v,w,theta\n",
    "            gc.collect()\n",
    "            dtermsT = self.get_time_diff_terms(inputvar=[uv,vv,wv,thetav],LT=LT,wantvar=['u','v','w','theta'])\n",
    "        elif category=='test':\n",
    "            ut = [u[index] for index in testindex]\n",
    "            vt = [v[index] for index in testindex]\n",
    "            wt = [w[index] for index in testindex]\n",
    "            thetat = [theta[index] for index in testindex]            \n",
    "            del u,v,w,theta\n",
    "            gc.collect()\n",
    "            dtermsT = self.get_time_diff_terms(inputvar=[ut,vt,wt,thetat],LT=LT,wantvar=['u','v','w','theta'])            \n",
    "        \n",
    "        dudt = np.concatenate([testx for testx in dtermsT['u']],axis=0)\n",
    "        dvdt = np.concatenate([testx for testx in dtermsT['v']],axis=0)\n",
    "        dwdt = np.concatenate([testx for testx in dtermsT['w']],axis=0)\n",
    "        dthdt = np.concatenate([testx for testx in dtermsT['theta']],axis=0)\n",
    "        del dtermsT\n",
    "        gc.collect()\n",
    "        return dudt,dvdt,dwdt,dthdt\n",
    "    \n",
    "    def output_reshapeRECON(self,forecast_eig=None):\n",
    "        if (self.target=='surface') or (self.target=='alluv'):\n",
    "            testrec_dudt = np.dot(forecast_eig[:,0:self.numcomp[0]],(self.PCA_dict['u'].components_[0:self.numcomp[0]]))#.reshape((91,39,360,167))\n",
    "            testrec_dvdt = np.dot(forecast_eig[:,self.numcomp[0]:self.numcomp[0]+self.numcomp[1]],(self.PCA_dict['v'].components_[0:self.numcomp[1]]))#.reshape((91,39,360,167))\n",
    "            return testrec_dudt,testrec_dvdt\n",
    "        else:\n",
    "            testrec_dudt = np.dot(forecast_eig[:,0:self.numcomp[0]],(self.PCA_dict['u'].components_[0:self.numcomp[0]]))#.reshape((91,39,360,167))\n",
    "            testrec_dvdt = np.dot(forecast_eig[:,self.numcomp[0]:self.numcomp[0]+self.numcomp[1]],(self.PCA_dict['v'].components_[0:self.numcomp[1]]))#.reshape((91,39,360,167))\n",
    "            testrec_dwdt = np.dot(forecast_eig[:,self.numcomp[0]+self.numcomp[1]:self.numcomp[0]+self.numcomp[1]+self.numcomp[2]],(self.PCA_dict['w'].components_[0:self.numcomp[2]]))#.reshape((39,360,167))\n",
    "            testrec_dthdt = np.dot(forecast_eig[:,self.numcomp[0]+self.numcomp[1]+self.numcomp[2]:],(self.PCA_dict['theta'].components_[0:self.numcomp[3]]))#.reshape((39,360,167))\n",
    "            return testrec_dudt,testrec_dvdt,testrec_dwdt,testrec_dthdt\n",
    "        \n",
    "    def conversion_predictPC(self,yforecast=None,mshpe=[39,360,167]):\n",
    "        if self.target=='surface':\n",
    "            t1,t2 = self.output_reshapeRECON(forecast_eig=yforecast)\n",
    "            return (t1.reshape(t1.shape[0],mshpe[0],mshpe[1],mshpe[2])[:,0,:,:]).reshape(t1.shape[0],mshpe[1]*mshpe[2]),(t2.reshape(t2.shape[0],mshpe[0],mshpe[1],mshpe[2])[:,0,:,:]).reshape(t2.shape[0],mshpe[1]*mshpe[2])\n",
    "        elif self.target=='alluv':\n",
    "            t1,t2 = self.output_reshapeRECON(forecast_eig=yforecast)\n",
    "            return t1,t2\n",
    "        elif self.target=='all': \n",
    "            t1,t2,t3,t4 = self.output_reshapeRECON(forecast_eig=yforecast)\n",
    "            return t1,t2,t3,t4\n",
    "        \n",
    "    def output_r2(self,FFWmodels=None,reducedX=None,realU=None,realV=None,realW=None,realTH=None,case='Haiyan'):\n",
    "        yf = [models.predict(Xns) for (models,Xns) in zip(FFWmodels[:],reducedX[:])]\n",
    "        mlr_r2 = []\n",
    "        for i in (range(45)):#len(yf))):\n",
    "            if case=='Maria':\n",
    "                temp1,temp2 = self.conversion_predictPC(yforecast=yf[i],mshpe=[39,360,167])\n",
    "                mlr_r2.append(r2_score(np.concatenate((realU,realV),axis=0),np.concatenate((temp1,temp2),axis=0)))\n",
    "            elif case=='Haiyan':\n",
    "                try:\n",
    "                    temp1,temp2 = self.conversion_predictPC(yforecast=yf[i],mshpe=[10,360,208])\n",
    "                    a = r2_score(np.concatenate((realU,realV),axis=0),np.concatenate((temp1,temp2),axis=0))\n",
    "                    print(a)\n",
    "                    mlr_r2.append(a)\n",
    "                except:\n",
    "                    temp1,temp2,temp3,temp4 = self.conversion_predictPC(yforecast=yf[i],mshpe=[10,360,208])\n",
    "                    a = r2_score(np.concatenate((realU,realV,realW,realTH),axis=0),np.concatenate((temp1,temp2,temp3,temp4),axis=0))\n",
    "                    print(a)\n",
    "                    mlr_r2.append(a)\n",
    "            del temp1,temp2\n",
    "            gc.collect()\n",
    "        return mlr_r2"
   ]
  },
  {
   "cell_type": "code",
   "execution_count": 7,
   "id": "7c4c8ab3-794b-4076-ac1f-9e1e1321e07b",
   "metadata": {
    "tags": []
   },
   "outputs": [
    {
     "data": {
      "application/vnd.jupyter.widget-view+json": {
       "model_id": "8f4f753eea49451cb0b52b997737c5ce",
       "version_major": 2,
       "version_minor": 0
      },
      "text/plain": [
       "  0%|          | 0/20 [00:00<?, ?it/s]"
      ]
     },
     "metadata": {},
     "output_type": "display_data"
    },
    {
     "data": {
      "application/vnd.jupyter.widget-view+json": {
       "model_id": "ae8d8333f27e413d8f1c7f6de4271da2",
       "version_major": 2,
       "version_minor": 0
      },
      "text/plain": [
       "  0%|          | 0/20 [00:00<?, ?it/s]"
      ]
     },
     "metadata": {},
     "output_type": "display_data"
    },
    {
     "data": {
      "application/vnd.jupyter.widget-view+json": {
       "model_id": "01c7b53d6c7945219507af3491ae0902",
       "version_major": 2,
       "version_minor": 0
      },
      "text/plain": [
       "  0%|          | 0/20 [00:00<?, ?it/s]"
      ]
     },
     "metadata": {},
     "output_type": "display_data"
    },
    {
     "data": {
      "application/vnd.jupyter.widget-view+json": {
       "model_id": "e587c5c0b1e04783a215ac42e04e32b5",
       "version_major": 2,
       "version_minor": 0
      },
      "text/plain": [
       "  0%|          | 0/20 [00:00<?, ?it/s]"
      ]
     },
     "metadata": {},
     "output_type": "display_data"
    },
    {
     "data": {
      "application/vnd.jupyter.widget-view+json": {
       "model_id": "4b960b3197164f9b85e465ffdbe18d13",
       "version_major": 2,
       "version_minor": 0
      },
      "text/plain": [
       "  0%|          | 0/20 [00:00<?, ?it/s]"
      ]
     },
     "metadata": {},
     "output_type": "display_data"
    },
    {
     "data": {
      "application/vnd.jupyter.widget-view+json": {
       "model_id": "c122def79a9042b4b9c32a9f68119d2a",
       "version_major": 2,
       "version_minor": 0
      },
      "text/plain": [
       "  0%|          | 0/20 [00:00<?, ?it/s]"
      ]
     },
     "metadata": {},
     "output_type": "display_data"
    },
    {
     "data": {
      "application/vnd.jupyter.widget-view+json": {
       "model_id": "836098ba28a84a069bd6dbf43305678c",
       "version_major": 2,
       "version_minor": 0
      },
      "text/plain": [
       "  0%|          | 0/20 [00:00<?, ?it/s]"
      ]
     },
     "metadata": {},
     "output_type": "display_data"
    },
    {
     "data": {
      "application/vnd.jupyter.widget-view+json": {
       "model_id": "719c1e6740dd4d52877f9e6e825123b0",
       "version_major": 2,
       "version_minor": 0
      },
      "text/plain": [
       "  0%|          | 0/20 [00:00<?, ?it/s]"
      ]
     },
     "metadata": {},
     "output_type": "display_data"
    },
    {
     "data": {
      "application/vnd.jupyter.widget-view+json": {
       "model_id": "da78fd73d9024acb8e061fe5bfa607af",
       "version_major": 2,
       "version_minor": 0
      },
      "text/plain": [
       "  0%|          | 0/20 [00:00<?, ?it/s]"
      ]
     },
     "metadata": {},
     "output_type": "display_data"
    },
    {
     "data": {
      "application/vnd.jupyter.widget-view+json": {
       "model_id": "95989f1430e8499f9d5f804e6fdb9697",
       "version_major": 2,
       "version_minor": 0
      },
      "text/plain": [
       "  0%|          | 0/20 [00:00<?, ?it/s]"
      ]
     },
     "metadata": {},
     "output_type": "display_data"
    },
    {
     "data": {
      "application/vnd.jupyter.widget-view+json": {
       "model_id": "a430bcec0148414593691ed6b38a096a",
       "version_major": 2,
       "version_minor": 0
      },
      "text/plain": [
       "  0%|          | 0/20 [00:00<?, ?it/s]"
      ]
     },
     "metadata": {},
     "output_type": "display_data"
    },
    {
     "data": {
      "application/vnd.jupyter.widget-view+json": {
       "model_id": "f199ad2cb02e437c833fab022a3eea9a",
       "version_major": 2,
       "version_minor": 0
      },
      "text/plain": [
       "  0%|          | 0/20 [00:00<?, ?it/s]"
      ]
     },
     "metadata": {},
     "output_type": "display_data"
    }
   ],
   "source": [
    "def output_realdterms(category='train',varnum=2,LT=24):\n",
    "    if varnum==2:\n",
    "        a,b,_,_ = retrieve_cartesian(PCA_dict=None,Af_dict=haiyan_data,numcomp=None,LT=24,forecastPC=None,\\\n",
    "                                  target='all',suffix=suffix).windrates_real(uvwheatpath='TCGphy/testML/output/haiyan/processed/uvwheat/',\\\n",
    "                                                                             LT=LT,category=category,validindex=[1,6],testindex=[2,12])\n",
    "        return a,b\n",
    "    elif varnum==4:\n",
    "        a,b,c,d = retrieve_cartesian(PCA_dict=None,Af_dict=haiyan_data,numcomp=None,LT=24,forecastPC=None,\\\n",
    "                                  target='all',suffix=suffix).windrates_real(uvwheatpath='TCGphy/testML/output/haiyan/processed/uvwheat/',\\\n",
    "                                                                             LT=LT,category=category,validindex=[1,6],testindex=[2,12])     \n",
    "        return a,b,c,d\n",
    "lti=6\n",
    "realdu,realdv,realdw,realdtheta = output_realdterms(category='train',varnum=4,LT=lti)\n",
    "realdu_valid,realdv_valid,realdw_valid,realdtheta_valid = output_realdterms(category='valid',varnum=4,LT=lti)\n",
    "realdu_test,realdv_test,realdw_test,realdtheta_test = output_realdterms(category='test',varnum=4,LT=lti)"
   ]
  },
  {
   "cell_type": "code",
   "execution_count": 8,
   "id": "d8fce49b-a350-4d63-b711-0f1b43949fa7",
   "metadata": {},
   "outputs": [],
   "source": [
    "realsurfu,realsurfv = realdu.reshape(realdu.shape[0],10,360,208)[:,0,:,:].reshape(realdu.shape[0],360*208),realdv.reshape(realdv.shape[0],10,360,208)[:,0,:,:].reshape(realdu.shape[0],360*208)\n",
    "realsurfu_valid,realsurfv_valid = realdu_valid.reshape(realdu_valid.shape[0],10,360,208)[:,0,:,:].reshape(realdu_valid.shape[0],360*208),realdv_valid.reshape(realdv_valid.shape[0],10,360,208)[:,0,:,:].reshape(realdu_valid.shape[0],360*208)\n",
    "realsurfu_test,realsurfv_test = realdu_test.reshape(realdu_test.shape[0],10,360,208)[:,0,:,:].reshape(realdu_test.shape[0],360*208),realdv_test.reshape(realdv_test.shape[0],10,360,208)[:,0,:,:].reshape(realdu_test.shape[0],360*208)"
   ]
  },
  {
   "cell_type": "code",
   "execution_count": 9,
   "id": "8181e2c1-dfa5-47e5-bb7d-edbae7a00a2e",
   "metadata": {},
   "outputs": [],
   "source": [
    "from sklearn.feature_selection import SelectorMixin\n",
    "from sklearn.metrics import r2_score\n",
    "from sklearn.base import BaseEstimator, MetaEstimatorMixin, clone\n",
    "from sklearn.model_selection import cross_val_score\n",
    "import numpy as np\n",
    "import gc\n",
    "import importlib\n",
    "importlib.reload(proc_mlrfcst)\n",
    "importlib.reload(mlr)\n",
    "\n",
    "class forwardfeatureadder(BaseEstimator,SelectorMixin,MetaEstimatorMixin):\n",
    "    \"\"\"Transformer to add feature at a sequential order\n",
    "    Parameters:\n",
    "    estimator: Regression model\n",
    "    n_features_to_select: number of features to add to the model\n",
    "    cv: how many folds would we want during cross-validation\n",
    "    n_jobs: Parallelization\n",
    "    startfeatures: Features we would like to include in the model without cross-validation [we do this to accentuate the role of heating]\n",
    "    \n",
    "    Output:\n",
    "    self instance\n",
    "    \"\"\"\n",
    "    def __init__(self,estimator,n_features_to_select=None,cv=5,n_jobs=None,startfeatures=None,PCAdict=None,Afdict=None,numcomp=None,LT=None,optigoal='surface',Xsurf=None,Ysurf=None):\n",
    "        self.estimator = estimator\n",
    "        self.n_features_to_select = n_features_to_select\n",
    "        self.cv = cv\n",
    "        self.n_jobs = n_jobs\n",
    "        self.startfeatures = startfeatures\n",
    "        self.PCAdict = PCAdict\n",
    "        self.Afdict = Afdict\n",
    "        self.numcomp = numcomp\n",
    "        self.LT = LT\n",
    "        self.optigoal = optigoal\n",
    "        self.Xsurf=Xsurf\n",
    "        self.Ysurf=Ysurf\n",
    "    \n",
    "    def get_real_winds(self):\n",
    "        temp1,temp2,temp3,temp4 = proc_mlrfcst.retrieve_cartesian(PCA_dict=self.PCAdict,Af_dict=self.Afdict,numcomp=self.numcomp,LT=self.LT,\n",
    "                            forecastPC=None).windrates_real(LT=self.LT)\n",
    "        return temp1,temp2,temp3,temp4\n",
    "    \n",
    "    def convert_forecast_winds(self,yforecast=None):\n",
    "        try:\n",
    "            temp1,temp2,temp3,temp4 = proc_mlrfcst.retrieve_cartesian(PCA_dict=self.PCAdict,Af_dict=self.Afdict,numcomp=self.numcomp,LT=self.LT,\n",
    "                                                                      forecastPC=yforecast).output_reshapeRECON(forecast_eig=yforecast[int(self.LT[i]-1)])\n",
    "            return temp1,temp2,temp3,temp4\n",
    "        except:\n",
    "            temp1,temp2 = proc_mlrfcst.retrieve_cartesian(PCA_dict=self.PCAdict,Af_dict=self.Afdict,numcomp=self.numcomp,LT=self.LT,\n",
    "                                                                      forecastPC=yforecast,target='surface').output_reshapeRECON(forecast_eig=yforecast)        \n",
    "            return temp1,temp2\n",
    "    \n",
    "    def fit(self, X,y=None):\n",
    "        \"\"\"Learn features to select from X.\n",
    "        X (n_samples,n_features): Training vectors\n",
    "        Y (n_samples): Target values\n",
    "        \"\"\"\n",
    "        # Define basic settings\n",
    "        n_features = X.shape[1]\n",
    "        current_mask = np.zeros(shape=n_features,dtype=bool)\n",
    "        for index in self.startfeatures:\n",
    "            current_mask[index] = True\n",
    "        n_iteractions = self.n_features_to_select\n",
    "        \n",
    "        # Do forward selection\n",
    "        addinput,r2 = [],[]\n",
    "        clone_estimator = clone(self.estimator)\n",
    "        for _ in range(n_iteractions):\n",
    "            #new_feature_idx,r2t = self.get_best_new_feature_R2based(clone_estimator,X,y,current_mask)\n",
    "            new_feature_idx = self.get_best_new_feature(clone_estimator,X,y,current_mask)\n",
    "            #r2.append(r2t)\n",
    "            current_mask[new_feature_idx] = True\n",
    "            addinput.append(current_mask)\n",
    "        \n",
    "        self.support_ = current_mask\n",
    "        self.new_feature = new_feature_idx\n",
    "        self.r2 = r2\n",
    "        return self\n",
    "    \n",
    "    def get_best_new_feature(self,estimator,X,y,current_mask):\n",
    "        candidate_feature_indices = np.flatnonzero(~current_mask)\n",
    "        scores={}\n",
    "        for feature_idx in candidate_feature_indices:\n",
    "            candidate_mask = current_mask.copy()\n",
    "            candidate_mask[feature_idx] = True\n",
    "            \n",
    "            # Add a new feature\n",
    "            X_new = X[:,candidate_mask]\n",
    "            # Improvement\n",
    "            scores[feature_idx] = cross_val_score(estimator,X_new,y,cv=self.cv,scoring=None,n_jobs=self.n_jobs).mean()\n",
    "        return max(scores,key=lambda feature_idx: scores[feature_idx])\n",
    "    \n",
    "    #--------------------------------------------------------------\n",
    "    # To do -> Add featureselector based on r2\n",
    "    # Candidate mask -> Xnew\n",
    "    # fit linear model with (Xnew,y)\n",
    "    # {output r2 term [time consideration => target: surface u/v]}...repeat for all u/v/w/theta members\n",
    "    # get component index that results in best r2 score\n",
    "    # --------[[Exit loops when r2 reaches 0.75?]]-----------------\n",
    "    # add to mask during fitting \n",
    "    #---------------------------------------------------------------------------------------------------\n",
    "    def get_best_new_feature_R2based(self,estimator,X,y,current_mask):             \n",
    "        candidate_feature_indices = np.flatnonzero(~current_mask)\n",
    "        scores={}\n",
    "        for feature_idx in candidate_feature_indices:\n",
    "            candidate_mask = current_mask.copy()\n",
    "            candidate_mask[feature_idx] = True\n",
    "            # Add a new feature\n",
    "            X_new = X[:,candidate_mask]\n",
    "            # Improvement\n",
    "            LDTME = np.linspace(0,44,45)+1\n",
    "            y_forecast = mlr.model_fitpredict(X_new,y,estimator,LDTME).modelfit(singleLT=True)[0].predict(X_new)\n",
    "            #################################################################################################################################################################################################################\n",
    "            # Forecast winds\n",
    "            #################################################################################################################################################################################################################\n",
    "            if self.optigoal=='surface':\n",
    "                teMP1,teMP2 = self.convert_forecast_winds(y_forecast)\n",
    "                teMP1s,teMP2s = (teMP1.reshape(teMP1.shape[0],39,360,167)[:,0,:,:]).reshape(teMP1.shape[0],360*167),(teMP2.reshape(teMP2.shape[0],39,360,167)[:,0,:,:]).reshape(teMP2.shape[0],360*167)\n",
    "                del teMP1,teMP2\n",
    "                gc.collect()\n",
    "                scores[feature_idx] = r2_score(np.concatenate((self.Xsurf,self.Ysurf),axis=0),np.concatenate((teMP1s,teMP2s),axis=0))\n",
    "            else:\n",
    "                teMP1,teMP2,teMP3,teMP4 = self.convert_forecast_winds(y_forecast)                \n",
    "                scores[feature_idx] = r2_score(np.concatenate((reteMP1,reteMP2,reteMP3,reteMP4),axis=0),np.concatenate((teMP1,teMP2,teMP3,teMP4),axis=0))\n",
    "        return max(scores,key=lambda feature_idx: scores[feature_idx]),max(scores.values())\n",
    "    \n",
    "    def _get_support_mask(self):\n",
    "        return self.support_"
   ]
  },
  {
   "cell_type": "markdown",
   "id": "fb1f5529-9105-4f43-a2f5-65652bf8cf97",
   "metadata": {
    "tags": []
   },
   "source": [
    "#### Train"
   ]
  },
  {
   "cell_type": "code",
   "execution_count": 11,
   "id": "03f75fae-b420-428c-a0da-e816d1b5bd05",
   "metadata": {},
   "outputs": [],
   "source": [
    "from sklearn.linear_model import LinearRegression\n",
    "# Initiate model\n",
    "nummem = [50,38,91,8]#[54,26,50,75]\n",
    "linreg = LinearRegression()\n",
    "lti = 6\n",
    "ytrain = [yobj[0] for yobj in yall]\n",
    "mlrIN,mlrOUT = mlr.SimpleIOhandler(LT=lti,auxIN=None).transform(Xtrain['dtthuvw'],ytrain)"
   ]
  },
  {
   "cell_type": "code",
   "execution_count": 12,
   "id": "d3ca1932-871f-4839-a93c-6fe83526fc0b",
   "metadata": {
    "tags": []
   },
   "outputs": [
    {
     "data": {
      "application/vnd.jupyter.widget-view+json": {
       "model_id": "425404f37a4249c4b8948aa1c274899c",
       "version_major": 2,
       "version_minor": 0
      },
      "text/plain": [
       "  0%|          | 0/120 [00:00<?, ?it/s]"
      ]
     },
     "metadata": {},
     "output_type": "display_data"
    }
   ],
   "source": [
    "model,reducedX,new_feature = [],[],[]\n",
    "holdmem = [int(obj) for obj in np.linspace(269,289-1,20)]\n",
    "for i in tqdm(range(120)):#np.asarray(mlrIN).shape[1]-20)):\n",
    "    seq_temp = forwardfeatureadder(linreg,1,9,4,holdmem,\\\n",
    "                                   PCAdict,haiyan_data,nummem,lti,'surface',None,None).fit(np.asarray(mlrIN),mlrOUT)\n",
    "    holdmem.append(seq_temp.new_feature)\n",
    "    new_feature.append(seq_temp.new_feature)\n",
    "    Xn = seq_temp.transform(np.asarray(mlrIN)) #Remove unimportant features\n",
    "    ridge_reduced = LinearRegression().fit(Xn,mlrOUT) #Train model with reduced input\n",
    "    model.append(ridge_reduced)\n",
    "    reducedX.append(Xn)"
   ]
  },
  {
   "cell_type": "code",
   "execution_count": 13,
   "id": "bfe58142-cdff-4240-94f1-905cebf4b86e",
   "metadata": {},
   "outputs": [],
   "source": [
    "read_and_proc.save_to_pickle('../../output/haiyan/processed/pca/FFW/'+str(lti)+'/FFWmodels_cross9',model,'PICKLE')\n",
    "read_and_proc.save_to_pickle('../../output/haiyan/processed/pca/FFW/'+str(lti)+'/newfeature_cross9',new_feature,'PICKLE')\n",
    "read_and_proc.save_to_pickle('../../output/haiyan/processed/pca/FFW/'+str(lti)+'/reducedX_cross9',reducedX,'PICKLE')"
   ]
  },
  {
   "cell_type": "markdown",
   "id": "805f647f-a316-4634-b009-abfa09443b60",
   "metadata": {},
   "source": [
    "#### Read saved models"
   ]
  },
  {
   "cell_type": "code",
   "execution_count": 10,
   "id": "32027eaf-7401-490f-a518-e7e0b5e20d65",
   "metadata": {},
   "outputs": [],
   "source": [
    "lti = 6\n",
    "model = read_and_proc.depickle('../../output/haiyan/processed/pca/FFW/'+str(lti)+'/FFWmodels_cross7')\n",
    "new_feature = read_and_proc.depickle('../../output/haiyan/processed/pca/FFW/'+str(lti)+'/newfeature_cross7')\n",
    "reducedX = read_and_proc.depickle('../../output/haiyan/processed/pca/FFW/'+str(lti)+'/reducedX_cross7')\n",
    "\n",
    "model_c3 = read_and_proc.depickle('../../output/haiyan/processed/pca/FFW/'+str(lti)+'/FFWmodels_cross5')\n",
    "new_feature_c3 = read_and_proc.depickle('../../output/haiyan/processed/pca/FFW/'+str(lti)+'/newfeature_cross5')\n",
    "reducedX_c3 = read_and_proc.depickle('../../output/haiyan/processed/pca/FFW/'+str(lti)+'/reducedX_cross5')"
   ]
  },
  {
   "cell_type": "code",
   "execution_count": 21,
   "id": "dd93f1ed-17e6-4df7-a241-81a966fcfc34",
   "metadata": {
    "tags": []
   },
   "outputs": [
    {
     "name": "stderr",
     "output_type": "stream",
     "text": [
      "distributed.nanny - WARNING - Worker process still alive after 3 seconds, killing\n",
      "distributed.nanny - WARNING - Worker process still alive after 3 seconds, killing\n"
     ]
    },
    {
     "name": "stdout",
     "output_type": "stream",
     "text": [
      "0.2634551047606449\n",
      "0.27020786550722103\n",
      "0.2771174692913796\n",
      "0.29057951006821825\n",
      "0.29825284911850874\n",
      "0.30505271041551524\n",
      "0.30896605432717245\n",
      "0.3141786687344694\n",
      "0.3231780727391649\n",
      "0.32622472718727524\n",
      "0.3313512732759336\n",
      "0.3329495397083474\n",
      "0.34271340526877225\n",
      "0.3482809468249231\n",
      "0.3512978786640362\n",
      "0.35467414220524324\n",
      "0.3592344642365194\n",
      "0.36116288503177896\n",
      "0.36312621822650926\n",
      "0.3670583106997508\n",
      "0.36895199539757684\n",
      "0.3712748899363604\n",
      "0.37316463791646465\n",
      "0.3769071548964922\n",
      "0.3783003736165651\n",
      "0.3810760622980489\n",
      "0.386827648727652\n",
      "0.3944623001333795\n",
      "0.3971853456252211\n",
      "0.4012105234477641\n",
      "0.4071097822015975\n",
      "0.4101471815018739\n",
      "0.4116402985392923\n",
      "0.41437329073113094\n",
      "0.41681223565223025\n",
      "0.4195303493010772\n",
      "0.42155323624166036\n",
      "0.42267971845499\n",
      "0.42858726269356695\n",
      "0.4298231148018404\n",
      "0.4347064125199097\n",
      "0.4369812891975525\n",
      "0.43918871242025814\n",
      "0.4421947154760336\n",
      "0.4442656825803556\n"
     ]
    }
   ],
   "source": [
    "nummem = [50,38,91,8]\n",
    "r2_train = retrieve_cartesian(PCA_dict=PCAdict,Af_dict=haiyan_data,numcomp=nummem,LT=lti,forecastPC=None,target='surface',\\\n",
    "                              suffix=suffix).output_r2(FFWmodels=model,reducedX=reducedX,realU=realsurfu,realV=realsurfv,case='Haiyan')\n",
    "#r2_train = retrieve_cartesian(PCA_dict=PCAdict,Af_dict=haiyan_data,numcomp=nummem,LT=lti,forecastPC=None,target='alluv',\\\n",
    "#                              suffix=suffix).output_r2(FFWmodels=model,reducedX=reducedX,realU=realdu,realV=realdv,case='Haiyan')\n",
    "#r2_train = retrieve_cartesian(PCA_dict=PCAdict,Af_dict=haiyan_data,numcomp=nummem,LT=lti,forecastPC=None,target='all',\\\n",
    "#                              suffix=suffix).output_r2(FFWmodels=model,reducedX=reducedX,realU=realdu,realV=realdv,realW=realdw,realTH=realdtheta,case='Haiyan')"
   ]
  },
  {
   "cell_type": "markdown",
   "id": "438be667-515c-491f-8f2b-72fc53c6ef2c",
   "metadata": {},
   "source": [
    "#### Valid"
   ]
  },
  {
   "cell_type": "code",
   "execution_count": 22,
   "id": "52d8e987-f886-410a-96fd-b35ca6151ac7",
   "metadata": {
    "collapsed": true,
    "jupyter": {
     "outputs_hidden": true
    },
    "tags": []
   },
   "outputs": [
    {
     "name": "stdout",
     "output_type": "stream",
     "text": [
      "0.17282699828596057\n",
      "0.19287872810452544\n",
      "0.1962504155544748\n",
      "0.2038520169937721\n",
      "0.19859276276779197\n",
      "0.19303657352507697\n",
      "0.19871146287419672\n",
      "0.18851564542714208\n",
      "0.1964993480576353\n",
      "0.19186874816819063\n",
      "0.1965483010149321\n",
      "0.19374840543893873\n",
      "0.19194037065313346\n",
      "0.1964251962424879\n",
      "0.199091750149641\n",
      "0.20457734335862865\n",
      "0.20051960995064622\n",
      "0.19331621379636257\n",
      "0.2080498021105625\n",
      "0.21944889784524213\n",
      "0.22252844595951793\n",
      "0.22113420497829314\n",
      "0.21639974993701855\n",
      "0.21208602136898363\n",
      "0.21552210673164324\n",
      "0.2157631005781324\n",
      "0.21643721395973028\n"
     ]
    },
    {
     "name": "stderr",
     "output_type": "stream",
     "text": [
      "distributed.utils_perf - WARNING - full garbage collections took 10% CPU time recently (threshold: 10%)\n"
     ]
    },
    {
     "name": "stdout",
     "output_type": "stream",
     "text": [
      "0.2207158571580446\n"
     ]
    },
    {
     "name": "stderr",
     "output_type": "stream",
     "text": [
      "distributed.utils_perf - WARNING - full garbage collections took 12% CPU time recently (threshold: 10%)\n"
     ]
    },
    {
     "name": "stdout",
     "output_type": "stream",
     "text": [
      "0.2259633328561062\n"
     ]
    },
    {
     "name": "stderr",
     "output_type": "stream",
     "text": [
      "distributed.utils_perf - WARNING - full garbage collections took 13% CPU time recently (threshold: 10%)\n"
     ]
    },
    {
     "name": "stdout",
     "output_type": "stream",
     "text": [
      "0.22029991619714234\n"
     ]
    },
    {
     "name": "stderr",
     "output_type": "stream",
     "text": [
      "distributed.utils_perf - WARNING - full garbage collections took 13% CPU time recently (threshold: 10%)\n"
     ]
    },
    {
     "name": "stdout",
     "output_type": "stream",
     "text": [
      "0.21544536549197862\n"
     ]
    },
    {
     "name": "stderr",
     "output_type": "stream",
     "text": [
      "distributed.utils_perf - WARNING - full garbage collections took 13% CPU time recently (threshold: 10%)\n"
     ]
    },
    {
     "name": "stdout",
     "output_type": "stream",
     "text": [
      "0.21787281843501713\n"
     ]
    },
    {
     "name": "stderr",
     "output_type": "stream",
     "text": [
      "distributed.utils_perf - WARNING - full garbage collections took 13% CPU time recently (threshold: 10%)\n"
     ]
    },
    {
     "name": "stdout",
     "output_type": "stream",
     "text": [
      "0.22061445321746523\n"
     ]
    },
    {
     "name": "stderr",
     "output_type": "stream",
     "text": [
      "distributed.utils_perf - WARNING - full garbage collections took 13% CPU time recently (threshold: 10%)\n"
     ]
    },
    {
     "name": "stdout",
     "output_type": "stream",
     "text": [
      "0.2231051743612096\n"
     ]
    },
    {
     "name": "stderr",
     "output_type": "stream",
     "text": [
      "distributed.utils_perf - WARNING - full garbage collections took 13% CPU time recently (threshold: 10%)\n"
     ]
    },
    {
     "name": "stdout",
     "output_type": "stream",
     "text": [
      "0.2235183783048183\n"
     ]
    },
    {
     "name": "stderr",
     "output_type": "stream",
     "text": [
      "distributed.utils_perf - WARNING - full garbage collections took 13% CPU time recently (threshold: 10%)\n"
     ]
    },
    {
     "name": "stdout",
     "output_type": "stream",
     "text": [
      "0.21798704460606458\n"
     ]
    },
    {
     "name": "stderr",
     "output_type": "stream",
     "text": [
      "distributed.utils_perf - WARNING - full garbage collections took 13% CPU time recently (threshold: 10%)\n"
     ]
    },
    {
     "name": "stdout",
     "output_type": "stream",
     "text": [
      "0.22261372863052897\n"
     ]
    },
    {
     "name": "stderr",
     "output_type": "stream",
     "text": [
      "distributed.utils_perf - WARNING - full garbage collections took 13% CPU time recently (threshold: 10%)\n"
     ]
    },
    {
     "name": "stdout",
     "output_type": "stream",
     "text": [
      "0.21957264938103813\n"
     ]
    },
    {
     "name": "stderr",
     "output_type": "stream",
     "text": [
      "distributed.utils_perf - WARNING - full garbage collections took 13% CPU time recently (threshold: 10%)\n"
     ]
    },
    {
     "name": "stdout",
     "output_type": "stream",
     "text": [
      "0.21597099705037676\n"
     ]
    },
    {
     "name": "stderr",
     "output_type": "stream",
     "text": [
      "distributed.utils_perf - WARNING - full garbage collections took 13% CPU time recently (threshold: 10%)\n"
     ]
    },
    {
     "name": "stdout",
     "output_type": "stream",
     "text": [
      "0.21458210298616232\n"
     ]
    },
    {
     "name": "stderr",
     "output_type": "stream",
     "text": [
      "distributed.utils_perf - WARNING - full garbage collections took 14% CPU time recently (threshold: 10%)\n"
     ]
    },
    {
     "name": "stdout",
     "output_type": "stream",
     "text": [
      "0.20416500810618501\n"
     ]
    },
    {
     "name": "stderr",
     "output_type": "stream",
     "text": [
      "distributed.utils_perf - WARNING - full garbage collections took 14% CPU time recently (threshold: 10%)\n"
     ]
    },
    {
     "name": "stdout",
     "output_type": "stream",
     "text": [
      "0.20592708365436774\n"
     ]
    },
    {
     "name": "stderr",
     "output_type": "stream",
     "text": [
      "distributed.utils_perf - WARNING - full garbage collections took 14% CPU time recently (threshold: 10%)\n"
     ]
    },
    {
     "name": "stdout",
     "output_type": "stream",
     "text": [
      "0.19943447295833105\n"
     ]
    },
    {
     "name": "stderr",
     "output_type": "stream",
     "text": [
      "distributed.utils_perf - WARNING - full garbage collections took 13% CPU time recently (threshold: 10%)\n"
     ]
    },
    {
     "name": "stdout",
     "output_type": "stream",
     "text": [
      "0.20071809718002454\n"
     ]
    },
    {
     "name": "stderr",
     "output_type": "stream",
     "text": [
      "distributed.utils_perf - WARNING - full garbage collections took 13% CPU time recently (threshold: 10%)\n"
     ]
    },
    {
     "name": "stdout",
     "output_type": "stream",
     "text": [
      "0.2045332500218247\n"
     ]
    }
   ],
   "source": [
    "yvalid = [yobj[1] for yobj in yall]\n",
    "mlrIN_v,mlrOUT_v = mlr.SimpleIOhandler(LT=lti,auxIN=None).transform(Xvalid['dtthuvw'],yvalid)\n",
    "\n",
    "loc = [int(obj) for obj in list(np.transpose(np.linspace(269,289-1,20)))]\n",
    "loopfeature = [np.asarray(loc.copy())]\n",
    "for i in range(len(new_feature_c3)):\n",
    "    loopfeature.append(np.append(loopfeature[i],new_feature_c3[i]))\n",
    "    \n",
    "reducedX_valid = [np.asarray(mlrIN_v)[:,sorted(loopfeature[i])] for i in range(len(loopfeature))]\n",
    "r2_valid = retrieve_cartesian(PCA_dict=PCAdict,Af_dict=haiyan_data,numcomp=nummem,LT=lti,forecastPC=None,target='surface',\\\n",
    "                              suffix=suffix).output_r2(FFWmodels=model_c3,reducedX=reducedX_valid[1:],realU=realsurfu_valid,\\\n",
    "                                                       realV=realsurfv_valid,case='Haiyan')\n",
    "#r2_valid = retrieve_cartesian(PCA_dict=PCAdict,Af_dict=haiyan_data,numcomp=nummem,LT=lti,forecastPC=None,target='alluv',\\\n",
    "#                              suffix=suffix).output_r2(FFWmodels=model,reducedX=reducedX_valid[1:],realU=realdu_valid,\\\n",
    "#                                                       realV=realdv_valid,case='Haiyan')\n",
    "#r2_valid = retrieve_cartesian(PCA_dict=PCAdict,Af_dict=haiyan_data,numcomp=nummem,LT=lti,forecastPC=None,target='all',\\\n",
    "#                              suffix=suffix).output_r2(FFWmodels=model_c3,reducedX=reducedX_valid[1:],realU=realdu_valid,realW=realdw_valid,realTH=realdtheta_valid,\\\n",
    "#                                                       realV=realdv_valid,case='Haiyan')"
   ]
  },
  {
   "cell_type": "markdown",
   "id": "e26966e9-ac3e-418e-89a6-6f8d03fc8dad",
   "metadata": {},
   "source": [
    "#### Test"
   ]
  },
  {
   "cell_type": "code",
   "execution_count": 23,
   "id": "0cef7d8f-447a-4808-88e9-eaed07d637a9",
   "metadata": {
    "collapsed": true,
    "jupyter": {
     "outputs_hidden": true
    },
    "tags": []
   },
   "outputs": [
    {
     "name": "stderr",
     "output_type": "stream",
     "text": [
      "distributed.utils_perf - WARNING - full garbage collections took 13% CPU time recently (threshold: 10%)\n"
     ]
    },
    {
     "name": "stdout",
     "output_type": "stream",
     "text": [
      "0.26043142677183045\n"
     ]
    },
    {
     "name": "stderr",
     "output_type": "stream",
     "text": [
      "distributed.utils_perf - WARNING - full garbage collections took 14% CPU time recently (threshold: 10%)\n"
     ]
    },
    {
     "name": "stdout",
     "output_type": "stream",
     "text": [
      "0.26591748312066826\n"
     ]
    },
    {
     "name": "stderr",
     "output_type": "stream",
     "text": [
      "distributed.utils_perf - WARNING - full garbage collections took 14% CPU time recently (threshold: 10%)\n"
     ]
    },
    {
     "name": "stdout",
     "output_type": "stream",
     "text": [
      "0.2819633215199963\n"
     ]
    },
    {
     "name": "stderr",
     "output_type": "stream",
     "text": [
      "distributed.utils_perf - WARNING - full garbage collections took 14% CPU time recently (threshold: 10%)\n"
     ]
    },
    {
     "name": "stdout",
     "output_type": "stream",
     "text": [
      "0.288911274294544\n"
     ]
    },
    {
     "name": "stderr",
     "output_type": "stream",
     "text": [
      "distributed.utils_perf - WARNING - full garbage collections took 14% CPU time recently (threshold: 10%)\n"
     ]
    },
    {
     "name": "stdout",
     "output_type": "stream",
     "text": [
      "0.2978788812080961\n"
     ]
    },
    {
     "name": "stderr",
     "output_type": "stream",
     "text": [
      "distributed.utils_perf - WARNING - full garbage collections took 14% CPU time recently (threshold: 10%)\n"
     ]
    },
    {
     "name": "stdout",
     "output_type": "stream",
     "text": [
      "0.3052357320299371\n"
     ]
    },
    {
     "name": "stderr",
     "output_type": "stream",
     "text": [
      "distributed.utils_perf - WARNING - full garbage collections took 14% CPU time recently (threshold: 10%)\n"
     ]
    },
    {
     "name": "stdout",
     "output_type": "stream",
     "text": [
      "0.31002967947214943\n"
     ]
    },
    {
     "name": "stderr",
     "output_type": "stream",
     "text": [
      "distributed.utils_perf - WARNING - full garbage collections took 14% CPU time recently (threshold: 10%)\n"
     ]
    },
    {
     "name": "stdout",
     "output_type": "stream",
     "text": [
      "0.3160281503656134\n"
     ]
    },
    {
     "name": "stderr",
     "output_type": "stream",
     "text": [
      "distributed.utils_perf - WARNING - full garbage collections took 14% CPU time recently (threshold: 10%)\n"
     ]
    },
    {
     "name": "stdout",
     "output_type": "stream",
     "text": [
      "0.3192305243908926\n"
     ]
    },
    {
     "name": "stderr",
     "output_type": "stream",
     "text": [
      "distributed.utils_perf - WARNING - full garbage collections took 14% CPU time recently (threshold: 10%)\n"
     ]
    },
    {
     "name": "stdout",
     "output_type": "stream",
     "text": [
      "0.3233329011197835\n"
     ]
    },
    {
     "name": "stderr",
     "output_type": "stream",
     "text": [
      "distributed.utils_perf - WARNING - full garbage collections took 14% CPU time recently (threshold: 10%)\n"
     ]
    },
    {
     "name": "stdout",
     "output_type": "stream",
     "text": [
      "0.3260761562566259\n"
     ]
    },
    {
     "name": "stderr",
     "output_type": "stream",
     "text": [
      "distributed.utils_perf - WARNING - full garbage collections took 14% CPU time recently (threshold: 10%)\n"
     ]
    },
    {
     "name": "stdout",
     "output_type": "stream",
     "text": [
      "0.333881780777958\n"
     ]
    },
    {
     "name": "stderr",
     "output_type": "stream",
     "text": [
      "distributed.utils_perf - WARNING - full garbage collections took 14% CPU time recently (threshold: 10%)\n"
     ]
    },
    {
     "name": "stdout",
     "output_type": "stream",
     "text": [
      "0.3396627712565397\n"
     ]
    },
    {
     "name": "stderr",
     "output_type": "stream",
     "text": [
      "distributed.utils_perf - WARNING - full garbage collections took 14% CPU time recently (threshold: 10%)\n"
     ]
    },
    {
     "name": "stdout",
     "output_type": "stream",
     "text": [
      "0.34410728190231055\n"
     ]
    },
    {
     "name": "stderr",
     "output_type": "stream",
     "text": [
      "distributed.utils_perf - WARNING - full garbage collections took 14% CPU time recently (threshold: 10%)\n"
     ]
    },
    {
     "name": "stdout",
     "output_type": "stream",
     "text": [
      "0.3480697417201015\n"
     ]
    },
    {
     "name": "stderr",
     "output_type": "stream",
     "text": [
      "distributed.utils_perf - WARNING - full garbage collections took 14% CPU time recently (threshold: 10%)\n"
     ]
    },
    {
     "name": "stdout",
     "output_type": "stream",
     "text": [
      "0.3473820150504601\n"
     ]
    },
    {
     "name": "stderr",
     "output_type": "stream",
     "text": [
      "distributed.utils_perf - WARNING - full garbage collections took 14% CPU time recently (threshold: 10%)\n"
     ]
    },
    {
     "name": "stdout",
     "output_type": "stream",
     "text": [
      "0.3518862236390621\n"
     ]
    },
    {
     "name": "stderr",
     "output_type": "stream",
     "text": [
      "distributed.utils_perf - WARNING - full garbage collections took 14% CPU time recently (threshold: 10%)\n"
     ]
    },
    {
     "name": "stdout",
     "output_type": "stream",
     "text": [
      "0.35268921904966594\n"
     ]
    },
    {
     "name": "stderr",
     "output_type": "stream",
     "text": [
      "distributed.utils_perf - WARNING - full garbage collections took 15% CPU time recently (threshold: 10%)\n"
     ]
    },
    {
     "name": "stdout",
     "output_type": "stream",
     "text": [
      "0.3557854975671225\n"
     ]
    },
    {
     "name": "stderr",
     "output_type": "stream",
     "text": [
      "distributed.utils_perf - WARNING - full garbage collections took 15% CPU time recently (threshold: 10%)\n"
     ]
    },
    {
     "name": "stdout",
     "output_type": "stream",
     "text": [
      "0.3592267007960866\n"
     ]
    },
    {
     "name": "stderr",
     "output_type": "stream",
     "text": [
      "distributed.utils_perf - WARNING - full garbage collections took 15% CPU time recently (threshold: 10%)\n"
     ]
    },
    {
     "name": "stdout",
     "output_type": "stream",
     "text": [
      "0.3561026547759173\n"
     ]
    },
    {
     "name": "stderr",
     "output_type": "stream",
     "text": [
      "distributed.utils_perf - WARNING - full garbage collections took 15% CPU time recently (threshold: 10%)\n"
     ]
    },
    {
     "name": "stdout",
     "output_type": "stream",
     "text": [
      "0.3595999194407497\n"
     ]
    },
    {
     "name": "stderr",
     "output_type": "stream",
     "text": [
      "distributed.utils_perf - WARNING - full garbage collections took 15% CPU time recently (threshold: 10%)\n"
     ]
    },
    {
     "name": "stdout",
     "output_type": "stream",
     "text": [
      "0.3591997710176693\n"
     ]
    },
    {
     "name": "stderr",
     "output_type": "stream",
     "text": [
      "distributed.utils_perf - WARNING - full garbage collections took 15% CPU time recently (threshold: 10%)\n"
     ]
    },
    {
     "name": "stdout",
     "output_type": "stream",
     "text": [
      "0.3610341062393189\n"
     ]
    },
    {
     "name": "stderr",
     "output_type": "stream",
     "text": [
      "distributed.utils_perf - WARNING - full garbage collections took 15% CPU time recently (threshold: 10%)\n"
     ]
    },
    {
     "name": "stdout",
     "output_type": "stream",
     "text": [
      "0.36288798149347745\n"
     ]
    },
    {
     "name": "stderr",
     "output_type": "stream",
     "text": [
      "distributed.utils_perf - WARNING - full garbage collections took 15% CPU time recently (threshold: 10%)\n"
     ]
    },
    {
     "name": "stdout",
     "output_type": "stream",
     "text": [
      "0.36163597124019975\n"
     ]
    },
    {
     "name": "stderr",
     "output_type": "stream",
     "text": [
      "distributed.utils_perf - WARNING - full garbage collections took 15% CPU time recently (threshold: 10%)\n"
     ]
    },
    {
     "name": "stdout",
     "output_type": "stream",
     "text": [
      "0.36825045736295003\n"
     ]
    },
    {
     "name": "stderr",
     "output_type": "stream",
     "text": [
      "distributed.utils_perf - WARNING - full garbage collections took 15% CPU time recently (threshold: 10%)\n"
     ]
    },
    {
     "name": "stdout",
     "output_type": "stream",
     "text": [
      "0.38547758821753836\n"
     ]
    },
    {
     "name": "stderr",
     "output_type": "stream",
     "text": [
      "distributed.utils_perf - WARNING - full garbage collections took 15% CPU time recently (threshold: 10%)\n"
     ]
    },
    {
     "name": "stdout",
     "output_type": "stream",
     "text": [
      "0.3895866214346938\n"
     ]
    },
    {
     "name": "stderr",
     "output_type": "stream",
     "text": [
      "distributed.utils_perf - WARNING - full garbage collections took 15% CPU time recently (threshold: 10%)\n"
     ]
    },
    {
     "name": "stdout",
     "output_type": "stream",
     "text": [
      "0.3913211554891901\n"
     ]
    },
    {
     "name": "stderr",
     "output_type": "stream",
     "text": [
      "distributed.utils_perf - WARNING - full garbage collections took 15% CPU time recently (threshold: 10%)\n"
     ]
    },
    {
     "name": "stdout",
     "output_type": "stream",
     "text": [
      "0.39324694818541894\n"
     ]
    },
    {
     "name": "stderr",
     "output_type": "stream",
     "text": [
      "distributed.utils_perf - WARNING - full garbage collections took 15% CPU time recently (threshold: 10%)\n"
     ]
    },
    {
     "name": "stdout",
     "output_type": "stream",
     "text": [
      "0.39304603531327176\n"
     ]
    },
    {
     "name": "stderr",
     "output_type": "stream",
     "text": [
      "distributed.utils_perf - WARNING - full garbage collections took 15% CPU time recently (threshold: 10%)\n"
     ]
    },
    {
     "name": "stdout",
     "output_type": "stream",
     "text": [
      "0.39008339384645835\n"
     ]
    },
    {
     "name": "stderr",
     "output_type": "stream",
     "text": [
      "distributed.utils_perf - WARNING - full garbage collections took 15% CPU time recently (threshold: 10%)\n"
     ]
    },
    {
     "name": "stdout",
     "output_type": "stream",
     "text": [
      "0.38923901835003094\n"
     ]
    },
    {
     "name": "stderr",
     "output_type": "stream",
     "text": [
      "distributed.utils_perf - WARNING - full garbage collections took 15% CPU time recently (threshold: 10%)\n"
     ]
    },
    {
     "name": "stdout",
     "output_type": "stream",
     "text": [
      "0.3911392960637\n"
     ]
    },
    {
     "name": "stderr",
     "output_type": "stream",
     "text": [
      "distributed.utils_perf - WARNING - full garbage collections took 15% CPU time recently (threshold: 10%)\n"
     ]
    },
    {
     "name": "stdout",
     "output_type": "stream",
     "text": [
      "0.39624214091637\n"
     ]
    },
    {
     "name": "stderr",
     "output_type": "stream",
     "text": [
      "distributed.utils_perf - WARNING - full garbage collections took 15% CPU time recently (threshold: 10%)\n"
     ]
    },
    {
     "name": "stdout",
     "output_type": "stream",
     "text": [
      "0.39424226594181194\n"
     ]
    },
    {
     "name": "stderr",
     "output_type": "stream",
     "text": [
      "distributed.utils_perf - WARNING - full garbage collections took 15% CPU time recently (threshold: 10%)\n"
     ]
    },
    {
     "name": "stdout",
     "output_type": "stream",
     "text": [
      "0.39447167028274305\n"
     ]
    },
    {
     "name": "stderr",
     "output_type": "stream",
     "text": [
      "distributed.utils_perf - WARNING - full garbage collections took 15% CPU time recently (threshold: 10%)\n"
     ]
    },
    {
     "name": "stdout",
     "output_type": "stream",
     "text": [
      "0.3970041710854241\n"
     ]
    },
    {
     "name": "stderr",
     "output_type": "stream",
     "text": [
      "distributed.utils_perf - WARNING - full garbage collections took 15% CPU time recently (threshold: 10%)\n"
     ]
    },
    {
     "name": "stdout",
     "output_type": "stream",
     "text": [
      "0.4053084979097719\n"
     ]
    },
    {
     "name": "stderr",
     "output_type": "stream",
     "text": [
      "distributed.utils_perf - WARNING - full garbage collections took 15% CPU time recently (threshold: 10%)\n"
     ]
    },
    {
     "name": "stdout",
     "output_type": "stream",
     "text": [
      "0.4074121474537727\n"
     ]
    },
    {
     "name": "stderr",
     "output_type": "stream",
     "text": [
      "distributed.utils_perf - WARNING - full garbage collections took 15% CPU time recently (threshold: 10%)\n"
     ]
    },
    {
     "name": "stdout",
     "output_type": "stream",
     "text": [
      "0.4070267907966144\n"
     ]
    },
    {
     "name": "stderr",
     "output_type": "stream",
     "text": [
      "distributed.utils_perf - WARNING - full garbage collections took 15% CPU time recently (threshold: 10%)\n"
     ]
    },
    {
     "name": "stdout",
     "output_type": "stream",
     "text": [
      "0.413436374524835\n"
     ]
    },
    {
     "name": "stderr",
     "output_type": "stream",
     "text": [
      "distributed.utils_perf - WARNING - full garbage collections took 15% CPU time recently (threshold: 10%)\n"
     ]
    },
    {
     "name": "stdout",
     "output_type": "stream",
     "text": [
      "0.41139833909850015\n"
     ]
    },
    {
     "name": "stderr",
     "output_type": "stream",
     "text": [
      "distributed.utils_perf - WARNING - full garbage collections took 15% CPU time recently (threshold: 10%)\n"
     ]
    },
    {
     "name": "stdout",
     "output_type": "stream",
     "text": [
      "0.41077840101341784\n"
     ]
    }
   ],
   "source": [
    "ytest = [yobj[2] for yobj in yall]\n",
    "mlrIN_v,mlrOUT_v = mlr.SimpleIOhandler(LT=lti,auxIN=None).transform(Xtest['dtthuvw'],ytest)\n",
    "    \n",
    "reducedX_test = [np.asarray(mlrIN_v)[:,sorted(loopfeature[i])] for i in range(len(loopfeature))]\n",
    "r2_test = retrieve_cartesian(PCA_dict=PCAdict,Af_dict=haiyan_data,numcomp=nummem,LT=lti,forecastPC=None,target='surface',\\\n",
    "                              suffix=suffix).output_r2(FFWmodels=model_c3,reducedX=reducedX_test[1:],realU=realsurfu_test,realV=realsurfv_test,case='Haiyan')\n",
    "#r2_test = retrieve_cartesian(PCA_dict=PCAdict,Af_dict=haiyan_data,numcomp=nummem,LT=lti,forecastPC=None,target='alluv',\\\n",
    "#                              suffix=suffix).output_r2(FFWmodels=model,reducedX=reducedX_test[1:],realU=realdu_test,realV=realdv_test,case='Haiyan')\n",
    "#r2_test = retrieve_cartesian(PCA_dict=PCAdict,Af_dict=haiyan_data,numcomp=nummem,LT=lti,forecastPC=None,target='alluv',\\\n",
    "#                              suffix=suffix).output_r2(FFWmodels=model,reducedX=reducedX_test[1:],realU=realdu,realW=realdw,realTH=realdtheta,\\\n",
    "#                                                       realV=realdv_valid,case='Haiyan')\n",
    "#r2_test = retrieve_cartesian(PCA_dict=PCAdict,Af_dict=haiyan_data,numcomp=nummem,LT=lti,forecastPC=None,target='all',\\\n",
    "#                              suffix=suffix).output_r2(FFWmodels=model_c3,reducedX=reducedX_test[1:],realU=realdu_test,realW=realdw_test,realTH=realdtheta_test,\\\n",
    "#                                                       realV=realdv_test,case='Haiyan')"
   ]
  },
  {
   "cell_type": "code",
   "execution_count": 32,
   "id": "72e5ccde-0f91-4ec4-92dd-5de1091be25a",
   "metadata": {},
   "outputs": [
    {
     "data": {
      "image/png": "[encoded data removed]",
      "text/plain": [
       "Figure(nrows=1, ncols=1, refaspect=1.83, refwidth=4.3)"
      ]
     },
     "metadata": {
      "image/png": {
       "height": 311,
       "width": 489
      }
     },
     "output_type": "display_data"
    }
   ],
   "source": [
    "fig,axs = plot.subplots(ncols=1,nrows=1,axwidth=4.295,refaspect=1.831)\n",
    "axs[0].plot(r2_train,label='Training')\n",
    "axs[0].plot(r2_valid,label='valid')\n",
    "axs[0].plot(r2_test,label='test')\n",
    "axs.legend(loc='ul',prop={'size':8},ncols=1)\n",
    "axs[0].format(xlabel=r'Extra u/v/w/$\\theta$/LH components',ylabel='R$^{2}$',title='R$^{2}$, 1000 hPa winds, with FFW, Haiyan')\n",
    "plt.savefig('../../figures/0406/r2_withFFW_haiyan.png',dpi=300)\n",
    "plt.show()"
   ]
  },
  {
   "cell_type": "code",
   "execution_count": 19,
   "id": "32133fbb-a8e4-44ee-9150-84f034ce7794",
   "metadata": {},
   "outputs": [
    {
     "data": {
      "image/png": "[encoded data removed]",
      "text/plain": [
       "Figure(nrows=1, ncols=1, refaspect=1.83, refwidth=4.3)"
      ]
     },
     "metadata": {
      "image/png": {
       "height": 311,
       "width": 496
      }
     },
     "output_type": "display_data"
    }
   ],
   "source": [
    "fig,axs = plot.subplots(ncols=1,nrows=1,axwidth=4.295,refaspect=1.831)\n",
    "axs[0].plot(r2_train,label='Training')\n",
    "axs[0].plot(r2_valid,label='valid')\n",
    "axs[0].plot(r2_test,label='test')\n",
    "axs.legend(loc='ul',prop={'size':8},ncols=1)\n",
    "axs[0].format(xlabel=r'Extra u/v/w/$\\theta$/LH components',ylabel='R$^{2}$',title='R$^{2}$, uv winds, with FFW, Haiyan, 7 fold, 6 Hr FW')\n",
    "plt.savefig('../../figures/0406/r2_withFFW_haiyan_alluv_7fold_6hr.png',dpi=300)\n",
    "plt.show()"
   ]
  },
  {
   "cell_type": "code",
   "execution_count": 26,
   "id": "34ecd2c7-d7a5-41c3-8026-5e37c827c23e",
   "metadata": {},
   "outputs": [
    {
     "data": {
      "image/png": "[encoded data removed]",
      "text/plain": [
       "Figure(nrows=1, ncols=1, refaspect=1.83, refwidth=4.3)"
      ]
     },
     "metadata": {
      "image/png": {
       "height": 311,
       "width": 496
      }
     },
     "output_type": "display_data"
    }
   ],
   "source": [
    "fig,axs = plot.subplots(ncols=1,nrows=1,axwidth=4.295,refaspect=1.831)\n",
    "#labels = ['93% Q[29]','95% Q[36]','97% Q[46]','98% Q[53]','99% Q[63]']\n",
    "axs[0].plot(r2_train,label='Training')\n",
    "axs[0].plot(r2_valid,label='valid')\n",
    "axs[0].plot(r2_test,label='test')\n",
    "#adjust_spines(axs[0], ['left', 'bottom'])\n",
    "axs.legend(loc='ul',prop={'size':8},ncols=1)\n",
    "axs[0].format(xlabel=r'Extra u/v/w/$\\theta$/LH components',ylabel='R$^{2}$',title='R$^{2}$, 1000 hPa winds, with FFW, Haiyan')\n",
    "#plt.savefig('./figures/0308/r2_noFFS_more.png',dpi=300)\n",
    "plt.savefig('../../figures/0406/r2_withFFW_haiyan_7fold.png',dpi=300)\n",
    "plt.show()"
   ]
  },
  {
   "cell_type": "code",
   "execution_count": null,
   "id": "1852397c-bdbc-467a-be10-36597d249085",
   "metadata": {},
   "outputs": [],
   "source": []
  }
 ],
 "metadata": {
  "kernelspec": {
   "display_name": "Python 3 (ipykernel)",
   "language": "python",
   "name": "python3"
  },
  "language_info": {
   "codemirror_mode": {
    "name": "ipython",
    "version": 3
   },
   "file_extension": ".py",
   "mimetype": "text/x-python",
   "name": "python",
   "nbconvert_exporter": "python",
   "pygments_lexer": "ipython3",
   "version": "3.9.7"
  }
 },
 "nbformat": 4,
 "nbformat_minor": 5
}
