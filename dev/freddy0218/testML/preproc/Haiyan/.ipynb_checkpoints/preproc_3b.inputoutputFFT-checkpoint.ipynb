{
 "cells": [
  {
   "cell_type": "code",
   "execution_count": 1,
   "id": "5fc66ead-0392-4001-b495-b360be6d8bae",
   "metadata": {},
   "outputs": [
    {
     "name": "stderr",
     "output_type": "stream",
     "text": [
      "/tmp/ipykernel_3006465/1321067960.py:20: ProplotWarning: rc setting 'linewidth' was renamed to 'meta.width' in version 0.8.\n",
      "  plot.rc.update({'figure.facecolor':'w','axes.labelweight':'ultralight',\n"
     ]
    }
   ],
   "source": [
    "import warnings\n",
    "warnings.filterwarnings('ignore',category=RuntimeWarning)\n",
    "import xarray as xr\n",
    "import numpy as np\n",
    "import matplotlib as mpl\n",
    "import matplotlib.pyplot as plt\n",
    "import seaborn as sns\n",
    "import glob,os,sys\n",
    "from tqdm.auto import tqdm\n",
    "import proplot as plot\n",
    "import json,pickle\n",
    "import dask.array as da\n",
    "import gc\n",
    "from sklearn.decomposition import PCA\n",
    "sys.path.insert(1, '/work/FAC/FGSE/IDYST/tbeucler/default/freddy0218/TCGphy/2020_TC_CRF/dev/freddy0218/')\n",
    "from tools import derive_var,read_and_proc,preproc_noensemble\n",
    "from tools.mlr import mlr\n",
    "from tools.preprocess import do_eof,preproc_maria,preproc_haiyan\n",
    "%matplotlib inline\n",
    "plot.rc.update({'figure.facecolor':'w','axes.labelweight':'ultralight',\n",
    "                'tick.labelweight':'ultralight','gridminor.linestyle':'--','title.weight':'normal','linewidth':0.5})"
   ]
  },
  {
   "cell_type": "code",
   "execution_count": 2,
   "id": "fd8ed7fd-5436-4219-ad92-d287732451a1",
   "metadata": {},
   "outputs": [
    {
     "data": {
      "application/vnd.jupyter.widget-view+json": {
       "model_id": "30a584d6dc8147259bc6b6211017db99",
       "version_major": 2,
       "version_minor": 0
      },
      "text/plain": [
       "  0%|          | 0/20 [00:00<?, ?it/s]"
      ]
     },
     "metadata": {},
     "output_type": "display_data"
    }
   ],
   "source": [
    "path = '/work/FAC/FGSE/IDYST/tbeucler/default/freddy0218/'\n",
    "suffix = '_smooth_preproc_dict1b_g'\n",
    "a = [read_and_proc.depickle(path+'TCGphy/testML/output/haiyan/processed/uvwheat/'+'mem'+str(lime)+suffix)['u'].shape for lime in tqdm(range(1,21))]\n",
    "# divide experiments reference\n",
    "divider = np.asarray([aobj[0] for aobj in a]).cumsum()"
   ]
  },
  {
   "cell_type": "markdown",
   "id": "e8a7928c-b35d-4188-892c-babc1326b2c6",
   "metadata": {},
   "source": [
    "#### Read"
   ]
  },
  {
   "cell_type": "code",
   "execution_count": 3,
   "id": "597a2965-9654-4f84-8593-351f4c6895d5",
   "metadata": {
    "tags": []
   },
   "outputs": [
    {
     "data": {
      "application/vnd.jupyter.widget-view+json": {
       "model_id": "e7dc1aad7c3743c78ad0c305da39ea6b",
       "version_major": 2,
       "version_minor": 0
      },
      "text/plain": [
       "  0%|          | 0/20 [00:00<?, ?it/s]"
      ]
     },
     "metadata": {},
     "output_type": "display_data"
    },
    {
     "data": {
      "application/vnd.jupyter.widget-view+json": {
       "model_id": "ac9735c23fd047408430d6b20fd9bb9e",
       "version_major": 2,
       "version_minor": 0
      },
      "text/plain": [
       "  0%|          | 0/20 [00:00<?, ?it/s]"
      ]
     },
     "metadata": {},
     "output_type": "display_data"
    },
    {
     "data": {
      "application/vnd.jupyter.widget-view+json": {
       "model_id": "8ddb8632b7064befa7182e063ec99a24",
       "version_major": 2,
       "version_minor": 0
      },
      "text/plain": [
       "  0%|          | 0/20 [00:00<?, ?it/s]"
      ]
     },
     "metadata": {},
     "output_type": "display_data"
    },
    {
     "data": {
      "application/vnd.jupyter.widget-view+json": {
       "model_id": "84776483770a46a5a2141cef4b4ea7fd",
       "version_major": 2,
       "version_minor": 0
      },
      "text/plain": [
       "  0%|          | 0/20 [00:00<?, ?it/s]"
      ]
     },
     "metadata": {},
     "output_type": "display_data"
    },
    {
     "data": {
      "application/vnd.jupyter.widget-view+json": {
       "model_id": "624d5a541fe3456799afb148313c50d8",
       "version_major": 2,
       "version_minor": 0
      },
      "text/plain": [
       "  0%|          | 0/20 [00:00<?, ?it/s]"
      ]
     },
     "metadata": {},
     "output_type": "display_data"
    },
    {
     "data": {
      "application/vnd.jupyter.widget-view+json": {
       "model_id": "63c04bb9196140abb3b02115b94bf6c4",
       "version_major": 2,
       "version_minor": 0
      },
      "text/plain": [
       "  0%|          | 0/20 [00:00<?, ?it/s]"
      ]
     },
     "metadata": {},
     "output_type": "display_data"
    },
    {
     "data": {
      "application/vnd.jupyter.widget-view+json": {
       "model_id": "e6ade13500874a9099d004ad87253eb8",
       "version_major": 2,
       "version_minor": 0
      },
      "text/plain": [
       "  0%|          | 0/20 [00:00<?, ?it/s]"
      ]
     },
     "metadata": {},
     "output_type": "display_data"
    },
    {
     "data": {
      "application/vnd.jupyter.widget-view+json": {
       "model_id": "1b0d3ac82035411294024c1a2e0cc183",
       "version_major": 2,
       "version_minor": 0
      },
      "text/plain": [
       "  0%|          | 0/20 [00:00<?, ?it/s]"
      ]
     },
     "metadata": {},
     "output_type": "display_data"
    },
    {
     "data": {
      "application/vnd.jupyter.widget-view+json": {
       "model_id": "95a06095dfde4d4ab866c57e5a886f50",
       "version_major": 2,
       "version_minor": 0
      },
      "text/plain": [
       "  0%|          | 0/20 [00:00<?, ?it/s]"
      ]
     },
     "metadata": {},
     "output_type": "display_data"
    }
   ],
   "source": [
    "path = '/work/FAC/FGSE/IDYST/tbeucler/default/freddy0218/'\n",
    "suffix = '_smooth_preproc_dict1b_g'\n",
    "\n",
    "haiyan_u = np.concatenate([read_and_proc.depickle(path+'TCGphy/testML/output/haiyan/processed/uvwheat/'+'mem'+str(lime)+suffix)['u'] for lime in tqdm(range(1,21))],axis=0)\n",
    "haiyan_v = np.concatenate([read_and_proc.depickle(path+'TCGphy/testML/output/haiyan/processed/uvwheat/'+'mem'+str(lime)+suffix)['v'] for lime in tqdm(range(1,21))],axis=0)\n",
    "haiyan_w = np.concatenate([read_and_proc.depickle(path+'TCGphy/testML/output/haiyan/processed/uvwheat/'+'mem'+str(lime)+suffix)['w'] for lime in tqdm(range(1,21))],axis=0)\n",
    "haiyan_qv = np.concatenate([read_and_proc.depickle(path+'TCGphy/testML/output/haiyan/processed/uvwheat/'+'mem'+str(lime)+suffix)['qv'] for lime in tqdm(range(1,21))],axis=0)\n",
    "haiyan_theta = np.concatenate([read_and_proc.depickle(path+'TCGphy/testML/output/haiyan/processed/uvwheat/'+'mem'+str(lime)+suffix)['theta'] for lime in tqdm(range(1,21))],axis=0)\n",
    "haiyan_heatsum = np.concatenate([read_and_proc.depickle(path+'TCGphy/testML/output/haiyan/processed/uvwheat/'+'mem'+str(lime)+suffix)['heatsum'] for lime in tqdm(range(1,21))],axis=0)\n",
    "haiyan_hdia = np.concatenate([read_and_proc.depickle(path+'TCGphy/testML/output/haiyan/processed/uvwheat/'+'mem'+str(lime)+suffix)['hdia'] for lime in tqdm(range(1,21))],axis=0)\n",
    "haiyan_rad = np.concatenate([read_and_proc.depickle(path+'TCGphy/testML/output/haiyan/processed/uvwheat/'+'mem'+str(lime)+suffix)['rad'] for lime in tqdm(range(1,21))],axis=0)\n",
    "haiyan_ir = np.concatenate([read_and_proc.depickle(path+'TCGphy/testML/output/haiyan/processed/uvwheat/'+'mem'+str(lime)+suffix)['ir'] for lime in tqdm(range(1,21))],axis=0)"
   ]
  },
  {
   "cell_type": "code",
   "execution_count": 4,
   "id": "78c87c02-caf2-47ce-8575-0fef58af87cb",
   "metadata": {},
   "outputs": [
    {
     "data": {
      "text/plain": [
       "118"
      ]
     },
     "execution_count": 4,
     "metadata": {},
     "output_type": "execute_result"
    }
   ],
   "source": [
    "dims = ['sample','flatarray']\n",
    "coords = dict(sample=np.linspace(0,haiyan_u.shape[0]-1,haiyan_u.shape[0]),flatarray=np.linspace(0,haiyan_u.shape[1]-1,haiyan_u.shape[1]))\n",
    "\n",
    "ds = xr.Dataset(coords=coords)\n",
    "haiyan_data=preproc_haiyan.build_a_xarray_dataset(ds=ds,varname=['u','v','w','theta','heatsum','hdia','rad','qv','ir'],\\\n",
    "                                   varfile=[haiyan_u,haiyan_v,haiyan_w,haiyan_theta,haiyan_heatsum,haiyan_hdia,haiyan_rad,haiyan_qv,haiyan_ir],dims=dims,coords=coords)\n",
    "del haiyan_u,haiyan_v,haiyan_w,haiyan_theta,haiyan_heatsum,haiyan_hdia,haiyan_rad\n",
    "gc.collect()"
   ]
  },
  {
   "cell_type": "code",
   "execution_count": 5,
   "id": "b8514c86-aa0f-4c19-958a-03ad4abf60ae",
   "metadata": {},
   "outputs": [],
   "source": [
    "folderpath='/work/FAC/FGSE/IDYST/tbeucler/default/freddy0218/TCGphy/testML/output/haiyan/processed/'\n",
    "dict1,dict2 = read_and_proc.depickle(folderpath+'pca/PCA'+'_'+'dict1_g'),read_and_proc.depickle(folderpath+'pca/PCA'+'_'+'dict2_g')\n",
    "dict1['qv'] = (dict2['qv'])\n",
    "dict1['ir'] = (dict2['ir'])"
   ]
  },
  {
   "cell_type": "code",
   "execution_count": 37,
   "id": "1fd46353-64f7-4212-abcd-79b0529eacc6",
   "metadata": {
    "collapsed": true,
    "jupyter": {
     "outputs_hidden": true,
     "source_hidden": true
    },
    "tags": []
   },
   "outputs": [
    {
     "data": {
      "image/png": "[encoded data removed]",
      "text/plain": [
       "Figure(nrows=1, ncols=1, refaspect=1.95, refwidth=3.55)"
      ]
     },
     "metadata": {
      "image/png": {
       "height": 250,
       "width": 410
      }
     },
     "output_type": "display_data"
    }
   ],
   "source": [
    "with sns.color_palette(\"cubehelix\", n_colors=7):\n",
    "    fig,ax = plot.subplots(ncols=1,nrows=1,axwidth=3.55,refaspect=1.951,sharey=3,sharex=0) \n",
    "    for inx,i in enumerate(['u', 'v', 'w', 'theta', 'heatsum', 'hdia', 'rad']):\n",
    "        ax.plot(dict1[i].explained_variance_ratio_.cumsum(),lw=3,label=i)\n",
    "    ax.format(title='PCA explained variabilites',xlabel='Number of components',ylabel='% of explained var.')\n",
    "    ax.legend(loc=4,ncol=2)\n",
    "    plt.savefig('../../figures/0406/pca_fig.png',dpi=300)\n",
    "    plt.show()"
   ]
  },
  {
   "cell_type": "markdown",
   "id": "69aa2e08-ab7c-4a3e-b617-51e7fc1b7f29",
   "metadata": {},
   "source": [
    "#### Produce Input Dataset"
   ]
  },
  {
   "cell_type": "code",
   "execution_count": 53,
   "id": "6b67a055-b8f3-4d54-aae5-68c4ccc6461c",
   "metadata": {},
   "outputs": [],
   "source": [
    "def forward_diff(arrayin=None,delta=None,axis=None,LT=1):\n",
    "    result = []\n",
    "    if axis==0:\n",
    "        for i in range(0,arrayin.shape[axis]-LT):\n",
    "            temp = (arrayin[i+LT,:]-arrayin[i,:])/(LT*delta)\n",
    "            result.append(temp)\n",
    "        return np.asarray(result)\n",
    "    \n",
    "class input_output:\n",
    "    def __init__(self,PCAdict=None,folderpath=None,ts_varname=None,nummem=None):\n",
    "        self.PCAdict = PCAdict\n",
    "        self.varname=ts_varname\n",
    "        self.nummem = nummem # u: 36 (40% variability in du), v:16/32 (40% dv var;50%), w:44 (40% dw var)\n",
    "    \n",
    "    ###################################################################################################################################################\n",
    "    # Produce time series\n",
    "    ###################################################################################################################################################    \n",
    "    def produce_timeseries(self,flatvar=None):\n",
    "        ts_dict = {}\n",
    "        for indx,obj in tqdm(enumerate(self.varname)):\n",
    "            ts_dict[obj] = self.PCAdict[obj].transform(flatvar[obj].data)[:,0:]\n",
    "        return ts_dict\n",
    "    \n",
    "    def normalize_timeseries(self,timeseries=None):\n",
    "        assert timeseries['u'].shape[-1]==150,\"var shape error\"\n",
    "        ts_dict = {}\n",
    "        for indx,obj in tqdm(enumerate(self.varname)):\n",
    "            ts_dict[obj] = (timeseries[obj]-np.nanmean(timeseries[obj],axis=0))/np.nanstd(timeseries[obj],axis=0)\n",
    "        return ts_dict\n",
    "    \n",
    "    ###################################################################################################################################################\n",
    "    # Produce Input Dataset\n",
    "    ###################################################################################################################################################      \n",
    "    def _back_to_exp(self,timeseries=None,divider=None):\n",
    "        printout = [timeseries[0:divider[0],:]]\n",
    "        for i in range(1,19):\n",
    "            printout.append(timeseries[divider[i-1]:divider[i],:])\n",
    "        printout.append(timeseries[divider[-2]:,:])\n",
    "        return printout\n",
    "    \n",
    "    def back_to_exp(self,inputlong=None,divider=None):\n",
    "        ts_dict = {}\n",
    "        for indx,obj in tqdm(enumerate(self.varname)):\n",
    "            ts_dict[obj] = self._back_to_exp(inputlong[obj],divider)\n",
    "        return ts_dict\n",
    "    \n",
    "    def train_valid_test(self,expvarlist=None,validindex=None,testindex=None,concat='Yes'):\n",
    "        X_valid, X_test = [expvarlist[i] for i in validindex], [expvarlist[i] for i in testindex]\n",
    "        X_train = expvarlist.copy()\n",
    "        [X_train.pop(i) for i in validindex]\n",
    "        [X_train.pop(i) for i in testindex]\n",
    "        assert len(X_train)==16, 'wrong train-valid-test separation!'\n",
    "        if concat=='Yes':\n",
    "            return np.concatenate([X_train[i] for i in range(len(X_train))],axis=0), np.concatenate([X_valid[i] for i in range(len(X_valid))],axis=0), np.concatenate([X_test[i] for i in range(len(X_test))],axis=0)\n",
    "        else:\n",
    "            return X_train, X_valid, X_test\n",
    "    \n",
    "    def make_X(self,expvarlist=None,varwant=None,validindex=None,testindex=None,concat='Yes'):\n",
    "        trainlist,validlist,testlist = [],[],[]\n",
    "        for obj in varwant:\n",
    "            test1,test2,test3 = self.train_valid_test(exp_pca_norml[obj],validindex,testindex,'Yes')\n",
    "            trainlist.append(test1)\n",
    "            validlist.append(test2)\n",
    "            testlist.append(test3)\n",
    "        return np.concatenate([trainlist[i] for i in range(len(trainlist))],axis=1), np.concatenate([validlist[i] for i in range(len(validlist))],axis=1), np.concatenate([testlist[i] for i in range(len(testlist))],axis=1)\n",
    "    \n",
    "    ###################################################################################################################################################\n",
    "    # Produce Output Dataset\n",
    "    ###################################################################################################################################################\n",
    "    def get_time_diff_terms(self,inputvar=None,LT=None):\n",
    "        def _get_time_diff(array=None,timedelta=60*60,LT=None):\n",
    "            store = []\n",
    "            for exp in array:\n",
    "                a = forward_diff(exp,timedelta,0,LT)\n",
    "                if a.shape[0]>0:\n",
    "                    azero = np.zeros((LT,exp.shape[-1]))\n",
    "                    store.append(np.concatenate((a,azero),axis=0))\n",
    "                else:\n",
    "                    store.append(np.zeros((exp.shape[0],exp.shape[-1])))\n",
    "            return store\n",
    "        \n",
    "        storedict = {}\n",
    "        for wantvar in ['u','v','w','theta']:\n",
    "            storedict[wantvar] = _get_time_diff(array=inputvar[wantvar],LT=LT)\n",
    "        return storedict\n",
    "    \n",
    "    def make_Y(self,inputdict=None,LDT=None,validindex=[1,6],testindex=[2,12]):\n",
    "        def _make_Y(inputt=None):\n",
    "            varTRAIN,varVALID,varTEST = [],[],[]\n",
    "            for varobj in ['u','v','w','theta']:\n",
    "                test1,test2,test3 = self.train_valid_test(expvarlist=test[0][varobj],validindex=validindex,testindex=testindex,concat='Yes')\n",
    "                varTRAIN.append(test1)\n",
    "                varVALID.append(test2)\n",
    "                varTEST.append(test3)\n",
    "            return np.concatenate([varTRAIN[i] for i in range(len(varTRAIN))],axis=1), np.concatenate([varVALID[i] for i in range(len(varVALID))],axis=1), np.concatenate([varTEST[i] for i in range(len(varTEST))],axis=1)\n",
    "        \n",
    "        test = [self.get_time_diff_terms(exp_pca_nonorml,int(LDTobj)) for LDTobj in LDT]\n",
    "        return [_make_Y(timediffobj) for timediffobj in test]"
   ]
  },
  {
   "cell_type": "code",
   "execution_count": 9,
   "id": "b860c5db-ff3f-482e-8f70-64e7aa498187",
   "metadata": {},
   "outputs": [
    {
     "data": {
      "application/vnd.jupyter.widget-view+json": {
       "model_id": "04995a939dcc4a01b74ef89879bbe26c",
       "version_major": 2,
       "version_minor": 0
      },
      "text/plain": [
       "0it [00:00, ?it/s]"
      ]
     },
     "metadata": {},
     "output_type": "display_data"
    },
    {
     "data": {
      "application/vnd.jupyter.widget-view+json": {
       "model_id": "7ab8f0d974764304adac608ab83ffc81",
       "version_major": 2,
       "version_minor": 0
      },
      "text/plain": [
       "0it [00:00, ?it/s]"
      ]
     },
     "metadata": {},
     "output_type": "display_data"
    },
    {
     "data": {
      "application/vnd.jupyter.widget-view+json": {
       "model_id": "7e55d711658a4c2abeb07bf92639eeee",
       "version_major": 2,
       "version_minor": 0
      },
      "text/plain": [
       "0it [00:00, ?it/s]"
      ]
     },
     "metadata": {},
     "output_type": "display_data"
    },
    {
     "data": {
      "application/vnd.jupyter.widget-view+json": {
       "model_id": "713e4502bf1a40beaeb3ed41046564d7",
       "version_major": 2,
       "version_minor": 0
      },
      "text/plain": [
       "0it [00:00, ?it/s]"
      ]
     },
     "metadata": {},
     "output_type": "display_data"
    }
   ],
   "source": [
    "haiyan_pca_nonorml = input_output( dict1, None, ['u', 'v', 'w', 'qv','theta', 'heatsum', 'hdia', 'rad', 'ir'], None ).produce_timeseries( haiyan_data )\n",
    "haiyan_pca_norml = input_output( dict1, None, ['u', 'v', 'w', 'qv','theta', 'heatsum', 'hdia', 'rad', 'ir'], None ).normalize_timeseries( haiyan_pca_nonorml )\n",
    "\n",
    "exp_pca_norml = input_output( dict1, None, ['u', 'v', 'w', 'qv','theta', 'heatsum', 'hdia', 'rad', 'ir'], None ).back_to_exp( haiyan_pca_norml, divider ) \n",
    "exp_pca_nonorml = input_output( dict1, None, ['u', 'v', 'w', 'qv','theta', 'heatsum', 'hdia', 'rad', 'ir'], None ).back_to_exp( haiyan_pca_nonorml, divider ) \n",
    "\n",
    "X_train, X_valid, X_test = (input_output(dict1,None,['u','v','w','qv','theta','heatsum','hdia','rad','ir'],None).make_X( exp_pca_norml,['u','v','w','theta','hdia','rad'],[1,6], [2,12], 'Yes'))"
   ]
  },
  {
   "cell_type": "code",
   "execution_count": 11,
   "id": "d55c49be-58c7-4980-ab0e-adde9571aeeb",
   "metadata": {},
   "outputs": [],
   "source": [
    "EXP = [['hdia','rad'],['theta','hdia','rad'],['u','v','w','theta','hdia','rad'],['u','v','theta','hdia','rad'],['u','v'],['u','v','w'],['u','v','hdia','rad'],['u','v','w','hdia','rad'],['u','v','w','theta','qv','hdia','rad']]\n",
    "storename = ['dt','dtth','dtthuvw','dtthuv','uv','uvw','dtuv','dtuvw','dtthuvwqv']\n",
    "\n",
    "X_traindict,X_validdict,X_testdict = {},{},{}\n",
    "for ind,obj in enumerate(storename):\n",
    "    test1,test2,test3 = (input_output(dict1,None,['u','v','w','qv','theta','heatsum','hdia','rad','ir'],None).make_X(exp_pca_norml,EXP[ind],[1,6],[2,12],'Yes'))\n",
    "    X_traindict[obj] = test1\n",
    "    X_validdict[obj] = test2\n",
    "    X_testdict[obj] = test3"
   ]
  },
  {
   "cell_type": "code",
   "execution_count": 13,
   "id": "75ea6666-0784-42d7-b9f9-6e177777fcaf",
   "metadata": {},
   "outputs": [
    {
     "name": "stdout",
     "output_type": "stream",
     "text": [
      "Test set, percentage of samples:       0.102 \n",
      "Validation set, percentage of samples: 0.118\n",
      "\n",
      "Sample/member: [103  77  87 111  95  84 107  87  35  32 106  67  72  87 100  37  84  88\n",
      "  80  26]\n"
     ]
    }
   ],
   "source": [
    "print(f\"Test set, percentage of samples:       {(np.sum([np.asarray([aobj[0] for aobj in a])[indx] for indx in [2,12]])/1565):.3f} \\n\"+\n",
    "      f\"Validation set, percentage of samples: {(np.sum([np.asarray([aobj[0] for aobj in a])[indx] for indx in [1,6]])/1565):.3f}\")\n",
    "print(f\"\\nSample/member: {np.asarray([aobj[0] for aobj in a])}\",)"
   ]
  },
  {
   "cell_type": "code",
   "execution_count": 15,
   "id": "e405a599-b548-4ead-b01b-a353eeb83ee0",
   "metadata": {},
   "outputs": [],
   "source": [
    "folderpath='/work/FAC/FGSE/IDYST/tbeucler/default/freddy0218/TCGphy/testML/output/haiyan/processed/'\n",
    "read_and_proc.save_to_pickle(folderpath+'pca/Xtrain'+'_'+'dict_g',X_traindict,'PICKLE')\n",
    "read_and_proc.save_to_pickle(folderpath+'pca/Xvalid'+'_'+'dict_g',X_validdict,'PICKLE')\n",
    "read_and_proc.save_to_pickle(folderpath+'pca/Xtest'+'_'+'dict_g',X_testdict,'PICKLE')"
   ]
  },
  {
   "cell_type": "markdown",
   "id": "eb40a3a9-e19d-48ce-9bb1-2e28512099ab",
   "metadata": {},
   "source": [
    "#### Produce Output Dataset"
   ]
  },
  {
   "cell_type": "code",
   "execution_count": 54,
   "id": "eb92bae2-47e6-40c5-af10-78af3b9712af",
   "metadata": {},
   "outputs": [],
   "source": [
    "y_all = (input_output(dict1,None,['u','v','w','qv','theta','heatsum','hdia','rad','ir'],None).make_Y(exp_pca_nonorml,np.linspace(0,35,36)+1,[1,6],[2,12]))"
   ]
  },
  {
   "cell_type": "code",
   "execution_count": 59,
   "id": "ae81a372-1027-4ec0-a09f-6088bd8095de",
   "metadata": {},
   "outputs": [],
   "source": [
    "folderpath='/work/FAC/FGSE/IDYST/tbeucler/default/freddy0218/TCGphy/testML/output/haiyan/processed/'\n",
    "read_and_proc.save_to_pickle(folderpath+'pca/allY'+'_'+'dict_g',y_all,'PICKLE')"
   ]
  },
  {
   "cell_type": "code",
   "execution_count": null,
   "id": "75221181-a985-4669-9bbb-287a036f83a9",
   "metadata": {},
   "outputs": [],
   "source": []
  }
 ],
 "metadata": {
  "kernelspec": {
   "display_name": "Python 3 (ipykernel)",
   "language": "python",
   "name": "python3"
  },
  "language_info": {
   "codemirror_mode": {
    "name": "ipython",
    "version": 3
   },
   "file_extension": ".py",
   "mimetype": "text/x-python",
   "name": "python",
   "nbconvert_exporter": "python",
   "pygments_lexer": "ipython3",
   "version": "3.9.7"
  }
 },
 "nbformat": 4,
 "nbformat_minor": 5
}
