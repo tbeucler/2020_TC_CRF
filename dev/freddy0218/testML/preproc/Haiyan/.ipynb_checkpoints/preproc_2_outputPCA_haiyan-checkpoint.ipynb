{
 "cells": [
  {
   "cell_type": "code",
   "execution_count": 1,
   "id": "d65ab88d-c1b0-45ca-a128-bf805b6404f9",
   "metadata": {},
   "outputs": [
    {
     "name": "stderr",
     "output_type": "stream",
     "text": [
      "/tmp/ipykernel_2997210/1321067960.py:20: ProplotWarning: rc setting 'linewidth' was renamed to 'meta.width' in version 0.8.\n",
      "  plot.rc.update({'figure.facecolor':'w','axes.labelweight':'ultralight',\n"
     ]
    }
   ],
   "source": [
    "import warnings\n",
    "warnings.filterwarnings('ignore',category=RuntimeWarning)\n",
    "import xarray as xr\n",
    "import numpy as np\n",
    "import matplotlib as mpl\n",
    "import matplotlib.pyplot as plt\n",
    "import seaborn as sns\n",
    "import glob,os,sys\n",
    "from tqdm.auto import tqdm\n",
    "import proplot as plot\n",
    "import json,pickle\n",
    "import dask.array as da\n",
    "import gc\n",
    "from sklearn.decomposition import PCA\n",
    "sys.path.insert(1, '/work/FAC/FGSE/IDYST/tbeucler/default/freddy0218/TCGphy/2020_TC_CRF/dev/freddy0218/')\n",
    "from tools import derive_var,read_and_proc,preproc_noensemble\n",
    "from tools.mlr import mlr\n",
    "from tools.preprocess import do_eof,preproc_maria,preproc_haiyan\n",
    "%matplotlib inline\n",
    "plot.rc.update({'figure.facecolor':'w','axes.labelweight':'ultralight',\n",
    "                'tick.labelweight':'ultralight','gridminor.linestyle':'--','title.weight':'normal','linewidth':0.5})"
   ]
  },
  {
   "cell_type": "markdown",
   "id": "71056071-63c9-40b8-a7ce-501f58f27e7c",
   "metadata": {},
   "source": [
    "#### Read"
   ]
  },
  {
   "cell_type": "code",
   "execution_count": 3,
   "id": "052a2ba3-de8d-40da-962c-e20d81cfd576",
   "metadata": {},
   "outputs": [
    {
     "data": {
      "application/vnd.jupyter.widget-view+json": {
       "model_id": "b24b5735d382449894dee5dc087e3910",
       "version_major": 2,
       "version_minor": 0
      },
      "text/plain": [
       "  0%|          | 0/20 [00:00<?, ?it/s]"
      ]
     },
     "metadata": {},
     "output_type": "display_data"
    },
    {
     "data": {
      "application/vnd.jupyter.widget-view+json": {
       "model_id": "abcc6b3d01d64cc88c8ec2ef607d5403",
       "version_major": 2,
       "version_minor": 0
      },
      "text/plain": [
       "  0%|          | 0/20 [00:00<?, ?it/s]"
      ]
     },
     "metadata": {},
     "output_type": "display_data"
    },
    {
     "data": {
      "application/vnd.jupyter.widget-view+json": {
       "model_id": "31025b6589c3406ca0ebd0c37f932796",
       "version_major": 2,
       "version_minor": 0
      },
      "text/plain": [
       "  0%|          | 0/20 [00:00<?, ?it/s]"
      ]
     },
     "metadata": {},
     "output_type": "display_data"
    },
    {
     "data": {
      "application/vnd.jupyter.widget-view+json": {
       "model_id": "96028fb734754574a6039d8533748c67",
       "version_major": 2,
       "version_minor": 0
      },
      "text/plain": [
       "  0%|          | 0/20 [00:00<?, ?it/s]"
      ]
     },
     "metadata": {},
     "output_type": "display_data"
    },
    {
     "data": {
      "application/vnd.jupyter.widget-view+json": {
       "model_id": "b7f4fd56285a4d14b882e80e13a76ed9",
       "version_major": 2,
       "version_minor": 0
      },
      "text/plain": [
       "  0%|          | 0/20 [00:00<?, ?it/s]"
      ]
     },
     "metadata": {},
     "output_type": "display_data"
    },
    {
     "data": {
      "application/vnd.jupyter.widget-view+json": {
       "model_id": "1193573e8d9745e9a4066e23f27a2f86",
       "version_major": 2,
       "version_minor": 0
      },
      "text/plain": [
       "  0%|          | 0/20 [00:00<?, ?it/s]"
      ]
     },
     "metadata": {},
     "output_type": "display_data"
    },
    {
     "data": {
      "application/vnd.jupyter.widget-view+json": {
       "model_id": "810f428e2e794a4facc06e2e1f8377c9",
       "version_major": 2,
       "version_minor": 0
      },
      "text/plain": [
       "  0%|          | 0/20 [00:00<?, ?it/s]"
      ]
     },
     "metadata": {},
     "output_type": "display_data"
    },
    {
     "data": {
      "application/vnd.jupyter.widget-view+json": {
       "model_id": "d5c171df8eda45afbe6ffed4a1c7c966",
       "version_major": 2,
       "version_minor": 0
      },
      "text/plain": [
       "  0%|          | 0/20 [00:00<?, ?it/s]"
      ]
     },
     "metadata": {},
     "output_type": "display_data"
    },
    {
     "data": {
      "application/vnd.jupyter.widget-view+json": {
       "model_id": "c7e6c1920ae3443ab768a0eb1ddf5a79",
       "version_major": 2,
       "version_minor": 0
      },
      "text/plain": [
       "  0%|          | 0/20 [00:00<?, ?it/s]"
      ]
     },
     "metadata": {},
     "output_type": "display_data"
    }
   ],
   "source": [
    "path = '/work/FAC/FGSE/IDYST/tbeucler/default/freddy0218/'\n",
    "suffix = '_smooth_preproc_dict1b_g'\n",
    "\n",
    "haiyan_u = np.concatenate([read_and_proc.depickle(path+'TCGphy/testML/output/haiyan/processed/uvwheat/'+'mem'+str(lime)+suffix)['u'] for lime in tqdm(range(1,21))],axis=0)\n",
    "haiyan_v = np.concatenate([read_and_proc.depickle(path+'TCGphy/testML/output/haiyan/processed/uvwheat/'+'mem'+str(lime)+suffix)['v'] for lime in tqdm(range(1,21))],axis=0)\n",
    "haiyan_w = np.concatenate([read_and_proc.depickle(path+'TCGphy/testML/output/haiyan/processed/uvwheat/'+'mem'+str(lime)+suffix)['w'] for lime in tqdm(range(1,21))],axis=0)\n",
    "haiyan_qv = np.concatenate([read_and_proc.depickle(path+'TCGphy/testML/output/haiyan/processed/uvwheat/'+'mem'+str(lime)+suffix)['qv'] for lime in tqdm(range(1,21))],axis=0)\n",
    "haiyan_theta = np.concatenate([read_and_proc.depickle(path+'TCGphy/testML/output/haiyan/processed/uvwheat/'+'mem'+str(lime)+suffix)['theta'] for lime in tqdm(range(1,21))],axis=0)\n",
    "haiyan_heatsum = np.concatenate([read_and_proc.depickle(path+'TCGphy/testML/output/haiyan/processed/uvwheat/'+'mem'+str(lime)+suffix)['heatsum'] for lime in tqdm(range(1,21))],axis=0)\n",
    "haiyan_hdia = np.concatenate([read_and_proc.depickle(path+'TCGphy/testML/output/haiyan/processed/uvwheat/'+'mem'+str(lime)+suffix)['hdia'] for lime in tqdm(range(1,21))],axis=0)\n",
    "haiyan_rad = np.concatenate([read_and_proc.depickle(path+'TCGphy/testML/output/haiyan/processed/uvwheat/'+'mem'+str(lime)+suffix)['rad'] for lime in tqdm(range(1,21))],axis=0)\n",
    "haiyan_ir = np.concatenate([read_and_proc.depickle(path+'TCGphy/testML/output/haiyan/processed/uvwheat/'+'mem'+str(lime)+suffix)['ir'] for lime in tqdm(range(1,21))],axis=0)"
   ]
  },
  {
   "cell_type": "code",
   "execution_count": 4,
   "id": "bf38783c-582a-4946-9db2-21292f1ec19f",
   "metadata": {},
   "outputs": [],
   "source": [
    "def build_a_xarray_dataset(ds=None,varname=None,varfile=None,dims=None,coords=None):\n",
    "    def build_xa(arraydata=None,arrayname=None):\n",
    "        da = xr.DataArray(data=arraydata,dims=dims,coords=coords,name=arrayname)\n",
    "        return da\n",
    "    # Complete the code\n",
    "    for varobj,varnamen in zip(varfile,varname):\n",
    "        da = build_xa(varobj,varnamen)\n",
    "        ds = xr.merge( [ds , da ] )\n",
    "    return ds"
   ]
  },
  {
   "cell_type": "code",
   "execution_count": 4,
   "id": "17f31e77-477c-4256-9920-1d64513fbfdb",
   "metadata": {
    "jupyter": {
     "source_hidden": true
    },
    "tags": []
   },
   "outputs": [
    {
     "data": {
      "text/plain": [
       "99"
      ]
     },
     "execution_count": 4,
     "metadata": {},
     "output_type": "execute_result"
    }
   ],
   "source": [
    "dims = ['sample','flatarray']\n",
    "coords = dict(sample=np.linspace(0,haiyan_u.shape[0]-1,haiyan_u.shape[0]),flatarray=np.linspace(0,haiyan_u.shape[1]-1,haiyan_u.shape[1]))\n",
    "\n",
    "ds = xr.Dataset(coords=coords)\n",
    "haiyan_data=build_a_xarray_dataset(ds=ds,varname=['u','v','w','theta','heatsum','hdia','rad','qv','ir'],\\\n",
    "                                   varfile=[haiyan_u,haiyan_v,haiyan_w,haiyan_theta,haiyan_heatsum,haiyan_hdia,haiyan_rad,haiyan_qv,haiyan_ir],dims=dims,coords=coords)\n",
    "del haiyan_u,haiyan_v,haiyan_w,haiyan_theta,haiyan_heatsum,haiyan_hdia,haiyan_rad\n",
    "gc.collect()"
   ]
  },
  {
   "cell_type": "markdown",
   "id": "0f26d552-0443-4864-9a4c-c01a32aa1a9d",
   "metadata": {
    "jp-MarkdownHeadingCollapsed": true,
    "tags": []
   },
   "source": [
    "#### Incremental PCA"
   ]
  },
  {
   "cell_type": "code",
   "execution_count": 5,
   "id": "9af2b44d-c628-411a-98f3-352f482a6486",
   "metadata": {},
   "outputs": [],
   "source": [
    "from sklearn.decomposition import IncrementalPCA\n",
    "def fit_cheap_pca(n_batches=None,n_comps=None,var=None):\n",
    "    #n_batches = 20\n",
    "    inc_pca = IncrementalPCA(n_components=n_comps)\n",
    "    for X_batch in tqdm(np.array_split(var.data,n_batches)):\n",
    "        inc_pca.partial_fit(X_batch)\n",
    "    return inc_pca"
   ]
  },
  {
   "cell_type": "code",
   "execution_count": 6,
   "id": "1e92bc54-0bbb-4d76-8431-f0ffe3083b02",
   "metadata": {},
   "outputs": [
    {
     "data": {
      "application/vnd.jupyter.widget-view+json": {
       "model_id": "42f3a33cf28146d5809696997e37cfca",
       "version_major": 2,
       "version_minor": 0
      },
      "text/plain": [
       "  0%|          | 0/10 [00:00<?, ?it/s]"
      ]
     },
     "metadata": {},
     "output_type": "display_data"
    },
    {
     "data": {
      "application/vnd.jupyter.widget-view+json": {
       "model_id": "60f6f733ffb247478757d8486a549d19",
       "version_major": 2,
       "version_minor": 0
      },
      "text/plain": [
       "  0%|          | 0/10 [00:00<?, ?it/s]"
      ]
     },
     "metadata": {},
     "output_type": "display_data"
    },
    {
     "data": {
      "application/vnd.jupyter.widget-view+json": {
       "model_id": "91ad140da6934b6abff8e158fd1faa55",
       "version_major": 2,
       "version_minor": 0
      },
      "text/plain": [
       "  0%|          | 0/10 [00:00<?, ?it/s]"
      ]
     },
     "metadata": {},
     "output_type": "display_data"
    }
   ],
   "source": [
    "pca_store = {}\n",
    "for varnamex in (['rad','qv','ir']):#['u','v','w','theta','heatsum','hdia','rad','qv']):\n",
    "    pca_store[varnamex] = fit_cheap_pca(n_batches=10,n_comps=150,var=haiyan_data[varnamex])"
   ]
  },
  {
   "cell_type": "code",
   "execution_count": 7,
   "id": "68f1989d-b8cd-44de-9159-ece52c0cc494",
   "metadata": {},
   "outputs": [],
   "source": [
    "folderpath='/work/FAC/FGSE/IDYST/tbeucler/default/freddy0218/TCGphy/testML/output/haiyan/processed/'\n",
    "read_and_proc.save_to_pickle(folderpath+'pca/PCA'+'_'+'dict2_g',pca_store,'PICKLE')"
   ]
  },
  {
   "cell_type": "markdown",
   "id": "ad1533f2-c9ab-4119-a8f8-dde92d4432fc",
   "metadata": {},
   "source": [
    "#### Fourier decomposition"
   ]
  },
  {
   "cell_type": "code",
   "execution_count": 5,
   "id": "961e11fd-523b-4292-b00e-938c9b638607",
   "metadata": {},
   "outputs": [],
   "source": [
    "utestfile = read_and_proc.depickle(glob.glob('/work/FAC/FGSE/IDYST/tbeucler/default/freddy0218/'+'TCGphy/testML/output/haiyan/'+'urad/*')[0])\n",
    "path_coor = '/work/FAC/FGSE/IDYST/tbeucler/default/freddy0218/data/haiyan/U.nc'\n",
    "coor = xr.open_dataset(path_coor)"
   ]
  },
  {
   "cell_type": "code",
   "execution_count": 6,
   "id": "6460193c-404a-4f28-b88e-ef23c117ee3e",
   "metadata": {},
   "outputs": [
    {
     "data": {
      "text/plain": [
       "((95, 360, 208), (1565, 748800), (10,))"
      ]
     },
     "execution_count": 6,
     "metadata": {},
     "output_type": "execute_result"
    }
   ],
   "source": [
    "utestfile[0].shape,haiyan_u.shape,coor.pres.shape"
   ]
  },
  {
   "cell_type": "code",
   "execution_count": 7,
   "id": "11914827-826f-4cde-a2c1-d75965bb9bf6",
   "metadata": {},
   "outputs": [],
   "source": [
    "coorpres = coor.pres.data\n",
    "mydata = xr.Dataset(data_vars=dict(u=(['samples','pressure','azimuth','radius'],haiyan_u.reshape(haiyan_u.shape[0],10,360,utestfile[0].shape[-1])),\n",
    "                                   v=(['samples','pressure','azimuth','radius'],haiyan_v.reshape(haiyan_u.shape[0],10,360,utestfile[0].shape[-1])),\n",
    "                                   w=(['samples','pressure','azimuth','radius'],haiyan_w.reshape(haiyan_u.shape[0],10,360,utestfile[0].shape[-1])),\n",
    "                                   qv=(['samples','pressure','azimuth','radius'],haiyan_qv.reshape(haiyan_u.shape[0],10,360,utestfile[0].shape[-1])),\n",
    "                                   theta=(['samples','pressure','azimuth','radius'],haiyan_theta.reshape(haiyan_u.shape[0],10,360,utestfile[0].shape[-1])),\n",
    "                                   Q=(['samples','pressure','azimuth','radius'],haiyan_heatsum.reshape(haiyan_u.shape[0],10,360,utestfile[0].shape[-1])),\n",
    "                                   RAD=(['samples','pressure','azimuth','radius'],haiyan_rad.reshape(haiyan_u.shape[0],10,360,utestfile[0].shape[-1])),\n",
    "                                  IR=(['samples','pressure','azimuth','radius'],haiyan_ir.reshape(haiyan_u.shape[0],10,360,utestfile[0].shape[-1]))),\n",
    "          coords=dict(pressure=coorpres),attrs=dict(description='Data for Fourier Analysis'))"
   ]
  },
  {
   "cell_type": "code",
   "execution_count": 18,
   "id": "1a2f184a-1abd-4e82-95d1-5f8913d407c2",
   "metadata": {},
   "outputs": [
    {
     "data": {
      "text/plain": [
       "<module 'tools.preprocess.preproc_haiyan' from '/work/FAC/FGSE/IDYST/tbeucler/default/freddy0218/TCGphy/2020_TC_CRF/dev/freddy0218/tools/preprocess/preproc_haiyan.py'>"
      ]
     },
     "execution_count": 18,
     "metadata": {},
     "output_type": "execute_result"
    }
   ],
   "source": [
    "import importlib\n",
    "importlib.reload(preproc_haiyan)"
   ]
  },
  {
   "cell_type": "code",
   "execution_count": 19,
   "id": "0e9ae7f6-c731-4e87-b75f-aa47edaa42c9",
   "metadata": {},
   "outputs": [
    {
     "name": "stdout",
     "output_type": "stream",
     "text": [
      "(1565, 10, 360, 208)\n"
     ]
    },
    {
     "ename": "AssertionError",
     "evalue": "axis shape error",
     "output_type": "error",
     "traceback": [
      "\u001b[0;31m---------------------------------------------------------------------------\u001b[0m",
      "\u001b[0;31mAssertionError\u001b[0m                            Traceback (most recent call last)",
      "Input \u001b[0;32mIn [19]\u001b[0m, in \u001b[0;36m<cell line: 3>\u001b[0;34m()\u001b[0m\n\u001b[1;32m      2\u001b[0m calc_model \u001b[38;5;241m=\u001b[39m []\n\u001b[1;32m      3\u001b[0m \u001b[38;5;28;01mfor\u001b[39;00m indx,obj \u001b[38;5;129;01min\u001b[39;00m \u001b[38;5;28menumerate\u001b[39m([\u001b[38;5;124m'\u001b[39m\u001b[38;5;124mu\u001b[39m\u001b[38;5;124m'\u001b[39m]):\u001b[38;5;66;03m#,'v','w','qv','theta','Q','RAD','IR']):\u001b[39;00m\n\u001b[0;32m----> 4\u001b[0m     calc_model\u001b[38;5;241m.\u001b[39mappend(\u001b[43mpreproc_haiyan\u001b[49m\u001b[38;5;241;43m.\u001b[39;49m\u001b[43mvertical_decomp\u001b[49m\u001b[43m(\u001b[49m\u001b[43marraysize\u001b[49m\u001b[38;5;241;43m=\u001b[39;49m\u001b[38;5;241;43m10\u001b[39;49m\u001b[43m,\u001b[49m\u001b[43mcoorpres\u001b[49m\u001b[38;5;241;43m=\u001b[39;49m\u001b[43mcoorpres\u001b[49m\u001b[43m,\u001b[49m\u001b[43mkernIN\u001b[49m\u001b[38;5;241;43m=\u001b[39;49m\u001b[43mkern\u001b[49m\u001b[43m)\u001b[49m\u001b[38;5;241;43m.\u001b[39;49m\u001b[43mprocessFFT\u001b[49m\u001b[43m(\u001b[49m\u001b[43marray\u001b[49m\u001b[38;5;241;43m=\u001b[39;49m\u001b[43mmydata\u001b[49m\u001b[43m[\u001b[49m\u001b[43mobj\u001b[49m\u001b[43m]\u001b[49m\u001b[43m[\u001b[49m\u001b[38;5;241;43m.\u001b[39;49m\u001b[38;5;241;43m.\u001b[39;49m\u001b[38;5;241;43m.\u001b[39;49m\u001b[43m]\u001b[49m\u001b[38;5;241;43m.\u001b[39;49m\u001b[43mdata\u001b[49m\u001b[43m)\u001b[49m)\n",
      "File \u001b[0;32m/work/FAC/FGSE/IDYST/tbeucler/default/freddy0218/TCGphy/2020_TC_CRF/dev/freddy0218/tools/preprocess/preproc_haiyan.py:203\u001b[0m, in \u001b[0;36mprocessFFT\u001b[0;34m(self, array)\u001b[0m\n\u001b[1;32m    201\u001b[0m     return calcmodel\n\u001b[1;32m    202\u001b[0m \n\u001b[0;32m--> 203\u001b[0m def processFFT(self,array=None):\n\u001b[1;32m    204\u001b[0m     assert array.shape[1]==10 | array.shape[1]==39, 'axis shape error'\n\u001b[1;32m    205\u001b[0m     calcmodel = np.fft.fft(array,n=20,axis=1)\n",
      "\u001b[0;31mAssertionError\u001b[0m: axis shape error"
     ]
    }
   ],
   "source": [
    "_,kern,pres = preproc_haiyan.vertical_decomp(arraysize=10,coorpres=coorpres).get_coeff(mydata['Q'][90,:,90,20],True,None)\n",
    "calc_model = []\n",
    "for indx,obj in enumerate(['u']):#,'v','w','qv','theta','Q','RAD','IR']):\n",
    "    calc_model.append(preproc_haiyan.vertical_decomp(arraysize=10,coorpres=coorpres,kernIN=kern).processFFT(array=mydata[obj][...].data))"
   ]
  },
  {
   "cell_type": "code",
   "execution_count": 22,
   "id": "e26b81ba-026c-4ac8-a3c7-61eeacd1048f",
   "metadata": {},
   "outputs": [],
   "source": [
    "del preproc_haiyan"
   ]
  },
  {
   "cell_type": "code",
   "execution_count": null,
   "id": "7fb5c7a0-5c86-48af-b1fa-5e9858fe1ae3",
   "metadata": {},
   "outputs": [],
   "source": []
  }
 ],
 "metadata": {
  "kernelspec": {
   "display_name": "Python 3 (ipykernel)",
   "language": "python",
   "name": "python3"
  },
  "language_info": {
   "codemirror_mode": {
    "name": "ipython",
    "version": 3
   },
   "file_extension": ".py",
   "mimetype": "text/x-python",
   "name": "python",
   "nbconvert_exporter": "python",
   "pygments_lexer": "ipython3",
   "version": "3.9.7"
  }
 },
 "nbformat": 4,
 "nbformat_minor": 5
}
