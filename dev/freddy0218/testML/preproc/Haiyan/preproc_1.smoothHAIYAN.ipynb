{
 "cells": [
  {
   "cell_type": "code",
   "execution_count": 4,
   "id": "2f4ff5e6-1f92-4a03-b26a-72386e259faa",
   "metadata": {
    "collapsed": true,
    "jupyter": {
     "outputs_hidden": true
    },
    "tags": []
   },
   "outputs": [
    {
     "name": "stderr",
     "output_type": "stream",
     "text": [
      "/tmp/ipykernel_1559747/277948289.py:21: ProplotWarning: rc setting 'linewidth' was renamed to 'meta.width' in version 0.8.\n",
      "  plot.rc.update({'figure.facecolor':'w','axes.labelweight':'ultralight',\n",
      "2022-10-27 14:24:44,112 - distributed.worker - WARNING - Mismatched versions found\n",
      "\n",
      "+---------+---------------------------------------------+-----------+-----------+\n",
      "| Package | Worker-9b06a654-28e5-48e1-9adc-1ae4e7c3b0fc | Scheduler | Workers   |\n",
      "+---------+---------------------------------------------+-----------+-----------+\n",
      "| dask    | 2022.10.0                                   | 2022.9.2  | 2022.10.0 |\n",
      "| tornado | 6.1                                         | 6.2       | 6.1       |\n",
      "+---------+---------------------------------------------+-----------+-----------+\n",
      "2022-10-27 14:24:44,113 - distributed.worker - WARNING - Mismatched versions found\n",
      "\n",
      "+---------+---------------------------------------------+-----------+-----------+\n",
      "| Package | Worker-c33b179c-8b40-466b-b288-291b773ba19a | Scheduler | Workers   |\n",
      "+---------+---------------------------------------------+-----------+-----------+\n",
      "| dask    | 2022.10.0                                   | 2022.9.2  | 2022.10.0 |\n",
      "| tornado | 6.1                                         | 6.2       | 6.1       |\n",
      "+---------+---------------------------------------------+-----------+-----------+\n",
      "/work/FAC/FGSE/IDYST/tbeucler/default/freddy0218/miniconda3/lib/python3.9/site-packages/distributed/client.py:1309: VersionMismatchWarning: Mismatched versions found\n",
      "\n",
      "+---------+----------+-----------+-----------+\n",
      "| Package | Client   | Scheduler | Workers   |\n",
      "+---------+----------+-----------+-----------+\n",
      "| dask    | 2022.9.2 | 2022.9.2  | 2022.10.0 |\n",
      "| tornado | 6.2      | 6.2       | 6.1       |\n",
      "+---------+----------+-----------+-----------+\n",
      "  warnings.warn(version_module.VersionMismatchWarning(msg[0][\"warning\"]))\n"
     ]
    }
   ],
   "source": [
    "import warnings\n",
    "warnings.filterwarnings('ignore',category=RuntimeWarning)\n",
    "import xarray as xr\n",
    "import numpy as np\n",
    "import matplotlib as mpl\n",
    "import matplotlib.pyplot as plt\n",
    "import seaborn as sns\n",
    "import glob,os,sys\n",
    "from tqdm.auto import tqdm\n",
    "import datetime\n",
    "import proplot as plot\n",
    "import json,pickle\n",
    "import dask.array as da\n",
    "import gc\n",
    "from sklearn.decomposition import PCA\n",
    "sys.path.insert(1, '/work/FAC/FGSE/IDYST/tbeucler/default/freddy0218/TCGphy/2020_TC_CRF/dev/freddy0218/scikit/')\n",
    "from tools import derive_var,read_and_proc,preproc_noensemble\n",
    "from tools.mlr import mlr\n",
    "from tools.preprocess import do_eof,preproc_maria,preproc_haiyan\n",
    "%matplotlib inline\n",
    "plot.rc.update({'figure.facecolor':'w','axes.labelweight':'ultralight',\n",
    "                'tick.labelweight':'ultralight','gridminor.linestyle':'--','title.weight':'normal','linewidth':0.5})\n",
    "\n",
    "from dask.distributed import Client\n",
    "client = Client(processes=True, threads_per_worker=1,n_workers=2)\n",
    "import time\n",
    "import numpy as np"
   ]
  },
  {
   "cell_type": "code",
   "execution_count": 5,
   "id": "cd366af7-f6c7-41d3-82c5-6099467cf5c3",
   "metadata": {},
   "outputs": [],
   "source": [
    "def do_PCA(array=None):\n",
    "    skpcaVAR = PCA()\n",
    "    skpcaVAR.fit(array)\n",
    "    return skpcaVAR\n",
    "\n",
    "def forward_diff(arrayin=None,delta=None,axis=None,LT=1):\n",
    "    result = []\n",
    "    if axis==0:\n",
    "            for i in range(0,arrayin.shape[axis]-LT):\n",
    "                temp = (arrayin[i+LT,:]-arrayin[i,:])/(LT*delta)\n",
    "                result.append(temp)\n",
    "            return np.asarray(result)"
   ]
  },
  {
   "cell_type": "code",
   "execution_count": 6,
   "id": "43dad7d0-5e11-41cd-a480-430682708fae",
   "metadata": {},
   "outputs": [],
   "source": [
    "utestfile = read_and_proc.depickle(glob.glob('/work/FAC/FGSE/IDYST/tbeucler/default/freddy0218/'+'TCGphy/2020_TC_CRF/dev/freddy0218/testML/output/haiyan/'+'urad/*')[0])"
   ]
  },
  {
   "cell_type": "code",
   "execution_count": 14,
   "id": "18994bdb-9d67-484d-99aa-fd90aa957c72",
   "metadata": {
    "tags": []
   },
   "outputs": [
    {
     "data": {
      "application/vnd.jupyter.widget-view+json": {
       "model_id": "3197d27a90da46d7b95ef0230b19715f",
       "version_major": 2,
       "version_minor": 0
      },
      "text/plain": [
       "  0%|          | 0/20 [00:00<?, ?it/s]"
      ]
     },
     "metadata": {},
     "output_type": "display_data"
    },
    {
     "data": {
      "text/plain": [
       "[None,\n",
       " None,\n",
       " None,\n",
       " None,\n",
       " None,\n",
       " None,\n",
       " None,\n",
       " None,\n",
       " None,\n",
       " None,\n",
       " None,\n",
       " None,\n",
       " None,\n",
       " None,\n",
       " None,\n",
       " None,\n",
       " None,\n",
       " None,\n",
       " None,\n",
       " None]"
      ]
     },
     "execution_count": 14,
     "metadata": {},
     "output_type": "execute_result"
    }
   ],
   "source": [
    "import importlib\n",
    "importlib.reload(preproc_haiyan)\n",
    "\n",
    "path = '/work/FAC/FGSE/IDYST/tbeucler/default/freddy0218/'\n",
    "#a = preproc_haiyan.preprocess(uvtpath=path+'TCGphy/testML/output/haiyan/',originpath=path+'data/haiyan/',expname=4,window=5,addctrlmethod='new',gaussian=True,sigma=[3,0,0,0],surfix='preproc_dict1b_g').swap_presaved(varname='theta')\n",
    "[preproc_haiyan.preprocess(uvtpath=path+'TCGphy/2020_TC_CRF/dev/freddy0218/testML/output/haiyan/',originpath=path+'data/haiyan/',expname=i,\n",
    "                          window=5,addctrlmethod='new',gaussian=True,sigma=[3,0,0,0],surfix='preproc_dict1b_g').preproc_uvwF(smooth=True,rmax=utestfile[0].shape[-1]) for i in tqdm(range(1,21))]\n",
    "#[preproc_haiyan.preprocess(uvtpath=path+'TCGphy/testML/output/haiyan/',originpath=path+'data/haiyan/',expname=i,\n",
    "#                               window=5,addctrlmethod='new',gaussian=True,sigma=[3,0,0,0],surfix='preproc_dict1b_g_dudvdwdth').preproc_dudvdw(smooth=True,rmax=utestfile[0].shape[-1]) for i in tqdm(range(1,21))]\n",
    "#[preproc_haiyan.preprocess(uvtpath=path+'TCGphy/testML/output/haiyan/',originpath=path+'data/haiyan/',expname=i,\n",
    "#                           window=5,addctrlmethod='new',gaussian=True,sigma=[3,0,0,0],surfix='preproc_dict1b_g_radcomp').preproc_radcomps(smooth=True,rmax=utestfile[0].shape[-1]) for i in tqdm(range(1,21))]"
   ]
  },
  {
   "cell_type": "code",
   "execution_count": null,
   "id": "4488bfc1-3900-4cfa-a0b5-413bcbd9193b",
   "metadata": {},
   "outputs": [],
   "source": []
  }
 ],
 "metadata": {
  "kernelspec": {
   "display_name": "Python 3 (ipykernel)",
   "language": "python",
   "name": "python3"
  },
  "language_info": {
   "codemirror_mode": {
    "name": "ipython",
    "version": 3
   },
   "file_extension": ".py",
   "mimetype": "text/x-python",
   "name": "python",
   "nbconvert_exporter": "python",
   "pygments_lexer": "ipython3",
   "version": "3.9.15"
  }
 },
 "nbformat": 4,
 "nbformat_minor": 5
}
