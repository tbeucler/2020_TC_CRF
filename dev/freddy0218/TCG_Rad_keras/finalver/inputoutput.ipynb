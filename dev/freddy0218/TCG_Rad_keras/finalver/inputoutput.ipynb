{
 "cells": [
  {
   "cell_type": "code",
   "execution_count": 2,
   "id": "1180e956-65e4-433d-b393-8eb0906b7017",
   "metadata": {},
   "outputs": [
    {
     "name": "stderr",
     "output_type": "stream",
     "text": [
      "/tmp/ipykernel_867456/794680707.py:21: ProplotWarning: rc setting 'linewidth' was renamed to 'meta.width' in version 0.8.\n",
      "  plot.rc.update({'figure.facecolor':'w','axes.labelweight':'ultralight',\n"
     ]
    }
   ],
   "source": [
    "import warnings\n",
    "warnings.filterwarnings('ignore',category=RuntimeWarning)\n",
    "import xarray as xr\n",
    "import numpy as np\n",
    "import matplotlib as mpl\n",
    "import matplotlib.pyplot as plt\n",
    "import seaborn as sns\n",
    "import glob,os,sys\n",
    "from tqdm.auto import tqdm\n",
    "import proplot as plot\n",
    "import json,pickle\n",
    "import dask.array as da\n",
    "import gc\n",
    "from sklearn.decomposition import PCA\n",
    "sys.path.insert(1, '/work/FAC/FGSE/IDYST/tbeucler/default/freddy0218/TCGphy/2020_TC_CRF/dev/freddy0218/scikit/')\n",
    "from tools import derive_var,read_and_proc,preproc_noensemble\n",
    "from tools.mlr import mlr\n",
    "from tools.preprocess import do_eof,preproc_maria,preproc_haiyan\n",
    "from tqdm.auto import tqdm\n",
    "%matplotlib inline\n",
    "plot.rc.update({'figure.facecolor':'w','axes.labelweight':'ultralight',\n",
    "                'tick.labelweight':'ultralight','gridminor.linestyle':'--','title.weight':'normal','linewidth':0.5})"
   ]
  },
  {
   "cell_type": "code",
   "execution_count": 4,
   "id": "39606a52-f335-47bc-b016-4d7d36470f5e",
   "metadata": {},
   "outputs": [],
   "source": [
    "sys.path.insert(1, '../')\n",
    "import read_stuff as read\n",
    "folderpath='/work/FAC/FGSE/IDYST/tbeucler/default/freddy0218/TCGphy/2020_TC_CRF/dev/freddy0218/TCG_Rad_keras/store/'\n",
    "folderpath2='/work/FAC/FGSE/IDYST/tbeucler/default/freddy0218/TCGphy/2020_TC_CRF/dev/freddy0218/testML/output/haiyan/processed/new3D/'\n",
    "so = []\n",
    "for index in range(40):\n",
    "    so.append(read._get_exp_name(folderpath2,index,'rhorig','fixTEST')[1])"
   ]
  },
  {
   "cell_type": "code",
   "execution_count": 5,
   "id": "5745af51-0958-4f28-a517-96cb6deb59e3",
   "metadata": {},
   "outputs": [
    {
     "data": {
      "text/plain": [
       "[['11', '4', '10', '17'],\n",
       " ['11', '7', '10', '17'],\n",
       " ['12', '13', '10', '17'],\n",
       " ['12', '14', '10', '17'],\n",
       " ['12', '6', '10', '17'],\n",
       " ['13', '19', '10', '17'],\n",
       " ['13', '7', '10', '17'],\n",
       " ['14', '12', '10', '17'],\n",
       " ['14', '18', '10', '17'],\n",
       " ['14', '19', '10', '17'],\n",
       " ['14', '4', '10', '17'],\n",
       " ['14', '6', '10', '17'],\n",
       " ['14', '7', '10', '17'],\n",
       " ['15', '13', '10', '17'],\n",
       " ['15', '16', '10', '17'],\n",
       " ['15', '19', '10', '17'],\n",
       " ['15', '5', '10', '17'],\n",
       " ['15', '7', '10', '17'],\n",
       " ['15', '8', '10', '17'],\n",
       " ['16', '11', '10', '17'],\n",
       " ['16', '12', '10', '17'],\n",
       " ['18', '11', '10', '17'],\n",
       " ['18', '1', '10', '17'],\n",
       " ['18', '3', '10', '17'],\n",
       " ['19', '1', '10', '17'],\n",
       " ['19', '7', '10', '17'],\n",
       " ['19', '8', '10', '17'],\n",
       " ['1', '11', '10', '17'],\n",
       " ['1', '5', '10', '17'],\n",
       " ['1', '9', '10', '17'],\n",
       " ['2', '19', '10', '17'],\n",
       " ['2', '7', '10', '17'],\n",
       " ['3', '19', '10', '17'],\n",
       " ['3', '1', '10', '17'],\n",
       " ['4', '6', '10', '17'],\n",
       " ['5', '19', '10', '17'],\n",
       " ['6', '1', '10', '17'],\n",
       " ['7', '14', '10', '17'],\n",
       " ['7', '3', '10', '17'],\n",
       " ['7', '5', '10', '17']]"
      ]
     },
     "execution_count": 5,
     "metadata": {},
     "output_type": "execute_result"
    }
   ],
   "source": [
    "so"
   ]
  },
  {
   "cell_type": "code",
   "execution_count": 2,
   "id": "e05ff2d8-5d83-421a-9162-9cac3f7cc798",
   "metadata": {},
   "outputs": [],
   "source": [
    "def get_max_intensity(u=None,v=None,shape=[10,360,208]):\n",
    "    TEMPts = np.max(np.mean(np.sqrt(v.reshape(v.shape[0],shape[0],shape[1],shape[2])[:,0,...]**2+u.reshape(u.shape[0],shape[0],shape[1],shape[2])[:,0,...]**2),axis=1),axis=1)\n",
    "    return TEMPts"
   ]
  },
  {
   "cell_type": "code",
   "execution_count": 3,
   "id": "b87813bb-c2b4-43fd-a0a9-f986307312db",
   "metadata": {},
   "outputs": [],
   "source": [
    "import preproc\n",
    "class proc_inputoutput:\n",
    "    def __init__(self,validindices=None,testindices=None,pcastorepath=None):\n",
    "        self.validindices=validindices\n",
    "        self.testindices=testindices\n",
    "        self.pcastorepath=pcastorepath #'./store/pca/'\n",
    "        \n",
    "    def forward_diff(self,arrayin=None,delta=None,axis=None,LT=1):\n",
    "        if len(arrayin.shape)>1:\n",
    "            result = []\n",
    "            if axis==0:\n",
    "                for i in range(0,arrayin.shape[axis]-LT):\n",
    "                    temp = (arrayin[i+LT,:]-arrayin[i,:])/(LT*delta)\n",
    "                    result.append(temp)\n",
    "                return np.asarray(result)\n",
    "        else:\n",
    "            result = []\n",
    "            for i in range(0,arrayin.shape[axis]-LT):\n",
    "                temp = (arrayin[i+LT]-arrayin[i])/(LT*delta)\n",
    "                result.append(temp)\n",
    "            return np.asarray(result)\n",
    "        \n",
    "    def _get_time_diff_ts(self,array=None,timedelta=60*60,LT=None):\n",
    "        store = []\n",
    "        for exp in array: \n",
    "            a = self.forward_diff(exp,timedelta,0,LT)\n",
    "            if a.shape[0]>0:\n",
    "                azero = np.zeros((LT))\n",
    "                store.append(np.concatenate((a,azero),axis=0))\n",
    "            else:\n",
    "                store.append(np.zeros((exp.shape[0])))\n",
    "        return store\n",
    "    \n",
    "    def myPCA_projection_sen(self,pca_dict=None,varname=None,toproj_flatvar=None,orig_flatvar=None):\n",
    "        projvar_transformed = np.dot(toproj_flatvar-np.nanmean(orig_flatvar,axis=0),pca_dict[varname].components_.T)\n",
    "        return projvar_transformed\n",
    "\n",
    "    def create_timeseries(self,var=None,varname=None,splitnum=None):\n",
    "        Xtrain,Xvalid,Xtest = preproc.train_valid_test(var,self.validindices,self.testindices)#[int(self.indices[splitnum][0]),int(self.indices[splitnum][1])],[int(self.indices[splitnum][2]),int(self.indices[splitnum][3])],'Yes')\n",
    "        pca = read_and_proc.depickle(glob.glob(self.pcastorepath+str(varname)+'/'+str(splitnum)+'/*')[0])\n",
    "        train = pca[varname].transform(Xtrain)\n",
    "        valid = self.myPCA_projection_sen(pca,varname,Xvalid,Xtrain)\n",
    "        test = self.myPCA_projection_sen(pca,varname,Xtest,Xtrain)\n",
    "        timeseries = {'train':train,'valid':valid,'test':test}\n",
    "        return timeseries\n",
    "    \n",
    "    def normalize_timeseries(self,timeseries=None,category='train'):\n",
    "        #assert timeseries['u'].shape[-1]==26,\"var shape error\"\n",
    "        output = np.zeros_like(timeseries[category])\n",
    "        for le in range(timeseries[category].shape[1]):\n",
    "            trainmean,trainstd = np.nanmean(timeseries['train'][:,le]), np.nanstd(timeseries['train'][:,le])\n",
    "            output[:,le] = (timeseries[category][:,le]-trainmean)/trainstd\n",
    "        return output\n",
    "    \n",
    "    def normalize_timeseries_sensitivity(self,timeseries=None,category='train'):\n",
    "        #assert timeseries['u'].shape[-1]==26,\"var shape error\"\n",
    "        output = np.zeros_like(timeseries[category])\n",
    "        for le in range(timeseries[category].shape[1]):\n",
    "            trainmean,trainstd = np.nanmean(timeseries['train'][:,le]), np.nanstd(timeseries['train'][:,le])\n",
    "            output[:,le] = (timeseries[category][:,le]-trainmean)/trainstd\n",
    "        return output\n",
    "    \n",
    "    def train_valid_test(self,listt=None,splitnum=None):\n",
    "        #valid, test = [listt[i] for i in [int(self.indices[splitnum][0]),int(self.indices[splitnum][1])]], [listt[i] for i in [int(self.indices[splitnum][2]),int(self.indices[splitnum][3])]]\n",
    "        valid, test = [listt[i] for i in self.validindices], [listt[i] for i in self.testindices]\n",
    "        #popindex = [int(self.indices[splitnum][0]),int(self.indices[splitnum][1])]+[int(self.indices[splitnum][2]),int(self.indices[splitnum][3])]\n",
    "        popindex = self.validindices+self.testindices\n",
    "        train = [listt[i] for i in range(len(listt)) if i not in popindex]\n",
    "        return train, valid, test\n",
    "    \n",
    "    def _back_to_exp(self,timeseries=None,divider=None):\n",
    "        if len(timeseries.shape)==2:\n",
    "            printout = [timeseries[0:divider[0],:]]\n",
    "            for i in range(1,len(divider)-2):\n",
    "                printout.append(timeseries[divider[i-1]:divider[i],:])\n",
    "            printout.append(timeseries[divider[-2]:,:])\n",
    "        elif len(timeseries.shape)==1:\n",
    "            printout = [timeseries[0:divider[0]]]\n",
    "            for i in range(1,len(divider)-2):\n",
    "                printout.append(timeseries[divider[i-1]:divider[i]])\n",
    "            printout.append(timeseries[divider[-2]:])            \n",
    "        return printout\n",
    "    \n",
    "    def back_to_exp(self,inputlong=None,divider=None,senvarname=None):\n",
    "        ts_dict = {}\n",
    "        if senvarname is None:\n",
    "            for indx,obj in tqdm(enumerate(self.varname)):\n",
    "                ts_dict[obj] = self._back_to_exp(inputlong[obj],divider)\n",
    "        else:\n",
    "            for indx,obj in tqdm(enumerate(senvarname)):\n",
    "                ts_dict[obj] = self._back_to_exp(inputlong[obj],divider)            \n",
    "        return ts_dict\n",
    "    \n",
    "    def create_X(self,vardicts=None,nummem=None,varnames=None,splitnum=None):\n",
    "        trains,valids,tests = {},{},{}\n",
    "        for ind,obj in enumerate(varnames):\n",
    "            timeseries = self.create_timeseries(vardicts[obj],obj,splitnum)\n",
    "            trains[obj] = self.normalize_timeseries(timeseries,'train')[:,:nummem[ind]]\n",
    "            valids[obj] = self.normalize_timeseries(timeseries,'valid')[:,:nummem[ind]]\n",
    "            tests[obj] = self.normalize_timeseries(timeseries,'test')[:,:nummem[ind]]\n",
    "        return trains,valids,tests    \n",
    "\n",
    "def long_MariaExps(array=None,start=None):\n",
    "    haiyan_temparray = [(array[0][12:,:])[15:,:],array[1][int(start[0]):,:],array[2][int(start[1]):,:],array[3][int(start[2]):,:],array[4][int(start[3]):,:]]\n",
    "    #haiyan_temparray = [(array[0][12:,:]),array[1][int(start[0]):,:],array[2][int(start[1]):,:],array[3][int(start[2]):,:],array[4][int(start[3]):,:]]\n",
    "    del array\n",
    "    gc.collect()\n",
    "    return haiyan_temparray#np.concatenate(haiyan_temparray,axis=0)\n",
    "\n",
    "def find_start(haiyan_data=None,ref1=0,testexp=1):\n",
    "    for i in range(len(haiyan_data[ref1])):\n",
    "        if str((haiyan_data[ref1][i]==haiyan_data[testexp][i]).all())=='True':\n",
    "            continue\n",
    "        else:\n",
    "            break\n",
    "    return i\n",
    "\n",
    "#    X_u, X_v, X_w, X_th = X[:,brchindex[0]:brchindex[1]],X[:,brchindex[1]:brchindex[2]],X[:,brchindex[2]:brchindex[3]],X[:,brchindex[3]:brchindex[4]]\n",
    "#        X_hdia, X_lw, X_sw"
   ]
  },
  {
   "cell_type": "code",
   "execution_count": 4,
   "id": "5202a2e3-2d27-479e-9a3e-440ff81dfe03",
   "metadata": {},
   "outputs": [],
   "source": [
    "name = 'HAIYAN'"
   ]
  },
  {
   "cell_type": "code",
   "execution_count": 20,
   "id": "df36e227-4fe7-4363-bb85-955c0077006a",
   "metadata": {},
   "outputs": [],
   "source": [
    "from copy import deepcopy\n",
    "class sensitivity:\n",
    "    def __init__(self,array=None):\n",
    "        self.array = array\n",
    "        \n",
    "    def vert_zeroout(self,vertlv=None):\n",
    "        for obj in vertlv:\n",
    "            self.array[:,obj,...] = 0\n",
    "        return self.array\n",
    "\n",
    "def sensitivity_divide3hr(array=None):\n",
    "    lw_cr1,lw_cr2,lw_cr3 = [],[],[]\n",
    "    for num in tqdm(range(len(array))):\n",
    "        AAAA = array[num].reshape(-1,10,360,208)\n",
    "        AAAA_cr1 = sensitivity(deepcopy(AAAA)).vert_zeroout([4,5,6,7,8,9])#[0,1,2,6,7,8,9]) Low\n",
    "        AAAA_cr2 = sensitivity(deepcopy(AAAA)).vert_zeroout([0,1,2,3,7,8,9])#[0,1,2,6,7,8,9]) Mid\n",
    "        AAAA_cr3 = sensitivity(deepcopy(AAAA)).vert_zeroout([0,1,2,3,4,5,6])#[0,1,2,6,7,8,9]) High\n",
    "        lw_cr1.append(AAAA_cr1.reshape(AAAA_cr1.shape[0],-1))\n",
    "        lw_cr2.append(AAAA_cr2.reshape(AAAA_cr2.shape[0],-1))\n",
    "        lw_cr3.append(AAAA_cr3.reshape(AAAA_cr3.shape[0],-1))\n",
    "    return lw_cr1,lw_cr2,lw_cr3"
   ]
  },
  {
   "cell_type": "code",
   "execution_count": 5,
   "id": "9a6d7a56-c027-47b4-85fc-3e8b786f64ce",
   "metadata": {},
   "outputs": [
    {
     "data": {
      "application/vnd.jupyter.widget-view+json": {
       "model_id": "ca0e3e9bb6924801bd85a9136d87b29c",
       "version_major": 2,
       "version_minor": 0
      },
      "text/plain": [
       "  0%|          | 0/20 [00:00<?, ?it/s]"
      ]
     },
     "metadata": {},
     "output_type": "display_data"
    },
    {
     "data": {
      "application/vnd.jupyter.widget-view+json": {
       "model_id": "e4d8a9a4e8f44d75a5e0b89de0c7f61a",
       "version_major": 2,
       "version_minor": 0
      },
      "text/plain": [
       "  0%|          | 0/20 [00:00<?, ?it/s]"
      ]
     },
     "metadata": {},
     "output_type": "display_data"
    },
    {
     "data": {
      "application/vnd.jupyter.widget-view+json": {
       "model_id": "d8eecead47ca4f4e9ce60426d978b12a",
       "version_major": 2,
       "version_minor": 0
      },
      "text/plain": [
       "  0%|          | 0/20 [00:00<?, ?it/s]"
      ]
     },
     "metadata": {},
     "output_type": "display_data"
    },
    {
     "data": {
      "application/vnd.jupyter.widget-view+json": {
       "model_id": "9f65e9cb9c274451b4346d470243412b",
       "version_major": 2,
       "version_minor": 0
      },
      "text/plain": [
       "  0%|          | 0/20 [00:00<?, ?it/s]"
      ]
     },
     "metadata": {},
     "output_type": "display_data"
    },
    {
     "data": {
      "application/vnd.jupyter.widget-view+json": {
       "model_id": "6ccae002ead94544a0f9842a00ea6f34",
       "version_major": 2,
       "version_minor": 0
      },
      "text/plain": [
       "  0%|          | 0/20 [00:00<?, ?it/s]"
      ]
     },
     "metadata": {},
     "output_type": "display_data"
    },
    {
     "data": {
      "application/vnd.jupyter.widget-view+json": {
       "model_id": "1b9efa0a2d0e401ea122efae74f16f43",
       "version_major": 2,
       "version_minor": 0
      },
      "text/plain": [
       "  0%|          | 0/20 [00:00<?, ?it/s]"
      ]
     },
     "metadata": {},
     "output_type": "display_data"
    },
    {
     "data": {
      "application/vnd.jupyter.widget-view+json": {
       "model_id": "e9285b84f21541a380f8cb93d1560d3d",
       "version_major": 2,
       "version_minor": 0
      },
      "text/plain": [
       "  0%|          | 0/20 [00:00<?, ?it/s]"
      ]
     },
     "metadata": {},
     "output_type": "display_data"
    },
    {
     "data": {
      "application/vnd.jupyter.widget-view+json": {
       "model_id": "089a5fa6dfaf40ba8dfeb44cd01ef901",
       "version_major": 2,
       "version_minor": 0
      },
      "text/plain": [
       "  0%|          | 0/20 [00:00<?, ?it/s]"
      ]
     },
     "metadata": {},
     "output_type": "display_data"
    },
    {
     "data": {
      "application/vnd.jupyter.widget-view+json": {
       "model_id": "ff8fdbb07e0b4d42b2232056f597fcd3",
       "version_major": 2,
       "version_minor": 0
      },
      "text/plain": [
       "  0%|          | 0/20 [00:00<?, ?it/s]"
      ]
     },
     "metadata": {},
     "output_type": "display_data"
    },
    {
     "data": {
      "application/vnd.jupyter.widget-view+json": {
       "model_id": "0dd3aa156be1420896d67158aa6c8110",
       "version_major": 2,
       "version_minor": 0
      },
      "text/plain": [
       "  0%|          | 0/20 [00:00<?, ?it/s]"
      ]
     },
     "metadata": {},
     "output_type": "display_data"
    }
   ],
   "source": [
    "if name=='HAIYAN':\n",
    "    path = '/work/FAC/FGSE/IDYST/tbeucler/default/freddy0218/'\n",
    "    suffix = '_smooth_preproc_dict1b_g'\n",
    "    a = [read_and_proc.depickle(path+'TCGphy/2020_TC_CRF/dev/freddy0218/testML/output/haiyan/processed/uvwheat/'+'mem'+str(lime)+suffix)['u'].shape for lime in tqdm(range(1,21))]\n",
    "    # divide experiments reference\n",
    "    divider = np.asarray([aobj[0] for aobj in a]).cumsum()\n",
    "    \n",
    "    haiyan_u = [read_and_proc.depickle(path+'TCGphy/2020_TC_CRF/dev/freddy0218/testML/output/haiyan/processed/uvwheat/'+'mem'+str(lime)+suffix)['u'] for lime in tqdm(range(1,21))]\n",
    "    haiyan_v = [read_and_proc.depickle(path+'TCGphy/2020_TC_CRF/dev/freddy0218/testML/output/haiyan/processed/uvwheat/'+'mem'+str(lime)+suffix)['v'] for lime in tqdm(range(1,21))]\n",
    "    haiyan_w = [read_and_proc.depickle(path+'TCGphy/2020_TC_CRF/dev/freddy0218/testML/output/haiyan/processed/uvwheat/'+'mem'+str(lime)+suffix)['w'] for lime in tqdm(range(1,21))]\n",
    "    haiyan_theta = [read_and_proc.depickle(path+'TCGphy/2020_TC_CRF/dev/freddy0218/testML/output/haiyan/processed/uvwheat/'+'mem'+str(lime)+suffix)['theta'] for lime in tqdm(range(1,21))]\n",
    "    haiyan_rh = [read_and_proc.depickle(path+'TCGphy/2020_TC_CRF/dev/freddy0218/testML/output/haiyan/processed/uvwheat/'+'mem'+str(lime)+suffix)['rh'] for lime in tqdm(range(1,21))]\n",
    "    haiyan_hdia = [read_and_proc.depickle(path+'TCGphy/2020_TC_CRF/dev/freddy0218/testML/output/haiyan/processed/uvwheat/'+'mem'+str(lime)+suffix)['hdia'] for lime in tqdm(range(1,21))]\n",
    "    haiyan_rad = [read_and_proc.depickle(path+'TCGphy/2020_TC_CRF/dev/freddy0218/testML/output/haiyan/processed/uvwheat/'+'mem'+str(lime)+suffix)['rad'] for lime in tqdm(range(1,21))]\n",
    "\n",
    "    path = '/work/FAC/FGSE/IDYST/tbeucler/default/freddy0218/'\n",
    "    suffix = '_smooth_preproc_dict1b_g'\n",
    "    suffixRAD = '_smooth_preproc_dict1b_g_radcomp'\n",
    "    haiyan_lw = [read_and_proc.depickle(path+'TCGphy/2020_TC_CRF/dev/freddy0218/testML/output/haiyan/processed/uvwheat/radcomp/'+'mem'+str(lime)+suffixRAD)['LW'] for lime in tqdm(range(1,21))]\n",
    "    haiyan_sw = [read_and_proc.depickle(path+'TCGphy/2020_TC_CRF/dev/freddy0218/testML/output/haiyan/processed/uvwheat/radcomp/'+'mem'+str(lime)+suffixRAD)['SW'] for lime in tqdm(range(1,21))]\n",
    "    \n",
    "    storeWSPD = []\n",
    "    for i in range(len(haiyan_u)):\n",
    "        storeWSPD.append(get_max_intensity(haiyan_u[i],haiyan_v[i]))\n",
    "        \n",
    "    sys.path.insert(1, '../')\n",
    "    import read_stuff as read\n",
    "    folderpath='/work/FAC/FGSE/IDYST/tbeucler/default/freddy0218/TCGphy/2020_TC_CRF/dev/freddy0218/TCG_Rad_keras/store/'\n",
    "    folderpath2='/work/FAC/FGSE/IDYST/tbeucler/default/freddy0218/TCGphy/2020_TC_CRF/dev/freddy0218/testML/output/haiyan/processed/new3D/'\n",
    "    so = []\n",
    "    for index in range(40):\n",
    "        so.append(read._get_exp_name(folderpath2,index,'rhorig','fixTEST')[1])\n",
    "        \n",
    "    #nummem=[50,38,91,28,8,82,20,20,20]\n",
    "    nummem=[50,38,50,28,8,50,20,20,20]\n",
    "    varnames = ['u', 'v', 'w', 'rh','theta', 'hdia', 'rad', 'lw', 'sw']\n",
    "    EXPS = [['lw','sw'],['lw','sw','hdia'],['lw','sw','intensity'],['lw','sw','hdia','intensity'],['u','v','w','theta','hdia','lw','sw'],['u','v','w','theta','hdia','lw','sw','intensity']]\n",
    "    storename = ['lwsw','lwswhdia','lwsw_inten','lwswhdia_inten','uvwthhdialwsw','uvwthhdialwsw_inten']\n",
    "    vardicts = {'u':haiyan_u,'v':haiyan_v,'w':haiyan_w,'rh':haiyan_rh,'theta':haiyan_theta,'hdia':haiyan_hdia,'rad':haiyan_rad,'lw':haiyan_lw,'sw':haiyan_sw}\n",
    "    del haiyan_u, haiyan_v, haiyan_w, haiyan_rh, haiyan_theta, haiyan_hdia, haiyan_rad, haiyan_lw, haiyan_sw\n",
    "    gc.collect()\n",
    "    #for i in tqdm(range(41)):#41):\n",
    "    #    trainsX,validsX,testsX = proc_inputoutput([int(so[i][0]),int(so[i][1])],[int(so[i][2]),int(so[i][3])],'./haiyan_store/pca/').create_X(vardicts,nummem,varnames,i)\n",
    "    #    WSPD_train,WSPD_valid,WSPD_test = (preproc.train_valid_test(storeWSPD,[int(so[i][0]),int(so[i][1])],[int(so[i][2]),int(so[i][3])],'No'))\n",
    "    #    wspdmean,wspdstd = np.nanmean(np.concatenate(WSPD_train)),np.nanstd(np.concatenate(WSPD_train))\n",
    "    #    wspd_train,wspd_valid,wspd_test = np.concatenate([(obj-wspdmean)/wspdstd for obj in WSPD_train]),np.concatenate([(obj-wspdmean)/wspdstd for obj in WSPD_valid]),np.concatenate([(obj-wspdmean)/wspdstd for obj in WSPD_test])\n",
    "    #    trainsX['intensity'] = wspd_train[:,np.newaxis]\n",
    "    #    validsX['intensity'] = wspd_valid[:,np.newaxis]\n",
    "    #    testsX['intensity']  = wspd_test[:,np.newaxis]\n",
    "        \n",
    "    #    storedict = {}\n",
    "    #    for ind,EXP in enumerate(EXPS):\n",
    "    #        storedict[storename[ind]] = {'train': np.concatenate([trainsX[varname] for varname in EXP], axis=1),'valid': np.concatenate([validsX[varname] for varname in EXP], axis=1),\\\n",
    "    #                                     'test': np.concatenate([testsX[varname] for varname in EXP], axis=1)}\n",
    "    #    read_and_proc.save_to_pickle('./haiyan_store/X/'+str(i)+'/X_intensity.pkl',storedict,'PICKLE')\n",
    "    #        \n",
    "    #    y = {'train':[proc_inputoutput(so)._get_time_diff_ts(WSPD_train,60*60,int(LDTobj)) for LDTobj in np.linspace(0,35,36)+1],\\\n",
    "    #         'valid':[proc_inputoutput(so)._get_time_diff_ts(WSPD_valid,60*60,int(LDTobj)) for LDTobj in np.linspace(0,35,36)+1],\\\n",
    "    #         'test':[proc_inputoutput(so)._get_time_diff_ts(WSPD_test,60*60,int(LDTobj)) for LDTobj in np.linspace(0,35,36)+1]}\n",
    "    #    outputY = {'train':[np.concatenate(yobj,axis=0) for yobj in y['train']],\\\n",
    "    #               'valid':[np.concatenate(yobj,axis=0) for yobj in y['valid']],\\\n",
    "    #               'test':[np.concatenate(yobj,axis=0) for yobj in y['test']]}\n",
    "    #    read_and_proc.save_to_pickle('./haiyan_store/y/'+str(i)+'/y_intensity.pkl',outputY,'PICKLE')\n",
    "    #        #np.concatenate([proc_inputoutput(so)._get_time_diff_ts(WSPD_valid,60*60,int(LDTobj)) for LDTobj in np.linspace(0,35,36)+1][23],axis=0).shape"
   ]
  },
  {
   "cell_type": "code",
   "execution_count": 7,
   "id": "112fb35a-09a5-48fe-b228-f9e69028a6ed",
   "metadata": {},
   "outputs": [
    {
     "ename": "NameError",
     "evalue": "name 'vardicts_cp' is not defined",
     "output_type": "error",
     "traceback": [
      "\u001b[0;31m---------------------------------------------------------------------------\u001b[0m",
      "\u001b[0;31mNameError\u001b[0m                                 Traceback (most recent call last)",
      "\u001b[0;32m/tmp/ipykernel_517385/3169042453.py\u001b[0m in \u001b[0;36m<cell line: 1>\u001b[0;34m()\u001b[0m\n\u001b[0;32m----> 1\u001b[0;31m \u001b[0;32mdel\u001b[0m \u001b[0mvardicts_cp\u001b[0m\u001b[0;34m\u001b[0m\u001b[0;34m\u001b[0m\u001b[0m\n\u001b[0m\u001b[1;32m      2\u001b[0m \u001b[0mgc\u001b[0m\u001b[0;34m.\u001b[0m\u001b[0mcollect\u001b[0m\u001b[0;34m(\u001b[0m\u001b[0;34m)\u001b[0m\u001b[0;34m\u001b[0m\u001b[0;34m\u001b[0m\u001b[0m\n",
      "\u001b[0;31mNameError\u001b[0m: name 'vardicts_cp' is not defined"
     ]
    }
   ],
   "source": [
    "del vardicts_cp\n",
    "gc.collect()"
   ]
  },
  {
   "cell_type": "code",
   "execution_count": 15,
   "id": "afe1cc25-a57b-487c-9497-3ef674001a07",
   "metadata": {},
   "outputs": [
    {
     "data": {
      "application/vnd.jupyter.widget-view+json": {
       "model_id": "82e05bb866444b6ea048dc6547b044fb",
       "version_major": 2,
       "version_minor": 0
      },
      "text/plain": [
       "  0%|          | 0/20 [00:00<?, ?it/s]"
      ]
     },
     "metadata": {},
     "output_type": "display_data"
    },
    {
     "data": {
      "application/vnd.jupyter.widget-view+json": {
       "model_id": "097abe10cc854ababecb09d493537001",
       "version_major": 2,
       "version_minor": 0
      },
      "text/plain": [
       "  0%|          | 0/20 [00:00<?, ?it/s]"
      ]
     },
     "metadata": {},
     "output_type": "display_data"
    }
   ],
   "source": [
    "from copy import deepcopy\n",
    "vardicts_cp = deepcopy(vardicts)\n",
    "lw_cr1,lw_cr2,lw_cr3 = sensitivity_divide3hr(array=vardicts['lw'])\n",
    "sw_cr1,sw_cr2,sw_cr3 = sensitivity_divide3hr(array=vardicts['sw'])\n",
    "#vardicts_cp['lw'] = lw_cr"
   ]
  },
  {
   "cell_type": "code",
   "execution_count": 18,
   "id": "3e1acaff-2b31-44f8-a711-4e84bb8afaa2",
   "metadata": {},
   "outputs": [],
   "source": [
    "PCAlw = read_and_proc.depickle(glob.glob('./haiyan_store/pca/lw/0/*')[0])['lw']"
   ]
  },
  {
   "cell_type": "code",
   "execution_count": 17,
   "id": "8c6e947f-4fd9-4669-bdf2-b982fb4a4792",
   "metadata": {},
   "outputs": [],
   "source": [
    "Xtrain,Xvalid,Xtest = preproc.train_valid_test(lw_cr1,[int(so[0][0]),int(so[0][1])],[int(so[0][2]),int(so[0][3])])\n",
    "Xtrain2,Xvalid2,Xtest2 = preproc.train_valid_test(lw_cr2,[int(so[0][0]),int(so[0][1])],[int(so[0][2]),int(so[0][3])])\n",
    "Xtrain3,Xvalid3,Xtest3 = preproc.train_valid_test(lw_cr3,[int(so[0][0]),int(so[0][1])],[int(so[0][2]),int(so[0][3])])\n",
    "Xtrain_orig,Xvalid_orig,Xtest_orig = preproc.train_valid_test(vardicts['lw'],[int(so[0][0]),int(so[0][1])],[int(so[0][2]),int(so[0][3])])"
   ]
  },
  {
   "cell_type": "code",
   "execution_count": 21,
   "id": "a29451f8-7fb4-4926-a10c-b1a2e33ab564",
   "metadata": {},
   "outputs": [
    {
     "data": {
      "text/plain": [
       "(1209, 748800)"
      ]
     },
     "execution_count": 21,
     "metadata": {},
     "output_type": "execute_result"
    }
   ],
   "source": [
    "np.asarray(Xtrain).shape"
   ]
  },
  {
   "cell_type": "code",
   "execution_count": 19,
   "id": "cb3851b3-e52f-441c-91c2-7ad0b3bc2d8c",
   "metadata": {},
   "outputs": [
    {
     "data": {
      "image/png": "[encoded data removed]",
      "text/plain": [
       "<Figure size 400x400 with 1 Axes>"
      ]
     },
     "metadata": {
      "image/png": {
       "height": 400,
       "width": 400
      }
     },
     "output_type": "display_data"
    }
   ],
   "source": [
    "#AAAA = np.dot(Xtrain-np.nanmean(Xtrain,axis=0),PCAlw.components_.T)[:,0]+np.dot(Xtrain2-np.nanmean(Xtrain2,axis=0),PCAlw.components_.T)[:,0]+np.dot(Xtrain3-np.nanmean(Xtrain3,axis=0),PCAlw.components_.T)[:,0]\n",
    "plt.plot(np.dot(Xtrain-np.nanmean(Xtrain,axis=0),PCAlw.components_.T)[:,0])\n",
    "plt.plot(np.dot(Xtrain2-np.nanmean(Xtrain2,axis=0),PCAlw.components_.T)[:,0])\n",
    "plt.plot(np.dot(Xtrain3-np.nanmean(Xtrain3,axis=0),PCAlw.components_.T)[:,0])\n",
    "plt.plot(np.dot(Xtrain_orig-np.nanmean(Xtrain_orig,axis=0),PCAlw.components_.T)[:,0])\n",
    "plt.show()"
   ]
  },
  {
   "cell_type": "code",
   "execution_count": null,
   "id": "477b0b4e-4f6e-46dc-825e-5624fd5e71ad",
   "metadata": {},
   "outputs": [],
   "source": [
    "for i in tqdm(range(41)):#41):\n",
    "    trainsX,validsX,testsX = proc_inputoutput([int(so[i][0]),int(so[i][1])],[int(so[i][2]),int(so[i][3])],'./haiyan_store/pca/').create_X(vardicts_cp,nummem,varnames,i)\n",
    "    trainsX_orig,_,_ = proc_inputoutput([int(so[i][0]),int(so[i][1])],[int(so[i][2]),int(so[i][3])],'./haiyan_store/pca/').create_X(vardicts,nummem,varnames,i)\n",
    "    WSPD_train,WSPD_valid,WSPD_test = (preproc.train_valid_test(storeWSPD,[int(so[i][0]),int(so[i][1])],[int(so[i][2]),int(so[i][3])],'No'))\n",
    "    wspdmean,wspdstd = np.nanmean(np.concatenate(WSPD_train)),np.nanstd(np.concatenate(WSPD_train))\n",
    "    wspd_train,wspd_valid,wspd_test = np.concatenate([(obj-wspdmean)/wspdstd for obj in WSPD_train]),np.concatenate([(obj-wspdmean)/wspdstd for obj in WSPD_valid]),np.concatenate([(obj-wspdmean)/wspdstd for obj in WSPD_test])\n",
    "    trainsX['intensity'] = wspd_train[:,np.newaxis]\n",
    "    validsX['intensity'] = wspd_valid[:,np.newaxis]\n",
    "    testsX['intensity']  = wspd_test[:,np.newaxis]\n",
    "        \n",
    "    storedict = {}\n",
    "    for ind,EXP in enumerate(EXPS):\n",
    "        storedict[storename[ind]] = {'train': np.concatenate([trainsX[varname] for varname in EXP], axis=1),'valid': np.concatenate([validsX[varname] for varname in EXP], axis=1),\\\n",
    "                                     'test': np.concatenate([testsX[varname] for varname in EXP], axis=1)}\n",
    "    read_and_proc.save_to_pickle('./haiyan_store/X/'+str(i)+'/X_intensity.pkl',storedict,'PICKLE')\n",
    "        \n",
    "    y = {'train':[proc_inputoutput(so)._get_time_diff_ts(WSPD_train,60*60,int(LDTobj)) for LDTobj in np.linspace(0,35,36)+1],\\\n",
    "         'valid':[proc_inputoutput(so)._get_time_diff_ts(WSPD_valid,60*60,int(LDTobj)) for LDTobj in np.linspace(0,35,36)+1],\\\n",
    "         'test':[proc_inputoutput(so)._get_time_diff_ts(WSPD_test,60*60,int(LDTobj)) for LDTobj in np.linspace(0,35,36)+1]}\n",
    "    outputY = {'train':[np.concatenate(yobj,axis=0) for yobj in y['train']],\\\n",
    "               'valid':[np.concatenate(yobj,axis=0) for yobj in y['valid']],\\\n",
    "               'test':[np.concatenate(yobj,axis=0) for yobj in y['test']]}\n",
    "    read_and_proc.save_to_pickle('./haiyan_store/y/'+str(i)+'/y_intensity.pkl',outputY,'PICKLE')\n",
    "        #np.concatenate([proc_inputoutput(so)._get_time_diff_ts(WSPD_valid,60*60,int(LDTobj)) for LDTobj in np.linspace(0,35,36)+1][23],axis=0).shape"
   ]
  },
  {
   "cell_type": "code",
   "execution_count": 8,
   "id": "597ff00e-a577-4a17-b749-1f10ee034291",
   "metadata": {},
   "outputs": [
    {
     "data": {
      "application/vnd.jupyter.widget-view+json": {
       "model_id": "76c69d5de62f4e478d249196916b075f",
       "version_major": 2,
       "version_minor": 0
      },
      "text/plain": [
       "  0%|          | 0/5 [00:00<?, ?it/s]"
      ]
     },
     "metadata": {},
     "output_type": "display_data"
    },
    {
     "data": {
      "application/vnd.jupyter.widget-view+json": {
       "model_id": "afedd33471354dc9bd7f18d241f24308",
       "version_major": 2,
       "version_minor": 0
      },
      "text/plain": [
       "  0%|          | 0/5 [00:00<?, ?it/s]"
      ]
     },
     "metadata": {},
     "output_type": "display_data"
    },
    {
     "data": {
      "application/vnd.jupyter.widget-view+json": {
       "model_id": "00a77a87201b4f4496a02706de04f10f",
       "version_major": 2,
       "version_minor": 0
      },
      "text/plain": [
       "  0%|          | 0/5 [00:00<?, ?it/s]"
      ]
     },
     "metadata": {},
     "output_type": "display_data"
    },
    {
     "data": {
      "application/vnd.jupyter.widget-view+json": {
       "model_id": "6f29dc9f9c434cfe9800666123da8d60",
       "version_major": 2,
       "version_minor": 0
      },
      "text/plain": [
       "  0%|          | 0/5 [00:00<?, ?it/s]"
      ]
     },
     "metadata": {},
     "output_type": "display_data"
    },
    {
     "data": {
      "application/vnd.jupyter.widget-view+json": {
       "model_id": "96241aa9dd8b4909b2b39f754015b01f",
       "version_major": 2,
       "version_minor": 0
      },
      "text/plain": [
       "  0%|          | 0/5 [00:00<?, ?it/s]"
      ]
     },
     "metadata": {},
     "output_type": "display_data"
    },
    {
     "data": {
      "application/vnd.jupyter.widget-view+json": {
       "model_id": "4ec1bda8c95d4bde95572bec36603e02",
       "version_major": 2,
       "version_minor": 0
      },
      "text/plain": [
       "  0%|          | 0/5 [00:00<?, ?it/s]"
      ]
     },
     "metadata": {},
     "output_type": "display_data"
    },
    {
     "data": {
      "application/vnd.jupyter.widget-view+json": {
       "model_id": "3c125feba0c64127b9dd291270d5f7b5",
       "version_major": 2,
       "version_minor": 0
      },
      "text/plain": [
       "  0%|          | 0/5 [00:00<?, ?it/s]"
      ]
     },
     "metadata": {},
     "output_type": "display_data"
    },
    {
     "data": {
      "application/vnd.jupyter.widget-view+json": {
       "model_id": "80840d482b234440a485e02f92248390",
       "version_major": 2,
       "version_minor": 0
      },
      "text/plain": [
       "  0%|          | 0/5 [00:00<?, ?it/s]"
      ]
     },
     "metadata": {},
     "output_type": "display_data"
    },
    {
     "data": {
      "application/vnd.jupyter.widget-view+json": {
       "model_id": "84e0420c1ba3459698ff37ca077af18f",
       "version_major": 2,
       "version_minor": 0
      },
      "text/plain": [
       "  0%|          | 0/5 [00:00<?, ?it/s]"
      ]
     },
     "metadata": {},
     "output_type": "display_data"
    },
    {
     "data": {
      "application/vnd.jupyter.widget-view+json": {
       "model_id": "2a8a7b49ba5f4878adbb1d806145203d",
       "version_major": 2,
       "version_minor": 0
      },
      "text/plain": [
       "  0%|          | 0/5 [00:00<?, ?it/s]"
      ]
     },
     "metadata": {},
     "output_type": "display_data"
    },
    {
     "data": {
      "application/vnd.jupyter.widget-view+json": {
       "model_id": "f4b8327453d845df92d618e5c46eb2df",
       "version_major": 2,
       "version_minor": 0
      },
      "text/plain": [
       "  0%|          | 0/3 [00:00<?, ?it/s]"
      ]
     },
     "metadata": {},
     "output_type": "display_data"
    }
   ],
   "source": [
    "if name=='MARIA':\n",
    "    path = '/work/FAC/FGSE/IDYST/tbeucler/default/freddy0218/'\n",
    "    suffix = '_smooth_preproc_dict1b_g'\n",
    "\n",
    "    maria_u = [read_and_proc.depickle(path+'TCGphy/2020_TC_CRF/dev/freddy0218/pca/output/uvwheat/preproc2/'+str(lime)+suffix)['u'] for lime in tqdm(['ctl','ncrf_36h','ncrf_60h','ncrf_96h','lwcrf'])]\n",
    "    maria_v = [read_and_proc.depickle(path+'TCGphy/2020_TC_CRF/dev/freddy0218/pca/output/uvwheat/preproc2/'+str(lime)+suffix)['v'] for lime in tqdm(['ctl','ncrf_36h','ncrf_60h','ncrf_96h','lwcrf'])]\n",
    "    maria_w = [read_and_proc.depickle(path+'TCGphy/2020_TC_CRF/dev/freddy0218/pca/output/uvwheat/preproc2/'+str(lime)+suffix)['w'] for lime in tqdm(['ctl','ncrf_36h','ncrf_60h','ncrf_96h','lwcrf'])]\n",
    "    maria_qv = [read_and_proc.depickle(path+'TCGphy/2020_TC_CRF/dev/freddy0218/pca/output/uvwheat/preproc2/'+str(lime)+suffix)['qv'] for lime in tqdm(['ctl','ncrf_36h','ncrf_60h','ncrf_96h','lwcrf'])]\n",
    "    maria_theta = [read_and_proc.depickle(path+'TCGphy/2020_TC_CRF/dev/freddy0218/pca/output/uvwheat/preproc2/'+str(lime)+suffix)['theta'] for lime in tqdm(['ctl','ncrf_36h','ncrf_60h','ncrf_96h','lwcrf'])]\n",
    "    maria_heatsum = [read_and_proc.depickle(path+'TCGphy/2020_TC_CRF/dev/freddy0218/pca/output/uvwheat/preproc2/'+str(lime)+suffix)['heatsum'] for lime in tqdm(['ctl','ncrf_36h','ncrf_60h','ncrf_96h','lwcrf'])]\n",
    "    maria_hdia = [read_and_proc.depickle(path+'TCGphy/2020_TC_CRF/dev/freddy0218/pca/output/uvwheat/preproc2/'+str(lime)+suffix)['hdia'] for lime in tqdm(['ctl','ncrf_36h','ncrf_60h','ncrf_96h','lwcrf'])]\n",
    "    maria_rad = [read_and_proc.depickle(path+'TCGphy/2020_TC_CRF/dev/freddy0218/pca/output/uvwheat/preproc2/'+str(lime)+suffix)['rad'] for lime in tqdm(['ctl','ncrf_36h','ncrf_60h','ncrf_96h','lwcrf'])]\n",
    "    maria_lw = [read_and_proc.depickle(path+'TCGphy/2020_TC_CRF/dev/freddy0218/pca/output/uvwheat/preproc2/'+str(lime)+suffix+'_radcomp')['LW'] for lime in tqdm(['ctl','ncrf_36h','ncrf_60h','ncrf_96h','lwcrf'])]\n",
    "    maria_sw = [read_and_proc.depickle(path+'TCGphy/2020_TC_CRF/dev/freddy0218/pca/output/uvwheat/preproc2/'+str(lime)+suffix+'_radcomp')['SW'] for lime in tqdm(['ctl','ncrf_36h','ncrf_60h','ncrf_96h','lwcrf'])]\n",
    "\n",
    "    start = [find_start(maria_lw,0,1),find_start(maria_lw,0,2),find_start(maria_lw,0,3),find_start(maria_lw,0,4)]\n",
    "    maria_ua,maria_va,maria_wa = long_MariaExps(maria_u,start),long_MariaExps(maria_v,start),long_MariaExps(maria_w,start)\n",
    "    maria_qva,maria_thetaa,maria_heatsuma = long_MariaExps(maria_qv,start),long_MariaExps(maria_theta,start),long_MariaExps(maria_heatsum,start)\n",
    "    maria_hdiaa,maria_swa,maria_lwa,maria_rada = long_MariaExps(maria_hdia,start),long_MariaExps(maria_sw,start),long_MariaExps(maria_lw,start),long_MariaExps(maria_rad,start)\n",
    "\n",
    "    storeWSPD = []\n",
    "    for i in range(len(maria_u)):\n",
    "        storeWSPD.append(get_max_intensity(maria_ua[i],maria_va[i],[39,360,200]))\n",
    "        \n",
    "    sys.path.insert(1, '../')\n",
    "    import read_stuff as read\n",
    "    so_valid = [[2],[3],[4]]\n",
    "    so_test = [[1],[1],[1]]\n",
    "        \n",
    "    #nummem=[50,38,91,28,8,82,20,20,20]\n",
    "    nummem=[50,26,50,28,50,50,12,10,10]\n",
    "    varnames = ['u', 'v', 'w', 'qv','theta', 'hdia', 'rad', 'lw', 'sw']\n",
    "    EXPS = [['lw','sw'],['lw','sw','hdia'],['lw','sw','intensity'],['lw','sw','hdia','intensity'],['u','v','w','theta','hdia','lw','sw'],['u','v','w','theta','hdia','lw','sw','intensity']]\n",
    "    storename = ['lwsw','lwswhdia','lwsw_inten','lwswhdia_inten','uvwthhdialwsw','uvwthhdialwsw_inten']\n",
    "    vardicts = {'u':maria_ua,'v':maria_va,'w':maria_wa,'qv':maria_qva,'theta':maria_thetaa,'hdia':maria_hdiaa,'rad':maria_rada,'lw':maria_lwa,'sw':maria_swa}\n",
    "    del maria_u, maria_v, maria_w, maria_qv, maria_theta, maria_hdia, maria_rad, maria_lw, maria_sw, maria_ua, maria_va, maria_wa, maria_qva, maria_thetaa, maria_hdiaa, maria_rada, maria_lwa, maria_swa\n",
    "    gc.collect()\n",
    "    for i in tqdm(range(3)):#41):\n",
    "        trainsX,validsX,testsX = proc_inputoutput(so_valid[i],so_test[i],'./maria_store/pca/').create_X(vardicts,nummem,varnames,i)\n",
    "        WSPD_train,WSPD_valid,WSPD_test = (preproc.train_valid_test(storeWSPD,so_valid[i],so_test[i],'No'))\n",
    "        wspdmean,wspdstd = np.nanmean(np.concatenate(WSPD_train)),np.nanstd(np.concatenate(WSPD_train))\n",
    "        wspd_train,wspd_valid,wspd_test = np.concatenate([(obj-wspdmean)/wspdstd for obj in WSPD_train]),np.concatenate([(obj-wspdmean)/wspdstd for obj in WSPD_valid]),np.concatenate([(obj-wspdmean)/wspdstd for obj in WSPD_test])\n",
    "        trainsX['intensity'] = wspd_train[:,np.newaxis]\n",
    "        validsX['intensity'] = wspd_valid[:,np.newaxis]\n",
    "        testsX['intensity']  = wspd_test[:,np.newaxis]\n",
    "        \n",
    "        storedict = {}\n",
    "        for ind,EXP in enumerate(EXPS):\n",
    "            storedict[storename[ind]] = {'train': np.concatenate([trainsX[varname] for varname in EXP], axis=1),'valid': np.concatenate([validsX[varname] for varname in EXP], axis=1),\\\n",
    "                                         'test': np.concatenate([testsX[varname] for varname in EXP], axis=1)}\n",
    "        read_and_proc.save_to_pickle('./maria_store/X/'+str(i)+'/X_corr.pkl',storedict,'PICKLE')\n",
    "            \n",
    "        WSPD_train,WSPD_valid,WSPD_test = (preproc.train_valid_test(storeWSPD,so_valid[i],so_test[i],'No'))\n",
    "        y = {'train':[proc_inputoutput(so_valid[i],so_test[i],'./maria_store/pca/')._get_time_diff_ts(WSPD_train,60*60,int(LDTobj)) for LDTobj in np.linspace(0,35,36)+1],\\\n",
    "             'valid':[proc_inputoutput(so_valid[i],so_test[i],'./maria_store/pca/')._get_time_diff_ts(WSPD_valid,60*60,int(LDTobj)) for LDTobj in np.linspace(0,35,36)+1],\\\n",
    "             'test':[proc_inputoutput(so_valid[i],so_test[i],'./maria_store/pca/')._get_time_diff_ts(WSPD_test,60*60,int(LDTobj)) for LDTobj in np.linspace(0,35,36)+1]}\n",
    "        outputY = {'train':[np.concatenate(yobj,axis=0) for yobj in y['train']],\\\n",
    "                   'valid':[np.concatenate(yobj,axis=0) for yobj in y['valid']],\\\n",
    "                   'test':[np.concatenate(yobj,axis=0) for yobj in y['test']]}\n",
    "        read_and_proc.save_to_pickle('./maria_store/y/'+str(i)+'/y_corr.pkl',outputY,'PICKLE')\n",
    "            #np.concatenate([proc_inputoutput(so)._get_time_diff_ts(WSPD_valid,60*60,int(LDTobj)) for LDTobj in np.linspace(0,35,36)+1][23],axis=0).shape"
   ]
  },
  {
   "cell_type": "code",
   "execution_count": 15,
   "id": "756b06e9-12b5-45f9-aaf7-998fa1f292c1",
   "metadata": {},
   "outputs": [
    {
     "data": {
      "text/plain": [
       "313"
      ]
     },
     "execution_count": 15,
     "metadata": {},
     "output_type": "execute_result"
    }
   ],
   "source": [
    "133+60+120"
   ]
  },
  {
   "cell_type": "markdown",
   "id": "f24d125b-2bd8-46a0-8e5f-4ed2a5cf5874",
   "metadata": {},
   "source": [
    "# indices"
   ]
  },
  {
   "cell_type": "code",
   "execution_count": 48,
   "id": "5288601e-410f-4f00-8204-f42c0f74355c",
   "metadata": {
    "collapsed": true,
    "jupyter": {
     "outputs_hidden": true
    },
    "tags": []
   },
   "outputs": [
    {
     "data": {
      "text/plain": [
       "array([ 103,  180,  267,  378,  462,  569,  656,  691,  723,  795,  882,\n",
       "        982, 1019, 1103, 1183, 1209])"
      ]
     },
     "execution_count": 48,
     "metadata": {},
     "output_type": "execute_result"
    }
   ],
   "source": [
    "np.asarray([bobj for bobj in proc_inputoutput(so).train_valid_test([aobj[0] for aobj in a],0)][0]).cumsum()"
   ]
  },
  {
   "cell_type": "code",
   "execution_count": 49,
   "id": "c9dd0842-1f8b-4fb6-831d-773feda10413",
   "metadata": {
    "collapsed": true,
    "jupyter": {
     "outputs_hidden": true
    },
    "tags": []
   },
   "outputs": [
    {
     "data": {
      "text/plain": [
       "([103, 77, 87, 111, 84, 107, 87, 35, 32, 72, 87, 100, 37, 84, 80, 26],\n",
       " [67, 95],\n",
       " [106, 88])"
      ]
     },
     "execution_count": 49,
     "metadata": {},
     "output_type": "execute_result"
    }
   ],
   "source": [
    "proc_inputoutput(so).train_valid_test([aobj[0] for aobj in a],0)"
   ]
  },
  {
   "cell_type": "code",
   "execution_count": null,
   "id": "d4555ebb-c6fa-4926-b635-09efa77b8090",
   "metadata": {},
   "outputs": [],
   "source": []
  }
 ],
 "metadata": {
  "kernelspec": {
   "display_name": "Python 3 (ipykernel)",
   "language": "python",
   "name": "python3"
  },
  "language_info": {
   "codemirror_mode": {
    "name": "ipython",
    "version": 3
   },
   "file_extension": ".py",
   "mimetype": "text/x-python",
   "name": "python",
   "nbconvert_exporter": "python",
   "pygments_lexer": "ipython3",
   "version": "3.9.15"
  }
 },
 "nbformat": 4,
 "nbformat_minor": 5
}
