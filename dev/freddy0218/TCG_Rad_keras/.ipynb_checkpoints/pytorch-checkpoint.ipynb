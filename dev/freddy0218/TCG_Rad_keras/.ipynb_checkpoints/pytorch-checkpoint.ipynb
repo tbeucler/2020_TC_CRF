{
 "cells": [
  {
   "cell_type": "code",
   "execution_count": 1,
   "id": "bbb8808b-aa0f-4967-bf4a-e36ee8629309",
   "metadata": {},
   "outputs": [
    {
     "name": "stderr",
     "output_type": "stream",
     "text": [
      "/tmp/ipykernel_514291/753694454.py:18: ProplotWarning: rc setting 'linewidth' was renamed to 'meta.width' in version 0.8.\n",
      "  plot.rc.update({'figure.facecolor':'w','axes.labelweight':'ultralight',\n"
     ]
    }
   ],
   "source": [
    "\"\"\"──────────────────────────────────────────────────────────────────────────┐\n",
    "│ Loading necessary libraries to build and train model                       │\n",
    "└──────────────────────────────────────────────────────────────────────────\"\"\"\n",
    "import os,sys,gc\n",
    "import numpy as np\n",
    "import pickle\n",
    "import torch\n",
    "import proplot as plot\n",
    "import matplotlib.pyplot as plt\n",
    "from tqdm.auto import tqdm\n",
    "\n",
    "sys.path.insert(1, '/work/FAC/FGSE/IDYST/tbeucler/default/freddy0218/TCGphy/2020_TC_CRF/dev/freddy0218/scikit/')\n",
    "from tools import derive_var,read_and_proc\n",
    "from tools.mlr import mlr\n",
    "from tools.preprocess import do_eof,preproc_maria,preproc_haiyan\n",
    "import read_stuff as read\n",
    "%matplotlib inline\n",
    "plot.rc.update({'figure.facecolor':'w','axes.labelweight':'ultralight',\n",
    "                'tick.labelweight':'ultralight','gridminor.linestyle':'--','title.weight':'normal','linewidth':0.5})"
   ]
  },
  {
   "cell_type": "code",
   "execution_count": 2,
   "id": "02407d96-88aa-4740-91c5-645880a0a952",
   "metadata": {},
   "outputs": [
    {
     "data": {
      "application/vnd.jupyter.widget-view+json": {
       "model_id": "b03fd991b9c844759c9d385e29b2e055",
       "version_major": 2,
       "version_minor": 0
      },
      "text/plain": [
       "  0%|          | 0/20 [00:00<?, ?it/s]"
      ]
     },
     "metadata": {},
     "output_type": "display_data"
    }
   ],
   "source": [
    "from tqdm.auto import tqdm\n",
    "path = '/work/FAC/FGSE/IDYST/tbeucler/default/freddy0218/'\n",
    "suffix = '_smooth_preproc_dict1b_g'\n",
    "a = [read_and_proc.depickle(path+'TCGphy/2020_TC_CRF/dev/freddy0218/testML/output/haiyan/processed/uvwheat/'+'mem'+str(lime)+suffix)['u'].shape for lime in tqdm(range(1,21))]\n",
    "# divide experiments reference\n",
    "divider = np.asarray([aobj[0] for aobj in a]).cumsum()"
   ]
  },
  {
   "cell_type": "code",
   "execution_count": 3,
   "id": "1225280e-a0a7-4ee1-b1b0-1f51a62738b6",
   "metadata": {},
   "outputs": [],
   "source": [
    "from tools.validation import r2_analysis\n",
    "class train_optimizedMLR:\n",
    "    def __init__(self,folderpath=None,modelpath=None):\n",
    "        self.pcapath=folderpath\n",
    "        self.modelpath=modelpath\n",
    "        self.pcastore = read_and_proc.depickle(self.pcapath+'PCAdict2D.pkg')\n",
    "        self.flatarray = read_and_proc.depickle(self.pcapath+'flatarrays2D.pkg')\n",
    "        \n",
    "    def read_Xy(self,num=33):\n",
    "        \"\"\"\n",
    "        Read in the processed PC loading time series\n",
    "        \"\"\"\n",
    "        Xtest,Xtrain,Xvalid = [],[],[]\n",
    "        yall = []\n",
    "        for i in tqdm(range(num)):\n",
    "            temp1,temp2,temp3,temp4 = read.real_random(self.modelpath,i,3,'keras')\n",
    "            Xtest.append(temp1)\n",
    "            Xtrain.append(temp2)\n",
    "            Xvalid.append(temp3)\n",
    "            yall.append(temp4)\n",
    "        \n",
    "        yall_orig = []\n",
    "        for i in tqdm(range(num)):\n",
    "            temp1,temp2,temp3,temp4 = read.real_random(self.modelpath,i,3,'orig')\n",
    "            yall_orig.append(temp4)\n",
    "        return Xtrain,Xvalid,Xtest,yall,yall_orig\n",
    "    \n",
    "    def delete_padding(self,inTS=None,outTS=None):\n",
    "        output_nozero,input_nozero = [],[]\n",
    "        for i in range(len(outTS[:,0])):\n",
    "            temp = outTS[i,:]\n",
    "            tempin = inTS[i,:]\n",
    "            if temp.all()==0:\n",
    "                continue\n",
    "            else:\n",
    "                output_nozero.append(temp)\n",
    "                input_nozero.append(tempin)\n",
    "        return input_nozero,output_nozero\n",
    "        \n",
    "    def y_truth(self,divider=None,lti=24,num=33):\n",
    "        temp = [r2_analysis.preproc_r2(self.flatarray,None,None)._back_to_exp(timeseries=self.flatarray[varname],divider=divider) for varname in ['u','v','w','theta']]\n",
    "        train_realUV,valid_realUV,test_realUV = [],[],[]\n",
    "        for i in tqdm(range(num)):#range(15)):#range(1)):\n",
    "            tempindex = read._get_exp_name(self.modelpath,i,3,'orig')[1]\n",
    "            validindex,testindex = [int(tempindex[0]),int(tempindex[1])],[int(tempindex[2]),int(tempindex[3])]\n",
    "            trainobj = r2_analysis.preproc_r2(self.flatarray,validindex,testindex).windrates_real(uvwheat=temp,LT=lti,category='train')\n",
    "            validobj = r2_analysis.preproc_r2(self.flatarray,validindex,testindex).windrates_real(uvwheat=temp,LT=lti,category='valid')\n",
    "            testobj = r2_analysis.preproc_r2(self.flatarray,validindex,testindex).windrates_real(uvwheat=temp,LT=lti,category='test')\n",
    "            train_realUV.append(trainobj)\n",
    "            valid_realUV.append(validobj)\n",
    "            test_realUV.append(testobj)\n",
    "        del trainobj,validobj,testobj\n",
    "        gc.collect()\n",
    "        return {'train':train_realUV,'valid':valid_realUV,'test':test_realUV}"
   ]
  },
  {
   "cell_type": "code",
   "execution_count": 4,
   "id": "b4d2c448-343d-4cc2-9654-1f7369b68d39",
   "metadata": {},
   "outputs": [
    {
     "data": {
      "application/vnd.jupyter.widget-view+json": {
       "model_id": "bea5683b24474a1c8ce43a05bac7f5e5",
       "version_major": 2,
       "version_minor": 0
      },
      "text/plain": [
       "  0%|          | 0/33 [00:00<?, ?it/s]"
      ]
     },
     "metadata": {},
     "output_type": "display_data"
    },
    {
     "data": {
      "application/vnd.jupyter.widget-view+json": {
       "model_id": "78efd469b4784b56852d6ce19e6084a4",
       "version_major": 2,
       "version_minor": 0
      },
      "text/plain": [
       "  0%|          | 0/33 [00:00<?, ?it/s]"
      ]
     },
     "metadata": {},
     "output_type": "display_data"
    },
    {
     "data": {
      "application/vnd.jupyter.widget-view+json": {
       "model_id": "d9341f434e014c8ea521e227a81e017d",
       "version_major": 2,
       "version_minor": 0
      },
      "text/plain": [
       "  0%|          | 0/33 [00:00<?, ?it/s]"
      ]
     },
     "metadata": {},
     "output_type": "display_data"
    }
   ],
   "source": [
    "folderpath='/work/FAC/FGSE/IDYST/tbeucler/default/freddy0218/TCGphy/2020_TC_CRF/dev/freddy0218/TCG_Rad_keras/'\n",
    "folderpath2='/work/FAC/FGSE/IDYST/tbeucler/default/freddy0218/TCGphy/2020_TC_CRF/dev/freddy0218/testML/output/haiyan/processed/intermediate/'\n",
    "\"\"\"──────────────────────────────────────────────────────────────────────────┐\n",
    "│ Loading input and outpus                    \n",
    "└──────────────────────────────────────────────────────────────────────────\"\"\"\n",
    "Xtrain,Xvalid,Xtest,yall,yall_orig = train_optimizedMLR(folderpath,folderpath2).read_Xy(num=33)\n",
    "\"\"\"──────────────────────────────────────────────────────────────────────────┐\n",
    "│ Loading PC structures for custom loss                       \n",
    "└──────────────────────────────────────────────────────────────────────────\"\"\"\n",
    "pcastore = train_optimizedMLR(folderpath,folderpath2).pcastore\n",
    "wcomps = [26,18,48,14]\n",
    "upcs,vpcs,wpcs,thpcs = pcastore['u'].components_[:wcomps[0]],pcastore['v'].components_[:wcomps[1]],pcastore['w'].components_[:wcomps[2]],pcastore['theta'].components_[:wcomps[3]]\n",
    "\"\"\"──────────────────────────────────────────────────────────────────────────┐\n",
    "│ Loading y truth for custom loss                      \n",
    "└──────────────────────────────────────────────────────────────────────────\"\"\"\n",
    "yTRUTH = train_optimizedMLR(folderpath,folderpath2).y_truth(divider=divider,lti=24,num=33)"
   ]
  },
  {
   "cell_type": "code",
   "execution_count": 5,
   "id": "7d7201a4-eb0a-4bcc-ba30-dace7b87612d",
   "metadata": {},
   "outputs": [],
   "source": [
    "\"\"\"──────────────────────────────────────────────────────────────────────────┐\n",
    "│ Which split will we be testing                     \n",
    "└──────────────────────────────────────────────────────────────────────────\"\"\"\n",
    "splitnum = 0"
   ]
  },
  {
   "cell_type": "markdown",
   "id": "53cfa094-169e-4f0b-8cfe-a319fb27215d",
   "metadata": {},
   "source": [
    "### PyTorch"
   ]
  },
  {
   "cell_type": "markdown",
   "id": "616cee19-b951-46af-9f48-3a3ad37d8652",
   "metadata": {},
   "source": [
    "#### Data processing"
   ]
  },
  {
   "cell_type": "code",
   "execution_count": 6,
   "id": "7917585a-2c29-4d69-8e8e-01b6f6e621e4",
   "metadata": {},
   "outputs": [],
   "source": [
    "X_totrain,y_totrain = train_optimizedMLR(folderpath,folderpath2).delete_padding(Xtrain[0]['lwsw'],yall_orig[0][23][0])\n",
    "X_tovalid,y_tovalid = train_optimizedMLR(folderpath,folderpath2).delete_padding(Xvalid[0]['lwsw'],yall_orig[0][23][1])\n",
    "X_totest,y_totest = train_optimizedMLR(folderpath,folderpath2).delete_padding(Xtest[0]['lwsw'],yall_orig[0][23][2])"
   ]
  },
  {
   "cell_type": "code",
   "execution_count": 7,
   "id": "8d8c605b-d879-451c-9b0b-02afbc69ede8",
   "metadata": {},
   "outputs": [
    {
     "name": "stderr",
     "output_type": "stream",
     "text": [
      "/tmp/ipykernel_514291/191505659.py:3: UserWarning: Creating a tensor from a list of numpy.ndarrays is extremely slow. Please consider converting the list to a single numpy.ndarray with numpy.array() before converting to a tensor. (Triggered internally at  /home/conda/feedstock_root/build_artifacts/pytorch-recipe_1660136119739/work/torch/csrc/utils/tensor_new.cpp:201.)\n",
      "  train_Xtensor = torch.FloatTensor(X_totrain).to(calc_device)\n"
     ]
    }
   ],
   "source": [
    "calc_device = 'cpu'\n",
    "# Convert numpy arrays into tensors\n",
    "train_Xtensor = torch.FloatTensor(X_totrain).to(calc_device)\n",
    "train_ytensor = torch.FloatTensor(y_totrain).to(calc_device)\n",
    "\n",
    "val_Xtensor = torch.FloatTensor(X_tovalid).to(calc_device)\n",
    "val_ytensor = torch.FloatTensor(y_tovalid).to(calc_device)\n",
    "\n",
    "test_Xtensor = torch.FloatTensor(X_totest).to(calc_device)\n",
    "test_ytensor = torch.FloatTensor(y_totest).to(calc_device)\n",
    "\n",
    "train_data = torch.utils.data.TensorDataset(train_Xtensor, train_ytensor)\n",
    "val_data = torch.utils.data.TensorDataset(val_Xtensor, val_ytensor)\n",
    "test_data = torch.utils.data.TensorDataset(test_Xtensor, test_ytensor)"
   ]
  },
  {
   "cell_type": "markdown",
   "id": "4cceb744-a8a6-46ea-bc06-697897d77482",
   "metadata": {},
   "source": [
    "#### Hyperparameters for training"
   ]
  },
  {
   "cell_type": "code",
   "execution_count": 22,
   "id": "f965918e-4a19-41c3-a172-687c57333dbe",
   "metadata": {},
   "outputs": [],
   "source": [
    "batch_size = 8\n",
    "num_workers = 2"
   ]
  },
  {
   "cell_type": "markdown",
   "id": "9936d15a-61c0-4747-9745-4118791e7584",
   "metadata": {},
   "source": [
    "#### DataLoader"
   ]
  },
  {
   "cell_type": "code",
   "execution_count": 9,
   "id": "fb90edf3-6eeb-4802-9eb3-51433273ee23",
   "metadata": {},
   "outputs": [],
   "source": [
    "train_loader = torch.utils.data.DataLoader(\n",
    "    dataset=train_data,\n",
    "    batch_size=batch_size,\n",
    "    shuffle=True\n",
    ")\n",
    "\n",
    "val_loader = torch.utils.data.DataLoader(\n",
    "    dataset=val_data,\n",
    "    batch_size=batch_size,\n",
    "    shuffle=False\n",
    ")\n",
    "\n",
    "test_loader = torch.utils.data.DataLoader(\n",
    "    dataset=test_data,\n",
    "    batch_size=batch_size,\n",
    "    shuffle=False\n",
    ")"
   ]
  },
  {
   "cell_type": "markdown",
   "id": "52dfbf90-046e-42d8-894d-bc3f672139a6",
   "metadata": {},
   "source": [
    "#### Define Model Architecture"
   ]
  },
  {
   "cell_type": "code",
   "execution_count": 10,
   "id": "691fb3f1-aae9-4365-a6bb-987c3ba633a7",
   "metadata": {},
   "outputs": [],
   "source": [
    "brchindex = [0,30,60]\n",
    "brchsize = [30,30]"
   ]
  },
  {
   "cell_type": "code",
   "execution_count": 11,
   "id": "5692c5aa-97b8-422a-a14d-db040b7c192c",
   "metadata": {},
   "outputs": [],
   "source": [
    "class OptimMLR_2D(torch.nn.Module):\n",
    "    def __init__(self):\n",
    "        super(OptimMLR_2D, self).__init__()\n",
    "        ############################################################\n",
    "        # Input channels\n",
    "        ############################################################\n",
    "        brchsize=[30,30]\n",
    "        self.dense1 = torch.nn.Linear(brchsize[0], 1)\n",
    "        self.dense2 = torch.nn.Linear(brchsize[1], 1)\n",
    "        ############################################################\n",
    "        # Final Dense Layer\n",
    "        ############################################################\n",
    "        self.denseout = torch.nn.Linear(2,106)\n",
    "        \n",
    "    def forward(self,X):\n",
    "        brchindex = [0,30,60]\n",
    "        X_lw, X_sw = X[:,brchindex[0]:brchindex[1]],X[:,brchindex[1]:brchindex[2]]\n",
    "        ############################################################\n",
    "        # Optimal PC layer\n",
    "        ############################################################\n",
    "        bestlw = self.dense1(X_lw)\n",
    "        bestsw = self.dense2(X_sw)\n",
    "        ############################################################\n",
    "        # Concat\n",
    "        ############################################################\n",
    "        bestPC = torch.cat((bestlw,bestsw),1)\n",
    "        ############################################################\n",
    "        # Prediction layer\n",
    "        ############################################################\n",
    "        outpred = self.denseout(bestPC)\n",
    "        return outpred"
   ]
  },
  {
   "cell_type": "code",
   "execution_count": 49,
   "id": "7dd2d534-4efc-441f-ba5e-deff664a85f8",
   "metadata": {
    "collapsed": true,
    "jupyter": {
     "outputs_hidden": true
    },
    "tags": []
   },
   "outputs": [
    {
     "name": "stderr",
     "output_type": "stream",
     "text": [
      "Fontconfig warning: ignoring UTF-8: not a valid region tag\n"
     ]
    },
    {
     "data": {
      "image/svg+xml": [
       "<?xml version=\"1.0\" encoding=\"UTF-8\" standalone=\"no\"?>\n",
       "<!DOCTYPE svg PUBLIC \"-//W3C//DTD SVG 1.1//EN\"\n",
       " \"http://www.w3.org/Graphics/SVG/1.1/DTD/svg11.dtd\">\n",
       "<!-- Generated by graphviz version 2.50.0 (0)\n",
       " -->\n",
       "<!-- Pages: 1 -->\n",
       "<svg width=\"552pt\" height=\"413pt\"\n",
       " viewBox=\"0.00 0.00 552.00 413.00\" xmlns=\"http://www.w3.org/2000/svg\" xmlns:xlink=\"http://www.w3.org/1999/xlink\">\n",
       "<g id=\"graph0\" class=\"graph\" transform=\"scale(1 1) rotate(0) translate(4 409)\">\n",
       "<polygon fill=\"white\" stroke=\"transparent\" points=\"-4,4 -4,-409 548,-409 548,4 -4,4\"/>\n",
       "<!-- 140599080371920 -->\n",
       "<g id=\"node1\" class=\"node\">\n",
       "<title>140599080371920</title>\n",
       "<polygon fill=\"#caff70\" stroke=\"black\" points=\"264,-31 181,-31 181,0 264,0 264,-31\"/>\n",
       "<text text-anchor=\"middle\" x=\"222.5\" y=\"-7\" font-family=\"monospace\" font-size=\"10.00\"> (819, 106)</text>\n",
       "</g>\n",
       "<!-- 140599131377872 -->\n",
       "<g id=\"node2\" class=\"node\">\n",
       "<title>140599131377872</title>\n",
       "<polygon fill=\"lightgrey\" stroke=\"black\" points=\"273,-86 172,-86 172,-67 273,-67 273,-86\"/>\n",
       "<text text-anchor=\"middle\" x=\"222.5\" y=\"-74\" font-family=\"monospace\" font-size=\"10.00\">AddmmBackward0</text>\n",
       "</g>\n",
       "<!-- 140599131377872&#45;&gt;140599080371920 -->\n",
       "<g id=\"edge19\" class=\"edge\">\n",
       "<title>140599131377872&#45;&gt;140599080371920</title>\n",
       "<path fill=\"none\" stroke=\"black\" d=\"M222.5,-66.79C222.5,-60.07 222.5,-50.4 222.5,-41.34\"/>\n",
       "<polygon fill=\"black\" stroke=\"black\" points=\"226,-41.19 222.5,-31.19 219,-41.19 226,-41.19\"/>\n",
       "</g>\n",
       "<!-- 140599080284608 -->\n",
       "<g id=\"node3\" class=\"node\">\n",
       "<title>140599080284608</title>\n",
       "<polygon fill=\"lightgrey\" stroke=\"black\" points=\"159,-141 58,-141 58,-122 159,-122 159,-141\"/>\n",
       "<text text-anchor=\"middle\" x=\"108.5\" y=\"-129\" font-family=\"monospace\" font-size=\"10.00\">AccumulateGrad</text>\n",
       "</g>\n",
       "<!-- 140599080284608&#45;&gt;140599131377872 -->\n",
       "<g id=\"edge1\" class=\"edge\">\n",
       "<title>140599080284608&#45;&gt;140599131377872</title>\n",
       "<path fill=\"none\" stroke=\"black\" d=\"M126.82,-121.98C145.16,-113.46 173.61,-100.23 194.73,-90.41\"/>\n",
       "<polygon fill=\"black\" stroke=\"black\" points=\"196.26,-93.56 203.85,-86.17 193.31,-87.21 196.26,-93.56\"/>\n",
       "</g>\n",
       "<!-- 140599080271760 -->\n",
       "<g id=\"node4\" class=\"node\">\n",
       "<title>140599080271760</title>\n",
       "<polygon fill=\"lightblue\" stroke=\"black\" points=\"95,-207 0,-207 0,-177 95,-177 95,-207\"/>\n",
       "<text text-anchor=\"middle\" x=\"47.5\" y=\"-195\" font-family=\"monospace\" font-size=\"10.00\">denseout.bias</text>\n",
       "<text text-anchor=\"middle\" x=\"47.5\" y=\"-184\" font-family=\"monospace\" font-size=\"10.00\"> (106)</text>\n",
       "</g>\n",
       "<!-- 140599080271760&#45;&gt;140599080284608 -->\n",
       "<g id=\"edge2\" class=\"edge\">\n",
       "<title>140599080271760&#45;&gt;140599080284608</title>\n",
       "<path fill=\"none\" stroke=\"black\" d=\"M62.27,-176.84C71.21,-168.26 82.64,-157.3 91.9,-148.42\"/>\n",
       "<polygon fill=\"black\" stroke=\"black\" points=\"94.56,-150.71 99.36,-141.27 89.72,-145.66 94.56,-150.71\"/>\n",
       "</g>\n",
       "<!-- 140599131380320 -->\n",
       "<g id=\"node5\" class=\"node\">\n",
       "<title>140599131380320</title>\n",
       "<polygon fill=\"lightgrey\" stroke=\"black\" points=\"267,-141 178,-141 178,-122 267,-122 267,-141\"/>\n",
       "<text text-anchor=\"middle\" x=\"222.5\" y=\"-129\" font-family=\"monospace\" font-size=\"10.00\">CatBackward0</text>\n",
       "</g>\n",
       "<!-- 140599131380320&#45;&gt;140599131377872 -->\n",
       "<g id=\"edge3\" class=\"edge\">\n",
       "<title>140599131380320&#45;&gt;140599131377872</title>\n",
       "<path fill=\"none\" stroke=\"black\" d=\"M222.5,-121.75C222.5,-114.8 222.5,-104.85 222.5,-96.13\"/>\n",
       "<polygon fill=\"black\" stroke=\"black\" points=\"226,-96.09 222.5,-86.09 219,-96.09 226,-96.09\"/>\n",
       "</g>\n",
       "<!-- 140599131381088 -->\n",
       "<g id=\"node6\" class=\"node\">\n",
       "<title>140599131381088</title>\n",
       "<polygon fill=\"lightgrey\" stroke=\"black\" points=\"214,-201.5 113,-201.5 113,-182.5 214,-182.5 214,-201.5\"/>\n",
       "<text text-anchor=\"middle\" x=\"163.5\" y=\"-189.5\" font-family=\"monospace\" font-size=\"10.00\">AddmmBackward0</text>\n",
       "</g>\n",
       "<!-- 140599131381088&#45;&gt;140599131380320 -->\n",
       "<g id=\"edge4\" class=\"edge\">\n",
       "<title>140599131381088&#45;&gt;140599131380320</title>\n",
       "<path fill=\"none\" stroke=\"black\" d=\"M172.21,-182.37C181.18,-173.47 195.38,-159.39 206.41,-148.45\"/>\n",
       "<polygon fill=\"black\" stroke=\"black\" points=\"209.12,-150.69 213.76,-141.17 204.19,-145.72 209.12,-150.69\"/>\n",
       "</g>\n",
       "<!-- 140599080286288 -->\n",
       "<g id=\"node7\" class=\"node\">\n",
       "<title>140599080286288</title>\n",
       "<polygon fill=\"lightgrey\" stroke=\"black\" points=\"105,-267.5 4,-267.5 4,-248.5 105,-248.5 105,-267.5\"/>\n",
       "<text text-anchor=\"middle\" x=\"54.5\" y=\"-255.5\" font-family=\"monospace\" font-size=\"10.00\">AccumulateGrad</text>\n",
       "</g>\n",
       "<!-- 140599080286288&#45;&gt;140599131381088 -->\n",
       "<g id=\"edge5\" class=\"edge\">\n",
       "<title>140599080286288&#45;&gt;140599131381088</title>\n",
       "<path fill=\"none\" stroke=\"black\" d=\"M69.2,-248.37C87.32,-237.73 118.35,-219.51 139.84,-206.89\"/>\n",
       "<polygon fill=\"black\" stroke=\"black\" points=\"141.83,-209.78 148.68,-201.7 138.29,-203.74 141.83,-209.78\"/>\n",
       "</g>\n",
       "<!-- 140599080270880 -->\n",
       "<g id=\"node8\" class=\"node\">\n",
       "<title>140599080270880</title>\n",
       "<polygon fill=\"lightblue\" stroke=\"black\" points=\"95,-339 12,-339 12,-309 95,-309 95,-339\"/>\n",
       "<text text-anchor=\"middle\" x=\"53.5\" y=\"-327\" font-family=\"monospace\" font-size=\"10.00\">dense1.bias</text>\n",
       "<text text-anchor=\"middle\" x=\"53.5\" y=\"-316\" font-family=\"monospace\" font-size=\"10.00\"> (1)</text>\n",
       "</g>\n",
       "<!-- 140599080270880&#45;&gt;140599080286288 -->\n",
       "<g id=\"edge6\" class=\"edge\">\n",
       "<title>140599080270880&#45;&gt;140599080286288</title>\n",
       "<path fill=\"none\" stroke=\"black\" d=\"M53.72,-308.8C53.86,-299.7 54.05,-287.79 54.2,-277.9\"/>\n",
       "<polygon fill=\"black\" stroke=\"black\" points=\"57.71,-277.9 54.36,-267.84 50.71,-277.79 57.71,-277.9\"/>\n",
       "</g>\n",
       "<!-- 140599131381472 -->\n",
       "<g id=\"node9\" class=\"node\">\n",
       "<title>140599131381472</title>\n",
       "<polygon fill=\"lightgrey\" stroke=\"black\" points=\"202,-267.5 125,-267.5 125,-248.5 202,-248.5 202,-267.5\"/>\n",
       "<text text-anchor=\"middle\" x=\"163.5\" y=\"-255.5\" font-family=\"monospace\" font-size=\"10.00\">TBackward0</text>\n",
       "</g>\n",
       "<!-- 140599131381472&#45;&gt;140599131381088 -->\n",
       "<g id=\"edge7\" class=\"edge\">\n",
       "<title>140599131381472&#45;&gt;140599131381088</title>\n",
       "<path fill=\"none\" stroke=\"black\" d=\"M163.5,-248.37C163.5,-239.16 163.5,-224.29 163.5,-212.27\"/>\n",
       "<polygon fill=\"black\" stroke=\"black\" points=\"167,-211.91 163.5,-201.91 160,-211.91 167,-211.91\"/>\n",
       "</g>\n",
       "<!-- 140599080284896 -->\n",
       "<g id=\"node10\" class=\"node\">\n",
       "<title>140599080284896</title>\n",
       "<polygon fill=\"lightgrey\" stroke=\"black\" points=\"214,-333.5 113,-333.5 113,-314.5 214,-314.5 214,-333.5\"/>\n",
       "<text text-anchor=\"middle\" x=\"163.5\" y=\"-321.5\" font-family=\"monospace\" font-size=\"10.00\">AccumulateGrad</text>\n",
       "</g>\n",
       "<!-- 140599080284896&#45;&gt;140599131381472 -->\n",
       "<g id=\"edge8\" class=\"edge\">\n",
       "<title>140599080284896&#45;&gt;140599131381472</title>\n",
       "<path fill=\"none\" stroke=\"black\" d=\"M163.5,-314.37C163.5,-305.16 163.5,-290.29 163.5,-278.27\"/>\n",
       "<polygon fill=\"black\" stroke=\"black\" points=\"167,-277.91 163.5,-267.91 160,-277.91 167,-277.91\"/>\n",
       "</g>\n",
       "<!-- 140599080270960 -->\n",
       "<g id=\"node11\" class=\"node\">\n",
       "<title>140599080270960</title>\n",
       "<polygon fill=\"lightblue\" stroke=\"black\" points=\"211,-405 116,-405 116,-375 211,-375 211,-405\"/>\n",
       "<text text-anchor=\"middle\" x=\"163.5\" y=\"-393\" font-family=\"monospace\" font-size=\"10.00\">dense1.weight</text>\n",
       "<text text-anchor=\"middle\" x=\"163.5\" y=\"-382\" font-family=\"monospace\" font-size=\"10.00\"> (1, 30)</text>\n",
       "</g>\n",
       "<!-- 140599080270960&#45;&gt;140599080284896 -->\n",
       "<g id=\"edge9\" class=\"edge\">\n",
       "<title>140599080270960&#45;&gt;140599080284896</title>\n",
       "<path fill=\"none\" stroke=\"black\" d=\"M163.5,-374.8C163.5,-365.7 163.5,-353.79 163.5,-343.9\"/>\n",
       "<polygon fill=\"black\" stroke=\"black\" points=\"167,-343.84 163.5,-333.84 160,-343.84 167,-343.84\"/>\n",
       "</g>\n",
       "<!-- 140599131380608 -->\n",
       "<g id=\"node12\" class=\"node\">\n",
       "<title>140599131380608</title>\n",
       "<polygon fill=\"lightgrey\" stroke=\"black\" points=\"333,-201.5 232,-201.5 232,-182.5 333,-182.5 333,-201.5\"/>\n",
       "<text text-anchor=\"middle\" x=\"282.5\" y=\"-189.5\" font-family=\"monospace\" font-size=\"10.00\">AddmmBackward0</text>\n",
       "</g>\n",
       "<!-- 140599131380608&#45;&gt;140599131380320 -->\n",
       "<g id=\"edge10\" class=\"edge\">\n",
       "<title>140599131380608&#45;&gt;140599131380320</title>\n",
       "<path fill=\"none\" stroke=\"black\" d=\"M273.65,-182.37C264.52,-173.47 250.08,-159.39 238.86,-148.45\"/>\n",
       "<polygon fill=\"black\" stroke=\"black\" points=\"240.99,-145.64 231.39,-141.17 236.11,-150.65 240.99,-145.64\"/>\n",
       "</g>\n",
       "<!-- 140599080285808 -->\n",
       "<g id=\"node13\" class=\"node\">\n",
       "<title>140599080285808</title>\n",
       "<polygon fill=\"lightgrey\" stroke=\"black\" points=\"324,-267.5 223,-267.5 223,-248.5 324,-248.5 324,-267.5\"/>\n",
       "<text text-anchor=\"middle\" x=\"273.5\" y=\"-255.5\" font-family=\"monospace\" font-size=\"10.00\">AccumulateGrad</text>\n",
       "</g>\n",
       "<!-- 140599080285808&#45;&gt;140599131380608 -->\n",
       "<g id=\"edge11\" class=\"edge\">\n",
       "<title>140599080285808&#45;&gt;140599131380608</title>\n",
       "<path fill=\"none\" stroke=\"black\" d=\"M274.71,-248.37C276.02,-239.07 278.14,-223.98 279.84,-211.9\"/>\n",
       "<polygon fill=\"black\" stroke=\"black\" points=\"283.32,-212.3 281.25,-201.91 276.39,-211.32 283.32,-212.3\"/>\n",
       "</g>\n",
       "<!-- 140599080268880 -->\n",
       "<g id=\"node14\" class=\"node\">\n",
       "<title>140599080268880</title>\n",
       "<polygon fill=\"lightblue\" stroke=\"black\" points=\"315,-339 232,-339 232,-309 315,-309 315,-339\"/>\n",
       "<text text-anchor=\"middle\" x=\"273.5\" y=\"-327\" font-family=\"monospace\" font-size=\"10.00\">dense2.bias</text>\n",
       "<text text-anchor=\"middle\" x=\"273.5\" y=\"-316\" font-family=\"monospace\" font-size=\"10.00\"> (1)</text>\n",
       "</g>\n",
       "<!-- 140599080268880&#45;&gt;140599080285808 -->\n",
       "<g id=\"edge12\" class=\"edge\">\n",
       "<title>140599080268880&#45;&gt;140599080285808</title>\n",
       "<path fill=\"none\" stroke=\"black\" d=\"M273.5,-308.8C273.5,-299.7 273.5,-287.79 273.5,-277.9\"/>\n",
       "<polygon fill=\"black\" stroke=\"black\" points=\"277,-277.84 273.5,-267.84 270,-277.84 277,-277.84\"/>\n",
       "</g>\n",
       "<!-- 140599131379024 -->\n",
       "<g id=\"node15\" class=\"node\">\n",
       "<title>140599131379024</title>\n",
       "<polygon fill=\"lightgrey\" stroke=\"black\" points=\"419,-267.5 342,-267.5 342,-248.5 419,-248.5 419,-267.5\"/>\n",
       "<text text-anchor=\"middle\" x=\"380.5\" y=\"-255.5\" font-family=\"monospace\" font-size=\"10.00\">TBackward0</text>\n",
       "</g>\n",
       "<!-- 140599131379024&#45;&gt;140599131380608 -->\n",
       "<g id=\"edge13\" class=\"edge\">\n",
       "<title>140599131379024&#45;&gt;140599131380608</title>\n",
       "<path fill=\"none\" stroke=\"black\" d=\"M367.28,-248.37C351.14,-237.82 323.59,-219.84 304.29,-207.23\"/>\n",
       "<polygon fill=\"black\" stroke=\"black\" points=\"306.11,-204.24 295.82,-201.7 302.28,-210.1 306.11,-204.24\"/>\n",
       "</g>\n",
       "<!-- 140599080285328 -->\n",
       "<g id=\"node16\" class=\"node\">\n",
       "<title>140599080285328</title>\n",
       "<polygon fill=\"lightgrey\" stroke=\"black\" points=\"434,-333.5 333,-333.5 333,-314.5 434,-314.5 434,-333.5\"/>\n",
       "<text text-anchor=\"middle\" x=\"383.5\" y=\"-321.5\" font-family=\"monospace\" font-size=\"10.00\">AccumulateGrad</text>\n",
       "</g>\n",
       "<!-- 140599080285328&#45;&gt;140599131379024 -->\n",
       "<g id=\"edge14\" class=\"edge\">\n",
       "<title>140599080285328&#45;&gt;140599131379024</title>\n",
       "<path fill=\"none\" stroke=\"black\" d=\"M383.1,-314.37C382.66,-305.07 381.95,-289.98 381.39,-277.9\"/>\n",
       "<polygon fill=\"black\" stroke=\"black\" points=\"384.88,-277.73 380.92,-267.91 377.89,-278.06 384.88,-277.73\"/>\n",
       "</g>\n",
       "<!-- 140599080271040 -->\n",
       "<g id=\"node17\" class=\"node\">\n",
       "<title>140599080271040</title>\n",
       "<polygon fill=\"lightblue\" stroke=\"black\" points=\"431,-405 336,-405 336,-375 431,-375 431,-405\"/>\n",
       "<text text-anchor=\"middle\" x=\"383.5\" y=\"-393\" font-family=\"monospace\" font-size=\"10.00\">dense2.weight</text>\n",
       "<text text-anchor=\"middle\" x=\"383.5\" y=\"-382\" font-family=\"monospace\" font-size=\"10.00\"> (1, 30)</text>\n",
       "</g>\n",
       "<!-- 140599080271040&#45;&gt;140599080285328 -->\n",
       "<g id=\"edge15\" class=\"edge\">\n",
       "<title>140599080271040&#45;&gt;140599080285328</title>\n",
       "<path fill=\"none\" stroke=\"black\" d=\"M383.5,-374.8C383.5,-365.7 383.5,-353.79 383.5,-343.9\"/>\n",
       "<polygon fill=\"black\" stroke=\"black\" points=\"387,-343.84 383.5,-333.84 380,-343.84 387,-343.84\"/>\n",
       "</g>\n",
       "<!-- 140599131379120 -->\n",
       "<g id=\"node18\" class=\"node\">\n",
       "<title>140599131379120</title>\n",
       "<polygon fill=\"lightgrey\" stroke=\"black\" points=\"423,-141 346,-141 346,-122 423,-122 423,-141\"/>\n",
       "<text text-anchor=\"middle\" x=\"384.5\" y=\"-129\" font-family=\"monospace\" font-size=\"10.00\">TBackward0</text>\n",
       "</g>\n",
       "<!-- 140599131379120&#45;&gt;140599131377872 -->\n",
       "<g id=\"edge16\" class=\"edge\">\n",
       "<title>140599131379120&#45;&gt;140599131377872</title>\n",
       "<path fill=\"none\" stroke=\"black\" d=\"M358.47,-121.98C331.39,-113.13 288.79,-99.19 258.49,-89.28\"/>\n",
       "<polygon fill=\"black\" stroke=\"black\" points=\"259.32,-85.87 248.73,-86.08 257.15,-92.52 259.32,-85.87\"/>\n",
       "</g>\n",
       "<!-- 140599080284512 -->\n",
       "<g id=\"node19\" class=\"node\">\n",
       "<title>140599080284512</title>\n",
       "<polygon fill=\"lightgrey\" stroke=\"black\" points=\"496,-201.5 395,-201.5 395,-182.5 496,-182.5 496,-201.5\"/>\n",
       "<text text-anchor=\"middle\" x=\"445.5\" y=\"-189.5\" font-family=\"monospace\" font-size=\"10.00\">AccumulateGrad</text>\n",
       "</g>\n",
       "<!-- 140599080284512&#45;&gt;140599131379120 -->\n",
       "<g id=\"edge17\" class=\"edge\">\n",
       "<title>140599080284512&#45;&gt;140599131379120</title>\n",
       "<path fill=\"none\" stroke=\"black\" d=\"M436.5,-182.37C427.13,-173.38 412.25,-159.11 400.8,-148.14\"/>\n",
       "<polygon fill=\"black\" stroke=\"black\" points=\"403.18,-145.56 393.54,-141.17 398.33,-150.62 403.18,-145.56\"/>\n",
       "</g>\n",
       "<!-- 140599080271680 -->\n",
       "<g id=\"node20\" class=\"node\">\n",
       "<title>140599080271680</title>\n",
       "<polygon fill=\"lightblue\" stroke=\"black\" points=\"544,-273 437,-273 437,-243 544,-243 544,-273\"/>\n",
       "<text text-anchor=\"middle\" x=\"490.5\" y=\"-261\" font-family=\"monospace\" font-size=\"10.00\">denseout.weight</text>\n",
       "<text text-anchor=\"middle\" x=\"490.5\" y=\"-250\" font-family=\"monospace\" font-size=\"10.00\"> (106, 2)</text>\n",
       "</g>\n",
       "<!-- 140599080271680&#45;&gt;140599080284512 -->\n",
       "<g id=\"edge18\" class=\"edge\">\n",
       "<title>140599080271680&#45;&gt;140599080284512</title>\n",
       "<path fill=\"none\" stroke=\"black\" d=\"M480.51,-242.8C473.77,-233.21 464.84,-220.5 457.68,-210.32\"/>\n",
       "<polygon fill=\"black\" stroke=\"black\" points=\"460.33,-208.01 451.72,-201.84 454.61,-212.04 460.33,-208.01\"/>\n",
       "</g>\n",
       "</g>\n",
       "</svg>\n"
      ],
      "text/plain": [
       "<graphviz.graphs.Digraph at 0x7fdfc9481e80>"
      ]
     },
     "execution_count": 49,
     "metadata": {},
     "output_type": "execute_result"
    }
   ],
   "source": [
    "from torchviz import make_dot\n",
    "make_dot(mymodel(torch.rand((819,60))),params=dict(mymodel.named_parameters()))"
   ]
  },
  {
   "cell_type": "markdown",
   "id": "b191b991-4ad3-4781-8f6f-6deb51504319",
   "metadata": {},
   "source": [
    "##### Custom Losses"
   ]
  },
  {
   "cell_type": "code",
   "execution_count": 13,
   "id": "9b29ee74-1b0b-4bd5-8d77-e9e600ef22ba",
   "metadata": {},
   "outputs": [],
   "source": [
    "class R2Loss(torch.nn.Module):\n",
    "    \n",
    "    def forward(self, y_pred, y):\n",
    "        var_y = torch.var(y, unbiased=False)\n",
    "        return -(1.0 - torch.nn.functional.mse_loss(y_pred, y, reduction=\"mean\") / var_y)\n",
    "    \n",
    "class R2_physicalLoss(torch.nn.Module):\n",
    "    def __init__(self, pcs=None, wantcomps=None):\n",
    "        super(R2_physicalLoss, self).__init__()\n",
    "        self.pcs = pcs\n",
    "        self.wantcomps = wantcomps\n",
    "        \n",
    "    def forward(self, y_pred, y):\n",
    "        def r2score(y_pred, y):\n",
    "            var_y = torch.var(y, unbiased=False)\n",
    "            return -(1.0 - torch.nn.functional.mse_loss(y_pred, y, reduction=\"mean\") / var_y)\n",
    "        \"\"\"\n",
    "        1. Here we slice the feature axis to separate samples into u/v/w/theta components\n",
    "        \"\"\"\n",
    "        y_pred_u, y_u = y_pred[:,0:self.wantcomps[0]], y[:,0:self.wantcomps[0]]\n",
    "        y_pred_v, y_v = y_pred[:,self.wantcomps[0]:self.wantcomps[0]+self.wantcomps[1]], y[:,self.wantcomps[0]:self.wantcomps[0]+self.wantcomps[1]]\n",
    "        y_pred_w, y_w = y_pred[:,self.wantcomps[0]+self.wantcomps[1]:self.wantcomps[0]+self.wantcomps[1]+self.wantcomps[2]], \\\n",
    "        y[:,self.wantcomps[0]+self.wantcomps[1]:self.wantcomps[0]+self.wantcomps[1]+self.wantcomps[2]]\n",
    "        y_pred_th, y_th = y_pred[:,self.wantcomps[0]+self.wantcomps[1]+self.wantcomps[2]:self.wantcomps[0]+self.wantcomps[1]+self.wantcomps[2]+self.wantcomps[3]], \\\n",
    "        y[:,self.wantcomps[0]+self.wantcomps[1]+self.wantcomps[2]:self.wantcomps[0]+self.wantcomps[1]+self.wantcomps[2]+self.wantcomps[3]]\n",
    "        \"\"\"\n",
    "        2. Here we convert PCs into physical space\n",
    "        \"\"\"\n",
    "        uphys_pred, uphys_real = torch.matmul(y_pred_u, self.pcs[0]),torch.matmul(y_u, self.pcs[0])\n",
    "        vphys_pred, vphys_real = torch.matmul(y_pred_v, self.pcs[1]),torch.matmul(y_v, self.pcs[1])\n",
    "        wphys_pred, wphys_real = torch.matmul(y_pred_w, self.pcs[2]),torch.matmul(y_w, self.pcs[2])\n",
    "        thphys_pred, thphys_real = torch.matmul(y_pred_th, self.pcs[3]),torch.matmul(y_th, self.pcs[3])\n",
    "        \n",
    "        u_r2, v_r2, w_r2, th_r2 = r2score(uphys_pred,uphys_real),r2score(vphys_pred,vphys_real),r2score(wphys_pred,wphys_real),r2score(thphys_pred,thphys_real)\n",
    "        r2sum = u_r2.add(v_r2).add(w_r2).add(th_r2)\n",
    "        return torch.mean(r2sum)#, u_r2,v_r2,w_r2,th_r2"
   ]
  },
  {
   "cell_type": "markdown",
   "id": "7ccb3246-82a8-4376-b351-a23887121915",
   "metadata": {},
   "source": [
    "#### Model compile settings"
   ]
  },
  {
   "cell_type": "code",
   "execution_count": 23,
   "id": "68855482-eef8-465f-9d9b-6fda45471ff0",
   "metadata": {},
   "outputs": [],
   "source": [
    "loss_func = torch.nn.MSELoss()\n",
    "\n",
    "model = OptimMLR_2D()"
   ]
  },
  {
   "cell_type": "code",
   "execution_count": 29,
   "id": "cd608e82-b0a3-4ae3-a576-c71924311ef5",
   "metadata": {},
   "outputs": [],
   "source": [
    "optimizer = torch.optim.Adam(model.parameters(), lr=1e-3)\n",
    "\n",
    "num_epochs = 10000"
   ]
  },
  {
   "cell_type": "markdown",
   "id": "43a9a532-3278-449f-988a-7f4743096827",
   "metadata": {},
   "source": [
    "#### Evaluation Loop"
   ]
  },
  {
   "cell_type": "code",
   "execution_count": 24,
   "id": "6493b246-f4a7-4528-860a-0f24fe05ff8e",
   "metadata": {},
   "outputs": [],
   "source": [
    "def eval_model(model, dataloader, loss_func, metric_func):\n",
    "    with torch.no_grad():\n",
    "        loss = 0\n",
    "        metric = 0\n",
    "        \n",
    "        global_sum = 0\n",
    "        label_size = 0\n",
    "        for feature, labels in dataloader:\n",
    "            global_sum += labels.sum()\n",
    "            label_size += len(labels)\n",
    "            \n",
    "        global_mean = global_sum / label_size\n",
    "        for features, labels in dataloader:\n",
    "            pred = model(features)\n",
    "            batch_loss = loss_func(pred, labels)\n",
    "            batch_metric = metric_func(pred, labels, global_mean)\n",
    "            \n",
    "            loss+=batch_loss.item()\n",
    "            metric+=batch_metric.item()\n",
    "            \n",
    "        num_batches = len(dataloader)\n",
    "        \n",
    "        loss = loss/num_batches\n",
    "        metric = metric/num_batches\n",
    "        return (loss, metric)"
   ]
  },
  {
   "cell_type": "code",
   "execution_count": 16,
   "id": "6feda265-857f-43f2-9046-98577afe2669",
   "metadata": {},
   "outputs": [],
   "source": [
    "# Customzied evaluation metric NSE for validation set and test set # \n",
    "def calc_nse(sim: torch.FloatTensor, obs: torch.FloatTensor, global_obs_mean: torch.FloatTensor) -> float:\n",
    "    \"\"\"Calculate the Nash-Sutcliff-Efficiency coefficient.\n",
    "\n",
    "    :param obs: Array containing the observations\n",
    "    :param sim: Array containing the simulations\n",
    "    :param global_obs_mean: mean of the whole observation series\n",
    "    :return: NSE value.\n",
    "    \"\"\"\n",
    "    numerator = torch.square(sim - obs).sum()\n",
    "    denominator = torch.square(obs - global_obs_mean).sum()\n",
    "    nse_val = 1 - numerator / denominator\n",
    "\n",
    "    return nse_val"
   ]
  },
  {
   "cell_type": "code",
   "execution_count": 17,
   "id": "b7c37796-7393-41d4-a00e-6ce7e04b9500",
   "metadata": {},
   "outputs": [],
   "source": [
    "eigenvectors = [torch.FloatTensor(obj).to(calc_device) for obj in [upcs,vpcs,wpcs,thpcs]]"
   ]
  },
  {
   "cell_type": "code",
   "execution_count": 30,
   "id": "e5bda2f5-973a-4186-9b53-ceab15c32f7e",
   "metadata": {},
   "outputs": [
    {
     "data": {
      "application/vnd.jupyter.widget-view+json": {
       "model_id": "9e3f9122f80b4108bacafacf88a920cb",
       "version_major": 2,
       "version_minor": 0
      },
      "text/plain": [
       "  0%|          | 0/10000 [00:00<?, ?it/s]"
      ]
     },
     "metadata": {},
     "output_type": "display_data"
    },
    {
     "ename": "KeyboardInterrupt",
     "evalue": "",
     "output_type": "error",
     "traceback": [
      "\u001b[0;31m---------------------------------------------------------------------------\u001b[0m",
      "\u001b[0;31mKeyboardInterrupt\u001b[0m                         Traceback (most recent call last)",
      "Input \u001b[0;32mIn [30]\u001b[0m, in \u001b[0;36m<cell line: 5>\u001b[0;34m()\u001b[0m\n\u001b[1;32m      9\u001b[0m train_loss \u001b[38;5;241m=\u001b[39m \u001b[38;5;241m0\u001b[39m\n\u001b[1;32m     10\u001b[0m \u001b[38;5;124;03m\"\"\"\u001b[39;00m\n\u001b[1;32m     11\u001b[0m \u001b[38;5;124;03mOperate per batch\u001b[39;00m\n\u001b[1;32m     12\u001b[0m \u001b[38;5;124;03m\"\"\"\u001b[39;00m\n\u001b[0;32m---> 13\u001b[0m \u001b[38;5;28;01mfor\u001b[39;00m features, labels \u001b[38;5;129;01min\u001b[39;00m train_loader:\n\u001b[1;32m     14\u001b[0m     optimizer\u001b[38;5;241m.\u001b[39mzero_grad()\n\u001b[1;32m     16\u001b[0m     prediction \u001b[38;5;241m=\u001b[39m model(features)\n",
      "File \u001b[0;32m/work/FAC/FGSE/IDYST/tbeucler/default/freddy0218/miniconda3/lib/python3.9/site-packages/torch/utils/data/dataloader.py:676\u001b[0m, in \u001b[0;36m_BaseDataLoaderIter.__next__\u001b[0;34m(self)\u001b[0m\n\u001b[1;32m    673\u001b[0m \u001b[38;5;28;01mdef\u001b[39;00m \u001b[38;5;21m_next_data\u001b[39m(\u001b[38;5;28mself\u001b[39m):\n\u001b[1;32m    674\u001b[0m     \u001b[38;5;28;01mraise\u001b[39;00m \u001b[38;5;167;01mNotImplementedError\u001b[39;00m\n\u001b[0;32m--> 676\u001b[0m \u001b[38;5;28;01mdef\u001b[39;00m \u001b[38;5;21m__next__\u001b[39m(\u001b[38;5;28mself\u001b[39m) \u001b[38;5;241m-\u001b[39m\u001b[38;5;241m>\u001b[39m Any:\n\u001b[1;32m    677\u001b[0m     \u001b[38;5;28;01mwith\u001b[39;00m torch\u001b[38;5;241m.\u001b[39mautograd\u001b[38;5;241m.\u001b[39mprofiler\u001b[38;5;241m.\u001b[39mrecord_function(\u001b[38;5;28mself\u001b[39m\u001b[38;5;241m.\u001b[39m_profile_name):\n\u001b[1;32m    678\u001b[0m         \u001b[38;5;28;01mif\u001b[39;00m \u001b[38;5;28mself\u001b[39m\u001b[38;5;241m.\u001b[39m_sampler_iter \u001b[38;5;129;01mis\u001b[39;00m \u001b[38;5;28;01mNone\u001b[39;00m:\n\u001b[1;32m    679\u001b[0m             \u001b[38;5;66;03m# TODO(https://github.com/pytorch/pytorch/issues/76750)\u001b[39;00m\n",
      "\u001b[0;31mKeyboardInterrupt\u001b[0m: "
     ]
    }
   ],
   "source": [
    "train_losses,trainu_losses,trainv_losses,trainw_losses,trainth_losses = [],[],[],[],[]\n",
    "val_losses = []\n",
    "val_NSEs = []\n",
    "\n",
    "for epoch in tqdm(range(int(num_epochs))):\n",
    "    \"\"\"\n",
    "    Initialize loss\n",
    "    \"\"\"\n",
    "    train_loss = 0\n",
    "    \"\"\"\n",
    "    Operate per batch\n",
    "    \"\"\"\n",
    "    for features, labels in train_loader:\n",
    "        optimizer.zero_grad()\n",
    "        \n",
    "        prediction = model(features)\n",
    "        batch_loss = R2_physicalLoss(eigenvectors,wcomps)(prediction, labels)#loss_func(prediction, labels)\n",
    "        batch_loss.backward()\n",
    "        \n",
    "        optimizer.step()\n",
    "        \n",
    "        train_loss += batch_loss.item()\n",
    "    \n",
    "    train_loss = train_loss / len(train_loader)\n",
    "    train_losses.append(train_loss)\n",
    "\n",
    "    val_loss, val_NSE = eval_model(model,\n",
    "                                   val_loader,\n",
    "                                   R2_physicalLoss(eigenvectors,wcomps),\n",
    "                                   calc_nse)\n",
    "    val_NSEs.append(val_NSE)\n",
    "    val_losses.append(val_loss)"
   ]
  },
  {
   "cell_type": "code",
   "execution_count": 28,
   "id": "26ce69ea-288d-4b92-aebe-4a44013520da",
   "metadata": {},
   "outputs": [
    {
     "data": {
      "image/png": "[encoded data removed]",
      "text/plain": [
       "<Figure size 400x400 with 1 Axes>"
      ]
     },
     "metadata": {
      "image/png": {
       "height": 400,
       "width": 400
      }
     },
     "output_type": "display_data"
    }
   ],
   "source": [
    "#plt.plot([obj.detach().numpy() for obj in trainv_losses])\n",
    "#plt.plot(train_losses)\n",
    "#plt.plot(val_losses)\n",
    "plt.plot(val_NSEs)\n",
    "#plt.ylim(-2,1)\n",
    "plt.show()"
   ]
  },
  {
   "cell_type": "code",
   "execution_count": 80,
   "id": "b28f705a-a47a-46b5-b9df-0ce3d8e4f179",
   "metadata": {},
   "outputs": [
    {
     "data": {
      "text/plain": [
       "array([[-4.6415627e-04, -2.3111701e-05,  2.2351742e-07, ...,\n",
       "         8.7022781e-06,  4.6491623e-06,  1.4267862e-06],\n",
       "       [-4.6442449e-04, -2.3737550e-05,  7.0780516e-07, ...,\n",
       "         9.5665455e-06,  5.7518482e-06,  5.1036477e-07],\n",
       "       [-4.6497583e-04, -2.4899840e-05,  1.5422702e-06, ...,\n",
       "         1.0892749e-05,  7.4803829e-06, -9.6485019e-07],\n",
       "       ...,\n",
       "       [-4.8261881e-04, -3.8504601e-05,  3.9115548e-06, ...,\n",
       "        -1.1473894e-05, -2.6285648e-05,  1.2379140e-05],\n",
       "       [-4.6771765e-04, -3.9383769e-05,  1.4595687e-05, ...,\n",
       "         4.1186810e-05,  4.8235059e-05, -3.0521303e-05],\n",
       "       [-4.6601892e-04, -3.7655234e-05,  1.3932586e-05, ...,\n",
       "         4.2185187e-05,  4.9918890e-05, -3.0722469e-05]], dtype=float32)"
      ]
     },
     "execution_count": 80,
     "metadata": {},
     "output_type": "execute_result"
    }
   ],
   "source": [
    "model(train_Xtensor).detach().numpy()"
   ]
  },
  {
   "cell_type": "code",
   "execution_count": 238,
   "id": "da6a652e-7d1a-4e6e-a8bf-ff323afd45ef",
   "metadata": {},
   "outputs": [
    {
     "data": {
      "text/plain": [
       "0.6560893777335077"
      ]
     },
     "execution_count": 238,
     "metadata": {},
     "output_type": "execute_result"
    }
   ],
   "source": [
    "from sklearn.metrics import r2_score\n",
    "r2_score(train_ytensor.detach().numpy().transpose(),model(train_Xtensor).detach().numpy().transpose())"
   ]
  },
  {
   "cell_type": "code",
   "execution_count": 101,
   "id": "fefb19ca-e7e7-412f-9e88-d1dde0d5a956",
   "metadata": {},
   "outputs": [
    {
     "data": {
      "text/plain": [
       "array([1.        , 0.41182126, 0.06471881, ..., 0.30886585, 0.30604665,\n",
       "       0.30331629])"
      ]
     },
     "execution_count": 101,
     "metadata": {},
     "output_type": "execute_result"
    }
   ],
   "source": [
    "1-sum((bbbbbb-aaaaaa)**2)/sum((aaaaaa-np.mean(aaaaaa))**2)"
   ]
  },
  {
   "cell_type": "code",
   "execution_count": 90,
   "id": "9af89ad0-9d29-4fd4-af05-ef5197d51432",
   "metadata": {},
   "outputs": [],
   "source": [
    "aaaaaa = np.dot(train_ytensor.detach().numpy()[:,0:26],pcastore['u'].components_[:26])"
   ]
  },
  {
   "cell_type": "code",
   "execution_count": 91,
   "id": "4cad2268-b93e-4ce2-aeb1-3148315116c6",
   "metadata": {},
   "outputs": [],
   "source": [
    "bbbbbb = np.dot(model(train_Xtensor).detach().numpy()[:,0:26],pcastore['u'].components_[:26])"
   ]
  },
  {
   "cell_type": "code",
   "execution_count": 112,
   "id": "f9cea010-2db9-401b-a4b8-db9c10ad9e16",
   "metadata": {},
   "outputs": [],
   "source": [
    "testaaaaa = sum((train_ytensor.detach().numpy()[:,0:26]-np.mean(train_ytensor.detach().numpy()[:,0:26]))**2)"
   ]
  },
  {
   "cell_type": "code",
   "execution_count": 114,
   "id": "d654c006-5713-416f-94e4-ee1aed95d012",
   "metadata": {},
   "outputs": [
    {
     "data": {
      "text/plain": [
       "0.29285717"
      ]
     },
     "execution_count": 114,
     "metadata": {},
     "output_type": "execute_result"
    }
   ],
   "source": [
    "np.average(1-sum((train_ytensor.detach().numpy()[:,0:26]-model(train_Xtensor).detach().numpy()[:,0:26])**2)/sum((train_ytensor.detach().numpy()[:,0:26]-np.mean(train_ytensor.detach().numpy()[:,0:26]))**2),\n",
    "          weights=testaaaaa)"
   ]
  },
  {
   "cell_type": "code",
   "execution_count": 93,
   "id": "99a866da-aef5-41a9-9415-07e652258fdf",
   "metadata": {},
   "outputs": [
    {
     "data": {
      "text/plain": [
       "0.18772386987617215"
      ]
     },
     "execution_count": 93,
     "metadata": {},
     "output_type": "execute_result"
    }
   ],
   "source": [
    "r2_score(aaaaaa.transpose(),bbbbbb.transpose())"
   ]
  },
  {
   "cell_type": "code",
   "execution_count": 81,
   "id": "aa4dfe09-5dc3-4085-90f9-064dced745a2",
   "metadata": {},
   "outputs": [
    {
     "data": {
      "text/plain": [
       "[<matplotlib.lines.Line2D at 0x7fdfc6357670>]"
      ]
     },
     "execution_count": 81,
     "metadata": {},
     "output_type": "execute_result"
    },
    {
     "data": {
      "image/png": "[encoded data removed]",
      "text/plain": [
       "<Figure size 400x400 with 1 Axes>"
      ]
     },
     "metadata": {
      "image/png": {
       "height": 400,
       "width": 400
      }
     },
     "output_type": "display_data"
    }
   ],
   "source": [
    "plt.plot(train_losses)"
   ]
  },
  {
   "cell_type": "code",
   "execution_count": null,
   "id": "cb11e618-656d-4470-829c-aa674f65af90",
   "metadata": {},
   "outputs": [],
   "source": []
  }
 ],
 "metadata": {
  "kernelspec": {
   "display_name": "Python 3 (ipykernel)",
   "language": "python",
   "name": "python3"
  },
  "language_info": {
   "codemirror_mode": {
    "name": "ipython",
    "version": 3
   },
   "file_extension": ".py",
   "mimetype": "text/x-python",
   "name": "python",
   "nbconvert_exporter": "python",
   "pygments_lexer": "ipython3",
   "version": "3.9.7"
  }
 },
 "nbformat": 4,
 "nbformat_minor": 5
}
