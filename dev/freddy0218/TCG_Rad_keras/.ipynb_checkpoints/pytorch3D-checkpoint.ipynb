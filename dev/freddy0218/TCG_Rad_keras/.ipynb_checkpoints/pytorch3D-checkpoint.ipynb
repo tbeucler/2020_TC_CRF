{
 "cells": [
  {
   "cell_type": "code",
   "execution_count": 1,
   "id": "bbb8808b-aa0f-4967-bf4a-e36ee8629309",
   "metadata": {},
   "outputs": [
    {
     "name": "stderr",
     "output_type": "stream",
     "text": [
      "/tmp/ipykernel_1285902/753694454.py:18: ProplotWarning: rc setting 'linewidth' was renamed to 'meta.width' in version 0.8.\n",
      "  plot.rc.update({'figure.facecolor':'w','axes.labelweight':'ultralight',\n"
     ]
    }
   ],
   "source": [
    "\"\"\"──────────────────────────────────────────────────────────────────────────┐\n",
    "│ Loading necessary libraries to build and train model                       │\n",
    "└──────────────────────────────────────────────────────────────────────────\"\"\"\n",
    "import os,sys,gc\n",
    "import numpy as np\n",
    "import pickle\n",
    "import torch\n",
    "import proplot as plot\n",
    "import matplotlib.pyplot as plt\n",
    "from tqdm.auto import tqdm\n",
    "\n",
    "sys.path.insert(1, '/work/FAC/FGSE/IDYST/tbeucler/default/freddy0218/TCGphy/2020_TC_CRF/dev/freddy0218/scikit/')\n",
    "from tools import derive_var,read_and_proc\n",
    "from tools.mlr import mlr\n",
    "from tools.preprocess import do_eof,preproc_maria,preproc_haiyan\n",
    "import read_stuff as read\n",
    "%matplotlib inline\n",
    "plot.rc.update({'figure.facecolor':'w','axes.labelweight':'ultralight',\n",
    "                'tick.labelweight':'ultralight','gridminor.linestyle':'--','title.weight':'normal','linewidth':0.5})"
   ]
  },
  {
   "cell_type": "code",
   "execution_count": 2,
   "id": "02407d96-88aa-4740-91c5-645880a0a952",
   "metadata": {},
   "outputs": [
    {
     "data": {
      "application/vnd.jupyter.widget-view+json": {
       "model_id": "f676ffaa47cf4cd89e0259c70e4efafa",
       "version_major": 2,
       "version_minor": 0
      },
      "text/plain": [
       "  0%|          | 0/20 [00:00<?, ?it/s]"
      ]
     },
     "metadata": {},
     "output_type": "display_data"
    }
   ],
   "source": [
    "from tqdm.auto import tqdm\n",
    "path = '/work/FAC/FGSE/IDYST/tbeucler/default/freddy0218/'\n",
    "suffix = '_smooth_preproc_dict1b_g'\n",
    "a = [read_and_proc.depickle(path+'TCGphy/2020_TC_CRF/dev/freddy0218/testML/output/haiyan/processed/uvwheat/'+'mem'+str(lime)+suffix)['u'].shape for lime in tqdm(range(1,21))]\n",
    "# divide experiments reference\n",
    "divider = np.asarray([aobj[0] for aobj in a]).cumsum()"
   ]
  },
  {
   "cell_type": "code",
   "execution_count": 3,
   "id": "1225280e-a0a7-4ee1-b1b0-1f51a62738b6",
   "metadata": {
    "tags": []
   },
   "outputs": [
    {
     "data": {
      "text/plain": [
       "<module 'read_stuff' from '/work/FAC/FGSE/IDYST/tbeucler/default/freddy0218/TCGphy/2020_TC_CRF/dev/freddy0218/TCG_Rad_keras/read_stuff.py'>"
      ]
     },
     "execution_count": 3,
     "metadata": {},
     "output_type": "execute_result"
    }
   ],
   "source": [
    "import importlib\n",
    "importlib.reload(read)"
   ]
  },
  {
   "cell_type": "code",
   "execution_count": 4,
   "id": "b4d2c448-343d-4cc2-9654-1f7369b68d39",
   "metadata": {},
   "outputs": [
    {
     "data": {
      "application/vnd.jupyter.widget-view+json": {
       "model_id": "b2fc4b24d3814bf48ef27f92c13d1233",
       "version_major": 2,
       "version_minor": 0
      },
      "text/plain": [
       "  0%|          | 0/33 [00:00<?, ?it/s]"
      ]
     },
     "metadata": {},
     "output_type": "display_data"
    },
    {
     "data": {
      "application/vnd.jupyter.widget-view+json": {
       "model_id": "68e8c08790b1446c97e0830f6f5cdf84",
       "version_major": 2,
       "version_minor": 0
      },
      "text/plain": [
       "  0%|          | 0/33 [00:00<?, ?it/s]"
      ]
     },
     "metadata": {},
     "output_type": "display_data"
    },
    {
     "data": {
      "application/vnd.jupyter.widget-view+json": {
       "model_id": "0a58b166bf4540079bf8dbb8ceed1b52",
       "version_major": 2,
       "version_minor": 0
      },
      "text/plain": [
       "  0%|          | 0/33 [00:00<?, ?it/s]"
      ]
     },
     "metadata": {},
     "output_type": "display_data"
    }
   ],
   "source": [
    "folderpath='/work/FAC/FGSE/IDYST/tbeucler/default/freddy0218/TCGphy/2020_TC_CRF/dev/freddy0218/TCG_Rad_keras/'\n",
    "folderpath2='/work/FAC/FGSE/IDYST/tbeucler/default/freddy0218/TCGphy/2020_TC_CRF/dev/freddy0218/testML/output/haiyan/processed/intermediate/'\n",
    "\"\"\"──────────────────────────────────────────────────────────────────────────┐\n",
    "│ Loading input and outpus                    \n",
    "└──────────────────────────────────────────────────────────────────────────\"\"\"\n",
    "Xtrain,Xvalid,Xtest,yall,yall_orig = read.train_optimizedMLR(folderpath,folderpath2,'rhorig','rhorig').read_Xy(num=33)\n",
    "\"\"\"──────────────────────────────────────────────────────────────────────────┐\n",
    "│ Loading PC structures for custom loss                       \n",
    "└──────────────────────────────────────────────────────────────────────────\"\"\"\n",
    "pcastore = read.train_optimizedMLR(folderpath,folderpath2,'rh').pcastore\n",
    "#wcomps = [26,18,48,14]\n",
    "#upcs,vpcs,wpcs,thpcs = pcastore['u'].components_[:wcomps[0]],pcastore['v'].components_[:wcomps[1]],pcastore['w'].components_[:wcomps[2]],pcastore['theta'].components_[:wcomps[3]]\n",
    "wcomps = [26,18,14]\n",
    "upcs,vpcs,thpcs = pcastore['u'].components_[:wcomps[0]],pcastore['v'].components_[:wcomps[1]],pcastore['theta'].components_[:wcomps[2]]\n",
    "\"\"\"──────────────────────────────────────────────────────────────────────────┐\n",
    "│ Loading y truth for custom loss                      \n",
    "└──────────────────────────────────────────────────────────────────────────\"\"\"\n",
    "yTRUTH = read.train_optimizedMLR(folderpath,folderpath2,'rh').y_truth(divider=divider,lti=24,num=33,withW=False)"
   ]
  },
  {
   "cell_type": "code",
   "execution_count": 16,
   "id": "7d7201a4-eb0a-4bcc-ba30-dace7b87612d",
   "metadata": {
    "jupyter": {
     "source_hidden": true
    },
    "tags": []
   },
   "outputs": [],
   "source": [
    "\"\"\"──────────────────────────────────────────────────────────────────────────┐\n",
    "│ Which split will we be testing                     \n",
    "└──────────────────────────────────────────────────────────────────────────\"\"\"\n",
    "splitnum = 5"
   ]
  },
  {
   "cell_type": "markdown",
   "id": "53cfa094-169e-4f0b-8cfe-a319fb27215d",
   "metadata": {},
   "source": [
    "### PyTorch"
   ]
  },
  {
   "cell_type": "markdown",
   "id": "616cee19-b951-46af-9f48-3a3ad37d8652",
   "metadata": {},
   "source": [
    "#### Data processing"
   ]
  },
  {
   "cell_type": "code",
   "execution_count": 17,
   "id": "7917585a-2c29-4d69-8e8e-01b6f6e621e4",
   "metadata": {
    "jupyter": {
     "source_hidden": true
    },
    "tags": []
   },
   "outputs": [],
   "source": [
    "X_totrain,y_totrain = train_optimizedMLR(folderpath,folderpath2).delete_padding(Xtrain[splitnum]['lwswdtthuvwqv'],yall_orig[splitnum][23][0])#yall_orig[splitnum][23][0])\n",
    "X_tovalid,y_tovalid = train_optimizedMLR(folderpath,folderpath2).delete_padding(Xvalid[splitnum]['lwswdtthuvwqv'],yall_orig[splitnum][23][1])#yall_orig[splitnum][23][1])\n",
    "X_totest,y_totest = train_optimizedMLR(folderpath,folderpath2).delete_padding(Xtest[splitnum]['lwswdtthuvwqv'],yall_orig[splitnum][23][2])#yall_orig[splitnum][23][2])"
   ]
  },
  {
   "cell_type": "code",
   "execution_count": 18,
   "id": "8d8c605b-d879-451c-9b0b-02afbc69ede8",
   "metadata": {
    "jupyter": {
     "source_hidden": true
    },
    "tags": []
   },
   "outputs": [],
   "source": [
    "calc_device = 'cpu'\n",
    "###################################################################################\n",
    "# Convert numpy arrays into tensors\n",
    "###################################################################################\n",
    "train_Xtensor = torch.FloatTensor(X_totrain).to(calc_device)\n",
    "train_ytensor = torch.FloatTensor(y_totrain).to(calc_device)\n",
    "\n",
    "val_Xtensor = torch.FloatTensor(X_tovalid).to(calc_device)\n",
    "val_ytensor = torch.FloatTensor(y_tovalid).to(calc_device)\n",
    "\n",
    "test_Xtensor = torch.FloatTensor(X_totest).to(calc_device)\n",
    "test_ytensor = torch.FloatTensor(y_totest).to(calc_device)\n",
    "\n",
    "train_data = torch.utils.data.TensorDataset(train_Xtensor, train_ytensor)\n",
    "val_data = torch.utils.data.TensorDataset(val_Xtensor, val_ytensor)\n",
    "test_data = torch.utils.data.TensorDataset(test_Xtensor, test_ytensor)\n",
    "\n",
    "###################################################################################\n",
    "# Eigenvectors for Custom Loss in Physical Space\n",
    "###################################################################################\n",
    "eigenvectors = [torch.FloatTensor(obj).to(calc_device) for obj in [upcs,vpcs,wpcs,thpcs]]\n",
    "###################################################################################\n",
    "# Variances to calculate r2 in Physical Space\n",
    "###################################################################################\n",
    "varu,varv,varw,varth = np.var(yTRUTH['train'][splitnum]['du']),np.var(yTRUTH['train'][splitnum]['dv']),np.var(yTRUTH['train'][splitnum]['dw']),np.var(yTRUTH['train'][splitnum]['dth'])"
   ]
  },
  {
   "cell_type": "markdown",
   "id": "4cceb744-a8a6-46ea-bc06-697897d77482",
   "metadata": {},
   "source": [
    "#### Hyperparameters for training"
   ]
  },
  {
   "cell_type": "code",
   "execution_count": 9,
   "id": "f965918e-4a19-41c3-a172-687c57333dbe",
   "metadata": {
    "jupyter": {
     "source_hidden": true
    },
    "tags": []
   },
   "outputs": [],
   "source": [
    "batch_size = 9\n",
    "num_workers = 2"
   ]
  },
  {
   "cell_type": "markdown",
   "id": "9936d15a-61c0-4747-9745-4118791e7584",
   "metadata": {},
   "source": [
    "#### DataLoader"
   ]
  },
  {
   "cell_type": "code",
   "execution_count": 10,
   "id": "fb90edf3-6eeb-4802-9eb3-51433273ee23",
   "metadata": {
    "jupyter": {
     "source_hidden": true
    },
    "tags": []
   },
   "outputs": [],
   "source": [
    "train_loader = torch.utils.data.DataLoader(\n",
    "    dataset=train_data,\n",
    "    batch_size=batch_size,\n",
    "    shuffle=True\n",
    ")\n",
    "\n",
    "val_loader = torch.utils.data.DataLoader(\n",
    "    dataset=val_data,\n",
    "    batch_size=batch_size,\n",
    "    shuffle=False\n",
    ")\n",
    "\n",
    "test_loader = torch.utils.data.DataLoader(\n",
    "    dataset=test_data,\n",
    "    batch_size=batch_size,\n",
    "    shuffle=False\n",
    ")"
   ]
  },
  {
   "cell_type": "markdown",
   "id": "52dfbf90-046e-42d8-894d-bc3f672139a6",
   "metadata": {},
   "source": [
    "#### Define Model Architecture"
   ]
  },
  {
   "cell_type": "code",
   "execution_count": 91,
   "id": "691fb3f1-aae9-4365-a6bb-987c3ba633a7",
   "metadata": {
    "jupyter": {
     "source_hidden": true
    },
    "tags": []
   },
   "outputs": [],
   "source": [
    "brchindex = [0,30,60,60+52,60+52+60]\n",
    "brchsize = [30,30,52,60]"
   ]
  },
  {
   "cell_type": "markdown",
   "id": "19ef978d-7402-416d-be20-15ff04d71489",
   "metadata": {},
   "source": [
    "#### SW+LW channels"
   ]
  },
  {
   "cell_type": "code",
   "execution_count": 12,
   "id": "5692c5aa-97b8-422a-a14d-db040b7c192c",
   "metadata": {
    "jupyter": {
     "source_hidden": true
    },
    "tags": []
   },
   "outputs": [],
   "source": [
    "class OptimMLR_2D(torch.nn.Module):\n",
    "    def __init__(self):\n",
    "        super(OptimMLR_2D, self).__init__()\n",
    "        ############################################################\n",
    "        # Input channels\n",
    "        ############################################################\n",
    "        brchsize=[30,30]\n",
    "        self.dense1 = torch.nn.Linear(brchsize[0], 1)\n",
    "        self.dense2 = torch.nn.Linear(brchsize[1], 1)\n",
    "        ############################################################\n",
    "        # Final Dense Layer\n",
    "        ############################################################\n",
    "        self.denseout = torch.nn.Linear(2,106)\n",
    "        \n",
    "    def forward(self,X):\n",
    "        brchindex = [0,30,60]\n",
    "        X_lw, X_sw = X[:,brchindex[0]:brchindex[1]],X[:,brchindex[1]:brchindex[2]]\n",
    "        ############################################################\n",
    "        # Optimal PC layer\n",
    "        ############################################################\n",
    "        bestlw = self.dense1(X_lw)\n",
    "        bestsw = self.dense2(X_sw)\n",
    "        ############################################################\n",
    "        # Concat\n",
    "        ############################################################\n",
    "        bestPC = torch.cat((bestlw,bestsw),1)\n",
    "        ############################################################\n",
    "        # Prediction layer\n",
    "        ############################################################\n",
    "        outpred = self.denseout(bestPC)\n",
    "        return outpred"
   ]
  },
  {
   "cell_type": "markdown",
   "id": "199b4632-84c3-4133-af6a-8572621206a5",
   "metadata": {},
   "source": [
    "#### SW+LW+u+w channels"
   ]
  },
  {
   "cell_type": "code",
   "execution_count": 128,
   "id": "649373f0-432c-4a45-80bf-74669c71a664",
   "metadata": {
    "jupyter": {
     "source_hidden": true
    },
    "tags": []
   },
   "outputs": [],
   "source": [
    "class OptimMLR_uv_2D(torch.nn.Module):\n",
    "    def __init__(self):\n",
    "        super(OptimMLR_uv_2D, self).__init__()\n",
    "        ############################################################\n",
    "        # Input channels\n",
    "        ############################################################\n",
    "        brchsize = [30,30,52,60]\n",
    "        self.dense1 = torch.nn.Linear(brchsize[0], 2)\n",
    "        self.dense2 = torch.nn.Linear(brchsize[1], 2)\n",
    "        self.dense3 = torch.nn.Linear(brchsize[2], 2)\n",
    "        self.dense4 = torch.nn.Linear(brchsize[3], 2)\n",
    "        ############################################################\n",
    "        # Final Dense Layer\n",
    "        ############################################################\n",
    "        self.denseout = torch.nn.Linear(8,106)\n",
    "        \n",
    "    def forward(self,X):\n",
    "        brchindex = [0,30,60,60+52,60+52+60]\n",
    "        X_lw, X_sw, X_u, X_w = X[:,brchindex[0]:brchindex[1]],X[:,brchindex[1]:brchindex[2]],X[:,brchindex[2]:brchindex[3]],X[:,brchindex[3]:brchindex[4]]\n",
    "        ############################################################\n",
    "        # Optimal PC layer\n",
    "        ############################################################\n",
    "        bestlw = self.dense1(X_lw)\n",
    "        bestsw = self.dense2(X_sw)\n",
    "        bestu = self.dense3(X_u)\n",
    "        bestw = self.dense4(X_w)\n",
    "        ############################################################\n",
    "        # Concat\n",
    "        ############################################################\n",
    "        bestPC = torch.cat((bestlw,bestsw,bestu,bestw),1)\n",
    "        ############################################################\n",
    "        # Prediction layer\n",
    "        ############################################################\n",
    "        outpred = self.denseout(bestPC)\n",
    "        return outpred"
   ]
  },
  {
   "cell_type": "code",
   "execution_count": 5,
   "id": "b6c94054-e6d2-4d42-9b53-dd40cac7a0d4",
   "metadata": {},
   "outputs": [],
   "source": [
    "class OptimMLR_all_2D_simple(torch.nn.Module):\n",
    "    def __init__(self):\n",
    "        #super(OptimMLR_all_2D, self).__init__()\n",
    "        super(OptimMLR_all_2D_simple, self).__init__()\n",
    "        ############################################################\n",
    "        # Input channels\n",
    "        ############################################################\n",
    "        #brchsize = [26*2,18*2,48+12,14*2,6*3,30,30]#9*2,6*3,30,30]\n",
    "        brchsize = [26,18,48,14,6,6,6]\n",
    "        self.dense1 = torch.nn.Linear(brchsize[0], 1)\n",
    "        self.dense2 = torch.nn.Linear(brchsize[1], 1)\n",
    "        self.dense3 = torch.nn.Linear(brchsize[2], 1)\n",
    "        self.dense4 = torch.nn.Linear(brchsize[3], 1)\n",
    "        self.dense5 = torch.nn.Linear(brchsize[4], 1)\n",
    "        self.dense6 = torch.nn.Linear(brchsize[5], 1)\n",
    "        self.dense7 = torch.nn.Linear(brchsize[6], 1)\n",
    "        ############################################################\n",
    "        # Final Dense Layer\n",
    "        ############################################################\n",
    "        #self.denseout = torch.nn.Linear(7,106)#106)\n",
    "        self.denseout = torch.nn.Linear(7,58)#106)\n",
    "        \n",
    "    def forward(self,X):\n",
    "        #brchindex = list(np.asarray([0,26*2,18*2,48+12,14*2,6*3,30,30]).cumsum())\n",
    "        brchindex = list(np.asarray([0,26,18,48,14,6,6,6]).cumsum())\n",
    "        X_u, X_v, X_w, X_th = X[:,brchindex[0]:brchindex[1]],X[:,brchindex[1]:brchindex[2]],X[:,brchindex[2]:brchindex[3]],X[:,brchindex[3]:brchindex[4]]\n",
    "        X_hdia, X_lw, X_sw = X[:,brchindex[4]:brchindex[5]],X[:,brchindex[5]:brchindex[6]],X[:,brchindex[6]:brchindex[7]]\n",
    "        ############################################################\n",
    "        # Optimal PC layer\n",
    "        ############################################################\n",
    "        bestu = self.dense1(X_u)\n",
    "        bestv = self.dense2(X_v)\n",
    "        bestw = self.dense3(X_w)\n",
    "        bestth = self.dense4(X_th)\n",
    "        besthdia = self.dense5(X_hdia)\n",
    "        bestlw = self.dense6(X_lw)\n",
    "        bestsw = self.dense7(X_sw)\n",
    "        ############################################################\n",
    "        # Concat\n",
    "        ############################################################\n",
    "        bestPC = torch.cat((bestu,bestv,bestw,bestth,besthdia,bestlw,bestsw),1)\n",
    "        ############################################################\n",
    "        # Prediction layer\n",
    "        ############################################################\n",
    "        outpred = self.denseout(bestPC)\n",
    "        return outpred"
   ]
  },
  {
   "cell_type": "markdown",
   "id": "f8d88e70-3797-4db2-a645-71cea03ba3e8",
   "metadata": {},
   "source": [
    "#### All channels"
   ]
  },
  {
   "cell_type": "code",
   "execution_count": 6,
   "id": "77998aae-d557-4b58-b22d-08ec83a1a8b0",
   "metadata": {
    "jupyter": {
     "source_hidden": true
    },
    "tags": []
   },
   "outputs": [],
   "source": [
    "class OptimMLR_all_2D(torch.nn.Module):\n",
    "    def __init__(self):\n",
    "        super(OptimMLR_all_2D, self).__init__()\n",
    "        ############################################################\n",
    "        # Input channels\n",
    "        ############################################################\n",
    "        brchsize = [26*2,18*2,48+12,14*2,9*2,6*3,30,30]\n",
    "        self.dense1 = torch.nn.Linear(brchsize[0], 1)\n",
    "        self.dense2 = torch.nn.Linear(brchsize[1], 1)\n",
    "        self.dense3 = torch.nn.Linear(brchsize[2], 1)\n",
    "        self.dense4 = torch.nn.Linear(brchsize[3], 1)\n",
    "        self.dense5 = torch.nn.Linear(brchsize[4], 1)\n",
    "        self.dense6 = torch.nn.Linear(brchsize[5], 1)\n",
    "        self.dense7 = torch.nn.Linear(brchsize[6], 1)\n",
    "        self.dense8 = torch.nn.Linear(brchsize[7], 1)\n",
    "        ############################################################\n",
    "        # Final Dense Layer\n",
    "        ############################################################\n",
    "        self.denseout = torch.nn.Linear(8,106)#106)\n",
    "        \n",
    "    def forward(self,X):\n",
    "        brchindex = list(np.asarray([0,26*2,18*2,48+12,14*2,9*2,6*3,30,30]).cumsum())\n",
    "        X_u, X_v, X_w, X_th = X[:,brchindex[0]:brchindex[1]],X[:,brchindex[1]:brchindex[2]],X[:,brchindex[2]:brchindex[3]],X[:,brchindex[3]:brchindex[4]]\n",
    "        X_rh, X_hdia, X_lw, X_sw = X[:,brchindex[4]:brchindex[5]],X[:,brchindex[5]:brchindex[6]],X[:,brchindex[6]:brchindex[7]],X[:,brchindex[7]:brchindex[8]]\n",
    "        ############################################################\n",
    "        # Optimal PC layer\n",
    "        ############################################################\n",
    "        bestu = self.dense1(X_u)\n",
    "        bestv = self.dense2(X_v)\n",
    "        bestw = self.dense3(X_w)\n",
    "        bestth = self.dense4(X_th)\n",
    "        bestrh = self.dense5(X_rh)\n",
    "        besthdia = self.dense6(X_hdia)\n",
    "        bestlw = self.dense7(X_lw)\n",
    "        bestsw = self.dense8(X_sw)\n",
    "        ############################################################\n",
    "        # Concat\n",
    "        ############################################################\n",
    "        bestPC = torch.cat((bestu,bestv,bestw,bestth,bestrh,besthdia,bestlw,bestsw),1)\n",
    "        ############################################################\n",
    "        # Prediction layer\n",
    "        ############################################################\n",
    "        outpred = self.denseout(bestPC)\n",
    "        return outpred"
   ]
  },
  {
   "cell_type": "code",
   "execution_count": 11,
   "id": "7dd2d534-4efc-441f-ba5e-deff664a85f8",
   "metadata": {
    "collapsed": true,
    "jupyter": {
     "outputs_hidden": true,
     "source_hidden": true
    },
    "tags": []
   },
   "outputs": [
    {
     "ename": "NameError",
     "evalue": "name 'mymodel' is not defined",
     "output_type": "error",
     "traceback": [
      "\u001b[0;31m---------------------------------------------------------------------------\u001b[0m",
      "\u001b[0;31mNameError\u001b[0m                                 Traceback (most recent call last)",
      "Input \u001b[0;32mIn [11]\u001b[0m, in \u001b[0;36m<cell line: 2>\u001b[0;34m()\u001b[0m\n\u001b[1;32m      1\u001b[0m \u001b[38;5;28;01mfrom\u001b[39;00m \u001b[38;5;21;01mtorchviz\u001b[39;00m \u001b[38;5;28;01mimport\u001b[39;00m make_dot\n\u001b[0;32m----> 2\u001b[0m make_dot(\u001b[43mmymodel\u001b[49m(torch\u001b[38;5;241m.\u001b[39mrand((\u001b[38;5;241m819\u001b[39m,\u001b[38;5;241m60\u001b[39m))),params\u001b[38;5;241m=\u001b[39m\u001b[38;5;28mdict\u001b[39m(mymodel\u001b[38;5;241m.\u001b[39mnamed_parameters()))\n",
      "\u001b[0;31mNameError\u001b[0m: name 'mymodel' is not defined"
     ]
    }
   ],
   "source": [
    "from torchviz import make_dot\n",
    "make_dot(mymodel(torch.rand((819,60))),params=dict(mymodel.named_parameters()))"
   ]
  },
  {
   "cell_type": "markdown",
   "id": "b191b991-4ad3-4781-8f6f-6deb51504319",
   "metadata": {},
   "source": [
    "##### Custom Losses"
   ]
  },
  {
   "cell_type": "code",
   "execution_count": 6,
   "id": "e2fe3581-7ba9-4fa8-810b-4cc3d748fef4",
   "metadata": {},
   "outputs": [],
   "source": [
    "class R2Loss(torch.nn.Module):\n",
    "    \n",
    "    def forward(self, y_pred, y):\n",
    "        var_y = torch.var(y, unbiased=False)\n",
    "        return -(1.0 - torch.nn.functional.mse_loss(y_pred, y, reduction=\"mean\") / var_y)\n",
    "    \n",
    "class MSE_physicalLoss(torch.nn.Module):\n",
    "    def __init__(self, pcs=None, wantcomps=None, variances=None):\n",
    "        super(MSE_physicalLoss, self).__init__()\n",
    "        self.pcs = pcs\n",
    "        self.wantcomps = wantcomps\n",
    "        self.variances = variances\n",
    "        \n",
    "    def forward(self, y_pred, y):\n",
    "        def myscore(y_pred, y, var_y):\n",
    "            return torch.mean(torch.square(y - y_pred).sum()).div(var_y)\n",
    "            #var_y = torch.var(y, unbiased=False)\n",
    "            #return (torch.nn.functional.mse_loss(y_pred, y, reduction=\"mean\") / var_y) #mse/var\n",
    "        \"\"\"\n",
    "        1. Here we slice the feature axis to separate samples into u/v/w/theta components\n",
    "        \"\"\"\n",
    "        y_pred_u, y_u = y_pred[:,0:self.wantcomps[0]], y[:,0:self.wantcomps[0]]\n",
    "        y_pred_v, y_v = y_pred[:,self.wantcomps[0]:self.wantcomps[0]+self.wantcomps[1]], y[:,self.wantcomps[0]:self.wantcomps[0]+self.wantcomps[1]]\n",
    "        y_pred_w, y_w = y_pred[:,self.wantcomps[0]+self.wantcomps[1]:self.wantcomps[0]+self.wantcomps[1]+self.wantcomps[2]], \\\n",
    "        y[:,self.wantcomps[0]+self.wantcomps[1]:self.wantcomps[0]+self.wantcomps[1]+self.wantcomps[2]]\n",
    "        y_pred_th, y_th = y_pred[:,self.wantcomps[0]+self.wantcomps[1]+self.wantcomps[2]:self.wantcomps[0]+self.wantcomps[1]+self.wantcomps[2]+self.wantcomps[3]], \\\n",
    "        y[:,self.wantcomps[0]+self.wantcomps[1]+self.wantcomps[2]:self.wantcomps[0]+self.wantcomps[1]+self.wantcomps[2]+self.wantcomps[3]]\n",
    "        \"\"\"\n",
    "        2. Here we convert PCs into physical space\n",
    "        \"\"\"\n",
    "        uphys_pred, uphys_real = torch.matmul(y_pred_u, self.pcs[0]),torch.matmul(y_u, self.pcs[0])\n",
    "        vphys_pred, vphys_real = torch.matmul(y_pred_v, self.pcs[1]),torch.matmul(y_v, self.pcs[1])\n",
    "        wphys_pred, wphys_real = torch.matmul(y_pred_w, self.pcs[2]),torch.matmul(y_w, self.pcs[2])\n",
    "        thphys_pred, thphys_real = torch.matmul(y_pred_th, self.pcs[3]),torch.matmul(y_th, self.pcs[3])\n",
    "        \n",
    "        u_mse, v_mse, w_mse, th_mse = myscore(uphys_pred,uphys_real,self.variances[0]),myscore(vphys_pred,vphys_real,self.variances[1]),\\\n",
    "        myscore(wphys_pred,wphys_real,self.variances[2]),myscore(thphys_pred,thphys_real,self.variances[3])\n",
    "        \n",
    "        msesum = u_mse+v_mse+w_mse+th_mse\n",
    "        return msesum/4#, u_mse,v_mse,w_mse,th_mse"
   ]
  },
  {
   "cell_type": "markdown",
   "id": "7ccb3246-82a8-4376-b351-a23887121915",
   "metadata": {},
   "source": [
    "#### Model compile settings"
   ]
  },
  {
   "cell_type": "code",
   "execution_count": 46,
   "id": "a2985209-095f-4090-9695-c4c33b0ad73c",
   "metadata": {
    "collapsed": true,
    "jupyter": {
     "outputs_hidden": true,
     "source_hidden": true
    },
    "tags": []
   },
   "outputs": [
    {
     "ename": "NameError",
     "evalue": "name 'channels' is not defined",
     "output_type": "error",
     "traceback": [
      "\u001b[0;31m---------------------------------------------------------------------------\u001b[0m",
      "\u001b[0;31mNameError\u001b[0m                                 Traceback (most recent call last)",
      "Input \u001b[0;32mIn [46]\u001b[0m, in \u001b[0;36m<cell line: 2>\u001b[0;34m()\u001b[0m\n\u001b[1;32m      1\u001b[0m \u001b[38;5;28;01mfrom\u001b[39;00m \u001b[38;5;21;01mtorchsummary\u001b[39;00m \u001b[38;5;28;01mimport\u001b[39;00m summary\n\u001b[0;32m----> 2\u001b[0m summary(model,input_size\u001b[38;5;241m=\u001b[39m(\u001b[43mchannels\u001b[49m, H, W))\n",
      "\u001b[0;31mNameError\u001b[0m: name 'channels' is not defined"
     ]
    }
   ],
   "source": [
    "from torchsummary import summary\n",
    "summary(model,input_size=(channels, H, W))"
   ]
  },
  {
   "cell_type": "markdown",
   "id": "43a9a532-3278-449f-988a-7f4743096827",
   "metadata": {},
   "source": [
    "#### Evaluation Loop"
   ]
  },
  {
   "cell_type": "code",
   "execution_count": 7,
   "id": "6493b246-f4a7-4528-860a-0f24fe05ff8e",
   "metadata": {},
   "outputs": [],
   "source": [
    "def eval_model(model, dataloader, loss_func, metric_func):\n",
    "    with torch.no_grad():\n",
    "        loss = 0\n",
    "        metric = 0\n",
    "        \n",
    "        global_sum = 0\n",
    "        label_size = 0\n",
    "        for feature, labels in dataloader:\n",
    "            global_sum += labels.sum()\n",
    "            label_size += len(labels)\n",
    "            \n",
    "        global_mean = global_sum / label_size\n",
    "        for features, labels in dataloader:\n",
    "            pred = model(features)\n",
    "            batch_loss = loss_func(pred, labels)\n",
    "            batch_metric = metric_func(pred, labels, global_mean)\n",
    "            \n",
    "            loss+=batch_loss.item()\n",
    "            metric+=batch_metric.item()\n",
    "            \n",
    "        num_batches = len(dataloader)\n",
    "        \n",
    "        loss = loss/num_batches\n",
    "        metric = metric/num_batches\n",
    "        return (loss, metric)\n",
    "    \n",
    "# Customzied evaluation metric NSE for validation set and test set # \n",
    "def calc_nse(sim: torch.FloatTensor, obs: torch.FloatTensor, global_obs_mean: torch.FloatTensor) -> float:\n",
    "    \"\"\"Calculate the Nash-Sutcliff-Efficiency coefficient.\n",
    "\n",
    "    :param obs: Array containing the observations\n",
    "    :param sim: Array containing the simulations\n",
    "    :param global_obs_mean: mean of the whole observation series\n",
    "    :return: NSE value.\n",
    "    \"\"\"\n",
    "    numerator = torch.square(sim - obs).sum()\n",
    "    #denominator = torch.square(obs - global_obs_mean).sum()\n",
    "    #nse_val = 1 - numerator / denominator\n",
    "\n",
    "    return numerator\n",
    "\n",
    "class EarlyStopper:\n",
    "    def __init__(self, patience=1, min_delta=0):\n",
    "        self.patience = patience\n",
    "        self.min_delta = min_delta\n",
    "        self.counter = 0\n",
    "        self.min_validation_loss = np.inf\n",
    "\n",
    "    def early_stop(self, validation_loss):\n",
    "        if validation_loss < self.min_validation_loss:\n",
    "            self.min_validation_loss = validation_loss\n",
    "            self.counter = 0\n",
    "        elif validation_loss > (self.min_validation_loss + self.min_delta):\n",
    "            self.counter += 1\n",
    "            if self.counter >= self.patience:\n",
    "                return True\n",
    "        return False"
   ]
  },
  {
   "cell_type": "code",
   "execution_count": 8,
   "id": "d8a273aa-cee9-4f5e-85d4-53d6f5585295",
   "metadata": {},
   "outputs": [],
   "source": [
    "from livelossplot import PlotLosses"
   ]
  },
  {
   "cell_type": "code",
   "execution_count": 9,
   "id": "e5bda2f5-973a-4186-9b53-ceab15c32f7e",
   "metadata": {},
   "outputs": [],
   "source": [
    "def train_model(optimizer=None,scheduler=None,numepochs=None,early_stopper=None,variance_store=None,lossfunc=None,regularization='None',l1_lambda=0.01):\n",
    "    # Custom loss: MSE_physicalLoss(eigenvectors,wcomps,variance_store)\n",
    "    liveloss = PlotLosses()\n",
    "    schedulerCY,schedulerLS = scheduler[1],scheduler[0]\n",
    "    train_losses,trainu_losses,trainv_losses,trainw_losses,trainth_losses = [],[],[],[],[]\n",
    "    val_losses = []\n",
    "    val_NSEs = []\n",
    "    for epoch in tqdm(range(int(num_epochs))):\n",
    "        \"\"\"\n",
    "        Initialize loss\n",
    "        \"\"\"\n",
    "        train_loss = 0\n",
    "        \"\"\"\n",
    "        Operate per batch\n",
    "        \"\"\"\n",
    "        for features, labels in train_loader:\n",
    "            optimizer.zero_grad()\n",
    "            \n",
    "            prediction = model(features)\n",
    "            batch_loss = lossfunc(prediction, labels)#loss_func(prediction, labels)\n",
    "            \n",
    "            if regularization=='L1':\n",
    "                #L1 regularization-------------------------------\n",
    "                l1_norm = sum(abs(p) for p in model.parameters())\n",
    "                #-------------------------------------------------\n",
    "                batch_loss = batch_loss + l1_lambda * l1_norm\n",
    "                batch_loss.backward()\n",
    "            elif regularization=='None':\n",
    "                batch_loss.backward()                \n",
    "            \n",
    "            optimizer.step()\n",
    "            schedulerCY.step()\n",
    "            \n",
    "            train_loss += batch_loss.item()\n",
    "            \n",
    "            \n",
    "        train_loss = train_loss / len(train_loader)\n",
    "        train_losses.append(train_loss)\n",
    "        val_loss, val_NSE = eval_model(model,\n",
    "                                       val_loader,\n",
    "                                       lossfunc,\n",
    "                                       calc_nse)\n",
    "        schedulerLS.step(val_loss)\n",
    "        \n",
    "        ##################################################################\n",
    "        # Early Stopping (valid / train)\n",
    "        ##################################################################\n",
    "        counter = 0\n",
    "        if len(val_losses)>=1:\n",
    "            best_score = val_losses[-1]\n",
    "            if val_loss > best_score:\n",
    "                counter += 1\n",
    "                val_NSEs.append(val_NSE)\n",
    "                val_losses.append(val_loss)\n",
    "                if counter >= 10:\n",
    "                    break\n",
    "            else:\n",
    "                val_NSEs.append(val_NSE)\n",
    "                val_losses.append(val_loss)\n",
    "        else:\n",
    "            val_NSEs.append(val_NSE)\n",
    "            val_losses.append(val_loss)\n",
    "            \n",
    "        #if early_stopper.early_stop(val_loss):             \n",
    "        #    break\n",
    "            ##################################################################\n",
    "        #val_NSEs.append(val_NSE)\n",
    "        #val_losses.append(val_loss)\n",
    "        \n",
    "        if epoch % 500 == 0:\n",
    "            print((np.log10(train_loss),np.log10(val_loss)))\n",
    "            \n",
    "    #return model, {'train':train_losses,'utrain':trainu_losses,'vtrain':trainv_losses,'wtrain':trainw_losses,'thtrain':trainth_losses,'val':val_losses} \n",
    "    return model, {'train':train_losses,'val':val_losses} "
   ]
  },
  {
   "cell_type": "code",
   "execution_count": 11,
   "id": "18580141-927c-47f1-91d2-f61ff896ee87",
   "metadata": {
    "tags": []
   },
   "outputs": [
    {
     "data": {
      "application/vnd.jupyter.widget-view+json": {
       "model_id": "66a08412077a41fbb0161487edc775be",
       "version_major": 2,
       "version_minor": 0
      },
      "text/plain": [
       "  0%|          | 0/6000 [00:00<?, ?it/s]"
      ]
     },
     "metadata": {},
     "output_type": "display_data"
    },
    {
     "name": "stdout",
     "output_type": "stream",
     "text": [
      "(-0.8405830963407075, -0.7934524701332025)\n",
      "(-2.6227509599096632, -2.4509542832820013)\n",
      "(-5.259800032225576, -4.649992077552861)\n",
      "(-7.563308458773848, -7.4065994954085586)\n",
      "(-7.558382618246306, -7.416723002900195)\n",
      "(-7.568956493675728, -7.4132512601102)\n",
      "(-7.565849084196328, -7.404714041606896)\n",
      "(-7.56302574221681, -7.402344070171273)\n",
      "(-7.572391078550053, -7.411947211614919)\n",
      "(-7.559941462679913, -7.406851238857013)\n",
      "(-7.56749767537995, -7.392884397668977)\n",
      "(-7.569506972672494, -7.413709430093801)\n"
     ]
    },
    {
     "data": {
      "application/vnd.jupyter.widget-view+json": {
       "model_id": "4ee76d93be554a6a91eb7a3460548183",
       "version_major": 2,
       "version_minor": 0
      },
      "text/plain": [
       "  0%|          | 0/6000 [00:00<?, ?it/s]"
      ]
     },
     "metadata": {},
     "output_type": "display_data"
    },
    {
     "name": "stdout",
     "output_type": "stream",
     "text": [
      "(-0.7761219062797498, -0.7368953909572005)\n",
      "(-2.4154872001593777, -2.2953861541060787)\n",
      "(-4.700102897334425, -4.100397563010885)\n",
      "(-6.619066888610374, -6.187300302716262)\n",
      "(-6.942287184921047, -6.667760276425587)\n",
      "(-7.062794812795587, -6.808597212090498)\n",
      "(-7.122344931754117, -6.860620566414583)\n",
      "(-7.174628280992436, -6.909048565139513)\n",
      "(-7.247489242176292, -6.946110117392102)\n",
      "(-7.272561640515495, -6.991147542696491)\n",
      "(-7.319063725825059, -7.020763346269821)\n",
      "(-7.353585943896573, -7.056268221427919)\n"
     ]
    },
    {
     "data": {
      "application/vnd.jupyter.widget-view+json": {
       "model_id": "9a9b9c96437c44f68e6d888b7195eeb0",
       "version_major": 2,
       "version_minor": 0
      },
      "text/plain": [
       "  0%|          | 0/6000 [00:00<?, ?it/s]"
      ]
     },
     "metadata": {},
     "output_type": "display_data"
    },
    {
     "name": "stdout",
     "output_type": "stream",
     "text": [
      "(-0.8609165079334271, -0.8865183839362871)\n",
      "(-2.54200817001791, -2.456297579219577)\n",
      "(-4.59742702417603, -4.4141894693327)\n",
      "(-7.108345955640607, -6.894445929951212)\n",
      "(-7.4356099804308755, -7.349898397389984)\n",
      "(-7.455776512604046, -7.350871012109537)\n",
      "(-7.463339253962532, -7.348327604097612)\n",
      "(-7.479547401511371, -7.359749062517767)\n",
      "(-7.501883575990047, -7.363843920862458)\n",
      "(-7.496982451245504, -7.358330225034651)\n",
      "(-7.509570159397944, -7.37650896225645)\n",
      "(-7.519870089960541, -7.378569266675925)\n"
     ]
    },
    {
     "data": {
      "application/vnd.jupyter.widget-view+json": {
       "model_id": "f0a03bda55714afb8d57eab139e83986",
       "version_major": 2,
       "version_minor": 0
      },
      "text/plain": [
       "  0%|          | 0/6000 [00:00<?, ?it/s]"
      ]
     },
     "metadata": {},
     "output_type": "display_data"
    },
    {
     "name": "stdout",
     "output_type": "stream",
     "text": [
      "(-0.7662450217700055, -0.7178840722530468)\n",
      "(-2.395238897214823, -2.0622643022362093)\n",
      "(-4.580804824865612, -3.850070953725766)\n",
      "(-6.130783373682095, -5.396848266377679)\n",
      "(-7.0183820592206025, -6.319402079760449)\n",
      "(-7.516451463133404, -7.219453302156143)\n",
      "(-7.595042218577373, -7.40844462065492)\n",
      "(-7.609198663056076, -7.466224899292754)\n",
      "(-7.636034986431955, -7.489892531223415)\n",
      "(-7.627034979924786, -7.484447352306923)\n",
      "(-7.633459255563157, -7.500292872725895)\n",
      "(-7.640348853777833, -7.497507560992241)\n"
     ]
    },
    {
     "data": {
      "application/vnd.jupyter.widget-view+json": {
       "model_id": "c9600e29eb214a088aacefbe2642da92",
       "version_major": 2,
       "version_minor": 0
      },
      "text/plain": [
       "  0%|          | 0/6000 [00:00<?, ?it/s]"
      ]
     },
     "metadata": {},
     "output_type": "display_data"
    },
    {
     "name": "stdout",
     "output_type": "stream",
     "text": [
      "(-0.8945798618785121, -0.974487187921295)\n",
      "(-2.745692235025746, -2.4347702685003894)\n",
      "(-5.108542554529655, -4.555915474299073)\n",
      "(-7.186509023381578, -6.9635126725375835)\n",
      "(-7.511489945138787, -7.362533143192055)\n",
      "(-7.544890316787207, -7.427788903920516)\n",
      "(-7.546348803784828, -7.423140331674249)\n",
      "(-7.541689396028131, -7.447153512723667)\n",
      "(-7.5542341525435655, -7.4493831910644746)\n",
      "(-7.546181312338097, -7.451381688289179)\n",
      "(-7.547841639688683, -7.453732292530439)\n",
      "(-7.5516030201333715, -7.460785345293799)\n"
     ]
    },
    {
     "data": {
      "application/vnd.jupyter.widget-view+json": {
       "model_id": "2d98a33a84684ca89c99b45a3bbf3ffd",
       "version_major": 2,
       "version_minor": 0
      },
      "text/plain": [
       "  0%|          | 0/6000 [00:00<?, ?it/s]"
      ]
     },
     "metadata": {},
     "output_type": "display_data"
    },
    {
     "name": "stdout",
     "output_type": "stream",
     "text": [
      "(-0.8255551867639754, -0.8114175467757887)\n",
      "(-2.7405625592180933, -2.4623777117281316)\n",
      "(-5.02329286047482, -4.629587221705513)\n",
      "(-7.4198556617191525, -7.187436067519385)\n",
      "(-7.547230265680207, -7.422805955356692)\n",
      "(-7.582406175182367, -7.490925170502206)\n",
      "(-7.591942967539722, -7.4990993656236595)\n",
      "(-7.601257374651558, -7.499324273963965)\n",
      "(-7.625043165817785, -7.4980415181991384)\n",
      "(-7.622298124755077, -7.488110790655376)\n",
      "(-7.630425897214898, -7.493059838479512)\n",
      "(-7.637773325275211, -7.509099193632045)\n"
     ]
    },
    {
     "data": {
      "application/vnd.jupyter.widget-view+json": {
       "model_id": "d0afc4e0f08c42a6b482f208f06ca2d0",
       "version_major": 2,
       "version_minor": 0
      },
      "text/plain": [
       "  0%|          | 0/6000 [00:00<?, ?it/s]"
      ]
     },
     "metadata": {},
     "output_type": "display_data"
    },
    {
     "name": "stdout",
     "output_type": "stream",
     "text": [
      "(-0.6930442785338085, -0.6939478172084466)\n",
      "(-2.407823779143636, -2.269462745461026)\n",
      "(-4.662797175516502, -4.400983086138026)\n",
      "(-7.458875736593283, -7.421653728537733)\n",
      "(-7.524169423272116, -7.447890811779829)\n",
      "(-7.497235734607793, -7.434845228016149)\n",
      "(-7.521876083833527, -7.447966451267498)\n",
      "(-7.506703158027286, -7.433515890945205)\n",
      "(-7.525613588478106, -7.447595335113193)\n",
      "(-7.50298434394098, -7.430764911198978)\n",
      "(-7.526061371515413, -7.448153389475408)\n",
      "(-7.50724192809635, -7.430598006686282)\n"
     ]
    },
    {
     "data": {
      "application/vnd.jupyter.widget-view+json": {
       "model_id": "276a9ffed229433989f072d25e634ece",
       "version_major": 2,
       "version_minor": 0
      },
      "text/plain": [
       "  0%|          | 0/6000 [00:00<?, ?it/s]"
      ]
     },
     "metadata": {},
     "output_type": "display_data"
    },
    {
     "name": "stdout",
     "output_type": "stream",
     "text": [
      "(-0.7307920325428288, -0.7568275134705726)\n",
      "(-2.4710095598424893, -2.3337072533854006)\n",
      "(-5.1108162015654015, -4.7255762046940175)\n",
      "(-6.595531124418935, -6.307638419931656)\n",
      "(-7.4838105011930365, -7.4142400379749365)\n",
      "(-7.500802883766326, -7.438600686899686)\n",
      "(-7.53086428594143, -7.464025139505419)\n",
      "(-7.520104152330695, -7.462411997302148)\n",
      "(-7.546163098980775, -7.477069995771742)\n",
      "(-7.529184338036191, -7.466384497454008)\n",
      "(-7.552825044445532, -7.484473980505089)\n",
      "(-7.53548258581157, -7.479095827609217)\n"
     ]
    },
    {
     "data": {
      "application/vnd.jupyter.widget-view+json": {
       "model_id": "794dd4efe6054c9d9412719ff58537da",
       "version_major": 2,
       "version_minor": 0
      },
      "text/plain": [
       "  0%|          | 0/6000 [00:00<?, ?it/s]"
      ]
     },
     "metadata": {},
     "output_type": "display_data"
    },
    {
     "name": "stdout",
     "output_type": "stream",
     "text": [
      "(-0.7979949422299522, -0.8440845632801883)\n",
      "(-2.496633312471608, -2.3865261363359966)\n",
      "(-5.336951568076626, -4.995077412934018)\n",
      "(-7.359944540386083, -7.15511152571986)\n",
      "(-7.511333171620272, -7.355053227645506)\n",
      "(-7.502371423896341, -7.377747640694766)\n",
      "(-7.558231597578071, -7.41315861720543)\n",
      "(-7.581288316373688, -7.438339528515071)\n",
      "(-7.615943601655898, -7.474776091008005)\n",
      "(-7.603495003277652, -7.473043981052761)\n",
      "(-7.615880621713012, -7.492345046883289)\n",
      "(-7.603895630533255, -7.496801380920529)\n"
     ]
    },
    {
     "data": {
      "application/vnd.jupyter.widget-view+json": {
       "model_id": "3267ecdb3eed4028bb091e9daf8accef",
       "version_major": 2,
       "version_minor": 0
      },
      "text/plain": [
       "  0%|          | 0/6000 [00:00<?, ?it/s]"
      ]
     },
     "metadata": {},
     "output_type": "display_data"
    },
    {
     "name": "stdout",
     "output_type": "stream",
     "text": [
      "(-0.8312831757644638, -0.7884770672544592)\n",
      "(-2.639495721263832, -2.1262970474975598)\n",
      "(-5.370884634556798, -4.726010615289352)\n",
      "(-7.4420360519643864, -7.481344261980027)\n",
      "(-7.489034707595328, -7.5154186471135365)\n",
      "(-7.49788731551634, -7.557961003689366)\n",
      "(-7.495627095508341, -7.516723417285987)\n",
      "(-7.512520556916594, -7.549627822265757)\n",
      "(-7.52435744494145, -7.582960075125635)\n",
      "(-7.519576114170696, -7.5489888875134525)\n",
      "(-7.514040069607134, -7.589728062482923)\n",
      "(-7.524662835670166, -7.592684680013901)\n"
     ]
    },
    {
     "data": {
      "application/vnd.jupyter.widget-view+json": {
       "model_id": "6f745c12c2fa4dc29164c3479fb6139a",
       "version_major": 2,
       "version_minor": 0
      },
      "text/plain": [
       "  0%|          | 0/6000 [00:00<?, ?it/s]"
      ]
     },
     "metadata": {},
     "output_type": "display_data"
    },
    {
     "name": "stdout",
     "output_type": "stream",
     "text": [
      "(-0.6780868145792982, -0.7699274909472845)\n",
      "(-2.383512802861752, -2.31819854365726)\n",
      "(-4.622853510728087, -4.1851880135728425)\n",
      "(-6.608007759202531, -6.014788778815438)\n",
      "(-7.2585152339839505, -6.624723679717009)\n",
      "(-7.404157111557225, -7.010639067936503)\n",
      "(-7.481334846832127, -7.321732746655914)\n",
      "(-7.536109316957032, -7.4576524727010325)\n",
      "(-7.570880422507081, -7.587197861995708)\n",
      "(-7.579531146988424, -7.630084317685092)\n",
      "(-7.588718900284721, -7.631488621663246)\n",
      "(-7.606185472522795, -7.633476017905004)\n"
     ]
    },
    {
     "data": {
      "application/vnd.jupyter.widget-view+json": {
       "model_id": "adccef66cec549f482a86f61f91683fa",
       "version_major": 2,
       "version_minor": 0
      },
      "text/plain": [
       "  0%|          | 0/6000 [00:00<?, ?it/s]"
      ]
     },
     "metadata": {},
     "output_type": "display_data"
    },
    {
     "name": "stdout",
     "output_type": "stream",
     "text": [
      "(-0.7541400766351769, -0.8392693208367877)\n",
      "(-2.403356765152241, -2.1871091834385585)\n",
      "(-4.752493870636187, -4.353711476824328)\n",
      "(-6.9873015120193624, -6.219278028524593)\n",
      "(-7.147440411973208, -6.763850874951457)\n",
      "(-7.186765385838867, -6.948963335231367)\n",
      "(-7.222863393064619, -7.073822028875148)\n",
      "(-7.273097739909561, -7.1248309219627215)\n",
      "(-7.322103886458191, -7.200566558282205)\n",
      "(-7.343104668492811, -7.251505822806745)\n",
      "(-7.3633368920736855, -7.330160224949051)\n",
      "(-7.405564051620018, -7.378047205863809)\n"
     ]
    },
    {
     "data": {
      "application/vnd.jupyter.widget-view+json": {
       "model_id": "1e020f5a061a4647a5ce25cfed85731e",
       "version_major": 2,
       "version_minor": 0
      },
      "text/plain": [
       "  0%|          | 0/6000 [00:00<?, ?it/s]"
      ]
     },
     "metadata": {},
     "output_type": "display_data"
    },
    {
     "name": "stdout",
     "output_type": "stream",
     "text": [
      "(-0.8243756017885717, -0.8257945132931841)\n",
      "(-2.865589279762541, -2.757087904696661)\n",
      "(-5.41705576047486, -5.262499589041653)\n",
      "(-6.132952078007254, -6.366556040472239)\n",
      "(-6.815356643125799, -6.864270803175346)\n",
      "(-7.2333492593982145, -7.085396774038866)\n",
      "(-7.299116351064237, -7.267153511164201)\n",
      "(-7.328313895643575, -7.341195674929769)\n",
      "(-7.372161041521123, -7.348299986372265)\n",
      "(-7.390274370393013, -7.3696096580307)\n",
      "(-7.424101486555594, -7.413059216546694)\n",
      "(-7.461407350566468, -7.45593890701297)\n"
     ]
    },
    {
     "data": {
      "application/vnd.jupyter.widget-view+json": {
       "model_id": "d439d85ed6a844cb855b10c0057df2bf",
       "version_major": 2,
       "version_minor": 0
      },
      "text/plain": [
       "  0%|          | 0/6000 [00:00<?, ?it/s]"
      ]
     },
     "metadata": {},
     "output_type": "display_data"
    },
    {
     "name": "stdout",
     "output_type": "stream",
     "text": [
      "(-0.8115515227370915, -0.8772220224601932)\n",
      "(-2.739667702734931, -2.695965849808634)\n",
      "(-5.313676920780747, -4.7373507371870955)\n",
      "(-7.476174372559305, -7.183746222711818)\n",
      "(-7.610568714947999, -7.374659659713581)\n",
      "(-7.6246943504573395, -7.370599981179773)\n",
      "(-7.621163323333214, -7.3767040884394905)\n",
      "(-7.613866286945374, -7.37147938811278)\n",
      "(-7.627615086817235, -7.37393791063897)\n",
      "(-7.616557603282648, -7.370004636204247)\n",
      "(-7.617556429912473, -7.370944615249384)\n",
      "(-7.625876029119265, -7.372223970795394)\n"
     ]
    },
    {
     "data": {
      "application/vnd.jupyter.widget-view+json": {
       "model_id": "de71ce1c0dd64c2b991c159f3b2d5247",
       "version_major": 2,
       "version_minor": 0
      },
      "text/plain": [
       "  0%|          | 0/6000 [00:00<?, ?it/s]"
      ]
     },
     "metadata": {},
     "output_type": "display_data"
    },
    {
     "name": "stdout",
     "output_type": "stream",
     "text": [
      "(-0.8090961580644654, -0.930075225919838)\n",
      "(-2.6018332726703464, -2.6214300862072637)\n",
      "(-5.194562957046807, -5.170296579578501)\n",
      "(-7.016250931961548, -6.808814264923882)\n",
      "(-7.15265882103567, -7.0662734630385735)\n",
      "(-7.271290188991561, -7.236432287424443)\n",
      "(-7.323123931204089, -7.30671266897395)\n",
      "(-7.3572369463540825, -7.319183602805603)\n",
      "(-7.405713260286093, -7.353494549127307)\n",
      "(-7.408807602820542, -7.3545526142024364)\n",
      "(-7.437475427146398, -7.377446691770032)\n",
      "(-7.463407107272884, -7.3991971326509685)\n"
     ]
    },
    {
     "data": {
      "application/vnd.jupyter.widget-view+json": {
       "model_id": "d3a6478f24874ca79773942c346f6419",
       "version_major": 2,
       "version_minor": 0
      },
      "text/plain": [
       "  0%|          | 0/6000 [00:00<?, ?it/s]"
      ]
     },
     "metadata": {},
     "output_type": "display_data"
    },
    {
     "name": "stdout",
     "output_type": "stream",
     "text": [
      "(-0.7382300850447082, -0.8975030442820563)\n",
      "(-2.599599138177105, -2.3047365237114974)\n",
      "(-4.523818838940215, -3.91833811684735)\n",
      "(-6.557550004395369, -6.182963012911789)\n",
      "(-7.262139722093322, -6.976975630189675)\n",
      "(-7.4651412180923655, -7.279609003556566)\n",
      "(-7.522431731120353, -7.365837230484254)\n",
      "(-7.533723868726977, -7.367083252590907)\n",
      "(-7.554340786762978, -7.400607073670059)\n",
      "(-7.548883641166533, -7.360120292326489)\n",
      "(-7.55675018517773, -7.400686427924271)\n",
      "(-7.56830939137513, -7.405609656055134)\n"
     ]
    },
    {
     "data": {
      "application/vnd.jupyter.widget-view+json": {
       "model_id": "8668d8d98afc4c1aa3e3bfd1ec13a046",
       "version_major": 2,
       "version_minor": 0
      },
      "text/plain": [
       "  0%|          | 0/6000 [00:00<?, ?it/s]"
      ]
     },
     "metadata": {},
     "output_type": "display_data"
    },
    {
     "name": "stdout",
     "output_type": "stream",
     "text": [
      "(-0.691756133605524, -0.5840278168396333)\n",
      "(-2.390672471403996, -2.0725684269406477)\n",
      "(-5.341270310207, -4.735886452099557)\n",
      "(-6.709611330174816, -6.163728371499634)\n",
      "(-7.442624196323154, -7.25718025554196)\n",
      "(-7.516937161253695, -7.364411012536015)\n",
      "(-7.543170149369941, -7.398939899106597)\n",
      "(-7.553222854099758, -7.420072905478759)\n",
      "(-7.573787704112735, -7.423620949861652)\n",
      "(-7.56935172543035, -7.414784890172917)\n",
      "(-7.5747889447281915, -7.426380858053513)\n",
      "(-7.581720932363287, -7.428063962818371)\n"
     ]
    },
    {
     "data": {
      "application/vnd.jupyter.widget-view+json": {
       "model_id": "3c4b1268f93e409da8d3b256e5dbd17a",
       "version_major": 2,
       "version_minor": 0
      },
      "text/plain": [
       "  0%|          | 0/6000 [00:00<?, ?it/s]"
      ]
     },
     "metadata": {},
     "output_type": "display_data"
    },
    {
     "name": "stdout",
     "output_type": "stream",
     "text": [
      "(-0.856691005416369, -0.8018468211216352)\n",
      "(-2.970180852150165, -2.466354106697518)\n",
      "(-5.82221083092779, -5.116217644027523)\n",
      "(-6.96297048421161, -6.346639949669943)\n",
      "(-7.498560480534188, -7.372392096551515)\n",
      "(-7.520664629803187, -7.404700842611204)\n",
      "(-7.522674244460478, -7.38473592996696)\n",
      "(-7.520975763196596, -7.407610002838716)\n",
      "(-7.5342205226682575, -7.391871232340196)\n",
      "(-7.526338358819083, -7.368857932581745)\n",
      "(-7.530692438615999, -7.39502102753258)\n",
      "(-7.538067818345376, -7.396096838958615)\n"
     ]
    },
    {
     "data": {
      "application/vnd.jupyter.widget-view+json": {
       "model_id": "6b58abe1b9674fcc9a3a182e60d751ab",
       "version_major": 2,
       "version_minor": 0
      },
      "text/plain": [
       "  0%|          | 0/6000 [00:00<?, ?it/s]"
      ]
     },
     "metadata": {},
     "output_type": "display_data"
    },
    {
     "name": "stdout",
     "output_type": "stream",
     "text": [
      "(-0.7070867975677713, -0.8034429473889102)\n",
      "(-2.412794915747023, -2.427804876058579)\n",
      "(-5.092867815390665, -4.835384109415567)\n",
      "(-6.599332224010565, -6.396622609607836)\n",
      "(-7.084544455044305, -6.975642335624742)\n",
      "(-7.368525495331516, -7.369354891167173)\n",
      "(-7.5060650918508856, -7.57153073720467)\n",
      "(-7.542013973619538, -7.572464608357131)\n",
      "(-7.560819535520574, -7.567300168274444)\n",
      "(-7.566707348918906, -7.566238310129982)\n",
      "(-7.573779053423367, -7.557056655534538)\n",
      "(-7.575746140110851, -7.561688375069771)\n"
     ]
    },
    {
     "data": {
      "application/vnd.jupyter.widget-view+json": {
       "model_id": "57ca556596ac42c592821f4c0c9373a2",
       "version_major": 2,
       "version_minor": 0
      },
      "text/plain": [
       "  0%|          | 0/6000 [00:00<?, ?it/s]"
      ]
     },
     "metadata": {},
     "output_type": "display_data"
    },
    {
     "name": "stdout",
     "output_type": "stream",
     "text": [
      "(-0.7575423892688304, -0.983998199075381)\n",
      "(-2.5736865996642937, -2.5676205757294595)\n",
      "(-4.677648122691178, -4.4091756694659985)\n",
      "(-6.4443357577066935, -5.974312563102399)\n",
      "(-7.295362678098121, -7.027444312190182)\n",
      "(-7.418081238950106, -7.203054986183344)\n",
      "(-7.459617154846543, -7.265984246316883)\n",
      "(-7.488510549107983, -7.342495934553358)\n",
      "(-7.510134155368434, -7.374299770701579)\n",
      "(-7.518733452726295, -7.413270293713744)\n",
      "(-7.526241442844199, -7.437600687891914)\n",
      "(-7.531083486944562, -7.450176920808388)\n"
     ]
    },
    {
     "data": {
      "application/vnd.jupyter.widget-view+json": {
       "model_id": "1a6d96f7066c42149adb347d361be2f7",
       "version_major": 2,
       "version_minor": 0
      },
      "text/plain": [
       "  0%|          | 0/6000 [00:00<?, ?it/s]"
      ]
     },
     "metadata": {},
     "output_type": "display_data"
    },
    {
     "name": "stdout",
     "output_type": "stream",
     "text": [
      "(-0.8659416098349413, -0.8128435326994367)\n",
      "(-2.7089893488435273, -2.6184018221080243)\n",
      "(-5.720307493943049, -5.278541703687669)\n",
      "(-7.238561565790051, -7.190457456163306)\n",
      "(-7.36985986596294, -7.440439258524351)\n",
      "(-7.433465292647758, -7.539644552050689)\n",
      "(-7.467866791523, -7.5331206095752465)\n",
      "(-7.489724162444211, -7.537222769799509)\n",
      "(-7.515153275146587, -7.545281046555968)\n",
      "(-7.526508676429665, -7.54051945910139)\n",
      "(-7.537690121427546, -7.546117537548073)\n",
      "(-7.546367579315989, -7.547020520348018)\n"
     ]
    },
    {
     "data": {
      "application/vnd.jupyter.widget-view+json": {
       "model_id": "3ba9f372bfa246348cf9a3ab11c8b144",
       "version_major": 2,
       "version_minor": 0
      },
      "text/plain": [
       "  0%|          | 0/6000 [00:00<?, ?it/s]"
      ]
     },
     "metadata": {},
     "output_type": "display_data"
    },
    {
     "name": "stdout",
     "output_type": "stream",
     "text": [
      "(-0.8627427720961129, -0.8755936168726143)\n",
      "(-3.157509474053961, -2.967443084755513)\n",
      "(-5.345677527055588, -4.939290859297085)\n",
      "(-6.505228053356824, -5.9250574199969055)\n",
      "(-7.411410894328675, -7.353797302517221)\n",
      "(-7.475722781174671, -7.458266158528552)\n",
      "(-7.511066925345083, -7.554845939035839)\n",
      "(-7.508700742401498, -7.5755106003906985)\n",
      "(-7.541139773783105, -7.6389692980837625)\n",
      "(-7.538161238203994, -7.626593667014882)\n",
      "(-7.571535370321173, -7.658365213760798)\n",
      "(-7.5602495295121415, -7.653820683468193)\n"
     ]
    },
    {
     "data": {
      "application/vnd.jupyter.widget-view+json": {
       "model_id": "0b3febc8b7b941659a3bdd549402482f",
       "version_major": 2,
       "version_minor": 0
      },
      "text/plain": [
       "  0%|          | 0/6000 [00:00<?, ?it/s]"
      ]
     },
     "metadata": {},
     "output_type": "display_data"
    },
    {
     "name": "stdout",
     "output_type": "stream",
     "text": [
      "(-0.7372280694891689, -0.8114457572100839)\n",
      "(-2.6921234861596957, -2.527643654876577)\n",
      "(-4.7326615651187, -4.510837806763838)\n",
      "(-7.195087675732891, -7.100269179324609)\n",
      "(-7.591628965148524, -7.579271145120206)\n",
      "(-7.591437530064357, -7.582550461030002)\n",
      "(-7.614634288365373, -7.607931966019466)\n",
      "(-7.605464139137971, -7.581426562873903)\n",
      "(-7.630800006901736, -7.610459884178466)\n",
      "(-7.62387590128972, -7.6094025679505135)\n",
      "(-7.64509218027212, -7.617640889585457)\n",
      "(-7.627329926956904, -7.604067942738077)\n"
     ]
    },
    {
     "data": {
      "application/vnd.jupyter.widget-view+json": {
       "model_id": "5ee7329fb8eb4f49841df59cb8ba7b9e",
       "version_major": 2,
       "version_minor": 0
      },
      "text/plain": [
       "  0%|          | 0/6000 [00:00<?, ?it/s]"
      ]
     },
     "metadata": {},
     "output_type": "display_data"
    },
    {
     "name": "stdout",
     "output_type": "stream",
     "text": [
      "(-0.7319946541432698, -0.6890717946307313)\n",
      "(-2.5815518780241034, -2.307009185905362)\n",
      "(-4.698187562181869, -4.359382691641727)\n",
      "(-6.016965097133594, -5.723747437937175)\n",
      "(-6.751923218394129, -6.325216847480596)\n",
      "(-7.282713068731984, -6.954448307840989)\n",
      "(-7.509749114358223, -7.503391001164934)\n",
      "(-7.51590015248688, -7.553161235021282)\n",
      "(-7.549126190551339, -7.593998798537882)\n",
      "(-7.5426393856881075, -7.623682470490675)\n",
      "(-7.571564163547671, -7.6264488248263245)\n",
      "(-7.56154100601999, -7.6133769121381105)\n"
     ]
    },
    {
     "data": {
      "application/vnd.jupyter.widget-view+json": {
       "model_id": "7e433b0ebd0f4957abe5dd6e8b0f014c",
       "version_major": 2,
       "version_minor": 0
      },
      "text/plain": [
       "  0%|          | 0/6000 [00:00<?, ?it/s]"
      ]
     },
     "metadata": {},
     "output_type": "display_data"
    },
    {
     "name": "stdout",
     "output_type": "stream",
     "text": [
      "(-0.7987386943014885, -0.8327798589196089)\n",
      "(-2.9026161425168655, -2.8006767148907645)\n",
      "(-5.703717353131117, -5.226640763728629)\n",
      "(-7.578022711600628, -7.613434213018024)\n",
      "(-7.591231933576167, -7.561868953243352)\n",
      "(-7.603865233992561, -7.583739733894606)\n",
      "(-7.5993275991777836, -7.578179038439115)\n",
      "(-7.597326848737111, -7.5823835800091395)\n",
      "(-7.608793063986082, -7.582939342039989)\n",
      "(-7.596691738453629, -7.5680935727191345)\n",
      "(-7.6032442144964385, -7.576461498976066)\n",
      "(-7.606053756335972, -7.579132606063136)\n"
     ]
    },
    {
     "data": {
      "application/vnd.jupyter.widget-view+json": {
       "model_id": "2b0b224412d34d8092f5566d5ee1d117",
       "version_major": 2,
       "version_minor": 0
      },
      "text/plain": [
       "  0%|          | 0/6000 [00:00<?, ?it/s]"
      ]
     },
     "metadata": {},
     "output_type": "display_data"
    },
    {
     "name": "stdout",
     "output_type": "stream",
     "text": [
      "(-0.77211849097446, -0.8478158292880573)\n",
      "(-2.778720033469398, -2.6336078278284316)\n",
      "(-5.617168513705746, -5.323886153319445)\n",
      "(-7.421281028213431, -7.589649919742295)\n",
      "(-7.440739703881484, -7.585573827576189)\n",
      "(-7.474783998962132, -7.600659093239009)\n",
      "(-7.4822444302669, -7.600390598780489)\n",
      "(-7.488308112945467, -7.603059111072167)\n",
      "(-7.507370653392878, -7.613380679346535)\n",
      "(-7.501258141404895, -7.606311834791935)\n",
      "(-7.5135969302504515, -7.611960707530496)\n",
      "(-7.5205582794594505, -7.6073113724812345)\n"
     ]
    },
    {
     "data": {
      "application/vnd.jupyter.widget-view+json": {
       "model_id": "e7ae6e6a4819414dab0ac88f19ce71b9",
       "version_major": 2,
       "version_minor": 0
      },
      "text/plain": [
       "  0%|          | 0/6000 [00:00<?, ?it/s]"
      ]
     },
     "metadata": {},
     "output_type": "display_data"
    },
    {
     "name": "stdout",
     "output_type": "stream",
     "text": [
      "(-0.9141825070033427, -0.898945933943299)\n",
      "(-3.3455098620092687, -3.2241333403127386)\n",
      "(-5.340425355857156, -4.907292625479045)\n",
      "(-6.25373693736003, -5.7790323582842715)\n",
      "(-7.463648158663388, -7.550342106402877)\n",
      "(-7.5051113059470635, -7.567793891028776)\n",
      "(-7.511857275576541, -7.56911409154712)\n",
      "(-7.515357623636819, -7.554120639879651)\n",
      "(-7.530828334251365, -7.580380876908472)\n",
      "(-7.523113628948815, -7.5879424456892455)\n",
      "(-7.530250906430632, -7.590488750959588)\n",
      "(-7.535486479551308, -7.595744936375271)\n"
     ]
    },
    {
     "data": {
      "application/vnd.jupyter.widget-view+json": {
       "model_id": "fca1d1060a4349ef97f898525b0a4274",
       "version_major": 2,
       "version_minor": 0
      },
      "text/plain": [
       "  0%|          | 0/6000 [00:00<?, ?it/s]"
      ]
     },
     "metadata": {},
     "output_type": "display_data"
    },
    {
     "name": "stdout",
     "output_type": "stream",
     "text": [
      "(-0.7857147415790842, -0.7542631974705604)\n",
      "(-2.8498579915980797, -2.5187021183921616)\n",
      "(-5.4210438351143955, -5.3923869947496605)\n",
      "(-7.126268223345579, -6.908952031822555)\n",
      "(-7.339439171804705, -7.109196763252143)\n",
      "(-7.356745134420337, -7.170057356549679)\n",
      "(-7.418259428877482, -7.230572817266265)\n",
      "(-7.4258134376578395, -7.273582937745893)\n",
      "(-7.477367960030196, -7.295635792643727)\n",
      "(-7.482764879026274, -7.312904853945798)\n",
      "(-7.515499459208043, -7.336847905658233)\n",
      "(-7.509199580186695, -7.312132167058676)\n"
     ]
    },
    {
     "data": {
      "application/vnd.jupyter.widget-view+json": {
       "model_id": "c0abb4d7eac04ec1bf6d3bfb31fdd96c",
       "version_major": 2,
       "version_minor": 0
      },
      "text/plain": [
       "  0%|          | 0/6000 [00:00<?, ?it/s]"
      ]
     },
     "metadata": {},
     "output_type": "display_data"
    },
    {
     "name": "stdout",
     "output_type": "stream",
     "text": [
      "(-0.7978552388963123, -0.85101661913895)\n",
      "(-2.6938983777891004, -2.547855820792107)\n",
      "(-4.828184764460185, -4.536970523430596)\n",
      "(-5.9106484447017955, -5.401302965443372)\n",
      "(-6.599389243348374, -5.996759145997153)\n",
      "(-6.968513383225292, -6.440062594279788)\n",
      "(-7.243726904827297, -6.780418043521332)\n",
      "(-7.386918997841741, -7.0327689619359885)\n",
      "(-7.5014827179641435, -7.182992257296569)\n",
      "(-7.53605910413309, -7.248451096355261)\n",
      "(-7.595392086328875, -7.312162903626652)\n",
      "(-7.6063903568285225, -7.338364708989155)\n"
     ]
    },
    {
     "data": {
      "application/vnd.jupyter.widget-view+json": {
       "model_id": "c8d0409c27934a8daeec76ed6aaf31ad",
       "version_major": 2,
       "version_minor": 0
      },
      "text/plain": [
       "  0%|          | 0/6000 [00:00<?, ?it/s]"
      ]
     },
     "metadata": {},
     "output_type": "display_data"
    },
    {
     "name": "stdout",
     "output_type": "stream",
     "text": [
      "(-0.8889808031393894, -0.9199319007195993)\n",
      "(-3.023146188001578, -2.836337097536933)\n",
      "(-5.971129102774262, -5.427121028501599)\n",
      "(-7.228619860139864, -6.9042394572316805)\n",
      "(-7.357663070634508, -7.028944887014827)\n",
      "(-7.358181193738729, -7.042131113673536)\n",
      "(-7.400062442600662, -7.087923419048568)\n",
      "(-7.395682225120273, -7.1064439616029995)\n",
      "(-7.435574910416257, -7.147554267707973)\n",
      "(-7.428096792991127, -7.156606066652734)\n",
      "(-7.46910994403031, -7.204384824066301)\n",
      "(-7.466564590362287, -7.241005187742978)\n"
     ]
    },
    {
     "data": {
      "application/vnd.jupyter.widget-view+json": {
       "model_id": "50361f3ccfef4df682135e53d5f94e58",
       "version_major": 2,
       "version_minor": 0
      },
      "text/plain": [
       "  0%|          | 0/6000 [00:00<?, ?it/s]"
      ]
     },
     "metadata": {},
     "output_type": "display_data"
    },
    {
     "name": "stdout",
     "output_type": "stream",
     "text": [
      "(-0.803143707380911, -0.8325168509698313)\n",
      "(-2.6059037348258878, -2.4979478968711293)\n",
      "(-5.295755191543419, -4.942469958064684)\n",
      "(-7.427410594086888, -7.361002355376572)\n",
      "(-7.469726564553734, -7.399907156694748)\n",
      "(-7.492978953757237, -7.43307744965369)\n",
      "(-7.49396095522982, -7.442855686064765)\n",
      "(-7.513736137750389, -7.453445693748194)\n",
      "(-7.526006444479535, -7.468042811182991)\n",
      "(-7.52169792204884, -7.463417651684011)\n",
      "(-7.515459908526761, -7.458191883827912)\n",
      "(-7.529817512505876, -7.478961944147268)\n"
     ]
    },
    {
     "data": {
      "application/vnd.jupyter.widget-view+json": {
       "model_id": "407eec6fda4e4fdd936444622e23a208",
       "version_major": 2,
       "version_minor": 0
      },
      "text/plain": [
       "  0%|          | 0/6000 [00:00<?, ?it/s]"
      ]
     },
     "metadata": {},
     "output_type": "display_data"
    },
    {
     "name": "stdout",
     "output_type": "stream",
     "text": [
      "(-0.750992864846471, -0.8044210101296962)\n",
      "(-2.5485563358931547, -2.2325342970137685)\n",
      "(-4.862402825773825, -4.571391389734174)\n",
      "(-7.3293584470844015, -7.150851667886956)\n",
      "(-7.490893262346777, -7.447256332755749)\n",
      "(-7.488090386042503, -7.440331553011477)\n",
      "(-7.487371485561671, -7.445437737595427)\n",
      "(-7.503766825266882, -7.434770692970525)\n",
      "(-7.516039287915971, -7.458232163745532)\n",
      "(-7.511838929071496, -7.472591444477295)\n",
      "(-7.506946797162837, -7.4595407726190315)\n",
      "(-7.52080651801935, -7.475542817347572)\n"
     ]
    },
    {
     "data": {
      "application/vnd.jupyter.widget-view+json": {
       "model_id": "ecd73bcb8dbe4f89b233318b38d23dd4",
       "version_major": 2,
       "version_minor": 0
      },
      "text/plain": [
       "  0%|          | 0/6000 [00:00<?, ?it/s]"
      ]
     },
     "metadata": {},
     "output_type": "display_data"
    },
    {
     "name": "stdout",
     "output_type": "stream",
     "text": [
      "(-0.805992889797676, -0.7739138759769926)\n",
      "(-2.582877253444819, -2.214746776026693)\n",
      "(-4.684257859133067, -4.431186199391032)\n",
      "(-7.500024467721176, -7.3978451485643415)\n",
      "(-7.539227232632169, -7.484400229482761)\n",
      "(-7.534683522028395, -7.483519623041104)\n",
      "(-7.533218540579075, -7.493275713970649)\n",
      "(-7.547524113869362, -7.512621978824052)\n",
      "(-7.559593469471549, -7.523775370201163)\n",
      "(-7.556306452491286, -7.530992837179953)\n",
      "(-7.551324916416336, -7.49392434748182)\n",
      "(-7.5662391043829125, -7.521483644587975)\n"
     ]
    },
    {
     "data": {
      "application/vnd.jupyter.widget-view+json": {
       "model_id": "5a40729ec9bb4949a12c54887c9d0c10",
       "version_major": 2,
       "version_minor": 0
      },
      "text/plain": [
       "  0%|          | 0/6000 [00:00<?, ?it/s]"
      ]
     },
     "metadata": {},
     "output_type": "display_data"
    },
    {
     "name": "stdout",
     "output_type": "stream",
     "text": [
      "(-0.7160874149371644, -0.8701398483530258)\n",
      "(-2.529356847085534, -2.3545064680482946)\n",
      "(-4.846251653201699, -4.304022543515214)\n",
      "(-6.509403784160809, -5.979180738506786)\n",
      "(-7.023848025106878, -6.7020614369359315)\n",
      "(-7.194924317305188, -6.881465013259169)\n",
      "(-7.274177774784314, -6.994089702720704)\n",
      "(-7.33262283171167, -7.118683915910006)\n",
      "(-7.398909668960994, -7.19328254149622)\n",
      "(-7.4021291460913785, -7.242885745153395)\n",
      "(-7.441850495716657, -7.307940952013458)\n",
      "(-7.470199153957983, -7.345083417801312)\n"
     ]
    },
    {
     "data": {
      "application/vnd.jupyter.widget-view+json": {
       "model_id": "5c46aeb503ef4582a8267c83506555fd",
       "version_major": 2,
       "version_minor": 0
      },
      "text/plain": [
       "  0%|          | 0/6000 [00:00<?, ?it/s]"
      ]
     },
     "metadata": {},
     "output_type": "display_data"
    },
    {
     "name": "stdout",
     "output_type": "stream",
     "text": [
      "(-0.7604318758953917, -0.7655398222525501)\n",
      "(-2.4557050977326917, -2.327383579979213)\n",
      "(-5.2423501128617085, -4.703395368494321)\n",
      "(-6.231499294149843, -5.657925216443964)\n",
      "(-7.162356560382916, -6.930549941087686)\n",
      "(-7.520922119179523, -7.427466991180037)\n",
      "(-7.5353396905128, -7.454432452885413)\n",
      "(-7.542485658163672, -7.476750562814646)\n",
      "(-7.5622857126086425, -7.480291122061793)\n",
      "(-7.552315627423292, -7.4966907562362275)\n",
      "(-7.563740003900136, -7.497923685547295)\n",
      "(-7.568616347843705, -7.491085864978771)\n"
     ]
    },
    {
     "data": {
      "application/vnd.jupyter.widget-view+json": {
       "model_id": "2c0f8e70da2641079c16eec0e8ae7548",
       "version_major": 2,
       "version_minor": 0
      },
      "text/plain": [
       "  0%|          | 0/6000 [00:00<?, ?it/s]"
      ]
     },
     "metadata": {},
     "output_type": "display_data"
    },
    {
     "name": "stdout",
     "output_type": "stream",
     "text": [
      "(-0.7759410743871531, -0.8778638687155618)\n",
      "(-2.6372433702202462, -2.604913817591841)\n",
      "(-5.12564374177851, -4.741951977300004)\n",
      "(-7.112717821362456, -6.726309366665488)\n",
      "(-7.244409977744101, -7.000459145009079)\n",
      "(-7.3095569353701695, -7.039860998421253)\n",
      "(-7.33880812254276, -7.082864667441548)\n",
      "(-7.368891137774327, -7.123255588820677)\n",
      "(-7.413981911070684, -7.182714425551383)\n",
      "(-7.420043501494687, -7.239356277424888)\n",
      "(-7.451706178698805, -7.252338755595111)\n",
      "(-7.476947516331835, -7.298717075267172)\n"
     ]
    },
    {
     "data": {
      "application/vnd.jupyter.widget-view+json": {
       "model_id": "46fa4513c35b43d99cb8d38c2b8585d1",
       "version_major": 2,
       "version_minor": 0
      },
      "text/plain": [
       "  0%|          | 0/6000 [00:00<?, ?it/s]"
      ]
     },
     "metadata": {},
     "output_type": "display_data"
    },
    {
     "name": "stdout",
     "output_type": "stream",
     "text": [
      "(-0.8979830120272203, -0.9320018945046803)\n",
      "(-2.730108115703967, -2.5436678395844265)\n",
      "(-4.943598344392393, -4.41421351240711)\n",
      "(-6.342452052640653, -5.4028203765532625)\n",
      "(-7.245791732778194, -6.6819188402768415)\n",
      "(-7.552477419423791, -7.350057392902894)\n",
      "(-7.57314226589125, -7.438119166623332)\n",
      "(-7.59077791309307, -7.44795900966306)\n",
      "(-7.625558186625344, -7.425768645773679)\n",
      "(-7.623463466934379, -7.420838940950167)\n",
      "(-7.6324466021070245, -7.424907192000093)\n",
      "(-7.6342543846867965, -7.425565579363052)\n"
     ]
    },
    {
     "data": {
      "application/vnd.jupyter.widget-view+json": {
       "model_id": "a14dd79bbae746d0b6824ba89e44fa3e",
       "version_major": 2,
       "version_minor": 0
      },
      "text/plain": [
       "  0%|          | 0/6000 [00:00<?, ?it/s]"
      ]
     },
     "metadata": {},
     "output_type": "display_data"
    },
    {
     "name": "stdout",
     "output_type": "stream",
     "text": [
      "(-0.756062812771084, -0.7036700477725881)\n",
      "(-2.419087740178539, -2.2303498716743433)\n",
      "(-5.130161173257156, -4.856801501223436)\n",
      "(-7.356306323599783, -7.17252892621668)\n",
      "(-7.512138834055421, -7.436254528678037)\n",
      "(-7.534092647983858, -7.466244804108663)\n",
      "(-7.5332530433278695, -7.462461533012657)\n",
      "(-7.531452056944, -7.470819325353163)\n",
      "(-7.544216798525091, -7.471550163539203)\n",
      "(-7.535078299222378, -7.466745759776526)\n",
      "(-7.54046195165254, -7.475149929034331)\n",
      "(-7.546713106217112, -7.467430363972152)\n"
     ]
    },
    {
     "data": {
      "application/vnd.jupyter.widget-view+json": {
       "model_id": "bd35b6b352244419923a6ab46df3a9a9",
       "version_major": 2,
       "version_minor": 0
      },
      "text/plain": [
       "  0%|          | 0/6000 [00:00<?, ?it/s]"
      ]
     },
     "metadata": {},
     "output_type": "display_data"
    },
    {
     "name": "stdout",
     "output_type": "stream",
     "text": [
      "(-0.7214613611114306, -0.7344675941346943)\n",
      "(-2.6339900118739865, -2.406254259435364)\n",
      "(-5.206112430160918, -4.969728791288846)\n",
      "(-7.495998302828986, -7.421102243010277)\n",
      "(-7.517472912658066, -7.440937409722569)\n",
      "(-7.552118010109967, -7.472417166131396)\n",
      "(-7.5539558292121045, -7.487046372435439)\n",
      "(-7.559507977146886, -7.464665663030903)\n",
      "(-7.575397372873306, -7.4971591965285045)\n",
      "(-7.5648666056123695, -7.49287011780689)\n",
      "(-7.572975720215443, -7.495522811607199)\n",
      "(-7.577980245771556, -7.493209676297569)\n"
     ]
    },
    {
     "data": {
      "application/vnd.jupyter.widget-view+json": {
       "model_id": "1f61134ab84c44f3a9834a1f467a8c35",
       "version_major": 2,
       "version_minor": 0
      },
      "text/plain": [
       "  0%|          | 0/6000 [00:00<?, ?it/s]"
      ]
     },
     "metadata": {},
     "output_type": "display_data"
    },
    {
     "name": "stdout",
     "output_type": "stream",
     "text": [
      "(-0.7276120204445071, -0.7338599656308834)\n",
      "(-2.3372279754054603, -2.2089751694606297)\n",
      "(-4.364836031078796, -3.961793400855267)\n",
      "(-7.351423662577632, -7.266210720895135)\n",
      "(-7.410810080220871, -7.3646523796816625)\n",
      "(-7.4033026169242655, -7.367029003087484)\n",
      "(-7.427684885422315, -7.37315083156127)\n",
      "(-7.421791723624682, -7.3560968409778695)\n",
      "(-7.445363115576983, -7.382187422294971)\n",
      "(-7.439767896263791, -7.388454263339597)\n",
      "(-7.460478620381873, -7.394509418359736)\n",
      "(-7.451199277216711, -7.360192106189972)\n"
     ]
    },
    {
     "data": {
      "application/vnd.jupyter.widget-view+json": {
       "model_id": "8828e8a17f314ee6bc8f0f31babdbf16",
       "version_major": 2,
       "version_minor": 0
      },
      "text/plain": [
       "  0%|          | 0/6000 [00:00<?, ?it/s]"
      ]
     },
     "metadata": {},
     "output_type": "display_data"
    },
    {
     "name": "stdout",
     "output_type": "stream",
     "text": [
      "(-0.7403111630842956, -0.8618566296071535)\n",
      "(-2.512490838024872, -2.469311678898579)\n",
      "(-4.600942612765409, -4.360003567488711)\n",
      "(-5.735421139059993, -5.212045673266432)\n",
      "(-6.647179399485488, -6.025850839097037)\n",
      "(-7.484577539175159, -7.394255204259946)\n",
      "(-7.519235364261765, -7.415653929920355)\n",
      "(-7.506760429745829, -7.390490813270467)\n",
      "(-7.523024905298472, -7.4087879890199995)\n",
      "(-7.511503241004267, -7.37899822964)\n",
      "(-7.530977987009345, -7.391381489765978)\n",
      "(-7.517545703616867, -7.395584192398621)\n"
     ]
    },
    {
     "data": {
      "application/vnd.jupyter.widget-view+json": {
       "model_id": "9b4a41b0ba2e45d68ca3c6fe71a8a0d5",
       "version_major": 2,
       "version_minor": 0
      },
      "text/plain": [
       "  0%|          | 0/6000 [00:00<?, ?it/s]"
      ]
     },
     "metadata": {},
     "output_type": "display_data"
    },
    {
     "name": "stdout",
     "output_type": "stream",
     "text": [
      "(-0.8118728241662532, -0.8631914444865713)\n",
      "(-2.534827521745491, -2.3150819747183524)\n",
      "(-4.9025558245100385, -4.28338985507216)\n",
      "(-7.435248302345617, -7.158327375193846)\n",
      "(-7.574376079757776, -7.42245006064873)\n",
      "(-7.563013548337524, -7.418821438892263)\n",
      "(-7.582509469250891, -7.420790572425688)\n",
      "(-7.569797083083638, -7.4111558259523465)\n",
      "(-7.588184289862647, -7.421989729798691)\n",
      "(-7.572024804002866, -7.43991324260202)\n",
      "(-7.5933506164210325, -7.423450306258723)\n",
      "(-7.579286695290444, -7.412455813798063)\n"
     ]
    },
    {
     "data": {
      "application/vnd.jupyter.widget-view+json": {
       "model_id": "c983c0457c6c4646801ce6855e9a5c4c",
       "version_major": 2,
       "version_minor": 0
      },
      "text/plain": [
       "  0%|          | 0/6000 [00:00<?, ?it/s]"
      ]
     },
     "metadata": {},
     "output_type": "display_data"
    },
    {
     "name": "stdout",
     "output_type": "stream",
     "text": [
      "(-0.8518616535365736, -0.9834493561389362)\n",
      "(-2.7377426644650553, -2.586671502313825)\n",
      "(-4.691905349644702, -4.087691287291573)\n",
      "(-5.848527061755559, -5.311093021062935)\n",
      "(-6.594610959595314, -6.176953581351071)\n",
      "(-7.046429068382211, -6.801124956372072)\n",
      "(-7.3489408880953535, -7.118571898090503)\n",
      "(-7.458487106435301, -7.234431498283921)\n",
      "(-7.530241563107245, -7.3019686803223385)\n",
      "(-7.530146663790981, -7.2955570091806745)\n",
      "(-7.566252490078673, -7.3500654720484855)\n",
      "(-7.554999379557169, -7.3306578390928)\n"
     ]
    },
    {
     "data": {
      "application/vnd.jupyter.widget-view+json": {
       "model_id": "b3ed6a35bfad4d39b278ff9b677b7119",
       "version_major": 2,
       "version_minor": 0
      },
      "text/plain": [
       "  0%|          | 0/6000 [00:00<?, ?it/s]"
      ]
     },
     "metadata": {},
     "output_type": "display_data"
    },
    {
     "name": "stdout",
     "output_type": "stream",
     "text": [
      "(-0.7866767917751274, -0.8124636031393677)\n",
      "(-2.5635885708369544, -2.537752198825344)\n",
      "(-5.246645247378263, -5.052112375418263)\n",
      "(-7.41046601498893, -7.439459280710645)\n",
      "(-7.43029762928387, -7.450675015534167)\n",
      "(-7.424314361736966, -7.4502022146817195)\n",
      "(-7.448178615539921, -7.461508173077837)\n",
      "(-7.439267124321928, -7.447147228402425)\n",
      "(-7.466261094266772, -7.477895300340492)\n",
      "(-7.457015950968939, -7.4577274634530895)\n",
      "(-7.480023529271603, -7.490098469287907)\n",
      "(-7.4693691469260495, -7.496157274531205)\n"
     ]
    },
    {
     "data": {
      "application/vnd.jupyter.widget-view+json": {
       "model_id": "735591cc90754774a01b505f1f5903bd",
       "version_major": 2,
       "version_minor": 0
      },
      "text/plain": [
       "  0%|          | 0/6000 [00:00<?, ?it/s]"
      ]
     },
     "metadata": {},
     "output_type": "display_data"
    },
    {
     "name": "stdout",
     "output_type": "stream",
     "text": [
      "(-0.826264378243479, -0.8798885166304699)\n",
      "(-2.6082474572925083, -2.4764783235834082)\n",
      "(-4.879778838583703, -4.492229016683516)\n",
      "(-6.437078458911004, -5.842693714098867)\n",
      "(-7.1294074780678995, -6.7113515214022605)\n",
      "(-7.357010955681901, -7.100642139508314)\n",
      "(-7.466763826392755, -7.330584422471849)\n",
      "(-7.490962584046847, -7.395014193322694)\n",
      "(-7.539280884650569, -7.480753219401196)\n",
      "(-7.548789088008564, -7.501776475826702)\n",
      "(-7.5859123199769165, -7.519189673062506)\n",
      "(-7.582190694308392, -7.551116207568461)\n"
     ]
    },
    {
     "data": {
      "application/vnd.jupyter.widget-view+json": {
       "model_id": "9913f8f6c5164f57af157650e65c7339",
       "version_major": 2,
       "version_minor": 0
      },
      "text/plain": [
       "  0%|          | 0/6000 [00:00<?, ?it/s]"
      ]
     },
     "metadata": {},
     "output_type": "display_data"
    },
    {
     "name": "stdout",
     "output_type": "stream",
     "text": [
      "(-0.7795877061280556, -0.7610993666735257)\n",
      "(-2.6636700734890963, -2.268313375379549)\n",
      "(-5.307297980978786, -4.829188299867553)\n",
      "(-6.440926211627406, -5.999025265083134)\n",
      "(-7.355667065854962, -7.241398978141688)\n",
      "(-7.4799251906276965, -7.415057269814055)\n",
      "(-7.505084638925805, -7.445550502272474)\n",
      "(-7.520485533999817, -7.456945407795861)\n",
      "(-7.532730607994093, -7.464394054445465)\n",
      "(-7.53297290639545, -7.473922778088065)\n",
      "(-7.533940019932505, -7.465204950932814)\n",
      "(-7.534006179935754, -7.480363372306439)\n"
     ]
    },
    {
     "data": {
      "application/vnd.jupyter.widget-view+json": {
       "model_id": "21899d4be6174867883686f916029049",
       "version_major": 2,
       "version_minor": 0
      },
      "text/plain": [
       "  0%|          | 0/6000 [00:00<?, ?it/s]"
      ]
     },
     "metadata": {},
     "output_type": "display_data"
    },
    {
     "name": "stdout",
     "output_type": "stream",
     "text": [
      "(-0.8312423862190041, -0.9389860341076508)\n",
      "(-2.726643348817066, -2.380004173406524)\n",
      "(-6.421769594905985, -5.474778387449889)\n",
      "(-7.482489155864879, -7.415417161972737)\n",
      "(-7.5107732228635085, -7.466461902081113)\n",
      "(-7.529601445348712, -7.4656715742272075)\n",
      "(-7.547218377000462, -7.4977538599719615)\n",
      "(-7.559570772332155, -7.503555200603083)\n",
      "(-7.571374715873984, -7.508079775849155)\n",
      "(-7.574106525944455, -7.522798894374743)\n",
      "(-7.575762636177616, -7.506262359060629)\n",
      "(-7.576912058611977, -7.508838830269016)\n"
     ]
    },
    {
     "data": {
      "application/vnd.jupyter.widget-view+json": {
       "model_id": "408db12bec5f48498fffb073aed5b7eb",
       "version_major": 2,
       "version_minor": 0
      },
      "text/plain": [
       "  0%|          | 0/6000 [00:00<?, ?it/s]"
      ]
     },
     "metadata": {},
     "output_type": "display_data"
    },
    {
     "name": "stdout",
     "output_type": "stream",
     "text": [
      "(-0.8203359647992017, -0.86674289378079)\n",
      "(-2.612396296056981, -2.169303312203321)\n",
      "(-4.942093884267195, -4.018103620018351)\n",
      "(-7.055783125075835, -6.590078092017331)\n",
      "(-7.445709540263427, -7.209014051370408)\n",
      "(-7.5010673547739, -7.348217826076214)\n",
      "(-7.517369395625725, -7.395391700220355)\n",
      "(-7.527105192335146, -7.421651611871404)\n",
      "(-7.535621597656281, -7.430486301626913)\n",
      "(-7.536444055452848, -7.433125776088819)\n",
      "(-7.537877198145707, -7.441986079860501)\n",
      "(-7.539880392014076, -7.452216113418021)\n"
     ]
    },
    {
     "data": {
      "application/vnd.jupyter.widget-view+json": {
       "model_id": "efa0508ec2d640c6994476caf2790161",
       "version_major": 2,
       "version_minor": 0
      },
      "text/plain": [
       "  0%|          | 0/6000 [00:00<?, ?it/s]"
      ]
     },
     "metadata": {},
     "output_type": "display_data"
    },
    {
     "name": "stdout",
     "output_type": "stream",
     "text": [
      "(-0.8389805446317649, -0.9010447291832111)\n",
      "(-2.6410196797324046, -2.1418005099629926)\n",
      "(-4.943137093294644, -4.484627693787037)\n",
      "(-6.783361204842514, -6.187992242629825)\n",
      "(-7.500708135911698, -7.335681363101132)\n",
      "(-7.626163642644401, -7.459196143714265)\n",
      "(-7.647977559169717, -7.470744882498855)\n",
      "(-7.64953442241461, -7.46959543016448)\n",
      "(-7.649099494950933, -7.474356854450272)\n",
      "(-7.649288721620224, -7.473647413027641)\n",
      "(-7.650526165904187, -7.474522683050959)\n",
      "(-7.648898793802571, -7.476198574487645)\n"
     ]
    },
    {
     "data": {
      "application/vnd.jupyter.widget-view+json": {
       "model_id": "20189caf847946d2ae5315052253b199",
       "version_major": 2,
       "version_minor": 0
      },
      "text/plain": [
       "  0%|          | 0/6000 [00:00<?, ?it/s]"
      ]
     },
     "metadata": {},
     "output_type": "display_data"
    },
    {
     "name": "stdout",
     "output_type": "stream",
     "text": [
      "(-0.8215438840781011, -0.7878717133332551)\n",
      "(-2.590720119512051, -2.044394657921651)\n",
      "(-4.964917519341239, -4.38525018489716)\n",
      "(-6.62876521959709, -5.952737126119368)\n",
      "(-7.159905330671004, -6.689989156284057)\n",
      "(-7.4496644424151395, -7.135069321403372)\n",
      "(-7.530352637344085, -7.374337402331832)\n",
      "(-7.552863356244593, -7.421274095411076)\n",
      "(-7.564314420343549, -7.414200629689926)\n",
      "(-7.572382130386519, -7.4019832404410515)\n",
      "(-7.57952442124902, -7.3935506597674125)\n",
      "(-7.584919091449732, -7.393937103683551)\n"
     ]
    },
    {
     "data": {
      "application/vnd.jupyter.widget-view+json": {
       "model_id": "82cbbedc77d64b04a6339734edae9288",
       "version_major": 2,
       "version_minor": 0
      },
      "text/plain": [
       "  0%|          | 0/6000 [00:00<?, ?it/s]"
      ]
     },
     "metadata": {},
     "output_type": "display_data"
    },
    {
     "name": "stdout",
     "output_type": "stream",
     "text": [
      "(-0.7549804888758154, -0.7674058234625504)\n",
      "(-2.4505339741089847, -2.180551525682063)\n",
      "(-4.467723473835702, -4.36352945642053)\n",
      "(-6.614738662846762, -6.512321087551)\n",
      "(-7.522876570152334, -7.424031929315052)\n",
      "(-7.5290138894170155, -7.43286371246157)\n",
      "(-7.5324894066893755, -7.427180509581827)\n",
      "(-7.534417845024001, -7.419519793803)\n",
      "(-7.536644939153484, -7.411415472402286)\n",
      "(-7.542245562901365, -7.405778604495804)\n",
      "(-7.546165504361052, -7.404407508624788)\n",
      "(-7.550283573552074, -7.39843751304481)\n"
     ]
    },
    {
     "data": {
      "application/vnd.jupyter.widget-view+json": {
       "model_id": "337d7422f17441cf82f0b185a45263f7",
       "version_major": 2,
       "version_minor": 0
      },
      "text/plain": [
       "  0%|          | 0/6000 [00:00<?, ?it/s]"
      ]
     },
     "metadata": {},
     "output_type": "display_data"
    },
    {
     "name": "stdout",
     "output_type": "stream",
     "text": [
      "(-0.749242015411837, -0.7602756250594838)\n",
      "(-2.5820840263943774, -2.3039189993179403)\n",
      "(-4.82224229624448, -4.083920216783111)\n",
      "(-6.693495096363997, -6.076630044982527)\n",
      "(-7.497097503262475, -7.350377226779941)\n",
      "(-7.542209017478948, -7.4861709705703685)\n",
      "(-7.5382087575883725, -7.46505543294196)\n",
      "(-7.5369684568479185, -7.452445447027002)\n",
      "(-7.5474949221961865, -7.4762366144752175)\n",
      "(-7.536716338323619, -7.471212520643855)\n",
      "(-7.544126057635484, -7.465011004792793)\n",
      "(-7.548744741726671, -7.475474642273536)\n"
     ]
    },
    {
     "data": {
      "application/vnd.jupyter.widget-view+json": {
       "model_id": "35c066cf11394864b86f9dae5846e749",
       "version_major": 2,
       "version_minor": 0
      },
      "text/plain": [
       "  0%|          | 0/6000 [00:00<?, ?it/s]"
      ]
     },
     "metadata": {},
     "output_type": "display_data"
    },
    {
     "name": "stdout",
     "output_type": "stream",
     "text": [
      "(-0.7945717870265565, -0.7237101815831833)\n",
      "(-2.6951098190048626, -2.44741846972204)\n",
      "(-5.436414858820879, -4.981331703786083)\n",
      "(-7.482457990761482, -7.355736966754327)\n",
      "(-7.6022374874495515, -7.46835711835982)\n",
      "(-7.638130113512091, -7.479235226454011)\n",
      "(-7.638801366128654, -7.463293366776828)\n",
      "(-7.63858189320812, -7.480737040610685)\n",
      "(-7.650744776672265, -7.474095476597876)\n",
      "(-7.637310010637456, -7.469489895613842)\n",
      "(-7.6430834534420065, -7.46286611467693)\n",
      "(-7.648191157386717, -7.46747811148364)\n"
     ]
    },
    {
     "data": {
      "application/vnd.jupyter.widget-view+json": {
       "model_id": "67e87f4325394853832c8f8afbc5cf67",
       "version_major": 2,
       "version_minor": 0
      },
      "text/plain": [
       "  0%|          | 0/6000 [00:00<?, ?it/s]"
      ]
     },
     "metadata": {},
     "output_type": "display_data"
    },
    {
     "name": "stdout",
     "output_type": "stream",
     "text": [
      "(-0.7713902026483448, -0.8151585158394895)\n",
      "(-2.407520786203672, -2.379664138949358)\n",
      "(-4.268754229087411, -4.075650473624595)\n",
      "(-6.415181989415045, -6.082619708526795)\n",
      "(-7.490488170733481, -7.389117785112653)\n",
      "(-7.559741075540493, -7.507227607760237)\n",
      "(-7.565037551277252, -7.513516204891284)\n",
      "(-7.566510311387197, -7.537382308782902)\n",
      "(-7.583114337232939, -7.542744068459562)\n",
      "(-7.57079248202665, -7.5437271457671)\n",
      "(-7.57737640583476, -7.551006519769204)\n",
      "(-7.58353546834848, -7.5385561207469935)\n"
     ]
    },
    {
     "data": {
      "application/vnd.jupyter.widget-view+json": {
       "model_id": "e078f8ed32e24d60a73b62d26325464a",
       "version_major": 2,
       "version_minor": 0
      },
      "text/plain": [
       "  0%|          | 0/6000 [00:00<?, ?it/s]"
      ]
     },
     "metadata": {},
     "output_type": "display_data"
    },
    {
     "name": "stdout",
     "output_type": "stream",
     "text": [
      "(-0.8759039223950067, -0.6407409859783091)\n",
      "(-3.0089140928452593, -2.79609675729782)\n",
      "(-5.548170392170993, -5.71392254721133)\n",
      "(-7.15208489280042, -7.1730655677592265)\n",
      "(-7.536167674031164, -7.4730255447916205)\n",
      "(-7.574051223291702, -7.5457303322358005)\n",
      "(-7.580068125714205, -7.53538226008555)\n",
      "(-7.5846530851459555, -7.520908026198828)\n",
      "(-7.608799887102049, -7.519786716829391)\n",
      "(-7.604448210310593, -7.552329681161815)\n",
      "(-7.611870956168362, -7.523869637473334)\n",
      "(-7.621004370250057, -7.531656884587524)\n"
     ]
    },
    {
     "data": {
      "application/vnd.jupyter.widget-view+json": {
       "model_id": "7d373714719e47a28be79223c33f8606",
       "version_major": 2,
       "version_minor": 0
      },
      "text/plain": [
       "  0%|          | 0/6000 [00:00<?, ?it/s]"
      ]
     },
     "metadata": {},
     "output_type": "display_data"
    },
    {
     "name": "stdout",
     "output_type": "stream",
     "text": [
      "(-0.7632865099148738, -0.8205603503354)\n",
      "(-3.0421694082896718, -3.1698982790859778)\n",
      "(-6.457568035322016, -6.31468264775793)\n",
      "(-7.53656880548002, -7.56214453450583)\n",
      "(-7.523850756908392, -7.56417151967339)\n",
      "(-7.5355291127678035, -7.555456224659251)\n",
      "(-7.534574751661821, -7.579499268977809)\n",
      "(-7.528307060350002, -7.557474132535027)\n",
      "(-7.538970142545399, -7.561950140552818)\n",
      "(-7.529346942640525, -7.544713632738046)\n",
      "(-7.532319453348071, -7.550709524350122)\n",
      "(-7.536416989436361, -7.559458656049135)\n"
     ]
    },
    {
     "data": {
      "application/vnd.jupyter.widget-view+json": {
       "model_id": "c9331a7cd6da461188cd10a5b81ef43e",
       "version_major": 2,
       "version_minor": 0
      },
      "text/plain": [
       "  0%|          | 0/6000 [00:00<?, ?it/s]"
      ]
     },
     "metadata": {},
     "output_type": "display_data"
    },
    {
     "name": "stdout",
     "output_type": "stream",
     "text": [
      "(-0.8105609496881654, -1.0511031352325122)\n",
      "(-2.9167332240706267, -2.6350966155754043)\n",
      "(-5.377385844095736, -5.333989944957524)\n",
      "(-7.2412867675080745, -7.155840583529923)\n",
      "(-7.529780504068554, -7.446725525594072)\n",
      "(-7.609972646826968, -7.535414166643229)\n",
      "(-7.658528462127012, -7.571012692656162)\n",
      "(-7.654600962941601, -7.541799855101156)\n",
      "(-7.667600675838145, -7.563949476070816)\n",
      "(-7.657713563198984, -7.560250137784679)\n",
      "(-7.65990760226451, -7.5403700220412695)\n",
      "(-7.665354205782401, -7.54155608374922)\n"
     ]
    },
    {
     "data": {
      "application/vnd.jupyter.widget-view+json": {
       "model_id": "edff5e67d916431d80f0794c539f6b21",
       "version_major": 2,
       "version_minor": 0
      },
      "text/plain": [
       "  0%|          | 0/6000 [00:00<?, ?it/s]"
      ]
     },
     "metadata": {},
     "output_type": "display_data"
    },
    {
     "name": "stdout",
     "output_type": "stream",
     "text": [
      "(-0.8191879609857212, -0.8800383158931794)\n",
      "(-2.700032007479866, -2.67153773780932)\n",
      "(-5.234609312113103, -5.2952305453889705)\n",
      "(-6.5196246644038345, -6.262381709146764)\n",
      "(-7.23081226534469, -7.074100479221957)\n",
      "(-7.556269939180247, -7.527596738546629)\n",
      "(-7.572577973543055, -7.589336614895432)\n",
      "(-7.581456186209669, -7.587035438691587)\n",
      "(-7.589886518827033, -7.586734008608596)\n",
      "(-7.591193514437932, -7.582480175162593)\n",
      "(-7.591674180048674, -7.590729790609146)\n",
      "(-7.589193370462305, -7.596308262200416)\n"
     ]
    },
    {
     "data": {
      "application/vnd.jupyter.widget-view+json": {
       "model_id": "137b6596badf4e539faff3c1e9a616c6",
       "version_major": 2,
       "version_minor": 0
      },
      "text/plain": [
       "  0%|          | 0/6000 [00:00<?, ?it/s]"
      ]
     },
     "metadata": {},
     "output_type": "display_data"
    },
    {
     "name": "stdout",
     "output_type": "stream",
     "text": [
      "(-0.871237417760216, -0.9116436869318045)\n",
      "(-2.87574583091226, -2.4946074757256143)\n",
      "(-5.457285706721928, -5.115193286026475)\n",
      "(-7.434195065374055, -7.369119068944464)\n",
      "(-7.431237711624219, -7.369529642643597)\n",
      "(-7.437606647577742, -7.405853767366086)\n",
      "(-7.4485635636696035, -7.394825013926828)\n",
      "(-7.462744408817278, -7.4129197232639665)\n",
      "(-7.479454437614929, -7.4317222263783975)\n",
      "(-7.491784555900711, -7.447396878701248)\n",
      "(-7.505592349238993, -7.462075018312589)\n",
      "(-7.514384106905746, -7.475697488391583)\n"
     ]
    },
    {
     "data": {
      "application/vnd.jupyter.widget-view+json": {
       "model_id": "d8e6c32ac29f45cf890aa0e354234729",
       "version_major": 2,
       "version_minor": 0
      },
      "text/plain": [
       "  0%|          | 0/6000 [00:00<?, ?it/s]"
      ]
     },
     "metadata": {},
     "output_type": "display_data"
    },
    {
     "name": "stdout",
     "output_type": "stream",
     "text": [
      "(-0.8051970233113034, -0.8282577978750147)\n",
      "(-2.639772851279901, -2.4867196020897464)\n",
      "(-4.960436011502121, -4.938075409803441)\n",
      "(-6.8673695888696455, -6.927152304354793)\n",
      "(-7.35816291404499, -7.268247337079224)\n",
      "(-7.4278860512215275, -7.3691289820245505)\n",
      "(-7.457435883502057, -7.417310353689781)\n",
      "(-7.482454964403494, -7.446909280974468)\n",
      "(-7.5040207476087195, -7.464406154090307)\n",
      "(-7.513929494565455, -7.481374646969312)\n",
      "(-7.523934872088185, -7.4625589520241515)\n",
      "(-7.528917883234525, -7.469000571024816)\n"
     ]
    },
    {
     "data": {
      "application/vnd.jupyter.widget-view+json": {
       "model_id": "e2e3f0d65e22415596172f107e73da94",
       "version_major": 2,
       "version_minor": 0
      },
      "text/plain": [
       "  0%|          | 0/6000 [00:00<?, ?it/s]"
      ]
     },
     "metadata": {},
     "output_type": "display_data"
    },
    {
     "name": "stdout",
     "output_type": "stream",
     "text": [
      "(-0.810456817217856, -0.750303898904373)\n",
      "(-2.377719077768515, -2.1735057206440507)\n",
      "(-4.728400969109792, -3.81209416362781)\n",
      "(-6.373393041448242, -6.021994476219433)\n",
      "(-7.082229005531854, -6.7452709049954755)\n",
      "(-7.29266242267467, -6.970602293079041)\n",
      "(-7.363033163421526, -7.042121609692987)\n",
      "(-7.415675554729843, -7.090056590513348)\n",
      "(-7.468053613969656, -7.139603678945067)\n",
      "(-7.478258713197841, -7.1480022539435994)\n",
      "(-7.502217237794364, -7.175510036313608)\n",
      "(-7.51947833510183, -7.2013546452255595)\n"
     ]
    },
    {
     "data": {
      "application/vnd.jupyter.widget-view+json": {
       "model_id": "886899de06bb47a3b6535dd90bf69fac",
       "version_major": 2,
       "version_minor": 0
      },
      "text/plain": [
       "  0%|          | 0/6000 [00:00<?, ?it/s]"
      ]
     },
     "metadata": {},
     "output_type": "display_data"
    },
    {
     "name": "stdout",
     "output_type": "stream",
     "text": [
      "(-0.8183093948304118, -0.7312370523989481)\n",
      "(-2.4884518331234005, -2.25627242915445)\n",
      "(-5.290789540717315, -4.919570519830032)\n",
      "(-7.452326782519919, -7.209862297938935)\n",
      "(-7.498958903938675, -7.308087940826728)\n",
      "(-7.530733251180432, -7.321863240542069)\n",
      "(-7.536530356252776, -7.327581401660675)\n",
      "(-7.542224570018182, -7.338406816553026)\n",
      "(-7.5591740653925505, -7.349263464616054)\n",
      "(-7.551911024526833, -7.349250890588375)\n",
      "(-7.5626701637502025, -7.357274343758291)\n",
      "(-7.568050252599647, -7.363049561646588)\n"
     ]
    },
    {
     "data": {
      "application/vnd.jupyter.widget-view+json": {
       "model_id": "e24120c9ad2646b3a654d7f3d4d026e8",
       "version_major": 2,
       "version_minor": 0
      },
      "text/plain": [
       "  0%|          | 0/6000 [00:00<?, ?it/s]"
      ]
     },
     "metadata": {},
     "output_type": "display_data"
    },
    {
     "name": "stdout",
     "output_type": "stream",
     "text": [
      "(-0.8318447394400877, -0.9305664899967933)\n",
      "(-2.5356021971419977, -2.4917319588735127)\n",
      "(-5.014540783660115, -4.282439583618218)\n",
      "(-6.840716312158607, -6.159666280837721)\n",
      "(-7.18253335045829, -6.532192857014534)\n",
      "(-7.274772249927723, -6.667323244144803)\n",
      "(-7.327404195017789, -6.773381513197525)\n",
      "(-7.374344428663082, -6.8752498111912095)\n",
      "(-7.4327804771649735, -6.954238238200409)\n",
      "(-7.443552076722034, -7.0275115590436945)\n",
      "(-7.4776119335787445, -7.077321124305931)\n",
      "(-7.502372913809014, -7.131055995588773)\n"
     ]
    },
    {
     "data": {
      "application/vnd.jupyter.widget-view+json": {
       "model_id": "9b31b22140904f2fa1fb7468947745bf",
       "version_major": 2,
       "version_minor": 0
      },
      "text/plain": [
       "  0%|          | 0/6000 [00:00<?, ?it/s]"
      ]
     },
     "metadata": {},
     "output_type": "display_data"
    },
    {
     "name": "stdout",
     "output_type": "stream",
     "text": [
      "(-0.8668551562070643, -0.7973960630211714)\n",
      "(-2.880612261042347, -2.4672955154707727)\n",
      "(-5.241032800880526, -4.273942061214617)\n",
      "(-7.343403426596331, -7.093881446683234)\n",
      "(-7.467117150097354, -7.368936229931825)\n",
      "(-7.490263258600569, -7.395064716604875)\n",
      "(-7.506705096412784, -7.4156871574424486)\n",
      "(-7.519043204964561, -7.430578123588183)\n",
      "(-7.5278115120087, -7.4438537515311145)\n",
      "(-7.535538863677562, -7.453043986521181)\n",
      "(-7.542203557320827, -7.460638930345399)\n",
      "(-7.548043537777877, -7.464774674437791)\n"
     ]
    },
    {
     "data": {
      "application/vnd.jupyter.widget-view+json": {
       "model_id": "9b5e9a1222394b61a1850bdb3e37dffa",
       "version_major": 2,
       "version_minor": 0
      },
      "text/plain": [
       "  0%|          | 0/6000 [00:00<?, ?it/s]"
      ]
     },
     "metadata": {},
     "output_type": "display_data"
    },
    {
     "name": "stdout",
     "output_type": "stream",
     "text": [
      "(-0.81803023606338, -0.7682498370841335)\n",
      "(-2.6089075586638337, -2.1784455650550107)\n",
      "(-4.444213476818047, -3.612992974317163)\n",
      "(-6.100801270881528, -5.317843878220532)\n",
      "(-7.057415261294734, -6.404430036450359)\n",
      "(-7.289591097268157, -6.8449894201428805)\n",
      "(-7.375762743076842, -7.00135929580384)\n",
      "(-7.425482963569406, -7.088221099589443)\n",
      "(-7.452468201210481, -7.1358269755211845)\n",
      "(-7.4728279756306755, -7.175976388955639)\n",
      "(-7.488633994878403, -7.2105591394708535)\n",
      "(-7.502167753197838, -7.237510798967886)\n"
     ]
    },
    {
     "data": {
      "application/vnd.jupyter.widget-view+json": {
       "model_id": "6bba07dad63e418fb353083bfd51afcd",
       "version_major": 2,
       "version_minor": 0
      },
      "text/plain": [
       "  0%|          | 0/6000 [00:00<?, ?it/s]"
      ]
     },
     "metadata": {},
     "output_type": "display_data"
    },
    {
     "name": "stdout",
     "output_type": "stream",
     "text": [
      "(-0.8118685060447306, -0.8726425210392152)\n",
      "(-2.597308416375329, -2.4076304699172697)\n",
      "(-4.665706781246377, -4.091318901667437)\n",
      "(-7.544069615430973, -7.409056548738197)\n",
      "(-7.552739145006375, -7.433951887084374)\n",
      "(-7.553619775735126, -7.4385791141146935)\n",
      "(-7.553929483828687, -7.441062557235327)\n",
      "(-7.554876067773889, -7.443867260336443)\n",
      "(-7.555757278395437, -7.4429478588414115)\n",
      "(-7.556009655196249, -7.4427833976999676)\n",
      "(-7.555625747817236, -7.442588721529158)\n",
      "(-7.55645134845838, -7.443253216025916)\n"
     ]
    },
    {
     "data": {
      "application/vnd.jupyter.widget-view+json": {
       "model_id": "686c311a3e724ccaabb85dfac203ae37",
       "version_major": 2,
       "version_minor": 0
      },
      "text/plain": [
       "  0%|          | 0/6000 [00:00<?, ?it/s]"
      ]
     },
     "metadata": {},
     "output_type": "display_data"
    },
    {
     "name": "stdout",
     "output_type": "stream",
     "text": [
      "(-0.7825371798758436, -0.7641954931434923)\n",
      "(-2.569496508740365, -2.1363070283117023)\n",
      "(-5.099727272358409, -4.0323521035784085)\n",
      "(-6.9093396714838455, -6.32630002080296)\n",
      "(-7.165935997409454, -6.727370998406399)\n",
      "(-7.285000192496982, -6.9178950284684655)\n",
      "(-7.353785359805618, -7.008127026498451)\n",
      "(-7.4099817680501765, -7.048781620086092)\n",
      "(-7.457185457548081, -7.086849952863554)\n",
      "(-7.475888704987925, -7.129941866560146)\n",
      "(-7.491741323901635, -7.178103709389593)\n",
      "(-7.522288778245079, -7.205719390358164)\n"
     ]
    },
    {
     "data": {
      "application/vnd.jupyter.widget-view+json": {
       "model_id": "9b8582f48a5b48cba222f13b25be9093",
       "version_major": 2,
       "version_minor": 0
      },
      "text/plain": [
       "  0%|          | 0/6000 [00:00<?, ?it/s]"
      ]
     },
     "metadata": {},
     "output_type": "display_data"
    },
    {
     "name": "stdout",
     "output_type": "stream",
     "text": [
      "(-0.7887505196828243, -0.8435380448119038)\n",
      "(-2.591720667087217, -2.397803031647184)\n",
      "(-4.97785367811523, -3.8542902450211742)\n",
      "(-6.250095222081551, -5.4984501434815805)\n",
      "(-7.048967774655632, -6.330395528701251)\n",
      "(-7.385021782956286, -6.700359362583216)\n",
      "(-7.458201013533644, -6.773925805576395)\n",
      "(-7.512585255607067, -6.876053236459695)\n",
      "(-7.559780948411516, -6.973957517172714)\n",
      "(-7.570059404092439, -7.058797914859087)\n",
      "(-7.5717523525695185, -7.121358328344634)\n",
      "(-7.596959554897543, -7.2006800608936326)\n"
     ]
    },
    {
     "data": {
      "application/vnd.jupyter.widget-view+json": {
       "model_id": "c0a80e2d5a6543b4a3f5d3adfe9dede7",
       "version_major": 2,
       "version_minor": 0
      },
      "text/plain": [
       "  0%|          | 0/6000 [00:00<?, ?it/s]"
      ]
     },
     "metadata": {},
     "output_type": "display_data"
    },
    {
     "name": "stdout",
     "output_type": "stream",
     "text": [
      "(-0.9226757746226507, -0.9799217291632603)\n",
      "(-2.846477988312426, -2.512770612491165)\n",
      "(-4.774164457934996, -3.698616727245885)\n",
      "(-6.762851039404896, -5.47797188225978)\n",
      "(-7.529774798675966, -7.270114676602454)\n",
      "(-7.556010132530551, -7.294037319058207)\n",
      "(-7.564759182529699, -7.292402896271377)\n",
      "(-7.578531121548454, -7.29516136651685)\n",
      "(-7.5925867460097125, -7.296041574862823)\n",
      "(-7.588971580202032, -7.29141797616607)\n",
      "(-7.580320136259295, -7.292595838036365)\n",
      "(-7.590521310092864, -7.285784489952248)\n"
     ]
    },
    {
     "data": {
      "application/vnd.jupyter.widget-view+json": {
       "model_id": "a3ed9b5ca791437484a9b72fad9110d0",
       "version_major": 2,
       "version_minor": 0
      },
      "text/plain": [
       "  0%|          | 0/6000 [00:00<?, ?it/s]"
      ]
     },
     "metadata": {},
     "output_type": "display_data"
    },
    {
     "name": "stdout",
     "output_type": "stream",
     "text": [
      "(-0.7478235406340072, -0.8603487608964486)\n",
      "(-2.5316486398829117, -2.3571353301469786)\n",
      "(-5.245879300906443, -4.8437216889170145)\n",
      "(-6.492875089498176, -5.985904040793637)\n",
      "(-7.024028659045542, -6.47514447236786)\n",
      "(-7.29626814981401, -6.8417875270636355)\n",
      "(-7.4666385175863885, -7.1810916623850485)\n",
      "(-7.569786502203884, -7.333788520875799)\n",
      "(-7.6127914717088485, -7.425461703235429)\n",
      "(-7.625515671745744, -7.451074146132801)\n",
      "(-7.6297031966716835, -7.477908683194466)\n",
      "(-7.651867006469917, -7.47475738000066)\n"
     ]
    },
    {
     "data": {
      "application/vnd.jupyter.widget-view+json": {
       "model_id": "fd262ee30a0e4475aa3085b1301916ac",
       "version_major": 2,
       "version_minor": 0
      },
      "text/plain": [
       "  0%|          | 0/6000 [00:00<?, ?it/s]"
      ]
     },
     "metadata": {},
     "output_type": "display_data"
    },
    {
     "name": "stdout",
     "output_type": "stream",
     "text": [
      "(-0.7994464340292875, -0.8243695505082673)\n",
      "(-2.535862632516395, -2.3919277366076623)\n",
      "(-4.927954770590062, -4.47316937956005)\n",
      "(-7.46632159284304, -7.369382254620266)\n",
      "(-7.4995998633186645, -7.391413992638599)\n",
      "(-7.491206751622673, -7.3927932096412725)\n",
      "(-7.48259425413838, -7.398594866201798)\n",
      "(-7.493089230919594, -7.399374935331586)\n",
      "(-7.50179112595744, -7.391592764957336)\n",
      "(-7.493059501128468, -7.386755238006012)\n",
      "(-7.485753302895852, -7.387607255241905)\n",
      "(-7.496067600127039, -7.401720519622487)\n"
     ]
    },
    {
     "data": {
      "application/vnd.jupyter.widget-view+json": {
       "model_id": "ae677bac98de42eb9a5725286bc3bc99",
       "version_major": 2,
       "version_minor": 0
      },
      "text/plain": [
       "  0%|          | 0/6000 [00:00<?, ?it/s]"
      ]
     },
     "metadata": {},
     "output_type": "display_data"
    },
    {
     "name": "stdout",
     "output_type": "stream",
     "text": [
      "(-0.7752787074472749, -0.8638998935708428)\n",
      "(-2.660009664742085, -2.5547634484413355)\n",
      "(-4.973584379163145, -4.4526963128394)\n",
      "(-7.433575197665073, -7.308668877274424)\n",
      "(-7.459671551891452, -7.341311720142546)\n",
      "(-7.4837836892455485, -7.366359311383369)\n",
      "(-7.505068044407172, -7.395328096272959)\n",
      "(-7.525211021067559, -7.411554747799461)\n",
      "(-7.538527039642748, -7.40902836481155)\n",
      "(-7.534148726438975, -7.418839867531251)\n",
      "(-7.530411747689838, -7.412861924881805)\n",
      "(-7.538171937602584, -7.409327608405567)\n"
     ]
    },
    {
     "data": {
      "application/vnd.jupyter.widget-view+json": {
       "model_id": "ac08c9854e854acf9722f6c5a4c15b82",
       "version_major": 2,
       "version_minor": 0
      },
      "text/plain": [
       "  0%|          | 0/6000 [00:00<?, ?it/s]"
      ]
     },
     "metadata": {},
     "output_type": "display_data"
    },
    {
     "name": "stdout",
     "output_type": "stream",
     "text": [
      "(-0.7163588937486878, -0.6697968853670213)\n",
      "(-2.494223092228033, -2.3533185485962047)\n",
      "(-4.972449412321246, -4.5910835657856)\n",
      "(-6.4900586819400035, -6.135152571553659)\n",
      "(-6.932891387749853, -6.767608197810222)\n",
      "(-7.033083801741746, -6.94405803486341)\n",
      "(-7.144954275316123, -6.99784940310397)\n",
      "(-7.1861432235953435, -7.037123972979121)\n",
      "(-7.282910333944813, -7.152271869392133)\n",
      "(-7.303466457102058, -7.2146964390522985)\n",
      "(-7.387215309919124, -7.284015495165934)\n",
      "(-7.4004223428440365, -7.320180619790675)\n"
     ]
    },
    {
     "data": {
      "application/vnd.jupyter.widget-view+json": {
       "model_id": "73096e1df73a4f66bc06968842e21c54",
       "version_major": 2,
       "version_minor": 0
      },
      "text/plain": [
       "  0%|          | 0/6000 [00:00<?, ?it/s]"
      ]
     },
     "metadata": {},
     "output_type": "display_data"
    },
    {
     "name": "stdout",
     "output_type": "stream",
     "text": [
      "(-0.7053116360188623, -0.7354889957934172)\n",
      "(-2.508468935418033, -2.4118051485682566)\n",
      "(-4.8106260877249865, -4.546424913049661)\n",
      "(-6.069005278862267, -5.808920694016435)\n",
      "(-6.8642388576276545, -6.436254677339375)\n",
      "(-7.30206839033664, -6.965691012816687)\n",
      "(-7.50490049856763, -7.369401961977109)\n",
      "(-7.529990544727424, -7.42930121919999)\n",
      "(-7.562666822461811, -7.46886354905993)\n",
      "(-7.556647581018705, -7.473329186286826)\n",
      "(-7.575856438836699, -7.495374674526405)\n",
      "(-7.566829619829112, -7.500762162485965)\n"
     ]
    },
    {
     "data": {
      "application/vnd.jupyter.widget-view+json": {
       "model_id": "cc3bc63d0b1c4230868d1986d732df88",
       "version_major": 2,
       "version_minor": 0
      },
      "text/plain": [
       "  0%|          | 0/6000 [00:00<?, ?it/s]"
      ]
     },
     "metadata": {},
     "output_type": "display_data"
    },
    {
     "name": "stdout",
     "output_type": "stream",
     "text": [
      "(-0.8040817724562155, -0.7802904756546882)\n",
      "(-2.698120338488823, -2.5618330666260927)\n",
      "(-4.827201783742029, -4.7175294239370436)\n",
      "(-6.724284481095967, -6.407631685640983)\n",
      "(-7.4559937371702425, -7.508743764461831)\n",
      "(-7.4684707356464335, -7.513747045838954)\n",
      "(-7.506417701445103, -7.533850465326303)\n",
      "(-7.504967533289771, -7.526031307762243)\n",
      "(-7.530655826115707, -7.543893639032099)\n",
      "(-7.520657824033156, -7.533329552290951)\n",
      "(-7.536572088971031, -7.546831913376487)\n",
      "(-7.526859941889172, -7.536614225251481)\n"
     ]
    },
    {
     "data": {
      "application/vnd.jupyter.widget-view+json": {
       "model_id": "340084e87c154797a714d6bbc06104b3",
       "version_major": 2,
       "version_minor": 0
      },
      "text/plain": [
       "  0%|          | 0/6000 [00:00<?, ?it/s]"
      ]
     },
     "metadata": {},
     "output_type": "display_data"
    },
    {
     "name": "stdout",
     "output_type": "stream",
     "text": [
      "(-0.7972044662344536, -0.7725937612247951)\n",
      "(-2.558186424992879, -2.308576352904621)\n",
      "(-5.318612755849303, -4.7741533472665685)\n",
      "(-7.419868326052162, -7.1663535879169)\n",
      "(-7.574644326386651, -7.364252332905866)\n",
      "(-7.611372950014863, -7.417334113948668)\n",
      "(-7.634203863002068, -7.440463313471913)\n",
      "(-7.645223238680649, -7.459996045358867)\n",
      "(-7.6525810432234636, -7.477456020998829)\n",
      "(-7.651022600893489, -7.484048371068944)\n",
      "(-7.649528211425725, -7.4862109457077235)\n",
      "(-7.645488435095698, -7.483021146782406)\n"
     ]
    },
    {
     "data": {
      "application/vnd.jupyter.widget-view+json": {
       "model_id": "55f8e277aab34a0d98825b26940ef03d",
       "version_major": 2,
       "version_minor": 0
      },
      "text/plain": [
       "  0%|          | 0/6000 [00:00<?, ?it/s]"
      ]
     },
     "metadata": {},
     "output_type": "display_data"
    },
    {
     "name": "stdout",
     "output_type": "stream",
     "text": [
      "(-0.8473742708264553, -0.8227873983646126)\n",
      "(-2.6157847531940828, -2.3365630428007664)\n",
      "(-4.95229126959826, -4.540840371089347)\n",
      "(-7.4868869301429655, -7.322621164066813)\n",
      "(-7.5348004696689195, -7.435933717537562)\n",
      "(-7.5468723386302505, -7.456224553196114)\n",
      "(-7.553737895829718, -7.460696455739563)\n",
      "(-7.556407059699241, -7.467983796022158)\n",
      "(-7.559355854170736, -7.468203078645974)\n",
      "(-7.55482521437124, -7.462608023060808)\n",
      "(-7.552681724866932, -7.458349283329822)\n",
      "(-7.5481783154917865, -7.469809107754418)\n"
     ]
    },
    {
     "data": {
      "application/vnd.jupyter.widget-view+json": {
       "model_id": "3eae5b3524c043cca05fba9201cb3c0d",
       "version_major": 2,
       "version_minor": 0
      },
      "text/plain": [
       "  0%|          | 0/6000 [00:00<?, ?it/s]"
      ]
     },
     "metadata": {},
     "output_type": "display_data"
    },
    {
     "name": "stdout",
     "output_type": "stream",
     "text": [
      "(-0.8518376094418296, -0.8223623168891164)\n",
      "(-2.66678920393441, -2.398099413731327)\n",
      "(-5.571698200043333, -5.071722450901356)\n",
      "(-7.438620723446383, -7.278332656540329)\n",
      "(-7.497074744828284, -7.330550938098602)\n",
      "(-7.5198238051754815, -7.356640381449716)\n",
      "(-7.531256950501674, -7.36597518846907)\n",
      "(-7.5410719745236, -7.371975286115998)\n",
      "(-7.546653472228894, -7.376896157635697)\n",
      "(-7.545276508303148, -7.384454574924296)\n",
      "(-7.543290457016449, -7.366857507309385)\n",
      "(-7.540208534653587, -7.380138158914468)\n"
     ]
    },
    {
     "data": {
      "application/vnd.jupyter.widget-view+json": {
       "model_id": "baef7e4d01ee4b2fbdfe9568553ac552",
       "version_major": 2,
       "version_minor": 0
      },
      "text/plain": [
       "  0%|          | 0/6000 [00:00<?, ?it/s]"
      ]
     },
     "metadata": {},
     "output_type": "display_data"
    },
    {
     "name": "stdout",
     "output_type": "stream",
     "text": [
      "(-0.8513551083887567, -0.7630245400231317)\n",
      "(-2.56789432555441, -2.3211828153518255)\n",
      "(-4.659429639478278, -4.365322519730579)\n",
      "(-6.024295197338074, -5.599319584334039)\n",
      "(-6.827784403066297, -6.334637820621517)\n",
      "(-7.213668363617429, -6.892073395272208)\n",
      "(-7.3665996743169995, -7.203328963350904)\n",
      "(-7.40757887032787, -7.297600251867675)\n",
      "(-7.446553606849116, -7.341544544576522)\n",
      "(-7.448014461535839, -7.3587766958209215)\n",
      "(-7.472765621496202, -7.401979716938605)\n",
      "(-7.493832481683627, -7.409368987447298)\n"
     ]
    },
    {
     "data": {
      "application/vnd.jupyter.widget-view+json": {
       "model_id": "8a16321c95cb4cdd9f192635a15601be",
       "version_major": 2,
       "version_minor": 0
      },
      "text/plain": [
       "  0%|          | 0/6000 [00:00<?, ?it/s]"
      ]
     },
     "metadata": {},
     "output_type": "display_data"
    },
    {
     "name": "stdout",
     "output_type": "stream",
     "text": [
      "(-0.7924337295283883, -0.7889416514942901)\n",
      "(-2.832748382652874, -2.5956684101950684)\n",
      "(-6.564192779251688, -6.398686793816673)\n",
      "(-7.478730636894784, -7.427166833528628)\n",
      "(-7.499283132320174, -7.453356975766799)\n",
      "(-7.517760213344146, -7.469031200827445)\n",
      "(-7.516913132933186, -7.471625741427485)\n",
      "(-7.5148178637868694, -7.472499696417397)\n",
      "(-7.529543945279914, -7.4766870968437065)\n",
      "(-7.5177667301844195, -7.473704290239303)\n",
      "(-7.524802997183872, -7.47801863333804)\n",
      "(-7.5292081155904516, -7.480494581063557)\n"
     ]
    },
    {
     "data": {
      "application/vnd.jupyter.widget-view+json": {
       "model_id": "cc1d7804d892448bad93bf13da6b969f",
       "version_major": 2,
       "version_minor": 0
      },
      "text/plain": [
       "  0%|          | 0/6000 [00:00<?, ?it/s]"
      ]
     },
     "metadata": {},
     "output_type": "display_data"
    },
    {
     "name": "stdout",
     "output_type": "stream",
     "text": [
      "(-0.7091901099270654, -0.6200416819958882)\n",
      "(-2.417667215278861, -2.1050835074812437)\n",
      "(-4.5443135268319, -4.111671564368001)\n",
      "(-6.092138229690871, -5.674927956630845)\n",
      "(-7.5037592677153695, -7.423034988332862)\n",
      "(-7.554753343601828, -7.463032327162947)\n",
      "(-7.56401917028668, -7.466357045873408)\n",
      "(-7.572668758541763, -7.4803557652)\n",
      "(-7.594234054286902, -7.474111423873814)\n",
      "(-7.58376778090234, -7.488984260100719)\n",
      "(-7.595725265020729, -7.49060489637184)\n",
      "(-7.605527775506681, -7.483107399663452)\n"
     ]
    },
    {
     "data": {
      "application/vnd.jupyter.widget-view+json": {
       "model_id": "81846453078a4f0daea244372e8dcb30",
       "version_major": 2,
       "version_minor": 0
      },
      "text/plain": [
       "  0%|          | 0/6000 [00:00<?, ?it/s]"
      ]
     },
     "metadata": {},
     "output_type": "display_data"
    },
    {
     "name": "stdout",
     "output_type": "stream",
     "text": [
      "(-0.8144930387489565, -0.8061433115871961)\n",
      "(-2.698032178861741, -2.435205053759892)\n",
      "(-5.746914681711153, -5.236657887645318)\n",
      "(-7.52470033468624, -7.405569804097574)\n",
      "(-7.613052512174869, -7.481500393169847)\n",
      "(-7.6271990246935735, -7.473420178648727)\n",
      "(-7.62905730715675, -7.4777063128352514)\n",
      "(-7.642821172533553, -7.483441898446655)\n",
      "(-7.6562493559009805, -7.487775755028523)\n",
      "(-7.649805240245547, -7.490152734727712)\n",
      "(-7.644639913080944, -7.485154724619815)\n",
      "(-7.65696845502809, -7.485173279290812)\n"
     ]
    },
    {
     "data": {
      "application/vnd.jupyter.widget-view+json": {
       "model_id": "a14b36fcdc214305b3c51e91bdc83ff0",
       "version_major": 2,
       "version_minor": 0
      },
      "text/plain": [
       "  0%|          | 0/6000 [00:00<?, ?it/s]"
      ]
     },
     "metadata": {},
     "output_type": "display_data"
    },
    {
     "name": "stdout",
     "output_type": "stream",
     "text": [
      "(-0.9023001385572271, -0.7075580954610391)\n",
      "(-2.9990993811215474, -2.4450452647704912)\n",
      "(-5.580906969688713, -4.936861639193305)\n",
      "(-6.932711345474206, -6.411693627430706)\n",
      "(-7.3708297248965815, -6.9643554603017455)\n",
      "(-7.5238482265144375, -7.280852162894806)\n",
      "(-7.537389087038457, -7.368255104856777)\n",
      "(-7.549702379243326, -7.398082614921433)\n",
      "(-7.563277253591112, -7.414111787302855)\n",
      "(-7.551635069885122, -7.409251030229524)\n",
      "(-7.550124437307673, -7.4210997309110125)\n",
      "(-7.559303899867815, -7.406587248696617)\n"
     ]
    },
    {
     "data": {
      "application/vnd.jupyter.widget-view+json": {
       "model_id": "da3b6d9afdd74993aa315bc399d305b1",
       "version_major": 2,
       "version_minor": 0
      },
      "text/plain": [
       "  0%|          | 0/6000 [00:00<?, ?it/s]"
      ]
     },
     "metadata": {},
     "output_type": "display_data"
    },
    {
     "name": "stdout",
     "output_type": "stream",
     "text": [
      "(-0.792691302429329, -0.7564233671170264)\n",
      "(-2.7086124812434615, -2.612951877555805)\n",
      "(-4.78643085410758, -4.195359763141857)\n",
      "(-6.42492582729664, -5.833104286115052)\n",
      "(-7.34638080264548, -7.017389176558006)\n",
      "(-7.469950137788052, -7.2060579034390235)\n",
      "(-7.503307818871858, -7.305739648457336)\n",
      "(-7.5346047329857315, -7.345117217208483)\n",
      "(-7.558609649561565, -7.390499998112601)\n",
      "(-7.5583037372800845, -7.417792353290333)\n",
      "(-7.555818884326607, -7.409423934779394)\n",
      "(-7.567743756474071, -7.418903969578965)\n"
     ]
    },
    {
     "data": {
      "application/vnd.jupyter.widget-view+json": {
       "model_id": "365bcc8596ba4f4e8940f876f3874f48",
       "version_major": 2,
       "version_minor": 0
      },
      "text/plain": [
       "  0%|          | 0/6000 [00:00<?, ?it/s]"
      ]
     },
     "metadata": {},
     "output_type": "display_data"
    },
    {
     "name": "stdout",
     "output_type": "stream",
     "text": [
      "(-0.808593105514508, -0.8420303835394786)\n",
      "(-2.444745215014365, -2.213226397601343)\n",
      "(-4.2776275234250285, -4.010221406070447)\n",
      "(-5.934609039095614, -5.542102236715585)\n",
      "(-7.299751577128712, -7.222389444542306)\n",
      "(-7.485292620682046, -7.484483172382177)\n",
      "(-7.490273676453619, -7.569830759141374)\n",
      "(-7.492426830579307, -7.582341507035778)\n",
      "(-7.512296807186257, -7.606821646061335)\n",
      "(-7.506156994620565, -7.633250327332306)\n",
      "(-7.512424605796811, -7.638120842450397)\n",
      "(-7.524086507490967, -7.668136136295516)\n"
     ]
    },
    {
     "data": {
      "application/vnd.jupyter.widget-view+json": {
       "model_id": "0b5c1388406e4bb494170f28c1013206",
       "version_major": 2,
       "version_minor": 0
      },
      "text/plain": [
       "  0%|          | 0/6000 [00:00<?, ?it/s]"
      ]
     },
     "metadata": {},
     "output_type": "display_data"
    },
    {
     "name": "stdout",
     "output_type": "stream",
     "text": [
      "(-0.8337922606685794, -0.896502281084588)\n",
      "(-2.5061826370934033, -2.3347779455963)\n",
      "(-5.075418699266542, -4.478920087810719)\n",
      "(-7.321614373302454, -6.945134571049466)\n",
      "(-7.560573594806709, -7.657783882536878)\n",
      "(-7.580253091734243, -7.685045736671089)\n",
      "(-7.578251718740916, -7.666713455469076)\n",
      "(-7.577577629870899, -7.699508038088844)\n",
      "(-7.590119089665295, -7.684040373422044)\n",
      "(-7.579937619412116, -7.684225966502032)\n",
      "(-7.58607567606134, -7.676703263016447)\n",
      "(-7.591900445676535, -7.655602677403773)\n"
     ]
    },
    {
     "data": {
      "application/vnd.jupyter.widget-view+json": {
       "model_id": "87d20f6a682e47dfa52788d949c61c12",
       "version_major": 2,
       "version_minor": 0
      },
      "text/plain": [
       "  0%|          | 0/6000 [00:00<?, ?it/s]"
      ]
     },
     "metadata": {},
     "output_type": "display_data"
    },
    {
     "name": "stdout",
     "output_type": "stream",
     "text": [
      "(-0.8032891465163247, -0.885980527145231)\n",
      "(-2.459582363120079, -2.3852410304931673)\n",
      "(-5.728228496003372, -4.686838239229701)\n",
      "(-6.727531366049705, -5.681155819211894)\n",
      "(-7.136353108168608, -6.313877087879858)\n",
      "(-7.279955527352364, -6.65569124170839)\n",
      "(-7.352516307734388, -6.917909746506192)\n",
      "(-7.387738651464583, -7.170765405047216)\n",
      "(-7.437620886528035, -7.292362277873216)\n",
      "(-7.435125864216828, -7.364812837714664)\n",
      "(-7.4604182229880704, -7.414714135425142)\n",
      "(-7.479721036412799, -7.448656113896277)\n"
     ]
    },
    {
     "data": {
      "application/vnd.jupyter.widget-view+json": {
       "model_id": "575c6d9a3bcf48ac81cfdc1f0b17dc27",
       "version_major": 2,
       "version_minor": 0
      },
      "text/plain": [
       "  0%|          | 0/6000 [00:00<?, ?it/s]"
      ]
     },
     "metadata": {},
     "output_type": "display_data"
    },
    {
     "name": "stdout",
     "output_type": "stream",
     "text": [
      "(-0.8238987822070926, -0.7751816354868573)\n",
      "(-2.7787212548781284, -2.306794553050755)\n",
      "(-5.3434548188752045, -4.77442925989656)\n",
      "(-7.416291102663001, -7.176637011944143)\n",
      "(-7.544336947681334, -7.384346570593951)\n",
      "(-7.5584879156815, -7.4220230210051)\n",
      "(-7.564803407059976, -7.425676116293072)\n",
      "(-7.567164903929081, -7.430394222186756)\n",
      "(-7.571696738160154, -7.430234328141609)\n",
      "(-7.568826360706112, -7.432035247716518)\n",
      "(-7.566170197387539, -7.4314676096486)\n",
      "(-7.561636570815994, -7.426724308717964)\n"
     ]
    },
    {
     "data": {
      "application/vnd.jupyter.widget-view+json": {
       "model_id": "931669b3f7214e6ba6ebdead1bcecf3f",
       "version_major": 2,
       "version_minor": 0
      },
      "text/plain": [
       "  0%|          | 0/6000 [00:00<?, ?it/s]"
      ]
     },
     "metadata": {},
     "output_type": "display_data"
    },
    {
     "name": "stdout",
     "output_type": "stream",
     "text": [
      "(-0.8435552212822639, -0.8195546414631737)\n",
      "(-2.7843188743148266, -2.3297047670664957)\n",
      "(-5.4194551004105, -4.490521507072957)\n",
      "(-7.237066593593344, -6.709370167679378)\n",
      "(-7.317526679278526, -6.95446257559518)\n",
      "(-7.365028820913761, -7.064192811981034)\n",
      "(-7.405705238126474, -7.1635822034304315)\n",
      "(-7.439339926195898, -7.227568676664832)\n",
      "(-7.470481855676766, -7.302644703123617)\n",
      "(-7.491873598327494, -7.346980606518825)\n",
      "(-7.512721190872268, -7.384187513561274)\n",
      "(-7.529769249139241, -7.399984345179534)\n"
     ]
    },
    {
     "data": {
      "application/vnd.jupyter.widget-view+json": {
       "model_id": "b0fd1b558d214cff8f754a83b8122baf",
       "version_major": 2,
       "version_minor": 0
      },
      "text/plain": [
       "  0%|          | 0/6000 [00:00<?, ?it/s]"
      ]
     },
     "metadata": {},
     "output_type": "display_data"
    },
    {
     "name": "stdout",
     "output_type": "stream",
     "text": [
      "(-0.7714992501004172, -0.7903664453106779)\n",
      "(-2.6639500768968065, -2.409860890067333)\n",
      "(-6.286255407726621, -5.672400273641222)\n",
      "(-7.5116985007404535, -7.347440905452236)\n",
      "(-7.542482010488065, -7.346732868505022)\n",
      "(-7.55552891204941, -7.3823636175524125)\n",
      "(-7.578113064562161, -7.397635965374856)\n",
      "(-7.622195459509511, -7.405528136842535)\n",
      "(-7.639299067920886, -7.396480995003344)\n",
      "(-7.638212953234011, -7.393697510845825)\n",
      "(-7.635848216317872, -7.398510006421056)\n",
      "(-7.632004281469049, -7.392440510799605)\n"
     ]
    },
    {
     "data": {
      "application/vnd.jupyter.widget-view+json": {
       "model_id": "50eef1e4949241d7adb10ea6e61e406a",
       "version_major": 2,
       "version_minor": 0
      },
      "text/plain": [
       "  0%|          | 0/6000 [00:00<?, ?it/s]"
      ]
     },
     "metadata": {},
     "output_type": "display_data"
    },
    {
     "name": "stdout",
     "output_type": "stream",
     "text": [
      "(-0.86560135798298, -0.7918109123457358)\n",
      "(-2.776069670493275, -2.2655314188911784)\n",
      "(-5.031019052997412, -4.553871094049995)\n",
      "(-6.642967746596231, -6.231783570158555)\n",
      "(-7.025080884327826, -6.720042754552811)\n",
      "(-7.205350202466609, -6.975900174395017)\n",
      "(-7.2676416860721424, -7.016748205256564)\n",
      "(-7.309332807878285, -7.057130668883023)\n",
      "(-7.345632490663797, -7.098686041795611)\n",
      "(-7.378655163376169, -7.142779129670494)\n",
      "(-7.409354814088361, -7.178220239430448)\n",
      "(-7.436165335379056, -7.218780033387625)\n"
     ]
    },
    {
     "data": {
      "application/vnd.jupyter.widget-view+json": {
       "model_id": "d7e90b4dbfb647dda75390647418b004",
       "version_major": 2,
       "version_minor": 0
      },
      "text/plain": [
       "  0%|          | 0/6000 [00:00<?, ?it/s]"
      ]
     },
     "metadata": {},
     "output_type": "display_data"
    },
    {
     "name": "stdout",
     "output_type": "stream",
     "text": [
      "(-0.7300837591524649, -0.675083408869595)\n",
      "(-2.7385587125098203, -2.297255451119198)\n",
      "(-5.540382373441013, -5.120562348035698)\n",
      "(-7.52061918173752, -7.369306811670661)\n",
      "(-7.536506429523148, -7.380889127541376)\n",
      "(-7.5389242848822065, -7.385025941519789)\n",
      "(-7.540876189247212, -7.3854773119594626)\n",
      "(-7.541881168208532, -7.387587975254453)\n",
      "(-7.542875527029512, -7.3883506669601235)\n",
      "(-7.541845161084922, -7.388208929457494)\n",
      "(-7.542128669635257, -7.387290529482186)\n",
      "(-7.543517542259163, -7.385397705575077)\n"
     ]
    },
    {
     "data": {
      "application/vnd.jupyter.widget-view+json": {
       "model_id": "d1fb962320544dc99f9f1ae6f42fbf18",
       "version_major": 2,
       "version_minor": 0
      },
      "text/plain": [
       "  0%|          | 0/6000 [00:00<?, ?it/s]"
      ]
     },
     "metadata": {},
     "output_type": "display_data"
    },
    {
     "name": "stdout",
     "output_type": "stream",
     "text": [
      "(-0.7405219268158545, -0.6465656402836318)\n",
      "(-2.5842598354901183, -2.0850736520460753)\n",
      "(-5.0429703534066865, -4.707691343693955)\n",
      "(-6.213213289016205, -5.763612564670815)\n",
      "(-7.187150730912751, -6.903150178636715)\n",
      "(-7.351809771412991, -7.174647866054237)\n",
      "(-7.42224784090286, -7.264344802976049)\n",
      "(-7.46192801470033, -7.301540102979142)\n",
      "(-7.486729890510947, -7.327622640521248)\n",
      "(-7.503705749818254, -7.345083574742174)\n",
      "(-7.5183248908333775, -7.358263363826636)\n",
      "(-7.53058497025385, -7.366977458955035)\n"
     ]
    },
    {
     "data": {
      "application/vnd.jupyter.widget-view+json": {
       "model_id": "4be9e9654a9e4a0e97df223724e60c79",
       "version_major": 2,
       "version_minor": 0
      },
      "text/plain": [
       "  0%|          | 0/6000 [00:00<?, ?it/s]"
      ]
     },
     "metadata": {},
     "output_type": "display_data"
    },
    {
     "name": "stdout",
     "output_type": "stream",
     "text": [
      "(-0.8435579819970142, -0.9157560411723151)\n",
      "(-2.584998022356657, -2.4835367589530453)\n",
      "(-4.581815580314436, -4.217138617881464)\n",
      "(-6.603225645270918, -6.297785250256563)\n",
      "(-7.07837592960127, -6.729343602243346)\n",
      "(-7.273853938998601, -6.930262383643336)\n",
      "(-7.395845305862438, -7.135813176143077)\n",
      "(-7.480085098801453, -7.280403584536566)\n",
      "(-7.5288942011381055, -7.34751068696429)\n",
      "(-7.546426590645436, -7.381772351348829)\n",
      "(-7.554408006849888, -7.371100963964569)\n",
      "(-7.559101328933213, -7.393367903240821)\n"
     ]
    },
    {
     "data": {
      "application/vnd.jupyter.widget-view+json": {
       "model_id": "360197257b7e471298c67a597a420f21",
       "version_major": 2,
       "version_minor": 0
      },
      "text/plain": [
       "  0%|          | 0/6000 [00:00<?, ?it/s]"
      ]
     },
     "metadata": {},
     "output_type": "display_data"
    },
    {
     "name": "stdout",
     "output_type": "stream",
     "text": [
      "(-0.8630368790359301, -0.8425751263827961)\n",
      "(-2.7747885052010597, -2.4204510909625014)\n",
      "(-5.005560589349992, -4.874353485773991)\n",
      "(-6.2176384356718595, -6.100719126404423)\n",
      "(-7.428039003489377, -7.352945747658427)\n",
      "(-7.444446964811636, -7.352849461229756)\n",
      "(-7.460337182730247, -7.366223349287654)\n",
      "(-7.472756073841348, -7.384185910867848)\n",
      "(-7.484945608964413, -7.394978649662254)\n",
      "(-7.489323917590564, -7.397859364860773)\n",
      "(-7.492426750479098, -7.392113565081613)\n",
      "(-7.494095706278678, -7.401150826755227)\n"
     ]
    },
    {
     "data": {
      "application/vnd.jupyter.widget-view+json": {
       "model_id": "60206bec9ed944dea60e6a8bafa6cc70",
       "version_major": 2,
       "version_minor": 0
      },
      "text/plain": [
       "  0%|          | 0/6000 [00:00<?, ?it/s]"
      ]
     },
     "metadata": {},
     "output_type": "display_data"
    },
    {
     "name": "stdout",
     "output_type": "stream",
     "text": [
      "(-0.7283473861053698, -0.7523324246150526)\n",
      "(-2.422378320622002, -2.2825893386184015)\n",
      "(-4.817510176791765, -4.685915668729191)\n",
      "(-7.445908337136887, -7.344858209591926)\n",
      "(-7.4819513027003905, -7.339077712366721)\n",
      "(-7.503738151780661, -7.360727030705602)\n",
      "(-7.52679421940315, -7.386314912396263)\n",
      "(-7.543551316275628, -7.381349109508121)\n",
      "(-7.558464259323281, -7.403408722801018)\n",
      "(-7.559604020660207, -7.409758225198926)\n",
      "(-7.560221714956156, -7.392529259504711)\n",
      "(-7.558306129053439, -7.400663367215924)\n"
     ]
    },
    {
     "data": {
      "application/vnd.jupyter.widget-view+json": {
       "model_id": "9c60cf314b0c459cb7f4182450da44a7",
       "version_major": 2,
       "version_minor": 0
      },
      "text/plain": [
       "  0%|          | 0/6000 [00:00<?, ?it/s]"
      ]
     },
     "metadata": {},
     "output_type": "display_data"
    },
    {
     "name": "stdout",
     "output_type": "stream",
     "text": [
      "(-0.8307851711964869, -0.667754857776617)\n",
      "(-2.7492865288367114, -2.1114970806906905)\n",
      "(-4.639174998247853, -3.782873466947637)\n",
      "(-6.429783827203713, -5.894728769114431)\n",
      "(-7.468068463204503, -7.309735559929123)\n",
      "(-7.522276673492399, -7.356698953080031)\n",
      "(-7.563071156693803, -7.390227302220388)\n",
      "(-7.599411029370449, -7.42980361520668)\n",
      "(-7.62121717951774, -7.436899162247149)\n",
      "(-7.626398923297571, -7.4370109889365095)\n",
      "(-7.627478416376809, -7.456194972362374)\n",
      "(-7.623671149750025, -7.423971984081299)\n"
     ]
    },
    {
     "data": {
      "application/vnd.jupyter.widget-view+json": {
       "model_id": "f6dceb72cb16421aac70dea1e95177bc",
       "version_major": 2,
       "version_minor": 0
      },
      "text/plain": [
       "  0%|          | 0/6000 [00:00<?, ?it/s]"
      ]
     },
     "metadata": {},
     "output_type": "display_data"
    },
    {
     "name": "stdout",
     "output_type": "stream",
     "text": [
      "(-0.6861932038509039, -0.7809282909421241)\n",
      "(-2.550553112047465, -2.4255580414195865)\n",
      "(-5.356940334207275, -5.164191417948576)\n",
      "(-7.068717377296016, -7.006290116581392)\n",
      "(-7.553853265421644, -7.461040254187621)\n",
      "(-7.559168774670877, -7.432628528475926)\n",
      "(-7.568461634939708, -7.418908619369349)\n",
      "(-7.578539442649612, -7.413440667429513)\n",
      "(-7.5887428618295525, -7.4144044867458145)\n",
      "(-7.588981594832572, -7.415066934401592)\n",
      "(-7.587252221844289, -7.3976157840383525)\n",
      "(-7.586826384017172, -7.377897403109544)\n"
     ]
    },
    {
     "data": {
      "application/vnd.jupyter.widget-view+json": {
       "model_id": "260e9e88cb6b4d9f9a03d21072d2c7cb",
       "version_major": 2,
       "version_minor": 0
      },
      "text/plain": [
       "  0%|          | 0/6000 [00:00<?, ?it/s]"
      ]
     },
     "metadata": {},
     "output_type": "display_data"
    },
    {
     "name": "stdout",
     "output_type": "stream",
     "text": [
      "(-0.8454300317123492, -0.8041153785301358)\n",
      "(-2.84026643427769, -2.729469006460899)\n",
      "(-5.402657295829369, -4.846710215653497)\n",
      "(-7.138589056699566, -6.93224608959989)\n",
      "(-7.491945761046451, -7.444881211894511)\n",
      "(-7.524327182320382, -7.409162529555795)\n",
      "(-7.545730271842287, -7.425675351892716)\n",
      "(-7.558165489618161, -7.447221970770511)\n",
      "(-7.565246400311161, -7.4386715812743684)\n",
      "(-7.566854285160567, -7.436131255089694)\n",
      "(-7.565308952928953, -7.426175017110336)\n",
      "(-7.560925247170947, -7.426029272323418)\n"
     ]
    }
   ],
   "source": [
    "#splitnum = 5\n",
    "from livelossplot import PlotLosses\n",
    "for splitnum in range(33):\n",
    "    X_totrain,y_totrain = read.train_optimizedMLR(folderpath,folderpath2).delete_padding(Xtrain[splitnum]['lwswdtthuvw'],yall[splitnum][23][0])#yall_orig[splitnum][23][0])\n",
    "    X_tovalid,y_tovalid = read.train_optimizedMLR(folderpath,folderpath2).delete_padding(Xvalid[splitnum]['lwswdtthuvw'],yall[splitnum][23][1])#yall_orig[splitnum][23][1])\n",
    "    X_totest,y_totest = read.train_optimizedMLR(folderpath,folderpath2).delete_padding(Xtest[splitnum]['lwswdtthuvw'],yall[splitnum][23][2])#yall_orig[splitnum][23][2])\n",
    "    calc_device = 'cpu'\n",
    "    ###################################################################################\n",
    "    # Convert numpy arrays into tensors\n",
    "    ###################################################################################\n",
    "    train_Xtensor = torch.FloatTensor(X_totrain).to(calc_device)\n",
    "    train_ytensor = torch.FloatTensor(y_totrain).to(calc_device)\n",
    "    val_Xtensor = torch.FloatTensor(X_tovalid).to(calc_device)\n",
    "    val_ytensor = torch.FloatTensor(y_tovalid).to(calc_device)\n",
    "    test_Xtensor = torch.FloatTensor(X_totest).to(calc_device)\n",
    "    test_ytensor = torch.FloatTensor(y_totest).to(calc_device)\n",
    "    train_data = torch.utils.data.TensorDataset(train_Xtensor, train_ytensor)\n",
    "    val_data = torch.utils.data.TensorDataset(val_Xtensor, val_ytensor)\n",
    "    test_data = torch.utils.data.TensorDataset(test_Xtensor, test_ytensor)\n",
    "    ###################################################################################\n",
    "    # Eigenvectors for Custom Loss in Physical Space\n",
    "    ###################################################################################\n",
    "    #eigenvectors = [torch.FloatTensor(obj).to(calc_device) for obj in [upcs,vpcs,thpcs]]#[upcs,vpcs,wpcs,thpcs]]\n",
    "    ###################################################################################\n",
    "    # Variances to calculate r2 in Physical Space\n",
    "    ###################################################################################\n",
    "    #varu,varv,varw,varth = np.var(yTRUTH['train'][splitnum]['du']),np.var(yTRUTH['train'][splitnum]['dv']),np.var(yTRUTH['train'][splitnum]['dw']),np.var(yTRUTH['train'][splitnum]['dth'])\n",
    "    varu,varv,varth = np.var(yTRUTH['train'][splitnum]['du']),np.var(yTRUTH['train'][splitnum]['dv']),np.var(yTRUTH['train'][splitnum]['dth'])\n",
    "    batch_size = 9\n",
    "    num_workers = 2\n",
    "    train_loader = torch.utils.data.DataLoader(\n",
    "        dataset=train_data,\n",
    "        batch_size=batch_size,\n",
    "        shuffle=True\n",
    "    )\n",
    "    val_loader = torch.utils.data.DataLoader(\n",
    "        dataset=val_data,\n",
    "        batch_size=batch_size,\n",
    "        shuffle=False\n",
    "    )\n",
    "    test_loader = torch.utils.data.DataLoader(\n",
    "        dataset=test_data,\n",
    "        batch_size=batch_size,\n",
    "        shuffle=False\n",
    "    )\n",
    "    \n",
    "    times = ['exp1c','exp1d','exp1e']\n",
    "    #times = ['exp2a','exp2b','exp2c']#,'exp1d','exp1e']\n",
    "    for i in range(len(times)):\n",
    "        models,losses = [],[]\n",
    "        #model = OptimMLR_all_2D()\n",
    "        model = OptimMLR_all_2D_simple()\n",
    "        optimizers = [torch.optim.Adam(model.parameters(), lr=1e-7)]#, optim.AdaBound(model.parameters(),lr=1e-7)] 1e-6\n",
    "        loss = torch.nn.MSELoss()\n",
    "        for optimizer in optimizers:\n",
    "            scheduler2 = torch.optim.lr_scheduler.CyclicLR(optimizer, base_lr=1e-9, max_lr=1e-5,cycle_momentum=False)\n",
    "            scheduler = torch.optim.lr_scheduler.ReduceLROnPlateau(optimizer, 'min',min_lr=1e-18)\n",
    "            num_epochs = 1000*6#26\n",
    "            early_stopper = EarlyStopper(patience=10, min_delta=1e-2)\n",
    "            #variance_store = [varu,varv,varw,varth]\n",
    "            variance_store = [varu,varv,varth]\n",
    "            model,loss = train_model(optimizer=optimizer,scheduler=[scheduler,scheduler2],numepochs=num_epochs,early_stopper=early_stopper,variance_store=variance_store,\\\n",
    "                                     lossfunc=loss)\n",
    "            models.append(model)\n",
    "            losses.append(loss)\n",
    "        torch.save(models, './tmp/torch_try/1115/'+str(splitnum)+'/models_lwswuv_1102_'+str(times[i])+'.pt')\n",
    "        read_and_proc.save_to_pickle('./tmp/torch_try/1115/'+str(splitnum)+'/losses_lwswuv_1102_'+str(times[i])+'.pkt',losses,'PICKLE')"
   ]
  },
  {
   "cell_type": "markdown",
   "id": "2261333b-7bd4-4179-bce9-ecb7a2e717c7",
   "metadata": {},
   "source": [
    "#### LW+SW"
   ]
  },
  {
   "cell_type": "code",
   "execution_count": 101,
   "id": "26ce69ea-288d-4b92-aebe-4a44013520da",
   "metadata": {},
   "outputs": [
    {
     "data": {
      "image/png": "[encoded data removed]",
      "text/plain": [
       "<Figure size 400x400 with 1 Axes>"
      ]
     },
     "metadata": {
      "image/png": {
       "height": 400,
       "width": 400
      }
     },
     "output_type": "display_data"
    }
   ],
   "source": [
    "#plt.plot([obj.detach().numpy() for obj in trainv_losses])\n",
    "plt.plot(np.log10(train_losses[:]))\n",
    "plt.plot(np.log10(val_losses[:]))\n",
    "#plt.plot(val_NSEs)\n",
    "#plt.ylim()\n",
    "plt.xlim(1300,1400)\n",
    "plt.show()"
   ]
  },
  {
   "cell_type": "markdown",
   "id": "f6ce9a2d-90cb-4c7a-9a82-03dae62afbec",
   "metadata": {},
   "source": [
    "#### LW+SW+U+W"
   ]
  },
  {
   "cell_type": "code",
   "execution_count": 83,
   "id": "cfa6c88c-e184-4f51-9e50-9159db36682e",
   "metadata": {},
   "outputs": [
    {
     "data": {
      "text/plain": [
       "array([nan, nan, nan, ..., nan, nan, nan])"
      ]
     },
     "execution_count": 83,
     "metadata": {},
     "output_type": "execute_result"
    }
   ],
   "source": [
    "np.log10(losses[3]['train'][:])"
   ]
  },
  {
   "cell_type": "code",
   "execution_count": 26,
   "id": "2c9403f3-8ab3-48b7-92c8-934c68b44fd3",
   "metadata": {},
   "outputs": [
    {
     "name": "stderr",
     "output_type": "stream",
     "text": [
      "/tmp/ipykernel_440483/4243838913.py:2: ProplotWarning: rc setting 'linewidth' was renamed to 'meta.width' in version 0.8.\n",
      "  plot.rc.update({'axes.labelweight':'normal','tick.labelweight':'normal','figure.facecolor':'w','title.color':'k','fontname': 'Source Sans Pro', 'fontsize': 11,'linewidth':1.25})\n"
     ]
    },
    {
     "data": {
      "image/png": "[encoded data removed]",
      "text/plain": [
       "Figure(nrows=1, ncols=1, refaspect=1.93, refwidth=4.3)"
      ]
     },
     "metadata": {
      "image/png": {
       "height": 279,
       "width": 487
      }
     },
     "output_type": "display_data"
    }
   ],
   "source": [
    "plot.rc.metacolor = 'k'\n",
    "plot.rc.update({'axes.labelweight':'normal','tick.labelweight':'normal','figure.facecolor':'w','title.color':'k','fontname': 'Source Sans Pro', 'fontsize': 11,'linewidth':1.25})\n",
    "plot.rc.axesfacecolor = 'w'\n",
    "\n",
    "fig, ax1 = plot.subplots(ncols=1,nrows=1,axwidth=4.295,refaspect=1.931,share=False)\n",
    "ax1.plot(np.log10(losses[0]['train'][:]),label='training loss')\n",
    "ax1.plot(np.log10(losses[0]['val'][:]),label='valid loss')\n",
    "ax1.format(xlabel='N. of Epochs', ylabel='log10(MSE loss)')\n",
    "plt.savefig('./analysis/pic/lossdiagram.png',dpi=400)\n",
    "plt.show()"
   ]
  },
  {
   "cell_type": "code",
   "execution_count": 36,
   "id": "ad84fc26-145a-4852-bd07-57783e607a3f",
   "metadata": {},
   "outputs": [
    {
     "name": "stderr",
     "output_type": "stream",
     "text": [
      "/tmp/ipykernel_1847357/3712731464.py:2: ProplotWarning: rc setting 'linewidth' was renamed to 'meta.width' in version 0.8.\n",
      "  plot.rc.update({'axes.labelweight':'normal','tick.labelweight':'normal','figure.facecolor':'w','title.color':'k','fontname': 'Source Sans Pro', 'fontsize': 11,'linewidth':1.25})\n"
     ]
    },
    {
     "data": {
      "image/png": "[encoded data removed]",
      "text/plain": [
       "Figure(nrows=1, ncols=1, refaspect=1.93, refwidth=4.3)"
      ]
     },
     "metadata": {
      "image/png": {
       "height": 279,
       "width": 488
      }
     },
     "output_type": "display_data"
    }
   ],
   "source": [
    "plot.rc.metacolor = 'k'\n",
    "plot.rc.update({'axes.labelweight':'normal','tick.labelweight':'normal','figure.facecolor':'w','title.color':'k','fontname': 'Source Sans Pro', 'fontsize': 11,'linewidth':1.25})\n",
    "plot.rc.axesfacecolor = 'w'\n",
    "\n",
    "fig, ax1 = plot.subplots(ncols=1,nrows=1,axwidth=4.295,refaspect=1.931,share=False)\n",
    "ax1.plot(np.log10(losses[0]['train'][:]),label='training loss')\n",
    "ax1.plot(np.log10(losses[0]['val'][:]),label='valid loss')\n",
    "ax1.format(xlabel='N. of Epochs', ylabel='log10(MSE loss)')#,ylim=[-8,-7.5])\n",
    "#plt.savefig('./analysis/pic/lossdiagram.png',dpi=400)\n",
    "plt.show()"
   ]
  },
  {
   "cell_type": "code",
   "execution_count": 30,
   "id": "74aa50b9-b6c5-454c-a4a8-c1bac0f3955f",
   "metadata": {},
   "outputs": [
    {
     "name": "stderr",
     "output_type": "stream",
     "text": [
      "/tmp/ipykernel_440483/1894499735.py:2: ProplotWarning: rc setting 'linewidth' was renamed to 'meta.width' in version 0.8.\n",
      "  plot.rc.update({'axes.labelweight':'normal','tick.labelweight':'normal','figure.facecolor':'w','title.color':'k','fontname': 'Source Sans Pro', 'fontsize': 11,'linewidth':1.25})\n"
     ]
    },
    {
     "data": {
      "image/png": "[encoded data removed]",
      "text/plain": [
       "Figure(nrows=1, ncols=1, refaspect=1.93, refwidth=4.3)"
      ]
     },
     "metadata": {
      "image/png": {
       "height": 279,
       "width": 488
      }
     },
     "output_type": "display_data"
    }
   ],
   "source": [
    "plot.rc.metacolor = 'k'\n",
    "plot.rc.update({'axes.labelweight':'normal','tick.labelweight':'normal','figure.facecolor':'w','title.color':'k','fontname': 'Source Sans Pro', 'fontsize': 11,'linewidth':1.25})\n",
    "plot.rc.axesfacecolor = 'w'\n",
    "\n",
    "fig, ax1 = plot.subplots(ncols=1,nrows=1,axwidth=4.295,refaspect=1.931,share=False)\n",
    "ax1.plot(np.log10(losses[0]['train'][:]),label='training loss')\n",
    "ax1.plot(np.log10(losses[0]['val'][:]),label='valid loss')\n",
    "ax1.format(xlabel='N. of Epochs', ylabel='log10(MSE loss)')\n",
    "plt.savefig('./analysis/pic/lossdiagram2.png',dpi=400)\n",
    "plt.show()"
   ]
  },
  {
   "cell_type": "code",
   "execution_count": 78,
   "id": "358001b0-55bc-476c-b2d0-2c7579549681",
   "metadata": {},
   "outputs": [
    {
     "name": "stdout",
     "output_type": "stream",
     "text": [
      "Collecting torch_optimizer\n",
      "  Downloading torch_optimizer-0.3.0-py3-none-any.whl (61 kB)\n",
      "\u001b[K     |████████████████████████████████| 61 kB 10 kB/s  eta 0:00:011\n",
      "\u001b[?25hRequirement already satisfied: torch>=1.5.0 in /work/FAC/FGSE/IDYST/tbeucler/default/freddy0218/miniconda3/lib/python3.9/site-packages (from torch_optimizer) (1.12.1)\n",
      "Collecting pytorch-ranger>=0.1.1\n",
      "  Downloading pytorch_ranger-0.1.1-py3-none-any.whl (14 kB)\n",
      "Requirement already satisfied: typing-extensions in /work/FAC/FGSE/IDYST/tbeucler/default/freddy0218/miniconda3/lib/python3.9/site-packages (from torch>=1.5.0->torch_optimizer) (4.3.0)\n",
      "Installing collected packages: pytorch-ranger, torch-optimizer\n",
      "Successfully installed pytorch-ranger-0.1.1 torch-optimizer-0.3.0\n"
     ]
    }
   ],
   "source": [
    "! pip install torch_optimizer"
   ]
  },
  {
   "cell_type": "code",
   "execution_count": 58,
   "id": "7e5e0c7d-cfc2-40ad-8190-3a1508370020",
   "metadata": {},
   "outputs": [],
   "source": [
    "def myMSE(tensorX=None, tensorY=None, model=None, pcastore=None,var=[varu,varv,varw,varth]):\n",
    "    def myscore(y_pred, y, var_y):\n",
    "        #var_y = torch.var(y, unbiased=False)\n",
    "        return (np.sum((y - y_pred)**2)) / var_y #mse/var\n",
    "    \n",
    "    utru = np.dot(tensorY.detach().numpy()[:,:26],pcastore['u'].components_[:26])\n",
    "    upre = np.dot(model(tensorX).detach().numpy()[:,:26],pcastore['u'].components_[:26])\n",
    "    vtru = np.dot(tensorY.detach().numpy()[:,26:26+18],pcastore['v'].components_[:18])\n",
    "    vpre = np.dot(model(tensorX).detach().numpy()[:,26:26+18],pcastore['v'].components_[:18])\n",
    "    wtru = np.dot(tensorY.detach().numpy()[:,26+18:26+18+48],pcastore['w'].components_[:48])\n",
    "    wpre = np.dot(model(tensorX).detach().numpy()[:,26+18:26+18+48],pcastore['w'].components_[:48])\n",
    "    thtru = np.dot(tensorY.detach().numpy()[:,26+18+48:26+18+48+14],pcastore['theta'].components_[:14])\n",
    "    thpre = np.dot(model(tensorX).detach().numpy()[:,26+18+48:26+18+48+14],pcastore['theta'].components_[:14])\n",
    "    \n",
    "    umse = myscore(upre,utru,var[0])\n",
    "    vmse = myscore(vpre,vtru,var[1])\n",
    "    wmse = myscore(wpre,wtru,var[2])\n",
    "    thmse = myscore(thpre,thtru,var[3])\n",
    "    return (umse+vmse+wmse+thmse)/4, umse,vmse,wmse,thmse"
   ]
  },
  {
   "cell_type": "code",
   "execution_count": 59,
   "id": "9e3fda40-8773-4fe6-9913-0ad9570be38a",
   "metadata": {},
   "outputs": [
    {
     "data": {
      "text/plain": [
       "(1195322.427734375,\n",
       " 612982.1281738281,\n",
       " 21422826.21875,\n",
       " 880272.7783203125,\n",
       " 66240.11946256868)"
      ]
     },
     "execution_count": 59,
     "metadata": {},
     "output_type": "execute_result"
    }
   ],
   "source": [
    "trainu_losses[-1],trainv_losses[-1],trainw_losses[-1],trainth_losses[-1],train_losses[-1]"
   ]
  },
  {
   "cell_type": "code",
   "execution_count": 35,
   "id": "154167dc-4fcf-4361-ab03-4e884ffb6851",
   "metadata": {},
   "outputs": [
    {
     "data": {
      "text/plain": [
       "(63199537080.81876,\n",
       " 90842320181.89835,\n",
       " 10618086608.285873,\n",
       " 150571363619.71063,\n",
       " 766377913.3802272)"
      ]
     },
     "execution_count": 35,
     "metadata": {},
     "output_type": "execute_result"
    }
   ],
   "source": [
    "myMSE(tensorX=train_Xtensor, tensorY=train_ytensor, model=model, pcastore=pcastore)"
   ]
  },
  {
   "cell_type": "code",
   "execution_count": 37,
   "id": "7af1deb4-b23b-41a1-8616-e8f629000940",
   "metadata": {},
   "outputs": [],
   "source": [
    "surfix = '1625'\n",
    "torch.save(models, './tmp/torch_try/1025/1/models_lwswuv_1102_'+str(surfix)+'.pt')\n",
    "read_and_proc.save_to_pickle('./tmp/torch_try/1025/1/losses_lwswuv_1102_'+str(surfix)+\n",
    "                '.pkt',losses,'PICKLE')"
   ]
  },
  {
   "cell_type": "code",
   "execution_count": 74,
   "id": "bb5eefa2-c63f-49ac-8592-7efb7afa1ac7",
   "metadata": {},
   "outputs": [
    {
     "ename": "NameError",
     "evalue": "name 'train_losses' is not defined",
     "output_type": "error",
     "traceback": [
      "\u001b[0;31m---------------------------------------------------------------------------\u001b[0m",
      "\u001b[0;31mNameError\u001b[0m                                 Traceback (most recent call last)",
      "Input \u001b[0;32mIn [74]\u001b[0m, in \u001b[0;36m<cell line: 2>\u001b[0;34m()\u001b[0m\n\u001b[1;32m      1\u001b[0m \u001b[38;5;66;03m#plt.plot([obj.detach().numpy() for obj in trainv_losses])\u001b[39;00m\n\u001b[0;32m----> 2\u001b[0m plt\u001b[38;5;241m.\u001b[39mplot(\u001b[43mtrain_losses\u001b[49m)\n\u001b[1;32m      3\u001b[0m plt\u001b[38;5;241m.\u001b[39mplot(val_losses)\n\u001b[1;32m      4\u001b[0m \u001b[38;5;66;03m#plt.plot(val_NSEs)\u001b[39;00m\n",
      "\u001b[0;31mNameError\u001b[0m: name 'train_losses' is not defined"
     ]
    }
   ],
   "source": [
    "#plt.plot([obj.detach().numpy() for obj in trainv_losses])\n",
    "plt.plot(train_losses)\n",
    "plt.plot(val_losses)\n",
    "#plt.plot(val_NSEs)\n",
    "plt.ylim(-2,1)\n",
    "plt.show()"
   ]
  },
  {
   "cell_type": "code",
   "execution_count": 119,
   "id": "9af89ad0-9d29-4fd4-af05-ef5197d51432",
   "metadata": {},
   "outputs": [],
   "source": [
    "aaaaaa_th = np.dot(test_ytensor.detach().numpy()[:,26+18+48:26+18+48+14],pcastore['theta'].components_[:14])\n",
    "aaaaaa_w = np.dot(test_ytensor.detach().numpy()[:,26+18:26+18+48],pcastore['w'].components_[:48])\n",
    "aaaaaa_v = np.dot(test_ytensor.detach().numpy()[:,26:26+18],pcastore['v'].components_[:18])\n",
    "aaaaaa_u = np.dot(test_ytensor.detach().numpy()[:,:26],pcastore['u'].components_[:26])"
   ]
  },
  {
   "cell_type": "code",
   "execution_count": 120,
   "id": "4cad2268-b93e-4ce2-aeb1-3148315116c6",
   "metadata": {},
   "outputs": [],
   "source": [
    "bbbbbb_th = np.dot(model(test_Xtensor).detach().numpy()[:,26+18+48:26+18+48+14],pcastore['theta'].components_[:14])\n",
    "bbbbbb_w = np.dot(model(test_Xtensor).detach().numpy()[:,26+18:26+18+48],pcastore['w'].components_[:48])\n",
    "bbbbbb_v = np.dot(model(test_Xtensor).detach().numpy()[:,26:26+18],pcastore['v'].components_[:18])\n",
    "bbbbbb_u = np.dot(model(test_Xtensor).detach().numpy()[:,:26],pcastore['u'].components_[:26])"
   ]
  },
  {
   "cell_type": "code",
   "execution_count": 108,
   "id": "99a866da-aef5-41a9-9415-07e652258fdf",
   "metadata": {},
   "outputs": [
    {
     "data": {
      "text/plain": [
       "(0.37951426305479874, 8.465318223185857e-05, 0.00013643050466981933)"
      ]
     },
     "execution_count": 108,
     "metadata": {},
     "output_type": "execute_result"
    }
   ],
   "source": [
    "def myr2(truth,pred):\n",
    "    MSE = np.sum((truth-pred)**2)\n",
    "    VAR = np.sum((truth-np.mean(truth))**2)\n",
    "    return np.mean(1-MSE/VAR), MSE,VAR\n",
    "myr2(aaaaaa,bbbbbb)"
   ]
  },
  {
   "cell_type": "code",
   "execution_count": 112,
   "id": "cb11e618-656d-4470-829c-aa674f65af90",
   "metadata": {},
   "outputs": [
    {
     "data": {
      "text/plain": [
       "(0.6406571144313491, 0.00023148038979969583, 0.0006441769103996147)"
      ]
     },
     "execution_count": 112,
     "metadata": {},
     "output_type": "execute_result"
    }
   ],
   "source": [
    "# v\n",
    "myr2(aaaaaa,bbbbbb) "
   ]
  },
  {
   "cell_type": "code",
   "execution_count": 115,
   "id": "edc9772b-9c53-4a1a-a8bf-4d509dbf779b",
   "metadata": {},
   "outputs": [
    {
     "data": {
      "text/plain": [
       "(-21.816496008088382, 1.0253462547992716e-05, 4.4938813323298603e-07)"
      ]
     },
     "execution_count": 115,
     "metadata": {},
     "output_type": "execute_result"
    }
   ],
   "source": [
    "# w (var/error)\n",
    "myr2(aaaaaa,bbbbbb)"
   ]
  },
  {
   "cell_type": "code",
   "execution_count": 118,
   "id": "5a82a82d-22c8-4a07-a338-4eac337809fb",
   "metadata": {},
   "outputs": [
    {
     "data": {
      "text/plain": [
       "(0.5462829087013954, 2.9929102560471313e-05, 6.596423880530894e-05)"
      ]
     },
     "execution_count": 118,
     "metadata": {},
     "output_type": "execute_result"
    }
   ],
   "source": [
    "# theta\n",
    "myr2(aaaaaa,bbbbbb)"
   ]
  },
  {
   "cell_type": "markdown",
   "id": "5cd379b9-ceaa-4431-9b9c-9bd32824f3f9",
   "metadata": {},
   "source": [
    "#### No Early Stopping"
   ]
  },
  {
   "cell_type": "code",
   "execution_count": 146,
   "id": "97b2d9e6-4ec2-403a-a2ea-74f416416dd2",
   "metadata": {},
   "outputs": [
    {
     "data": {
      "text/plain": [
       "0.5539370425094943"
      ]
     },
     "execution_count": 146,
     "metadata": {},
     "output_type": "execute_result"
    }
   ],
   "source": [
    "# theta\n",
    "myr2(aaaaaa,bbbbbb)"
   ]
  },
  {
   "cell_type": "code",
   "execution_count": 143,
   "id": "9afe783e-6f57-41de-9635-04761170fbb7",
   "metadata": {},
   "outputs": [
    {
     "data": {
      "text/plain": [
       "-10.444096639815301"
      ]
     },
     "execution_count": 143,
     "metadata": {},
     "output_type": "execute_result"
    }
   ],
   "source": [
    "# w\n",
    "myr2(aaaaaa,bbbbbb)"
   ]
  },
  {
   "cell_type": "code",
   "execution_count": 149,
   "id": "39cfcc57-0a71-46b7-b93f-7cab32652e3b",
   "metadata": {},
   "outputs": [
    {
     "data": {
      "text/plain": [
       "0.7852923241310666"
      ]
     },
     "execution_count": 149,
     "metadata": {},
     "output_type": "execute_result"
    }
   ],
   "source": [
    "# v\n",
    "myr2(aaaaaa,bbbbbb)"
   ]
  },
  {
   "cell_type": "code",
   "execution_count": 152,
   "id": "6dc0268b-188e-4ca8-a398-3c6c7238d9b5",
   "metadata": {},
   "outputs": [
    {
     "data": {
      "text/plain": [
       "0.36458807362049384"
      ]
     },
     "execution_count": 152,
     "metadata": {},
     "output_type": "execute_result"
    }
   ],
   "source": [
    "# u\n",
    "myr2(aaaaaa,bbbbbb)"
   ]
  },
  {
   "cell_type": "code",
   "execution_count": null,
   "id": "8fc49aca-290b-4450-b93c-bc4d12afcef6",
   "metadata": {},
   "outputs": [],
   "source": []
  }
 ],
 "metadata": {
  "kernelspec": {
   "display_name": "Python 3 (ipykernel)",
   "language": "python",
   "name": "python3"
  },
  "language_info": {
   "codemirror_mode": {
    "name": "ipython",
    "version": 3
   },
   "file_extension": ".py",
   "mimetype": "text/x-python",
   "name": "python",
   "nbconvert_exporter": "python",
   "pygments_lexer": "ipython3",
   "version": "3.9.7"
  }
 },
 "nbformat": 4,
 "nbformat_minor": 5
}
