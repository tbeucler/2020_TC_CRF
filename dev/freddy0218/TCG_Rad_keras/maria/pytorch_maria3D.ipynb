{
 "cells": [
  {
   "cell_type": "code",
   "execution_count": 4,
   "id": "9612848b-1d0d-4d2d-bd4a-768914016572",
   "metadata": {},
   "outputs": [
    {
     "name": "stderr",
     "output_type": "stream",
     "text": [
      "/tmp/ipykernel_3570285/1556194838.py:19: ProplotWarning: rc setting 'linewidth' was renamed to 'meta.width' in version 0.8.\n",
      "  plot.rc.update({'figure.facecolor':'w','axes.labelweight':'ultralight',\n"
     ]
    }
   ],
   "source": [
    "\"\"\"──────────────────────────────────────────────────────────────────────────┐\n",
    "│ Loading necessary libraries to build and train model                       │\n",
    "└──────────────────────────────────────────────────────────────────────────\"\"\"\n",
    "import os,sys,gc\n",
    "import numpy as np\n",
    "import pickle,glob\n",
    "import torch\n",
    "import proplot as plot\n",
    "import matplotlib.pyplot as plt\n",
    "from tqdm.auto import tqdm\n",
    "\n",
    "sys.path.insert(1, '/work/FAC/FGSE/IDYST/tbeucler/default/freddy0218/TCGphy/2020_TC_CRF/dev/freddy0218/scikit/')\n",
    "from tools import derive_var,read_and_proc\n",
    "from tools.mlr import mlr\n",
    "from tools.preprocess import do_eof,preproc_maria,preproc_haiyan\n",
    "sys.path.insert(2, '../')\n",
    "import read_stuff as read\n",
    "%matplotlib inline\n",
    "plot.rc.update({'figure.facecolor':'w','axes.labelweight':'ultralight',\n",
    "                'tick.labelweight':'ultralight','gridminor.linestyle':'--','title.weight':'normal','linewidth':0.5})"
   ]
  },
  {
   "cell_type": "code",
   "execution_count": 2,
   "id": "a7990bd1-0e1a-40d9-b8cc-dbabe62aadd8",
   "metadata": {},
   "outputs": [
    {
     "data": {
      "application/vnd.jupyter.widget-view+json": {
       "model_id": "2a2dce0c554b40769f757fbfafdaf2f8",
       "version_major": 2,
       "version_minor": 0
      },
      "text/plain": [
       "  0%|          | 0/5 [00:00<?, ?it/s]"
      ]
     },
     "metadata": {},
     "output_type": "display_data"
    }
   ],
   "source": [
    "path = '/work/FAC/FGSE/IDYST/tbeucler/default/freddy0218/'\n",
    "suffix = '_smooth_preproc_dict1b_g'\n",
    "enter = '/work/FAC/FGSE/IDYST/tbeucler/default/freddy0218/TCGphy/2020_TC_CRF/dev/freddy0218/pca/output/uvwheat/preproc2/'\n",
    "\n",
    "maria_u = [read_and_proc.depickle(path+'TCGphy/2020_TC_CRF/dev/freddy0218/pca/output/uvwheat/preproc2/'+str(lime)+suffix)['u'] for lime in tqdm(['ctl','ncrf_36h','ncrf_60h','ncrf_96h','lwcrf'])]\n",
    "divider = np.asarray([maria_u[0][12:].shape[0],maria_u[1][25:].shape[0],maria_u[2][49:].shape[0],maria_u[3][85:].shape[0],maria_u[4][25:].shape[0]]).cumsum()"
   ]
  },
  {
   "cell_type": "code",
   "execution_count": 83,
   "id": "6479425a-d0a1-47a6-a78c-2bbd79cb87f1",
   "metadata": {},
   "outputs": [],
   "source": [
    "def forward_diff(arrayin=None,delta=None,axis=None,LT=1):\n",
    "    result = []\n",
    "    if axis==0:\n",
    "        for i in range(0,arrayin.shape[axis]-LT):\n",
    "            temp = (arrayin[i+LT,:]-arrayin[i,:])/(LT*delta)\n",
    "            result.append(temp)\n",
    "        return np.asarray(result)\n",
    "    \n",
    "def get_time_diff_terms_intermediate(inputvar=None,LT=None,wantvar=None,case=None):\n",
    "    def _get_time_diff(array=None,timedelta=60*60,LT=None):\n",
    "        if case=='Maria':\n",
    "            sizesets = [39,360,int(array[0].shape[1]/39/360)]\n",
    "        elif case=='Haiyan':\n",
    "            sizesets = [10,360,int(array[0].shape[1]/10/360)]\n",
    "        store = []\n",
    "        for exp in array:\n",
    "            a = forward_diff(np.nanmean(exp.reshape(exp.shape[0],sizesets[0],sizesets[1],sizesets[2]),axis=2).reshape(exp.shape[0],-1),timedelta,0,LT)\n",
    "            if a.shape[0]>0:\n",
    "                azero = np.zeros((LT,exp.shape[-1]))\n",
    "                store.append(np.asarray(a))\n",
    "                #store.append(np.concatenate((a,azero),axis=0))\n",
    "            else:\n",
    "                continue\n",
    "                #store.append(np.zeros((exp.shape[0],exp.shape[-1])))\n",
    "        return store\n",
    "        \n",
    "    storedict = {}\n",
    "    for wantvarZ,wantvarN in enumerate(wantvar):\n",
    "        storedict[wantvarN] = _get_time_diff(array=inputvar[wantvarZ],LT=LT)\n",
    "    return storedict\n",
    "    \n",
    "def windrates_real_maria(path=None,suffix=None,uvwheatpath=None,LT=None,case='Maria',expstart=[12, 25, 49, 85, 25]):\n",
    "    u = [read_and_proc.depickle(path+'TCGphy/2020_TC_CRF/dev/freddy0218/pca/output/uvwheat/preproc2/'+str(lime)+suffix)['u'] for lime in tqdm(['ctl','ncrf_36h','ncrf_60h','ncrf_96h','lwcrf'])]\n",
    "    v = [read_and_proc.depickle(path+'TCGphy/2020_TC_CRF/dev/freddy0218/pca/output/uvwheat/preproc2/'+str(lime)+suffix)['v'] for lime in tqdm(['ctl','ncrf_36h','ncrf_60h','ncrf_96h','lwcrf'])]\n",
    "    w = [read_and_proc.depickle(path+'TCGphy/2020_TC_CRF/dev/freddy0218/pca/output/uvwheat/preproc2/'+str(lime)+suffix)['w'] for lime in tqdm(['ctl','ncrf_36h','ncrf_60h','ncrf_96h','lwcrf'])]\n",
    "    theta = [read_and_proc.depickle(path+'TCGphy/2020_TC_CRF/dev/freddy0218/pca/output/uvwheat/preproc2/'+str(lime)+suffix)['theta'] for lime in tqdm(['ctl','ncrf_36h','ncrf_60h','ncrf_96h','lwcrf'])]\n",
    "    \n",
    "    def innerloop(testindex=None,category=None,u=u,v=v,w=w,theta=theta):\n",
    "        if category=='train':\n",
    "            ut = [u[i] for i in range(len(u)) if i not in testindex]\n",
    "            vt = [v[i] for i in range(len(v)) if i not in testindex]\n",
    "            wt = [w[i] for i in range(len(w)) if i not in testindex]\n",
    "            thetat = [theta[i] for i in range(len(theta)) if i not in testindex]\n",
    "            assert len(ut)==4, 'wrong train-valid-test separation!'\n",
    "            dtermsT = get_time_diff_terms_intermediate(inputvar=[ut,vt,wt,thetat],LT=LT,wantvar=['u','v','w','theta'],case=case)\n",
    "        elif category=='valid':\n",
    "            ut = [u[index] for index in testindex]\n",
    "            vt = [v[index] for index in testindex]\n",
    "            wt = [w[index] for index in testindex]\n",
    "            thetat = [theta[index] for index in testindex]            \n",
    "            del u,v,w,theta\n",
    "            gc.collect()\n",
    "            dtermsT = get_time_diff_terms_intermediate(inputvar=[ut,vt,wt,thetat],LT=LT,wantvar=['u','v','w','theta'],case=case)\n",
    "        \n",
    "        tempdict = {}\n",
    "        for obj in ['u','v','w','theta']:\n",
    "            tempdict[obj] = dtermsT[obj]\n",
    "        del dtermsT\n",
    "        gc.collect()\n",
    "        return tempdict\n",
    "    \n",
    "    storevalid,storetrain = [],[]\n",
    "    for i in [1,2,3,4]:\n",
    "        storevalid.append(innerloop([i],'valid'))\n",
    "        storetrain.append(innerloop([i],'train'))\n",
    "        \n",
    "    storetrainout = []\n",
    "    for indi,obji in enumerate([1,2,3,4]):\n",
    "        mylist = [0,1,2,3,4]\n",
    "        mylist.remove(obji)\n",
    "        dudt = (np.concatenate([storetrain[indi]['u'][indj][expstart[int(objj)]:] for indj,objj in enumerate(mylist)],axis=0))\n",
    "        dvdt = (np.concatenate([storetrain[indi]['v'][indj][expstart[int(objj)]:] for indj,objj in enumerate(mylist)],axis=0))\n",
    "        dwdt = (np.concatenate([storetrain[indi]['w'][indj][expstart[int(objj)]:] for indj,objj in enumerate(mylist)],axis=0))\n",
    "        dthetadt = (np.concatenate([storetrain[indi]['theta'][indj][expstart[int(objj)]:] for indj,objj in enumerate(mylist)],axis=0))\n",
    "        storetrainout.append({'du':dudt,'dv':dvdt,'dw':dwdt,'dth':dthetadt})\n",
    "    del dudt,dvdt,dwdt,dthetadt\n",
    "    gc.collect()\n",
    "    \n",
    "    storevalidout = []\n",
    "    for indi,obji in enumerate([1,2,3,4]):\n",
    "        mylist = [obji]\n",
    "        dudt = np.concatenate([storevalid[indi]['u'][indj][expstart[int(objj)]:] for indj,objj in enumerate(mylist)],axis=0)\n",
    "        dvdt = np.concatenate([storevalid[indi]['v'][indj][expstart[int(objj)]:] for indj,objj in enumerate(mylist)],axis=0)\n",
    "        dwdt = np.concatenate([storevalid[indi]['w'][indj][expstart[int(objj)]:] for indj,objj in enumerate(mylist)],axis=0)\n",
    "        dthetadt = np.concatenate([storevalid[indi]['theta'][indj][expstart[int(objj)]:] for indj,objj in enumerate(mylist)],axis=0)\n",
    "        storevalidout.append({'du':dudt,'dv':dvdt,'dw':dwdt,'dth':dthetadt})    \n",
    "    return {'train':storetrainout,'valid':storevalidout}"
   ]
  },
  {
   "cell_type": "code",
   "execution_count": 90,
   "id": "13f9ec3f-eeda-49d3-9670-605d9a462aeb",
   "metadata": {},
   "outputs": [],
   "source": [
    "folder = '/work/FAC/FGSE/IDYST/tbeucler/default/freddy0218/TCGphy/2020_TC_CRF/dev/freddy0218/testML/output/maria/processed/full/'#intermediate/'\n",
    "Xtrain,Xvalid,ytrain,yvalid = [],[],[],[]\n",
    "for expname in [1,2,3,4]:\n",
    "    obj = [read_and_proc.depickle(objs) for objs in sorted(glob.glob(folder+'inputoutput/*test'+str(expname)))]\n",
    "    Xtrain.append(obj[0])\n",
    "    Xvalid.append(obj[1])\n",
    "    ytrain.append(obj[2])\n",
    "    yvalid.append(obj[3])\n",
    "\n",
    "TYPE = '3D'\n",
    "if TYPE=='3D':\n",
    "    folderpath='/work/FAC/FGSE/IDYST/tbeucler/default/freddy0218/TCGphy/2020_TC_CRF/dev/freddy0218/testML/output/maria/processed/'\n",
    "    pcastore = read_and_proc.depickle(folderpath+'PCA/PCAdict3D')\n",
    "elif TYPE=='2D':\n",
    "    folderpath='/work/FAC/FGSE/IDYST/tbeucler/default/freddy0218/TCGphy/2020_TC_CRF/dev/freddy0218/testML/output/maria/processed/intermediate/'\n",
    "    pcastore = read_and_proc.depickle(folderpath+'PCA/PCAdict')"
   ]
  },
  {
   "cell_type": "code",
   "execution_count": 91,
   "id": "f777d501-0d6e-4270-8f2d-780c7e733726",
   "metadata": {},
   "outputs": [],
   "source": [
    "wcomps = [54,26,75]\n",
    "upcs,vpcs,thpcs = pcastore['u'].components_[:wcomps[0]],pcastore['v'].components_[:wcomps[1]],pcastore['theta'].components_[:wcomps[2]]\n",
    "#[54,26,50,5,75,12,12,10,10]"
   ]
  },
  {
   "cell_type": "code",
   "execution_count": 84,
   "id": "376d1e50-2cac-4d55-9326-78b92b9d36da",
   "metadata": {},
   "outputs": [
    {
     "data": {
      "application/vnd.jupyter.widget-view+json": {
       "model_id": "c8449e3e71fc4d78b0c0cfb6601bb289",
       "version_major": 2,
       "version_minor": 0
      },
      "text/plain": [
       "  0%|          | 0/5 [00:00<?, ?it/s]"
      ]
     },
     "metadata": {},
     "output_type": "display_data"
    },
    {
     "data": {
      "application/vnd.jupyter.widget-view+json": {
       "model_id": "2107569be4ba4f68a7e943dcacf34b4d",
       "version_major": 2,
       "version_minor": 0
      },
      "text/plain": [
       "  0%|          | 0/5 [00:00<?, ?it/s]"
      ]
     },
     "metadata": {},
     "output_type": "display_data"
    },
    {
     "data": {
      "application/vnd.jupyter.widget-view+json": {
       "model_id": "eb2f9bbb1caf42bc8044fb4975f917d3",
       "version_major": 2,
       "version_minor": 0
      },
      "text/plain": [
       "  0%|          | 0/5 [00:00<?, ?it/s]"
      ]
     },
     "metadata": {},
     "output_type": "display_data"
    },
    {
     "data": {
      "application/vnd.jupyter.widget-view+json": {
       "model_id": "dbb9a89771eb4a04a548a6a8d5058c1f",
       "version_major": 2,
       "version_minor": 0
      },
      "text/plain": [
       "  0%|          | 0/5 [00:00<?, ?it/s]"
      ]
     },
     "metadata": {},
     "output_type": "display_data"
    }
   ],
   "source": [
    "path = '/work/FAC/FGSE/IDYST/tbeucler/default/freddy0218/'\n",
    "suffix = '_smooth_preproc_dict1b_g'\n",
    "yTRUTH= windrates_real_maria(path=path,suffix=suffix,uvwheatpath=None,LT=24,case='Maria')"
   ]
  },
  {
   "cell_type": "code",
   "execution_count": 165,
   "id": "7f4c9e59-e64d-4254-9723-ac7e7b043224",
   "metadata": {},
   "outputs": [],
   "source": [
    "class OptimMLR_all_3D_simple_lwsw(torch.nn.Module):\n",
    "    def __init__(self):\n",
    "        #super(OptimMLR_all_2D, self).__init__()\n",
    "        super(OptimMLR_all_3D_simple_lwsw, self).__init__()\n",
    "        ############################################################\n",
    "        # Input channels\n",
    "        ############################################################\n",
    "        brchsize = [10,10]#[54,26,50,75,12,10,10]\n",
    "        self.dense1 = torch.nn.Linear(brchsize[0], 1)\n",
    "        self.dense2 = torch.nn.Linear(brchsize[1], 1)\n",
    "        #self.dense3 = torch.nn.Linear(brchsize[2], 1)\n",
    "        #self.dense4 = torch.nn.Linear(brchsize[3], 1)\n",
    "        #self.dense5 = torch.nn.Linear(brchsize[4], 1)\n",
    "        #self.dense6 = torch.nn.Linear(brchsize[5], 1)\n",
    "        #self.dense7 = torch.nn.Linear(brchsize[6], 1)\n",
    "        ############################################################\n",
    "        # Final Dense Layer\n",
    "        ############################################################\n",
    "        self.denseout = torch.nn.Linear(2,205)#106)\n",
    "        \n",
    "    def forward(self,X):\n",
    "        brchindex = list(np.asarray([0,54,26,50,75,12,10,10]).cumsum())\n",
    "        X_u, X_v, X_w, X_th = X[:,brchindex[0]:brchindex[1]],X[:,brchindex[1]:brchindex[2]],X[:,brchindex[2]:brchindex[3]],X[:,brchindex[3]:brchindex[4]]\n",
    "        X_hdia, X_lw, X_sw = X[:,brchindex[4]:brchindex[5]],X[:,brchindex[5]:brchindex[6]],X[:,brchindex[6]:brchindex[7]]\n",
    "        ############################################################\n",
    "        # Optimal PC layer\n",
    "        ############################################################\n",
    "        bestlw = self.dense1(X_lw)\n",
    "        bestsw = self.dense2(X_sw)\n",
    "        ############################################################\n",
    "        # Concat\n",
    "        ############################################################\n",
    "        bestPC = torch.cat((bestlw,bestsw),1)\n",
    "        ############################################################\n",
    "        # Prediction layer\n",
    "        ############################################################\n",
    "        outpred = self.denseout(bestPC)\n",
    "        return outpred"
   ]
  },
  {
   "cell_type": "code",
   "execution_count": 166,
   "id": "b80c3130-153f-4871-b197-f408824c9ac8",
   "metadata": {
    "tags": []
   },
   "outputs": [],
   "source": [
    "class OptimMLR_all_3D_simple_lwswu(torch.nn.Module):\n",
    "    def __init__(self):\n",
    "        #super(OptimMLR_all_2D, self).__init__()\n",
    "        super(OptimMLR_all_3D_simple_lwswu, self).__init__()\n",
    "        ############################################################\n",
    "        # Input channels\n",
    "        ############################################################\n",
    "        brchsize = [54,10,10]#[54,26,50,75,12,10,10]\n",
    "        self.dense1 = torch.nn.Linear(brchsize[0], 1)\n",
    "        self.dense2 = torch.nn.Linear(brchsize[1], 1)\n",
    "        self.dense3 = torch.nn.Linear(brchsize[2], 1)\n",
    "        #self.dense4 = torch.nn.Linear(brchsize[3], 1)\n",
    "        #self.dense5 = torch.nn.Linear(brchsize[4], 1)\n",
    "        #self.dense6 = torch.nn.Linear(brchsize[5], 1)\n",
    "        #self.dense7 = torch.nn.Linear(brchsize[6], 1)\n",
    "        ############################################################\n",
    "        # Final Dense Layer\n",
    "        ############################################################\n",
    "        self.denseout = torch.nn.Linear(3,205)#106)\n",
    "        \n",
    "    def forward(self,X):\n",
    "        brchindex = list(np.asarray([54,26,50,75,12,10,10]).cumsum())\n",
    "        X_u, X_v, X_w, X_th = X[:,brchindex[0]:brchindex[1]],X[:,brchindex[1]:brchindex[2]],X[:,brchindex[2]:brchindex[3]],X[:,brchindex[3]:brchindex[4]]\n",
    "        X_hdia, X_lw, X_sw = X[:,brchindex[4]:brchindex[5]],X[:,brchindex[5]:brchindex[6]],X[:,brchindex[6]:brchindex[7]]\n",
    "        ############################################################\n",
    "        # Optimal PC layer\n",
    "        ############################################################\n",
    "        bestu = self.dense1(X_u)\n",
    "        bestlw = self.dense2(X_lw)\n",
    "        bestsw = self.dense3(X_sw)\n",
    "        ############################################################\n",
    "        # Concat\n",
    "        ############################################################\n",
    "        bestPC = torch.cat((bestu,bestlw,bestsw),1)\n",
    "        ############################################################\n",
    "        # Prediction layer\n",
    "        ############################################################\n",
    "        outpred = self.denseout(bestPC)\n",
    "        return outpred"
   ]
  },
  {
   "cell_type": "code",
   "execution_count": 167,
   "id": "fb351ce3-1f2a-4465-8b69-c0b4407bb751",
   "metadata": {
    "tags": []
   },
   "outputs": [],
   "source": [
    "class OptimMLR_all_3D_simple_lwswu(torch.nn.Module):\n",
    "    def __init__(self):\n",
    "        #super(OptimMLR_all_2D, self).__init__()\n",
    "        super(OptimMLR_all_3D_simple_lwswu, self).__init__()\n",
    "        ############################################################\n",
    "        # Input channels\n",
    "        ############################################################\n",
    "        brchsize = [54,10,10]#[54,26,50,75,12,10,10]\n",
    "        self.dense1 = torch.nn.Linear(brchsize[0], 1)\n",
    "        self.dense2 = torch.nn.Linear(brchsize[1], 1)\n",
    "        self.dense3 = torch.nn.Linear(brchsize[2], 1)\n",
    "        #self.dense4 = torch.nn.Linear(brchsize[3], 1)\n",
    "        #self.dense5 = torch.nn.Linear(brchsize[4], 1)\n",
    "        #self.dense6 = torch.nn.Linear(brchsize[5], 1)\n",
    "        #self.dense7 = torch.nn.Linear(brchsize[6], 1)\n",
    "        ############################################################\n",
    "        # Final Dense Layer\n",
    "        ############################################################\n",
    "        self.denseout = torch.nn.Linear(3,205)#106)\n",
    "        \n",
    "    def forward(self,X):\n",
    "        brchindex = list(np.asarray([0,54,26,50,75,12,10,10]).cumsum())\n",
    "        X_u, X_v, X_w, X_th = X[:,brchindex[0]:brchindex[1]],X[:,brchindex[1]:brchindex[2]],X[:,brchindex[2]:brchindex[3]],X[:,brchindex[3]:brchindex[4]]\n",
    "        X_hdia, X_lw, X_sw = X[:,brchindex[4]:brchindex[5]],X[:,brchindex[5]:brchindex[6]],X[:,brchindex[6]:brchindex[7]]\n",
    "        ############################################################\n",
    "        # Optimal PC layer\n",
    "        ############################################################\n",
    "        bestu = self.dense1(X_u)\n",
    "        bestlw = self.dense2(X_lw)\n",
    "        bestsw = self.dense3(X_sw)\n",
    "        ############################################################\n",
    "        # Concat\n",
    "        ############################################################\n",
    "        bestPC = torch.cat((bestu,bestlw,bestsw),1)\n",
    "        ############################################################\n",
    "        # Prediction layer\n",
    "        ############################################################\n",
    "        outpred = self.denseout(bestPC)\n",
    "        return outpred"
   ]
  },
  {
   "cell_type": "code",
   "execution_count": 168,
   "id": "ab625051-be22-4ceb-a779-8de9fede66c6",
   "metadata": {
    "tags": []
   },
   "outputs": [],
   "source": [
    "class OptimMLR_all_3D_simple_lwswv(torch.nn.Module):\n",
    "    def __init__(self):\n",
    "        #super(OptimMLR_all_2D, self).__init__()\n",
    "        super(OptimMLR_all_3D_simple_lwswv, self).__init__()\n",
    "        ############################################################\n",
    "        # Input channels\n",
    "        ############################################################\n",
    "        brchsize = [26,10,10]#[54,26,50,75,12,10,10]\n",
    "        self.dense1 = torch.nn.Linear(brchsize[0], 1)\n",
    "        self.dense2 = torch.nn.Linear(brchsize[1], 1)\n",
    "        self.dense3 = torch.nn.Linear(brchsize[2], 1)\n",
    "        #self.dense4 = torch.nn.Linear(brchsize[3], 1)\n",
    "        #self.dense5 = torch.nn.Linear(brchsize[4], 1)\n",
    "        #self.dense6 = torch.nn.Linear(brchsize[5], 1)\n",
    "        #self.dense7 = torch.nn.Linear(brchsize[6], 1)\n",
    "        ############################################################\n",
    "        # Final Dense Layer\n",
    "        ############################################################\n",
    "        self.denseout = torch.nn.Linear(3,205)#106)\n",
    "        \n",
    "    def forward(self,X):\n",
    "        brchindex = list(np.asarray([0,54,26,50,75,12,10,10]).cumsum())\n",
    "        X_u, X_v, X_w, X_th = X[:,brchindex[0]:brchindex[1]],X[:,brchindex[1]:brchindex[2]],X[:,brchindex[2]:brchindex[3]],X[:,brchindex[3]:brchindex[4]]\n",
    "        X_hdia, X_lw, X_sw = X[:,brchindex[4]:brchindex[5]],X[:,brchindex[5]:brchindex[6]],X[:,brchindex[6]:brchindex[7]]\n",
    "        ############################################################\n",
    "        # Optimal PC layer\n",
    "        ############################################################\n",
    "        bestv = self.dense1(X_v)\n",
    "        bestlw = self.dense2(X_lw)\n",
    "        bestsw = self.dense3(X_sw)\n",
    "        ############################################################\n",
    "        # Concat\n",
    "        ############################################################\n",
    "        bestPC = torch.cat((bestv,bestlw,bestsw),1)\n",
    "        ############################################################\n",
    "        # Prediction layer\n",
    "        ############################################################\n",
    "        outpred = self.denseout(bestPC)\n",
    "        return outpred"
   ]
  },
  {
   "cell_type": "code",
   "execution_count": 169,
   "id": "cbc63c7a-6b7d-494d-ba16-43721a95fc0d",
   "metadata": {
    "tags": []
   },
   "outputs": [],
   "source": [
    "class OptimMLR_all_3D_simple_lwsww(torch.nn.Module):\n",
    "    def __init__(self):\n",
    "        #super(OptimMLR_all_2D, self).__init__()\n",
    "        super(OptimMLR_all_3D_simple_lwsww, self).__init__()\n",
    "        ############################################################\n",
    "        # Input channels\n",
    "        ############################################################\n",
    "        brchsize = [50,10,10]#[54,26,50,75,12,10,10]\n",
    "        self.dense1 = torch.nn.Linear(brchsize[0], 1)\n",
    "        self.dense2 = torch.nn.Linear(brchsize[1], 1)\n",
    "        self.dense3 = torch.nn.Linear(brchsize[2], 1)\n",
    "        #self.dense4 = torch.nn.Linear(brchsize[3], 1)\n",
    "        #self.dense5 = torch.nn.Linear(brchsize[4], 1)\n",
    "        #self.dense6 = torch.nn.Linear(brchsize[5], 1)\n",
    "        #self.dense7 = torch.nn.Linear(brchsize[6], 1)\n",
    "        ############################################################\n",
    "        # Final Dense Layer\n",
    "        ############################################################\n",
    "        self.denseout = torch.nn.Linear(3,205)#106)\n",
    "        \n",
    "    def forward(self,X):\n",
    "        brchindex = list(np.asarray([0,54,26,50,75,12,10,10]).cumsum())\n",
    "        X_u, X_v, X_w, X_th = X[:,brchindex[0]:brchindex[1]],X[:,brchindex[1]:brchindex[2]],X[:,brchindex[2]:brchindex[3]],X[:,brchindex[3]:brchindex[4]]\n",
    "        X_hdia, X_lw, X_sw = X[:,brchindex[4]:brchindex[5]],X[:,brchindex[5]:brchindex[6]],X[:,brchindex[6]:brchindex[7]]\n",
    "        ############################################################\n",
    "        # Optimal PC layer\n",
    "        ############################################################\n",
    "        bestw = self.dense1(X_w)\n",
    "        bestlw = self.dense2(X_lw)\n",
    "        bestsw = self.dense3(X_sw)\n",
    "        ############################################################\n",
    "        # Concat\n",
    "        ############################################################\n",
    "        bestPC = torch.cat((bestw,bestlw,bestsw),1)\n",
    "        ############################################################\n",
    "        # Prediction layer\n",
    "        ############################################################\n",
    "        outpred = self.denseout(bestPC)\n",
    "        return outpred"
   ]
  },
  {
   "cell_type": "code",
   "execution_count": 170,
   "id": "809a73b2-6ce1-4b8b-a624-d32c1c889182",
   "metadata": {
    "tags": []
   },
   "outputs": [],
   "source": [
    "class OptimMLR_all_3D_simple_lwswth(torch.nn.Module):\n",
    "    def __init__(self):\n",
    "        #super(OptimMLR_all_2D, self).__init__()\n",
    "        super(OptimMLR_all_3D_simple_lwswth, self).__init__()\n",
    "        ############################################################\n",
    "        # Input channels\n",
    "        ############################################################\n",
    "        brchsize = [75,10,10]#[54,26,50,75,12,10,10]\n",
    "        self.dense1 = torch.nn.Linear(brchsize[0], 1)\n",
    "        self.dense2 = torch.nn.Linear(brchsize[1], 1)\n",
    "        self.dense3 = torch.nn.Linear(brchsize[2], 1)\n",
    "        #self.dense4 = torch.nn.Linear(brchsize[3], 1)\n",
    "        #self.dense5 = torch.nn.Linear(brchsize[4], 1)\n",
    "        #self.dense6 = torch.nn.Linear(brchsize[5], 1)\n",
    "        #self.dense7 = torch.nn.Linear(brchsize[6], 1)\n",
    "        ############################################################\n",
    "        # Final Dense Layer\n",
    "        ############################################################\n",
    "        self.denseout = torch.nn.Linear(3,205)#106)\n",
    "        \n",
    "    def forward(self,X):\n",
    "        brchindex = list(np.asarray([54,26,50,75,12,10,10]).cumsum())\n",
    "        X_u, X_v, X_w, X_th = X[:,brchindex[0]:brchindex[1]],X[:,brchindex[1]:brchindex[2]],X[:,brchindex[2]:brchindex[3]],X[:,brchindex[3]:brchindex[4]]\n",
    "        X_hdia, X_lw, X_sw = X[:,brchindex[4]:brchindex[5]],X[:,brchindex[5]:brchindex[6]],X[:,brchindex[6]:brchindex[7]]\n",
    "        ############################################################\n",
    "        # Optimal PC layer\n",
    "        ############################################################\n",
    "        bestth = self.dense1(X_th)\n",
    "        bestlw = self.dense2(X_lw)\n",
    "        bestsw = self.dense3(X_sw)\n",
    "        ############################################################\n",
    "        # Concat\n",
    "        ############################################################\n",
    "        bestPC = torch.cat((bestth,bestlw,bestsw),1)\n",
    "        ############################################################\n",
    "        # Prediction layer\n",
    "        ############################################################\n",
    "        outpred = self.denseout(bestPC)\n",
    "        return outpred"
   ]
  },
  {
   "cell_type": "code",
   "execution_count": 171,
   "id": "c5195d03-4790-4b1e-81fb-e310aaa4d75d",
   "metadata": {},
   "outputs": [],
   "source": [
    "class OptimMLR_all_3D_simple_lwswhdia(torch.nn.Module):\n",
    "    def __init__(self):\n",
    "        #super(OptimMLR_all_2D, self).__init__()\n",
    "        super(OptimMLR_all_3D_simple_lwswhdia, self).__init__()\n",
    "        ############################################################\n",
    "        # Input channels\n",
    "        ############################################################\n",
    "        brchsize = [12,10,10]#[54,26,50,75,12,10,10]\n",
    "        self.dense1 = torch.nn.Linear(brchsize[0], 1)\n",
    "        self.dense2 = torch.nn.Linear(brchsize[1], 1)\n",
    "        self.dense3 = torch.nn.Linear(brchsize[2], 1)\n",
    "        #self.dense4 = torch.nn.Linear(brchsize[3], 1)\n",
    "        #self.dense5 = torch.nn.Linear(brchsize[4], 1)\n",
    "        #self.dense6 = torch.nn.Linear(brchsize[5], 1)\n",
    "        #self.dense7 = torch.nn.Linear(brchsize[6], 1)\n",
    "        ############################################################\n",
    "        # Final Dense Layer\n",
    "        ############################################################\n",
    "        self.denseout = torch.nn.Linear(3,205)#106)\n",
    "        \n",
    "    def forward(self,X):\n",
    "        brchindex = list(np.asarray([54,26,50,75,12,10,10]).cumsum())\n",
    "        X_u, X_v, X_w, X_th = X[:,brchindex[0]:brchindex[1]],X[:,brchindex[1]:brchindex[2]],X[:,brchindex[2]:brchindex[3]],X[:,brchindex[3]:brchindex[4]]\n",
    "        X_hdia, X_lw, X_sw = X[:,brchindex[4]:brchindex[5]],X[:,brchindex[5]:brchindex[6]],X[:,brchindex[6]:brchindex[7]]\n",
    "        ############################################################\n",
    "        # Optimal PC layer\n",
    "        ############################################################\n",
    "        besthdia = self.dense1(X_hdia)\n",
    "        bestlw = self.dense2(X_lw)\n",
    "        bestsw = self.dense3(X_sw)\n",
    "        ############################################################\n",
    "        # Concat\n",
    "        ############################################################\n",
    "        bestPC = torch.cat((besthdia,bestlw,bestsw),1)\n",
    "        ############################################################\n",
    "        # Prediction layer\n",
    "        ############################################################\n",
    "        outpred = self.denseout(bestPC)\n",
    "        return outpred"
   ]
  },
  {
   "cell_type": "code",
   "execution_count": 96,
   "id": "8e0dd158-db39-477d-8b0e-da175d8bfcaa",
   "metadata": {
    "jupyter": {
     "source_hidden": true
    },
    "tags": []
   },
   "outputs": [],
   "source": [
    "class R2Loss(torch.nn.Module):\n",
    "    \n",
    "    def forward(self, y_pred, y):\n",
    "        var_y = torch.var(y, unbiased=False)\n",
    "        return -(1.0 - torch.nn.functional.mse_loss(y_pred, y, reduction=\"mean\") / var_y)\n",
    "    \n",
    "class MSE_physicalLoss(torch.nn.Module):\n",
    "    def __init__(self, pcs=None, wantcomps=None, variances=None):\n",
    "        super(MSE_physicalLoss, self).__init__()\n",
    "        self.pcs = pcs\n",
    "        self.wantcomps = wantcomps\n",
    "        self.variances = variances\n",
    "        \n",
    "    def forward(self, y_pred, y):\n",
    "        def myscore(y_pred, y, var_y):\n",
    "            return torch.mean(torch.square(y - y_pred).sum()).div(var_y)\n",
    "            #var_y = torch.var(y, unbiased=False)\n",
    "            #return (torch.nn.functional.mse_loss(y_pred, y, reduction=\"mean\") / var_y) #mse/var\n",
    "        \"\"\"\n",
    "        1. Here we slice the feature axis to separate samples into u/v/w/theta components\n",
    "        \"\"\"\n",
    "        y_pred_u, y_u = y_pred[:,0:self.wantcomps[0]], y[:,0:self.wantcomps[0]]\n",
    "        y_pred_v, y_v = y_pred[:,self.wantcomps[0]:self.wantcomps[0]+self.wantcomps[1]], y[:,self.wantcomps[0]:self.wantcomps[0]+self.wantcomps[1]]\n",
    "        y_pred_w, y_w = y_pred[:,self.wantcomps[0]+self.wantcomps[1]:self.wantcomps[0]+self.wantcomps[1]+self.wantcomps[2]], \\\n",
    "        y[:,self.wantcomps[0]+self.wantcomps[1]:self.wantcomps[0]+self.wantcomps[1]+self.wantcomps[2]]\n",
    "        y_pred_th, y_th = y_pred[:,self.wantcomps[0]+self.wantcomps[1]+self.wantcomps[2]:self.wantcomps[0]+self.wantcomps[1]+self.wantcomps[2]+self.wantcomps[3]], \\\n",
    "        y[:,self.wantcomps[0]+self.wantcomps[1]+self.wantcomps[2]:self.wantcomps[0]+self.wantcomps[1]+self.wantcomps[2]+self.wantcomps[3]]\n",
    "        \"\"\"\n",
    "        2. Here we convert PCs into physical space\n",
    "        \"\"\"\n",
    "        uphys_pred, uphys_real = torch.matmul(y_pred_u, self.pcs[0]),torch.matmul(y_u, self.pcs[0])\n",
    "        vphys_pred, vphys_real = torch.matmul(y_pred_v, self.pcs[1]),torch.matmul(y_v, self.pcs[1])\n",
    "        wphys_pred, wphys_real = torch.matmul(y_pred_w, self.pcs[2]),torch.matmul(y_w, self.pcs[2])\n",
    "        thphys_pred, thphys_real = torch.matmul(y_pred_th, self.pcs[3]),torch.matmul(y_th, self.pcs[3])\n",
    "        \n",
    "        u_mse, v_mse, w_mse, th_mse = myscore(uphys_pred,uphys_real,self.variances[0]),myscore(vphys_pred,vphys_real,self.variances[1]),\\\n",
    "        myscore(wphys_pred,wphys_real,self.variances[2]),myscore(thphys_pred,thphys_real,self.variances[3])\n",
    "        \n",
    "        msesum = u_mse+v_mse+w_mse+th_mse\n",
    "        return msesum/4#, u_mse,v_mse,w_mse,th_mse\n",
    "    \n",
    "def eval_model(model, dataloader, loss_func, metric_func):\n",
    "    with torch.no_grad():\n",
    "        loss = 0\n",
    "        metric = 0\n",
    "        \n",
    "        global_sum = 0\n",
    "        label_size = 0\n",
    "        for feature, labels in dataloader:\n",
    "            global_sum += labels.sum()\n",
    "            label_size += len(labels)\n",
    "            \n",
    "        global_mean = global_sum / label_size\n",
    "        for features, labels in dataloader:\n",
    "            pred = model(features)\n",
    "            batch_loss = loss_func(pred, labels)\n",
    "            batch_metric = metric_func(pred, labels, global_mean)\n",
    "            \n",
    "            loss+=batch_loss.item()\n",
    "            metric+=batch_metric.item()\n",
    "            \n",
    "        num_batches = len(dataloader)\n",
    "        \n",
    "        loss = loss/num_batches\n",
    "        metric = metric/num_batches\n",
    "        return (loss, metric)\n",
    "    \n",
    "# Customzied evaluation metric NSE for validation set and test set # \n",
    "def calc_nse(sim: torch.FloatTensor, obs: torch.FloatTensor, global_obs_mean: torch.FloatTensor) -> float:\n",
    "    \"\"\"Calculate the Nash-Sutcliff-Efficiency coefficient.\n",
    "\n",
    "    :param obs: Array containing the observations\n",
    "    :param sim: Array containing the simulations\n",
    "    :param global_obs_mean: mean of the whole observation series\n",
    "    :return: NSE value.\n",
    "    \"\"\"\n",
    "    numerator = torch.square(sim - obs).sum()\n",
    "    #denominator = torch.square(obs - global_obs_mean).sum()\n",
    "    #nse_val = 1 - numerator / denominator\n",
    "\n",
    "    return numerator\n",
    "\n",
    "class EarlyStopper:\n",
    "    def __init__(self, patience=1, min_delta=0):\n",
    "        self.patience = patience\n",
    "        self.min_delta = min_delta\n",
    "        self.counter = 0\n",
    "        self.min_validation_loss = np.inf\n",
    "\n",
    "    def early_stop(self, validation_loss):\n",
    "        if validation_loss < self.min_validation_loss:\n",
    "            self.min_validation_loss = validation_loss\n",
    "            self.counter = 0\n",
    "        elif validation_loss > (self.min_validation_loss + self.min_delta):\n",
    "            self.counter += 1\n",
    "            if self.counter >= self.patience:\n",
    "                return True\n",
    "        return False\n",
    "    \n",
    "class EarlyStopping:\n",
    "    \"\"\"Early stops the training if validation loss doesn't improve after a given patience.\"\"\"\n",
    "    def __init__(self, patience=7, verbose=False, delta=0, path='checkpoint.pt', trace_func=print):\n",
    "        \"\"\"\n",
    "        Args:\n",
    "            patience (int): How long to wait after last time validation loss improved.\n",
    "                            Default: 7\n",
    "            verbose (bool): If True, prints a message for each validation loss improvement. \n",
    "                            Default: False\n",
    "            delta (float): Minimum change in the monitored quantity to qualify as an improvement.\n",
    "                            Default: 0\n",
    "            path (str): Path for the checkpoint to be saved to.\n",
    "                            Default: 'checkpoint.pt'\n",
    "            trace_func (function): trace print function.\n",
    "                            Default: print            \n",
    "        \"\"\"\n",
    "        self.patience = patience\n",
    "        self.verbose = verbose\n",
    "        self.counter = 0\n",
    "        self.best_score = None\n",
    "        self.early_stop = False\n",
    "        self.val_loss_min = np.Inf\n",
    "        self.delta = delta\n",
    "        self.path = path\n",
    "        self.trace_func = trace_func\n",
    "    def __call__(self, val_loss, model):\n",
    "\n",
    "        score = -val_loss\n",
    "\n",
    "        if self.best_score is None:\n",
    "            self.best_score = score\n",
    "            self.save_checkpoint(val_loss, model)\n",
    "        elif score < self.best_score + self.delta:\n",
    "            self.counter += 1\n",
    "            #self.trace_func(f'EarlyStopping counter: {self.counter} out of {self.patience}')\n",
    "            if self.counter >= self.patience:\n",
    "                self.early_stop = True\n",
    "        else:\n",
    "            self.best_score = score\n",
    "            self.save_checkpoint(val_loss, model)\n",
    "            self.counter = 0\n",
    "        return self.early_stop\n",
    "\n",
    "    def save_checkpoint(self, val_loss, model):\n",
    "        '''Saves model when validation loss decrease.'''\n",
    "        if self.verbose:\n",
    "            self.trace_func(f'Validation loss decreased ({self.val_loss_min:.6f} --> {val_loss:.6f}).  Saving model ...')\n",
    "        torch.save(model.state_dict(), self.path)\n",
    "        self.val_loss_min = val_loss"
   ]
  },
  {
   "cell_type": "code",
   "execution_count": 97,
   "id": "57217e48-eda9-4ec0-84c8-c7ea001334d4",
   "metadata": {
    "jupyter": {
     "source_hidden": true
    },
    "tags": []
   },
   "outputs": [],
   "source": [
    "def train_model(optimizer=None,scheduler=None,numepochs=None,early_stopper=None,variance_store=None,lossfunc=None,regularization='None',l1_lambda=0.01):\n",
    "    # Custom loss: MSE_physicalLoss(eigenvectors,wcomps,variance_store)\n",
    "    schedulerCY,schedulerLS = scheduler[1],scheduler[0]\n",
    "    train_losses,trainu_losses,trainv_losses,trainw_losses,trainth_losses = [],[],[],[],[]\n",
    "    val_losses = []\n",
    "    val_NSEs = []\n",
    "    for epoch in tqdm(range(int(num_epochs))):\n",
    "        \"\"\"\n",
    "        Initialize loss\n",
    "        \"\"\"\n",
    "        train_loss = 0\n",
    "        \"\"\"\n",
    "        Operate per batch\n",
    "        \"\"\"\n",
    "        for features, labels in train_loader:\n",
    "            optimizer.zero_grad()\n",
    "            \n",
    "            prediction = model(features)\n",
    "            batch_loss = lossfunc(prediction, labels)#loss_func(prediction, labels)\n",
    "            \n",
    "            if regularization=='L1':\n",
    "                #L1 regularization-------------------------------\n",
    "                l1_norm = sum(abs(p) for p in model.parameters())\n",
    "                #-------------------------------------------------\n",
    "                batch_loss = batch_loss + l1_lambda * l1_norm\n",
    "                batch_loss.backward()\n",
    "            elif regularization=='None':\n",
    "                batch_loss.backward()                \n",
    "            \n",
    "            optimizer.step()\n",
    "            schedulerCY.step()\n",
    "            \n",
    "            train_loss += batch_loss.item()\n",
    "            \n",
    "            \n",
    "        train_loss = train_loss / len(train_loader)\n",
    "        train_losses.append(train_loss)\n",
    "        val_loss, val_NSE = eval_model(model,\n",
    "                                       val_loader,\n",
    "                                       lossfunc,\n",
    "                                       calc_nse)\n",
    "        schedulerLS.step(val_loss)\n",
    "        \n",
    "        ##################################################################\n",
    "        # Early Stopping (valid / train)\n",
    "        ##################################################################\n",
    "        counter = 0\n",
    "        if len(val_losses)>=1:\n",
    "            best_score = val_losses[-1]\n",
    "            if val_loss > best_score:\n",
    "                counter += 1\n",
    "                val_NSEs.append(val_NSE)\n",
    "                val_losses.append(val_loss)\n",
    "                if counter >= 10:\n",
    "                    break\n",
    "            else:\n",
    "                val_NSEs.append(val_NSE)\n",
    "                val_losses.append(val_loss)\n",
    "        else:\n",
    "            val_NSEs.append(val_NSE)\n",
    "            val_losses.append(val_loss)\n",
    "        \n",
    "        if early_stopper.__call__(val_loss, model):\n",
    "            break\n",
    "        #if early_stopper.early_stop(val_loss):             \n",
    "        #    break\n",
    "            ##################################################################\n",
    "        #val_NSEs.append(val_NSE)\n",
    "        #val_losses.append(val_loss)\n",
    "        \n",
    "        if epoch % 500 == 0:\n",
    "            print((np.log10(train_loss),np.log10(val_loss)))\n",
    "            \n",
    "    #return model, {'train':train_losses,'utrain':trainu_losses,'vtrain':trainv_losses,'wtrain':trainw_losses,'thtrain':trainth_losses,'val':val_losses} \n",
    "    return model, {'train':train_losses,'val':val_losses} "
   ]
  },
  {
   "cell_type": "code",
   "execution_count": 175,
   "id": "58a8cb90-5c6a-45de-b108-675308b64b28",
   "metadata": {},
   "outputs": [
    {
     "data": {
      "application/vnd.jupyter.widget-view+json": {
       "model_id": "92e4ec3f53384a81a4425a032f8cb58c",
       "version_major": 2,
       "version_minor": 0
      },
      "text/plain": [
       "  0%|          | 0/18000 [00:00<?, ?it/s]"
      ]
     },
     "metadata": {},
     "output_type": "display_data"
    },
    {
     "name": "stdout",
     "output_type": "stream",
     "text": [
      "(-0.542459870563863, -0.6359118088965873)\n",
      "(-1.0983300643028762, -1.1105463564373057)\n",
      "(-1.9837755732965565, -1.8808013045619574)\n",
      "(-3.092286254614659, -2.847330034649336)\n",
      "(-4.293773922588387, -4.3158536021352685)\n"
     ]
    },
    {
     "data": {
      "application/vnd.jupyter.widget-view+json": {
       "model_id": "743b079df4d243e7a32333269a9cb3e5",
       "version_major": 2,
       "version_minor": 0
      },
      "text/plain": [
       "  0%|          | 0/18000 [00:00<?, ?it/s]"
      ]
     },
     "metadata": {},
     "output_type": "display_data"
    },
    {
     "name": "stdout",
     "output_type": "stream",
     "text": [
      "(-0.5821636818257716, -0.747037415173495)\n",
      "(-1.0857503043539776, -1.155065913235442)\n",
      "(-1.8794919598221271, -1.8369645762839848)\n",
      "(-3.1229555691439463, -2.9773740048062134)\n",
      "(-4.302487937317794, -4.321689692889816)\n"
     ]
    },
    {
     "data": {
      "application/vnd.jupyter.widget-view+json": {
       "model_id": "3a2fddee24774b999d664d1ae3564ac2",
       "version_major": 2,
       "version_minor": 0
      },
      "text/plain": [
       "  0%|          | 0/18000 [00:00<?, ?it/s]"
      ]
     },
     "metadata": {},
     "output_type": "display_data"
    },
    {
     "name": "stdout",
     "output_type": "stream",
     "text": [
      "(-0.4456477333246693, -0.5751816918765791)\n",
      "(-0.9662433059015787, -1.0548994883496148)\n",
      "(-1.7203421174421067, -1.8204931232998323)\n",
      "(-2.866240626979171, -3.2079326950432363)\n",
      "(-3.864500564101049, -4.228535105725884)\n",
      "(-4.307294120531181, -4.320553502128652)\n"
     ]
    },
    {
     "data": {
      "application/vnd.jupyter.widget-view+json": {
       "model_id": "adcdc21658394fbca0198e4384073fe2",
       "version_major": 2,
       "version_minor": 0
      },
      "text/plain": [
       "  0%|          | 0/18000 [00:00<?, ?it/s]"
      ]
     },
     "metadata": {},
     "output_type": "display_data"
    },
    {
     "name": "stdout",
     "output_type": "stream",
     "text": [
      "(-0.44504476626129463, -0.6061513526274068)\n",
      "(-0.9397774586711254, -0.9862411858506848)\n",
      "(-1.5693970126473282, -1.5561208107499862)\n",
      "(-2.645192363379091, -2.645226885331456)\n",
      "(-4.286431968458159, -4.299316060526876)\n"
     ]
    },
    {
     "data": {
      "application/vnd.jupyter.widget-view+json": {
       "model_id": "9b9641050f574b26b07eee2375d8cb61",
       "version_major": 2,
       "version_minor": 0
      },
      "text/plain": [
       "  0%|          | 0/18000 [00:00<?, ?it/s]"
      ]
     },
     "metadata": {},
     "output_type": "display_data"
    },
    {
     "name": "stdout",
     "output_type": "stream",
     "text": [
      "(-0.463081042122224, -0.675075870031819)\n",
      "(-0.9979872419118023, -1.0369440827947287)\n",
      "(-1.8146720642439307, -1.7645231602810771)\n",
      "(-2.9556869992873875, -2.926514926978323)\n",
      "(-4.3022330812489, -4.323041946903833)\n"
     ]
    },
    {
     "data": {
      "application/vnd.jupyter.widget-view+json": {
       "model_id": "ce112e55c0404dfbb9dbe5f527f0f667",
       "version_major": 2,
       "version_minor": 0
      },
      "text/plain": [
       "  0%|          | 0/18000 [00:00<?, ?it/s]"
      ]
     },
     "metadata": {},
     "output_type": "display_data"
    },
    {
     "name": "stdout",
     "output_type": "stream",
     "text": [
      "(-0.4883595557895775, -0.5911233297562075)\n",
      "(-1.1089017499079938, -1.1364167827773521)\n",
      "(-2.0973794664476353, -2.14098271459258)\n",
      "(-3.4102242179802547, -3.7821908233482873)\n",
      "(-4.089663904596129, -4.289713989093161)\n"
     ]
    },
    {
     "data": {
      "application/vnd.jupyter.widget-view+json": {
       "model_id": "362e85c7002d4ded9902e207737a40fc",
       "version_major": 2,
       "version_minor": 0
      },
      "text/plain": [
       "  0%|          | 0/18000 [00:00<?, ?it/s]"
      ]
     },
     "metadata": {},
     "output_type": "display_data"
    },
    {
     "name": "stdout",
     "output_type": "stream",
     "text": [
      "(-0.5192506068831872, -0.7204169344728643)\n",
      "(-1.0942584256495065, -1.2175854972350018)\n",
      "(-1.9767636217746147, -2.0690404131321167)\n",
      "(-3.954459517537052, -3.844066534394395)\n"
     ]
    },
    {
     "data": {
      "application/vnd.jupyter.widget-view+json": {
       "model_id": "76e4737f06724b5eb97756483c144ee9",
       "version_major": 2,
       "version_minor": 0
      },
      "text/plain": [
       "  0%|          | 0/18000 [00:00<?, ?it/s]"
      ]
     },
     "metadata": {},
     "output_type": "display_data"
    },
    {
     "name": "stdout",
     "output_type": "stream",
     "text": [
      "(-0.4114080574082281, -0.5634508562302485)\n",
      "(-1.0101592365041392, -1.1084621637660823)\n",
      "(-1.813738223200001, -1.841329231802528)\n",
      "(-3.2063214029951084, -3.0138276980391727)\n",
      "(-4.298706840092742, -4.267935572593117)\n"
     ]
    },
    {
     "data": {
      "application/vnd.jupyter.widget-view+json": {
       "model_id": "dcd39f356c8746d187f839a3a02e2593",
       "version_major": 2,
       "version_minor": 0
      },
      "text/plain": [
       "  0%|          | 0/18000 [00:00<?, ?it/s]"
      ]
     },
     "metadata": {},
     "output_type": "display_data"
    },
    {
     "name": "stdout",
     "output_type": "stream",
     "text": [
      "(-0.4797518847942645, -0.6847812038046736)\n",
      "(-1.0543576317533088, -1.1656201511872153)\n",
      "(-1.9135458620408923, -2.050924924521947)\n",
      "(-2.9769586739200307, -3.5098602509832704)\n",
      "(-4.0494355318307, -4.2816612131446785)\n"
     ]
    },
    {
     "data": {
      "application/vnd.jupyter.widget-view+json": {
       "model_id": "ed9622814be8449697d8b4cf8472b153",
       "version_major": 2,
       "version_minor": 0
      },
      "text/plain": [
       "  0%|          | 0/18000 [00:00<?, ?it/s]"
      ]
     },
     "metadata": {},
     "output_type": "display_data"
    },
    {
     "name": "stdout",
     "output_type": "stream",
     "text": [
      "(-0.5327654363706102, -0.6847044907922798)\n",
      "(-1.1314364533056858, -1.1736696075839925)\n",
      "(-1.9635176157625749, -1.974939836055966)\n",
      "(-3.5189322384924946, -3.4394906762135897)\n"
     ]
    },
    {
     "data": {
      "application/vnd.jupyter.widget-view+json": {
       "model_id": "642b37c9287f45e1a59c68e8b4e047c3",
       "version_major": 2,
       "version_minor": 0
      },
      "text/plain": [
       "  0%|          | 0/18000 [00:00<?, ?it/s]"
      ]
     },
     "metadata": {},
     "output_type": "display_data"
    },
    {
     "name": "stdout",
     "output_type": "stream",
     "text": [
      "(-0.4464337198433887, -0.6279363960479541)\n",
      "(-1.0371201449582297, -1.1250228676822194)\n",
      "(-1.9740560145736614, -2.0195096726728012)\n",
      "(-3.6037807718651362, -3.9175615516904503)\n",
      "(-4.304154441691754, -4.391324539443636)\n"
     ]
    },
    {
     "data": {
      "application/vnd.jupyter.widget-view+json": {
       "model_id": "06adcf9ddc4c4910970e7ca7dab76424",
       "version_major": 2,
       "version_minor": 0
      },
      "text/plain": [
       "  0%|          | 0/18000 [00:00<?, ?it/s]"
      ]
     },
     "metadata": {},
     "output_type": "display_data"
    },
    {
     "name": "stdout",
     "output_type": "stream",
     "text": [
      "(-0.5286010734505584, -0.6663137122059322)\n",
      "(-1.1257134831271793, -1.2078730248761438)\n",
      "(-2.121465754790326, -2.167167627417397)\n",
      "(-3.5941981395295266, -3.887739552182844)\n"
     ]
    },
    {
     "data": {
      "application/vnd.jupyter.widget-view+json": {
       "model_id": "1dba97d340d141b3ad0769c317458727",
       "version_major": 2,
       "version_minor": 0
      },
      "text/plain": [
       "  0%|          | 0/18000 [00:00<?, ?it/s]"
      ]
     },
     "metadata": {},
     "output_type": "display_data"
    },
    {
     "name": "stdout",
     "output_type": "stream",
     "text": [
      "(-0.5218108826383745, -0.7323133444184627)\n",
      "(-1.0985841325254693, -1.208722915075666)\n",
      "(-1.9749211851175956, -2.040993237693647)\n",
      "(-3.4140973911074797, -3.6486670500590077)\n",
      "(-4.302288879297278, -4.391583488249656)\n"
     ]
    },
    {
     "data": {
      "application/vnd.jupyter.widget-view+json": {
       "model_id": "137a0d6b5fbb4addbbe6b0d78be05bae",
       "version_major": 2,
       "version_minor": 0
      },
      "text/plain": [
       "  0%|          | 0/18000 [00:00<?, ?it/s]"
      ]
     },
     "metadata": {},
     "output_type": "display_data"
    },
    {
     "name": "stdout",
     "output_type": "stream",
     "text": [
      "(-0.4805322261560086, -0.6247352321146251)\n",
      "(-1.0669903326412737, -1.1593437986359068)\n",
      "(-2.013600268838711, -2.07115210684629)\n",
      "(-3.7396782339179864, -3.7654447829630215)\n"
     ]
    },
    {
     "data": {
      "application/vnd.jupyter.widget-view+json": {
       "model_id": "e2674973cf18436d8162cd60a13b9920",
       "version_major": 2,
       "version_minor": 0
      },
      "text/plain": [
       "  0%|          | 0/18000 [00:00<?, ?it/s]"
      ]
     },
     "metadata": {},
     "output_type": "display_data"
    },
    {
     "name": "stdout",
     "output_type": "stream",
     "text": [
      "(-0.5604502948989489, -0.7465680988090019)\n",
      "(-1.1334570020122836, -1.2175903501957197)\n",
      "(-1.912353306940007, -1.9590296034448695)\n",
      "(-3.323723742730291, -3.747128842672807)\n",
      "(-3.906494848120036, -4.256530022412067)\n",
      "(-4.283936306720301, -4.370471247009749)\n"
     ]
    },
    {
     "data": {
      "application/vnd.jupyter.widget-view+json": {
       "model_id": "3d139ff2a87d4f7abf79354aa18d3247",
       "version_major": 2,
       "version_minor": 0
      },
      "text/plain": [
       "  0%|          | 0/18000 [00:00<?, ?it/s]"
      ]
     },
     "metadata": {},
     "output_type": "display_data"
    },
    {
     "name": "stdout",
     "output_type": "stream",
     "text": [
      "(-0.6041712363239092, -0.5989729539158541)\n",
      "(-1.0450862821904519, -1.0116900312959407)\n",
      "(-1.6262044499899964, -1.5627039942198104)\n",
      "(-2.746423651951444, -2.4814484947932236)\n",
      "(-3.7884863487396414, -3.2079073902069917)\n",
      "(-4.155837558276546, -3.7546986329486787)\n",
      "(-4.3244577514621385, -4.215207119756427)\n"
     ]
    },
    {
     "data": {
      "application/vnd.jupyter.widget-view+json": {
       "model_id": "d7007364aad9441987dc77bb2451eb79",
       "version_major": 2,
       "version_minor": 0
      },
      "text/plain": [
       "  0%|          | 0/18000 [00:00<?, ?it/s]"
      ]
     },
     "metadata": {},
     "output_type": "display_data"
    },
    {
     "name": "stdout",
     "output_type": "stream",
     "text": [
      "(-0.49637372950008396, -0.558243483368041)\n",
      "(-0.9944098359561647, -0.9974137033425199)\n",
      "(-1.763257008895499, -1.7269327613795624)\n",
      "(-3.0151768106276458, -2.9681434423667636)\n",
      "(-4.281794112849757, -4.222056095269266)\n"
     ]
    },
    {
     "data": {
      "application/vnd.jupyter.widget-view+json": {
       "model_id": "9875054119b44c92882fdb844b6c78cb",
       "version_major": 2,
       "version_minor": 0
      },
      "text/plain": [
       "  0%|          | 0/18000 [00:00<?, ?it/s]"
      ]
     },
     "metadata": {},
     "output_type": "display_data"
    },
    {
     "name": "stdout",
     "output_type": "stream",
     "text": [
      "(-0.5052252127142711, -0.5019920042018522)\n",
      "(-1.0294719437859237, -0.972980318759012)\n",
      "(-1.8894864219895708, -1.8426159309790104)\n",
      "(-2.9908207647275424, -2.9841007052160355)\n",
      "(-4.335800538796437, -4.261640469001528)\n"
     ]
    },
    {
     "data": {
      "application/vnd.jupyter.widget-view+json": {
       "model_id": "b1833049af594843b44f166d88e6a409",
       "version_major": 2,
       "version_minor": 0
      },
      "text/plain": [
       "  0%|          | 0/18000 [00:00<?, ?it/s]"
      ]
     },
     "metadata": {},
     "output_type": "display_data"
    },
    {
     "name": "stdout",
     "output_type": "stream",
     "text": [
      "(-0.6175706447597503, -0.4732476494644887)\n",
      "(-1.116854186145046, -0.9963941325840684)\n",
      "(-1.9416813247538305, -1.7588705692319921)\n",
      "(-3.079923758580209, -2.5437456720623843)\n",
      "(-3.611399155516657, -2.996518966331597)\n",
      "(-4.024850621091215, -3.522678092900129)\n",
      "(-4.307418846515217, -4.146091289565992)\n"
     ]
    },
    {
     "data": {
      "application/vnd.jupyter.widget-view+json": {
       "model_id": "29ced1faeb5143a59259a08c25a161bf",
       "version_major": 2,
       "version_minor": 0
      },
      "text/plain": [
       "  0%|          | 0/18000 [00:00<?, ?it/s]"
      ]
     },
     "metadata": {},
     "output_type": "display_data"
    },
    {
     "name": "stdout",
     "output_type": "stream",
     "text": [
      "(-0.4882641964684502, -0.5329089982927264)\n",
      "(-0.9808746735861404, -0.9775882264511413)\n",
      "(-1.6586840245108514, -1.6870670654776232)\n",
      "(-2.647933367308363, -2.75642089956787)\n",
      "(-4.262301479855551, -4.113615676751119)\n"
     ]
    },
    {
     "data": {
      "application/vnd.jupyter.widget-view+json": {
       "model_id": "6cdf864441d0427698be0176257f07a3",
       "version_major": 2,
       "version_minor": 0
      },
      "text/plain": [
       "  0%|          | 0/18000 [00:00<?, ?it/s]"
      ]
     },
     "metadata": {},
     "output_type": "display_data"
    },
    {
     "name": "stdout",
     "output_type": "stream",
     "text": [
      "(-0.5893790151452263, -0.7567084779525716)\n",
      "(-1.2125805958711806, -1.1996510414287527)\n",
      "(-2.215912634020281, -1.52971569532332)\n",
      "(-3.182833720747568, -1.661451282690921)\n",
      "(-3.9017099333713174, -1.7346986129817192)\n",
      "(-4.21530328526315, -1.803802703250446)\n",
      "(-4.307128616554205, -1.856140370782)\n",
      "(-4.3663073332788125, -1.9105479972392507)\n",
      "(-4.385293979473364, -1.9552181444173093)\n",
      "(-4.396831328056678, -1.9965802785060494)\n",
      "(-4.40718374698502, -2.039510020074441)\n",
      "(-4.412883669631574, -2.078714403366726)\n",
      "(-4.419543605647027, -2.122237630335216)\n",
      "(-4.423665742837463, -2.166812243537609)\n",
      "(-4.426693281378683, -2.210178523235721)\n",
      "(-4.431481782499221, -2.2599175589762512)\n",
      "(-4.434220659757835, -2.307251928912399)\n",
      "(-4.435799476399922, -2.3559837154281036)\n",
      "(-4.435293503928248, -2.408411165935477)\n",
      "(-4.437649119695415, -2.4554633921018327)\n",
      "(-4.435717324018094, -2.5053104333134883)\n",
      "(-4.43788268088048, -2.55345877733774)\n",
      "(-4.437965493283539, -2.5972651291291236)\n",
      "(-4.439197250895667, -2.6446372941009924)\n",
      "(-4.439006468365191, -2.687073475911501)\n",
      "(-4.439090833447348, -2.7288204616580467)\n",
      "(-4.44030309286816, -2.772194692925849)\n",
      "(-4.439835558065139, -2.8102378069237095)\n",
      "(-4.439627078512487, -2.8504274165825296)\n",
      "(-4.439857797847998, -2.888639055024996)\n",
      "(-4.440757743118958, -2.923107827956624)\n",
      "(-4.440831091457062, -2.9600606376398173)\n",
      "(-4.440920603001523, -2.9925000554048022)\n",
      "(-4.4397956109722, -3.0238377696837078)\n",
      "(-4.440887794909856, -3.0554002953334027)\n",
      "(-4.441091981557786, -3.082747880040474)\n"
     ]
    },
    {
     "data": {
      "application/vnd.jupyter.widget-view+json": {
       "model_id": "503dbfa2ef514634b629593f91fb3e0d",
       "version_major": 2,
       "version_minor": 0
      },
      "text/plain": [
       "  0%|          | 0/18000 [00:00<?, ?it/s]"
      ]
     },
     "metadata": {},
     "output_type": "display_data"
    },
    {
     "name": "stdout",
     "output_type": "stream",
     "text": [
      "(-0.5639505375572151, -0.6204011600386505)\n",
      "(-1.1584617568236082, -1.03283734049961)\n",
      "(-2.070229238558973, -1.2680642623652485)\n",
      "(-3.2885078358262216, -1.3632215584718483)\n",
      "(-4.004527936803059, -1.4210395952635635)\n",
      "(-4.206823093400287, -1.4826381498013341)\n",
      "(-4.2680338692963256, -1.5400553940073702)\n",
      "(-4.327036871757116, -1.6009082129807326)\n",
      "(-4.380851716826734, -1.654575861317944)\n",
      "(-4.410788313512902, -1.7037716900629853)\n",
      "(-4.448018126204838, -1.752847796822153)\n",
      "(-4.484035245048336, -1.7948981305808753)\n",
      "(-4.502072849795091, -1.8382834362182443)\n",
      "(-4.512350278612909, -1.8790741032519467)\n",
      "(-4.515841433247477, -1.9149304524774133)\n",
      "(-4.520551234518933, -1.9526626854891924)\n",
      "(-4.524162450318951, -1.9855754434521833)\n",
      "(-4.524021023892921, -2.0174753730589168)\n",
      "(-4.526752986896525, -2.0504308289396174)\n",
      "(-4.527964686068223, -2.0795571615119095)\n",
      "(-4.5274542650296725, -2.1107130321173346)\n",
      "(-4.529481108710974, -2.1412902641303915)\n",
      "(-4.528859130743177, -2.1698166471400113)\n",
      "(-4.530397309358956, -2.201573910263384)\n",
      "(-4.530477243833925, -2.231317052377556)\n",
      "(-4.530438069417588, -2.2614554778968214)\n",
      "(-4.5297999854713895, -2.2939685373177565)\n",
      "(-4.530827704560092, -2.3237182629181703)\n",
      "(-4.531091503311592, -2.3563062898985896)\n",
      "(-4.53175652713127, -2.3889886687909843)\n",
      "(-4.530548178363523, -2.4199528672196093)\n",
      "(-4.53134624626316, -2.454411110649833)\n",
      "(-4.532378322800566, -2.4866582289296444)\n",
      "(-4.532773263960012, -2.519430406420163)\n",
      "(-4.532167278972308, -2.554767788227814)\n",
      "(-4.532495050729128, -2.5870165287291065)\n"
     ]
    },
    {
     "data": {
      "application/vnd.jupyter.widget-view+json": {
       "model_id": "246dd1991a0a4abd9b8b84a43cf47687",
       "version_major": 2,
       "version_minor": 0
      },
      "text/plain": [
       "  0%|          | 0/18000 [00:00<?, ?it/s]"
      ]
     },
     "metadata": {},
     "output_type": "display_data"
    },
    {
     "name": "stdout",
     "output_type": "stream",
     "text": [
      "(-0.5812725311289648, -0.6510262114545727)\n",
      "(-1.248374672479613, -1.1636521080372748)\n",
      "(-2.329648910940905, -1.624259888314626)\n",
      "(-3.8058058083926016, -1.8205045465825338)\n",
      "(-4.214497915571705, -1.963858782590084)\n",
      "(-4.271132909162649, -2.1027484015344964)\n",
      "(-4.320835007151243, -2.2223236401709876)\n",
      "(-4.345009901256491, -2.341898385671142)\n",
      "(-4.3548513869201075, -2.4401043062343963)\n",
      "(-4.357865278103155, -2.526059887602669)\n",
      "(-4.364025312695238, -2.6067551169179484)\n",
      "(-4.3659475106412895, -2.6730166463473335)\n",
      "(-4.367393489898999, -2.740830219748368)\n",
      "(-4.369759942708946, -2.8062489462251325)\n",
      "(-4.3719063626563, -2.866312092654205)\n",
      "(-4.372835148480455, -2.932250829862191)\n",
      "(-4.37392064009651, -2.992148741966163)\n",
      "(-4.37418759002841, -3.0512255683262586)\n",
      "(-4.375931193917874, -3.110949370313293)\n",
      "(-4.376660928271337, -3.16167886367088)\n",
      "(-4.378445649980154, -3.212342588434333)\n",
      "(-4.37866642395221, -3.2587259908524695)\n",
      "(-4.378948709024407, -3.297652645986953)\n",
      "(-4.380251013191603, -3.3355862765134714)\n",
      "(-4.382686368719815, -3.366433212543284)\n",
      "(-4.382822929882707, -3.3932202427685705)\n",
      "(-4.384644423226293, -3.4165817132543226)\n",
      "(-4.387163492672708, -3.43345596363873)\n",
      "(-4.3893592439113815, -3.447499884013582)\n",
      "(-4.392602423027344, -3.456959078528449)\n"
     ]
    },
    {
     "data": {
      "application/vnd.jupyter.widget-view+json": {
       "model_id": "15b54f7d282e42f5af0a0ec4f2ee6a90",
       "version_major": 2,
       "version_minor": 0
      },
      "text/plain": [
       "  0%|          | 0/18000 [00:00<?, ?it/s]"
      ]
     },
     "metadata": {},
     "output_type": "display_data"
    },
    {
     "name": "stdout",
     "output_type": "stream",
     "text": [
      "(-0.6296798929383107, -0.754264606534602)\n",
      "(-1.2863468637319888, -1.188815749646747)\n",
      "(-2.220944136207808, -1.6536719045723218)\n",
      "(-2.976940295174065, -1.8216271593418356)\n",
      "(-3.717985519875038, -1.903671606155663)\n",
      "(-4.196165540690873, -1.9926467117853668)\n",
      "(-4.277789901734131, -2.0909470662624643)\n",
      "(-4.289880880194903, -2.1978568354600743)\n",
      "(-4.298710062936375, -2.2916879403355717)\n",
      "(-4.303619425453016, -2.3802083256523567)\n",
      "(-4.309224519128112, -2.467492432509536)\n",
      "(-4.313559903642115, -2.540263770996725)\n",
      "(-4.317119230620799, -2.6122515390036303)\n",
      "(-4.3238230173203265, -2.6782338978259936)\n",
      "(-4.333145487208375, -2.7353808892277556)\n",
      "(-4.351521863131138, -2.7945281936169795)\n",
      "(-4.37938859867513, -2.8463731818647973)\n",
      "(-4.40827503227626, -2.896551406642053)\n",
      "(-4.427243120987162, -2.948311902735945)\n",
      "(-4.435415620070281, -2.9944195375599425)\n",
      "(-4.438474810700813, -3.044299218429755)\n",
      "(-4.4400146552074835, -3.0940962236842484)\n",
      "(-4.439701945108523, -3.141258172772094)\n",
      "(-4.440392147203826, -3.1941774801280953)\n",
      "(-4.442411790233951, -3.243592901213819)\n",
      "(-4.442688645797164, -3.2938141714888123)\n",
      "(-4.443373107554128, -3.3478078956588098)\n",
      "(-4.4440319936410235, -3.396918540161249)\n",
      "(-4.443617204546465, -3.450104937001483)\n",
      "(-4.443711537539355, -3.5017308386768953)\n",
      "(-4.444544593709393, -3.549541641135309)\n",
      "(-4.445123532999415, -3.6011221202153494)\n",
      "(-4.44619393188504, -3.6476292251605846)\n",
      "(-4.44573471821354, -3.6925651135214888)\n",
      "(-4.445632310076784, -3.7377468873606343)\n",
      "(-4.448159838706706, -3.776243520023039)\n"
     ]
    },
    {
     "data": {
      "application/vnd.jupyter.widget-view+json": {
       "model_id": "f76c3970d1444be285d94efda447d04f",
       "version_major": 2,
       "version_minor": 0
      },
      "text/plain": [
       "  0%|          | 0/18000 [00:00<?, ?it/s]"
      ]
     },
     "metadata": {},
     "output_type": "display_data"
    },
    {
     "name": "stdout",
     "output_type": "stream",
     "text": [
      "(-0.6393712312779019, -0.6381842447960897)\n",
      "(-1.2764998641034007, -0.9543377128746006)\n",
      "(-2.5265461759375, -1.1600690356610333)\n",
      "(-3.7997540576088333, -1.32221503802946)\n",
      "(-4.054064623669795, -1.494563975574453)\n",
      "(-4.151286083263953, -1.6560237066395773)\n",
      "(-4.202963429873603, -1.794209544111828)\n",
      "(-4.240098987422254, -1.931703676579029)\n",
      "(-4.264685999396623, -2.0473149266952775)\n",
      "(-4.280230845744776, -2.1522699285059694)\n",
      "(-4.292182228404937, -2.253167107089449)\n",
      "(-4.299933211763682, -2.3344049767982202)\n",
      "(-4.304402486689068, -2.4130461015458193)\n",
      "(-4.3087244334803545, -2.4827588531637117)\n",
      "(-4.311487235265008, -2.5421642923914387)\n",
      "(-4.313658721034197, -2.602528449102045)\n",
      "(-4.3156498653529445, -2.654849910441261)\n",
      "(-4.317174808584293, -2.7044660317834794)\n",
      "(-4.318106802336702, -2.755390233222378)\n",
      "(-4.319009955481591, -2.8002209929327373)\n",
      "(-4.320951896888335, -2.8481159723037783)\n",
      "(-4.322597251687198, -2.895564187827569)\n",
      "(-4.323562246561061, -2.9395910999375645)\n",
      "(-4.325256055986671, -2.9883059581056886)\n",
      "(-4.327650998072932, -3.0335664401431246)\n",
      "(-4.329442786307675, -3.0790316285054287)\n",
      "(-4.331147200942935, -3.127761004415361)\n",
      "(-4.334118440290411, -3.1714085570754147)\n",
      "(-4.33679935065668, -3.21868373399431)\n",
      "(-4.34146760136875, -3.2650757189603827)\n",
      "(-4.344885218989749, -3.3076637816230754)\n",
      "(-4.349952941308127, -3.3538316205329237)\n",
      "(-4.356308074281957, -3.3957284988178813)\n",
      "(-4.36188641914346, -3.4367395097513844)\n",
      "(-4.36952575738557, -3.4792988263824616)\n",
      "(-4.377895153069723, -3.5167182198256874)\n"
     ]
    },
    {
     "data": {
      "application/vnd.jupyter.widget-view+json": {
       "model_id": "872a95b40ad94598b077c63308300b42",
       "version_major": 2,
       "version_minor": 0
      },
      "text/plain": [
       "  0%|          | 0/18000 [00:00<?, ?it/s]"
      ]
     },
     "metadata": {},
     "output_type": "display_data"
    },
    {
     "name": "stdout",
     "output_type": "stream",
     "text": [
      "(-0.6208342624217777, -0.7335476168096259)\n",
      "(-1.3989907270487607, -1.3805998255583236)\n",
      "(-2.6103463774967715, -2.325599799650662)\n",
      "(-4.0070378483794045, -2.7173893778852007)\n",
      "(-4.279768002893656, -2.782236958574704)\n",
      "(-4.299134663553491, -2.831035324882548)\n",
      "(-4.308214741138829, -2.8989990911309413)\n",
      "(-4.3228101080589525, -2.9577919919883566)\n",
      "(-4.3480703419971345, -2.9892851818551733)\n",
      "(-4.374836410615707, -3.0010882757404707)\n",
      "(-4.385453502699732, -3.0168771364798666)\n",
      "(-4.38947256143862, -3.0436562865815153)\n",
      "(-4.39098448918455, -3.0839377425362122)\n",
      "(-4.3918857308381725, -3.1320752550230444)\n",
      "(-4.391988311361076, -3.1810171898213433)\n",
      "(-4.39282994120551, -3.2288623893497834)\n",
      "(-4.392900226520915, -3.2787220496749403)\n",
      "(-4.394761901959683, -3.3258416863122657)\n",
      "(-4.393916234556135, -3.3690774321404544)\n",
      "(-4.394705030329777, -3.4090615669224564)\n",
      "(-4.395761693701923, -3.449073386926629)\n",
      "(-4.3969979270219, -3.487072019626137)\n",
      "(-4.396531375311999, -3.5215494968737473)\n",
      "(-4.397936513094657, -3.5546141098620403)\n",
      "(-4.399168596410485, -3.5872563759337126)\n",
      "(-4.398445219945607, -3.6205941986582437)\n",
      "(-4.399893637096308, -3.6503240408951076)\n",
      "(-4.4014738409668315, -3.679527180603388)\n",
      "(-4.403411859282614, -3.70801082850362)\n",
      "(-4.4042207801002, -3.7365157792700066)\n",
      "(-4.402928384146293, -3.762522536708035)\n",
      "(-4.407061538057065, -3.7867527944863992)\n",
      "(-4.408520042494471, -3.81254806564987)\n",
      "(-4.412817043903439, -3.8353874807955948)\n",
      "(-4.416628049941344, -3.856183253624941)\n"
     ]
    },
    {
     "data": {
      "application/vnd.jupyter.widget-view+json": {
       "model_id": "5b4f00e06c164238a0c5a732bdae42a8",
       "version_major": 2,
       "version_minor": 0
      },
      "text/plain": [
       "  0%|          | 0/18000 [00:00<?, ?it/s]"
      ]
     },
     "metadata": {},
     "output_type": "display_data"
    },
    {
     "name": "stdout",
     "output_type": "stream",
     "text": [
      "(-0.699567147895614, -0.7949537392151038)\n",
      "(-1.4682859985840087, -1.3447716961362814)\n",
      "(-2.8504484973385114, -1.8083292906325465)\n",
      "(-4.12428481537614, -2.0154300162398395)\n",
      "(-4.244605155669112, -2.1500954156982783)\n",
      "(-4.268813103313371, -2.2267014566157326)\n",
      "(-4.288098249522129, -2.2769046523905714)\n",
      "(-4.297994328837557, -2.323369645071535)\n",
      "(-4.3032045699213555, -2.377463525792071)\n",
      "(-4.308787250256096, -2.440433771016073)\n",
      "(-4.312754350364558, -2.5089681633803065)\n",
      "(-4.316328694197882, -2.5866202044248765)\n",
      "(-4.320346503743871, -2.678078364772545)\n",
      "(-4.321647113698399, -2.7800505397922666)\n",
      "(-4.324042716171446, -2.8854677666510784)\n",
      "(-4.336934875055923, -3.1190448682531313)\n",
      "(-4.342608624505233, -3.2403801813383937)\n",
      "(-4.347727306387288, -3.3497402281418767)\n",
      "(-4.357868233255452, -3.447209415112371)\n",
      "(-4.3626674998125266, -3.5367491483529196)\n",
      "(-4.367858426571765, -3.6140966061812216)\n",
      "(-4.369538435466351, -3.6784264865377256)\n",
      "(-4.37456832111282, -3.736499130437471)\n",
      "(-4.376453300438803, -3.7933659819018817)\n",
      "(-4.378909364768228, -3.846725156445187)\n",
      "(-4.3841661904520635, -3.8951092759901003)\n",
      "(-4.386121477015907, -3.9428533775458208)\n",
      "(-4.385944673850472, -3.991076587649367)\n",
      "(-4.390501098172753, -4.0393834045326)\n",
      "(-4.3920222448522095, -4.082916788307409)\n",
      "(-4.39829316236133, -4.12564907912979)\n",
      "(-4.401856757835602, -4.168858929005826)\n",
      "(-4.406607809414289, -4.209658116461196)\n",
      "(-4.41591425632214, -4.245989576677294)\n"
     ]
    },
    {
     "data": {
      "application/vnd.jupyter.widget-view+json": {
       "model_id": "1942fb64f76b4b6b8b9c3c459012f887",
       "version_major": 2,
       "version_minor": 0
      },
      "text/plain": [
       "  0%|          | 0/18000 [00:00<?, ?it/s]"
      ]
     },
     "metadata": {},
     "output_type": "display_data"
    },
    {
     "name": "stdout",
     "output_type": "stream",
     "text": [
      "(-0.6558977340015151, -0.7384711365756149)\n",
      "(-1.4117287249129835, -1.3279702032946088)\n",
      "(-2.7667730120072482, -1.833889001908413)\n",
      "(-3.7857576785326112, -1.984153272891071)\n",
      "(-4.251599244318363, -2.119785054871126)\n",
      "(-4.295678292599391, -2.268870688292352)\n",
      "(-4.298760301704192, -2.427816044459593)\n",
      "(-4.306784333854894, -2.5994325390805297)\n",
      "(-4.3111580672185505, -2.7934866921518613)\n",
      "(-4.3135718245970756, -2.993857691390634)\n",
      "(-4.316005813547825, -3.1612907071334124)\n",
      "(-4.3166067695905195, -3.2753355906165997)\n",
      "(-4.315081264526014, -3.3373116062213066)\n",
      "(-4.318186082406622, -3.3707811044039846)\n",
      "(-4.31677201238735, -3.397183375031677)\n",
      "(-4.3180274928322735, -3.4247812005711884)\n",
      "(-4.320219106761968, -3.4555847553517864)\n",
      "(-4.319280717639872, -3.487744946231782)\n",
      "(-4.320952605597456, -3.518111400676355)\n",
      "(-4.317930411774687, -3.5480445718024884)\n",
      "(-4.3214084016079335, -3.5791250213008543)\n",
      "(-4.322850234259128, -3.6098825874822404)\n",
      "(-4.3239969852463975, -3.6363195822235475)\n",
      "(-4.325990237486553, -3.6638134096514787)\n",
      "(-4.3275418353866675, -3.6906441759426456)\n",
      "(-4.330295711762561, -3.71601760808037)\n",
      "(-4.3283781484269985, -3.73832082474578)\n",
      "(-4.332399002452543, -3.758581960363431)\n"
     ]
    },
    {
     "data": {
      "application/vnd.jupyter.widget-view+json": {
       "model_id": "c1fd13bcdd554a2fb031008f071700c8",
       "version_major": 2,
       "version_minor": 0
      },
      "text/plain": [
       "  0%|          | 0/18000 [00:00<?, ?it/s]"
      ]
     },
     "metadata": {},
     "output_type": "display_data"
    },
    {
     "name": "stdout",
     "output_type": "stream",
     "text": [
      "(-0.5508044936890676, -0.665124443530045)\n",
      "(-1.2835803086005313, -1.2381544305671048)\n",
      "(-2.403451534318735, -1.7987761813788348)\n",
      "(-3.874351361159381, -2.029434045295712)\n",
      "(-4.243735635286201, -2.1278137913038364)\n",
      "(-4.290303301188753, -2.1836441377171862)\n",
      "(-4.3070563990931285, -2.233633244151447)\n",
      "(-4.337443333062069, -2.286035958245344)\n",
      "(-4.382027867202965, -2.3414161793563757)\n",
      "(-4.398910859037094, -2.396859242070021)\n",
      "(-4.407190614594659, -2.4500923532752097)\n",
      "(-4.408908900329419, -2.5044268484521046)\n",
      "(-4.413456460695773, -2.5643447275488307)\n",
      "(-4.416657261477152, -2.6276177641534177)\n",
      "(-4.419690575372171, -2.6906657109966265)\n",
      "(-4.425430598481232, -2.755813385676303)\n",
      "(-4.432462977127884, -2.8276527700838514)\n",
      "(-4.441552627451572, -2.9039323425483543)\n",
      "(-4.447235713901133, -2.9834761169457535)\n",
      "(-4.45201427392778, -3.070207110618333)\n",
      "(-4.458519856364494, -3.170907350252912)\n",
      "(-4.46280570839866, -3.282995728914383)\n",
      "(-4.462561767916359, -3.3980172529415924)\n",
      "(-4.465760912369977, -3.5178298806946158)\n",
      "(-4.4727266254297415, -3.6475069590251303)\n",
      "(-4.476075061929012, -3.7758052954146226)\n",
      "(-4.481205040569217, -3.8896451623478456)\n",
      "(-4.485588269386438, -3.9883529083643)\n",
      "(-4.495331377020377, -4.0713035110755085)\n",
      "(-4.502740598914404, -4.133844589072823)\n",
      "(-4.502845399234276, -4.174801450799061)\n",
      "(-4.5153041042768045, -4.203465687399802)\n"
     ]
    },
    {
     "data": {
      "application/vnd.jupyter.widget-view+json": {
       "model_id": "bbaad0c179d44dcb9cdb33ead42c36b0",
       "version_major": 2,
       "version_minor": 0
      },
      "text/plain": [
       "  0%|          | 0/18000 [00:00<?, ?it/s]"
      ]
     },
     "metadata": {},
     "output_type": "display_data"
    },
    {
     "name": "stdout",
     "output_type": "stream",
     "text": [
      "(-0.5871434991936675, -0.7171799551725253)\n",
      "(-1.3616033600189885, -1.2727987081180494)\n",
      "(-2.553776127537629, -1.6681621996301703)\n",
      "(-4.042508195256746, -1.7983725503065866)\n",
      "(-4.26933455646073, -1.929687733705323)\n",
      "(-4.299204755450113, -2.036041452330323)\n",
      "(-4.316671958148357, -2.122629049220095)\n",
      "(-4.340934857289098, -2.1971665711563015)\n",
      "(-4.373942679174404, -2.2629259180104366)\n",
      "(-4.399103953349459, -2.3144680355463594)\n",
      "(-4.415283382236945, -2.3557047907609614)\n",
      "(-4.425169799469357, -2.393926292878358)\n",
      "(-4.433063260714975, -2.431507383752507)\n",
      "(-4.43814469611667, -2.4667304691434144)\n",
      "(-4.440836610588822, -2.4990255259292624)\n",
      "(-4.448715421850968, -2.529542044459643)\n",
      "(-4.453063011736537, -2.5613584585823483)\n",
      "(-4.458231063972664, -2.593309967926928)\n",
      "(-4.463104838751481, -2.6246360472802106)\n",
      "(-4.47061197319292, -2.6564466188947047)\n",
      "(-4.479528595683368, -2.6917012326292262)\n",
      "(-4.48908607931306, -2.72866351220797)\n",
      "(-4.500479447968701, -2.7655382381977427)\n",
      "(-4.511836552688202, -2.8037182058287256)\n",
      "(-4.523505083643623, -2.8464977389662263)\n",
      "(-4.530884038426929, -2.892162271156587)\n",
      "(-4.537421687420558, -2.937604383071127)\n",
      "(-4.542317822747777, -2.9854577229469337)\n",
      "(-4.548190241352606, -3.0388152144341367)\n",
      "(-4.550710424081625, -3.094947226793204)\n",
      "(-4.551637717556386, -3.1504579962107098)\n",
      "(-4.556090188787891, -3.206391254648053)\n",
      "(-4.5584890022942295, -3.268019776220731)\n",
      "(-4.558950584558562, -3.329502842617136)\n",
      "(-4.5600213123467315, -3.3884770224937695)\n",
      "(-4.561709461487939, -3.4455569724325255)\n"
     ]
    },
    {
     "data": {
      "application/vnd.jupyter.widget-view+json": {
       "model_id": "4426b820abf94a3ea5d53bac30b8a3b9",
       "version_major": 2,
       "version_minor": 0
      },
      "text/plain": [
       "  0%|          | 0/18000 [00:00<?, ?it/s]"
      ]
     },
     "metadata": {},
     "output_type": "display_data"
    },
    {
     "name": "stdout",
     "output_type": "stream",
     "text": [
      "(-0.606111683984394, -0.8282813712138194)\n",
      "(-1.3802659066096703, -1.4044208379257044)\n",
      "(-2.77405926670601, -2.2353712390380656)\n",
      "(-3.96111712861326, -2.576012885508226)\n",
      "(-4.303656045772096, -2.8504427729952595)\n",
      "(-4.38815523567798, -3.238267886175377)\n",
      "(-4.407459118583643, -3.7554569469427226)\n",
      "(-4.420507757102603, -4.13009702231329)\n"
     ]
    },
    {
     "data": {
      "application/vnd.jupyter.widget-view+json": {
       "model_id": "ca55131b0a5946a2887e25f594329e1c",
       "version_major": 2,
       "version_minor": 0
      },
      "text/plain": [
       "  0%|          | 0/18000 [00:00<?, ?it/s]"
      ]
     },
     "metadata": {},
     "output_type": "display_data"
    },
    {
     "name": "stdout",
     "output_type": "stream",
     "text": [
      "(-0.6140898539460384, -0.7808256157743576)\n",
      "(-1.3736412670032743, -1.4536070179206941)\n",
      "(-2.7558069092666058, -2.556250861431785)\n",
      "(-3.9871424384962673, -2.8861849534829345)\n",
      "(-4.28283440944972, -3.1841052740697693)\n",
      "(-4.295520835413256, -3.266199043897277)\n"
     ]
    },
    {
     "data": {
      "application/vnd.jupyter.widget-view+json": {
       "model_id": "819b372218864ff79d8bad1f8b9d9dc3",
       "version_major": 2,
       "version_minor": 0
      },
      "text/plain": [
       "  0%|          | 0/18000 [00:00<?, ?it/s]"
      ]
     },
     "metadata": {},
     "output_type": "display_data"
    },
    {
     "name": "stdout",
     "output_type": "stream",
     "text": [
      "(-0.6322101629863275, -0.7813087552114653)\n",
      "(-1.3794021376374264, -1.4410152278293795)\n",
      "(-2.9325175842627744, -2.4729239059797035)\n",
      "(-4.280477255855602, -2.6198020822232357)\n",
      "(-4.30116612371066, -2.635680001495174)\n",
      "(-4.307203320094418, -2.667865981151685)\n",
      "(-4.31115978817656, -2.730737552153236)\n",
      "(-4.315444077667051, -2.823544638789709)\n",
      "(-4.317397277372096, -2.9398446427237745)\n",
      "(-4.320171468907869, -3.0825928686208246)\n",
      "(-4.326783079290907, -3.2607755226245705)\n",
      "(-4.336148607988375, -3.4633914311729583)\n",
      "(-4.347556990879803, -3.6732277304295313)\n",
      "(-4.3583515889716065, -3.879102938399834)\n",
      "(-4.36725883304289, -4.0654411012949)\n",
      "(-4.368410191108023, -4.20267455696465)\n",
      "(-4.373552792523225, -4.279120094286673)\n"
     ]
    },
    {
     "data": {
      "application/vnd.jupyter.widget-view+json": {
       "model_id": "7ec549b67cc74a88ba4c76c4a2b0b3f8",
       "version_major": 2,
       "version_minor": 0
      },
      "text/plain": [
       "  0%|          | 0/18000 [00:00<?, ?it/s]"
      ]
     },
     "metadata": {},
     "output_type": "display_data"
    },
    {
     "name": "stdout",
     "output_type": "stream",
     "text": [
      "(-0.6097271325767307, -0.6878125561854781)\n",
      "(-1.4924068359985458, -1.4168609854082512)\n",
      "(-3.144609584694515, -1.9079859487730706)\n",
      "(-4.259760116320672, -1.970555003747245)\n",
      "(-4.29847604529805, -2.068293225699118)\n",
      "(-4.305688172399029, -2.1748467606495967)\n",
      "(-4.312837360281428, -2.2867237596180554)\n",
      "(-4.326776141127153, -2.4006133731851027)\n",
      "(-4.345567089729789, -2.5191247071564544)\n",
      "(-4.3716090163638475, -2.6554378981715114)\n",
      "(-4.398357082277775, -2.825413675511505)\n",
      "(-4.414523897749836, -3.0305983437395967)\n",
      "(-4.417155961456007, -3.2726817333130955)\n",
      "(-4.422706416444082, -3.578127045450472)\n",
      "(-4.4248299290654645, -3.9736309376913908)\n",
      "(-4.425604722931107, -4.354770454957279)\n"
     ]
    },
    {
     "data": {
      "application/vnd.jupyter.widget-view+json": {
       "model_id": "168b5871b8c347ddacd2f6591d432d5e",
       "version_major": 2,
       "version_minor": 0
      },
      "text/plain": [
       "  0%|          | 0/18000 [00:00<?, ?it/s]"
      ]
     },
     "metadata": {},
     "output_type": "display_data"
    },
    {
     "name": "stdout",
     "output_type": "stream",
     "text": [
      "(-0.730280137925043, -0.7886673278606233)\n",
      "(-1.6716083520879175, -1.45910178404844)\n",
      "(-3.3974364673109947, -1.944160768465628)\n",
      "(-4.277252930157925, -2.1147299604690923)\n",
      "(-4.293036489305263, -2.2361286530066304)\n",
      "(-4.302029724290726, -2.367317472982646)\n",
      "(-4.304792809512477, -2.519612034260141)\n",
      "(-4.307832163067039, -2.679352092344862)\n",
      "(-4.3100659869645455, -2.8302229785458963)\n",
      "(-4.310472414307893, -2.977582626007644)\n",
      "(-4.311264463892774, -3.1237375858154706)\n",
      "(-4.311309266826075, -3.2620206387833144)\n",
      "(-4.313816825000566, -3.3880991165037484)\n",
      "(-4.312645691398241, -3.51093408858863)\n",
      "(-4.313164949594788, -3.634777730667445)\n",
      "(-4.313147460186606, -3.7536709483594217)\n",
      "(-4.315173039083037, -3.861747911629919)\n",
      "(-4.315107592217203, -3.9611289064259405)\n",
      "(-4.315379963246036, -4.057256493941919)\n",
      "(-4.318753044261933, -4.139359140198367)\n",
      "(-4.3175982929799845, -4.206252610527021)\n",
      "(-4.318499036910128, -4.258708225715352)\n",
      "(-4.3172655044395505, -4.300771437227793)\n"
     ]
    },
    {
     "data": {
      "application/vnd.jupyter.widget-view+json": {
       "model_id": "4c4853a8c8054057baf8c0dc23bd81fe",
       "version_major": 2,
       "version_minor": 0
      },
      "text/plain": [
       "  0%|          | 0/18000 [00:00<?, ?it/s]"
      ]
     },
     "metadata": {},
     "output_type": "display_data"
    },
    {
     "name": "stdout",
     "output_type": "stream",
     "text": [
      "(-0.6207241115998549, -0.5729135261613557)\n",
      "(-1.2921766429964276, -1.0599659964981196)\n",
      "(-2.4375731941485075, -1.6415399231925574)\n",
      "(-4.0990076036632805, -1.8894179322627658)\n",
      "(-4.302406789193951, -1.9863211296007255)\n",
      "(-4.3175957883766785, -2.0442550664567163)\n",
      "(-4.322998433996608, -2.0795670542876725)\n",
      "(-4.328180836372336, -2.1120639690480503)\n",
      "(-4.332568235565356, -2.140785369425298)\n",
      "(-4.335360731507252, -2.1697940274178262)\n",
      "(-4.339036782654262, -2.201893078229346)\n",
      "(-4.341151487119688, -2.2318692330834655)\n",
      "(-4.34490456842099, -2.2650956616750166)\n",
      "(-4.348495926093416, -2.2987883420850745)\n",
      "(-4.352493397663016, -2.3312335382516727)\n",
      "(-4.358406674817948, -2.367556388601626)\n",
      "(-4.36427551202905, -2.401339149805404)\n",
      "(-4.3710307385046026, -2.435385000007296)\n",
      "(-4.380191478065598, -2.47163455364549)\n",
      "(-4.388273877321885, -2.5036932722797083)\n",
      "(-4.3952497804324535, -2.537323546591931)\n",
      "(-4.40195231850046, -2.5701386816638427)\n",
      "(-4.406739858275264, -2.600234653233539)\n",
      "(-4.410938880554149, -2.6333543273225932)\n",
      "(-4.413932169665376, -2.664022719396208)\n",
      "(-4.416794577143174, -2.6949986542778426)\n",
      "(-4.419799254434427, -2.7286916609769776)\n",
      "(-4.420755307414203, -2.7590268247020333)\n",
      "(-4.422549323176605, -2.7919328156289116)\n",
      "(-4.423855750789313, -2.8246598350508814)\n",
      "(-4.424698950433465, -2.855411829718108)\n",
      "(-4.426413518559868, -2.8895099162361637)\n",
      "(-4.427321605175797, -2.9212201078553512)\n",
      "(-4.4284067895262185, -2.9531789718741375)\n",
      "(-4.429723268508191, -2.9873639368820215)\n",
      "(-4.431080315111131, -3.01812416768574)\n"
     ]
    },
    {
     "data": {
      "application/vnd.jupyter.widget-view+json": {
       "model_id": "45bbbaf9d40f4fcfa4677b9dd60b8aee",
       "version_major": 2,
       "version_minor": 0
      },
      "text/plain": [
       "  0%|          | 0/18000 [00:00<?, ?it/s]"
      ]
     },
     "metadata": {},
     "output_type": "display_data"
    },
    {
     "name": "stdout",
     "output_type": "stream",
     "text": [
      "(-0.602432049182174, -0.6800992477270654)\n",
      "(-1.2919147629842167, -1.2238025399268533)\n",
      "(-2.7020987394232283, -1.9205624002556472)\n",
      "(-4.130664679958439, -2.2689484137925455)\n",
      "(-4.311795437238077, -2.4344376068548352)\n",
      "(-4.3207971075776985, -2.530518742308522)\n",
      "(-4.326261833885216, -2.6087109105017805)\n",
      "(-4.330078286328974, -2.6927202425989023)\n",
      "(-4.3325363720434895, -2.769021329506229)\n",
      "(-4.334127457575568, -2.842785367181797)\n",
      "(-4.335601846015603, -2.917495495356751)\n",
      "(-4.337938518630954, -2.9824963408251057)\n",
      "(-4.338899595050184, -3.051936665693572)\n",
      "(-4.34003521489213, -3.121915301675222)\n",
      "(-4.340357937260985, -3.1881185004819312)\n",
      "(-4.341238300697279, -3.2627011311591807)\n",
      "(-4.3421900615296245, -3.3303703504126942)\n",
      "(-4.343580864000993, -3.3960040310602304)\n",
      "(-4.344807135869742, -3.4622541826162707)\n",
      "(-4.3464667540603825, -3.5166442485702096)\n",
      "(-4.349204034732834, -3.570531671477005)\n",
      "(-4.352090623845864, -3.6180817693223077)\n",
      "(-4.354131899853523, -3.657999678307557)\n",
      "(-4.358813136590902, -3.697778110474154)\n",
      "(-4.362647378524902, -3.729679697693431)\n",
      "(-4.367277872182188, -3.7576155819090205)\n",
      "(-4.371004345021143, -3.78412996738304)\n",
      "(-4.375748479665668, -3.803196126152202)\n",
      "(-4.380251727216272, -3.8197172741024072)\n"
     ]
    },
    {
     "data": {
      "application/vnd.jupyter.widget-view+json": {
       "model_id": "aee5ac34e5034151bf572fbb17497f2b",
       "version_major": 2,
       "version_minor": 0
      },
      "text/plain": [
       "  0%|          | 0/18000 [00:00<?, ?it/s]"
      ]
     },
     "metadata": {},
     "output_type": "display_data"
    },
    {
     "name": "stdout",
     "output_type": "stream",
     "text": [
      "(-0.6910011665095135, -0.7383994151376294)\n",
      "(-1.3965260723441162, -1.2370772793166647)\n",
      "(-2.652113434333557, -1.7670959389399141)\n",
      "(-3.872802410490089, -1.9195515520565154)\n",
      "(-4.253095966176657, -1.9976112007834335)\n",
      "(-4.323706623204472, -2.0681561910600297)\n",
      "(-4.326303946352852, -2.1238188849702304)\n",
      "(-4.329111927510468, -2.1776044391850333)\n",
      "(-4.331147278355892, -2.2244177212661858)\n",
      "(-4.331927606870222, -2.2701535317952395)\n",
      "(-4.333926447245554, -2.3183539273078284)\n",
      "(-4.334195895665173, -2.3621679896817582)\n",
      "(-4.335078985485772, -2.4106538599816854)\n",
      "(-4.336695975548064, -2.4596299470389)\n",
      "(-4.336580290594657, -2.5065046153431467)\n",
      "(-4.33670564242687, -2.559838008949411)\n",
      "(-4.337664342079025, -2.6102876654284373)\n",
      "(-4.337732779851827, -2.6620953837949175)\n",
      "(-4.338614642834246, -2.718618581117563)\n",
      "(-4.338993728655743, -2.7705418109677895)\n",
      "(-4.339832120497995, -2.8269448854427086)\n",
      "(-4.340006157639589, -2.884136812789629)\n",
      "(-4.341335387511397, -2.9376544619950065)\n",
      "(-4.34111633603781, -2.9969968045514137)\n",
      "(-4.342279436873425, -3.052108136682997)\n",
      "(-4.343192646007685, -3.107533520570708)\n",
      "(-4.3447777695757885, -3.1652380442241794)\n",
      "(-4.3459609895653575, -3.2159661981336383)\n",
      "(-4.347552691666702, -3.2685983194659967)\n",
      "(-4.350015677686571, -3.3190164941916804)\n",
      "(-4.352420235367585, -3.3627265151730055)\n",
      "(-4.355490287577223, -3.40560251196486)\n",
      "(-4.359660768410965, -3.4393828400356954)\n",
      "(-4.363889861780641, -3.467705021038108)\n",
      "(-4.369859419512692, -3.490930486491558)\n",
      "(-4.375554624201163, -3.5060744076061434)\n"
     ]
    },
    {
     "data": {
      "application/vnd.jupyter.widget-view+json": {
       "model_id": "dc4c76debd6f42418cc4ea463f85ae8c",
       "version_major": 2,
       "version_minor": 0
      },
      "text/plain": [
       "  0%|          | 0/18000 [00:00<?, ?it/s]"
      ]
     },
     "metadata": {},
     "output_type": "display_data"
    },
    {
     "name": "stdout",
     "output_type": "stream",
     "text": [
      "(-0.5801297983106454, -0.6173239866111971)\n",
      "(-1.249627623882197, -1.1577341258944531)\n",
      "(-2.414261043552275, -1.6772201902038588)\n",
      "(-3.946799878331998, -1.8964643137479218)\n",
      "(-4.198284540732472, -2.0789414488190148)\n",
      "(-4.2693636263263945, -2.275139227998024)\n",
      "(-4.298814334793499, -2.469990252034142)\n",
      "(-4.3245270707480055, -2.687549678230646)\n",
      "(-4.350705010127057, -2.8671400452785076)\n",
      "(-4.379802111122554, -2.99333268485065)\n",
      "(-4.394314273671022, -3.0681957170529177)\n",
      "(-4.398832650067005, -3.1011898564546616)\n",
      "(-4.401286014556297, -3.120660720791276)\n",
      "(-4.402482308512199, -3.137131430097063)\n",
      "(-4.404256730196961, -3.1544046380805253)\n",
      "(-4.404502087862568, -3.176883129088491)\n",
      "(-4.40549023239106, -3.2011112545152884)\n",
      "(-4.405715138773978, -3.2268347259843164)\n",
      "(-4.406263353982157, -3.254093905629022)\n",
      "(-4.40586544240891, -3.277291033281501)\n",
      "(-4.406762957884894, -3.3002003474117325)\n",
      "(-4.4064970754678665, -3.320725618255556)\n",
      "(-4.407257110352622, -3.3388096071093853)\n",
      "(-4.406821135879075, -3.3576915758426953)\n",
      "(-4.407467483230684, -3.3741764889666506)\n",
      "(-4.406957514383976, -3.3903593023462872)\n",
      "(-4.407805609649895, -3.407525610054361)\n",
      "(-4.4077809324349735, -3.4226176480322423)\n",
      "(-4.407968631551876, -3.438859656644438)\n",
      "(-4.407813688694744, -3.4551196139079163)\n",
      "(-4.40788312295578, -3.4703001403933866)\n",
      "(-4.407667605648464, -3.486366583964231)\n",
      "(-4.408988393515455, -3.5016718001278733)\n",
      "(-4.407663696723987, -3.516925265850426)\n",
      "(-4.408747301082708, -3.5326556898625983)\n",
      "(-4.408103860423204, -3.546922637074256)\n"
     ]
    },
    {
     "data": {
      "application/vnd.jupyter.widget-view+json": {
       "model_id": "2791fcf1901b410d913c5adfb46b1ad3",
       "version_major": 2,
       "version_minor": 0
      },
      "text/plain": [
       "  0%|          | 0/18000 [00:00<?, ?it/s]"
      ]
     },
     "metadata": {},
     "output_type": "display_data"
    },
    {
     "name": "stdout",
     "output_type": "stream",
     "text": [
      "(-0.5974429924886491, -0.6687747521057082)\n",
      "(-1.207909596973358, -1.175404333201115)\n",
      "(-2.101120626377969, -1.9207312574938857)\n",
      "(-3.22967632846429, -2.4130587074228913)\n",
      "(-4.1237835617259195, -2.563181407333133)\n",
      "(-4.341319265294656, -2.7334385248856243)\n",
      "(-4.3685082661041665, -2.8785486384551286)\n",
      "(-4.381597947309314, -3.0039625122003772)\n",
      "(-4.391752324075423, -3.0985816994364592)\n",
      "(-4.398758826409805, -3.1828874160102285)\n",
      "(-4.40588178665576, -3.2647148178828336)\n",
      "(-4.411858191267901, -3.332902324845025)\n",
      "(-4.417660797103573, -3.402320178148038)\n",
      "(-4.42503236662024, -3.4693779523322466)\n",
      "(-4.432132247998818, -3.534591544951602)\n",
      "(-4.441680360941594, -3.6143679415009813)\n",
      "(-4.454439390236743, -3.699217374417453)\n",
      "(-4.471783865494584, -3.7887767503377083)\n",
      "(-4.496722435843388, -3.8743177552881978)\n",
      "(-4.522203252583061, -3.9346836558333718)\n",
      "(-4.544804543887957, -3.979097831111936)\n",
      "(-4.560449015374254, -4.005259289594268)\n"
     ]
    },
    {
     "data": {
      "application/vnd.jupyter.widget-view+json": {
       "model_id": "1130f65dcf814ed496a8d6df945aa1e5",
       "version_major": 2,
       "version_minor": 0
      },
      "text/plain": [
       "  0%|          | 0/18000 [00:00<?, ?it/s]"
      ]
     },
     "metadata": {},
     "output_type": "display_data"
    },
    {
     "name": "stdout",
     "output_type": "stream",
     "text": [
      "(-0.6204517897788282, -0.7329108895300425)\n",
      "(-1.2728849558109632, -1.3063679597631936)\n",
      "(-2.4708321311801935, -2.236802223646456)\n",
      "(-3.9081972766739126, -2.9299781531696754)\n",
      "(-4.257930531203576, -3.41326394423021)\n"
     ]
    },
    {
     "data": {
      "application/vnd.jupyter.widget-view+json": {
       "model_id": "b2cf5700c78b4474a1a0f4dd2ebbcd16",
       "version_major": 2,
       "version_minor": 0
      },
      "text/plain": [
       "  0%|          | 0/18000 [00:00<?, ?it/s]"
      ]
     },
     "metadata": {},
     "output_type": "display_data"
    },
    {
     "name": "stdout",
     "output_type": "stream",
     "text": [
      "(-0.6215886645194624, -0.6943176673771801)\n",
      "(-1.219499988198363, -1.2243050813089575)\n",
      "(-2.2560591001632178, -1.8985659168788787)\n",
      "(-3.219014945328013, -2.269320331726298)\n",
      "(-3.936550485640544, -2.5356520717190105)\n",
      "(-4.228324755187415, -2.782817159859949)\n",
      "(-4.276513653879841, -3.0066226740317106)\n",
      "(-4.311237058423512, -3.2681181610362646)\n",
      "(-4.3481799981191624, -3.528156290167659)\n",
      "(-4.379621167815745, -3.7899444998755274)\n",
      "(-4.3975148139215054, -4.0228130816868)\n",
      "(-4.407987412971269, -4.15970391521018)\n",
      "(-4.416619305706167, -4.238777380798361)\n",
      "(-4.425529760493053, -4.2770064912564605)\n"
     ]
    },
    {
     "data": {
      "application/vnd.jupyter.widget-view+json": {
       "model_id": "5e26df548da7493fa7cfe970c34b136f",
       "version_major": 2,
       "version_minor": 0
      },
      "text/plain": [
       "  0%|          | 0/18000 [00:00<?, ?it/s]"
      ]
     },
     "metadata": {},
     "output_type": "display_data"
    },
    {
     "name": "stdout",
     "output_type": "stream",
     "text": [
      "(-0.6445057620586555, -0.7068322221474491)\n",
      "(-1.3693417693404184, -1.3004622516970334)\n",
      "(-2.870903134528743, -1.8663041411469214)\n",
      "(-4.002832555625221, -2.185423491861573)\n",
      "(-4.22509847813379, -2.6663454485435)\n",
      "(-4.274849853860931, -3.114296192231436)\n",
      "(-4.291427704698584, -3.423307709244849)\n",
      "(-4.303655528189017, -3.7843977456605558)\n",
      "(-4.309118572450238, -4.13893214084286)\n",
      "(-4.311515244758132, -4.303228844499208)\n"
     ]
    },
    {
     "data": {
      "application/vnd.jupyter.widget-view+json": {
       "model_id": "38651a153ecc498096637caa80477974",
       "version_major": 2,
       "version_minor": 0
      },
      "text/plain": [
       "  0%|          | 0/18000 [00:00<?, ?it/s]"
      ]
     },
     "metadata": {},
     "output_type": "display_data"
    },
    {
     "name": "stdout",
     "output_type": "stream",
     "text": [
      "(-0.6037953716047827, -0.7817575400191172)\n",
      "(-1.2205639088067939, -1.295375599224291)\n",
      "(-2.2571510079731167, -2.1482305300483735)\n",
      "(-3.289176085758376, -2.7066727484167465)\n",
      "(-4.162207931851532, -3.035499777716278)\n",
      "(-4.23944560213582, -3.3104175919886547)\n",
      "(-4.262758261751795, -3.540370887916407)\n",
      "(-4.281413866381212, -3.7699379712757812)\n",
      "(-4.295050843400931, -3.9338558915588013)\n",
      "(-4.303452985143848, -4.029298081584503)\n",
      "(-4.311636416220505, -4.078950389420586)\n",
      "(-4.316903943818785, -4.11841184635941)\n",
      "(-4.3218886909281045, -4.179858998749587)\n",
      "(-4.327313341359442, -4.251147174366338)\n",
      "(-4.3327032412101705, -4.302331155868073)\n"
     ]
    },
    {
     "data": {
      "application/vnd.jupyter.widget-view+json": {
       "model_id": "cafe7672f4234b7fafbb2e64054f695b",
       "version_major": 2,
       "version_minor": 0
      },
      "text/plain": [
       "  0%|          | 0/18000 [00:00<?, ?it/s]"
      ]
     },
     "metadata": {},
     "output_type": "display_data"
    },
    {
     "name": "stdout",
     "output_type": "stream",
     "text": [
      "(-0.5405462814246694, -0.6959330420173279)\n",
      "(-1.2623522762361707, -1.206531994795665)\n",
      "(-2.636882098607429, -2.1020088525974208)\n",
      "(-4.150374896565236, -2.477899530081407)\n",
      "(-4.25567192358055, -2.7373662843755753)\n",
      "(-4.288710419221482, -3.0698245615792645)\n",
      "(-4.303335828785651, -3.5150406781949175)\n",
      "(-4.308424390844343, -4.098861613262266)\n",
      "(-4.3102444100823165, -4.311784611913015)\n"
     ]
    },
    {
     "data": {
      "application/vnd.jupyter.widget-view+json": {
       "model_id": "3956757b789443f594dc9307ce0820a7",
       "version_major": 2,
       "version_minor": 0
      },
      "text/plain": [
       "  0%|          | 0/18000 [00:00<?, ?it/s]"
      ]
     },
     "metadata": {},
     "output_type": "display_data"
    },
    {
     "name": "stdout",
     "output_type": "stream",
     "text": [
      "(-0.5944546642129612, -0.6916302999252846)\n",
      "(-1.3136400126343781, -1.2164833285317769)\n",
      "(-2.5078814896984527, -1.8750978110757675)\n",
      "(-3.782396880233685, -2.6382566576766866)\n",
      "(-4.247679880799268, -3.395857903225598)\n",
      "(-4.314361061879125, -3.7962818014190765)\n",
      "(-4.319611028383827, -4.0635880527820865)\n",
      "(-4.321861630875948, -4.214603966035313)\n",
      "(-4.327997789184558, -4.304315821547127)\n"
     ]
    },
    {
     "data": {
      "application/vnd.jupyter.widget-view+json": {
       "model_id": "86b7f1886ce049fe818f068b735017f9",
       "version_major": 2,
       "version_minor": 0
      },
      "text/plain": [
       "  0%|          | 0/18000 [00:00<?, ?it/s]"
      ]
     },
     "metadata": {},
     "output_type": "display_data"
    },
    {
     "name": "stdout",
     "output_type": "stream",
     "text": [
      "(-0.6061025245012057, -0.6036258119096509)\n",
      "(-1.3709695908939046, -1.3261425266844011)\n",
      "(-2.627219770935715, -2.474477583353762)\n",
      "(-3.4754597606940445, -3.18630479782059)\n",
      "(-3.9926326125698406, -3.4822629077634564)\n",
      "(-4.287214027709463, -3.848860893695834)\n",
      "(-4.312214192995463, -4.241366997336516)\n",
      "(-4.3143589430612534, -4.318116592389223)\n"
     ]
    },
    {
     "data": {
      "application/vnd.jupyter.widget-view+json": {
       "model_id": "3027cee0c7fb4877b68921d781992473",
       "version_major": 2,
       "version_minor": 0
      },
      "text/plain": [
       "  0%|          | 0/18000 [00:00<?, ?it/s]"
      ]
     },
     "metadata": {},
     "output_type": "display_data"
    },
    {
     "name": "stdout",
     "output_type": "stream",
     "text": [
      "(-0.6552218521532364, -0.7906793621840075)\n",
      "(-1.436276687077826, -1.4789020245476379)\n",
      "(-2.7141280295340255, -2.7321645900380185)\n",
      "(-4.1151056871957925, -3.439722865027449)\n"
     ]
    },
    {
     "data": {
      "application/vnd.jupyter.widget-view+json": {
       "model_id": "a6e3514e87dd4bdcaf796deced7f2329",
       "version_major": 2,
       "version_minor": 0
      },
      "text/plain": [
       "  0%|          | 0/18000 [00:00<?, ?it/s]"
      ]
     },
     "metadata": {},
     "output_type": "display_data"
    },
    {
     "name": "stdout",
     "output_type": "stream",
     "text": [
      "(-0.7214538985443886, -0.8104549889375909)\n",
      "(-1.450720454761164, -1.496143179825356)\n",
      "(-2.7862763918716156, -2.397634805516016)\n",
      "(-4.146737371017617, -2.927125959309531)\n",
      "(-4.296053251588106, -3.334381383185846)\n",
      "(-4.302958639405831, -3.4868862866520414)\n",
      "(-4.307316700017915, -3.565535545605496)\n",
      "(-4.31504893161438, -3.6449769889533106)\n",
      "(-4.320194958051576, -3.7338627331388836)\n",
      "(-4.325911247839769, -3.8315837028745614)\n",
      "(-4.335221077470788, -3.927680141340048)\n",
      "(-4.347913577374287, -4.02089952968613)\n",
      "(-4.367283143459756, -4.110487647194894)\n",
      "(-4.3863915719324345, -4.18793454655674)\n",
      "(-4.398438707585579, -4.245651163305268)\n",
      "(-4.404456615618796, -4.285625313157938)\n"
     ]
    },
    {
     "data": {
      "application/vnd.jupyter.widget-view+json": {
       "model_id": "d4d4349c34ee4640b5c49185fcb76cc4",
       "version_major": 2,
       "version_minor": 0
      },
      "text/plain": [
       "  0%|          | 0/18000 [00:00<?, ?it/s]"
      ]
     },
     "metadata": {},
     "output_type": "display_data"
    },
    {
     "name": "stdout",
     "output_type": "stream",
     "text": [
      "(-0.7157452708057852, -0.6741925350692902)\n",
      "(-1.4877001724861976, -1.464985136106153)\n",
      "(-2.8384282919280235, -2.9262500086968672)\n"
     ]
    },
    {
     "data": {
      "application/vnd.jupyter.widget-view+json": {
       "model_id": "13a324d4650845a3b36cedef7936ee12",
       "version_major": 2,
       "version_minor": 0
      },
      "text/plain": [
       "  0%|          | 0/18000 [00:00<?, ?it/s]"
      ]
     },
     "metadata": {},
     "output_type": "display_data"
    },
    {
     "name": "stdout",
     "output_type": "stream",
     "text": [
      "(-0.6159998669576405, -0.7668740815682055)\n",
      "(-1.4104934621476222, -1.3525843364675207)\n",
      "(-3.0859738952738627, -2.329843447989367)\n",
      "(-4.181743074757153, -3.011700902231732)\n",
      "(-4.303489428452016, -3.9694535353992486)\n"
     ]
    },
    {
     "data": {
      "application/vnd.jupyter.widget-view+json": {
       "model_id": "8decad338caf48b886a74f3a29eaf457",
       "version_major": 2,
       "version_minor": 0
      },
      "text/plain": [
       "  0%|          | 0/18000 [00:00<?, ?it/s]"
      ]
     },
     "metadata": {},
     "output_type": "display_data"
    },
    {
     "name": "stdout",
     "output_type": "stream",
     "text": [
      "(-0.6255213534784215, -0.7188355548104179)\n",
      "(-1.4783705755296173, -1.517626055001716)\n",
      "(-3.243310136080241, -3.1321603200416215)\n",
      "(-4.214046354098043, -4.181286162215931)\n"
     ]
    },
    {
     "data": {
      "application/vnd.jupyter.widget-view+json": {
       "model_id": "068db6c46e7145049e608524dcc3c9da",
       "version_major": 2,
       "version_minor": 0
      },
      "text/plain": [
       "  0%|          | 0/18000 [00:00<?, ?it/s]"
      ]
     },
     "metadata": {},
     "output_type": "display_data"
    },
    {
     "name": "stdout",
     "output_type": "stream",
     "text": [
      "(-0.6689563242278832, -0.7588090080879994)\n",
      "(-1.4705297065181204, -1.4490081838918054)\n",
      "(-2.958503094587751, -2.861381113649355)\n",
      "(-4.096532715247489, -3.3267239638752755)\n",
      "(-4.291809375342476, -3.650179187754788)\n",
      "(-4.306374639300472, -3.8755594193007896)\n",
      "(-4.318664774458757, -4.041195088432296)\n",
      "(-4.332531257775375, -4.18569617735898)\n",
      "(-4.345078596397488, -4.290299609530813)\n",
      "(-4.360419708235506, -4.345893733341647)\n"
     ]
    },
    {
     "data": {
      "application/vnd.jupyter.widget-view+json": {
       "model_id": "e7680a5be4014fec973edc5b8c3fb561",
       "version_major": 2,
       "version_minor": 0
      },
      "text/plain": [
       "  0%|          | 0/18000 [00:00<?, ?it/s]"
      ]
     },
     "metadata": {},
     "output_type": "display_data"
    },
    {
     "name": "stdout",
     "output_type": "stream",
     "text": [
      "(-0.6301745063776266, -0.7435626177403739)\n",
      "(-1.3894652481071892, -1.4662591540577723)\n",
      "(-2.8151169983668374, -2.8620739446752372)\n",
      "(-3.9383874256004443, -4.193586213651206)\n"
     ]
    },
    {
     "data": {
      "application/vnd.jupyter.widget-view+json": {
       "model_id": "7b765d1d539248d6934a20f8bb7612b1",
       "version_major": 2,
       "version_minor": 0
      },
      "text/plain": [
       "  0%|          | 0/18000 [00:00<?, ?it/s]"
      ]
     },
     "metadata": {},
     "output_type": "display_data"
    },
    {
     "name": "stdout",
     "output_type": "stream",
     "text": [
      "(-0.6259372245938123, -0.8233388191350224)\n",
      "(-1.3831356496044878, -1.4477103715821433)\n",
      "(-2.83139465257905, -2.9022531396151803)\n",
      "(-4.047516349341812, -3.7594671059874734)\n"
     ]
    },
    {
     "data": {
      "application/vnd.jupyter.widget-view+json": {
       "model_id": "383d30f2861a4580b3df8ede1684c509",
       "version_major": 2,
       "version_minor": 0
      },
      "text/plain": [
       "  0%|          | 0/18000 [00:00<?, ?it/s]"
      ]
     },
     "metadata": {},
     "output_type": "display_data"
    },
    {
     "name": "stdout",
     "output_type": "stream",
     "text": [
      "(-0.6647188849180861, -0.5555411099115302)\n",
      "(-1.3305347130672802, -1.1439858632063704)\n",
      "(-2.4509904926525397, -1.9981881149795893)\n",
      "(-3.625434109890467, -2.7753895344535837)\n",
      "(-4.129985364514111, -3.0475431101274113)\n",
      "(-4.257893798405447, -3.208678207790006)\n",
      "(-4.281822123172077, -3.3080616461602763)\n",
      "(-4.291983667779789, -3.4027121946041823)\n",
      "(-4.300906460960271, -3.4867535569465846)\n",
      "(-4.3088909274365035, -3.5708627155502755)\n",
      "(-4.316858251652157, -3.6623048962012956)\n",
      "(-4.321492501101264, -3.7478167830347506)\n",
      "(-4.32599452309623, -3.84088559691549)\n",
      "(-4.330335138199875, -3.9338993776271716)\n",
      "(-4.33359546978942, -4.018366524657394)\n",
      "(-4.336236293087834, -4.1067759086640665)\n",
      "(-4.338238150856805, -4.17727808561459)\n",
      "(-4.3394163191521145, -4.229476054006125)\n"
     ]
    },
    {
     "data": {
      "application/vnd.jupyter.widget-view+json": {
       "model_id": "4ecce7fd5d694a7fb4cb088503cb9811",
       "version_major": 2,
       "version_minor": 0
      },
      "text/plain": [
       "  0%|          | 0/18000 [00:00<?, ?it/s]"
      ]
     },
     "metadata": {},
     "output_type": "display_data"
    },
    {
     "name": "stdout",
     "output_type": "stream",
     "text": [
      "(-0.5864033000066031, -0.5806637878297909)\n",
      "(-1.2170853152762453, -1.1831540614007898)\n",
      "(-2.2549243182154024, -2.155878362084924)\n",
      "(-3.9126732133784463, -3.6195365513619215)\n",
      "(-4.345885274521414, -4.184415674635052)\n",
      "(-4.394549376885091, -4.306888720451351)\n"
     ]
    },
    {
     "data": {
      "application/vnd.jupyter.widget-view+json": {
       "model_id": "5113a699a5194c74887caf0d034b9e40",
       "version_major": 2,
       "version_minor": 0
      },
      "text/plain": [
       "  0%|          | 0/18000 [00:00<?, ?it/s]"
      ]
     },
     "metadata": {},
     "output_type": "display_data"
    },
    {
     "name": "stdout",
     "output_type": "stream",
     "text": [
      "(-0.664152070182965, -0.6550851261668408)\n",
      "(-1.344837786472855, -1.3047341116812634)\n",
      "(-2.528931028923299, -2.450654137209219)\n",
      "(-3.7730452451274226, -3.604255256554256)\n"
     ]
    },
    {
     "data": {
      "application/vnd.jupyter.widget-view+json": {
       "model_id": "513c4de6bd3e4b1385ad9fb50d57540c",
       "version_major": 2,
       "version_minor": 0
      },
      "text/plain": [
       "  0%|          | 0/18000 [00:00<?, ?it/s]"
      ]
     },
     "metadata": {},
     "output_type": "display_data"
    },
    {
     "name": "stdout",
     "output_type": "stream",
     "text": [
      "(-0.6322035132926513, -0.7250958427533661)\n",
      "(-1.2464927830765171, -1.2776685725177517)\n",
      "(-2.3436511196605676, -2.2806318218390396)\n",
      "(-3.819516334947261, -3.3016812588477777)\n",
      "(-4.205142764849374, -3.7525927281581)\n",
      "(-4.313217109287373, -3.936475252880303)\n",
      "(-4.332442532787384, -4.024022592591542)\n",
      "(-4.335482847547062, -4.103930324805331)\n",
      "(-4.338903301960667, -4.169532710691587)\n",
      "(-4.34084039591941, -4.220523653833834)\n",
      "(-4.342141055547343, -4.2535315496998765)\n"
     ]
    },
    {
     "data": {
      "application/vnd.jupyter.widget-view+json": {
       "model_id": "7150a1cb5db14bc38386929830c84336",
       "version_major": 2,
       "version_minor": 0
      },
      "text/plain": [
       "  0%|          | 0/18000 [00:00<?, ?it/s]"
      ]
     },
     "metadata": {},
     "output_type": "display_data"
    },
    {
     "name": "stdout",
     "output_type": "stream",
     "text": [
      "(-0.6388803690457371, -0.6713140419307004)\n",
      "(-1.2859461709845728, -1.2977991338575778)\n",
      "(-2.4787721461485654, -2.4383269503273763)\n",
      "(-3.991961482927998, -3.351093165930811)\n",
      "(-4.2988505190691875, -3.482427507758314)\n",
      "(-4.316463564232394, -3.6388604616681306)\n",
      "(-4.3231890859954785, -3.74406661861869)\n",
      "(-4.3279496767188705, -3.8380222482981976)\n",
      "(-4.3330201478895765, -3.9212700978200696)\n",
      "(-4.337263516064295, -4.001795399343205)\n",
      "(-4.341825336533938, -4.082911826835274)\n",
      "(-4.347435338531549, -4.147950031909534)\n",
      "(-4.353657078210567, -4.203369322850843)\n",
      "(-4.361905112894098, -4.240124458231975)\n"
     ]
    },
    {
     "data": {
      "application/vnd.jupyter.widget-view+json": {
       "model_id": "f265b60af7d442358b430108161d42ab",
       "version_major": 2,
       "version_minor": 0
      },
      "text/plain": [
       "  0%|          | 0/18000 [00:00<?, ?it/s]"
      ]
     },
     "metadata": {},
     "output_type": "display_data"
    },
    {
     "name": "stdout",
     "output_type": "stream",
     "text": [
      "(-0.6055026658827093, -0.6998709721829476)\n",
      "(-1.3163099410427503, -1.2006268958844564)\n",
      "(-2.607806295869818, -1.6402340828044368)\n",
      "(-3.903067060342964, -1.8101476505415037)\n",
      "(-4.2235681584472715, -1.9595795843839996)\n",
      "(-4.262490177822741, -2.105970855609884)\n",
      "(-4.27800466354706, -2.230921411159916)\n",
      "(-4.28753436173321, -2.3493059707503923)\n",
      "(-4.293425426195869, -2.4385795446613123)\n",
      "(-4.296209087349965, -2.510718087820717)\n",
      "(-4.300042246487857, -2.5719770558664736)\n",
      "(-4.301457165392345, -2.617078600453001)\n",
      "(-4.302617599806649, -2.6583003534340532)\n",
      "(-4.304728587893264, -2.6940972385897255)\n",
      "(-4.304767236195183, -2.7252459944483047)\n",
      "(-4.305346674437, -2.7592195651760134)\n",
      "(-4.306780112098092, -2.7902553157022036)\n",
      "(-4.3064614026215615, -2.822013434926284)\n",
      "(-4.307364996831399, -2.857175682318628)\n",
      "(-4.30767296587033, -2.8893084820574737)\n",
      "(-4.307450900407225, -2.9250852458985066)\n",
      "(-4.308922184568814, -2.962045931528475)\n",
      "(-4.309475575263262, -2.99675034737104)\n",
      "(-4.3091829873789775, -3.036766154912708)\n",
      "(-4.310572537029709, -3.075195635212108)\n",
      "(-4.31006086279478, -3.1148233029067)\n",
      "(-4.310753481980837, -3.157570356655834)\n",
      "(-4.311390692428804, -3.1981364165658137)\n",
      "(-4.311107175640266, -3.2429802824227667)\n",
      "(-4.3119742639673575, -3.2891816055695617)\n",
      "(-4.31157363442826, -3.3339649341147033)\n",
      "(-4.312297927547613, -3.384779072707438)\n",
      "(-4.3123319624201715, -3.432621844900153)\n",
      "(-4.313282803676337, -3.4831524416093647)\n",
      "(-4.313664837916187, -3.538481172102676)\n",
      "(-4.314180965507689, -3.5900963266990393)\n"
     ]
    },
    {
     "data": {
      "application/vnd.jupyter.widget-view+json": {
       "model_id": "d30b3cc3ed73471eb5f1bd41c8dad719",
       "version_major": 2,
       "version_minor": 0
      },
      "text/plain": [
       "  0%|          | 0/18000 [00:00<?, ?it/s]"
      ]
     },
     "metadata": {},
     "output_type": "display_data"
    },
    {
     "name": "stdout",
     "output_type": "stream",
     "text": [
      "(-0.6880608802078574, -0.7579591409364819)\n",
      "(-1.4763489394447369, -1.3524596576768866)\n",
      "(-3.1553841086387635, -2.082656913261144)\n",
      "(-4.161152964365787, -2.341930144194101)\n",
      "(-4.290030734016224, -2.5345756422598447)\n",
      "(-4.296228084348935, -2.6553362115559835)\n",
      "(-4.30059852520847, -2.744407702317176)\n",
      "(-4.303986444572411, -2.822880642975742)\n",
      "(-4.306588076117718, -2.878816142601883)\n",
      "(-4.307484227638672, -2.921316708066332)\n",
      "(-4.309607362345731, -2.9575314255751683)\n",
      "(-4.3100770333334175, -2.9892563696979124)\n",
      "(-4.3102214822547, -3.026523523531981)\n",
      "(-4.31120492628298, -3.071250447804179)\n",
      "(-4.310432374818151, -3.118980922460916)\n",
      "(-4.311029887846865, -3.1778187396189255)\n",
      "(-4.311953915641184, -3.2381721473938887)\n",
      "(-4.312476499728861, -3.3045574158958986)\n",
      "(-4.312621161191573, -3.379808811382873)\n",
      "(-4.313696853265809, -3.451892657841753)\n",
      "(-4.313665820380419, -3.5335846805451885)\n",
      "(-4.313796937483674, -3.6152204903270215)\n",
      "(-4.314157215692932, -3.691750299898719)\n",
      "(-4.314441834582952, -3.7755009222028426)\n",
      "(-4.31629345310624, -3.848952204479957)\n",
      "(-4.316419192380053, -3.9164424390431747)\n",
      "(-4.316887091018826, -3.9814731594889445)\n",
      "(-4.317817789337918, -4.0301061559964015)\n",
      "(-4.31856032685527, -4.072676342349219)\n",
      "(-4.31986131250267, -4.103872153956869)\n"
     ]
    },
    {
     "data": {
      "application/vnd.jupyter.widget-view+json": {
       "model_id": "14c6d43ddc9441fdb7c5cd1f458b74e1",
       "version_major": 2,
       "version_minor": 0
      },
      "text/plain": [
       "  0%|          | 0/18000 [00:00<?, ?it/s]"
      ]
     },
     "metadata": {},
     "output_type": "display_data"
    },
    {
     "name": "stdout",
     "output_type": "stream",
     "text": [
      "(-0.6021820008979947, -0.7375450403538376)\n",
      "(-1.2493704946616813, -1.2174930513166233)\n",
      "(-2.418388939530405, -1.8148268822699747)\n",
      "(-4.037116296025762, -2.0471061338263263)\n",
      "(-4.223810739841211, -2.1562693484007385)\n",
      "(-4.281573981741358, -2.2400063596654807)\n",
      "(-4.323280476379083, -2.330017366791932)\n",
      "(-4.353177576608705, -2.4558665685013787)\n",
      "(-4.364696185575856, -2.5884016884714502)\n",
      "(-4.3698740369968965, -2.7308544315400516)\n",
      "(-4.374277601207553, -2.8919381738327785)\n",
      "(-4.378185653911237, -3.045061004026936)\n",
      "(-4.380749633953889, -3.2151341020633035)\n",
      "(-4.383574056022625, -3.3861985963192676)\n",
      "(-4.385249299365811, -3.541527466723356)\n",
      "(-4.387654261927387, -3.6990829622437906)\n",
      "(-4.3916937604802975, -3.8264922576181526)\n",
      "(-4.3931071801119, -3.9333536794602133)\n",
      "(-4.397182397659234, -4.0248586525058725)\n",
      "(-4.400228849570433, -4.092194584464226)\n",
      "(-4.4050509744072714, -4.151728936523568)\n",
      "(-4.409942050204, -4.201391244687961)\n",
      "(-4.415167455438698, -4.2405097413423665)\n",
      "(-4.421298471252186, -4.277716713769225)\n"
     ]
    },
    {
     "data": {
      "application/vnd.jupyter.widget-view+json": {
       "model_id": "a49af9ae880f4832a93c0952d15b8dcb",
       "version_major": 2,
       "version_minor": 0
      },
      "text/plain": [
       "  0%|          | 0/18000 [00:00<?, ?it/s]"
      ]
     },
     "metadata": {},
     "output_type": "display_data"
    },
    {
     "name": "stdout",
     "output_type": "stream",
     "text": [
      "(-0.5997843405536636, -0.7677011069252441)\n",
      "(-1.2806195464894405, -1.2608551190260797)\n",
      "(-2.508342109608857, -1.709506966020323)\n",
      "(-3.94011027050416, -1.9677440248179687)\n",
      "(-4.2579561968741535, -2.1652671801392245)\n",
      "(-4.296561057806449, -2.2843714673894033)\n",
      "(-4.302127043203799, -2.3632530619970282)\n",
      "(-4.308556183551668, -2.4323522174446643)\n",
      "(-4.314655281718263, -2.486252155208553)\n",
      "(-4.318195254651234, -2.533267333242975)\n",
      "(-4.3241779461952925, -2.5773417750865883)\n",
      "(-4.330338024181796, -2.6125245337802996)\n",
      "(-4.336913306355962, -2.646396812720025)\n",
      "(-4.344940950442671, -2.6774328715613462)\n",
      "(-4.351375374904524, -2.7047843935167144)\n",
      "(-4.357741770103692, -2.734406994700378)\n",
      "(-4.363072857750821, -2.7616958433504775)\n",
      "(-4.36763270063072, -2.789248048256524)\n",
      "(-4.371767968431845, -2.819204572593375)\n",
      "(-4.375417786453428, -2.8466494259322324)\n",
      "(-4.378886090241382, -2.8766664661800343)\n",
      "(-4.383398591459937, -2.9071130093259)\n",
      "(-4.3873861041380575, -2.9357783292872894)\n",
      "(-4.391015095793219, -2.968100288238836)\n",
      "(-4.39661675291016, -2.998114889385306)\n",
      "(-4.402158989214812, -3.0282188233556036)\n",
      "(-4.408959133421013, -3.0601314504823587)\n",
      "(-4.416613363813648, -3.088534440563656)\n",
      "(-4.425547838930416, -3.118088157405318)\n",
      "(-4.4364168854768335, -3.1452564157025074)\n",
      "(-4.4457569849789635, -3.1688890896726023)\n",
      "(-4.456052339695081, -3.1930732273839917)\n",
      "(-4.465077134726263, -3.213592064424728)\n",
      "(-4.470750775815285, -3.232813955555495)\n",
      "(-4.476213645865161, -3.2507319192485324)\n",
      "(-4.480859781067403, -3.2656404331132816)\n"
     ]
    },
    {
     "data": {
      "application/vnd.jupyter.widget-view+json": {
       "model_id": "221142c80a804c319d6043b65548c5f1",
       "version_major": 2,
       "version_minor": 0
      },
      "text/plain": [
       "  0%|          | 0/18000 [00:00<?, ?it/s]"
      ]
     },
     "metadata": {},
     "output_type": "display_data"
    },
    {
     "name": "stdout",
     "output_type": "stream",
     "text": [
      "(-0.5675239913435364, -0.763641301546526)\n",
      "(-1.2562195826206872, -1.2447900386869393)\n",
      "(-2.5520834352734414, -1.845041240078326)\n",
      "(-4.019443009082588, -2.1648848760209245)\n",
      "(-4.273077809213907, -2.396652841621131)\n",
      "(-4.359632961991881, -2.5436036678860776)\n",
      "(-4.406711298571994, -2.6317002190165004)\n",
      "(-4.420384401312274, -2.69367440519645)\n",
      "(-4.427678532935947, -2.735943669902882)\n",
      "(-4.430610630796, -2.77320688788062)\n",
      "(-4.433025695707259, -2.812299956667531)\n",
      "(-4.434265668438262, -2.84953911907048)\n",
      "(-4.434450259685301, -2.8926014496646006)\n",
      "(-4.436592582107273, -2.937794312626319)\n",
      "(-4.436833405145666, -2.98181090445245)\n",
      "(-4.43823799747488, -3.0318783153942794)\n",
      "(-4.438278917947916, -3.079667473293274)\n",
      "(-4.439209003996648, -3.1278215709424786)\n",
      "(-4.439169891931176, -3.180734941760326)\n",
      "(-4.4398726022154635, -3.2288570531835386)\n",
      "(-4.439841265802863, -3.281737704213613)\n",
      "(-4.44104762270325, -3.334648939688434)\n",
      "(-4.441166590630203, -3.384558923972716)\n",
      "(-4.441607587214365, -3.441143072220372)\n",
      "(-4.442357901373271, -3.494041695345975)\n",
      "(-4.442967523777279, -3.548513015611346)\n",
      "(-4.442789481148656, -3.6070846191834063)\n",
      "(-4.443269354372433, -3.6603261095807853)\n",
      "(-4.4444397834305605, -3.717444075641696)\n",
      "(-4.444471591601668, -3.773253176258786)\n",
      "(-4.444178736711037, -3.823118676184432)\n",
      "(-4.443557272417751, -3.875286535847857)\n",
      "(-4.4451421796763455, -3.919536764275626)\n",
      "(-4.444012201840835, -3.9598517749617956)\n",
      "(-4.444774892054662, -3.9960328803522436)\n",
      "(-4.444608741672839, -4.024837153111305)\n"
     ]
    },
    {
     "data": {
      "application/vnd.jupyter.widget-view+json": {
       "model_id": "e83d1ce2b0564e6b995882b816e0bfbf",
       "version_major": 2,
       "version_minor": 0
      },
      "text/plain": [
       "  0%|          | 0/18000 [00:00<?, ?it/s]"
      ]
     },
     "metadata": {},
     "output_type": "display_data"
    },
    {
     "name": "stdout",
     "output_type": "stream",
     "text": [
      "(-0.6377777476053923, -0.7740670487466218)\n",
      "(-1.3804921499957463, -1.2690457325667055)\n",
      "(-2.407988325116654, -1.6744064783800647)\n",
      "(-3.4887120655004566, -1.9408060473084106)\n",
      "(-4.146203684643551, -2.136716826502368)\n",
      "(-4.282886407184581, -2.302235613779353)\n",
      "(-4.346057213658314, -2.426772335210985)\n",
      "(-4.37417819006005, -2.5130368268846888)\n",
      "(-4.381271171524395, -2.56464423585868)\n",
      "(-4.386752780520541, -2.591001728275331)\n",
      "(-4.391232405329879, -2.606451358924738)\n",
      "(-4.396355177897839, -2.6219350120382363)\n",
      "(-4.408213622582435, -2.642134979822099)\n",
      "(-4.428175066226944, -2.66732702013584)\n",
      "(-4.474830999445333, -2.6946515234839423)\n",
      "(-4.512167945993443, -2.719932472929201)\n",
      "(-4.53654044370269, -2.7461833988015085)\n",
      "(-4.546723775815519, -2.777578285956233)\n",
      "(-4.552774902242442, -2.8120200577287817)\n",
      "(-4.554658110672932, -2.851391618152872)\n",
      "(-4.558332567936271, -2.897806225406286)\n",
      "(-4.56020390235549, -2.949484961539898)\n",
      "(-4.5545218185735425, -3.003161954268418)\n",
      "(-4.559708932720737, -3.0602453152612012)\n",
      "(-4.56144170160907, -3.1254981329842813)\n",
      "(-4.5625344037387165, -3.19546229536211)\n",
      "(-4.557326956743967, -3.266068706552335)\n",
      "(-4.559949158351692, -3.340501827734647)\n",
      "(-4.561957127537619, -3.423467851664051)\n",
      "(-4.558249488033468, -3.51110050778054)\n",
      "(-4.56126657610974, -3.5983626677349427)\n",
      "(-4.564562718797497, -3.6882332941921234)\n",
      "(-4.56449324668633, -3.7849527406552506)\n",
      "(-4.565299605049673, -3.88236313576928)\n",
      "(-4.567041651528798, -3.9717154040223313)\n",
      "(-4.5665178454413216, -4.055529464914081)\n"
     ]
    },
    {
     "data": {
      "application/vnd.jupyter.widget-view+json": {
       "model_id": "baf7cb555d844a8d9cbb142a567c4fbc",
       "version_major": 2,
       "version_minor": 0
      },
      "text/plain": [
       "  0%|          | 0/18000 [00:00<?, ?it/s]"
      ]
     },
     "metadata": {},
     "output_type": "display_data"
    },
    {
     "name": "stdout",
     "output_type": "stream",
     "text": [
      "(-0.5441976363234418, -0.7033531013874796)\n",
      "(-1.328258981084044, -1.2617244675453425)\n",
      "(-2.590392673883456, -1.8018457928587441)\n",
      "(-4.199405167158895, -1.9152279483905286)\n",
      "(-4.259310679585956, -1.9396213828112208)\n",
      "(-4.275084387454954, -1.989106154763696)\n",
      "(-4.284572184916613, -2.054679239468801)\n",
      "(-4.29266100275403, -2.1308059488384234)\n",
      "(-4.3037440360924535, -2.21968533546944)\n",
      "(-4.326435741590742, -2.3157992112666856)\n",
      "(-4.370718508275941, -2.4116693393498654)\n",
      "(-4.403255189916571, -2.5104716805117833)\n",
      "(-4.415791604129754, -2.6155060796626755)\n",
      "(-4.4256292473635295, -2.7208883478584323)\n",
      "(-4.430797405641791, -2.8195388741630554)\n",
      "(-4.434663637266541, -2.9154811044415982)\n",
      "(-4.437307552222308, -3.0128276314683435)\n",
      "(-4.438555237057978, -3.106443822405953)\n",
      "(-4.443579100467576, -3.1899050524593284)\n",
      "(-4.44459095450751, -3.2679477985158907)\n",
      "(-4.447915480859751, -3.3451541525179596)\n",
      "(-4.448335879839278, -3.415181820165087)\n",
      "(-4.449226206185663, -3.4782821752225623)\n",
      "(-4.448453284420475, -3.535285486438088)\n",
      "(-4.452256710351329, -3.5899967055379403)\n",
      "(-4.451845868447526, -3.6414817738334544)\n",
      "(-4.452862794942554, -3.686661362516797)\n",
      "(-4.452556581008819, -3.727813004368109)\n",
      "(-4.453805674195902, -3.7689874490459787)\n",
      "(-4.4534995025647355, -3.8075191120512004)\n",
      "(-4.453130328284643, -3.8436557771283546)\n",
      "(-4.452193132387888, -3.879121209862181)\n",
      "(-4.45304395272672, -3.91520575699963)\n",
      "(-4.452575491921938, -3.950911673935683)\n",
      "(-4.454755188019956, -3.9842900399130867)\n",
      "(-4.455320188647534, -4.019634222394154)\n"
     ]
    },
    {
     "data": {
      "application/vnd.jupyter.widget-view+json": {
       "model_id": "45cd01cb5d5347bb8e8668500ceb9660",
       "version_major": 2,
       "version_minor": 0
      },
      "text/plain": [
       "  0%|          | 0/18000 [00:00<?, ?it/s]"
      ]
     },
     "metadata": {},
     "output_type": "display_data"
    },
    {
     "name": "stdout",
     "output_type": "stream",
     "text": [
      "(-0.6317241854595236, -0.664922751882131)\n",
      "(-1.3823977900640585, -1.2093221224281234)\n",
      "(-2.8608581413118745, -1.7622084947982883)\n",
      "(-4.192864140867494, -1.9631140709249864)\n",
      "(-4.244989226127044, -2.1119633354823057)\n",
      "(-4.263176499310325, -2.246438844295191)\n",
      "(-4.273166224406958, -2.3660970303126843)\n",
      "(-4.2821864861229475, -2.4821435155638754)\n",
      "(-4.288861009487482, -2.603238425883474)\n",
      "(-4.296761685256132, -2.7243394826952914)\n",
      "(-4.29808417449503, -2.840547907289486)\n",
      "(-4.302803536709657, -2.9583989303131366)\n",
      "(-4.306311995270403, -3.0850894604294288)\n",
      "(-4.306337667956517, -3.2157781653637945)\n",
      "(-4.309341852563837, -3.3413252370697837)\n",
      "(-4.310289390477851, -3.46585487456963)\n",
      "(-4.311048388422478, -3.5922933600251996)\n",
      "(-4.313483243439655, -3.7075327347844644)\n",
      "(-4.313240057603932, -3.798987916224252)\n",
      "(-4.314999258571251, -3.8706518030204875)\n",
      "(-4.315762334953505, -3.9320265047736003)\n",
      "(-4.313717152299381, -3.9873216382887895)\n",
      "(-4.313325777347, -4.037875342992966)\n",
      "(-4.313344068628251, -4.084092258360279)\n",
      "(-4.3138352879125765, -4.1286194946660535)\n",
      "(-4.31765595905274, -4.164567138401393)\n",
      "(-4.316899496560486, -4.191267667583815)\n"
     ]
    },
    {
     "data": {
      "application/vnd.jupyter.widget-view+json": {
       "model_id": "02fb2b60e1c04362b818487394d7b1e7",
       "version_major": 2,
       "version_minor": 0
      },
      "text/plain": [
       "  0%|          | 0/18000 [00:00<?, ?it/s]"
      ]
     },
     "metadata": {},
     "output_type": "display_data"
    },
    {
     "name": "stdout",
     "output_type": "stream",
     "text": [
      "(-0.5229864497124048, -0.6525577003427381)\n",
      "(-1.2735050695245764, -1.0617721670244427)\n",
      "(-2.604247217268547, -1.3626899113364164)\n",
      "(-4.048203173627761, -1.5464309607953373)\n",
      "(-4.170451468131886, -1.712816350688839)\n",
      "(-4.236094276466422, -1.877961455595146)\n",
      "(-4.269581811931407, -2.029154580257754)\n",
      "(-4.28450652762956, -2.164914321719395)\n",
      "(-4.295453693496941, -2.289779137396599)\n",
      "(-4.29969876730122, -2.4019371585636766)\n",
      "(-4.302190020937553, -2.5031757424600922)\n",
      "(-4.307613463623099, -2.6036455423834575)\n",
      "(-4.308472631209446, -2.7109764145364186)\n",
      "(-4.311133274044709, -2.8219297418534297)\n",
      "(-4.311626528265359, -2.929960885780509)\n",
      "(-4.312583198412842, -3.0388957664309433)\n",
      "(-4.315519267049345, -3.154912155291598)\n",
      "(-4.3159554706752745, -3.268857583401493)\n",
      "(-4.3171301133305136, -3.372278591270558)\n",
      "(-4.316492151760076, -3.4708965385765955)\n",
      "(-4.318682399922172, -3.5670731770270194)\n",
      "(-4.320385672613903, -3.653340282731397)\n",
      "(-4.32102081294414, -3.7286094307383113)\n",
      "(-4.321233302994754, -3.794323635323846)\n",
      "(-4.323097831401224, -3.8524457969615917)\n",
      "(-4.326061351289206, -3.9003964552939543)\n",
      "(-4.326864317149678, -3.933761155913908)\n",
      "(-4.328072001592913, -3.9535645961523067)\n"
     ]
    },
    {
     "data": {
      "application/vnd.jupyter.widget-view+json": {
       "model_id": "45b9d652eabd425eb3a9bd31bf9df27c",
       "version_major": 2,
       "version_minor": 0
      },
      "text/plain": [
       "  0%|          | 0/18000 [00:00<?, ?it/s]"
      ]
     },
     "metadata": {},
     "output_type": "display_data"
    },
    {
     "name": "stdout",
     "output_type": "stream",
     "text": [
      "(-0.5410764059755284, -0.751371890402173)\n",
      "(-1.2584577349925938, -1.2307642006903314)\n",
      "(-2.373544236271684, -1.4546709245156142)\n",
      "(-3.4058146467809247, -1.6095964421968398)\n",
      "(-4.202816183113222, -1.7532160728020416)\n",
      "(-4.283557116801965, -1.8731264919362076)\n",
      "(-4.386523187838429, -1.9675331604966793)\n",
      "(-4.412830302241807, -2.0541437649449605)\n",
      "(-4.428041263477367, -2.1442392761467493)\n",
      "(-4.436345869788821, -2.2371253518097074)\n",
      "(-4.442634792869848, -2.33017159822532)\n",
      "(-4.448218681457919, -2.4301238208542073)\n",
      "(-4.456430074333762, -2.544978363954355)\n",
      "(-4.46148108060448, -2.6716447010270645)\n",
      "(-4.467714968760081, -2.802095243446452)\n",
      "(-4.471234655756371, -2.941077236730861)\n",
      "(-4.493007933340576, -3.0932795606493797)\n",
      "(-4.509315432185003, -3.240540148002572)\n",
      "(-4.5238606371559715, -3.358911957141215)\n",
      "(-4.53736719931582, -3.4403795760142764)\n",
      "(-4.546149998585517, -3.4880354494591836)\n",
      "(-4.551505055249721, -3.51000874668977)\n"
     ]
    },
    {
     "data": {
      "application/vnd.jupyter.widget-view+json": {
       "model_id": "dd1c6d6253e543fab4d569df727943c5",
       "version_major": 2,
       "version_minor": 0
      },
      "text/plain": [
       "  0%|          | 0/18000 [00:00<?, ?it/s]"
      ]
     },
     "metadata": {},
     "output_type": "display_data"
    },
    {
     "name": "stdout",
     "output_type": "stream",
     "text": [
      "(-0.6135392298462553, -0.8288710909205484)\n",
      "(-1.3846777987513266, -1.398636859138019)\n",
      "(-2.7477083529361317, -1.7989035470690977)\n",
      "(-3.820633482259769, -1.8225540157312292)\n",
      "(-4.249812855496374, -1.919128311376034)\n",
      "(-4.335754696865603, -2.0630535536989196)\n",
      "(-4.361153748392571, -2.1962027149082712)\n",
      "(-4.3791869602415865, -2.322733667340263)\n",
      "(-4.39238151500592, -2.4418629155759697)\n",
      "(-4.39999726472964, -2.5614603774699924)\n",
      "(-4.409775772295792, -2.685831437624431)\n",
      "(-4.41733852619871, -2.8077650616092)\n",
      "(-4.418996032510824, -2.920027121103389)\n",
      "(-4.423799729916051, -3.025852830205072)\n",
      "(-4.425525035967263, -3.1272215019882323)\n",
      "(-4.4292931574714345, -3.2179448951654157)\n",
      "(-4.4284699099408344, -3.29385380334222)\n",
      "(-4.425670207954204, -3.362600782762259)\n",
      "(-4.428997414644984, -3.427405057914284)\n",
      "(-4.432220473604902, -3.4867622543546086)\n",
      "(-4.432835160352045, -3.542972014439266)\n",
      "(-4.432453868282322, -3.6001572430649715)\n",
      "(-4.432251453713149, -3.662636160334919)\n",
      "(-4.434962672283321, -3.726861279372291)\n",
      "(-4.4329904849543595, -3.7897834376049704)\n",
      "(-4.433217014940401, -3.852834376165624)\n",
      "(-4.43341081560153, -3.92006463316654)\n",
      "(-4.434238678497492, -3.9830421871331985)\n",
      "(-4.436663928335835, -4.041339765755799)\n",
      "(-4.437084229604769, -4.095600829869812)\n",
      "(-4.438193608993219, -4.148418006882487)\n",
      "(-4.438846348764559, -4.194912395115503)\n",
      "(-4.440359376933851, -4.232710805075837)\n"
     ]
    },
    {
     "data": {
      "application/vnd.jupyter.widget-view+json": {
       "model_id": "b7c82662b9d148ed819eedd9f681416c",
       "version_major": 2,
       "version_minor": 0
      },
      "text/plain": [
       "  0%|          | 0/18000 [00:00<?, ?it/s]"
      ]
     },
     "metadata": {},
     "output_type": "display_data"
    },
    {
     "name": "stdout",
     "output_type": "stream",
     "text": [
      "(-0.6629031245546141, -0.6830449976204035)\n",
      "(-1.4139200441275546, -1.2479981154585975)\n",
      "(-3.0679468852997136, -2.1597841947965857)\n",
      "(-4.200064300475664, -2.3221196084857367)\n",
      "(-4.256317814860285, -2.4816420860724255)\n",
      "(-4.27812886209302, -2.67530741321623)\n",
      "(-4.291729943790579, -2.8733791786471357)\n",
      "(-4.302609648373179, -3.0454215252414256)\n",
      "(-4.307827732815002, -3.1776184906137517)\n",
      "(-4.311470450011079, -3.26871445980493)\n",
      "(-4.313165970850685, -3.323306794671944)\n",
      "(-4.311350739850179, -3.348922239544398)\n",
      "(-4.316937055446343, -3.3641052109408665)\n",
      "(-4.3157770622647895, -3.380525228784992)\n",
      "(-4.315153984888487, -3.406828136042353)\n",
      "(-4.315429504457446, -3.4437445229678447)\n",
      "(-4.317734729079525, -3.486801625945711)\n",
      "(-4.318132296875075, -3.5314470589794222)\n",
      "(-4.318420693461446, -3.5780910871131213)\n",
      "(-4.317967366290074, -3.6189187245291974)\n",
      "(-4.319749273630339, -3.6512799987789655)\n",
      "(-4.321464842864909, -3.6765123359857093)\n",
      "(-4.321541592830587, -3.696415345944673)\n"
     ]
    },
    {
     "data": {
      "application/vnd.jupyter.widget-view+json": {
       "model_id": "b06aff5d6d4b4476b03f52254374bb0b",
       "version_major": 2,
       "version_minor": 0
      },
      "text/plain": [
       "  0%|          | 0/18000 [00:00<?, ?it/s]"
      ]
     },
     "metadata": {},
     "output_type": "display_data"
    },
    {
     "name": "stdout",
     "output_type": "stream",
     "text": [
      "(-0.6627528858873216, -0.8061972143809851)\n",
      "(-1.5071339816501872, -1.425609086760594)\n",
      "(-3.5264824236881442, -1.7330974664992143)\n",
      "(-4.198012048649994, -1.8704878868947261)\n",
      "(-4.241453298831458, -1.9739323950853493)\n",
      "(-4.263775013550437, -2.048059344758)\n",
      "(-4.2782702496689335, -2.105770088916831)\n",
      "(-4.291017022965796, -2.148506618396337)\n",
      "(-4.296720191700713, -2.181220045464942)\n",
      "(-4.302257130792263, -2.210629394198876)\n",
      "(-4.304361318731454, -2.2423727728342975)\n",
      "(-4.307253497261783, -2.2793713757803986)\n",
      "(-4.3086681936149205, -2.3234496150383808)\n",
      "(-4.310943075209725, -2.3786852161436713)\n",
      "(-4.3118933980135274, -2.4505357631175873)\n",
      "(-4.313078102114449, -2.5341552082367467)\n",
      "(-4.315291726322657, -2.624459443474531)\n",
      "(-4.3124201075728195, -2.724324270955779)\n",
      "(-4.31382225666266, -2.837807705121485)\n",
      "(-4.315806167901897, -2.9593435625246287)\n",
      "(-4.316027108354024, -3.0848699242862034)\n",
      "(-4.3161741491993295, -3.219903519361504)\n",
      "(-4.316927539805163, -3.372575340841052)\n",
      "(-4.318158081228807, -3.5327930148298736)\n",
      "(-4.317863985352963, -3.689390991374447)\n",
      "(-4.318996595468644, -3.8418225127519126)\n",
      "(-4.319827814709038, -3.9786097242962533)\n",
      "(-4.319629515224423, -4.0835100648970135)\n",
      "(-4.321652661580022, -4.15296426002256)\n",
      "(-4.3211443502616715, -4.1991504512418345)\n"
     ]
    },
    {
     "data": {
      "application/vnd.jupyter.widget-view+json": {
       "model_id": "3edc7e471cdc45b5a786111f044b8b3d",
       "version_major": 2,
       "version_minor": 0
      },
      "text/plain": [
       "  0%|          | 0/18000 [00:00<?, ?it/s]"
      ]
     },
     "metadata": {},
     "output_type": "display_data"
    },
    {
     "name": "stdout",
     "output_type": "stream",
     "text": [
      "(-0.6135475834230889, -0.6584358923805957)\n",
      "(-1.3546294749216774, -1.1408450480805152)\n",
      "(-2.8522563246743387, -1.3765088554226914)\n",
      "(-4.251713828179937, -1.4948533437541036)\n",
      "(-4.280367079863167, -1.5938526181662624)\n",
      "(-4.293152410379856, -1.6954146566457138)\n",
      "(-4.314652189422435, -1.80508321288561)\n",
      "(-4.350871884527125, -1.9177920121114305)\n",
      "(-4.36984489085037, -2.030584080902069)\n",
      "(-4.3796759610919915, -2.1495157624375665)\n",
      "(-4.380800757010684, -2.280912107449714)\n",
      "(-4.3835079326976825, -2.4188043110920936)\n",
      "(-4.387164771896983, -2.5584603872303653)\n",
      "(-4.386893186406232, -2.708486795123107)\n",
      "(-4.3902778033872005, -2.8807232414081736)\n",
      "(-4.389294814183481, -3.066570788385903)\n",
      "(-4.391865160743267, -3.2589017005613012)\n",
      "(-4.390305350151369, -3.4647348870493264)\n",
      "(-4.39220745822732, -3.6910224449869564)\n",
      "(-4.39349369514288, -3.916538465764551)\n",
      "(-4.39328220232591, -4.115058776659995)\n",
      "(-4.39476855481128, -4.2726513901128165)\n",
      "(-4.393680792302651, -4.3646336987876015)\n"
     ]
    },
    {
     "data": {
      "application/vnd.jupyter.widget-view+json": {
       "model_id": "42625bc1a53c42aab0c805ee02a95905",
       "version_major": 2,
       "version_minor": 0
      },
      "text/plain": [
       "  0%|          | 0/18000 [00:00<?, ?it/s]"
      ]
     },
     "metadata": {},
     "output_type": "display_data"
    },
    {
     "name": "stdout",
     "output_type": "stream",
     "text": [
      "(-0.7139483851359423, -0.6329470688575447)\n",
      "(-1.5088674276060987, -1.0886036749800945)\n",
      "(-2.968836589601936, -1.4739677428998328)\n",
      "(-4.032844403881626, -1.7684890418062922)\n",
      "(-4.238253179996315, -2.0382035750679566)\n",
      "(-4.323916094678072, -2.2416274825926803)\n",
      "(-4.345965592448739, -2.3692146160269543)\n",
      "(-4.355590143788286, -2.456706890858556)\n",
      "(-4.36265414986676, -2.5310552633302934)\n",
      "(-4.367342159871783, -2.606556697084041)\n",
      "(-4.369881581930575, -2.691659644167055)\n",
      "(-4.374800747719609, -2.78443189433357)\n",
      "(-4.3805546438286065, -2.880549811177427)\n",
      "(-4.382665864768981, -2.9868594118180827)\n",
      "(-4.3844109094998815, -3.107379771411315)\n",
      "(-4.386897449682304, -3.233266373382869)\n",
      "(-4.387617029897175, -3.356241624923944)\n",
      "(-4.38901239589323, -3.479177264229128)\n",
      "(-4.390129075134179, -3.6026035479173806)\n",
      "(-4.3903301360167655, -3.717503491947957)\n",
      "(-4.391695296925405, -3.816148282008746)\n",
      "(-4.391357125040511, -3.9008338166401018)\n",
      "(-4.390961550857527, -3.9722484404989475)\n",
      "(-4.39285549042971, -4.022977797845183)\n",
      "(-4.394231935455735, -4.057234421584339)\n"
     ]
    },
    {
     "data": {
      "application/vnd.jupyter.widget-view+json": {
       "model_id": "ea7cf3ac93e1426ba053491c34702584",
       "version_major": 2,
       "version_minor": 0
      },
      "text/plain": [
       "  0%|          | 0/18000 [00:00<?, ?it/s]"
      ]
     },
     "metadata": {},
     "output_type": "display_data"
    },
    {
     "name": "stdout",
     "output_type": "stream",
     "text": [
      "(-0.6813162273641444, -0.6680300040393208)\n",
      "(-1.3548593082160652, -1.0431600638638454)\n",
      "(-2.4158822223845053, -1.268764424686859)\n",
      "(-3.241786954759746, -1.3575908200340578)\n",
      "(-3.8506442089724704, -1.4608393226638576)\n",
      "(-4.14544164677892, -1.5568083980417726)\n",
      "(-4.259537970960816, -1.6350250808330409)\n",
      "(-4.307162168124154, -1.7087235319835197)\n",
      "(-4.3318092395953185, -1.7676386241020134)\n",
      "(-4.36277810030661, -1.815781846350363)\n",
      "(-4.399344011795488, -1.853008344495173)\n",
      "(-4.410553633445852, -1.880465991463997)\n",
      "(-4.415155496326484, -1.910452316964408)\n",
      "(-4.419956765935811, -1.9419567485449696)\n",
      "(-4.4223064009132464, -1.9725012676328662)\n",
      "(-4.423956513953396, -2.0077953293741664)\n",
      "(-4.427989293752884, -2.0413154395142508)\n",
      "(-4.42814676831585, -2.075707154341045)\n",
      "(-4.429153983185356, -2.1131149561400338)\n",
      "(-4.430778199213573, -2.1471204772095187)\n",
      "(-4.43135067811709, -2.184180711840572)\n",
      "(-4.433229298702338, -2.221052494087154)\n",
      "(-4.4326168280401745, -2.255674302446751)\n",
      "(-4.434462865216394, -2.2942989444228616)\n",
      "(-4.435553219074449, -2.330253282106203)\n",
      "(-4.435935821877276, -2.3668160708799157)\n",
      "(-4.43692100635131, -2.4059225253559813)\n",
      "(-4.436569781740909, -2.4417919683536438)\n",
      "(-4.436974093253917, -2.4810670446562435)\n",
      "(-4.439039568210796, -2.5202979145603552)\n",
      "(-4.439262321064463, -2.557343741570391)\n",
      "(-4.44038910708523, -2.59891854580618)\n",
      "(-4.4406874393908975, -2.637734564675597)\n",
      "(-4.441496211608917, -2.6771012237692253)\n",
      "(-4.441590008231452, -2.7193219439163707)\n",
      "(-4.443507424388817, -2.75791797892616)\n"
     ]
    },
    {
     "data": {
      "application/vnd.jupyter.widget-view+json": {
       "model_id": "a5194c723e374ef5be5d4c8767835b60",
       "version_major": 2,
       "version_minor": 0
      },
      "text/plain": [
       "  0%|          | 0/18000 [00:00<?, ?it/s]"
      ]
     },
     "metadata": {},
     "output_type": "display_data"
    },
    {
     "name": "stdout",
     "output_type": "stream",
     "text": [
      "(-0.632227278408921, -0.6256195639197328)\n",
      "(-1.2942227849891468, -1.1392975116366273)\n",
      "(-2.4631402981854404, -1.6781771544692061)\n",
      "(-3.9977537588415264, -1.9283617995102225)\n",
      "(-4.211384255214065, -2.1183943482438035)\n",
      "(-4.263269752073682, -2.2930261497258377)\n",
      "(-4.290657341865736, -2.4482896969132857)\n",
      "(-4.30948477267364, -2.607786527466301)\n",
      "(-4.324642898532591, -2.739965554209191)\n",
      "(-4.3334245950976085, -2.8539436263791527)\n",
      "(-4.342196842904324, -2.9535442681335233)\n",
      "(-4.349210043855522, -3.0273253014603156)\n",
      "(-4.357985295709593, -3.0953775058022925)\n",
      "(-4.369752652482678, -3.1560882098268115)\n",
      "(-4.381625063187377, -3.21083847134408)\n",
      "(-4.390609188535082, -3.267978403579383)\n",
      "(-4.397977610636635, -3.317637536189105)\n",
      "(-4.402391699750732, -3.3642645926748305)\n",
      "(-4.4061864259544485, -3.4123613568835447)\n",
      "(-4.409737693481964, -3.454638393557872)\n",
      "(-4.412924906547883, -3.5000042073624384)\n",
      "(-4.417086074489865, -3.546312137167517)\n",
      "(-4.42067429530623, -3.589277635030997)\n",
      "(-4.42398110791034, -3.637465256848297)\n",
      "(-4.428475042143367, -3.6821392636044585)\n",
      "(-4.43301841352727, -3.7270007329099477)\n",
      "(-4.438610405036088, -3.7725713410994945)\n",
      "(-4.445279026986678, -3.8119932153326057)\n",
      "(-4.451666471420865, -3.8501425348881955)\n",
      "(-4.459094103648706, -3.8830282389706348)\n",
      "(-4.46641081536307, -3.907540625408362)\n",
      "(-4.4742043022882605, -3.9261929136623035)\n"
     ]
    },
    {
     "data": {
      "application/vnd.jupyter.widget-view+json": {
       "model_id": "5981e166490f4c40ac0789cd95f0a3e7",
       "version_major": 2,
       "version_minor": 0
      },
      "text/plain": [
       "  0%|          | 0/18000 [00:00<?, ?it/s]"
      ]
     },
     "metadata": {},
     "output_type": "display_data"
    },
    {
     "name": "stdout",
     "output_type": "stream",
     "text": [
      "(-0.6587604698297187, -0.6771807204719039)\n",
      "(-1.331134563710371, -1.2401759516613107)\n",
      "(-2.699139906605791, -1.909394864728974)\n",
      "(-4.01246739246036, -2.1056471429235364)\n",
      "(-4.274818189428664, -2.2205915128117)\n",
      "(-4.3061925029143655, -2.324349252273748)\n",
      "(-4.318774952439488, -2.40060540149609)\n",
      "(-4.3263729972453175, -2.4679679565339447)\n",
      "(-4.329808306243804, -2.5226269753644996)\n",
      "(-4.332399608348928, -2.575997423280673)\n",
      "(-4.334072455535296, -2.632740327459631)\n",
      "(-4.335887797709074, -2.684553346799404)\n",
      "(-4.336816785335424, -2.7405504832969965)\n",
      "(-4.338012973770148, -2.796406037429873)\n",
      "(-4.3393306637521345, -2.8495405185862293)\n",
      "(-4.339851958890652, -2.9096971696115976)\n",
      "(-4.341865214608255, -2.9669698898854313)\n",
      "(-4.343248590509341, -3.0267589554225705)\n",
      "(-4.344041163689525, -3.0925761721865963)\n",
      "(-4.346094008412537, -3.15474956967318)\n",
      "(-4.347159663591811, -3.2244092586844255)\n",
      "(-4.349127317537299, -3.296627045341174)\n",
      "(-4.351697931364259, -3.3661385741773096)\n",
      "(-4.354597388137739, -3.4456258222828433)\n",
      "(-4.358784000975344, -3.520221321878087)\n",
      "(-4.363274726055554, -3.595340219470988)\n",
      "(-4.369423806860771, -3.674335333077813)\n",
      "(-4.376171696703954, -3.7425042508293864)\n",
      "(-4.383985967360493, -3.81171610279195)\n",
      "(-4.393117781599269, -3.875329431187345)\n",
      "(-4.401341782319293, -3.9298348006992914)\n",
      "(-4.409153084153303, -3.983389712324695)\n",
      "(-4.416205501499163, -4.027826787743256)\n",
      "(-4.4215814400209705, -4.0665001153449545)\n",
      "(-4.425503365738584, -4.101513574670651)\n",
      "(-4.428004045515942, -4.126138938517432)\n"
     ]
    },
    {
     "data": {
      "application/vnd.jupyter.widget-view+json": {
       "model_id": "1c8da31c6d7f4c79b9fe1053a58274c7",
       "version_major": 2,
       "version_minor": 0
      },
      "text/plain": [
       "  0%|          | 0/18000 [00:00<?, ?it/s]"
      ]
     },
     "metadata": {},
     "output_type": "display_data"
    },
    {
     "name": "stdout",
     "output_type": "stream",
     "text": [
      "(-0.6273146921000315, -0.5678012036102142)\n",
      "(-1.2672406177224607, -1.0458436687270216)\n",
      "(-2.4004053302142956, -1.3978435225128458)\n",
      "(-3.98322096594005, -1.5236529023287468)\n",
      "(-4.244100498022355, -1.6100797660791513)\n",
      "(-4.281116786415002, -1.6838807157179003)\n",
      "(-4.296542989826216, -1.7469946260849576)\n",
      "(-4.306153826236769, -1.8132378680028869)\n",
      "(-4.312662628008348, -1.8719602433836977)\n",
      "(-4.3168294825489015, -1.9293094840601777)\n",
      "(-4.3207104609540625, -1.9887172605640584)\n",
      "(-4.324399531125305, -2.0412097909682254)\n",
      "(-4.327305767920542, -2.0969638129534935)\n",
      "(-4.3307793307852, -2.151339801596751)\n",
      "(-4.333060974061426, -2.2014432375295967)\n",
      "(-4.336157675193132, -2.2562834459387484)\n",
      "(-4.3408535426465455, -2.3070377007109606)\n",
      "(-4.345501082101282, -2.3580339683688987)\n",
      "(-4.353320752911614, -2.412936060729876)\n",
      "(-4.3661981938866905, -2.4637833307220154)\n",
      "(-4.384610535695075, -2.5204397040881297)\n",
      "(-4.405148896320805, -2.5769883135382883)\n",
      "(-4.417440432886206, -2.6275007630991483)\n",
      "(-4.42406869168124, -2.6829973558504037)\n",
      "(-4.42760336326075, -2.7347685228308767)\n",
      "(-4.430362414432982, -2.7878743621520776)\n",
      "(-4.432187773188262, -2.8461838113532707)\n",
      "(-4.434905406446578, -2.90010977261007)\n",
      "(-4.436659207582134, -2.9594818091066872)\n",
      "(-4.438373793482106, -3.0200810923505967)\n",
      "(-4.440667427101895, -3.0776218629831065)\n",
      "(-4.442019267584542, -3.1426845894521795)\n",
      "(-4.444655216354059, -3.2046200935764535)\n",
      "(-4.447087362180018, -3.2682637066472786)\n",
      "(-4.44963900367277, -3.3376222613058903)\n",
      "(-4.452028802660783, -3.401056647952114)\n"
     ]
    },
    {
     "data": {
      "application/vnd.jupyter.widget-view+json": {
       "model_id": "e796d4a8ad094a78956c1c11003a0c10",
       "version_major": 2,
       "version_minor": 0
      },
      "text/plain": [
       "  0%|          | 0/18000 [00:00<?, ?it/s]"
      ]
     },
     "metadata": {},
     "output_type": "display_data"
    },
    {
     "name": "stdout",
     "output_type": "stream",
     "text": [
      "(-0.627917254892306, -0.5513729084004042)\n",
      "(-1.26656106272752, -0.9937907206380315)\n",
      "(-2.4120092762553105, -1.5224092361496762)\n",
      "(-3.797944713532118, -1.828080174304873)\n",
      "(-4.224331743802434, -1.9803325720344542)\n",
      "(-4.260869748962322, -2.0656563842490785)\n",
      "(-4.282117613445427, -2.1285389686628426)\n",
      "(-4.299521459504899, -2.1959269841102182)\n",
      "(-4.317795382479735, -2.2631907465015417)\n",
      "(-4.340671985592496, -2.336313673872662)\n",
      "(-4.369764139430314, -2.416140337452739)\n",
      "(-4.389980478961315, -2.4843732708217527)\n",
      "(-4.401096800900782, -2.5559637362976093)\n",
      "(-4.4106744387432615, -2.625431912586648)\n",
      "(-4.41668775731655, -2.688384601890544)\n",
      "(-4.4223628285750385, -2.7522491321684663)\n",
      "(-4.425493344341222, -2.804770371054838)\n",
      "(-4.428448313423024, -2.8494756039034104)\n",
      "(-4.431426448059943, -2.8884759379060276)\n",
      "(-4.433425120362991, -2.9161320661726466)\n",
      "(-4.434064644552495, -2.9393318630304495)\n",
      "(-4.435693401918373, -2.9569079612838856)\n",
      "(-4.437100252146372, -2.9693320493557414)\n",
      "(-4.43758858853032, -2.980036710981066)\n",
      "(-4.437929748599752, -2.9887529893424394)\n",
      "(-4.438956328129471, -2.996545819841983)\n",
      "(-4.439888447462386, -3.00429009590286)\n",
      "(-4.440349511577505, -3.011356033128292)\n",
      "(-4.441210457942407, -3.0195316615256877)\n",
      "(-4.4419731740290045, -3.0281100073189187)\n",
      "(-4.441273999316381, -3.0364563526710864)\n",
      "(-4.442109328599959, -3.047319476196499)\n",
      "(-4.443548410698804, -3.057773884565741)\n",
      "(-4.443650803753238, -3.0689549526301043)\n",
      "(-4.444772682172635, -3.082030604913615)\n",
      "(-4.444952682350788, -3.094584124110243)\n"
     ]
    },
    {
     "data": {
      "application/vnd.jupyter.widget-view+json": {
       "model_id": "964892724c8c42668db09e17d64da4cc",
       "version_major": 2,
       "version_minor": 0
      },
      "text/plain": [
       "  0%|          | 0/18000 [00:00<?, ?it/s]"
      ]
     },
     "metadata": {},
     "output_type": "display_data"
    },
    {
     "ename": "IndexError",
     "evalue": "list index out of range",
     "output_type": "error",
     "traceback": [
      "\u001b[0;31m---------------------------------------------------------------------------\u001b[0m",
      "\u001b[0;31mIndexError\u001b[0m                                Traceback (most recent call last)",
      "Cell \u001b[0;32mIn [175], line 56\u001b[0m\n\u001b[1;32m     53\u001b[0m early_stopper \u001b[38;5;241m=\u001b[39m EarlyStopping(patience\u001b[38;5;241m=\u001b[39m\u001b[38;5;241m50\u001b[39m, verbose\u001b[38;5;241m=\u001b[39m\u001b[38;5;28;01mFalse\u001b[39;00m, delta\u001b[38;5;241m=\u001b[39m\u001b[38;5;241m1e-7\u001b[39m, path\u001b[38;5;241m=\u001b[39m\u001b[38;5;124m'\u001b[39m\u001b[38;5;124mcheckpoint.pt\u001b[39m\u001b[38;5;124m'\u001b[39m, trace_func\u001b[38;5;241m=\u001b[39m\u001b[38;5;28mprint\u001b[39m)\u001b[38;5;66;03m#EarlyStopper(patience=8, min_delta=1e-3)\u001b[39;00m\n\u001b[1;32m     54\u001b[0m \u001b[38;5;66;03m#variance_store = [varu,varv,varw,varth]\u001b[39;00m\n\u001b[1;32m     55\u001b[0m \u001b[38;5;66;03m#variance_store = [varu,varv,varth]\u001b[39;00m\n\u001b[0;32m---> 56\u001b[0m model,loss \u001b[38;5;241m=\u001b[39m \u001b[43mtrain_model\u001b[49m\u001b[43m(\u001b[49m\u001b[43moptimizer\u001b[49m\u001b[38;5;241;43m=\u001b[39;49m\u001b[43moptimizer\u001b[49m\u001b[43m,\u001b[49m\u001b[43mscheduler\u001b[49m\u001b[38;5;241;43m=\u001b[39;49m\u001b[43m[\u001b[49m\u001b[43mscheduler\u001b[49m\u001b[43m,\u001b[49m\u001b[43mscheduler2\u001b[49m\u001b[43m]\u001b[49m\u001b[43m,\u001b[49m\u001b[43mnumepochs\u001b[49m\u001b[38;5;241;43m=\u001b[39;49m\u001b[43mnum_epochs\u001b[49m\u001b[43m,\u001b[49m\u001b[43mearly_stopper\u001b[49m\u001b[38;5;241;43m=\u001b[39;49m\u001b[43mearly_stopper\u001b[49m\u001b[43m,\u001b[49m\u001b[43mvariance_store\u001b[49m\u001b[38;5;241;43m=\u001b[39;49m\u001b[38;5;28;43;01mNone\u001b[39;49;00m\u001b[43m,\u001b[49m\u001b[43m\\\u001b[49m\n\u001b[1;32m     57\u001b[0m \u001b[43m                         \u001b[49m\u001b[43mlossfunc\u001b[49m\u001b[38;5;241;43m=\u001b[39;49m\u001b[43mloss\u001b[49m\u001b[43m)\u001b[49m\n\u001b[1;32m     58\u001b[0m models\u001b[38;5;241m.\u001b[39mappend(model)\n\u001b[1;32m     59\u001b[0m losses\u001b[38;5;241m.\u001b[39mappend(loss)\n",
      "Cell \u001b[0;32mIn [97], line 18\u001b[0m, in \u001b[0;36mtrain_model\u001b[0;34m(optimizer, scheduler, numepochs, early_stopper, variance_store, lossfunc, regularization, l1_lambda)\u001b[0m\n\u001b[1;32m     15\u001b[0m \u001b[38;5;28;01mfor\u001b[39;00m features, labels \u001b[38;5;129;01min\u001b[39;00m train_loader:\n\u001b[1;32m     16\u001b[0m     optimizer\u001b[38;5;241m.\u001b[39mzero_grad()\n\u001b[0;32m---> 18\u001b[0m     prediction \u001b[38;5;241m=\u001b[39m \u001b[43mmodel\u001b[49m\u001b[43m(\u001b[49m\u001b[43mfeatures\u001b[49m\u001b[43m)\u001b[49m\n\u001b[1;32m     19\u001b[0m     batch_loss \u001b[38;5;241m=\u001b[39m lossfunc(prediction, labels)\u001b[38;5;66;03m#loss_func(prediction, labels)\u001b[39;00m\n\u001b[1;32m     21\u001b[0m     \u001b[38;5;28;01mif\u001b[39;00m regularization\u001b[38;5;241m==\u001b[39m\u001b[38;5;124m'\u001b[39m\u001b[38;5;124mL1\u001b[39m\u001b[38;5;124m'\u001b[39m:\n\u001b[1;32m     22\u001b[0m         \u001b[38;5;66;03m#L1 regularization-------------------------------\u001b[39;00m\n",
      "File \u001b[0;32m/work/FAC/FGSE/IDYST/tbeucler/default/freddy0218/miniconda3/lib/python3.9/site-packages/torch/nn/modules/module.py:1130\u001b[0m, in \u001b[0;36mModule._call_impl\u001b[0;34m(self, *input, **kwargs)\u001b[0m\n\u001b[1;32m   1126\u001b[0m \u001b[38;5;66;03m# If we don't have any hooks, we want to skip the rest of the logic in\u001b[39;00m\n\u001b[1;32m   1127\u001b[0m \u001b[38;5;66;03m# this function, and just call forward.\u001b[39;00m\n\u001b[1;32m   1128\u001b[0m \u001b[38;5;28;01mif\u001b[39;00m \u001b[38;5;129;01mnot\u001b[39;00m (\u001b[38;5;28mself\u001b[39m\u001b[38;5;241m.\u001b[39m_backward_hooks \u001b[38;5;129;01mor\u001b[39;00m \u001b[38;5;28mself\u001b[39m\u001b[38;5;241m.\u001b[39m_forward_hooks \u001b[38;5;129;01mor\u001b[39;00m \u001b[38;5;28mself\u001b[39m\u001b[38;5;241m.\u001b[39m_forward_pre_hooks \u001b[38;5;129;01mor\u001b[39;00m _global_backward_hooks\n\u001b[1;32m   1129\u001b[0m         \u001b[38;5;129;01mor\u001b[39;00m _global_forward_hooks \u001b[38;5;129;01mor\u001b[39;00m _global_forward_pre_hooks):\n\u001b[0;32m-> 1130\u001b[0m     \u001b[38;5;28;01mreturn\u001b[39;00m \u001b[43mforward_call\u001b[49m\u001b[43m(\u001b[49m\u001b[38;5;241;43m*\u001b[39;49m\u001b[38;5;28;43minput\u001b[39;49m\u001b[43m,\u001b[49m\u001b[43m \u001b[49m\u001b[38;5;241;43m*\u001b[39;49m\u001b[38;5;241;43m*\u001b[39;49m\u001b[43mkwargs\u001b[49m\u001b[43m)\u001b[49m\n\u001b[1;32m   1131\u001b[0m \u001b[38;5;66;03m# Do not call functions when jit is used\u001b[39;00m\n\u001b[1;32m   1132\u001b[0m full_backward_hooks, non_full_backward_hooks \u001b[38;5;241m=\u001b[39m [], []\n",
      "Cell \u001b[0;32mIn [170], line 24\u001b[0m, in \u001b[0;36mOptimMLR_all_3D_simple_lwswth.forward\u001b[0;34m(self, X)\u001b[0m\n\u001b[1;32m     22\u001b[0m brchindex \u001b[38;5;241m=\u001b[39m \u001b[38;5;28mlist\u001b[39m(np\u001b[38;5;241m.\u001b[39masarray([\u001b[38;5;241m54\u001b[39m,\u001b[38;5;241m26\u001b[39m,\u001b[38;5;241m50\u001b[39m,\u001b[38;5;241m75\u001b[39m,\u001b[38;5;241m12\u001b[39m,\u001b[38;5;241m10\u001b[39m,\u001b[38;5;241m10\u001b[39m])\u001b[38;5;241m.\u001b[39mcumsum())\n\u001b[1;32m     23\u001b[0m X_u, X_v, X_w, X_th \u001b[38;5;241m=\u001b[39m X[:,brchindex[\u001b[38;5;241m0\u001b[39m]:brchindex[\u001b[38;5;241m1\u001b[39m]],X[:,brchindex[\u001b[38;5;241m1\u001b[39m]:brchindex[\u001b[38;5;241m2\u001b[39m]],X[:,brchindex[\u001b[38;5;241m2\u001b[39m]:brchindex[\u001b[38;5;241m3\u001b[39m]],X[:,brchindex[\u001b[38;5;241m3\u001b[39m]:brchindex[\u001b[38;5;241m4\u001b[39m]]\n\u001b[0;32m---> 24\u001b[0m X_hdia, X_lw, X_sw \u001b[38;5;241m=\u001b[39m X[:,brchindex[\u001b[38;5;241m4\u001b[39m]:brchindex[\u001b[38;5;241m5\u001b[39m]],X[:,brchindex[\u001b[38;5;241m5\u001b[39m]:brchindex[\u001b[38;5;241m6\u001b[39m]],X[:,brchindex[\u001b[38;5;241m6\u001b[39m]:\u001b[43mbrchindex\u001b[49m\u001b[43m[\u001b[49m\u001b[38;5;241;43m7\u001b[39;49m\u001b[43m]\u001b[49m]\n\u001b[1;32m     25\u001b[0m \u001b[38;5;66;03m############################################################\u001b[39;00m\n\u001b[1;32m     26\u001b[0m \u001b[38;5;66;03m# Optimal PC layer\u001b[39;00m\n\u001b[1;32m     27\u001b[0m \u001b[38;5;66;03m############################################################\u001b[39;00m\n\u001b[1;32m     28\u001b[0m bestth \u001b[38;5;241m=\u001b[39m \u001b[38;5;28mself\u001b[39m\u001b[38;5;241m.\u001b[39mdense1(X_th)\n",
      "\u001b[0;31mIndexError\u001b[0m: list index out of range"
     ]
    }
   ],
   "source": [
    "folderpath='/work/FAC/FGSE/IDYST/tbeucler/default/freddy0218/TCGphy/2020_TC_CRF/dev/freddy0218/TCG_Rad_keras/store/'\n",
    "folderpath2='/work/FAC/FGSE/IDYST/tbeucler/default/freddy0218/TCGphy/2020_TC_CRF/dev/freddy0218/testML/output/haiyan/processed/new3D/'\n",
    "for exp in ['No','u','v','w','th','hdia']:\n",
    "    for splitnum in range(4):\n",
    "        X_totrain,y_totrain = read.train_optimizedMLR(folderpath,folderpath2).delete_padding(Xtrain[splitnum],ytrain[splitnum])#yall_orig[splitnum][23][0])\n",
    "        X_tovalid,y_tovalid = read.train_optimizedMLR(folderpath,folderpath2).delete_padding(Xvalid[splitnum],yvalid[splitnum])#yall_orig[splitnum][23][1])\n",
    "        #X_totest,y_totest = read.train_optimizedMLR(None,None).delete_padding(Xtest[splitnum]['lwswdtthuvw'],yall[splitnum][23][2])#yall_orig[splitnum][23][2])\n",
    "        calc_device = 'cpu'\n",
    "        ###################################################################################\n",
    "        # Convert numpy arrays into tensors\n",
    "        ###################################################################################\n",
    "        train_Xtensor = torch.FloatTensor(X_totrain).to(calc_device)\n",
    "        train_ytensor = torch.FloatTensor(y_totrain).to(calc_device)\n",
    "        val_Xtensor = torch.FloatTensor(X_tovalid).to(calc_device)\n",
    "        val_ytensor = torch.FloatTensor(y_tovalid).to(calc_device)\n",
    "        train_data = torch.utils.data.TensorDataset(train_Xtensor, train_ytensor)\n",
    "        val_data = torch.utils.data.TensorDataset(val_Xtensor, val_ytensor)\n",
    "        batch_size = 9\n",
    "        num_workers = 2\n",
    "        train_loader = torch.utils.data.DataLoader(\n",
    "            dataset=train_data,\n",
    "            batch_size=batch_size,\n",
    "            shuffle=True\n",
    "        )\n",
    "        val_loader = torch.utils.data.DataLoader(\n",
    "            dataset=val_data,\n",
    "            batch_size=batch_size,\n",
    "            shuffle=False\n",
    "        )\n",
    "        times = ['exp1a','exp1b','exp1c','exp1d','exp1e']\n",
    "        #times = ['exp2a','exp2b','exp2c']#,'exp1d','exp1e']\n",
    "        for i in range(len(times)):\n",
    "            models,losses = [],[]\n",
    "            #model = OptimMLR_all_2D()\n",
    "            if exp=='No':\n",
    "                model = OptimMLR_all_3D_simple_lwsw()\n",
    "            elif exp=='u':\n",
    "                model = OptimMLR_all_3D_simple_lwswu()\n",
    "            elif exp=='v':\n",
    "                model = OptimMLR_all_3D_simple_lwswv()\n",
    "            elif exp=='w':\n",
    "                model = OptimMLR_all_3D_simple_lwsww()\n",
    "            elif exp=='th':\n",
    "                model = OptimMLR_all_3D_simple_lwswth()\n",
    "            elif exp=='hdia':\n",
    "                model = OptimMLR_all_3D_simple_lwswhdia()\n",
    "            optimizers = [torch.optim.Adam(model.parameters(), lr=1e-6)]#, optim.AdaBound(model.parameters(),lr=1e-7)] 1e-6\n",
    "            loss = torch.nn.MSELoss()\n",
    "            for optimizer in optimizers:\n",
    "                scheduler2 = torch.optim.lr_scheduler.CyclicLR(optimizer, base_lr=1e-9, max_lr=2e-5,cycle_momentum=False)\n",
    "                scheduler = torch.optim.lr_scheduler.ReduceLROnPlateau(optimizer, 'min',min_lr=1e-18)\n",
    "                num_epochs = 1000*18#26\n",
    "                early_stopper = EarlyStopping(patience=50, verbose=False, delta=1e-7, path='checkpoint.pt', trace_func=print)#EarlyStopper(patience=8, min_delta=1e-3)\n",
    "                #variance_store = [varu,varv,varw,varth]\n",
    "                #variance_store = [varu,varv,varth]\n",
    "                model,loss = train_model(optimizer=optimizer,scheduler=[scheduler,scheduler2],numepochs=num_epochs,early_stopper=early_stopper,variance_store=None,\\\n",
    "                                         lossfunc=loss)\n",
    "                models.append(model)\n",
    "                losses.append(loss)\n",
    "                if exp=='No':\n",
    "                    torch.save(models, '../tmp/maria/3d/lwsw/0/models'+str(splitnum)+'_LWSW3d_1115_'+str(times[i])+'.pt')\n",
    "                    read_and_proc.save_to_pickle('../tmp/maria/3d/lwsw/0/losses'+str(splitnum)+'_LWSW3d_1115_'+str(times[i])+'.pkt',losses,'PICKLE')\n",
    "                else:\n",
    "                    torch.save(models, '../tmp/maria/3d/lwsw'+str(exp)+'/0/models'+str(splitnum)+'_LWSW3d_1115_'+str(times[i])+'.pt')\n",
    "                    read_and_proc.save_to_pickle('../tmp/maria/3d/lwsw'+str(exp)+'/0/losses'+str(splitnum)+'_LWSW3d_1115_'+str(times[i])+'.pkt',losses,'PICKLE')"
   ]
  },
  {
   "cell_type": "code",
   "execution_count": null,
   "id": "3bfa6b9f-a83b-449c-9afd-118b73602176",
   "metadata": {},
   "outputs": [],
   "source": []
  }
 ],
 "metadata": {
  "kernelspec": {
   "display_name": "Python 3 (ipykernel)",
   "language": "python",
   "name": "python3"
  },
  "language_info": {
   "codemirror_mode": {
    "name": "ipython",
    "version": 3
   },
   "file_extension": ".py",
   "mimetype": "text/x-python",
   "name": "python",
   "nbconvert_exporter": "python",
   "pygments_lexer": "ipython3",
   "version": "3.9.15"
  }
 },
 "nbformat": 4,
 "nbformat_minor": 5
}
