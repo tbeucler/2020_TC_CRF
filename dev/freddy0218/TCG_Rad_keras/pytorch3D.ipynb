{
 "cells": [
  {
   "cell_type": "code",
   "execution_count": 1,
   "id": "bbb8808b-aa0f-4967-bf4a-e36ee8629309",
   "metadata": {},
   "outputs": [
    {
     "name": "stderr",
     "output_type": "stream",
     "text": [
      "/tmp/ipykernel_2917212/753694454.py:18: ProplotWarning: rc setting 'linewidth' was renamed to 'meta.width' in version 0.8.\n",
      "  plot.rc.update({'figure.facecolor':'w','axes.labelweight':'ultralight',\n"
     ]
    }
   ],
   "source": [
    "\"\"\"──────────────────────────────────────────────────────────────────────────┐\n",
    "│ Loading necessary libraries to build and train model                       │\n",
    "└──────────────────────────────────────────────────────────────────────────\"\"\"\n",
    "import os,sys,gc\n",
    "import numpy as np\n",
    "import pickle\n",
    "import torch\n",
    "import proplot as plot\n",
    "import matplotlib.pyplot as plt\n",
    "from tqdm.auto import tqdm\n",
    "\n",
    "sys.path.insert(1, '/work/FAC/FGSE/IDYST/tbeucler/default/freddy0218/TCGphy/2020_TC_CRF/dev/freddy0218/scikit/')\n",
    "from tools import derive_var,read_and_proc\n",
    "from tools.mlr import mlr\n",
    "from tools.preprocess import do_eof,preproc_maria,preproc_haiyan\n",
    "import read_stuff as read\n",
    "%matplotlib inline\n",
    "plot.rc.update({'figure.facecolor':'w','axes.labelweight':'ultralight',\n",
    "                'tick.labelweight':'ultralight','gridminor.linestyle':'--','title.weight':'normal','linewidth':0.5})"
   ]
  },
  {
   "cell_type": "code",
   "execution_count": 3,
   "id": "02407d96-88aa-4740-91c5-645880a0a952",
   "metadata": {},
   "outputs": [
    {
     "data": {
      "application/vnd.jupyter.widget-view+json": {
       "model_id": "9e71f9d2464e4bf2bbbdafce940e7ef4",
       "version_major": 2,
       "version_minor": 0
      },
      "text/plain": [
       "  0%|          | 0/20 [00:00<?, ?it/s]"
      ]
     },
     "metadata": {},
     "output_type": "display_data"
    }
   ],
   "source": [
    "from tqdm.auto import tqdm\n",
    "path = '/work/FAC/FGSE/IDYST/tbeucler/default/freddy0218/'\n",
    "suffix = '_smooth_preproc_dict1b_g'\n",
    "a = [read_and_proc.depickle(path+'TCGphy/2020_TC_CRF/dev/freddy0218/testML/output/haiyan/processed/uvwheat/'+'mem'+str(lime)+suffix)['u'].shape for lime in tqdm(range(1,21))]\n",
    "# divide experiments reference\n",
    "divider = np.asarray([aobj[0] for aobj in a]).cumsum()"
   ]
  },
  {
   "cell_type": "code",
   "execution_count": 4,
   "id": "1225280e-a0a7-4ee1-b1b0-1f51a62738b6",
   "metadata": {
    "tags": []
   },
   "outputs": [
    {
     "data": {
      "text/plain": [
       "<module 'read_stuff' from '/work/FAC/FGSE/IDYST/tbeucler/default/freddy0218/TCGphy/2020_TC_CRF/dev/freddy0218/TCG_Rad_keras/read_stuff.py'>"
      ]
     },
     "execution_count": 4,
     "metadata": {},
     "output_type": "execute_result"
    }
   ],
   "source": [
    "import importlib\n",
    "importlib.reload(read)"
   ]
  },
  {
   "cell_type": "code",
   "execution_count": 5,
   "id": "b4d2c448-343d-4cc2-9654-1f7369b68d39",
   "metadata": {},
   "outputs": [
    {
     "data": {
      "application/vnd.jupyter.widget-view+json": {
       "model_id": "50f9f8772f4b4fe181fb69e5cba49827",
       "version_major": 2,
       "version_minor": 0
      },
      "text/plain": [
       "  0%|          | 0/33 [00:00<?, ?it/s]"
      ]
     },
     "metadata": {},
     "output_type": "display_data"
    },
    {
     "data": {
      "text/plain": [
       "'──────────────────────────────────────────────────────────────────────────┐\\n│ Loading y truth for custom loss                      \\n└──────────────────────────────────────────────────────────────────────────'"
      ]
     },
     "execution_count": 5,
     "metadata": {},
     "output_type": "execute_result"
    }
   ],
   "source": [
    "folderpath='/work/FAC/FGSE/IDYST/tbeucler/default/freddy0218/TCGphy/2020_TC_CRF/dev/freddy0218/TCG_Rad_keras/'\n",
    "folderpath2='/work/FAC/FGSE/IDYST/tbeucler/default/freddy0218/TCGphy/2020_TC_CRF/dev/freddy0218/testML/output/haiyan/processed/new3D/'\n",
    "\"\"\"──────────────────────────────────────────────────────────────────────────┐\n",
    "│ Loading input and outpus                    \n",
    "└──────────────────────────────────────────────────────────────────────────\"\"\"\n",
    "#Xtrain,Xvalid,Xtest,yall,yall_orig = read.train_optimizedMLR(folderpath,folderpath2,'rhorig','rhorig','3D').read_Xy(num=33,needorig=False)\n",
    "Xtrain,Xvalid,Xtest,yall = read.train_optimizedMLR(folderpath,folderpath2,'rhorig','rhorig','3D').read_Xy(num=33,needorig='No')\n",
    "\"\"\"──────────────────────────────────────────────────────────────────────────┐\n",
    "│ Loading PC structures for custom loss                       \n",
    "└──────────────────────────────────────────────────────────────────────────\"\"\"\n",
    "pcastore = read.train_optimizedMLR(folderpath,folderpath2,'rhorig','rhorig','3D').pcastore\n",
    "#wcomps = [26,18,48,14]\n",
    "#upcs,vpcs,wpcs,thpcs = pcastore['u'].components_[:wcomps[0]],pcastore['v'].components_[:wcomps[1]],pcastore['w'].components_[:wcomps[2]],pcastore['theta'].components_[:wcomps[3]]\n",
    "wcomps = [50,38,8]\n",
    "upcs,vpcs,thpcs = pcastore['u'].components_[:wcomps[0]],pcastore['v'].components_[:wcomps[1]],pcastore['theta'].components_[:wcomps[2]]\n",
    "\"\"\"──────────────────────────────────────────────────────────────────────────┐\n",
    "│ Loading y truth for custom loss                      \n",
    "└──────────────────────────────────────────────────────────────────────────\"\"\"\n",
    "#yTRUTH = read.train_optimizedMLR(folderpath,folderpath2,'rhorig','rhorig','3D').y_truth(divider=divider,lti=24,num=33,withW=False)"
   ]
  },
  {
   "cell_type": "code",
   "execution_count": 16,
   "id": "7d7201a4-eb0a-4bcc-ba30-dace7b87612d",
   "metadata": {
    "jupyter": {
     "source_hidden": true
    },
    "tags": []
   },
   "outputs": [],
   "source": [
    "\"\"\"──────────────────────────────────────────────────────────────────────────┐\n",
    "│ Which split will we be testing                     \n",
    "└──────────────────────────────────────────────────────────────────────────\"\"\"\n",
    "splitnum = 5"
   ]
  },
  {
   "cell_type": "markdown",
   "id": "53cfa094-169e-4f0b-8cfe-a319fb27215d",
   "metadata": {},
   "source": [
    "### PyTorch"
   ]
  },
  {
   "cell_type": "markdown",
   "id": "616cee19-b951-46af-9f48-3a3ad37d8652",
   "metadata": {},
   "source": [
    "#### Data processing"
   ]
  },
  {
   "cell_type": "code",
   "execution_count": 17,
   "id": "7917585a-2c29-4d69-8e8e-01b6f6e621e4",
   "metadata": {
    "jupyter": {
     "source_hidden": true
    },
    "tags": []
   },
   "outputs": [],
   "source": [
    "X_totrain,y_totrain = train_optimizedMLR(folderpath,folderpath2).delete_padding(Xtrain[splitnum]['lwswdtthuvwqv'],yall_orig[splitnum][23][0])#yall_orig[splitnum][23][0])\n",
    "X_tovalid,y_tovalid = train_optimizedMLR(folderpath,folderpath2).delete_padding(Xvalid[splitnum]['lwswdtthuvwqv'],yall_orig[splitnum][23][1])#yall_orig[splitnum][23][1])\n",
    "X_totest,y_totest = train_optimizedMLR(folderpath,folderpath2).delete_padding(Xtest[splitnum]['lwswdtthuvwqv'],yall_orig[splitnum][23][2])#yall_orig[splitnum][23][2])"
   ]
  },
  {
   "cell_type": "code",
   "execution_count": 18,
   "id": "8d8c605b-d879-451c-9b0b-02afbc69ede8",
   "metadata": {
    "jupyter": {
     "source_hidden": true
    },
    "tags": []
   },
   "outputs": [],
   "source": [
    "calc_device = 'cpu'\n",
    "###################################################################################\n",
    "# Convert numpy arrays into tensors\n",
    "###################################################################################\n",
    "train_Xtensor = torch.FloatTensor(X_totrain).to(calc_device)\n",
    "train_ytensor = torch.FloatTensor(y_totrain).to(calc_device)\n",
    "\n",
    "val_Xtensor = torch.FloatTensor(X_tovalid).to(calc_device)\n",
    "val_ytensor = torch.FloatTensor(y_tovalid).to(calc_device)\n",
    "\n",
    "test_Xtensor = torch.FloatTensor(X_totest).to(calc_device)\n",
    "test_ytensor = torch.FloatTensor(y_totest).to(calc_device)\n",
    "\n",
    "train_data = torch.utils.data.TensorDataset(train_Xtensor, train_ytensor)\n",
    "val_data = torch.utils.data.TensorDataset(val_Xtensor, val_ytensor)\n",
    "test_data = torch.utils.data.TensorDataset(test_Xtensor, test_ytensor)\n",
    "\n",
    "###################################################################################\n",
    "# Eigenvectors for Custom Loss in Physical Space\n",
    "###################################################################################\n",
    "eigenvectors = [torch.FloatTensor(obj).to(calc_device) for obj in [upcs,vpcs,wpcs,thpcs]]\n",
    "###################################################################################\n",
    "# Variances to calculate r2 in Physical Space\n",
    "###################################################################################\n",
    "varu,varv,varw,varth = np.var(yTRUTH['train'][splitnum]['du']),np.var(yTRUTH['train'][splitnum]['dv']),np.var(yTRUTH['train'][splitnum]['dw']),np.var(yTRUTH['train'][splitnum]['dth'])"
   ]
  },
  {
   "cell_type": "markdown",
   "id": "4cceb744-a8a6-46ea-bc06-697897d77482",
   "metadata": {},
   "source": [
    "#### Hyperparameters for training"
   ]
  },
  {
   "cell_type": "code",
   "execution_count": 9,
   "id": "f965918e-4a19-41c3-a172-687c57333dbe",
   "metadata": {
    "jupyter": {
     "source_hidden": true
    },
    "tags": []
   },
   "outputs": [],
   "source": [
    "batch_size = 9\n",
    "num_workers = 2"
   ]
  },
  {
   "cell_type": "markdown",
   "id": "9936d15a-61c0-4747-9745-4118791e7584",
   "metadata": {},
   "source": [
    "#### DataLoader"
   ]
  },
  {
   "cell_type": "code",
   "execution_count": 10,
   "id": "fb90edf3-6eeb-4802-9eb3-51433273ee23",
   "metadata": {
    "jupyter": {
     "source_hidden": true
    },
    "tags": []
   },
   "outputs": [],
   "source": [
    "train_loader = torch.utils.data.DataLoader(\n",
    "    dataset=train_data,\n",
    "    batch_size=batch_size,\n",
    "    shuffle=True\n",
    ")\n",
    "\n",
    "val_loader = torch.utils.data.DataLoader(\n",
    "    dataset=val_data,\n",
    "    batch_size=batch_size,\n",
    "    shuffle=False\n",
    ")\n",
    "\n",
    "test_loader = torch.utils.data.DataLoader(\n",
    "    dataset=test_data,\n",
    "    batch_size=batch_size,\n",
    "    shuffle=False\n",
    ")"
   ]
  },
  {
   "cell_type": "markdown",
   "id": "52dfbf90-046e-42d8-894d-bc3f672139a6",
   "metadata": {},
   "source": [
    "#### Define Model Architecture"
   ]
  },
  {
   "cell_type": "code",
   "execution_count": 5,
   "id": "691fb3f1-aae9-4365-a6bb-987c3ba633a7",
   "metadata": {
    "tags": []
   },
   "outputs": [],
   "source": [
    "brchindex = [0,30,60,60+52,60+52+60]\n",
    "brchsize = [30,30,52,60]"
   ]
  },
  {
   "cell_type": "markdown",
   "id": "1439c05b-88f6-4ddd-ba0f-2dd98f7901c6",
   "metadata": {},
   "source": [
    "##### LW/SW"
   ]
  },
  {
   "cell_type": "code",
   "execution_count": 5,
   "id": "cee6f9a4-e460-4fe8-80d2-4e7c67e5368f",
   "metadata": {
    "tags": []
   },
   "outputs": [],
   "source": [
    "class OptimMLR_all_3D_simple(torch.nn.Module):\n",
    "    def __init__(self):\n",
    "        #super(OptimMLR_all_2D, self).__init__()\n",
    "        super(OptimMLR_all_3D_simple, self).__init__()\n",
    "        ############################################################\n",
    "        # Input channels\n",
    "        ############################################################\n",
    "        brchsize = [20,20]#[50,38,91,8,82,20,20]\n",
    "        self.dense1 = torch.nn.Linear(brchsize[0], 1)\n",
    "        self.dense2 = torch.nn.Linear(brchsize[1], 1)\n",
    "        #self.dense3 = torch.nn.Linear(brchsize[2], 1)\n",
    "        #self.dense4 = torch.nn.Linear(brchsize[3], 1)\n",
    "        #self.dense5 = torch.nn.Linear(brchsize[4], 1)\n",
    "        #self.dense6 = torch.nn.Linear(brchsize[5], 1)\n",
    "        #self.dense7 = torch.nn.Linear(brchsize[6], 1)\n",
    "        ############################################################\n",
    "        # Final Dense Layer\n",
    "        ############################################################\n",
    "        self.denseout = torch.nn.Linear(2,96)#106)\n",
    "        \n",
    "    def forward(self,X):\n",
    "        brchindex = list(np.asarray([0,50,38,91,8,82,20,20]).cumsum())\n",
    "        X_u, X_v, X_w, X_th = X[:,brchindex[0]:brchindex[1]],X[:,brchindex[1]:brchindex[2]],X[:,brchindex[2]:brchindex[3]],X[:,brchindex[3]:brchindex[4]]\n",
    "        X_hdia, X_lw, X_sw = X[:,brchindex[4]:brchindex[5]],X[:,brchindex[5]:brchindex[6]],X[:,brchindex[6]:brchindex[7]]\n",
    "        ############################################################\n",
    "        # Optimal PC layer\n",
    "        ############################################################\n",
    "        bestlw = self.dense1(X_lw)\n",
    "        bestsw = self.dense2(X_sw)\n",
    "        ############################################################\n",
    "        # Concat\n",
    "        ############################################################\n",
    "        bestPC = torch.cat((bestlw,bestsw),1)\n",
    "        ############################################################\n",
    "        # Prediction layer\n",
    "        ############################################################\n",
    "        outpred = self.denseout(bestPC)\n",
    "        return outpred"
   ]
  },
  {
   "cell_type": "markdown",
   "id": "754513d1-cdb4-42f4-9b37-84570bfc4e29",
   "metadata": {},
   "source": [
    "##### LW/SW/HDIA"
   ]
  },
  {
   "cell_type": "code",
   "execution_count": 12,
   "id": "f0fd5ad2-7c88-478c-b6bb-3c74143b3660",
   "metadata": {
    "tags": []
   },
   "outputs": [],
   "source": [
    "class OptimMLR_all_3D_simple_lwswhdia(torch.nn.Module):\n",
    "    def __init__(self):\n",
    "        #super(OptimMLR_all_2D, self).__init__()\n",
    "        super(OptimMLR_all_3D_simple_lwswhdia, self).__init__()\n",
    "        ############################################################\n",
    "        # Input channels\n",
    "        ############################################################\n",
    "        brchsize = [82,20,20]#[50,38,91,8,82,20,20]\n",
    "        self.dense1 = torch.nn.Linear(brchsize[0], 1)\n",
    "        self.dense2 = torch.nn.Linear(brchsize[1], 1)\n",
    "        self.dense3 = torch.nn.Linear(brchsize[2], 1)\n",
    "        #self.dense4 = torch.nn.Linear(brchsize[3], 1)\n",
    "        #self.dense5 = torch.nn.Linear(brchsize[4], 1)\n",
    "        #self.dense6 = torch.nn.Linear(brchsize[5], 1)\n",
    "        #self.dense7 = torch.nn.Linear(brchsize[6], 1)\n",
    "        ############################################################\n",
    "        # Final Dense Layer\n",
    "        ############################################################\n",
    "        self.denseout = torch.nn.Linear(3,96)#106)\n",
    "        \n",
    "    def forward(self,X):\n",
    "        brchindex = list(np.asarray([0,50,38,91,8,82,20,20]).cumsum())\n",
    "        X_u, X_v, X_w, X_th = X[:,brchindex[0]:brchindex[1]],X[:,brchindex[1]:brchindex[2]],X[:,brchindex[2]:brchindex[3]],X[:,brchindex[3]:brchindex[4]]\n",
    "        X_hdia, X_lw, X_sw = X[:,brchindex[4]:brchindex[5]],X[:,brchindex[5]:brchindex[6]],X[:,brchindex[6]:brchindex[7]]\n",
    "        ############################################################\n",
    "        # Optimal PC layer\n",
    "        ############################################################\n",
    "        besthdia = self.dense1(X_hdia)\n",
    "        bestlw = self.dense2(X_lw)\n",
    "        bestsw = self.dense3(X_sw)\n",
    "        ############################################################\n",
    "        # Concat\n",
    "        ############################################################\n",
    "        bestPC = torch.cat((besthdia,bestlw,bestsw),1)\n",
    "        ############################################################\n",
    "        # Prediction layer\n",
    "        ############################################################\n",
    "        outpred = self.denseout(bestPC)\n",
    "        return outpred"
   ]
  },
  {
   "cell_type": "markdown",
   "id": "6c413027-2890-4961-8bc9-71dcd42e0322",
   "metadata": {},
   "source": [
    "##### LW/SW/U"
   ]
  },
  {
   "cell_type": "code",
   "execution_count": 6,
   "id": "6747b421-c93a-4c2b-bf09-96108a19b450",
   "metadata": {},
   "outputs": [],
   "source": [
    "class OptimMLR_all_3D_simple_lwswu(torch.nn.Module):\n",
    "    def __init__(self):\n",
    "        #super(OptimMLR_all_2D, self).__init__()\n",
    "        super(OptimMLR_all_3D_simple_lwswu, self).__init__()\n",
    "        ############################################################\n",
    "        # Input channels\n",
    "        ############################################################\n",
    "        brchsize = [50,20,20]#[50,38,91,8,82,20,20]\n",
    "        self.dense1 = torch.nn.Linear(brchsize[0], 1)\n",
    "        self.dense2 = torch.nn.Linear(brchsize[1], 1)\n",
    "        self.dense3 = torch.nn.Linear(brchsize[2], 1)\n",
    "        #self.dense4 = torch.nn.Linear(brchsize[3], 1)\n",
    "        #self.dense5 = torch.nn.Linear(brchsize[4], 1)\n",
    "        #self.dense6 = torch.nn.Linear(brchsize[5], 1)\n",
    "        #self.dense7 = torch.nn.Linear(brchsize[6], 1)\n",
    "        ############################################################\n",
    "        # Final Dense Layer\n",
    "        ############################################################\n",
    "        self.denseout = torch.nn.Linear(3,96)#106)\n",
    "        \n",
    "    def forward(self,X):\n",
    "        brchindex = list(np.asarray([0,50,38,91,8,82,20,20]).cumsum())\n",
    "        X_u, X_v, X_w, X_th = X[:,brchindex[0]:brchindex[1]],X[:,brchindex[1]:brchindex[2]],X[:,brchindex[2]:brchindex[3]],X[:,brchindex[3]:brchindex[4]]\n",
    "        X_hdia, X_lw, X_sw = X[:,brchindex[4]:brchindex[5]],X[:,brchindex[5]:brchindex[6]],X[:,brchindex[6]:brchindex[7]]\n",
    "        ############################################################\n",
    "        # Optimal PC layer\n",
    "        ############################################################\n",
    "        bestu = self.dense1(X_u)\n",
    "        bestlw = self.dense2(X_lw)\n",
    "        bestsw = self.dense3(X_sw)\n",
    "        ############################################################\n",
    "        # Concat\n",
    "        ############################################################\n",
    "        bestPC = torch.cat((bestu,bestlw,bestsw),1)\n",
    "        ############################################################\n",
    "        # Prediction layer\n",
    "        ############################################################\n",
    "        outpred = self.denseout(bestPC)\n",
    "        return outpred"
   ]
  },
  {
   "cell_type": "markdown",
   "id": "17b863c1-a99c-4d12-923e-b935c27a1f69",
   "metadata": {
    "tags": []
   },
   "source": [
    "##### All"
   ]
  },
  {
   "cell_type": "code",
   "execution_count": 5,
   "id": "b6c94054-e6d2-4d42-9b53-dd40cac7a0d4",
   "metadata": {},
   "outputs": [],
   "source": [
    "class OptimMLR_all_3D_simple(torch.nn.Module):\n",
    "    def __init__(self):\n",
    "        #super(OptimMLR_all_2D, self).__init__()\n",
    "        super(OptimMLR_all_3D_simple, self).__init__()\n",
    "        ############################################################\n",
    "        # Input channels\n",
    "        ############################################################\n",
    "        brchsize = [50,38,91,8,82,20,20]\n",
    "        self.dense1 = torch.nn.Linear(brchsize[0], 1)\n",
    "        self.dense2 = torch.nn.Linear(brchsize[1], 1)\n",
    "        self.dense3 = torch.nn.Linear(brchsize[2], 1)\n",
    "        self.dense4 = torch.nn.Linear(brchsize[3], 1)\n",
    "        self.dense5 = torch.nn.Linear(brchsize[4], 1)\n",
    "        self.dense6 = torch.nn.Linear(brchsize[5], 1)\n",
    "        self.dense7 = torch.nn.Linear(brchsize[6], 1)\n",
    "        ############################################################\n",
    "        # Final Dense Layer\n",
    "        ############################################################\n",
    "        self.denseout = torch.nn.Linear(7,96)#106)\n",
    "        \n",
    "    def forward(self,X):\n",
    "        brchindex = list(np.asarray([0,50,38,91,8,82,20,20]).cumsum())\n",
    "        X_u, X_v, X_w, X_th = X[:,brchindex[0]:brchindex[1]],X[:,brchindex[1]:brchindex[2]],X[:,brchindex[2]:brchindex[3]],X[:,brchindex[3]:brchindex[4]]\n",
    "        X_hdia, X_lw, X_sw = X[:,brchindex[4]:brchindex[5]],X[:,brchindex[5]:brchindex[6]],X[:,brchindex[6]:brchindex[7]]\n",
    "        ############################################################\n",
    "        # Optimal PC layer\n",
    "        ############################################################\n",
    "        bestu = self.dense1(X_u)\n",
    "        bestv = self.dense2(X_v)\n",
    "        bestw = self.dense3(X_w)\n",
    "        bestth = self.dense4(X_th)\n",
    "        besthdia = self.dense5(X_hdia)\n",
    "        bestlw = self.dense6(X_lw)\n",
    "        bestsw = self.dense7(X_sw)\n",
    "        ############################################################\n",
    "        # Concat\n",
    "        ############################################################\n",
    "        bestPC = torch.cat((bestu,bestv,bestw,bestth,besthdia,bestlw,bestsw),1)\n",
    "        ############################################################\n",
    "        # Prediction layer\n",
    "        ############################################################\n",
    "        outpred = self.denseout(bestPC)\n",
    "        return outpred"
   ]
  },
  {
   "cell_type": "markdown",
   "id": "f8d88e70-3797-4db2-a645-71cea03ba3e8",
   "metadata": {},
   "source": [
    "#### All channels"
   ]
  },
  {
   "cell_type": "code",
   "execution_count": 6,
   "id": "77998aae-d557-4b58-b22d-08ec83a1a8b0",
   "metadata": {
    "jupyter": {
     "source_hidden": true
    },
    "tags": []
   },
   "outputs": [],
   "source": [
    "class OptimMLR_all_2D(torch.nn.Module):\n",
    "    def __init__(self):\n",
    "        super(OptimMLR_all_2D, self).__init__()\n",
    "        ############################################################\n",
    "        # Input channels\n",
    "        ############################################################\n",
    "        brchsize = [26*2,18*2,48+12,14*2,9*2,6*3,30,30]\n",
    "        self.dense1 = torch.nn.Linear(brchsize[0], 1)\n",
    "        self.dense2 = torch.nn.Linear(brchsize[1], 1)\n",
    "        self.dense3 = torch.nn.Linear(brchsize[2], 1)\n",
    "        self.dense4 = torch.nn.Linear(brchsize[3], 1)\n",
    "        self.dense5 = torch.nn.Linear(brchsize[4], 1)\n",
    "        self.dense6 = torch.nn.Linear(brchsize[5], 1)\n",
    "        self.dense7 = torch.nn.Linear(brchsize[6], 1)\n",
    "        self.dense8 = torch.nn.Linear(brchsize[7], 1)\n",
    "        ############################################################\n",
    "        # Final Dense Layer\n",
    "        ############################################################\n",
    "        self.denseout = torch.nn.Linear(8,106)#106)\n",
    "        \n",
    "    def forward(self,X):\n",
    "        brchindex = list(np.asarray([0,26*2,18*2,48+12,14*2,9*2,6*3,30,30]).cumsum())\n",
    "        X_u, X_v, X_w, X_th = X[:,brchindex[0]:brchindex[1]],X[:,brchindex[1]:brchindex[2]],X[:,brchindex[2]:brchindex[3]],X[:,brchindex[3]:brchindex[4]]\n",
    "        X_rh, X_hdia, X_lw, X_sw = X[:,brchindex[4]:brchindex[5]],X[:,brchindex[5]:brchindex[6]],X[:,brchindex[6]:brchindex[7]],X[:,brchindex[7]:brchindex[8]]\n",
    "        ############################################################\n",
    "        # Optimal PC layer\n",
    "        ############################################################\n",
    "        bestu = self.dense1(X_u)\n",
    "        bestv = self.dense2(X_v)\n",
    "        bestw = self.dense3(X_w)\n",
    "        bestth = self.dense4(X_th)\n",
    "        bestrh = self.dense5(X_rh)\n",
    "        besthdia = self.dense6(X_hdia)\n",
    "        bestlw = self.dense7(X_lw)\n",
    "        bestsw = self.dense8(X_sw)\n",
    "        ############################################################\n",
    "        # Concat\n",
    "        ############################################################\n",
    "        bestPC = torch.cat((bestu,bestv,bestw,bestth,bestrh,besthdia,bestlw,bestsw),1)\n",
    "        ############################################################\n",
    "        # Prediction layer\n",
    "        ############################################################\n",
    "        outpred = self.denseout(bestPC)\n",
    "        return outpred"
   ]
  },
  {
   "cell_type": "code",
   "execution_count": 11,
   "id": "7dd2d534-4efc-441f-ba5e-deff664a85f8",
   "metadata": {
    "collapsed": true,
    "jupyter": {
     "outputs_hidden": true,
     "source_hidden": true
    },
    "tags": []
   },
   "outputs": [
    {
     "ename": "NameError",
     "evalue": "name 'mymodel' is not defined",
     "output_type": "error",
     "traceback": [
      "\u001b[0;31m---------------------------------------------------------------------------\u001b[0m",
      "\u001b[0;31mNameError\u001b[0m                                 Traceback (most recent call last)",
      "Input \u001b[0;32mIn [11]\u001b[0m, in \u001b[0;36m<cell line: 2>\u001b[0;34m()\u001b[0m\n\u001b[1;32m      1\u001b[0m \u001b[38;5;28;01mfrom\u001b[39;00m \u001b[38;5;21;01mtorchviz\u001b[39;00m \u001b[38;5;28;01mimport\u001b[39;00m make_dot\n\u001b[0;32m----> 2\u001b[0m make_dot(\u001b[43mmymodel\u001b[49m(torch\u001b[38;5;241m.\u001b[39mrand((\u001b[38;5;241m819\u001b[39m,\u001b[38;5;241m60\u001b[39m))),params\u001b[38;5;241m=\u001b[39m\u001b[38;5;28mdict\u001b[39m(mymodel\u001b[38;5;241m.\u001b[39mnamed_parameters()))\n",
      "\u001b[0;31mNameError\u001b[0m: name 'mymodel' is not defined"
     ]
    }
   ],
   "source": [
    "from torchviz import make_dot\n",
    "make_dot(mymodel(torch.rand((819,60))),params=dict(mymodel.named_parameters()))"
   ]
  },
  {
   "cell_type": "markdown",
   "id": "b191b991-4ad3-4781-8f6f-6deb51504319",
   "metadata": {},
   "source": [
    "##### Custom Losses"
   ]
  },
  {
   "cell_type": "code",
   "execution_count": 7,
   "id": "e2fe3581-7ba9-4fa8-810b-4cc3d748fef4",
   "metadata": {},
   "outputs": [],
   "source": [
    "class R2Loss(torch.nn.Module):\n",
    "    \n",
    "    def forward(self, y_pred, y):\n",
    "        var_y = torch.var(y, unbiased=False)\n",
    "        return -(1.0 - torch.nn.functional.mse_loss(y_pred, y, reduction=\"mean\") / var_y)\n",
    "    \n",
    "class MSE_physicalLoss(torch.nn.Module):\n",
    "    def __init__(self, pcs=None, wantcomps=None, variances=None):\n",
    "        super(MSE_physicalLoss, self).__init__()\n",
    "        self.pcs = pcs\n",
    "        self.wantcomps = wantcomps\n",
    "        self.variances = variances\n",
    "        \n",
    "    def forward(self, y_pred, y):\n",
    "        def myscore(y_pred, y, var_y):\n",
    "            return torch.mean(torch.square(y - y_pred).sum()).div(var_y)\n",
    "            #var_y = torch.var(y, unbiased=False)\n",
    "            #return (torch.nn.functional.mse_loss(y_pred, y, reduction=\"mean\") / var_y) #mse/var\n",
    "        \"\"\"\n",
    "        1. Here we slice the feature axis to separate samples into u/v/w/theta components\n",
    "        \"\"\"\n",
    "        y_pred_u, y_u = y_pred[:,0:self.wantcomps[0]], y[:,0:self.wantcomps[0]]\n",
    "        y_pred_v, y_v = y_pred[:,self.wantcomps[0]:self.wantcomps[0]+self.wantcomps[1]], y[:,self.wantcomps[0]:self.wantcomps[0]+self.wantcomps[1]]\n",
    "        y_pred_w, y_w = y_pred[:,self.wantcomps[0]+self.wantcomps[1]:self.wantcomps[0]+self.wantcomps[1]+self.wantcomps[2]], \\\n",
    "        y[:,self.wantcomps[0]+self.wantcomps[1]:self.wantcomps[0]+self.wantcomps[1]+self.wantcomps[2]]\n",
    "        y_pred_th, y_th = y_pred[:,self.wantcomps[0]+self.wantcomps[1]+self.wantcomps[2]:self.wantcomps[0]+self.wantcomps[1]+self.wantcomps[2]+self.wantcomps[3]], \\\n",
    "        y[:,self.wantcomps[0]+self.wantcomps[1]+self.wantcomps[2]:self.wantcomps[0]+self.wantcomps[1]+self.wantcomps[2]+self.wantcomps[3]]\n",
    "        \"\"\"\n",
    "        2. Here we convert PCs into physical space\n",
    "        \"\"\"\n",
    "        uphys_pred, uphys_real = torch.matmul(y_pred_u, self.pcs[0]),torch.matmul(y_u, self.pcs[0])\n",
    "        vphys_pred, vphys_real = torch.matmul(y_pred_v, self.pcs[1]),torch.matmul(y_v, self.pcs[1])\n",
    "        wphys_pred, wphys_real = torch.matmul(y_pred_w, self.pcs[2]),torch.matmul(y_w, self.pcs[2])\n",
    "        thphys_pred, thphys_real = torch.matmul(y_pred_th, self.pcs[3]),torch.matmul(y_th, self.pcs[3])\n",
    "        \n",
    "        u_mse, v_mse, w_mse, th_mse = myscore(uphys_pred,uphys_real,self.variances[0]),myscore(vphys_pred,vphys_real,self.variances[1]),\\\n",
    "        myscore(wphys_pred,wphys_real,self.variances[2]),myscore(thphys_pred,thphys_real,self.variances[3])\n",
    "        \n",
    "        msesum = u_mse+v_mse+w_mse+th_mse\n",
    "        return msesum/4#, u_mse,v_mse,w_mse,th_mse"
   ]
  },
  {
   "cell_type": "markdown",
   "id": "7ccb3246-82a8-4376-b351-a23887121915",
   "metadata": {},
   "source": [
    "#### Model compile settings"
   ]
  },
  {
   "cell_type": "code",
   "execution_count": 46,
   "id": "a2985209-095f-4090-9695-c4c33b0ad73c",
   "metadata": {
    "collapsed": true,
    "jupyter": {
     "outputs_hidden": true,
     "source_hidden": true
    },
    "tags": []
   },
   "outputs": [
    {
     "ename": "NameError",
     "evalue": "name 'channels' is not defined",
     "output_type": "error",
     "traceback": [
      "\u001b[0;31m---------------------------------------------------------------------------\u001b[0m",
      "\u001b[0;31mNameError\u001b[0m                                 Traceback (most recent call last)",
      "Input \u001b[0;32mIn [46]\u001b[0m, in \u001b[0;36m<cell line: 2>\u001b[0;34m()\u001b[0m\n\u001b[1;32m      1\u001b[0m \u001b[38;5;28;01mfrom\u001b[39;00m \u001b[38;5;21;01mtorchsummary\u001b[39;00m \u001b[38;5;28;01mimport\u001b[39;00m summary\n\u001b[0;32m----> 2\u001b[0m summary(model,input_size\u001b[38;5;241m=\u001b[39m(\u001b[43mchannels\u001b[49m, H, W))\n",
      "\u001b[0;31mNameError\u001b[0m: name 'channels' is not defined"
     ]
    }
   ],
   "source": [
    "from torchsummary import summary\n",
    "summary(model,input_size=(channels, H, W))"
   ]
  },
  {
   "cell_type": "markdown",
   "id": "43a9a532-3278-449f-988a-7f4743096827",
   "metadata": {},
   "source": [
    "#### Evaluation Loop"
   ]
  },
  {
   "cell_type": "code",
   "execution_count": 8,
   "id": "6493b246-f4a7-4528-860a-0f24fe05ff8e",
   "metadata": {},
   "outputs": [],
   "source": [
    "def eval_model(model, dataloader, loss_func, metric_func):\n",
    "    with torch.no_grad():\n",
    "        loss = 0\n",
    "        metric = 0\n",
    "        \n",
    "        global_sum = 0\n",
    "        label_size = 0\n",
    "        for feature, labels in dataloader:\n",
    "            global_sum += labels.sum()\n",
    "            label_size += len(labels)\n",
    "            \n",
    "        global_mean = global_sum / label_size\n",
    "        for features, labels in dataloader:\n",
    "            pred = model(features)\n",
    "            batch_loss = loss_func(pred, labels)\n",
    "            batch_metric = metric_func(pred, labels, global_mean)\n",
    "            \n",
    "            loss+=batch_loss.item()\n",
    "            metric+=batch_metric.item()\n",
    "            \n",
    "        num_batches = len(dataloader)\n",
    "        \n",
    "        loss = loss/num_batches\n",
    "        metric = metric/num_batches\n",
    "        return (loss, metric)\n",
    "    \n",
    "# Customzied evaluation metric NSE for validation set and test set # \n",
    "def calc_nse(sim: torch.FloatTensor, obs: torch.FloatTensor, global_obs_mean: torch.FloatTensor) -> float:\n",
    "    \"\"\"Calculate the Nash-Sutcliff-Efficiency coefficient.\n",
    "\n",
    "    :param obs: Array containing the observations\n",
    "    :param sim: Array containing the simulations\n",
    "    :param global_obs_mean: mean of the whole observation series\n",
    "    :return: NSE value.\n",
    "    \"\"\"\n",
    "    numerator = torch.square(sim - obs).sum()\n",
    "    #denominator = torch.square(obs - global_obs_mean).sum()\n",
    "    #nse_val = 1 - numerator / denominator\n",
    "\n",
    "    return numerator\n",
    "\n",
    "class EarlyStopper:\n",
    "    def __init__(self, patience=1, min_delta=0):\n",
    "        self.patience = patience\n",
    "        self.min_delta = min_delta\n",
    "        self.counter = 0\n",
    "        self.min_validation_loss = np.inf\n",
    "\n",
    "    def early_stop(self, validation_loss):\n",
    "        if validation_loss < self.min_validation_loss:\n",
    "            self.min_validation_loss = validation_loss\n",
    "            self.counter = 0\n",
    "        elif validation_loss > (self.min_validation_loss + self.min_delta):\n",
    "            self.counter += 1\n",
    "            if self.counter >= self.patience:\n",
    "                return True\n",
    "        return False\n",
    "    \n",
    "class EarlyStopping:\n",
    "    \"\"\"Early stops the training if validation loss doesn't improve after a given patience.\"\"\"\n",
    "    def __init__(self, patience=7, verbose=False, delta=0, path='checkpoint.pt', trace_func=print):\n",
    "        \"\"\"\n",
    "        Args:\n",
    "            patience (int): How long to wait after last time validation loss improved.\n",
    "                            Default: 7\n",
    "            verbose (bool): If True, prints a message for each validation loss improvement. \n",
    "                            Default: False\n",
    "            delta (float): Minimum change in the monitored quantity to qualify as an improvement.\n",
    "                            Default: 0\n",
    "            path (str): Path for the checkpoint to be saved to.\n",
    "                            Default: 'checkpoint.pt'\n",
    "            trace_func (function): trace print function.\n",
    "                            Default: print            \n",
    "        \"\"\"\n",
    "        self.patience = patience\n",
    "        self.verbose = verbose\n",
    "        self.counter = 0\n",
    "        self.best_score = None\n",
    "        self.early_stop = False\n",
    "        self.val_loss_min = np.Inf\n",
    "        self.delta = delta\n",
    "        self.path = path\n",
    "        self.trace_func = trace_func\n",
    "    def __call__(self, val_loss, model):\n",
    "\n",
    "        score = -val_loss\n",
    "\n",
    "        if self.best_score is None:\n",
    "            self.best_score = score\n",
    "            self.save_checkpoint(val_loss, model)\n",
    "        elif score < self.best_score + self.delta:\n",
    "            self.counter += 1\n",
    "            #self.trace_func(f'EarlyStopping counter: {self.counter} out of {self.patience}')\n",
    "            if self.counter >= self.patience:\n",
    "                self.early_stop = True\n",
    "        else:\n",
    "            self.best_score = score\n",
    "            self.save_checkpoint(val_loss, model)\n",
    "            self.counter = 0\n",
    "        return self.early_stop\n",
    "\n",
    "    def save_checkpoint(self, val_loss, model):\n",
    "        '''Saves model when validation loss decrease.'''\n",
    "        if self.verbose:\n",
    "            self.trace_func(f'Validation loss decreased ({self.val_loss_min:.6f} --> {val_loss:.6f}).  Saving model ...')\n",
    "        torch.save(model.state_dict(), self.path)\n",
    "        self.val_loss_min = val_loss"
   ]
  },
  {
   "cell_type": "code",
   "execution_count": 9,
   "id": "d8a273aa-cee9-4f5e-85d4-53d6f5585295",
   "metadata": {},
   "outputs": [],
   "source": [
    "from livelossplot import PlotLosses"
   ]
  },
  {
   "cell_type": "code",
   "execution_count": 10,
   "id": "e5bda2f5-973a-4186-9b53-ceab15c32f7e",
   "metadata": {},
   "outputs": [],
   "source": [
    "def train_model(optimizer=None,scheduler=None,numepochs=None,early_stopper=None,variance_store=None,lossfunc=None,regularization='None',l1_lambda=0.01):\n",
    "    # Custom loss: MSE_physicalLoss(eigenvectors,wcomps,variance_store)\n",
    "    liveloss = PlotLosses()\n",
    "    schedulerCY,schedulerLS = scheduler[1],scheduler[0]\n",
    "    train_losses,trainu_losses,trainv_losses,trainw_losses,trainth_losses = [],[],[],[],[]\n",
    "    val_losses = []\n",
    "    val_NSEs = []\n",
    "    for epoch in tqdm(range(int(num_epochs))):\n",
    "        \"\"\"\n",
    "        Initialize loss\n",
    "        \"\"\"\n",
    "        train_loss = 0\n",
    "        \"\"\"\n",
    "        Operate per batch\n",
    "        \"\"\"\n",
    "        for features, labels in train_loader:\n",
    "            optimizer.zero_grad()\n",
    "            \n",
    "            prediction = model(features)\n",
    "            batch_loss = lossfunc(prediction, labels)#loss_func(prediction, labels)\n",
    "            \n",
    "            if regularization=='L1':\n",
    "                #L1 regularization-------------------------------\n",
    "                l1_norm = sum(abs(p) for p in model.parameters())\n",
    "                #-------------------------------------------------\n",
    "                batch_loss = batch_loss + l1_lambda * l1_norm\n",
    "                batch_loss.backward()\n",
    "            elif regularization=='None':\n",
    "                batch_loss.backward()                \n",
    "            \n",
    "            optimizer.step()\n",
    "            schedulerCY.step()\n",
    "            \n",
    "            train_loss += batch_loss.item()\n",
    "            \n",
    "            \n",
    "        train_loss = train_loss / len(train_loader)\n",
    "        train_losses.append(train_loss)\n",
    "        val_loss, val_NSE = eval_model(model,\n",
    "                                       val_loader,\n",
    "                                       lossfunc,\n",
    "                                       calc_nse)\n",
    "        schedulerLS.step(val_loss)\n",
    "        \n",
    "        ##################################################################\n",
    "        # Early Stopping (valid / train)\n",
    "        ##################################################################\n",
    "        counter = 0\n",
    "        if len(val_losses)>=1:\n",
    "            best_score = val_losses[-1]\n",
    "            if val_loss > best_score:\n",
    "                counter += 1\n",
    "                val_NSEs.append(val_NSE)\n",
    "                val_losses.append(val_loss)\n",
    "                if counter >= 10:\n",
    "                    break\n",
    "            else:\n",
    "                val_NSEs.append(val_NSE)\n",
    "                val_losses.append(val_loss)\n",
    "        else:\n",
    "            val_NSEs.append(val_NSE)\n",
    "            val_losses.append(val_loss)\n",
    "        \n",
    "        if early_stopper.__call__(val_loss, model):\n",
    "            break\n",
    "        #if early_stopper.early_stop(val_loss):             \n",
    "        #    break\n",
    "            ##################################################################\n",
    "        #val_NSEs.append(val_NSE)\n",
    "        #val_losses.append(val_loss)\n",
    "        \n",
    "        if epoch % 500 == 0:\n",
    "            print((np.log10(train_loss),np.log10(val_loss)))\n",
    "            \n",
    "    #return model, {'train':train_losses,'utrain':trainu_losses,'vtrain':trainv_losses,'wtrain':trainw_losses,'thtrain':trainth_losses,'val':val_losses} \n",
    "    return model, {'train':train_losses,'val':val_losses} "
   ]
  },
  {
   "cell_type": "code",
   "execution_count": null,
   "id": "18580141-927c-47f1-91d2-f61ff896ee87",
   "metadata": {
    "tags": []
   },
   "outputs": [
    {
     "name": "stderr",
     "output_type": "stream",
     "text": [
      "/tmp/ipykernel_2917212/774246948.py:11: UserWarning: Creating a tensor from a list of numpy.ndarrays is extremely slow. Please consider converting the list to a single numpy.ndarray with numpy.array() before converting to a tensor. (Triggered internally at  /home/conda/feedstock_root/build_artifacts/pytorch-recipe_1660136119739/work/torch/csrc/utils/tensor_new.cpp:201.)\n",
      "  train_Xtensor = torch.FloatTensor(X_totrain).to(calc_device)\n"
     ]
    },
    {
     "data": {
      "application/vnd.jupyter.widget-view+json": {
       "model_id": "49834545f0124069a156b98bc355b3f8",
       "version_major": 2,
       "version_minor": 0
      },
      "text/plain": [
       "  0%|          | 0/18000 [00:00<?, ?it/s]"
      ]
     },
     "metadata": {},
     "output_type": "display_data"
    },
    {
     "name": "stdout",
     "output_type": "stream",
     "text": [
      "(-0.6503260043919548, -0.6604299084408924)\n",
      "(-1.6229724622539572, -1.4148419126452894)\n",
      "(-3.512220409639173, -2.658729616697235)\n",
      "(-4.54083833803565, -4.33718945237904)\n"
     ]
    },
    {
     "data": {
      "application/vnd.jupyter.widget-view+json": {
       "model_id": "c9e120f1eb3248589eb25209e950bda4",
       "version_major": 2,
       "version_minor": 0
      },
      "text/plain": [
       "  0%|          | 0/18000 [00:00<?, ?it/s]"
      ]
     },
     "metadata": {},
     "output_type": "display_data"
    },
    {
     "name": "stdout",
     "output_type": "stream",
     "text": [
      "(-0.6779086175272405, -0.8213534438856824)\n",
      "(-1.6524588280139079, -1.595048407703919)\n",
      "(-3.6296485458464387, -2.834679078081171)\n",
      "(-4.522542766053208, -3.9447368550539115)\n",
      "(-4.579691501323035, -4.545419759193684)\n"
     ]
    },
    {
     "data": {
      "application/vnd.jupyter.widget-view+json": {
       "model_id": "96b1eaf92e9f4e61ada089550925cbf9",
       "version_major": 2,
       "version_minor": 0
      },
      "text/plain": [
       "  0%|          | 0/18000 [00:00<?, ?it/s]"
      ]
     },
     "metadata": {},
     "output_type": "display_data"
    },
    {
     "name": "stdout",
     "output_type": "stream",
     "text": [
      "(-0.6679451976343127, -0.6877036517506331)\n",
      "(-1.8470510426967706, -1.5754502094882181)\n",
      "(-4.031040955581344, -2.634835994839523)\n",
      "(-4.408101037062195, -3.404041478431143)\n",
      "(-4.556821577810286, -4.206933960483049)\n"
     ]
    },
    {
     "data": {
      "application/vnd.jupyter.widget-view+json": {
       "model_id": "b61e2fc7cfe443ee876ea45f3d8810a5",
       "version_major": 2,
       "version_minor": 0
      },
      "text/plain": [
       "  0%|          | 0/18000 [00:00<?, ?it/s]"
      ]
     },
     "metadata": {},
     "output_type": "display_data"
    },
    {
     "name": "stdout",
     "output_type": "stream",
     "text": [
      "(-0.6839886212948543, -0.705366265597882)\n",
      "(-1.733831580806574, -1.4752402794215835)\n",
      "(-4.066803841118073, -2.8746322225499457)\n",
      "(-4.577167443233843, -4.547229783393345)\n"
     ]
    },
    {
     "data": {
      "application/vnd.jupyter.widget-view+json": {
       "model_id": "1c706927f9fe4b77aee249c8748031a2",
       "version_major": 2,
       "version_minor": 0
      },
      "text/plain": [
       "  0%|          | 0/18000 [00:00<?, ?it/s]"
      ]
     },
     "metadata": {},
     "output_type": "display_data"
    },
    {
     "name": "stdout",
     "output_type": "stream",
     "text": [
      "(-0.6608006564376622, -0.6986304480890904)\n",
      "(-1.6601377297893927, -1.520514696757698)\n",
      "(-3.366234351606475, -2.8050411915118163)\n",
      "(-4.462912128718884, -3.9286693218395072)\n"
     ]
    },
    {
     "data": {
      "application/vnd.jupyter.widget-view+json": {
       "model_id": "d91d2c19b8744a67b465f5c89e7b680d",
       "version_major": 2,
       "version_minor": 0
      },
      "text/plain": [
       "  0%|          | 0/18000 [00:00<?, ?it/s]"
      ]
     },
     "metadata": {},
     "output_type": "display_data"
    },
    {
     "name": "stdout",
     "output_type": "stream",
     "text": [
      "(-0.703675965639945, -0.6010624907440327)\n",
      "(-1.7591415437319908, -1.2329420786227385)\n",
      "(-3.512468377226231, -1.9937785360538895)\n",
      "(-4.473562596651571, -3.428874123326325)\n",
      "(-4.583558984833807, -4.575735573347036)\n"
     ]
    },
    {
     "data": {
      "application/vnd.jupyter.widget-view+json": {
       "model_id": "d25830c7ef314730975d91958c52ef61",
       "version_major": 2,
       "version_minor": 0
      },
      "text/plain": [
       "  0%|          | 0/18000 [00:00<?, ?it/s]"
      ]
     },
     "metadata": {},
     "output_type": "display_data"
    },
    {
     "name": "stdout",
     "output_type": "stream",
     "text": [
      "(-0.7134941952868085, -0.525395225827878)\n",
      "(-1.7354694548992973, -1.3789190100769084)\n",
      "(-3.6443105852722377, -2.5252177861714844)\n",
      "(-4.434886623936792, -3.733899954339989)\n",
      "(-4.56982105361091, -4.393288515712733)\n"
     ]
    },
    {
     "data": {
      "application/vnd.jupyter.widget-view+json": {
       "model_id": "4bb36ab71b154eff8587e2729f5fffac",
       "version_major": 2,
       "version_minor": 0
      },
      "text/plain": [
       "  0%|          | 0/18000 [00:00<?, ?it/s]"
      ]
     },
     "metadata": {},
     "output_type": "display_data"
    },
    {
     "name": "stdout",
     "output_type": "stream",
     "text": [
      "(-0.7319905943197216, -0.6533431099991056)\n",
      "(-1.9779232800008462, -1.6521286338061811)\n",
      "(-4.1222859421528275, -3.757966109354508)\n"
     ]
    },
    {
     "data": {
      "application/vnd.jupyter.widget-view+json": {
       "model_id": "cd0e1dd30cef450bbd5094773806b172",
       "version_major": 2,
       "version_minor": 0
      },
      "text/plain": [
       "  0%|          | 0/18000 [00:00<?, ?it/s]"
      ]
     },
     "metadata": {},
     "output_type": "display_data"
    },
    {
     "name": "stdout",
     "output_type": "stream",
     "text": [
      "(-0.6606889525904561, -0.5737407140551055)\n",
      "(-1.606472244171939, -1.41740732317855)\n",
      "(-3.583546768321465, -2.717864990022285)\n"
     ]
    },
    {
     "data": {
      "application/vnd.jupyter.widget-view+json": {
       "model_id": "83c7deea13d0444ab2700a8ee45643be",
       "version_major": 2,
       "version_minor": 0
      },
      "text/plain": [
       "  0%|          | 0/18000 [00:00<?, ?it/s]"
      ]
     },
     "metadata": {},
     "output_type": "display_data"
    },
    {
     "name": "stdout",
     "output_type": "stream",
     "text": [
      "(-0.7029625330029443, -0.6892633731613607)\n",
      "(-1.653883806832082, -1.5717003000067635)\n",
      "(-4.070770254158108, -3.4481004801213766)\n",
      "(-4.568890535868152, -4.452296035700604)\n"
     ]
    },
    {
     "data": {
      "application/vnd.jupyter.widget-view+json": {
       "model_id": "8690ee0249954727852426791d6fa812",
       "version_major": 2,
       "version_minor": 0
      },
      "text/plain": [
       "  0%|          | 0/18000 [00:00<?, ?it/s]"
      ]
     },
     "metadata": {},
     "output_type": "display_data"
    },
    {
     "name": "stdout",
     "output_type": "stream",
     "text": [
      "(-0.6331398484196203, -0.6376382228641636)\n",
      "(-1.6361837885180095, -1.5419038686051645)\n",
      "(-3.6118151192667334, -3.1935291358859126)\n",
      "(-4.472704790730369, -3.960219839694154)\n",
      "(-4.575246251097282, -4.4663418169262235)\n"
     ]
    },
    {
     "data": {
      "application/vnd.jupyter.widget-view+json": {
       "model_id": "26ef95af649b4b16afc3c729503d9b7e",
       "version_major": 2,
       "version_minor": 0
      },
      "text/plain": [
       "  0%|          | 0/18000 [00:00<?, ?it/s]"
      ]
     },
     "metadata": {},
     "output_type": "display_data"
    },
    {
     "name": "stdout",
     "output_type": "stream",
     "text": [
      "(-0.6138303052805687, -0.6345443636067192)\n",
      "(-1.5456977798560374, -1.4125988768592228)\n",
      "(-3.7045284977106903, -2.9465299432711225)\n",
      "(-4.580196297213751, -4.490961565891997)\n"
     ]
    },
    {
     "data": {
      "application/vnd.jupyter.widget-view+json": {
       "model_id": "9c12ad741d0f4ed295296e761143773f",
       "version_major": 2,
       "version_minor": 0
      },
      "text/plain": [
       "  0%|          | 0/18000 [00:00<?, ?it/s]"
      ]
     },
     "metadata": {},
     "output_type": "display_data"
    },
    {
     "name": "stdout",
     "output_type": "stream",
     "text": [
      "(-0.6870497845292599, -0.6378540273730787)\n",
      "(-1.7683642856814104, -1.530737257344447)\n",
      "(-3.563724552041502, -2.8471720815223653)\n",
      "(-4.581607320105544, -4.505577995624914)\n"
     ]
    },
    {
     "data": {
      "application/vnd.jupyter.widget-view+json": {
       "model_id": "5b272a3d9ffa43a3a563fe1a10d782bf",
       "version_major": 2,
       "version_minor": 0
      },
      "text/plain": [
       "  0%|          | 0/18000 [00:00<?, ?it/s]"
      ]
     },
     "metadata": {},
     "output_type": "display_data"
    },
    {
     "name": "stdout",
     "output_type": "stream",
     "text": [
      "(-0.6260192582719639, -0.5206389007443233)\n",
      "(-1.5421354634091062, -1.391900287434848)\n",
      "(-3.3014183928465615, -3.152484569688181)\n",
      "(-4.577631773478296, -4.509882477954238)\n"
     ]
    },
    {
     "data": {
      "application/vnd.jupyter.widget-view+json": {
       "model_id": "a1a40f133b934dc1b74df9889166454b",
       "version_major": 2,
       "version_minor": 0
      },
      "text/plain": [
       "  0%|          | 0/18000 [00:00<?, ?it/s]"
      ]
     },
     "metadata": {},
     "output_type": "display_data"
    },
    {
     "name": "stdout",
     "output_type": "stream",
     "text": [
      "(-0.6543117375005484, -0.5793999606819928)\n",
      "(-1.710196784527216, -1.572160181337924)\n",
      "(-3.680739573367161, -2.7528763597493118)\n",
      "(-4.333933633189584, -3.41240938633934)\n",
      "(-4.524744807881126, -4.047597321768103)\n",
      "(-4.572894733371388, -4.518008372657436)\n"
     ]
    },
    {
     "data": {
      "application/vnd.jupyter.widget-view+json": {
       "model_id": "20238c01fc9a4eb088b8034c9a262214",
       "version_major": 2,
       "version_minor": 0
      },
      "text/plain": [
       "  0%|          | 0/18000 [00:00<?, ?it/s]"
      ]
     },
     "metadata": {},
     "output_type": "display_data"
    },
    {
     "name": "stdout",
     "output_type": "stream",
     "text": [
      "(-0.6953849880956504, -0.6119901903747043)\n",
      "(-1.863183353763376, -1.6223244300400133)\n",
      "(-4.166290090894949, -3.5056718932367525)\n",
      "(-4.561802481587627, -4.492197839406374)\n"
     ]
    },
    {
     "data": {
      "application/vnd.jupyter.widget-view+json": {
       "model_id": "5e84bc2f4e32424fa73af5fcb9ecd495",
       "version_major": 2,
       "version_minor": 0
      },
      "text/plain": [
       "  0%|          | 0/18000 [00:00<?, ?it/s]"
      ]
     },
     "metadata": {},
     "output_type": "display_data"
    },
    {
     "name": "stdout",
     "output_type": "stream",
     "text": [
      "(-0.6198709246462136, -0.6616697119594941)\n",
      "(-1.7682306544264073, -1.4512723730752037)\n",
      "(-3.9001126164023026, -2.8452022164773987)\n",
      "(-4.4754146968165465, -3.9370084132621272)\n"
     ]
    },
    {
     "data": {
      "application/vnd.jupyter.widget-view+json": {
       "model_id": "00671aaae3e94936a3042d9d6d4c89ff",
       "version_major": 2,
       "version_minor": 0
      },
      "text/plain": [
       "  0%|          | 0/18000 [00:00<?, ?it/s]"
      ]
     },
     "metadata": {},
     "output_type": "display_data"
    },
    {
     "name": "stdout",
     "output_type": "stream",
     "text": [
      "(-0.6980752063597508, -0.6980246769020377)\n",
      "(-1.8490170360168736, -1.6349839328343205)\n",
      "(-4.488266824429498, -3.9726944595722586)\n"
     ]
    },
    {
     "data": {
      "application/vnd.jupyter.widget-view+json": {
       "model_id": "cc75ee4dc4d340be83d0c2b701f64406",
       "version_major": 2,
       "version_minor": 0
      },
      "text/plain": [
       "  0%|          | 0/18000 [00:00<?, ?it/s]"
      ]
     },
     "metadata": {},
     "output_type": "display_data"
    },
    {
     "name": "stdout",
     "output_type": "stream",
     "text": [
      "(-0.6446241314723595, -0.5802244875279933)\n",
      "(-1.6941456300636897, -1.4038653131022234)\n",
      "(-4.091076917386044, -2.75545171165032)\n",
      "(-4.584342715656662, -4.65274144001589)\n"
     ]
    },
    {
     "data": {
      "application/vnd.jupyter.widget-view+json": {
       "model_id": "f3c8eee41e11491892985f81c2fc43c6",
       "version_major": 2,
       "version_minor": 0
      },
      "text/plain": [
       "  0%|          | 0/18000 [00:00<?, ?it/s]"
      ]
     },
     "metadata": {},
     "output_type": "display_data"
    },
    {
     "name": "stdout",
     "output_type": "stream",
     "text": [
      "(-0.6139446723792071, -0.631928348833112)\n",
      "(-1.7202856973539284, -1.562824932969779)\n",
      "(-4.216989096987602, -3.4736159181349815)\n",
      "(-4.5744673627853185, -4.513823512131928)\n"
     ]
    },
    {
     "data": {
      "application/vnd.jupyter.widget-view+json": {
       "model_id": "7e02e6cf977844c7b489fb7bf60e39ba",
       "version_major": 2,
       "version_minor": 0
      },
      "text/plain": [
       "  0%|          | 0/18000 [00:00<?, ?it/s]"
      ]
     },
     "metadata": {},
     "output_type": "display_data"
    },
    {
     "name": "stdout",
     "output_type": "stream",
     "text": [
      "(-0.6619099908617678, -0.6018202283415073)\n",
      "(-1.781004880341774, -1.6786720138307638)\n",
      "(-4.157856380776111, -3.3317011397175906)\n",
      "(-4.5074328088770095, -3.927732161293325)\n",
      "(-4.581550780120387, -4.598652148763549)\n"
     ]
    },
    {
     "data": {
      "application/vnd.jupyter.widget-view+json": {
       "model_id": "e8dc6dd7011a460c804f00b6f793bf1d",
       "version_major": 2,
       "version_minor": 0
      },
      "text/plain": [
       "  0%|          | 0/18000 [00:00<?, ?it/s]"
      ]
     },
     "metadata": {},
     "output_type": "display_data"
    },
    {
     "name": "stdout",
     "output_type": "stream",
     "text": [
      "(-0.7018185748088528, -0.5996376288673961)\n",
      "(-1.904408490333261, -1.6582372683588067)\n",
      "(-4.0780445969257855, -3.1871917469581663)\n",
      "(-4.556789217265644, -4.242042542081873)\n"
     ]
    },
    {
     "data": {
      "application/vnd.jupyter.widget-view+json": {
       "model_id": "4ae30bbff8704723973e8e2b301222e3",
       "version_major": 2,
       "version_minor": 0
      },
      "text/plain": [
       "  0%|          | 0/18000 [00:00<?, ?it/s]"
      ]
     },
     "metadata": {},
     "output_type": "display_data"
    },
    {
     "name": "stdout",
     "output_type": "stream",
     "text": [
      "(-0.7127667124338904, -0.8836790652310763)\n",
      "(-1.8669353529043886, -1.7954798123677596)\n",
      "(-4.484782135261219, -4.049906124368475)\n"
     ]
    },
    {
     "data": {
      "application/vnd.jupyter.widget-view+json": {
       "model_id": "99c7935398634834bc128800979a585b",
       "version_major": 2,
       "version_minor": 0
      },
      "text/plain": [
       "  0%|          | 0/18000 [00:00<?, ?it/s]"
      ]
     },
     "metadata": {},
     "output_type": "display_data"
    },
    {
     "name": "stdout",
     "output_type": "stream",
     "text": [
      "(-0.6223964666711527, -0.5859627943444381)\n",
      "(-1.5949963726783198, -1.5753893227784312)\n",
      "(-3.8257688637321285, -3.393245114531869)\n",
      "(-4.5863533696897525, -4.595855904368306)\n"
     ]
    },
    {
     "data": {
      "application/vnd.jupyter.widget-view+json": {
       "model_id": "18456b21b2144500acb4656703ca66ed",
       "version_major": 2,
       "version_minor": 0
      },
      "text/plain": [
       "  0%|          | 0/18000 [00:00<?, ?it/s]"
      ]
     },
     "metadata": {},
     "output_type": "display_data"
    },
    {
     "name": "stdout",
     "output_type": "stream",
     "text": [
      "(-0.6625421397767508, -0.6578892270563536)\n",
      "(-1.9010512357183194, -1.7427357933468592)\n",
      "(-4.463632534433474, -3.7252427318319277)\n",
      "(-4.582041392641761, -4.597549230188838)\n"
     ]
    },
    {
     "data": {
      "application/vnd.jupyter.widget-view+json": {
       "model_id": "cfd3edf7ec124f7ca8bf438080bc93d4",
       "version_major": 2,
       "version_minor": 0
      },
      "text/plain": [
       "  0%|          | 0/18000 [00:00<?, ?it/s]"
      ]
     },
     "metadata": {},
     "output_type": "display_data"
    },
    {
     "name": "stdout",
     "output_type": "stream",
     "text": [
      "(-0.6216673743919457, -0.6770280730862044)\n",
      "(-1.7268417914719225, -1.5696342244383819)\n",
      "(-3.8840859785968402, -3.3873786848726937)\n"
     ]
    },
    {
     "data": {
      "application/vnd.jupyter.widget-view+json": {
       "model_id": "a7c5190e426d4eb29e6d9692eef9c2f0",
       "version_major": 2,
       "version_minor": 0
      },
      "text/plain": [
       "  0%|          | 0/18000 [00:00<?, ?it/s]"
      ]
     },
     "metadata": {},
     "output_type": "display_data"
    },
    {
     "name": "stdout",
     "output_type": "stream",
     "text": [
      "(-0.7053837377080556, -0.606977466542912)\n",
      "(-1.8405254432134455, -1.5678359884105766)\n",
      "(-4.190537102460068, -3.119493438720058)\n",
      "(-4.592850557421385, -4.406295401540771)\n"
     ]
    },
    {
     "data": {
      "application/vnd.jupyter.widget-view+json": {
       "model_id": "63b2567edbf34ba587a637ce84c56218",
       "version_major": 2,
       "version_minor": 0
      },
      "text/plain": [
       "  0%|          | 0/18000 [00:00<?, ?it/s]"
      ]
     },
     "metadata": {},
     "output_type": "display_data"
    },
    {
     "name": "stdout",
     "output_type": "stream",
     "text": [
      "(-0.6720416509489316, -0.6023841956712993)\n",
      "(-1.9153935513348006, -1.5634238939577216)\n",
      "(-4.092018236088125, -2.693295307842923)\n",
      "(-4.494068918181235, -3.846065394297479)\n",
      "(-4.604368310546778, -4.454982317717407)\n"
     ]
    },
    {
     "data": {
      "application/vnd.jupyter.widget-view+json": {
       "model_id": "405c965dac22412996d29618c5070845",
       "version_major": 2,
       "version_minor": 0
      },
      "text/plain": [
       "  0%|          | 0/18000 [00:00<?, ?it/s]"
      ]
     },
     "metadata": {},
     "output_type": "display_data"
    },
    {
     "name": "stdout",
     "output_type": "stream",
     "text": [
      "(-0.6189259382907885, -0.5412707098907781)\n",
      "(-1.7906352699621935, -1.4817161498862312)\n",
      "(-4.356617538652946, -3.390620529402479)\n",
      "(-4.602953194111617, -4.452502422395563)\n"
     ]
    },
    {
     "data": {
      "application/vnd.jupyter.widget-view+json": {
       "model_id": "f086b8ea526945deb2835e88cc5e202d",
       "version_major": 2,
       "version_minor": 0
      },
      "text/plain": [
       "  0%|          | 0/18000 [00:00<?, ?it/s]"
      ]
     },
     "metadata": {},
     "output_type": "display_data"
    },
    {
     "name": "stdout",
     "output_type": "stream",
     "text": [
      "(-0.6972579225292974, -0.738441088306933)\n",
      "(-1.8368958540273486, -1.58736690565133)\n",
      "(-4.249141951343672, -3.022524296255532)\n",
      "(-4.584141406150166, -4.305341259312945)\n"
     ]
    },
    {
     "data": {
      "application/vnd.jupyter.widget-view+json": {
       "model_id": "5ad744c3617e4e64b92d776ff0be8cec",
       "version_major": 2,
       "version_minor": 0
      },
      "text/plain": [
       "  0%|          | 0/18000 [00:00<?, ?it/s]"
      ]
     },
     "metadata": {},
     "output_type": "display_data"
    },
    {
     "name": "stdout",
     "output_type": "stream",
     "text": [
      "(-0.6285247323636929, -0.5358310930430702)\n",
      "(-1.6500438038373, -1.3604260952599)\n",
      "(-3.343886746751261, -2.205006304307919)\n",
      "(-4.363677920712983, -3.2309878896353728)\n",
      "(-4.5795648782095695, -4.64468062776373)\n"
     ]
    },
    {
     "data": {
      "application/vnd.jupyter.widget-view+json": {
       "model_id": "9b82d02264964595a9672b870d0c129e",
       "version_major": 2,
       "version_minor": 0
      },
      "text/plain": [
       "  0%|          | 0/18000 [00:00<?, ?it/s]"
      ]
     },
     "metadata": {},
     "output_type": "display_data"
    },
    {
     "name": "stdout",
     "output_type": "stream",
     "text": [
      "(-0.6353502606296112, -0.7315279056506088)\n",
      "(-1.6782156846112013, -1.5487903329385728)\n",
      "(-3.7124056252299624, -2.9134340512471906)\n",
      "(-4.405581715596387, -3.9573910564289787)\n",
      "(-4.5766873832179495, -4.644460000102412)\n"
     ]
    },
    {
     "data": {
      "application/vnd.jupyter.widget-view+json": {
       "model_id": "210395e5d9574063b8faa28d1d94049f",
       "version_major": 2,
       "version_minor": 0
      },
      "text/plain": [
       "  0%|          | 0/18000 [00:00<?, ?it/s]"
      ]
     },
     "metadata": {},
     "output_type": "display_data"
    },
    {
     "name": "stdout",
     "output_type": "stream",
     "text": [
      "(-0.6885509537750437, -0.6016864815660972)\n",
      "(-1.7851293438532654, -1.5428935070190202)\n",
      "(-4.3259728936367265, -3.4095766369627802)\n",
      "(-4.581070393327021, -4.666432827971167)\n"
     ]
    },
    {
     "data": {
      "application/vnd.jupyter.widget-view+json": {
       "model_id": "cbcf7bf7b0a94dae8918b149dfb943e5",
       "version_major": 2,
       "version_minor": 0
      },
      "text/plain": [
       "  0%|          | 0/18000 [00:00<?, ?it/s]"
      ]
     },
     "metadata": {},
     "output_type": "display_data"
    },
    {
     "name": "stdout",
     "output_type": "stream",
     "text": [
      "(-0.6531204650233372, -0.6550192287833272)\n",
      "(-1.7114358390499058, -1.6082544556383238)\n",
      "(-4.341563629788633, -3.853928025902758)\n"
     ]
    },
    {
     "data": {
      "application/vnd.jupyter.widget-view+json": {
       "model_id": "da584af75bf042239f3bdc974e177c3a",
       "version_major": 2,
       "version_minor": 0
      },
      "text/plain": [
       "  0%|          | 0/18000 [00:00<?, ?it/s]"
      ]
     },
     "metadata": {},
     "output_type": "display_data"
    },
    {
     "name": "stdout",
     "output_type": "stream",
     "text": [
      "(-0.6160604127517595, -0.6490029495059979)\n",
      "(-1.6764419496009317, -1.6019167404356924)\n",
      "(-4.1335032370469795, -3.108948195705638)\n",
      "(-4.4842824305251785, -3.9364116365244066)\n",
      "(-4.597290032188525, -4.657528322018031)\n"
     ]
    },
    {
     "data": {
      "application/vnd.jupyter.widget-view+json": {
       "model_id": "a114f47c1efb4b2285642a43e1499b3c",
       "version_major": 2,
       "version_minor": 0
      },
      "text/plain": [
       "  0%|          | 0/18000 [00:00<?, ?it/s]"
      ]
     },
     "metadata": {},
     "output_type": "display_data"
    },
    {
     "name": "stdout",
     "output_type": "stream",
     "text": [
      "(-0.7196368009427461, -0.5454516776743819)\n",
      "(-1.8892403604062566, -1.6145937764539275)\n",
      "(-4.416176053608422, -3.85873684207283)\n"
     ]
    },
    {
     "data": {
      "application/vnd.jupyter.widget-view+json": {
       "model_id": "5f844ef548274058b595a64273661abc",
       "version_major": 2,
       "version_minor": 0
      },
      "text/plain": [
       "  0%|          | 0/18000 [00:00<?, ?it/s]"
      ]
     },
     "metadata": {},
     "output_type": "display_data"
    },
    {
     "name": "stdout",
     "output_type": "stream",
     "text": [
      "(-0.6773179316414901, -0.6006464075601923)\n",
      "(-2.124404040752638, -1.615748944663922)\n",
      "(-4.415400530370081, -3.7211152757124455)\n",
      "(-4.588701778016441, -4.591957884644119)\n"
     ]
    },
    {
     "data": {
      "application/vnd.jupyter.widget-view+json": {
       "model_id": "812fda2407ea4e6daaf65dfb066de98b",
       "version_major": 2,
       "version_minor": 0
      },
      "text/plain": [
       "  0%|          | 0/18000 [00:00<?, ?it/s]"
      ]
     },
     "metadata": {},
     "output_type": "display_data"
    },
    {
     "name": "stdout",
     "output_type": "stream",
     "text": [
      "(-0.6171459229549846, -0.7091172373616592)\n",
      "(-2.001258721627889, -1.9274130759541461)\n",
      "(-4.434604149716754, -3.7846336742934916)\n",
      "(-4.590266725570382, -4.581957572209802)\n"
     ]
    },
    {
     "data": {
      "application/vnd.jupyter.widget-view+json": {
       "model_id": "88123cfdbfd040e4b677a53acf36193e",
       "version_major": 2,
       "version_minor": 0
      },
      "text/plain": [
       "  0%|          | 0/18000 [00:00<?, ?it/s]"
      ]
     },
     "metadata": {},
     "output_type": "display_data"
    },
    {
     "name": "stdout",
     "output_type": "stream",
     "text": [
      "(-0.6172614298536032, -0.5562000303084484)\n",
      "(-1.8188947228153405, -1.5821279792322542)\n",
      "(-4.56753790634028, -4.41298800843122)\n"
     ]
    },
    {
     "data": {
      "application/vnd.jupyter.widget-view+json": {
       "model_id": "953ddf7e9f834f4bb5f42d25ed5a1b01",
       "version_major": 2,
       "version_minor": 0
      },
      "text/plain": [
       "  0%|          | 0/18000 [00:00<?, ?it/s]"
      ]
     },
     "metadata": {},
     "output_type": "display_data"
    },
    {
     "name": "stdout",
     "output_type": "stream",
     "text": [
      "(-0.6627229965215, -0.7110531799216084)\n",
      "(-2.0557608356605592, -1.9537269251198959)\n",
      "(-4.2813832453270955, -3.5017651586304406)\n",
      "(-4.560204908933269, -4.318096995205286)\n"
     ]
    },
    {
     "data": {
      "application/vnd.jupyter.widget-view+json": {
       "model_id": "1cf7803daca64d55b2984c6895106899",
       "version_major": 2,
       "version_minor": 0
      },
      "text/plain": [
       "  0%|          | 0/18000 [00:00<?, ?it/s]"
      ]
     },
     "metadata": {},
     "output_type": "display_data"
    },
    {
     "name": "stdout",
     "output_type": "stream",
     "text": [
      "(-0.6167029738452818, -0.6192277362822644)\n",
      "(-1.7105169503177653, -1.560389102478168)\n",
      "(-4.327620852906809, -3.626241590390327)\n",
      "(-4.577440848911553, -4.53521570703772)\n"
     ]
    },
    {
     "data": {
      "application/vnd.jupyter.widget-view+json": {
       "model_id": "108d2e82fe154dd9974b0b49a2225167",
       "version_major": 2,
       "version_minor": 0
      },
      "text/plain": [
       "  0%|          | 0/18000 [00:00<?, ?it/s]"
      ]
     },
     "metadata": {},
     "output_type": "display_data"
    },
    {
     "name": "stdout",
     "output_type": "stream",
     "text": [
      "(-0.693773670144418, -0.49787886976040274)\n",
      "(-1.9496575375466794, -1.5586781993227294)\n",
      "(-4.283993870792466, -3.5848571531142746)\n",
      "(-4.564125552325872, -4.419988244578563)\n"
     ]
    },
    {
     "data": {
      "application/vnd.jupyter.widget-view+json": {
       "model_id": "b39da8e9f7884449a1f734fdbe77694e",
       "version_major": 2,
       "version_minor": 0
      },
      "text/plain": [
       "  0%|          | 0/18000 [00:00<?, ?it/s]"
      ]
     },
     "metadata": {},
     "output_type": "display_data"
    },
    {
     "name": "stdout",
     "output_type": "stream",
     "text": [
      "(-0.64422256409825, -0.5199125917567877)\n",
      "(-1.8637783334875013, -1.6828909899515985)\n",
      "(-4.479281265800625, -4.053215558017649)\n"
     ]
    },
    {
     "data": {
      "application/vnd.jupyter.widget-view+json": {
       "model_id": "e2c3cf48638a42f398d1ff5f56209261",
       "version_major": 2,
       "version_minor": 0
      },
      "text/plain": [
       "  0%|          | 0/18000 [00:00<?, ?it/s]"
      ]
     },
     "metadata": {},
     "output_type": "display_data"
    },
    {
     "name": "stdout",
     "output_type": "stream",
     "text": [
      "(-0.5793742459988515, -0.5433600645361841)\n",
      "(-1.790810870245475, -1.6147862528342354)\n",
      "(-4.521784688544528, -4.122534565407791)\n"
     ]
    },
    {
     "data": {
      "application/vnd.jupyter.widget-view+json": {
       "model_id": "ea47a4ebec1a43f3a90bdf511163127f",
       "version_major": 2,
       "version_minor": 0
      },
      "text/plain": [
       "  0%|          | 0/18000 [00:00<?, ?it/s]"
      ]
     },
     "metadata": {},
     "output_type": "display_data"
    },
    {
     "name": "stdout",
     "output_type": "stream",
     "text": [
      "(-0.6747707535692913, -0.6262047158297219)\n",
      "(-1.9746944352802813, -1.7190627503356588)\n",
      "(-4.4537099256397985, -3.9421614839012116)\n",
      "(-4.585462013854484, -4.588660927098128)\n"
     ]
    },
    {
     "data": {
      "application/vnd.jupyter.widget-view+json": {
       "model_id": "1d4f96431d5b449cbe2389dd600aa52e",
       "version_major": 2,
       "version_minor": 0
      },
      "text/plain": [
       "  0%|          | 0/18000 [00:00<?, ?it/s]"
      ]
     },
     "metadata": {},
     "output_type": "display_data"
    },
    {
     "name": "stdout",
     "output_type": "stream",
     "text": [
      "(-0.6222321908255536, -0.5874114239973104)\n",
      "(-1.9134308892944418, -1.778541904335105)\n",
      "(-4.407402047351506, -3.1438381455424933)\n"
     ]
    },
    {
     "data": {
      "application/vnd.jupyter.widget-view+json": {
       "model_id": "fb33e0d98d96414bb432eadefdd2c389",
       "version_major": 2,
       "version_minor": 0
      },
      "text/plain": [
       "  0%|          | 0/18000 [00:00<?, ?it/s]"
      ]
     },
     "metadata": {},
     "output_type": "display_data"
    },
    {
     "name": "stdout",
     "output_type": "stream",
     "text": [
      "(-0.6698806661078855, -0.5688957370163715)\n",
      "(-1.7545562990946217, -1.6133439624766581)\n",
      "(-4.235584388223482, -2.7095199147442433)\n",
      "(-4.599777965541623, -4.222279243114952)\n"
     ]
    },
    {
     "data": {
      "application/vnd.jupyter.widget-view+json": {
       "model_id": "1e9aa48d64c74ae68248855e7d2c4249",
       "version_major": 2,
       "version_minor": 0
      },
      "text/plain": [
       "  0%|          | 0/18000 [00:00<?, ?it/s]"
      ]
     },
     "metadata": {},
     "output_type": "display_data"
    },
    {
     "name": "stdout",
     "output_type": "stream",
     "text": [
      "(-0.6534104583682676, -0.5809393768609996)\n",
      "(-1.763138355221337, -1.6156264195989314)\n",
      "(-4.5385124122145655, -3.9639023935435964)\n"
     ]
    },
    {
     "data": {
      "application/vnd.jupyter.widget-view+json": {
       "model_id": "0aef2310c76d47129c098e09ecc04e89",
       "version_major": 2,
       "version_minor": 0
      },
      "text/plain": [
       "  0%|          | 0/18000 [00:00<?, ?it/s]"
      ]
     },
     "metadata": {},
     "output_type": "display_data"
    },
    {
     "name": "stdout",
     "output_type": "stream",
     "text": [
      "(-0.6725447147195079, -0.5828750396286321)\n",
      "(-1.830738342614029, -1.6003272217270654)\n",
      "(-4.068131937458536, -3.181826063437757)\n",
      "(-4.546223336173782, -4.286024985051055)\n"
     ]
    },
    {
     "data": {
      "application/vnd.jupyter.widget-view+json": {
       "model_id": "961285fa79a74b6cbca9ccbd1a20b630",
       "version_major": 2,
       "version_minor": 0
      },
      "text/plain": [
       "  0%|          | 0/18000 [00:00<?, ?it/s]"
      ]
     },
     "metadata": {},
     "output_type": "display_data"
    },
    {
     "name": "stdout",
     "output_type": "stream",
     "text": [
      "(-0.7281931027429485, -0.7282524935457896)\n",
      "(-1.9260262658291494, -1.8585729953247976)\n",
      "(-4.498071527466629, -4.206432259822215)\n"
     ]
    },
    {
     "data": {
      "application/vnd.jupyter.widget-view+json": {
       "model_id": "c2364546f1b442149418bd81b60fffa0",
       "version_major": 2,
       "version_minor": 0
      },
      "text/plain": [
       "  0%|          | 0/18000 [00:00<?, ?it/s]"
      ]
     },
     "metadata": {},
     "output_type": "display_data"
    },
    {
     "name": "stdout",
     "output_type": "stream",
     "text": [
      "(-0.6924833726044864, -0.678266376846831)\n",
      "(-1.8365826079936984, -1.6143379830995028)\n",
      "(-4.448932074519751, -4.1559619599071524)\n"
     ]
    },
    {
     "data": {
      "application/vnd.jupyter.widget-view+json": {
       "model_id": "caf2de2a79d8493d96f3a27398441370",
       "version_major": 2,
       "version_minor": 0
      },
      "text/plain": [
       "  0%|          | 0/18000 [00:00<?, ?it/s]"
      ]
     },
     "metadata": {},
     "output_type": "display_data"
    },
    {
     "name": "stdout",
     "output_type": "stream",
     "text": [
      "(-0.6295895566818623, -0.5993333948158919)\n",
      "(-1.629306275961054, -1.3983628489916082)\n",
      "(-3.576324014815242, -2.658378546507434)\n",
      "(-4.5840333279769965, -4.35479602960611)\n"
     ]
    },
    {
     "data": {
      "application/vnd.jupyter.widget-view+json": {
       "model_id": "7b36391416234049b514b822def55858",
       "version_major": 2,
       "version_minor": 0
      },
      "text/plain": [
       "  0%|          | 0/18000 [00:00<?, ?it/s]"
      ]
     },
     "metadata": {},
     "output_type": "display_data"
    },
    {
     "name": "stdout",
     "output_type": "stream",
     "text": [
      "(-0.6186349752713662, -0.5288332448420773)\n",
      "(-1.672435213065099, -1.508216157961891)\n",
      "(-3.68795992219598, -3.4767484478755417)\n"
     ]
    },
    {
     "data": {
      "application/vnd.jupyter.widget-view+json": {
       "model_id": "ebc5c3ce452b4660b829579a8e7bac7d",
       "version_major": 2,
       "version_minor": 0
      },
      "text/plain": [
       "  0%|          | 0/18000 [00:00<?, ?it/s]"
      ]
     },
     "metadata": {},
     "output_type": "display_data"
    },
    {
     "name": "stdout",
     "output_type": "stream",
     "text": [
      "(-0.6922424481315091, -0.6686797601203044)\n",
      "(-1.7832976366242574, -1.4682851780711919)\n",
      "(-3.7856731317034304, -2.748299607300586)\n",
      "(-4.5997458375322555, -4.547968798255669)\n"
     ]
    },
    {
     "data": {
      "application/vnd.jupyter.widget-view+json": {
       "model_id": "ff6663cea9dd4cf492aa4f58c80e461d",
       "version_major": 2,
       "version_minor": 0
      },
      "text/plain": [
       "  0%|          | 0/18000 [00:00<?, ?it/s]"
      ]
     },
     "metadata": {},
     "output_type": "display_data"
    },
    {
     "name": "stdout",
     "output_type": "stream",
     "text": [
      "(-0.6317659193574066, -0.660852539388715)\n",
      "(-1.7542352468022666, -1.6367993366876292)\n",
      "(-4.282336217556969, -3.6906028015839896)\n"
     ]
    },
    {
     "data": {
      "application/vnd.jupyter.widget-view+json": {
       "model_id": "a807861c490c4b40905ba4560c13c3e2",
       "version_major": 2,
       "version_minor": 0
      },
      "text/plain": [
       "  0%|          | 0/18000 [00:00<?, ?it/s]"
      ]
     },
     "metadata": {},
     "output_type": "display_data"
    },
    {
     "name": "stdout",
     "output_type": "stream",
     "text": [
      "(-0.6438275344451581, -0.7129752449919293)\n",
      "(-1.8284892055647217, -1.7347507719840243)\n",
      "(-4.5483542599027, -4.451891061268856)\n"
     ]
    },
    {
     "data": {
      "application/vnd.jupyter.widget-view+json": {
       "model_id": "0fe6a64f00fd4157811a4c1e10f3fb81",
       "version_major": 2,
       "version_minor": 0
      },
      "text/plain": [
       "  0%|          | 0/18000 [00:00<?, ?it/s]"
      ]
     },
     "metadata": {},
     "output_type": "display_data"
    },
    {
     "name": "stdout",
     "output_type": "stream",
     "text": [
      "(-0.6660665651918487, -0.5384746932565538)\n",
      "(-1.8550800332032142, -1.6534794988205483)\n",
      "(-4.394903805294185, -3.4777828858738897)\n",
      "(-4.567991587136577, -4.558807829787421)\n"
     ]
    },
    {
     "data": {
      "application/vnd.jupyter.widget-view+json": {
       "model_id": "b849368943ce45b8a27476e746e50bb9",
       "version_major": 2,
       "version_minor": 0
      },
      "text/plain": [
       "  0%|          | 0/18000 [00:00<?, ?it/s]"
      ]
     },
     "metadata": {},
     "output_type": "display_data"
    },
    {
     "name": "stdout",
     "output_type": "stream",
     "text": [
      "(-0.5883804686794263, -0.5971005090868506)\n",
      "(-1.7301474472835583, -1.6229825850470976)\n",
      "(-3.983906052503087, -3.447487344889884)\n",
      "(-4.487671688058755, -3.8147449922034897)\n",
      "(-4.568675504329715, -4.552043884546459)\n"
     ]
    },
    {
     "data": {
      "application/vnd.jupyter.widget-view+json": {
       "model_id": "8a7a686ffafa4d8183105f0d86d39e7d",
       "version_major": 2,
       "version_minor": 0
      },
      "text/plain": [
       "  0%|          | 0/18000 [00:00<?, ?it/s]"
      ]
     },
     "metadata": {},
     "output_type": "display_data"
    },
    {
     "name": "stdout",
     "output_type": "stream",
     "text": [
      "(-0.6422086889652764, -0.5874534144177453)\n",
      "(-1.7488814833965032, -1.4400866250896516)\n",
      "(-4.296122378280899, -3.7187586829258743)\n"
     ]
    },
    {
     "data": {
      "application/vnd.jupyter.widget-view+json": {
       "model_id": "91d5e439ba3d4149a2e7a421b03ceeec",
       "version_major": 2,
       "version_minor": 0
      },
      "text/plain": [
       "  0%|          | 0/18000 [00:00<?, ?it/s]"
      ]
     },
     "metadata": {},
     "output_type": "display_data"
    },
    {
     "name": "stdout",
     "output_type": "stream",
     "text": [
      "(-0.6023650597353412, -0.6891861118416234)\n",
      "(-1.6349312307364912, -1.493995651643368)\n",
      "(-4.292209685657074, -3.9764675739228434)\n"
     ]
    },
    {
     "data": {
      "application/vnd.jupyter.widget-view+json": {
       "model_id": "2ca959919b45468f837336b7fa4d44b4",
       "version_major": 2,
       "version_minor": 0
      },
      "text/plain": [
       "  0%|          | 0/18000 [00:00<?, ?it/s]"
      ]
     },
     "metadata": {},
     "output_type": "display_data"
    },
    {
     "name": "stdout",
     "output_type": "stream",
     "text": [
      "(-0.5767434208005875, -0.536996782946371)\n",
      "(-1.604176713113477, -1.4459388825960862)\n",
      "(-4.046706964378856, -3.1358862102904883)\n",
      "(-4.593534101648839, -4.576768683289939)\n"
     ]
    },
    {
     "data": {
      "application/vnd.jupyter.widget-view+json": {
       "model_id": "5b11362c71bd48f395dafbca12734e1c",
       "version_major": 2,
       "version_minor": 0
      },
      "text/plain": [
       "  0%|          | 0/18000 [00:00<?, ?it/s]"
      ]
     },
     "metadata": {},
     "output_type": "display_data"
    },
    {
     "name": "stdout",
     "output_type": "stream",
     "text": [
      "(-0.6531626011427425, -0.7541455673055679)\n",
      "(-1.691520632119717, -1.5671388565761355)\n",
      "(-4.324714323405018, -3.9641982246371676)\n"
     ]
    },
    {
     "data": {
      "application/vnd.jupyter.widget-view+json": {
       "model_id": "ab6a09fc872847c4933a714bb60b2c19",
       "version_major": 2,
       "version_minor": 0
      },
      "text/plain": [
       "  0%|          | 0/18000 [00:00<?, ?it/s]"
      ]
     },
     "metadata": {},
     "output_type": "display_data"
    },
    {
     "name": "stdout",
     "output_type": "stream",
     "text": [
      "(-0.6961032388549078, -0.7192184195074811)\n",
      "(-2.018197264144992, -1.6414248449279092)\n",
      "(-3.996936256809888, -3.0504455371370702)\n",
      "(-4.580358615330129, -4.484763845561584)\n"
     ]
    },
    {
     "data": {
      "application/vnd.jupyter.widget-view+json": {
       "model_id": "cd52bddb489d48058890c1355b539b23",
       "version_major": 2,
       "version_minor": 0
      },
      "text/plain": [
       "  0%|          | 0/18000 [00:00<?, ?it/s]"
      ]
     },
     "metadata": {},
     "output_type": "display_data"
    },
    {
     "name": "stdout",
     "output_type": "stream",
     "text": [
      "(-0.676303576055586, -0.6503765043773398)\n",
      "(-2.0372666689859495, -1.8268129860296658)\n",
      "(-4.132243015018806, -3.2930289689270875)\n",
      "(-4.479555451851972, -3.9912969468710315)\n"
     ]
    },
    {
     "data": {
      "application/vnd.jupyter.widget-view+json": {
       "model_id": "e5783dbb18f5417588c39f826c56a0cb",
       "version_major": 2,
       "version_minor": 0
      },
      "text/plain": [
       "  0%|          | 0/18000 [00:00<?, ?it/s]"
      ]
     },
     "metadata": {},
     "output_type": "display_data"
    },
    {
     "name": "stdout",
     "output_type": "stream",
     "text": [
      "(-0.6584363557789409, -0.571498889373377)\n",
      "(-1.6680750350574807, -1.4287357007391672)\n",
      "(-3.9245887266049837, -2.931236578696673)\n",
      "(-4.458266244797356, -3.8024549586143377)\n",
      "(-4.60403090160332, -4.5383697303753365)\n"
     ]
    },
    {
     "data": {
      "application/vnd.jupyter.widget-view+json": {
       "model_id": "a3aa35ab63e247c99dcb23a5838621c4",
       "version_major": 2,
       "version_minor": 0
      },
      "text/plain": [
       "  0%|          | 0/18000 [00:00<?, ?it/s]"
      ]
     },
     "metadata": {},
     "output_type": "display_data"
    },
    {
     "name": "stdout",
     "output_type": "stream",
     "text": [
      "(-0.628146916333014, -0.7117720092465656)\n",
      "(-1.615411103220695, -1.5793720601990526)\n",
      "(-4.17399619604998, -3.876514217937415)\n"
     ]
    },
    {
     "data": {
      "application/vnd.jupyter.widget-view+json": {
       "model_id": "1c1a1da9d3c744a897462c011ffee867",
       "version_major": 2,
       "version_minor": 0
      },
      "text/plain": [
       "  0%|          | 0/18000 [00:00<?, ?it/s]"
      ]
     },
     "metadata": {},
     "output_type": "display_data"
    },
    {
     "name": "stdout",
     "output_type": "stream",
     "text": [
      "(-0.6073267238470095, -0.6120597588858004)\n",
      "(-1.689107791469138, -1.4974802438119184)\n",
      "(-4.241216142605951, -3.3391033568006336)\n"
     ]
    },
    {
     "data": {
      "application/vnd.jupyter.widget-view+json": {
       "model_id": "99f0d34c97e240cd984a5a6810961cc2",
       "version_major": 2,
       "version_minor": 0
      },
      "text/plain": [
       "  0%|          | 0/18000 [00:00<?, ?it/s]"
      ]
     },
     "metadata": {},
     "output_type": "display_data"
    },
    {
     "name": "stdout",
     "output_type": "stream",
     "text": [
      "(-0.6505226754002225, -0.637148814621368)\n",
      "(-1.6557211204514755, -1.4244917000837751)\n",
      "(-3.5425133531552584, -3.019596464963393)\n"
     ]
    },
    {
     "data": {
      "application/vnd.jupyter.widget-view+json": {
       "model_id": "893a2271f8d04832ad4b8ed0380b2b37",
       "version_major": 2,
       "version_minor": 0
      },
      "text/plain": [
       "  0%|          | 0/18000 [00:00<?, ?it/s]"
      ]
     },
     "metadata": {},
     "output_type": "display_data"
    },
    {
     "name": "stdout",
     "output_type": "stream",
     "text": [
      "(-0.6847055336147243, -0.6416007229181547)\n",
      "(-1.6930679325134679, -1.5647755606309712)\n",
      "(-4.219425574463892, -4.214688087903819)\n"
     ]
    },
    {
     "data": {
      "application/vnd.jupyter.widget-view+json": {
       "model_id": "c48c7ef2b02c433c817c026410c32bb0",
       "version_major": 2,
       "version_minor": 0
      },
      "text/plain": [
       "  0%|          | 0/18000 [00:00<?, ?it/s]"
      ]
     },
     "metadata": {},
     "output_type": "display_data"
    },
    {
     "name": "stdout",
     "output_type": "stream",
     "text": [
      "(-0.6797470429529574, -0.6025639357888318)\n",
      "(-1.8673204151373584, -1.529887358036002)\n",
      "(-3.9879354803308917, -2.6053756349044805)\n",
      "(-4.476190054274574, -3.5983365591605936)\n"
     ]
    },
    {
     "data": {
      "application/vnd.jupyter.widget-view+json": {
       "model_id": "ae162bbd79a244a4bd8bcfe3880b1158",
       "version_major": 2,
       "version_minor": 0
      },
      "text/plain": [
       "  0%|          | 0/18000 [00:00<?, ?it/s]"
      ]
     },
     "metadata": {},
     "output_type": "display_data"
    },
    {
     "name": "stdout",
     "output_type": "stream",
     "text": [
      "(-0.6640384952503496, -0.6438006121006737)\n",
      "(-1.6534142389442705, -1.3864737244962577)\n",
      "(-3.730612778165868, -2.5124832062770697)\n",
      "(-4.516045801289942, -3.9940269847897336)\n"
     ]
    },
    {
     "data": {
      "application/vnd.jupyter.widget-view+json": {
       "model_id": "633816125d2f41d691f94c8a02867e30",
       "version_major": 2,
       "version_minor": 0
      },
      "text/plain": [
       "  0%|          | 0/18000 [00:00<?, ?it/s]"
      ]
     },
     "metadata": {},
     "output_type": "display_data"
    },
    {
     "name": "stdout",
     "output_type": "stream",
     "text": [
      "(-0.6925313230089336, -0.7364172011362387)\n",
      "(-1.7346252303051706, -1.534507775743369)\n",
      "(-3.4317664205278646, -2.5325974972866416)\n",
      "(-4.447750524203428, -3.539165156096702)\n",
      "(-4.56267677011382, -4.564576181896636)\n"
     ]
    },
    {
     "data": {
      "application/vnd.jupyter.widget-view+json": {
       "model_id": "f8c4b6469ff3475caa7ccc91475cda61",
       "version_major": 2,
       "version_minor": 0
      },
      "text/plain": [
       "  0%|          | 0/18000 [00:00<?, ?it/s]"
      ]
     },
     "metadata": {},
     "output_type": "display_data"
    },
    {
     "name": "stdout",
     "output_type": "stream",
     "text": [
      "(-0.6000816888789247, -0.5303158292258531)\n",
      "(-1.5852733745174257, -1.3905067610635231)\n",
      "(-3.662440186464267, -2.648584381365297)\n",
      "(-4.412124887003649, -3.4888351974602143)\n",
      "(-4.564592069752761, -4.520543425310253)\n"
     ]
    },
    {
     "data": {
      "application/vnd.jupyter.widget-view+json": {
       "model_id": "a6c56c469ca54390b6358cfd5e3e96f3",
       "version_major": 2,
       "version_minor": 0
      },
      "text/plain": [
       "  0%|          | 0/18000 [00:00<?, ?it/s]"
      ]
     },
     "metadata": {},
     "output_type": "display_data"
    },
    {
     "name": "stdout",
     "output_type": "stream",
     "text": [
      "(-0.5673759319557223, -0.7394722092603485)\n",
      "(-1.545030641241204, -1.5515081240586124)\n",
      "(-3.5384868339767097, -2.9762824183446654)\n",
      "(-4.56286240941152, -4.58694228277644)\n"
     ]
    },
    {
     "data": {
      "application/vnd.jupyter.widget-view+json": {
       "model_id": "d002e7b66a5f4094a389950b95aca6f0",
       "version_major": 2,
       "version_minor": 0
      },
      "text/plain": [
       "  0%|          | 0/18000 [00:00<?, ?it/s]"
      ]
     },
     "metadata": {},
     "output_type": "display_data"
    },
    {
     "name": "stdout",
     "output_type": "stream",
     "text": [
      "(-0.6392889908651472, -0.6820256440588919)\n",
      "(-1.5377566320724576, -1.4798403024619504)\n",
      "(-3.5354726229428026, -3.2977864965730177)\n"
     ]
    },
    {
     "data": {
      "application/vnd.jupyter.widget-view+json": {
       "model_id": "a9dcbcb598c44d2e9866d7eaead8fd5f",
       "version_major": 2,
       "version_minor": 0
      },
      "text/plain": [
       "  0%|          | 0/18000 [00:00<?, ?it/s]"
      ]
     },
     "metadata": {},
     "output_type": "display_data"
    },
    {
     "name": "stdout",
     "output_type": "stream",
     "text": [
      "(-0.5951421661272802, -0.6889296552953212)\n",
      "(-1.6360980534318568, -1.5379960468266096)\n",
      "(-3.9955316375216126, -3.104614331423568)\n",
      "(-4.513427896396297, -4.166736002592165)\n"
     ]
    },
    {
     "data": {
      "application/vnd.jupyter.widget-view+json": {
       "model_id": "968538f0d6c94fa089654aa1af682008",
       "version_major": 2,
       "version_minor": 0
      },
      "text/plain": [
       "  0%|          | 0/18000 [00:00<?, ?it/s]"
      ]
     },
     "metadata": {},
     "output_type": "display_data"
    },
    {
     "name": "stdout",
     "output_type": "stream",
     "text": [
      "(-0.64797458291613, -0.7274993887259983)\n",
      "(-1.7135340974746833, -1.505974019683368)\n",
      "(-3.9484349719157583, -2.876728290621786)\n",
      "(-4.513416158009116, -4.190616180028064)\n",
      "(-4.601717569393997, -4.575823617487503)\n"
     ]
    },
    {
     "data": {
      "application/vnd.jupyter.widget-view+json": {
       "model_id": "ddb7a94a7a2f420c8779be20be10336a",
       "version_major": 2,
       "version_minor": 0
      },
      "text/plain": [
       "  0%|          | 0/18000 [00:00<?, ?it/s]"
      ]
     },
     "metadata": {},
     "output_type": "display_data"
    },
    {
     "name": "stdout",
     "output_type": "stream",
     "text": [
      "(-0.6510108043491679, -0.6802182327588534)\n",
      "(-1.819149878227796, -1.618320700974789)\n",
      "(-4.01979468888976, -3.0336648557247257)\n",
      "(-4.589042236201349, -4.566141702903505)\n"
     ]
    },
    {
     "data": {
      "application/vnd.jupyter.widget-view+json": {
       "model_id": "2c23fcfeb56c44eca6a9aa9f8a990f3e",
       "version_major": 2,
       "version_minor": 0
      },
      "text/plain": [
       "  0%|          | 0/18000 [00:00<?, ?it/s]"
      ]
     },
     "metadata": {},
     "output_type": "display_data"
    },
    {
     "name": "stdout",
     "output_type": "stream",
     "text": [
      "(-0.6489066121070585, -0.5934599461196861)\n",
      "(-1.6442493963263964, -1.3527534122332943)\n",
      "(-3.1287059673419955, -2.204995582778256)\n",
      "(-4.264864634177699, -3.4929194387490066)\n"
     ]
    },
    {
     "data": {
      "application/vnd.jupyter.widget-view+json": {
       "model_id": "4f28d5b436ab40e985e4dde303ffbef6",
       "version_major": 2,
       "version_minor": 0
      },
      "text/plain": [
       "  0%|          | 0/18000 [00:00<?, ?it/s]"
      ]
     },
     "metadata": {},
     "output_type": "display_data"
    },
    {
     "name": "stdout",
     "output_type": "stream",
     "text": [
      "(-0.6263370059502898, -0.7138314419057318)\n",
      "(-1.7014990739513423, -1.674490694171997)\n",
      "(-3.817392874703333, -3.0745402799020916)\n",
      "(-4.358456364563374, -3.7640166188667616)\n",
      "(-4.600301392074356, -4.4932097022083495)\n"
     ]
    },
    {
     "data": {
      "application/vnd.jupyter.widget-view+json": {
       "model_id": "0d27fb176f1d436981356f6b1cd3e51c",
       "version_major": 2,
       "version_minor": 0
      },
      "text/plain": [
       "  0%|          | 0/18000 [00:00<?, ?it/s]"
      ]
     },
     "metadata": {},
     "output_type": "display_data"
    },
    {
     "name": "stdout",
     "output_type": "stream",
     "text": [
      "(-0.6029307122233062, -0.6250397784600603)\n",
      "(-1.6302292254799087, -1.5860863583125338)\n",
      "(-4.321091831872876, -3.671667812082309)\n",
      "(-4.566119335294256, -4.404936030809309)\n"
     ]
    },
    {
     "data": {
      "application/vnd.jupyter.widget-view+json": {
       "model_id": "94fc863def0042a0a86449dec51f3a8e",
       "version_major": 2,
       "version_minor": 0
      },
      "text/plain": [
       "  0%|          | 0/18000 [00:00<?, ?it/s]"
      ]
     },
     "metadata": {},
     "output_type": "display_data"
    },
    {
     "name": "stdout",
     "output_type": "stream",
     "text": [
      "(-0.668967936396136, -0.6109192996498557)\n",
      "(-1.8716819253149717, -1.4086390358476935)\n",
      "(-3.870246050955291, -2.5603439209940517)\n",
      "(-4.446274363604026, -4.0507082539707175)\n",
      "(-4.5877432112853, -4.4569375632252966)\n"
     ]
    },
    {
     "data": {
      "application/vnd.jupyter.widget-view+json": {
       "model_id": "b8115c8194bf4c65afbe4af3caabddf9",
       "version_major": 2,
       "version_minor": 0
      },
      "text/plain": [
       "  0%|          | 0/18000 [00:00<?, ?it/s]"
      ]
     },
     "metadata": {},
     "output_type": "display_data"
    },
    {
     "name": "stdout",
     "output_type": "stream",
     "text": [
      "(-0.64647749811309, -0.6969388921898776)\n",
      "(-1.8208625186036178, -1.5629411188024)\n",
      "(-4.31298623706, -3.0954920258335985)\n",
      "(-4.591122919528534, -4.502045536695246)\n"
     ]
    },
    {
     "data": {
      "application/vnd.jupyter.widget-view+json": {
       "model_id": "cc069747bf1b45f895cf1419d4b27226",
       "version_major": 2,
       "version_minor": 0
      },
      "text/plain": [
       "  0%|          | 0/18000 [00:00<?, ?it/s]"
      ]
     },
     "metadata": {},
     "output_type": "display_data"
    },
    {
     "name": "stdout",
     "output_type": "stream",
     "text": [
      "(-0.5881155780250245, -0.6831995407908115)\n",
      "(-1.6492998112566462, -1.4254427530422864)\n",
      "(-3.9757568131854413, -2.7575024929756498)\n",
      "(-4.594940449159759, -4.479005254661241)\n"
     ]
    },
    {
     "data": {
      "application/vnd.jupyter.widget-view+json": {
       "model_id": "f8e17491b16640c3a6201904fb71999f",
       "version_major": 2,
       "version_minor": 0
      },
      "text/plain": [
       "  0%|          | 0/18000 [00:00<?, ?it/s]"
      ]
     },
     "metadata": {},
     "output_type": "display_data"
    },
    {
     "name": "stdout",
     "output_type": "stream",
     "text": [
      "(-0.7167954156410089, -0.6402202808026115)\n",
      "(-1.8531093780965016, -1.6931072408783039)\n",
      "(-4.294244915722067, -3.740769851159858)\n"
     ]
    },
    {
     "data": {
      "application/vnd.jupyter.widget-view+json": {
       "model_id": "5d4432c994534ed5a245b1f83568c166",
       "version_major": 2,
       "version_minor": 0
      },
      "text/plain": [
       "  0%|          | 0/18000 [00:00<?, ?it/s]"
      ]
     },
     "metadata": {},
     "output_type": "display_data"
    },
    {
     "name": "stdout",
     "output_type": "stream",
     "text": [
      "(-0.6041776448328798, -0.6573590975135277)\n",
      "(-1.6812812859917077, -1.4297033586642607)\n",
      "(-3.7261661998051703, -2.967477741907458)\n",
      "(-4.534465067921568, -4.379964830798244)\n"
     ]
    },
    {
     "data": {
      "application/vnd.jupyter.widget-view+json": {
       "model_id": "3423d2524131467987176f48bd3c1f50",
       "version_major": 2,
       "version_minor": 0
      },
      "text/plain": [
       "  0%|          | 0/18000 [00:00<?, ?it/s]"
      ]
     },
     "metadata": {},
     "output_type": "display_data"
    },
    {
     "name": "stdout",
     "output_type": "stream",
     "text": [
      "(-0.6337587268092084, -0.7118439708737624)\n",
      "(-1.865853194746853, -1.726892421044555)\n",
      "(-4.211572534565405, -3.435060899347272)\n"
     ]
    },
    {
     "data": {
      "application/vnd.jupyter.widget-view+json": {
       "model_id": "d074ae568d1a49a39e8c786bd5e6d66f",
       "version_major": 2,
       "version_minor": 0
      },
      "text/plain": [
       "  0%|          | 0/18000 [00:00<?, ?it/s]"
      ]
     },
     "metadata": {},
     "output_type": "display_data"
    },
    {
     "name": "stdout",
     "output_type": "stream",
     "text": [
      "(-0.724625309989809, -0.7035660624381868)\n",
      "(-1.9630029489065195, -1.5097805013969197)\n",
      "(-4.125587996391897, -2.885932635119131)\n",
      "(-4.580190692020358, -4.524272690579413)\n"
     ]
    },
    {
     "data": {
      "application/vnd.jupyter.widget-view+json": {
       "model_id": "7a64713d953b4b70954a4f13af483e7a",
       "version_major": 2,
       "version_minor": 0
      },
      "text/plain": [
       "  0%|          | 0/18000 [00:00<?, ?it/s]"
      ]
     },
     "metadata": {},
     "output_type": "display_data"
    },
    {
     "name": "stdout",
     "output_type": "stream",
     "text": [
      "(-0.6641017052170368, -0.6666209984474648)\n",
      "(-1.8335290138326363, -1.4965225309354482)\n",
      "(-4.146143724131303, -3.586028510664507)\n"
     ]
    },
    {
     "data": {
      "application/vnd.jupyter.widget-view+json": {
       "model_id": "8b477558545242abb5751bd829263e88",
       "version_major": 2,
       "version_minor": 0
      },
      "text/plain": [
       "  0%|          | 0/18000 [00:00<?, ?it/s]"
      ]
     },
     "metadata": {},
     "output_type": "display_data"
    },
    {
     "name": "stdout",
     "output_type": "stream",
     "text": [
      "(-0.583234305253636, -0.5414231450997105)\n",
      "(-1.837298744173954, -1.5529192589023044)\n",
      "(-4.016379421978944, -3.100348836180472)\n",
      "(-4.481653561746317, -4.110497602702382)\n"
     ]
    },
    {
     "data": {
      "application/vnd.jupyter.widget-view+json": {
       "model_id": "672b133580374fe1a190b3427fae5c15",
       "version_major": 2,
       "version_minor": 0
      },
      "text/plain": [
       "  0%|          | 0/18000 [00:00<?, ?it/s]"
      ]
     },
     "metadata": {},
     "output_type": "display_data"
    },
    {
     "name": "stdout",
     "output_type": "stream",
     "text": [
      "(-0.6536543133460708, -0.5676766822840402)\n",
      "(-1.9707216515202175, -1.721623541133687)\n",
      "(-4.323290259641436, -4.000721202841096)\n",
      "(-4.595798841125568, -4.654144998913976)\n"
     ]
    },
    {
     "data": {
      "application/vnd.jupyter.widget-view+json": {
       "model_id": "96d622a055ef49cea28fd7a5ce190e8e",
       "version_major": 2,
       "version_minor": 0
      },
      "text/plain": [
       "  0%|          | 0/18000 [00:00<?, ?it/s]"
      ]
     },
     "metadata": {},
     "output_type": "display_data"
    },
    {
     "name": "stdout",
     "output_type": "stream",
     "text": [
      "(-0.6674935550678596, -0.7305154374727648)\n",
      "(-2.230988616390512, -1.987183746781201)\n",
      "(-4.591540134266711, -4.614598885324473)\n"
     ]
    },
    {
     "data": {
      "application/vnd.jupyter.widget-view+json": {
       "model_id": "1b71cd2cd7774359857453450129d193",
       "version_major": 2,
       "version_minor": 0
      },
      "text/plain": [
       "  0%|          | 0/18000 [00:00<?, ?it/s]"
      ]
     },
     "metadata": {},
     "output_type": "display_data"
    },
    {
     "name": "stdout",
     "output_type": "stream",
     "text": [
      "(-0.6898243658825008, -0.561709220342137)\n",
      "(-2.167998079977843, -1.6924274989581802)\n",
      "(-4.3950268542308715, -4.218351419091456)\n"
     ]
    },
    {
     "data": {
      "application/vnd.jupyter.widget-view+json": {
       "model_id": "0199ba55dfb148e89922e33a803c00ab",
       "version_major": 2,
       "version_minor": 0
      },
      "text/plain": [
       "  0%|          | 0/18000 [00:00<?, ?it/s]"
      ]
     },
     "metadata": {},
     "output_type": "display_data"
    },
    {
     "name": "stdout",
     "output_type": "stream",
     "text": [
      "(-0.6319664395298576, -0.38594150182026965)\n",
      "(-1.821772288071201, -1.2601544943436254)\n",
      "(-4.262739867614781, -3.1026681694558795)\n",
      "(-4.5956252304657, -4.702874976007245)\n"
     ]
    },
    {
     "data": {
      "application/vnd.jupyter.widget-view+json": {
       "model_id": "19b0465c53e74e32ba07c4c8edc9cc6f",
       "version_major": 2,
       "version_minor": 0
      },
      "text/plain": [
       "  0%|          | 0/18000 [00:00<?, ?it/s]"
      ]
     },
     "metadata": {},
     "output_type": "display_data"
    },
    {
     "name": "stdout",
     "output_type": "stream",
     "text": [
      "(-0.614213532177285, -0.7379117699203717)\n",
      "(-1.9398108659563709, -1.6794946620606566)\n",
      "(-4.385817106438999, -3.6863884917080174)\n"
     ]
    },
    {
     "data": {
      "application/vnd.jupyter.widget-view+json": {
       "model_id": "d23cefcabe69454ba8ac4f45661df236",
       "version_major": 2,
       "version_minor": 0
      },
      "text/plain": [
       "  0%|          | 0/18000 [00:00<?, ?it/s]"
      ]
     },
     "metadata": {},
     "output_type": "display_data"
    },
    {
     "name": "stdout",
     "output_type": "stream",
     "text": [
      "(-0.6779766409912018, -0.6481480355676889)\n",
      "(-1.8813976311377485, -1.744025634835267)\n",
      "(-4.450949659002197, -3.849045961018403)\n"
     ]
    },
    {
     "data": {
      "application/vnd.jupyter.widget-view+json": {
       "model_id": "c49af685912f44aea0741eab2e69f8af",
       "version_major": 2,
       "version_minor": 0
      },
      "text/plain": [
       "  0%|          | 0/18000 [00:00<?, ?it/s]"
      ]
     },
     "metadata": {},
     "output_type": "display_data"
    },
    {
     "name": "stdout",
     "output_type": "stream",
     "text": [
      "(-0.658490952458024, -0.5465170113705546)\n",
      "(-1.9754454100629262, -1.6537290336334323)\n",
      "(-4.549353201822967, -4.4390182199481325)\n"
     ]
    },
    {
     "data": {
      "application/vnd.jupyter.widget-view+json": {
       "model_id": "756189d8820b48edab375b59f25249ad",
       "version_major": 2,
       "version_minor": 0
      },
      "text/plain": [
       "  0%|          | 0/18000 [00:00<?, ?it/s]"
      ]
     },
     "metadata": {},
     "output_type": "display_data"
    },
    {
     "name": "stdout",
     "output_type": "stream",
     "text": [
      "(-0.6221823002945717, -0.46354516945822744)\n",
      "(-1.6880129848145968, -1.3393557557005107)\n",
      "(-4.204602375509611, -2.6464809628062618)\n"
     ]
    },
    {
     "data": {
      "application/vnd.jupyter.widget-view+json": {
       "model_id": "c4437caf75e24fd18702be4345952afd",
       "version_major": 2,
       "version_minor": 0
      },
      "text/plain": [
       "  0%|          | 0/18000 [00:00<?, ?it/s]"
      ]
     },
     "metadata": {},
     "output_type": "display_data"
    },
    {
     "name": "stdout",
     "output_type": "stream",
     "text": [
      "(-0.644879410079441, -0.623926816609087)\n",
      "(-1.8227341629915497, -1.7370814624456885)\n",
      "(-4.087043618461614, -3.8627477204651686)\n"
     ]
    },
    {
     "data": {
      "application/vnd.jupyter.widget-view+json": {
       "model_id": "0a086ec9391b47fe906a47c245cdea3e",
       "version_major": 2,
       "version_minor": 0
      },
      "text/plain": [
       "  0%|          | 0/18000 [00:00<?, ?it/s]"
      ]
     },
     "metadata": {},
     "output_type": "display_data"
    },
    {
     "name": "stdout",
     "output_type": "stream",
     "text": [
      "(-0.6643850679667767, -0.4915785468326413)\n",
      "(-1.8240725783669631, -1.240911146150337)\n",
      "(-3.953222756438061, -2.1350517183021687)\n",
      "(-4.589529922264564, -4.680481833878284)\n"
     ]
    },
    {
     "data": {
      "application/vnd.jupyter.widget-view+json": {
       "model_id": "71be9b53e14a4922befcf3b4178d7e0a",
       "version_major": 2,
       "version_minor": 0
      },
      "text/plain": [
       "  0%|          | 0/18000 [00:00<?, ?it/s]"
      ]
     },
     "metadata": {},
     "output_type": "display_data"
    },
    {
     "name": "stdout",
     "output_type": "stream",
     "text": [
      "(-0.6764833893776565, -0.6076706531583921)\n",
      "(-1.5694296028642887, -1.4560393394617617)\n",
      "(-3.5075032961110977, -3.0222919029123356)\n",
      "(-4.599006624078346, -4.442713474885688)\n"
     ]
    },
    {
     "data": {
      "application/vnd.jupyter.widget-view+json": {
       "model_id": "723192b0be2240fd9c15a4a0a3d78ad5",
       "version_major": 2,
       "version_minor": 0
      },
      "text/plain": [
       "  0%|          | 0/18000 [00:00<?, ?it/s]"
      ]
     },
     "metadata": {},
     "output_type": "display_data"
    },
    {
     "name": "stdout",
     "output_type": "stream",
     "text": [
      "(-0.6406007389324476, -0.6084770632914269)\n",
      "(-1.5714096788812877, -1.4689291299327913)\n",
      "(-3.3529839354979147, -3.1631006368540633)\n",
      "(-4.530402523958856, -4.294754915227684)\n"
     ]
    },
    {
     "data": {
      "application/vnd.jupyter.widget-view+json": {
       "model_id": "5dafb556c1ab4cb7a93c25b757454d42",
       "version_major": 2,
       "version_minor": 0
      },
      "text/plain": [
       "  0%|          | 0/18000 [00:00<?, ?it/s]"
      ]
     },
     "metadata": {},
     "output_type": "display_data"
    },
    {
     "name": "stdout",
     "output_type": "stream",
     "text": [
      "(-0.6960985677551139, -0.8029106712055745)\n",
      "(-1.6190268324466115, -1.6350674796668394)\n",
      "(-3.8607552438765085, -3.6852770481527815)\n",
      "(-4.605340953427639, -4.464773384926822)\n"
     ]
    },
    {
     "data": {
      "application/vnd.jupyter.widget-view+json": {
       "model_id": "31a98d2a7f4043e4868f2af95cad9583",
       "version_major": 2,
       "version_minor": 0
      },
      "text/plain": [
       "  0%|          | 0/18000 [00:00<?, ?it/s]"
      ]
     },
     "metadata": {},
     "output_type": "display_data"
    },
    {
     "name": "stdout",
     "output_type": "stream",
     "text": [
      "(-0.5924388558956355, -0.6082427880819685)\n",
      "(-1.5538640176634952, -1.4569653812784193)\n",
      "(-3.2373273863065473, -2.8743474128011632)\n",
      "(-4.518568208535924, -4.36129376921237)\n"
     ]
    },
    {
     "data": {
      "application/vnd.jupyter.widget-view+json": {
       "model_id": "1787a3a080644ea6bc384824f9968f8e",
       "version_major": 2,
       "version_minor": 0
      },
      "text/plain": [
       "  0%|          | 0/18000 [00:00<?, ?it/s]"
      ]
     },
     "metadata": {},
     "output_type": "display_data"
    },
    {
     "name": "stdout",
     "output_type": "stream",
     "text": [
      "(-0.6575117329656758, -0.6819482540382664)\n",
      "(-1.6763949237540676, -1.6189750827209208)\n",
      "(-3.640577471184829, -3.412033511769666)\n",
      "(-4.612621058985999, -4.46912228797005)\n"
     ]
    },
    {
     "data": {
      "application/vnd.jupyter.widget-view+json": {
       "model_id": "269712f081f64ac39183ab6fb5dd95da",
       "version_major": 2,
       "version_minor": 0
      },
      "text/plain": [
       "  0%|          | 0/18000 [00:00<?, ?it/s]"
      ]
     },
     "metadata": {},
     "output_type": "display_data"
    },
    {
     "name": "stdout",
     "output_type": "stream",
     "text": [
      "(-0.564093739690608, -0.5957604689255024)\n",
      "(-1.5936692731210866, -1.493503161810004)\n",
      "(-4.054493129030083, -3.2140111144473003)\n",
      "(-4.585577616477629, -4.350119986912497)\n"
     ]
    },
    {
     "data": {
      "application/vnd.jupyter.widget-view+json": {
       "model_id": "64459ac005084106bf64bf976f5b57bf",
       "version_major": 2,
       "version_minor": 0
      },
      "text/plain": [
       "  0%|          | 0/18000 [00:00<?, ?it/s]"
      ]
     },
     "metadata": {},
     "output_type": "display_data"
    },
    {
     "name": "stdout",
     "output_type": "stream",
     "text": [
      "(-0.5779364396654587, -0.6832375770564207)\n",
      "(-1.6484941658352597, -1.6093798799237762)\n",
      "(-4.239387590954874, -3.432166644485494)\n",
      "(-4.5857972544912196, -4.413769095747494)\n"
     ]
    },
    {
     "data": {
      "application/vnd.jupyter.widget-view+json": {
       "model_id": "30c48bce133f491db2bb783eda18f7ed",
       "version_major": 2,
       "version_minor": 0
      },
      "text/plain": [
       "  0%|          | 0/18000 [00:00<?, ?it/s]"
      ]
     },
     "metadata": {},
     "output_type": "display_data"
    },
    {
     "name": "stdout",
     "output_type": "stream",
     "text": [
      "(-0.5799076778726748, -0.7007689351303166)\n",
      "(-1.6404168886963495, -1.5496531995617613)\n",
      "(-3.539327985392037, -3.43316760556657)\n",
      "(-4.578910440196285, -4.561767714320365)\n"
     ]
    },
    {
     "data": {
      "application/vnd.jupyter.widget-view+json": {
       "model_id": "e2b5c6b6a01d42c2a865eefe899698c9",
       "version_major": 2,
       "version_minor": 0
      },
      "text/plain": [
       "  0%|          | 0/18000 [00:00<?, ?it/s]"
      ]
     },
     "metadata": {},
     "output_type": "display_data"
    },
    {
     "name": "stdout",
     "output_type": "stream",
     "text": [
      "(-0.7101976303939125, -0.7698758796423701)\n",
      "(-1.8243455589080693, -1.7068997699542023)\n",
      "(-4.202878617305339, -3.398738362974266)\n",
      "(-4.581218001559999, -4.394615385856839)\n"
     ]
    },
    {
     "data": {
      "application/vnd.jupyter.widget-view+json": {
       "model_id": "a273f7b87fb6487b8273e8175b9511fa",
       "version_major": 2,
       "version_minor": 0
      },
      "text/plain": [
       "  0%|          | 0/18000 [00:00<?, ?it/s]"
      ]
     },
     "metadata": {},
     "output_type": "display_data"
    },
    {
     "name": "stdout",
     "output_type": "stream",
     "text": [
      "(-0.5949846824036851, -0.6882082318421952)\n",
      "(-1.6342619996751766, -1.5883173505807167)\n",
      "(-3.957412696561512, -3.0609913961282347)\n",
      "(-4.607182369422679, -4.563683429566681)\n"
     ]
    },
    {
     "data": {
      "application/vnd.jupyter.widget-view+json": {
       "model_id": "fa93ce25e0f0459b8ca3527b6f013b57",
       "version_major": 2,
       "version_minor": 0
      },
      "text/plain": [
       "  0%|          | 0/18000 [00:00<?, ?it/s]"
      ]
     },
     "metadata": {},
     "output_type": "display_data"
    },
    {
     "name": "stdout",
     "output_type": "stream",
     "text": [
      "(-0.6406859806626812, -0.7026733905251661)\n",
      "(-1.6536167671376671, -1.4473958116833148)\n",
      "(-3.851284905960232, -2.825128332177578)\n",
      "(-4.422806055711777, -3.689636092807278)\n",
      "(-4.587386910687656, -4.330129754019228)\n"
     ]
    },
    {
     "data": {
      "application/vnd.jupyter.widget-view+json": {
       "model_id": "52f0a2bd4b3d4391b77c5e8980b03cd3",
       "version_major": 2,
       "version_minor": 0
      },
      "text/plain": [
       "  0%|          | 0/18000 [00:00<?, ?it/s]"
      ]
     },
     "metadata": {},
     "output_type": "display_data"
    },
    {
     "name": "stdout",
     "output_type": "stream",
     "text": [
      "(-0.6576869698959027, -0.5648781660001856)\n",
      "(-1.6943739281357235, -1.3325384572666246)\n",
      "(-3.791626186655999, -2.530111419951351)\n",
      "(-4.59914633256572, -4.379144817440215)\n"
     ]
    },
    {
     "data": {
      "application/vnd.jupyter.widget-view+json": {
       "model_id": "f3443f37d2e144338062c6193d875d46",
       "version_major": 2,
       "version_minor": 0
      },
      "text/plain": [
       "  0%|          | 0/18000 [00:00<?, ?it/s]"
      ]
     },
     "metadata": {},
     "output_type": "display_data"
    },
    {
     "name": "stdout",
     "output_type": "stream",
     "text": [
      "(-0.6465762588766194, -0.40445316577738555)\n",
      "(-1.7310649184474693, -1.469587011189906)\n",
      "(-3.7815185427478455, -2.5111283035756524)\n",
      "(-4.523366711136824, -3.849977038492385)\n"
     ]
    },
    {
     "data": {
      "application/vnd.jupyter.widget-view+json": {
       "model_id": "47e26a1fe7174b259da18b67137fcbf5",
       "version_major": 2,
       "version_minor": 0
      },
      "text/plain": [
       "  0%|          | 0/18000 [00:00<?, ?it/s]"
      ]
     },
     "metadata": {},
     "output_type": "display_data"
    },
    {
     "name": "stdout",
     "output_type": "stream",
     "text": [
      "(-0.675405141375807, -0.7194775380762726)\n",
      "(-1.7294756805527396, -1.5953220006290378)\n",
      "(-4.147750751291048, -3.2108839802505886)\n"
     ]
    },
    {
     "data": {
      "application/vnd.jupyter.widget-view+json": {
       "model_id": "5b5f2a5cb2c24073b587c07fa1ef5e82",
       "version_major": 2,
       "version_minor": 0
      },
      "text/plain": [
       "  0%|          | 0/18000 [00:00<?, ?it/s]"
      ]
     },
     "metadata": {},
     "output_type": "display_data"
    },
    {
     "name": "stdout",
     "output_type": "stream",
     "text": [
      "(-0.6635050709069543, -0.5705310217926237)\n",
      "(-1.9504085907479667, -1.5197004457053727)\n",
      "(-4.178766855294446, -3.0709287864404664)\n"
     ]
    },
    {
     "data": {
      "application/vnd.jupyter.widget-view+json": {
       "model_id": "af45606766b042ff8070ce493c49da7b",
       "version_major": 2,
       "version_minor": 0
      },
      "text/plain": [
       "  0%|          | 0/18000 [00:00<?, ?it/s]"
      ]
     },
     "metadata": {},
     "output_type": "display_data"
    },
    {
     "name": "stdout",
     "output_type": "stream",
     "text": [
      "(-0.6509586642741426, -0.7016823077602582)\n",
      "(-1.6651110890059553, -1.5779396700051933)\n",
      "(-3.9702008968359155, -3.272586689932256)\n",
      "(-4.521553162538976, -3.96667041185419)\n",
      "(-4.6000075605248645, -4.497021624794467)\n"
     ]
    },
    {
     "data": {
      "application/vnd.jupyter.widget-view+json": {
       "model_id": "f4c82d79ada14796809a944660aa34b8",
       "version_major": 2,
       "version_minor": 0
      },
      "text/plain": [
       "  0%|          | 0/18000 [00:00<?, ?it/s]"
      ]
     },
     "metadata": {},
     "output_type": "display_data"
    },
    {
     "name": "stdout",
     "output_type": "stream",
     "text": [
      "(-0.6357356435394039, -0.5945222470796783)\n",
      "(-1.7864797024555201, -1.6160377519336546)\n",
      "(-4.465385585224425, -3.876783797945914)\n"
     ]
    },
    {
     "data": {
      "application/vnd.jupyter.widget-view+json": {
       "model_id": "817025a0c7a94cfb9c48bcc00255b2d9",
       "version_major": 2,
       "version_minor": 0
      },
      "text/plain": [
       "  0%|          | 0/18000 [00:00<?, ?it/s]"
      ]
     },
     "metadata": {},
     "output_type": "display_data"
    },
    {
     "name": "stdout",
     "output_type": "stream",
     "text": [
      "(-0.6702795438037846, -0.6885605333278697)\n",
      "(-1.7010410055546743, -1.6289305833256247)\n",
      "(-4.226272972355828, -3.5376871254984814)\n",
      "(-4.590936987170504, -4.387871178098933)\n"
     ]
    },
    {
     "data": {
      "application/vnd.jupyter.widget-view+json": {
       "model_id": "210bf83eb47d41e7a359ed07dfc15bff",
       "version_major": 2,
       "version_minor": 0
      },
      "text/plain": [
       "  0%|          | 0/18000 [00:00<?, ?it/s]"
      ]
     },
     "metadata": {},
     "output_type": "display_data"
    },
    {
     "name": "stdout",
     "output_type": "stream",
     "text": [
      "(-0.6506293528290122, -0.5341859783865519)\n",
      "(-1.7304974646819482, -1.6025173508601112)\n",
      "(-3.9526591595666605, -3.3450425197514724)\n",
      "(-4.501020481462964, -4.116488682153954)\n"
     ]
    },
    {
     "data": {
      "application/vnd.jupyter.widget-view+json": {
       "model_id": "1efe9e24ed054dae9b61e56546a9bd5f",
       "version_major": 2,
       "version_minor": 0
      },
      "text/plain": [
       "  0%|          | 0/18000 [00:00<?, ?it/s]"
      ]
     },
     "metadata": {},
     "output_type": "display_data"
    },
    {
     "name": "stdout",
     "output_type": "stream",
     "text": [
      "(-0.6583682489117013, -0.4898440161907167)\n",
      "(-1.7416366379612664, -1.4371848863343955)\n",
      "(-3.8991717460413904, -3.320625451372577)\n",
      "(-4.602864289668541, -4.523656508559679)\n"
     ]
    },
    {
     "data": {
      "application/vnd.jupyter.widget-view+json": {
       "model_id": "c50e50b74e964d78ae1f93f7784ac62a",
       "version_major": 2,
       "version_minor": 0
      },
      "text/plain": [
       "  0%|          | 0/18000 [00:00<?, ?it/s]"
      ]
     },
     "metadata": {},
     "output_type": "display_data"
    },
    {
     "name": "stdout",
     "output_type": "stream",
     "text": [
      "(-0.6662776664640191, -0.5846719333022532)\n",
      "(-1.893268165659479, -1.298080369592996)\n",
      "(-3.6908868693815386, -2.5755017748990614)\n",
      "(-4.496094884230363, -4.118521706946524)\n",
      "(-4.579557389667042, -4.548537655647058)\n"
     ]
    },
    {
     "data": {
      "application/vnd.jupyter.widget-view+json": {
       "model_id": "bfa5ea90088940d5947213e711fd3166",
       "version_major": 2,
       "version_minor": 0
      },
      "text/plain": [
       "  0%|          | 0/18000 [00:00<?, ?it/s]"
      ]
     },
     "metadata": {},
     "output_type": "display_data"
    },
    {
     "name": "stdout",
     "output_type": "stream",
     "text": [
      "(-0.5794477130517226, -0.6705475861990003)\n",
      "(-1.8192666601460548, -1.5680743505879646)\n",
      "(-4.377744658710019, -3.5153659381236517)\n"
     ]
    },
    {
     "data": {
      "application/vnd.jupyter.widget-view+json": {
       "model_id": "a1fcec156dc2425091dd013c996dd0e5",
       "version_major": 2,
       "version_minor": 0
      },
      "text/plain": [
       "  0%|          | 0/18000 [00:00<?, ?it/s]"
      ]
     },
     "metadata": {},
     "output_type": "display_data"
    },
    {
     "name": "stdout",
     "output_type": "stream",
     "text": [
      "(-0.6642263077711729, -0.7026169533497097)\n",
      "(-1.7259578197741026, -1.465815632198461)\n",
      "(-3.531382018813622, -2.6504359368032446)\n",
      "(-4.591947286824072, -4.560780905049443)\n"
     ]
    },
    {
     "data": {
      "application/vnd.jupyter.widget-view+json": {
       "model_id": "a79cd352bba144079db1ba19f15bd8e6",
       "version_major": 2,
       "version_minor": 0
      },
      "text/plain": [
       "  0%|          | 0/18000 [00:00<?, ?it/s]"
      ]
     },
     "metadata": {},
     "output_type": "display_data"
    },
    {
     "name": "stdout",
     "output_type": "stream",
     "text": [
      "(-0.5975363914224403, -0.5376911852940857)\n",
      "(-1.7605590899654002, -1.4942458624166925)\n",
      "(-4.07721514944298, -3.866467073607452)\n"
     ]
    },
    {
     "data": {
      "application/vnd.jupyter.widget-view+json": {
       "model_id": "feac750a09364dfe90b2f5585c5f7d66",
       "version_major": 2,
       "version_minor": 0
      },
      "text/plain": [
       "  0%|          | 0/18000 [00:00<?, ?it/s]"
      ]
     },
     "metadata": {},
     "output_type": "display_data"
    },
    {
     "name": "stdout",
     "output_type": "stream",
     "text": [
      "(-0.7350993225733202, -0.6388572282215657)\n",
      "(-1.8415652134128493, -1.514746368012315)\n",
      "(-3.781231829861461, -2.788942823221963)\n",
      "(-4.588998274598543, -4.540381479635915)\n"
     ]
    },
    {
     "data": {
      "application/vnd.jupyter.widget-view+json": {
       "model_id": "f164da3498094a86a9e86c74492e6896",
       "version_major": 2,
       "version_minor": 0
      },
      "text/plain": [
       "  0%|          | 0/18000 [00:00<?, ?it/s]"
      ]
     },
     "metadata": {},
     "output_type": "display_data"
    },
    {
     "name": "stdout",
     "output_type": "stream",
     "text": [
      "(-0.6542926906605858, -0.7109430419383036)\n",
      "(-1.7934930469587134, -1.7370078333709071)\n",
      "(-4.323437764438142, -3.693470641446504)\n"
     ]
    },
    {
     "data": {
      "application/vnd.jupyter.widget-view+json": {
       "model_id": "04b233329bd54b45a628d91416629fdd",
       "version_major": 2,
       "version_minor": 0
      },
      "text/plain": [
       "  0%|          | 0/18000 [00:00<?, ?it/s]"
      ]
     },
     "metadata": {},
     "output_type": "display_data"
    },
    {
     "name": "stdout",
     "output_type": "stream",
     "text": [
      "(-0.6311429859131262, -0.5854309587733927)\n",
      "(-1.6677442573548988, -1.3702203095059133)\n",
      "(-4.020643566496143, -2.9153332002096795)\n",
      "(-4.583026557475598, -4.2493503742446705)\n"
     ]
    },
    {
     "data": {
      "application/vnd.jupyter.widget-view+json": {
       "model_id": "b9ff22f75842469aa4f0eea2ad459394",
       "version_major": 2,
       "version_minor": 0
      },
      "text/plain": [
       "  0%|          | 0/18000 [00:00<?, ?it/s]"
      ]
     },
     "metadata": {},
     "output_type": "display_data"
    },
    {
     "name": "stdout",
     "output_type": "stream",
     "text": [
      "(-0.6814808889570371, -0.7825083586027921)\n",
      "(-2.116793350146992, -1.876632643063085)\n",
      "(-3.8664793784273996, -3.540108499316823)\n"
     ]
    },
    {
     "data": {
      "application/vnd.jupyter.widget-view+json": {
       "model_id": "25c6f2bfaffb47949f52a6ad7a8aefcd",
       "version_major": 2,
       "version_minor": 0
      },
      "text/plain": [
       "  0%|          | 0/18000 [00:00<?, ?it/s]"
      ]
     },
     "metadata": {},
     "output_type": "display_data"
    },
    {
     "name": "stdout",
     "output_type": "stream",
     "text": [
      "(-0.6175065930454502, -0.5781719384148791)\n",
      "(-1.6917513574351968, -1.5000386281557068)\n",
      "(-3.8114722808914387, -3.571911826322578)\n"
     ]
    },
    {
     "data": {
      "application/vnd.jupyter.widget-view+json": {
       "model_id": "5c7e22f2e2474e15b163cda8dbe4a72e",
       "version_major": 2,
       "version_minor": 0
      },
      "text/plain": [
       "  0%|          | 0/18000 [00:00<?, ?it/s]"
      ]
     },
     "metadata": {},
     "output_type": "display_data"
    },
    {
     "name": "stdout",
     "output_type": "stream",
     "text": [
      "(-0.6324470881166008, -0.6566262986106467)\n",
      "(-1.7684183158091096, -1.6167758871816997)\n",
      "(-4.172939870056492, -3.3422022315026423)\n",
      "(-4.571563282920229, -4.161037142089271)\n"
     ]
    },
    {
     "data": {
      "application/vnd.jupyter.widget-view+json": {
       "model_id": "d7fdafbaf16549b280b818e900a2b4ce",
       "version_major": 2,
       "version_minor": 0
      },
      "text/plain": [
       "  0%|          | 0/18000 [00:00<?, ?it/s]"
      ]
     },
     "metadata": {},
     "output_type": "display_data"
    },
    {
     "name": "stdout",
     "output_type": "stream",
     "text": [
      "(-0.6748378124767092, -0.6897960847898361)\n",
      "(-1.8242023066840802, -1.5728292759259492)\n",
      "(-4.134784650517759, -3.4631384204675397)\n"
     ]
    },
    {
     "data": {
      "application/vnd.jupyter.widget-view+json": {
       "model_id": "9c832e1d3acf4322af4c84d0b6e8dd60",
       "version_major": 2,
       "version_minor": 0
      },
      "text/plain": [
       "  0%|          | 0/18000 [00:00<?, ?it/s]"
      ]
     },
     "metadata": {},
     "output_type": "display_data"
    },
    {
     "name": "stdout",
     "output_type": "stream",
     "text": [
      "(-0.5998710606366932, -0.721624454355328)\n",
      "(-1.6937391795017438, -1.5701491365307445)\n",
      "(-4.217420263213764, -3.277504847933146)\n"
     ]
    },
    {
     "data": {
      "application/vnd.jupyter.widget-view+json": {
       "model_id": "461efdf0898644fa92b534624867aec5",
       "version_major": 2,
       "version_minor": 0
      },
      "text/plain": [
       "  0%|          | 0/18000 [00:00<?, ?it/s]"
      ]
     },
     "metadata": {},
     "output_type": "display_data"
    },
    {
     "name": "stdout",
     "output_type": "stream",
     "text": [
      "(-0.6666782835325099, -0.6249201611666129)\n",
      "(-1.7522495706092915, -1.4677671338056688)\n",
      "(-4.146339953020008, -2.625834823556654)\n",
      "(-4.587402432193732, -4.58504557822151)\n"
     ]
    },
    {
     "data": {
      "application/vnd.jupyter.widget-view+json": {
       "model_id": "658e217a09644ee2b2b59b2cbb4d7cb6",
       "version_major": 2,
       "version_minor": 0
      },
      "text/plain": [
       "  0%|          | 0/18000 [00:00<?, ?it/s]"
      ]
     },
     "metadata": {},
     "output_type": "display_data"
    },
    {
     "name": "stdout",
     "output_type": "stream",
     "text": [
      "(-0.608354926826691, -0.715189294420925)\n",
      "(-1.7249450822324832, -1.6178873562734697)\n",
      "(-3.9140272102188547, -3.1241547737227093)\n",
      "(-4.510013147885438, -4.16469427279222)\n"
     ]
    },
    {
     "data": {
      "application/vnd.jupyter.widget-view+json": {
       "model_id": "78fc7b6a8556434db382658066358701",
       "version_major": 2,
       "version_minor": 0
      },
      "text/plain": [
       "  0%|          | 0/18000 [00:00<?, ?it/s]"
      ]
     },
     "metadata": {},
     "output_type": "display_data"
    },
    {
     "name": "stdout",
     "output_type": "stream",
     "text": [
      "(-0.6108494777302577, -0.6572634341194366)\n",
      "(-1.8274486080456942, -1.7360892683052116)\n",
      "(-4.309601926642757, -3.9409289292537024)\n",
      "(-4.587343082375048, -4.603669780858591)\n"
     ]
    },
    {
     "data": {
      "application/vnd.jupyter.widget-view+json": {
       "model_id": "b381b6a819ff4efb819a7494c4ef9770",
       "version_major": 2,
       "version_minor": 0
      },
      "text/plain": [
       "  0%|          | 0/18000 [00:00<?, ?it/s]"
      ]
     },
     "metadata": {},
     "output_type": "display_data"
    },
    {
     "name": "stdout",
     "output_type": "stream",
     "text": [
      "(-0.6277426206226131, -0.5950478277234018)\n",
      "(-1.7633498415857347, -1.4032839330245948)\n",
      "(-4.229674495895167, -2.6884800697987945)\n",
      "(-4.581516439133739, -4.5108081576586745)\n"
     ]
    },
    {
     "data": {
      "application/vnd.jupyter.widget-view+json": {
       "model_id": "313adcd827474d6bb3b372107d921510",
       "version_major": 2,
       "version_minor": 0
      },
      "text/plain": [
       "  0%|          | 0/18000 [00:00<?, ?it/s]"
      ]
     },
     "metadata": {},
     "output_type": "display_data"
    },
    {
     "name": "stdout",
     "output_type": "stream",
     "text": [
      "(-0.7097225257104759, -0.80034387169039)\n",
      "(-1.9675262213457945, -1.6856268043200568)\n",
      "(-4.25245488377051, -2.9158620144044463)\n",
      "(-4.567888293655054, -4.474592014188888)\n"
     ]
    },
    {
     "data": {
      "application/vnd.jupyter.widget-view+json": {
       "model_id": "a59c6549687941929d1286233a026e4b",
       "version_major": 2,
       "version_minor": 0
      },
      "text/plain": [
       "  0%|          | 0/18000 [00:00<?, ?it/s]"
      ]
     },
     "metadata": {},
     "output_type": "display_data"
    },
    {
     "name": "stdout",
     "output_type": "stream",
     "text": [
      "(-0.6402903169684572, -0.763966522129183)\n",
      "(-1.9764822265043551, -1.8653574636711572)\n",
      "(-4.510504409100366, -4.271637352436709)\n"
     ]
    },
    {
     "data": {
      "application/vnd.jupyter.widget-view+json": {
       "model_id": "6649c61cca6a43dd93ed744993362f92",
       "version_major": 2,
       "version_minor": 0
      },
      "text/plain": [
       "  0%|          | 0/18000 [00:00<?, ?it/s]"
      ]
     },
     "metadata": {},
     "output_type": "display_data"
    },
    {
     "name": "stdout",
     "output_type": "stream",
     "text": [
      "(-0.6409565455252699, -0.6086196811157847)\n",
      "(-1.8281903951356269, -1.2702134018527576)\n",
      "(-3.9949367306446018, -2.02197420891816)\n",
      "(-4.547595244864155, -3.3584064003947334)\n"
     ]
    },
    {
     "data": {
      "application/vnd.jupyter.widget-view+json": {
       "model_id": "7bb2555ad3a64cfd87057569db17a2d2",
       "version_major": 2,
       "version_minor": 0
      },
      "text/plain": [
       "  0%|          | 0/18000 [00:00<?, ?it/s]"
      ]
     },
     "metadata": {},
     "output_type": "display_data"
    },
    {
     "name": "stdout",
     "output_type": "stream",
     "text": [
      "(-0.6872883526226116, -0.6721281912902146)\n",
      "(-1.998620010393471, -1.5111091786438773)\n",
      "(-4.32362750687163, -2.837478522130412)\n",
      "(-4.585511436232885, -4.53079829248894)\n"
     ]
    },
    {
     "data": {
      "application/vnd.jupyter.widget-view+json": {
       "model_id": "e9ced788aa5643eebdf1d1cff07cfaef",
       "version_major": 2,
       "version_minor": 0
      },
      "text/plain": [
       "  0%|          | 0/18000 [00:00<?, ?it/s]"
      ]
     },
     "metadata": {},
     "output_type": "display_data"
    },
    {
     "name": "stdout",
     "output_type": "stream",
     "text": [
      "(-0.7129108838718203, -0.7703969000121597)\n",
      "(-1.6870256257234588, -1.6009198722052158)\n",
      "(-3.7367564874106964, -3.516537635330197)\n",
      "(-4.580454886865373, -4.530499741742579)\n"
     ]
    },
    {
     "data": {
      "application/vnd.jupyter.widget-view+json": {
       "model_id": "c2a6f171e5d8456abddc86e22c4ab35a",
       "version_major": 2,
       "version_minor": 0
      },
      "text/plain": [
       "  0%|          | 0/18000 [00:00<?, ?it/s]"
      ]
     },
     "metadata": {},
     "output_type": "display_data"
    },
    {
     "name": "stdout",
     "output_type": "stream",
     "text": [
      "(-0.7089379621268763, -0.7780261873935221)\n",
      "(-1.8511897583020698, -1.8194966885348847)\n",
      "(-3.7772327177294924, -3.228634532878259)\n",
      "(-4.257075481680652, -3.770608769351312)\n",
      "(-4.502940883885286, -4.145407063786469)\n",
      "(-4.5921105690674615, -4.683437139601427)\n"
     ]
    },
    {
     "data": {
      "application/vnd.jupyter.widget-view+json": {
       "model_id": "21db064ff0bf4813a995428840bc6329",
       "version_major": 2,
       "version_minor": 0
      },
      "text/plain": [
       "  0%|          | 0/18000 [00:00<?, ?it/s]"
      ]
     },
     "metadata": {},
     "output_type": "display_data"
    },
    {
     "name": "stdout",
     "output_type": "stream",
     "text": [
      "(-0.6556017262537763, -0.6335332780496513)\n",
      "(-1.6940013045404707, -1.5655226458506037)\n",
      "(-4.038563946136502, -3.494208295150657)\n"
     ]
    },
    {
     "data": {
      "application/vnd.jupyter.widget-view+json": {
       "model_id": "8da2393e9c97446da521c925bc275168",
       "version_major": 2,
       "version_minor": 0
      },
      "text/plain": [
       "  0%|          | 0/18000 [00:00<?, ?it/s]"
      ]
     },
     "metadata": {},
     "output_type": "display_data"
    },
    {
     "name": "stdout",
     "output_type": "stream",
     "text": [
      "(-0.6317617919689995, -0.680875943300493)\n",
      "(-1.582239816874144, -1.4806158223868138)\n",
      "(-3.42148825708244, -2.9477940444713746)\n",
      "(-4.499772335168675, -4.233094925719145)\n",
      "(-4.590463586272655, -4.680692612423779)\n"
     ]
    },
    {
     "data": {
      "application/vnd.jupyter.widget-view+json": {
       "model_id": "e5bcdf03787045d790f8e5ed94363fd4",
       "version_major": 2,
       "version_minor": 0
      },
      "text/plain": [
       "  0%|          | 0/18000 [00:00<?, ?it/s]"
      ]
     },
     "metadata": {},
     "output_type": "display_data"
    },
    {
     "name": "stdout",
     "output_type": "stream",
     "text": [
      "(-0.6334650079876475, -0.5890161278580667)\n",
      "(-1.6716100723326806, -1.6313322286126082)\n",
      "(-3.7897049517835075, -3.6720454545401604)\n",
      "(-4.59369566855605, -4.62806616935998)\n"
     ]
    },
    {
     "data": {
      "application/vnd.jupyter.widget-view+json": {
       "model_id": "fa429574ccd742cb8e28664b57904eda",
       "version_major": 2,
       "version_minor": 0
      },
      "text/plain": [
       "  0%|          | 0/18000 [00:00<?, ?it/s]"
      ]
     },
     "metadata": {},
     "output_type": "display_data"
    },
    {
     "name": "stdout",
     "output_type": "stream",
     "text": [
      "(-0.651958031159848, -0.6071586935505756)\n",
      "(-1.9048744898618934, -1.6483156956552687)\n",
      "(-4.2610602816997725, -3.084351884463566)\n",
      "(-4.550016455307539, -3.9811818487086987)\n"
     ]
    },
    {
     "data": {
      "application/vnd.jupyter.widget-view+json": {
       "model_id": "2b2659dd6c024accafeb0089a7c790f3",
       "version_major": 2,
       "version_minor": 0
      },
      "text/plain": [
       "  0%|          | 0/18000 [00:00<?, ?it/s]"
      ]
     },
     "metadata": {},
     "output_type": "display_data"
    },
    {
     "name": "stdout",
     "output_type": "stream",
     "text": [
      "(-0.7203980191564857, -0.7121556184689477)\n",
      "(-2.0613852938606283, -1.8643891726854172)\n",
      "(-4.47865512746734, -3.852299050622471)\n"
     ]
    },
    {
     "data": {
      "application/vnd.jupyter.widget-view+json": {
       "model_id": "a9a201d7065f49c7b2979f79fb01ec94",
       "version_major": 2,
       "version_minor": 0
      },
      "text/plain": [
       "  0%|          | 0/18000 [00:00<?, ?it/s]"
      ]
     },
     "metadata": {},
     "output_type": "display_data"
    },
    {
     "name": "stdout",
     "output_type": "stream",
     "text": [
      "(-0.6424324743041476, -0.591103440480214)\n",
      "(-1.953901376982283, -1.7686191463557726)\n",
      "(-4.332057900197755, -3.8919630143143253)\n"
     ]
    },
    {
     "data": {
      "application/vnd.jupyter.widget-view+json": {
       "model_id": "65917e095aa240e7b761d08d23c218cf",
       "version_major": 2,
       "version_minor": 0
      },
      "text/plain": [
       "  0%|          | 0/18000 [00:00<?, ?it/s]"
      ]
     },
     "metadata": {},
     "output_type": "display_data"
    },
    {
     "name": "stdout",
     "output_type": "stream",
     "text": [
      "(-0.7085947473202725, -0.6555913319576636)\n",
      "(-2.046603880692984, -1.7993374086953984)\n",
      "(-4.519108267244833, -4.091980386075113)\n"
     ]
    },
    {
     "data": {
      "application/vnd.jupyter.widget-view+json": {
       "model_id": "3c5a039854984522afdc4c4c362392cc",
       "version_major": 2,
       "version_minor": 0
      },
      "text/plain": [
       "  0%|          | 0/18000 [00:00<?, ?it/s]"
      ]
     },
     "metadata": {},
     "output_type": "display_data"
    },
    {
     "name": "stdout",
     "output_type": "stream",
     "text": [
      "(-0.6434040201006549, -0.6582534673637058)\n",
      "(-1.8100166538371403, -1.7053380087829373)\n",
      "(-3.9482126966031084, -3.0881074166265736)\n",
      "(-4.598137909626474, -4.320920994689056)\n"
     ]
    },
    {
     "data": {
      "application/vnd.jupyter.widget-view+json": {
       "model_id": "21c91d6a5c34407d9e774dcfcefa57d1",
       "version_major": 2,
       "version_minor": 0
      },
      "text/plain": [
       "  0%|          | 0/18000 [00:00<?, ?it/s]"
      ]
     },
     "metadata": {},
     "output_type": "display_data"
    },
    {
     "name": "stdout",
     "output_type": "stream",
     "text": [
      "(-0.6788389439631565, -0.7598497045441686)\n",
      "(-1.8625283916062605, -1.5791455703065174)\n",
      "(-4.300426487325825, -3.387334439561041)\n",
      "(-4.587828682712991, -4.436353602709503)\n"
     ]
    },
    {
     "data": {
      "application/vnd.jupyter.widget-view+json": {
       "model_id": "b9addd26772f47078219decd40b59f15",
       "version_major": 2,
       "version_minor": 0
      },
      "text/plain": [
       "  0%|          | 0/18000 [00:00<?, ?it/s]"
      ]
     },
     "metadata": {},
     "output_type": "display_data"
    },
    {
     "name": "stdout",
     "output_type": "stream",
     "text": [
      "(-0.6944051325149899, -0.38916031233529197)\n",
      "(-1.8977185360802853, -1.4785889792538511)\n",
      "(-4.458979606156953, -3.7579649263229533)\n"
     ]
    },
    {
     "data": {
      "application/vnd.jupyter.widget-view+json": {
       "model_id": "6ec7a082f595451c922ac7de51e6c5db",
       "version_major": 2,
       "version_minor": 0
      },
      "text/plain": [
       "  0%|          | 0/18000 [00:00<?, ?it/s]"
      ]
     },
     "metadata": {},
     "output_type": "display_data"
    },
    {
     "name": "stdout",
     "output_type": "stream",
     "text": [
      "(-0.6234052539541732, -0.7460302875323059)\n",
      "(-1.9720183650213166, -1.8679012765070515)\n",
      "(-4.158569107412016, -3.185308546646181)\n",
      "(-4.5134700162410315, -4.136608835350895)\n"
     ]
    },
    {
     "data": {
      "application/vnd.jupyter.widget-view+json": {
       "model_id": "9054c268d71b4396a65549c55b3892e2",
       "version_major": 2,
       "version_minor": 0
      },
      "text/plain": [
       "  0%|          | 0/18000 [00:00<?, ?it/s]"
      ]
     },
     "metadata": {},
     "output_type": "display_data"
    },
    {
     "name": "stdout",
     "output_type": "stream",
     "text": [
      "(-0.6142338120207577, -0.5613358154190952)\n",
      "(-1.766839393067844, -1.5943987429903486)\n",
      "(-4.386159724274811, -3.7520408738743813)\n"
     ]
    },
    {
     "data": {
      "application/vnd.jupyter.widget-view+json": {
       "model_id": "09669111abf649c881f781c1d517791f",
       "version_major": 2,
       "version_minor": 0
      },
      "text/plain": [
       "  0%|          | 0/18000 [00:00<?, ?it/s]"
      ]
     },
     "metadata": {},
     "output_type": "display_data"
    },
    {
     "name": "stdout",
     "output_type": "stream",
     "text": [
      "(-0.6286494782641818, -0.7329762882200994)\n",
      "(-1.7896686162182913, -1.6523135712620798)\n",
      "(-4.196051425980431, -3.0901753604519895)\n",
      "(-4.601072174636659, -4.479593719173427)\n"
     ]
    },
    {
     "data": {
      "application/vnd.jupyter.widget-view+json": {
       "model_id": "0402b7e240e74021a342f8ab43c65eae",
       "version_major": 2,
       "version_minor": 0
      },
      "text/plain": [
       "  0%|          | 0/18000 [00:00<?, ?it/s]"
      ]
     },
     "metadata": {},
     "output_type": "display_data"
    },
    {
     "name": "stdout",
     "output_type": "stream",
     "text": [
      "(-0.5604904300541101, -0.5097756707796065)\n",
      "(-1.6653086205416063, -1.2411613774821981)\n",
      "(-3.7401193751162256, -2.601779471260328)\n",
      "(-4.529511755621486, -4.00810054790488)\n"
     ]
    },
    {
     "data": {
      "application/vnd.jupyter.widget-view+json": {
       "model_id": "ed11fb6e0ea04db0811e8ba67d0710a6",
       "version_major": 2,
       "version_minor": 0
      },
      "text/plain": [
       "  0%|          | 0/18000 [00:00<?, ?it/s]"
      ]
     },
     "metadata": {},
     "output_type": "display_data"
    },
    {
     "name": "stdout",
     "output_type": "stream",
     "text": [
      "(-0.5865514243898202, -0.5592311378006711)\n",
      "(-1.6631101344550425, -1.4150886569533303)\n",
      "(-3.5851287413779955, -2.412179390871436)\n",
      "(-4.570269205676536, -3.933174880037428)\n"
     ]
    },
    {
     "data": {
      "application/vnd.jupyter.widget-view+json": {
       "model_id": "bd8ad064081a4f9ebff8701d54db7435",
       "version_major": 2,
       "version_minor": 0
      },
      "text/plain": [
       "  0%|          | 0/18000 [00:00<?, ?it/s]"
      ]
     },
     "metadata": {},
     "output_type": "display_data"
    },
    {
     "name": "stdout",
     "output_type": "stream",
     "text": [
      "(-0.6631197463391499, -0.7810148720732555)\n",
      "(-1.760536675309886, -1.5638292235967586)\n",
      "(-4.087065483223018, -2.864411174672864)\n",
      "(-4.547188962959521, -4.252728128162078)\n",
      "(-4.597133324352805, -4.475409867022618)\n"
     ]
    },
    {
     "data": {
      "application/vnd.jupyter.widget-view+json": {
       "model_id": "38924b10596c4a3aadaea56debba589a",
       "version_major": 2,
       "version_minor": 0
      },
      "text/plain": [
       "  0%|          | 0/18000 [00:00<?, ?it/s]"
      ]
     },
     "metadata": {},
     "output_type": "display_data"
    },
    {
     "name": "stdout",
     "output_type": "stream",
     "text": [
      "(-0.6608806933886177, -0.5771708509433762)\n",
      "(-1.7412670522354659, -1.448042474424266)\n",
      "(-4.170087634702262, -2.7738105025930064)\n",
      "(-4.596695827099701, -4.470197660297243)\n"
     ]
    },
    {
     "data": {
      "application/vnd.jupyter.widget-view+json": {
       "model_id": "ea3ec0c66ceb4c218bafd38e6d9098f9",
       "version_major": 2,
       "version_minor": 0
      },
      "text/plain": [
       "  0%|          | 0/18000 [00:00<?, ?it/s]"
      ]
     },
     "metadata": {},
     "output_type": "display_data"
    },
    {
     "name": "stdout",
     "output_type": "stream",
     "text": [
      "(-0.6032757512509902, -0.5429759229804247)\n",
      "(-1.7288388583166112, -1.5304671353202803)\n",
      "(-3.8632237857116785, -3.253358292309726)\n",
      "(-4.591438836618524, -4.384597318564589)\n"
     ]
    }
   ],
   "source": [
    "#splitnum = 5\n",
    "from livelossplot import PlotLosses\n",
    "for splitnum in range(33):\n",
    "    X_totrain,y_totrain = read.train_optimizedMLR(folderpath,folderpath2).delete_padding(Xtrain[splitnum]['lwswdtthuvw'],yall[splitnum][23][0])#yall_orig[splitnum][23][0])\n",
    "    X_tovalid,y_tovalid = read.train_optimizedMLR(folderpath,folderpath2).delete_padding(Xvalid[splitnum]['lwswdtthuvw'],yall[splitnum][23][1])#yall_orig[splitnum][23][1])\n",
    "    X_totest,y_totest = read.train_optimizedMLR(folderpath,folderpath2).delete_padding(Xtest[splitnum]['lwswdtthuvw'],yall[splitnum][23][2])#yall_orig[splitnum][23][2])\n",
    "    calc_device = 'cpu'\n",
    "    ###################################################################################\n",
    "    # Convert numpy arrays into tensors\n",
    "    ###################################################################################\n",
    "    train_Xtensor = torch.FloatTensor(X_totrain).to(calc_device)\n",
    "    train_ytensor = torch.FloatTensor(y_totrain).to(calc_device)\n",
    "    val_Xtensor = torch.FloatTensor(X_tovalid).to(calc_device)\n",
    "    val_ytensor = torch.FloatTensor(y_tovalid).to(calc_device)\n",
    "    test_Xtensor = torch.FloatTensor(X_totest).to(calc_device)\n",
    "    test_ytensor = torch.FloatTensor(y_totest).to(calc_device)\n",
    "    train_data = torch.utils.data.TensorDataset(train_Xtensor, train_ytensor)\n",
    "    val_data = torch.utils.data.TensorDataset(val_Xtensor, val_ytensor)\n",
    "    test_data = torch.utils.data.TensorDataset(test_Xtensor, test_ytensor)\n",
    "    ###################################################################################\n",
    "    # Eigenvectors for Custom Loss in Physical Space\n",
    "    ###################################################################################\n",
    "    #eigenvectors = [torch.FloatTensor(obj).to(calc_device) for obj in [upcs,vpcs,thpcs]]#[upcs,vpcs,wpcs,thpcs]]\n",
    "    ###################################################################################\n",
    "    # Variances to calculate r2 in Physical Space\n",
    "    ###################################################################################\n",
    "    #varu,varv,varw,varth = np.var(yTRUTH['train'][splitnum]['du']),np.var(yTRUTH['train'][splitnum]['dv']),np.var(yTRUTH['train'][splitnum]['dw']),np.var(yTRUTH['train'][splitnum]['dth'])\n",
    "    #varu,varv,varth = np.var(yTRUTH['train'][splitnum]['du']),np.var(yTRUTH['train'][splitnum]['dv']),np.var(yTRUTH['train'][splitnum]['dth'])\n",
    "    batch_size = 9\n",
    "    num_workers = 2\n",
    "    train_loader = torch.utils.data.DataLoader(\n",
    "        dataset=train_data,\n",
    "        batch_size=batch_size,\n",
    "        shuffle=True\n",
    "    )\n",
    "    val_loader = torch.utils.data.DataLoader(\n",
    "        dataset=val_data,\n",
    "        batch_size=batch_size,\n",
    "        shuffle=False\n",
    "    )\n",
    "    test_loader = torch.utils.data.DataLoader(\n",
    "        dataset=test_data,\n",
    "        batch_size=batch_size,\n",
    "        shuffle=False\n",
    "    )\n",
    "    \n",
    "    times = ['exp1a','exp1b','exp1c','exp1d','exp1e']\n",
    "    #times = ['exp2a','exp2b','exp2c']#,'exp1d','exp1e']\n",
    "    for i in range(len(times)):\n",
    "        models,losses = [],[]\n",
    "        #model = OptimMLR_all_2D()\n",
    "        model = OptimMLR_all_3D_simple_lwswu()\n",
    "        optimizers = [torch.optim.Adam(model.parameters(), lr=1e-7)]#, optim.AdaBound(model.parameters(),lr=1e-7)] 1e-6\n",
    "        loss = torch.nn.MSELoss()\n",
    "        for optimizer in optimizers:\n",
    "            scheduler2 = torch.optim.lr_scheduler.CyclicLR(optimizer, base_lr=1e-9, max_lr=1e-5,cycle_momentum=False)\n",
    "            scheduler = torch.optim.lr_scheduler.ReduceLROnPlateau(optimizer, 'min',min_lr=1e-18)\n",
    "            num_epochs = 1000*18#26\n",
    "            early_stopper = EarlyStopping(patience=50, verbose=False, delta=1e-7, path='checkpoint.pt', trace_func=print)#EarlyStopper(patience=8, min_delta=1e-3)\n",
    "            #variance_store = [varu,varv,varw,varth]\n",
    "            #variance_store = [varu,varv,varth]\n",
    "            model,loss = train_model(optimizer=optimizer,scheduler=[scheduler,scheduler2],numepochs=num_epochs,early_stopper=early_stopper,variance_store=None,\\\n",
    "                                     lossfunc=loss)\n",
    "            models.append(model)\n",
    "            losses.append(loss)\n",
    "        torch.save(models, './tmp/torch_try/lwswu/0/models'+str(splitnum)+'_LWSW3d_1115_'+str(times[i])+'.pt')\n",
    "        read_and_proc.save_to_pickle('./tmp/torch_try/lwswu/0/losses'+str(splitnum)+'_LWSW3d_1115_'+str(times[i])+'.pkt',losses,'PICKLE')"
   ]
  },
  {
   "cell_type": "markdown",
   "id": "2261333b-7bd4-4179-bce9-ecb7a2e717c7",
   "metadata": {},
   "source": [
    "#### LW+SW"
   ]
  },
  {
   "cell_type": "markdown",
   "id": "f6ce9a2d-90cb-4c7a-9a82-03dae62afbec",
   "metadata": {},
   "source": [
    "#### LW+SW+U+W"
   ]
  },
  {
   "cell_type": "code",
   "execution_count": 26,
   "id": "2c9403f3-8ab3-48b7-92c8-934c68b44fd3",
   "metadata": {},
   "outputs": [
    {
     "name": "stderr",
     "output_type": "stream",
     "text": [
      "/tmp/ipykernel_440483/4243838913.py:2: ProplotWarning: rc setting 'linewidth' was renamed to 'meta.width' in version 0.8.\n",
      "  plot.rc.update({'axes.labelweight':'normal','tick.labelweight':'normal','figure.facecolor':'w','title.color':'k','fontname': 'Source Sans Pro', 'fontsize': 11,'linewidth':1.25})\n"
     ]
    },
    {
     "data": {
      "image/png": "[encoded data removed]",
      "text/plain": [
       "Figure(nrows=1, ncols=1, refaspect=1.93, refwidth=4.3)"
      ]
     },
     "metadata": {
      "image/png": {
       "height": 279,
       "width": 487
      }
     },
     "output_type": "display_data"
    }
   ],
   "source": [
    "plot.rc.metacolor = 'k'\n",
    "plot.rc.update({'axes.labelweight':'normal','tick.labelweight':'normal','figure.facecolor':'w','title.color':'k','fontname': 'Source Sans Pro', 'fontsize': 11,'linewidth':1.25})\n",
    "plot.rc.axesfacecolor = 'w'\n",
    "\n",
    "fig, ax1 = plot.subplots(ncols=1,nrows=1,axwidth=4.295,refaspect=1.931,share=False)\n",
    "ax1.plot(np.log10(losses[0]['train'][:]),label='training loss')\n",
    "ax1.plot(np.log10(losses[0]['val'][:]),label='valid loss')\n",
    "ax1.format(xlabel='N. of Epochs', ylabel='log10(MSE loss)')\n",
    "plt.savefig('./analysis/pic/lossdiagram.png',dpi=400)\n",
    "plt.show()"
   ]
  },
  {
   "cell_type": "code",
   "execution_count": 78,
   "id": "358001b0-55bc-476c-b2d0-2c7579549681",
   "metadata": {},
   "outputs": [
    {
     "name": "stdout",
     "output_type": "stream",
     "text": [
      "Collecting torch_optimizer\n",
      "  Downloading torch_optimizer-0.3.0-py3-none-any.whl (61 kB)\n",
      "\u001b[K     |████████████████████████████████| 61 kB 10 kB/s  eta 0:00:011\n",
      "\u001b[?25hRequirement already satisfied: torch>=1.5.0 in /work/FAC/FGSE/IDYST/tbeucler/default/freddy0218/miniconda3/lib/python3.9/site-packages (from torch_optimizer) (1.12.1)\n",
      "Collecting pytorch-ranger>=0.1.1\n",
      "  Downloading pytorch_ranger-0.1.1-py3-none-any.whl (14 kB)\n",
      "Requirement already satisfied: typing-extensions in /work/FAC/FGSE/IDYST/tbeucler/default/freddy0218/miniconda3/lib/python3.9/site-packages (from torch>=1.5.0->torch_optimizer) (4.3.0)\n",
      "Installing collected packages: pytorch-ranger, torch-optimizer\n",
      "Successfully installed pytorch-ranger-0.1.1 torch-optimizer-0.3.0\n"
     ]
    }
   ],
   "source": [
    "! pip install torch_optimizer"
   ]
  },
  {
   "cell_type": "code",
   "execution_count": 58,
   "id": "7e5e0c7d-cfc2-40ad-8190-3a1508370020",
   "metadata": {},
   "outputs": [],
   "source": [
    "def myMSE(tensorX=None, tensorY=None, model=None, pcastore=None,var=[varu,varv,varw,varth]):\n",
    "    def myscore(y_pred, y, var_y):\n",
    "        #var_y = torch.var(y, unbiased=False)\n",
    "        return (np.sum((y - y_pred)**2)) / var_y #mse/var\n",
    "    \n",
    "    utru = np.dot(tensorY.detach().numpy()[:,:26],pcastore['u'].components_[:26])\n",
    "    upre = np.dot(model(tensorX).detach().numpy()[:,:26],pcastore['u'].components_[:26])\n",
    "    vtru = np.dot(tensorY.detach().numpy()[:,26:26+18],pcastore['v'].components_[:18])\n",
    "    vpre = np.dot(model(tensorX).detach().numpy()[:,26:26+18],pcastore['v'].components_[:18])\n",
    "    wtru = np.dot(tensorY.detach().numpy()[:,26+18:26+18+48],pcastore['w'].components_[:48])\n",
    "    wpre = np.dot(model(tensorX).detach().numpy()[:,26+18:26+18+48],pcastore['w'].components_[:48])\n",
    "    thtru = np.dot(tensorY.detach().numpy()[:,26+18+48:26+18+48+14],pcastore['theta'].components_[:14])\n",
    "    thpre = np.dot(model(tensorX).detach().numpy()[:,26+18+48:26+18+48+14],pcastore['theta'].components_[:14])\n",
    "    \n",
    "    umse = myscore(upre,utru,var[0])\n",
    "    vmse = myscore(vpre,vtru,var[1])\n",
    "    wmse = myscore(wpre,wtru,var[2])\n",
    "    thmse = myscore(thpre,thtru,var[3])\n",
    "    return (umse+vmse+wmse+thmse)/4, umse,vmse,wmse,thmse"
   ]
  },
  {
   "cell_type": "code",
   "execution_count": 59,
   "id": "9e3fda40-8773-4fe6-9913-0ad9570be38a",
   "metadata": {},
   "outputs": [
    {
     "data": {
      "text/plain": [
       "(1195322.427734375,\n",
       " 612982.1281738281,\n",
       " 21422826.21875,\n",
       " 880272.7783203125,\n",
       " 66240.11946256868)"
      ]
     },
     "execution_count": 59,
     "metadata": {},
     "output_type": "execute_result"
    }
   ],
   "source": [
    "trainu_losses[-1],trainv_losses[-1],trainw_losses[-1],trainth_losses[-1],train_losses[-1]"
   ]
  },
  {
   "cell_type": "code",
   "execution_count": 35,
   "id": "154167dc-4fcf-4361-ab03-4e884ffb6851",
   "metadata": {},
   "outputs": [
    {
     "data": {
      "text/plain": [
       "(63199537080.81876,\n",
       " 90842320181.89835,\n",
       " 10618086608.285873,\n",
       " 150571363619.71063,\n",
       " 766377913.3802272)"
      ]
     },
     "execution_count": 35,
     "metadata": {},
     "output_type": "execute_result"
    }
   ],
   "source": [
    "myMSE(tensorX=train_Xtensor, tensorY=train_ytensor, model=model, pcastore=pcastore)"
   ]
  },
  {
   "cell_type": "code",
   "execution_count": 37,
   "id": "7af1deb4-b23b-41a1-8616-e8f629000940",
   "metadata": {},
   "outputs": [],
   "source": [
    "surfix = '1625'\n",
    "torch.save(models, './tmp/torch_try/1025/1/models_lwswuv_1102_'+str(surfix)+'.pt')\n",
    "read_and_proc.save_to_pickle('./tmp/torch_try/1025/1/losses_lwswuv_1102_'+str(surfix)+\n",
    "                '.pkt',losses,'PICKLE')"
   ]
  },
  {
   "cell_type": "code",
   "execution_count": 74,
   "id": "bb5eefa2-c63f-49ac-8592-7efb7afa1ac7",
   "metadata": {},
   "outputs": [
    {
     "ename": "NameError",
     "evalue": "name 'train_losses' is not defined",
     "output_type": "error",
     "traceback": [
      "\u001b[0;31m---------------------------------------------------------------------------\u001b[0m",
      "\u001b[0;31mNameError\u001b[0m                                 Traceback (most recent call last)",
      "Input \u001b[0;32mIn [74]\u001b[0m, in \u001b[0;36m<cell line: 2>\u001b[0;34m()\u001b[0m\n\u001b[1;32m      1\u001b[0m \u001b[38;5;66;03m#plt.plot([obj.detach().numpy() for obj in trainv_losses])\u001b[39;00m\n\u001b[0;32m----> 2\u001b[0m plt\u001b[38;5;241m.\u001b[39mplot(\u001b[43mtrain_losses\u001b[49m)\n\u001b[1;32m      3\u001b[0m plt\u001b[38;5;241m.\u001b[39mplot(val_losses)\n\u001b[1;32m      4\u001b[0m \u001b[38;5;66;03m#plt.plot(val_NSEs)\u001b[39;00m\n",
      "\u001b[0;31mNameError\u001b[0m: name 'train_losses' is not defined"
     ]
    }
   ],
   "source": [
    "#plt.plot([obj.detach().numpy() for obj in trainv_losses])\n",
    "plt.plot(train_losses)\n",
    "plt.plot(val_losses)\n",
    "#plt.plot(val_NSEs)\n",
    "plt.ylim(-2,1)\n",
    "plt.show()"
   ]
  },
  {
   "cell_type": "code",
   "execution_count": 119,
   "id": "9af89ad0-9d29-4fd4-af05-ef5197d51432",
   "metadata": {},
   "outputs": [],
   "source": [
    "aaaaaa_th = np.dot(test_ytensor.detach().numpy()[:,26+18+48:26+18+48+14],pcastore['theta'].components_[:14])\n",
    "aaaaaa_w = np.dot(test_ytensor.detach().numpy()[:,26+18:26+18+48],pcastore['w'].components_[:48])\n",
    "aaaaaa_v = np.dot(test_ytensor.detach().numpy()[:,26:26+18],pcastore['v'].components_[:18])\n",
    "aaaaaa_u = np.dot(test_ytensor.detach().numpy()[:,:26],pcastore['u'].components_[:26])"
   ]
  },
  {
   "cell_type": "code",
   "execution_count": 120,
   "id": "4cad2268-b93e-4ce2-aeb1-3148315116c6",
   "metadata": {},
   "outputs": [],
   "source": [
    "bbbbbb_th = np.dot(model(test_Xtensor).detach().numpy()[:,26+18+48:26+18+48+14],pcastore['theta'].components_[:14])\n",
    "bbbbbb_w = np.dot(model(test_Xtensor).detach().numpy()[:,26+18:26+18+48],pcastore['w'].components_[:48])\n",
    "bbbbbb_v = np.dot(model(test_Xtensor).detach().numpy()[:,26:26+18],pcastore['v'].components_[:18])\n",
    "bbbbbb_u = np.dot(model(test_Xtensor).detach().numpy()[:,:26],pcastore['u'].components_[:26])"
   ]
  },
  {
   "cell_type": "code",
   "execution_count": 108,
   "id": "99a866da-aef5-41a9-9415-07e652258fdf",
   "metadata": {},
   "outputs": [
    {
     "data": {
      "text/plain": [
       "(0.37951426305479874, 8.465318223185857e-05, 0.00013643050466981933)"
      ]
     },
     "execution_count": 108,
     "metadata": {},
     "output_type": "execute_result"
    }
   ],
   "source": [
    "def myr2(truth,pred):\n",
    "    MSE = np.sum((truth-pred)**2)\n",
    "    VAR = np.sum((truth-np.mean(truth))**2)\n",
    "    return np.mean(1-MSE/VAR), MSE,VAR\n",
    "myr2(aaaaaa,bbbbbb)"
   ]
  },
  {
   "cell_type": "code",
   "execution_count": 112,
   "id": "cb11e618-656d-4470-829c-aa674f65af90",
   "metadata": {},
   "outputs": [
    {
     "data": {
      "text/plain": [
       "(0.6406571144313491, 0.00023148038979969583, 0.0006441769103996147)"
      ]
     },
     "execution_count": 112,
     "metadata": {},
     "output_type": "execute_result"
    }
   ],
   "source": [
    "# v\n",
    "myr2(aaaaaa,bbbbbb) "
   ]
  },
  {
   "cell_type": "code",
   "execution_count": 115,
   "id": "edc9772b-9c53-4a1a-a8bf-4d509dbf779b",
   "metadata": {},
   "outputs": [
    {
     "data": {
      "text/plain": [
       "(-21.816496008088382, 1.0253462547992716e-05, 4.4938813323298603e-07)"
      ]
     },
     "execution_count": 115,
     "metadata": {},
     "output_type": "execute_result"
    }
   ],
   "source": [
    "# w (var/error)\n",
    "myr2(aaaaaa,bbbbbb)"
   ]
  },
  {
   "cell_type": "code",
   "execution_count": 118,
   "id": "5a82a82d-22c8-4a07-a338-4eac337809fb",
   "metadata": {},
   "outputs": [
    {
     "data": {
      "text/plain": [
       "(0.5462829087013954, 2.9929102560471313e-05, 6.596423880530894e-05)"
      ]
     },
     "execution_count": 118,
     "metadata": {},
     "output_type": "execute_result"
    }
   ],
   "source": [
    "# theta\n",
    "myr2(aaaaaa,bbbbbb)"
   ]
  },
  {
   "cell_type": "markdown",
   "id": "5cd379b9-ceaa-4431-9b9c-9bd32824f3f9",
   "metadata": {},
   "source": [
    "#### No Early Stopping"
   ]
  },
  {
   "cell_type": "code",
   "execution_count": 146,
   "id": "97b2d9e6-4ec2-403a-a2ea-74f416416dd2",
   "metadata": {},
   "outputs": [
    {
     "data": {
      "text/plain": [
       "0.5539370425094943"
      ]
     },
     "execution_count": 146,
     "metadata": {},
     "output_type": "execute_result"
    }
   ],
   "source": [
    "# theta\n",
    "myr2(aaaaaa,bbbbbb)"
   ]
  },
  {
   "cell_type": "code",
   "execution_count": 143,
   "id": "9afe783e-6f57-41de-9635-04761170fbb7",
   "metadata": {},
   "outputs": [
    {
     "data": {
      "text/plain": [
       "-10.444096639815301"
      ]
     },
     "execution_count": 143,
     "metadata": {},
     "output_type": "execute_result"
    }
   ],
   "source": [
    "# w\n",
    "myr2(aaaaaa,bbbbbb)"
   ]
  },
  {
   "cell_type": "code",
   "execution_count": 149,
   "id": "39cfcc57-0a71-46b7-b93f-7cab32652e3b",
   "metadata": {},
   "outputs": [
    {
     "data": {
      "text/plain": [
       "0.7852923241310666"
      ]
     },
     "execution_count": 149,
     "metadata": {},
     "output_type": "execute_result"
    }
   ],
   "source": [
    "# v\n",
    "myr2(aaaaaa,bbbbbb)"
   ]
  },
  {
   "cell_type": "code",
   "execution_count": 152,
   "id": "6dc0268b-188e-4ca8-a398-3c6c7238d9b5",
   "metadata": {},
   "outputs": [
    {
     "data": {
      "text/plain": [
       "0.36458807362049384"
      ]
     },
     "execution_count": 152,
     "metadata": {},
     "output_type": "execute_result"
    }
   ],
   "source": [
    "# u\n",
    "myr2(aaaaaa,bbbbbb)"
   ]
  },
  {
   "cell_type": "code",
   "execution_count": null,
   "id": "8fc49aca-290b-4450-b93c-bc4d12afcef6",
   "metadata": {},
   "outputs": [],
   "source": []
  }
 ],
 "metadata": {
  "kernelspec": {
   "display_name": "Python 3 (ipykernel)",
   "language": "python",
   "name": "python3"
  },
  "language_info": {
   "codemirror_mode": {
    "name": "ipython",
    "version": 3
   },
   "file_extension": ".py",
   "mimetype": "text/x-python",
   "name": "python",
   "nbconvert_exporter": "python",
   "pygments_lexer": "ipython3",
   "version": "3.9.15"
  }
 },
 "nbformat": 4,
 "nbformat_minor": 5
}
