{
 "cells": [
  {
   "cell_type": "code",
   "execution_count": 1,
   "id": "bbb8808b-aa0f-4967-bf4a-e36ee8629309",
   "metadata": {},
   "outputs": [
    {
     "name": "stderr",
     "output_type": "stream",
     "text": [
      "/tmp/ipykernel_1230083/753694454.py:18: ProplotWarning: rc setting 'linewidth' was renamed to 'meta.width' in version 0.8.\n",
      "  plot.rc.update({'figure.facecolor':'w','axes.labelweight':'ultralight',\n"
     ]
    }
   ],
   "source": [
    "\"\"\"──────────────────────────────────────────────────────────────────────────┐\n",
    "│ Loading necessary libraries to build and train model                       │\n",
    "└──────────────────────────────────────────────────────────────────────────\"\"\"\n",
    "import os,sys,gc\n",
    "import numpy as np\n",
    "import pickle\n",
    "import torch\n",
    "import proplot as plot\n",
    "import matplotlib.pyplot as plt\n",
    "from tqdm.auto import tqdm\n",
    "\n",
    "sys.path.insert(1, '/work/FAC/FGSE/IDYST/tbeucler/default/freddy0218/TCGphy/2020_TC_CRF/dev/freddy0218/scikit/')\n",
    "from tools import derive_var,read_and_proc\n",
    "from tools.mlr import mlr\n",
    "from tools.preprocess import do_eof,preproc_maria,preproc_haiyan\n",
    "import read_stuff as read\n",
    "%matplotlib inline\n",
    "plot.rc.update({'figure.facecolor':'w','axes.labelweight':'ultralight',\n",
    "                'tick.labelweight':'ultralight','gridminor.linestyle':'--','title.weight':'normal','linewidth':0.5})"
   ]
  },
  {
   "cell_type": "code",
   "execution_count": 2,
   "id": "02407d96-88aa-4740-91c5-645880a0a952",
   "metadata": {},
   "outputs": [
    {
     "data": {
      "application/vnd.jupyter.widget-view+json": {
       "model_id": "b635834518a34713bffc9b6a3d8dd84e",
       "version_major": 2,
       "version_minor": 0
      },
      "text/plain": [
       "  0%|          | 0/20 [00:00<?, ?it/s]"
      ]
     },
     "metadata": {},
     "output_type": "display_data"
    }
   ],
   "source": [
    "from tqdm.auto import tqdm\n",
    "path = '/work/FAC/FGSE/IDYST/tbeucler/default/freddy0218/'\n",
    "suffix = '_smooth_preproc_dict1b_g'\n",
    "a = [read_and_proc.depickle(path+'TCGphy/2020_TC_CRF/dev/freddy0218/testML/output/haiyan/processed/uvwheat/'+'mem'+str(lime)+suffix)['u'].shape for lime in tqdm(range(1,21))]\n",
    "# divide experiments reference\n",
    "divider = np.asarray([aobj[0] for aobj in a]).cumsum()"
   ]
  },
  {
   "cell_type": "code",
   "execution_count": 3,
   "id": "1225280e-a0a7-4ee1-b1b0-1f51a62738b6",
   "metadata": {
    "tags": []
   },
   "outputs": [
    {
     "data": {
      "text/plain": [
       "<module 'read_stuff' from '/work/FAC/FGSE/IDYST/tbeucler/default/freddy0218/TCGphy/2020_TC_CRF/dev/freddy0218/TCG_Rad_keras/read_stuff.py'>"
      ]
     },
     "execution_count": 3,
     "metadata": {},
     "output_type": "execute_result"
    }
   ],
   "source": [
    "import importlib\n",
    "importlib.reload(read)"
   ]
  },
  {
   "cell_type": "code",
   "execution_count": 4,
   "id": "b4d2c448-343d-4cc2-9654-1f7369b68d39",
   "metadata": {},
   "outputs": [
    {
     "data": {
      "application/vnd.jupyter.widget-view+json": {
       "model_id": "3f441a48217e41a48601f307efe9ca0f",
       "version_major": 2,
       "version_minor": 0
      },
      "text/plain": [
       "  0%|          | 0/33 [00:00<?, ?it/s]"
      ]
     },
     "metadata": {},
     "output_type": "display_data"
    },
    {
     "data": {
      "text/plain": [
       "'──────────────────────────────────────────────────────────────────────────┐\\n│ Loading y truth for custom loss                      \\n└──────────────────────────────────────────────────────────────────────────'"
      ]
     },
     "execution_count": 4,
     "metadata": {},
     "output_type": "execute_result"
    }
   ],
   "source": [
    "folderpath='/work/FAC/FGSE/IDYST/tbeucler/default/freddy0218/TCGphy/2020_TC_CRF/dev/freddy0218/TCG_Rad_keras/'\n",
    "folderpath2='/work/FAC/FGSE/IDYST/tbeucler/default/freddy0218/TCGphy/2020_TC_CRF/dev/freddy0218/testML/output/haiyan/processed/new3D/'\n",
    "\"\"\"──────────────────────────────────────────────────────────────────────────┐\n",
    "│ Loading input and outpus                    \n",
    "└──────────────────────────────────────────────────────────────────────────\"\"\"\n",
    "#Xtrain,Xvalid,Xtest,yall,yall_orig = read.train_optimizedMLR(folderpath,folderpath2,'rhorig','rhorig','3D').read_Xy(num=33,needorig=False)\n",
    "Xtrain,Xvalid,Xtest,yall = read.train_optimizedMLR(folderpath,folderpath2,'rhorig','rhorig','3D').read_Xy(num=33,needorig='No')\n",
    "\"\"\"──────────────────────────────────────────────────────────────────────────┐\n",
    "│ Loading PC structures for custom loss                       \n",
    "└──────────────────────────────────────────────────────────────────────────\"\"\"\n",
    "pcastore = read.train_optimizedMLR(folderpath,folderpath2,'rhorig','rhorig','3D').pcastore\n",
    "#wcomps = [26,18,48,14]\n",
    "#upcs,vpcs,wpcs,thpcs = pcastore['u'].components_[:wcomps[0]],pcastore['v'].components_[:wcomps[1]],pcastore['w'].components_[:wcomps[2]],pcastore['theta'].components_[:wcomps[3]]\n",
    "wcomps = [50,38,8]\n",
    "upcs,vpcs,thpcs = pcastore['u'].components_[:wcomps[0]],pcastore['v'].components_[:wcomps[1]],pcastore['theta'].components_[:wcomps[2]]\n",
    "\"\"\"──────────────────────────────────────────────────────────────────────────┐\n",
    "│ Loading y truth for custom loss                      \n",
    "└──────────────────────────────────────────────────────────────────────────\"\"\"\n",
    "#yTRUTH = read.train_optimizedMLR(folderpath,folderpath2,'rhorig','rhorig','3D').y_truth(divider=divider,lti=24,num=33,withW=False)"
   ]
  },
  {
   "cell_type": "code",
   "execution_count": 16,
   "id": "7d7201a4-eb0a-4bcc-ba30-dace7b87612d",
   "metadata": {
    "jupyter": {
     "source_hidden": true
    },
    "tags": []
   },
   "outputs": [],
   "source": [
    "\"\"\"──────────────────────────────────────────────────────────────────────────┐\n",
    "│ Which split will we be testing                     \n",
    "└──────────────────────────────────────────────────────────────────────────\"\"\"\n",
    "splitnum = 5"
   ]
  },
  {
   "cell_type": "markdown",
   "id": "53cfa094-169e-4f0b-8cfe-a319fb27215d",
   "metadata": {},
   "source": [
    "### PyTorch"
   ]
  },
  {
   "cell_type": "markdown",
   "id": "616cee19-b951-46af-9f48-3a3ad37d8652",
   "metadata": {},
   "source": [
    "#### Data processing"
   ]
  },
  {
   "cell_type": "code",
   "execution_count": 17,
   "id": "7917585a-2c29-4d69-8e8e-01b6f6e621e4",
   "metadata": {
    "jupyter": {
     "source_hidden": true
    },
    "tags": []
   },
   "outputs": [],
   "source": [
    "X_totrain,y_totrain = train_optimizedMLR(folderpath,folderpath2).delete_padding(Xtrain[splitnum]['lwswdtthuvwqv'],yall_orig[splitnum][23][0])#yall_orig[splitnum][23][0])\n",
    "X_tovalid,y_tovalid = train_optimizedMLR(folderpath,folderpath2).delete_padding(Xvalid[splitnum]['lwswdtthuvwqv'],yall_orig[splitnum][23][1])#yall_orig[splitnum][23][1])\n",
    "X_totest,y_totest = train_optimizedMLR(folderpath,folderpath2).delete_padding(Xtest[splitnum]['lwswdtthuvwqv'],yall_orig[splitnum][23][2])#yall_orig[splitnum][23][2])"
   ]
  },
  {
   "cell_type": "code",
   "execution_count": 18,
   "id": "8d8c605b-d879-451c-9b0b-02afbc69ede8",
   "metadata": {
    "jupyter": {
     "source_hidden": true
    },
    "tags": []
   },
   "outputs": [],
   "source": [
    "calc_device = 'cpu'\n",
    "###################################################################################\n",
    "# Convert numpy arrays into tensors\n",
    "###################################################################################\n",
    "train_Xtensor = torch.FloatTensor(X_totrain).to(calc_device)\n",
    "train_ytensor = torch.FloatTensor(y_totrain).to(calc_device)\n",
    "\n",
    "val_Xtensor = torch.FloatTensor(X_tovalid).to(calc_device)\n",
    "val_ytensor = torch.FloatTensor(y_tovalid).to(calc_device)\n",
    "\n",
    "test_Xtensor = torch.FloatTensor(X_totest).to(calc_device)\n",
    "test_ytensor = torch.FloatTensor(y_totest).to(calc_device)\n",
    "\n",
    "train_data = torch.utils.data.TensorDataset(train_Xtensor, train_ytensor)\n",
    "val_data = torch.utils.data.TensorDataset(val_Xtensor, val_ytensor)\n",
    "test_data = torch.utils.data.TensorDataset(test_Xtensor, test_ytensor)\n",
    "\n",
    "###################################################################################\n",
    "# Eigenvectors for Custom Loss in Physical Space\n",
    "###################################################################################\n",
    "eigenvectors = [torch.FloatTensor(obj).to(calc_device) for obj in [upcs,vpcs,wpcs,thpcs]]\n",
    "###################################################################################\n",
    "# Variances to calculate r2 in Physical Space\n",
    "###################################################################################\n",
    "varu,varv,varw,varth = np.var(yTRUTH['train'][splitnum]['du']),np.var(yTRUTH['train'][splitnum]['dv']),np.var(yTRUTH['train'][splitnum]['dw']),np.var(yTRUTH['train'][splitnum]['dth'])"
   ]
  },
  {
   "cell_type": "markdown",
   "id": "4cceb744-a8a6-46ea-bc06-697897d77482",
   "metadata": {},
   "source": [
    "#### Hyperparameters for training"
   ]
  },
  {
   "cell_type": "code",
   "execution_count": 9,
   "id": "f965918e-4a19-41c3-a172-687c57333dbe",
   "metadata": {
    "jupyter": {
     "source_hidden": true
    },
    "tags": []
   },
   "outputs": [],
   "source": [
    "batch_size = 9\n",
    "num_workers = 2"
   ]
  },
  {
   "cell_type": "markdown",
   "id": "9936d15a-61c0-4747-9745-4118791e7584",
   "metadata": {},
   "source": [
    "#### DataLoader"
   ]
  },
  {
   "cell_type": "code",
   "execution_count": 10,
   "id": "fb90edf3-6eeb-4802-9eb3-51433273ee23",
   "metadata": {
    "jupyter": {
     "source_hidden": true
    },
    "tags": []
   },
   "outputs": [],
   "source": [
    "train_loader = torch.utils.data.DataLoader(\n",
    "    dataset=train_data,\n",
    "    batch_size=batch_size,\n",
    "    shuffle=True\n",
    ")\n",
    "\n",
    "val_loader = torch.utils.data.DataLoader(\n",
    "    dataset=val_data,\n",
    "    batch_size=batch_size,\n",
    "    shuffle=False\n",
    ")\n",
    "\n",
    "test_loader = torch.utils.data.DataLoader(\n",
    "    dataset=test_data,\n",
    "    batch_size=batch_size,\n",
    "    shuffle=False\n",
    ")"
   ]
  },
  {
   "cell_type": "markdown",
   "id": "52dfbf90-046e-42d8-894d-bc3f672139a6",
   "metadata": {},
   "source": [
    "#### Define Model Architecture"
   ]
  },
  {
   "cell_type": "code",
   "execution_count": 5,
   "id": "691fb3f1-aae9-4365-a6bb-987c3ba633a7",
   "metadata": {
    "tags": []
   },
   "outputs": [],
   "source": [
    "brchindex = [0,30,60,60+52,60+52+60]\n",
    "brchsize = [30,30,52,60]"
   ]
  },
  {
   "cell_type": "markdown",
   "id": "1439c05b-88f6-4ddd-ba0f-2dd98f7901c6",
   "metadata": {},
   "source": [
    "##### LW/SW"
   ]
  },
  {
   "cell_type": "code",
   "execution_count": 5,
   "id": "cee6f9a4-e460-4fe8-80d2-4e7c67e5368f",
   "metadata": {
    "jupyter": {
     "source_hidden": true
    },
    "tags": []
   },
   "outputs": [],
   "source": [
    "class OptimMLR_all_3D_simple(torch.nn.Module):\n",
    "    def __init__(self):\n",
    "        #super(OptimMLR_all_2D, self).__init__()\n",
    "        super(OptimMLR_all_3D_simple, self).__init__()\n",
    "        ############################################################\n",
    "        # Input channels\n",
    "        ############################################################\n",
    "        brchsize = [20,20]#[50,38,91,8,82,20,20]\n",
    "        self.dense1 = torch.nn.Linear(brchsize[0], 1)\n",
    "        self.dense2 = torch.nn.Linear(brchsize[1], 1)\n",
    "        #self.dense3 = torch.nn.Linear(brchsize[2], 1)\n",
    "        #self.dense4 = torch.nn.Linear(brchsize[3], 1)\n",
    "        #self.dense5 = torch.nn.Linear(brchsize[4], 1)\n",
    "        #self.dense6 = torch.nn.Linear(brchsize[5], 1)\n",
    "        #self.dense7 = torch.nn.Linear(brchsize[6], 1)\n",
    "        ############################################################\n",
    "        # Final Dense Layer\n",
    "        ############################################################\n",
    "        self.denseout = torch.nn.Linear(2,96)#106)\n",
    "        \n",
    "    def forward(self,X):\n",
    "        brchindex = list(np.asarray([0,50,38,91,8,82,20,20]).cumsum())\n",
    "        X_u, X_v, X_w, X_th = X[:,brchindex[0]:brchindex[1]],X[:,brchindex[1]:brchindex[2]],X[:,brchindex[2]:brchindex[3]],X[:,brchindex[3]:brchindex[4]]\n",
    "        X_hdia, X_lw, X_sw = X[:,brchindex[4]:brchindex[5]],X[:,brchindex[5]:brchindex[6]],X[:,brchindex[6]:brchindex[7]]\n",
    "        ############################################################\n",
    "        # Optimal PC layer\n",
    "        ############################################################\n",
    "        bestlw = self.dense1(X_lw)\n",
    "        bestsw = self.dense2(X_sw)\n",
    "        ############################################################\n",
    "        # Concat\n",
    "        ############################################################\n",
    "        bestPC = torch.cat((bestlw,bestsw),1)\n",
    "        ############################################################\n",
    "        # Prediction layer\n",
    "        ############################################################\n",
    "        outpred = self.denseout(bestPC)\n",
    "        return outpred"
   ]
  },
  {
   "cell_type": "markdown",
   "id": "754513d1-cdb4-42f4-9b37-84570bfc4e29",
   "metadata": {},
   "source": [
    "##### LW/SW/HDIA"
   ]
  },
  {
   "cell_type": "code",
   "execution_count": 12,
   "id": "f0fd5ad2-7c88-478c-b6bb-3c74143b3660",
   "metadata": {},
   "outputs": [],
   "source": [
    "class OptimMLR_all_3D_simple_lwswhdia(torch.nn.Module):\n",
    "    def __init__(self):\n",
    "        #super(OptimMLR_all_2D, self).__init__()\n",
    "        super(OptimMLR_all_3D_simple_lwswhdia, self).__init__()\n",
    "        ############################################################\n",
    "        # Input channels\n",
    "        ############################################################\n",
    "        brchsize = [82,20,20]#[50,38,91,8,82,20,20]\n",
    "        self.dense1 = torch.nn.Linear(brchsize[0], 1)\n",
    "        self.dense2 = torch.nn.Linear(brchsize[1], 1)\n",
    "        self.dense3 = torch.nn.Linear(brchsize[2], 1)\n",
    "        #self.dense4 = torch.nn.Linear(brchsize[3], 1)\n",
    "        #self.dense5 = torch.nn.Linear(brchsize[4], 1)\n",
    "        #self.dense6 = torch.nn.Linear(brchsize[5], 1)\n",
    "        #self.dense7 = torch.nn.Linear(brchsize[6], 1)\n",
    "        ############################################################\n",
    "        # Final Dense Layer\n",
    "        ############################################################\n",
    "        self.denseout = torch.nn.Linear(3,96)#106)\n",
    "        \n",
    "    def forward(self,X):\n",
    "        brchindex = list(np.asarray([0,50,38,91,8,82,20,20]).cumsum())\n",
    "        X_u, X_v, X_w, X_th = X[:,brchindex[0]:brchindex[1]],X[:,brchindex[1]:brchindex[2]],X[:,brchindex[2]:brchindex[3]],X[:,brchindex[3]:brchindex[4]]\n",
    "        X_hdia, X_lw, X_sw = X[:,brchindex[4]:brchindex[5]],X[:,brchindex[5]:brchindex[6]],X[:,brchindex[6]:brchindex[7]]\n",
    "        ############################################################\n",
    "        # Optimal PC layer\n",
    "        ############################################################\n",
    "        besthdia = self.dense1(X_hdia)\n",
    "        bestlw = self.dense2(X_lw)\n",
    "        bestsw = self.dense3(X_sw)\n",
    "        ############################################################\n",
    "        # Concat\n",
    "        ############################################################\n",
    "        bestPC = torch.cat((besthdia,bestlw,bestsw),1)\n",
    "        ############################################################\n",
    "        # Prediction layer\n",
    "        ############################################################\n",
    "        outpred = self.denseout(bestPC)\n",
    "        return outpred"
   ]
  },
  {
   "cell_type": "markdown",
   "id": "17b863c1-a99c-4d12-923e-b935c27a1f69",
   "metadata": {
    "jp-MarkdownHeadingCollapsed": true,
    "tags": []
   },
   "source": [
    "##### All"
   ]
  },
  {
   "cell_type": "code",
   "execution_count": 5,
   "id": "b6c94054-e6d2-4d42-9b53-dd40cac7a0d4",
   "metadata": {},
   "outputs": [],
   "source": [
    "class OptimMLR_all_3D_simple(torch.nn.Module):\n",
    "    def __init__(self):\n",
    "        #super(OptimMLR_all_2D, self).__init__()\n",
    "        super(OptimMLR_all_3D_simple, self).__init__()\n",
    "        ############################################################\n",
    "        # Input channels\n",
    "        ############################################################\n",
    "        brchsize = [50,38,91,8,82,20,20]\n",
    "        self.dense1 = torch.nn.Linear(brchsize[0], 1)\n",
    "        self.dense2 = torch.nn.Linear(brchsize[1], 1)\n",
    "        self.dense3 = torch.nn.Linear(brchsize[2], 1)\n",
    "        self.dense4 = torch.nn.Linear(brchsize[3], 1)\n",
    "        self.dense5 = torch.nn.Linear(brchsize[4], 1)\n",
    "        self.dense6 = torch.nn.Linear(brchsize[5], 1)\n",
    "        self.dense7 = torch.nn.Linear(brchsize[6], 1)\n",
    "        ############################################################\n",
    "        # Final Dense Layer\n",
    "        ############################################################\n",
    "        self.denseout = torch.nn.Linear(7,96)#106)\n",
    "        \n",
    "    def forward(self,X):\n",
    "        brchindex = list(np.asarray([0,50,38,91,8,82,20,20]).cumsum())\n",
    "        X_u, X_v, X_w, X_th = X[:,brchindex[0]:brchindex[1]],X[:,brchindex[1]:brchindex[2]],X[:,brchindex[2]:brchindex[3]],X[:,brchindex[3]:brchindex[4]]\n",
    "        X_hdia, X_lw, X_sw = X[:,brchindex[4]:brchindex[5]],X[:,brchindex[5]:brchindex[6]],X[:,brchindex[6]:brchindex[7]]\n",
    "        ############################################################\n",
    "        # Optimal PC layer\n",
    "        ############################################################\n",
    "        bestu = self.dense1(X_u)\n",
    "        bestv = self.dense2(X_v)\n",
    "        bestw = self.dense3(X_w)\n",
    "        bestth = self.dense4(X_th)\n",
    "        besthdia = self.dense5(X_hdia)\n",
    "        bestlw = self.dense6(X_lw)\n",
    "        bestsw = self.dense7(X_sw)\n",
    "        ############################################################\n",
    "        # Concat\n",
    "        ############################################################\n",
    "        bestPC = torch.cat((bestu,bestv,bestw,bestth,besthdia,bestlw,bestsw),1)\n",
    "        ############################################################\n",
    "        # Prediction layer\n",
    "        ############################################################\n",
    "        outpred = self.denseout(bestPC)\n",
    "        return outpred"
   ]
  },
  {
   "cell_type": "markdown",
   "id": "f8d88e70-3797-4db2-a645-71cea03ba3e8",
   "metadata": {},
   "source": [
    "#### All channels"
   ]
  },
  {
   "cell_type": "code",
   "execution_count": 6,
   "id": "77998aae-d557-4b58-b22d-08ec83a1a8b0",
   "metadata": {
    "jupyter": {
     "source_hidden": true
    },
    "tags": []
   },
   "outputs": [],
   "source": [
    "class OptimMLR_all_2D(torch.nn.Module):\n",
    "    def __init__(self):\n",
    "        super(OptimMLR_all_2D, self).__init__()\n",
    "        ############################################################\n",
    "        # Input channels\n",
    "        ############################################################\n",
    "        brchsize = [26*2,18*2,48+12,14*2,9*2,6*3,30,30]\n",
    "        self.dense1 = torch.nn.Linear(brchsize[0], 1)\n",
    "        self.dense2 = torch.nn.Linear(brchsize[1], 1)\n",
    "        self.dense3 = torch.nn.Linear(brchsize[2], 1)\n",
    "        self.dense4 = torch.nn.Linear(brchsize[3], 1)\n",
    "        self.dense5 = torch.nn.Linear(brchsize[4], 1)\n",
    "        self.dense6 = torch.nn.Linear(brchsize[5], 1)\n",
    "        self.dense7 = torch.nn.Linear(brchsize[6], 1)\n",
    "        self.dense8 = torch.nn.Linear(brchsize[7], 1)\n",
    "        ############################################################\n",
    "        # Final Dense Layer\n",
    "        ############################################################\n",
    "        self.denseout = torch.nn.Linear(8,106)#106)\n",
    "        \n",
    "    def forward(self,X):\n",
    "        brchindex = list(np.asarray([0,26*2,18*2,48+12,14*2,9*2,6*3,30,30]).cumsum())\n",
    "        X_u, X_v, X_w, X_th = X[:,brchindex[0]:brchindex[1]],X[:,brchindex[1]:brchindex[2]],X[:,brchindex[2]:brchindex[3]],X[:,brchindex[3]:brchindex[4]]\n",
    "        X_rh, X_hdia, X_lw, X_sw = X[:,brchindex[4]:brchindex[5]],X[:,brchindex[5]:brchindex[6]],X[:,brchindex[6]:brchindex[7]],X[:,brchindex[7]:brchindex[8]]\n",
    "        ############################################################\n",
    "        # Optimal PC layer\n",
    "        ############################################################\n",
    "        bestu = self.dense1(X_u)\n",
    "        bestv = self.dense2(X_v)\n",
    "        bestw = self.dense3(X_w)\n",
    "        bestth = self.dense4(X_th)\n",
    "        bestrh = self.dense5(X_rh)\n",
    "        besthdia = self.dense6(X_hdia)\n",
    "        bestlw = self.dense7(X_lw)\n",
    "        bestsw = self.dense8(X_sw)\n",
    "        ############################################################\n",
    "        # Concat\n",
    "        ############################################################\n",
    "        bestPC = torch.cat((bestu,bestv,bestw,bestth,bestrh,besthdia,bestlw,bestsw),1)\n",
    "        ############################################################\n",
    "        # Prediction layer\n",
    "        ############################################################\n",
    "        outpred = self.denseout(bestPC)\n",
    "        return outpred"
   ]
  },
  {
   "cell_type": "code",
   "execution_count": 11,
   "id": "7dd2d534-4efc-441f-ba5e-deff664a85f8",
   "metadata": {
    "collapsed": true,
    "jupyter": {
     "outputs_hidden": true,
     "source_hidden": true
    },
    "tags": []
   },
   "outputs": [
    {
     "ename": "NameError",
     "evalue": "name 'mymodel' is not defined",
     "output_type": "error",
     "traceback": [
      "\u001b[0;31m---------------------------------------------------------------------------\u001b[0m",
      "\u001b[0;31mNameError\u001b[0m                                 Traceback (most recent call last)",
      "Input \u001b[0;32mIn [11]\u001b[0m, in \u001b[0;36m<cell line: 2>\u001b[0;34m()\u001b[0m\n\u001b[1;32m      1\u001b[0m \u001b[38;5;28;01mfrom\u001b[39;00m \u001b[38;5;21;01mtorchviz\u001b[39;00m \u001b[38;5;28;01mimport\u001b[39;00m make_dot\n\u001b[0;32m----> 2\u001b[0m make_dot(\u001b[43mmymodel\u001b[49m(torch\u001b[38;5;241m.\u001b[39mrand((\u001b[38;5;241m819\u001b[39m,\u001b[38;5;241m60\u001b[39m))),params\u001b[38;5;241m=\u001b[39m\u001b[38;5;28mdict\u001b[39m(mymodel\u001b[38;5;241m.\u001b[39mnamed_parameters()))\n",
      "\u001b[0;31mNameError\u001b[0m: name 'mymodel' is not defined"
     ]
    }
   ],
   "source": [
    "from torchviz import make_dot\n",
    "make_dot(mymodel(torch.rand((819,60))),params=dict(mymodel.named_parameters()))"
   ]
  },
  {
   "cell_type": "markdown",
   "id": "b191b991-4ad3-4781-8f6f-6deb51504319",
   "metadata": {},
   "source": [
    "##### Custom Losses"
   ]
  },
  {
   "cell_type": "code",
   "execution_count": 7,
   "id": "e2fe3581-7ba9-4fa8-810b-4cc3d748fef4",
   "metadata": {},
   "outputs": [],
   "source": [
    "class R2Loss(torch.nn.Module):\n",
    "    \n",
    "    def forward(self, y_pred, y):\n",
    "        var_y = torch.var(y, unbiased=False)\n",
    "        return -(1.0 - torch.nn.functional.mse_loss(y_pred, y, reduction=\"mean\") / var_y)\n",
    "    \n",
    "class MSE_physicalLoss(torch.nn.Module):\n",
    "    def __init__(self, pcs=None, wantcomps=None, variances=None):\n",
    "        super(MSE_physicalLoss, self).__init__()\n",
    "        self.pcs = pcs\n",
    "        self.wantcomps = wantcomps\n",
    "        self.variances = variances\n",
    "        \n",
    "    def forward(self, y_pred, y):\n",
    "        def myscore(y_pred, y, var_y):\n",
    "            return torch.mean(torch.square(y - y_pred).sum()).div(var_y)\n",
    "            #var_y = torch.var(y, unbiased=False)\n",
    "            #return (torch.nn.functional.mse_loss(y_pred, y, reduction=\"mean\") / var_y) #mse/var\n",
    "        \"\"\"\n",
    "        1. Here we slice the feature axis to separate samples into u/v/w/theta components\n",
    "        \"\"\"\n",
    "        y_pred_u, y_u = y_pred[:,0:self.wantcomps[0]], y[:,0:self.wantcomps[0]]\n",
    "        y_pred_v, y_v = y_pred[:,self.wantcomps[0]:self.wantcomps[0]+self.wantcomps[1]], y[:,self.wantcomps[0]:self.wantcomps[0]+self.wantcomps[1]]\n",
    "        y_pred_w, y_w = y_pred[:,self.wantcomps[0]+self.wantcomps[1]:self.wantcomps[0]+self.wantcomps[1]+self.wantcomps[2]], \\\n",
    "        y[:,self.wantcomps[0]+self.wantcomps[1]:self.wantcomps[0]+self.wantcomps[1]+self.wantcomps[2]]\n",
    "        y_pred_th, y_th = y_pred[:,self.wantcomps[0]+self.wantcomps[1]+self.wantcomps[2]:self.wantcomps[0]+self.wantcomps[1]+self.wantcomps[2]+self.wantcomps[3]], \\\n",
    "        y[:,self.wantcomps[0]+self.wantcomps[1]+self.wantcomps[2]:self.wantcomps[0]+self.wantcomps[1]+self.wantcomps[2]+self.wantcomps[3]]\n",
    "        \"\"\"\n",
    "        2. Here we convert PCs into physical space\n",
    "        \"\"\"\n",
    "        uphys_pred, uphys_real = torch.matmul(y_pred_u, self.pcs[0]),torch.matmul(y_u, self.pcs[0])\n",
    "        vphys_pred, vphys_real = torch.matmul(y_pred_v, self.pcs[1]),torch.matmul(y_v, self.pcs[1])\n",
    "        wphys_pred, wphys_real = torch.matmul(y_pred_w, self.pcs[2]),torch.matmul(y_w, self.pcs[2])\n",
    "        thphys_pred, thphys_real = torch.matmul(y_pred_th, self.pcs[3]),torch.matmul(y_th, self.pcs[3])\n",
    "        \n",
    "        u_mse, v_mse, w_mse, th_mse = myscore(uphys_pred,uphys_real,self.variances[0]),myscore(vphys_pred,vphys_real,self.variances[1]),\\\n",
    "        myscore(wphys_pred,wphys_real,self.variances[2]),myscore(thphys_pred,thphys_real,self.variances[3])\n",
    "        \n",
    "        msesum = u_mse+v_mse+w_mse+th_mse\n",
    "        return msesum/4#, u_mse,v_mse,w_mse,th_mse"
   ]
  },
  {
   "cell_type": "markdown",
   "id": "7ccb3246-82a8-4376-b351-a23887121915",
   "metadata": {},
   "source": [
    "#### Model compile settings"
   ]
  },
  {
   "cell_type": "code",
   "execution_count": 46,
   "id": "a2985209-095f-4090-9695-c4c33b0ad73c",
   "metadata": {
    "collapsed": true,
    "jupyter": {
     "outputs_hidden": true,
     "source_hidden": true
    },
    "tags": []
   },
   "outputs": [
    {
     "ename": "NameError",
     "evalue": "name 'channels' is not defined",
     "output_type": "error",
     "traceback": [
      "\u001b[0;31m---------------------------------------------------------------------------\u001b[0m",
      "\u001b[0;31mNameError\u001b[0m                                 Traceback (most recent call last)",
      "Input \u001b[0;32mIn [46]\u001b[0m, in \u001b[0;36m<cell line: 2>\u001b[0;34m()\u001b[0m\n\u001b[1;32m      1\u001b[0m \u001b[38;5;28;01mfrom\u001b[39;00m \u001b[38;5;21;01mtorchsummary\u001b[39;00m \u001b[38;5;28;01mimport\u001b[39;00m summary\n\u001b[0;32m----> 2\u001b[0m summary(model,input_size\u001b[38;5;241m=\u001b[39m(\u001b[43mchannels\u001b[49m, H, W))\n",
      "\u001b[0;31mNameError\u001b[0m: name 'channels' is not defined"
     ]
    }
   ],
   "source": [
    "from torchsummary import summary\n",
    "summary(model,input_size=(channels, H, W))"
   ]
  },
  {
   "cell_type": "markdown",
   "id": "43a9a532-3278-449f-988a-7f4743096827",
   "metadata": {},
   "source": [
    "#### Evaluation Loop"
   ]
  },
  {
   "cell_type": "code",
   "execution_count": 8,
   "id": "6493b246-f4a7-4528-860a-0f24fe05ff8e",
   "metadata": {},
   "outputs": [],
   "source": [
    "def eval_model(model, dataloader, loss_func, metric_func):\n",
    "    with torch.no_grad():\n",
    "        loss = 0\n",
    "        metric = 0\n",
    "        \n",
    "        global_sum = 0\n",
    "        label_size = 0\n",
    "        for feature, labels in dataloader:\n",
    "            global_sum += labels.sum()\n",
    "            label_size += len(labels)\n",
    "            \n",
    "        global_mean = global_sum / label_size\n",
    "        for features, labels in dataloader:\n",
    "            pred = model(features)\n",
    "            batch_loss = loss_func(pred, labels)\n",
    "            batch_metric = metric_func(pred, labels, global_mean)\n",
    "            \n",
    "            loss+=batch_loss.item()\n",
    "            metric+=batch_metric.item()\n",
    "            \n",
    "        num_batches = len(dataloader)\n",
    "        \n",
    "        loss = loss/num_batches\n",
    "        metric = metric/num_batches\n",
    "        return (loss, metric)\n",
    "    \n",
    "# Customzied evaluation metric NSE for validation set and test set # \n",
    "def calc_nse(sim: torch.FloatTensor, obs: torch.FloatTensor, global_obs_mean: torch.FloatTensor) -> float:\n",
    "    \"\"\"Calculate the Nash-Sutcliff-Efficiency coefficient.\n",
    "\n",
    "    :param obs: Array containing the observations\n",
    "    :param sim: Array containing the simulations\n",
    "    :param global_obs_mean: mean of the whole observation series\n",
    "    :return: NSE value.\n",
    "    \"\"\"\n",
    "    numerator = torch.square(sim - obs).sum()\n",
    "    #denominator = torch.square(obs - global_obs_mean).sum()\n",
    "    #nse_val = 1 - numerator / denominator\n",
    "\n",
    "    return numerator\n",
    "\n",
    "class EarlyStopper:\n",
    "    def __init__(self, patience=1, min_delta=0):\n",
    "        self.patience = patience\n",
    "        self.min_delta = min_delta\n",
    "        self.counter = 0\n",
    "        self.min_validation_loss = np.inf\n",
    "\n",
    "    def early_stop(self, validation_loss):\n",
    "        if validation_loss < self.min_validation_loss:\n",
    "            self.min_validation_loss = validation_loss\n",
    "            self.counter = 0\n",
    "        elif validation_loss > (self.min_validation_loss + self.min_delta):\n",
    "            self.counter += 1\n",
    "            if self.counter >= self.patience:\n",
    "                return True\n",
    "        return False\n",
    "    \n",
    "class EarlyStopping:\n",
    "    \"\"\"Early stops the training if validation loss doesn't improve after a given patience.\"\"\"\n",
    "    def __init__(self, patience=7, verbose=False, delta=0, path='checkpoint.pt', trace_func=print):\n",
    "        \"\"\"\n",
    "        Args:\n",
    "            patience (int): How long to wait after last time validation loss improved.\n",
    "                            Default: 7\n",
    "            verbose (bool): If True, prints a message for each validation loss improvement. \n",
    "                            Default: False\n",
    "            delta (float): Minimum change in the monitored quantity to qualify as an improvement.\n",
    "                            Default: 0\n",
    "            path (str): Path for the checkpoint to be saved to.\n",
    "                            Default: 'checkpoint.pt'\n",
    "            trace_func (function): trace print function.\n",
    "                            Default: print            \n",
    "        \"\"\"\n",
    "        self.patience = patience\n",
    "        self.verbose = verbose\n",
    "        self.counter = 0\n",
    "        self.best_score = None\n",
    "        self.early_stop = False\n",
    "        self.val_loss_min = np.Inf\n",
    "        self.delta = delta\n",
    "        self.path = path\n",
    "        self.trace_func = trace_func\n",
    "    def __call__(self, val_loss, model):\n",
    "\n",
    "        score = -val_loss\n",
    "\n",
    "        if self.best_score is None:\n",
    "            self.best_score = score\n",
    "            self.save_checkpoint(val_loss, model)\n",
    "        elif score < self.best_score + self.delta:\n",
    "            self.counter += 1\n",
    "            #self.trace_func(f'EarlyStopping counter: {self.counter} out of {self.patience}')\n",
    "            if self.counter >= self.patience:\n",
    "                self.early_stop = True\n",
    "        else:\n",
    "            self.best_score = score\n",
    "            self.save_checkpoint(val_loss, model)\n",
    "            self.counter = 0\n",
    "        return self.early_stop\n",
    "\n",
    "    def save_checkpoint(self, val_loss, model):\n",
    "        '''Saves model when validation loss decrease.'''\n",
    "        if self.verbose:\n",
    "            self.trace_func(f'Validation loss decreased ({self.val_loss_min:.6f} --> {val_loss:.6f}).  Saving model ...')\n",
    "        torch.save(model.state_dict(), self.path)\n",
    "        self.val_loss_min = val_loss"
   ]
  },
  {
   "cell_type": "code",
   "execution_count": 9,
   "id": "d8a273aa-cee9-4f5e-85d4-53d6f5585295",
   "metadata": {},
   "outputs": [],
   "source": [
    "from livelossplot import PlotLosses"
   ]
  },
  {
   "cell_type": "code",
   "execution_count": 10,
   "id": "e5bda2f5-973a-4186-9b53-ceab15c32f7e",
   "metadata": {},
   "outputs": [],
   "source": [
    "def train_model(optimizer=None,scheduler=None,numepochs=None,early_stopper=None,variance_store=None,lossfunc=None,regularization='None',l1_lambda=0.01):\n",
    "    # Custom loss: MSE_physicalLoss(eigenvectors,wcomps,variance_store)\n",
    "    liveloss = PlotLosses()\n",
    "    schedulerCY,schedulerLS = scheduler[1],scheduler[0]\n",
    "    train_losses,trainu_losses,trainv_losses,trainw_losses,trainth_losses = [],[],[],[],[]\n",
    "    val_losses = []\n",
    "    val_NSEs = []\n",
    "    for epoch in tqdm(range(int(num_epochs))):\n",
    "        \"\"\"\n",
    "        Initialize loss\n",
    "        \"\"\"\n",
    "        train_loss = 0\n",
    "        \"\"\"\n",
    "        Operate per batch\n",
    "        \"\"\"\n",
    "        for features, labels in train_loader:\n",
    "            optimizer.zero_grad()\n",
    "            \n",
    "            prediction = model(features)\n",
    "            batch_loss = lossfunc(prediction, labels)#loss_func(prediction, labels)\n",
    "            \n",
    "            if regularization=='L1':\n",
    "                #L1 regularization-------------------------------\n",
    "                l1_norm = sum(abs(p) for p in model.parameters())\n",
    "                #-------------------------------------------------\n",
    "                batch_loss = batch_loss + l1_lambda * l1_norm\n",
    "                batch_loss.backward()\n",
    "            elif regularization=='None':\n",
    "                batch_loss.backward()                \n",
    "            \n",
    "            optimizer.step()\n",
    "            schedulerCY.step()\n",
    "            \n",
    "            train_loss += batch_loss.item()\n",
    "            \n",
    "            \n",
    "        train_loss = train_loss / len(train_loader)\n",
    "        train_losses.append(train_loss)\n",
    "        val_loss, val_NSE = eval_model(model,\n",
    "                                       val_loader,\n",
    "                                       lossfunc,\n",
    "                                       calc_nse)\n",
    "        schedulerLS.step(val_loss)\n",
    "        \n",
    "        ##################################################################\n",
    "        # Early Stopping (valid / train)\n",
    "        ##################################################################\n",
    "        counter = 0\n",
    "        if len(val_losses)>=1:\n",
    "            best_score = val_losses[-1]\n",
    "            if val_loss > best_score:\n",
    "                counter += 1\n",
    "                val_NSEs.append(val_NSE)\n",
    "                val_losses.append(val_loss)\n",
    "                if counter >= 10:\n",
    "                    break\n",
    "            else:\n",
    "                val_NSEs.append(val_NSE)\n",
    "                val_losses.append(val_loss)\n",
    "        else:\n",
    "            val_NSEs.append(val_NSE)\n",
    "            val_losses.append(val_loss)\n",
    "        \n",
    "        if early_stopper.__call__(val_loss, model):\n",
    "            break\n",
    "        #if early_stopper.early_stop(val_loss):             \n",
    "        #    break\n",
    "            ##################################################################\n",
    "        #val_NSEs.append(val_NSE)\n",
    "        #val_losses.append(val_loss)\n",
    "        \n",
    "        if epoch % 500 == 0:\n",
    "            print((np.log10(train_loss),np.log10(val_loss)))\n",
    "            \n",
    "    #return model, {'train':train_losses,'utrain':trainu_losses,'vtrain':trainv_losses,'wtrain':trainw_losses,'thtrain':trainth_losses,'val':val_losses} \n",
    "    return model, {'train':train_losses,'val':val_losses} "
   ]
  },
  {
   "cell_type": "code",
   "execution_count": null,
   "id": "18580141-927c-47f1-91d2-f61ff896ee87",
   "metadata": {
    "tags": []
   },
   "outputs": [
    {
     "data": {
      "application/vnd.jupyter.widget-view+json": {
       "model_id": "671752542b5d489f955029cdb4ab05d1",
       "version_major": 2,
       "version_minor": 0
      },
      "text/plain": [
       "  0%|          | 0/18000 [00:00<?, ?it/s]"
      ]
     },
     "metadata": {},
     "output_type": "display_data"
    },
    {
     "name": "stdout",
     "output_type": "stream",
     "text": [
      "(-0.6635204039418163, -0.7052343966965914)\n",
      "(-1.8003931993560303, -1.5121317176352351)\n",
      "(-3.7720023261751554, -2.5444933778574694)\n",
      "(-4.388018912966707, -3.391572368144545)\n",
      "(-4.54206329868348, -3.7824712128882862)\n",
      "(-4.574300350424398, -4.097865176703948)\n"
     ]
    },
    {
     "data": {
      "application/vnd.jupyter.widget-view+json": {
       "model_id": "f50f27865bae4d78bbe0d71db579c888",
       "version_major": 2,
       "version_minor": 0
      },
      "text/plain": [
       "  0%|          | 0/18000 [00:00<?, ?it/s]"
      ]
     },
     "metadata": {},
     "output_type": "display_data"
    },
    {
     "name": "stdout",
     "output_type": "stream",
     "text": [
      "(-0.6502718486033006, -0.6709505822528072)\n",
      "(-1.745971506472698, -1.3189196342901495)\n",
      "(-3.9148668111357114, -1.9753289398210616)\n",
      "(-4.359306833988462, -2.345820421079841)\n",
      "(-4.469166475687292, -2.6367456196709425)\n",
      "(-4.5305842431944985, -2.967903179576849)\n",
      "(-4.5640322190247975, -3.4683960193608168)\n",
      "(-4.577809286414935, -4.408505038218072)\n"
     ]
    },
    {
     "data": {
      "application/vnd.jupyter.widget-view+json": {
       "model_id": "5d24d68c15024206aa6233fbab23d3d1",
       "version_major": 2,
       "version_minor": 0
      },
      "text/plain": [
       "  0%|          | 0/18000 [00:00<?, ?it/s]"
      ]
     },
     "metadata": {},
     "output_type": "display_data"
    },
    {
     "name": "stdout",
     "output_type": "stream",
     "text": [
      "(-0.616150010480405, -0.582319665185818)\n",
      "(-1.5991699538815007, -1.465769617590589)\n",
      "(-3.817069145804463, -2.4082695747625356)\n",
      "(-4.42935201305585, -2.8206468860751253)\n",
      "(-4.536341856408506, -3.335509655466694)\n",
      "(-4.574622579022859, -4.160052173545035)\n"
     ]
    },
    {
     "data": {
      "application/vnd.jupyter.widget-view+json": {
       "model_id": "78ec187a7ae84e5e873910ff587e940f",
       "version_major": 2,
       "version_minor": 0
      },
      "text/plain": [
       "  0%|          | 0/18000 [00:00<?, ?it/s]"
      ]
     },
     "metadata": {},
     "output_type": "display_data"
    },
    {
     "name": "stdout",
     "output_type": "stream",
     "text": [
      "(-0.6825661634675836, -0.6711198414219931)\n",
      "(-1.8200891960514916, -1.4306553906056374)\n",
      "(-3.9648653996412833, -2.1983392843926586)\n",
      "(-4.324798023635325, -2.53901863408828)\n",
      "(-4.475600845550329, -2.8247122962647087)\n",
      "(-4.5423615732200275, -3.120802896646416)\n",
      "(-4.567418373075333, -3.527813760904141)\n",
      "(-4.577134082397714, -4.217396946667081)\n",
      "(-4.578961223081866, -4.577458034933588)\n"
     ]
    },
    {
     "data": {
      "application/vnd.jupyter.widget-view+json": {
       "model_id": "7d21527eb24545b8bfdcfd0941e2c7dc",
       "version_major": 2,
       "version_minor": 0
      },
      "text/plain": [
       "  0%|          | 0/18000 [00:00<?, ?it/s]"
      ]
     },
     "metadata": {},
     "output_type": "display_data"
    },
    {
     "name": "stdout",
     "output_type": "stream",
     "text": [
      "(-0.6866473783235884, -0.7845937963748282)\n",
      "(-1.7779580534706985, -1.613733591856901)\n",
      "(-3.8745252028813577, -2.4004740600051018)\n",
      "(-4.4693361441682935, -2.8072627585759853)\n",
      "(-4.549014961111718, -3.2186045843389333)\n",
      "(-4.57258912092089, -3.7345370428339133)\n",
      "(-4.578825945427644, -4.471422587939851)\n"
     ]
    },
    {
     "data": {
      "application/vnd.jupyter.widget-view+json": {
       "model_id": "4999faf848e54b2da8058e6d1c2d5c5e",
       "version_major": 2,
       "version_minor": 0
      },
      "text/plain": [
       "  0%|          | 0/18000 [00:00<?, ?it/s]"
      ]
     },
     "metadata": {},
     "output_type": "display_data"
    },
    {
     "name": "stdout",
     "output_type": "stream",
     "text": [
      "(-0.6589741812698654, -0.6837752956534073)\n",
      "(-1.7235572845257183, -1.4752915514539902)\n",
      "(-3.616530575161735, -2.1866578955911398)\n",
      "(-4.369337760035109, -2.656871852487402)\n",
      "(-4.529569950264118, -3.0200288163321276)\n",
      "(-4.5712320390582475, -3.5072384453627303)\n",
      "(-4.582098669987925, -4.344043813084229)\n"
     ]
    },
    {
     "data": {
      "application/vnd.jupyter.widget-view+json": {
       "model_id": "7edbbf00f60f42f088c6a16ad1ea31ae",
       "version_major": 2,
       "version_minor": 0
      },
      "text/plain": [
       "  0%|          | 0/18000 [00:00<?, ?it/s]"
      ]
     },
     "metadata": {},
     "output_type": "display_data"
    },
    {
     "name": "stdout",
     "output_type": "stream",
     "text": [
      "(-0.6717248046686615, -0.5760319359247272)\n",
      "(-1.8040213770110323, -1.4169352569275304)\n",
      "(-3.744972339969493, -2.213321324061377)\n",
      "(-4.384515692021265, -3.0156939078614897)\n",
      "(-4.55740841797866, -3.7515816339921813)\n",
      "(-4.586453740656808, -4.530140657907341)\n"
     ]
    },
    {
     "data": {
      "application/vnd.jupyter.widget-view+json": {
       "model_id": "df3329ee727446e2ac58a50f32afbb00",
       "version_major": 2,
       "version_minor": 0
      },
      "text/plain": [
       "  0%|          | 0/18000 [00:00<?, ?it/s]"
      ]
     },
     "metadata": {},
     "output_type": "display_data"
    },
    {
     "name": "stdout",
     "output_type": "stream",
     "text": [
      "(-0.6542363467087742, -0.6946932453891038)\n",
      "(-1.7053267541950643, -1.4530246401752347)\n",
      "(-4.097832915834459, -2.423452070820156)\n",
      "(-4.51927708436548, -3.106850660644762)\n",
      "(-4.574522296621125, -3.668395585173084)\n",
      "(-4.5855765139567515, -4.529094574186772)\n"
     ]
    },
    {
     "data": {
      "application/vnd.jupyter.widget-view+json": {
       "model_id": "c66cf5a4fa5c4826ba47cd1bf06c9a33",
       "version_major": 2,
       "version_minor": 0
      },
      "text/plain": [
       "  0%|          | 0/18000 [00:00<?, ?it/s]"
      ]
     },
     "metadata": {},
     "output_type": "display_data"
    },
    {
     "name": "stdout",
     "output_type": "stream",
     "text": [
      "(-0.6355942165910419, -0.6749176887489636)\n",
      "(-1.6380637144186632, -1.3990831696406878)\n",
      "(-3.911563354993608, -2.370840255583204)\n",
      "(-4.442243939682219, -3.143166806553651)\n",
      "(-4.543550851637188, -3.5665601643181333)\n",
      "(-4.575415940739497, -4.051559004639639)\n",
      "(-4.585143626198146, -4.536962573555317)\n"
     ]
    },
    {
     "data": {
      "application/vnd.jupyter.widget-view+json": {
       "model_id": "72a242d03f344e64a3789e8d198d9818",
       "version_major": 2,
       "version_minor": 0
      },
      "text/plain": [
       "  0%|          | 0/18000 [00:00<?, ?it/s]"
      ]
     },
     "metadata": {},
     "output_type": "display_data"
    },
    {
     "name": "stdout",
     "output_type": "stream",
     "text": [
      "(-0.6527701243912211, -0.6420077532957339)\n",
      "(-1.8575026201828395, -1.3490480379902787)\n",
      "(-3.8170789942002443, -2.0881139722717212)\n",
      "(-4.44535367538094, -3.159883279047759)\n",
      "(-4.581768466124654, -4.460782425370303)\n"
     ]
    },
    {
     "data": {
      "application/vnd.jupyter.widget-view+json": {
       "model_id": "4ea0c927afa942d5a5cd834e34f56067",
       "version_major": 2,
       "version_minor": 0
      },
      "text/plain": [
       "  0%|          | 0/18000 [00:00<?, ?it/s]"
      ]
     },
     "metadata": {},
     "output_type": "display_data"
    },
    {
     "name": "stdout",
     "output_type": "stream",
     "text": [
      "(-0.7540273996057945, -0.8019269511997229)\n",
      "(-1.9999271387732869, -1.6975839339406233)\n",
      "(-3.8226931778487323, -2.468767812962733)\n",
      "(-4.343494997218558, -2.924919345716971)\n",
      "(-4.488899395010547, -3.2482737885614945)\n",
      "(-4.575109025343504, -3.628199937540747)\n",
      "(-4.616250946216741, -4.130784769780847)\n",
      "(-4.617111806563156, -4.522681512502527)\n"
     ]
    },
    {
     "data": {
      "application/vnd.jupyter.widget-view+json": {
       "model_id": "50d2974f12494735bcb3c94ef46f33df",
       "version_major": 2,
       "version_minor": 0
      },
      "text/plain": [
       "  0%|          | 0/18000 [00:00<?, ?it/s]"
      ]
     },
     "metadata": {},
     "output_type": "display_data"
    },
    {
     "name": "stdout",
     "output_type": "stream",
     "text": [
      "(-0.6341228352407845, -0.6928689303664762)\n",
      "(-1.6429083865291625, -1.4520629806390586)\n",
      "(-3.8254881969990913, -2.328206579300177)\n",
      "(-4.53004166565016, -3.196692192476629)\n",
      "(-4.580065307176271, -4.395619498362962)\n"
     ]
    },
    {
     "data": {
      "application/vnd.jupyter.widget-view+json": {
       "model_id": "6ac0685d4f544ae8b4d8f46faa8ea915",
       "version_major": 2,
       "version_minor": 0
      },
      "text/plain": [
       "  0%|          | 0/18000 [00:00<?, ?it/s]"
      ]
     },
     "metadata": {},
     "output_type": "display_data"
    },
    {
     "name": "stdout",
     "output_type": "stream",
     "text": [
      "(-0.6467132595726554, -0.7473641131496658)\n",
      "(-1.6424743522882195, -1.492243801068232)\n",
      "(-3.350471249971562, -2.2170460180772267)\n",
      "(-4.323343179861767, -2.635691232708792)\n",
      "(-4.477788731002272, -2.9055472419152606)\n",
      "(-4.536908114018698, -3.1985503505865154)\n",
      "(-4.563245494806561, -3.566851651724191)\n",
      "(-4.575127142799788, -4.087367182862172)\n",
      "(-4.577593965886483, -4.4952874034472305)\n"
     ]
    },
    {
     "data": {
      "application/vnd.jupyter.widget-view+json": {
       "model_id": "9c6f7f17d8e94b149923428e345c4b63",
       "version_major": 2,
       "version_minor": 0
      },
      "text/plain": [
       "  0%|          | 0/18000 [00:00<?, ?it/s]"
      ]
     },
     "metadata": {},
     "output_type": "display_data"
    },
    {
     "name": "stdout",
     "output_type": "stream",
     "text": [
      "(-0.646183949053294, -0.5832656701351238)\n",
      "(-1.6775358695950042, -1.2939030269984397)\n",
      "(-4.019050028615642, -1.9883364039550289)\n",
      "(-4.396678728763825, -2.472725785592788)\n",
      "(-4.51340723777067, -2.9163819154300685)\n",
      "(-4.563342109200509, -3.421122569873486)\n",
      "(-4.582153968888708, -4.111591735270621)\n",
      "(-4.586747282460301, -4.5019206390358075)\n"
     ]
    },
    {
     "data": {
      "application/vnd.jupyter.widget-view+json": {
       "model_id": "53ecc4408fb3492c9599ae8d8e1b867a",
       "version_major": 2,
       "version_minor": 0
      },
      "text/plain": [
       "  0%|          | 0/18000 [00:00<?, ?it/s]"
      ]
     },
     "metadata": {},
     "output_type": "display_data"
    },
    {
     "name": "stdout",
     "output_type": "stream",
     "text": [
      "(-0.5977921586442665, -0.5947582572402146)\n",
      "(-1.5640116640823185, -1.393202795533222)\n",
      "(-3.3917723034910003, -2.4955645807032556)\n",
      "(-4.4124695523786315, -2.90675137904009)\n",
      "(-4.507240927059586, -3.123875630915793)\n",
      "(-4.550905031464018, -3.426811298106774)\n",
      "(-4.575696114376649, -3.8987137613912424)\n",
      "(-4.582127107131661, -4.4764188159544345)\n"
     ]
    },
    {
     "data": {
      "application/vnd.jupyter.widget-view+json": {
       "model_id": "b1573b21ff474571aa84f4fe2da22b42",
       "version_major": 2,
       "version_minor": 0
      },
      "text/plain": [
       "  0%|          | 0/18000 [00:00<?, ?it/s]"
      ]
     },
     "metadata": {},
     "output_type": "display_data"
    },
    {
     "name": "stdout",
     "output_type": "stream",
     "text": [
      "(-0.6233061223221166, -0.6346993181959639)\n",
      "(-1.7406245359237726, -1.5533603522280337)\n",
      "(-3.787979538468442, -2.9274681310182444)\n"
     ]
    }
   ],
   "source": [
    "#splitnum = 5\n",
    "from livelossplot import PlotLosses\n",
    "for splitnum in range(33):\n",
    "    X_totrain,y_totrain = read.train_optimizedMLR(folderpath,folderpath2).delete_padding(Xtrain[splitnum]['lwswdtthuvw'],yall[splitnum][23][0])#yall_orig[splitnum][23][0])\n",
    "    X_tovalid,y_tovalid = read.train_optimizedMLR(folderpath,folderpath2).delete_padding(Xvalid[splitnum]['lwswdtthuvw'],yall[splitnum][23][1])#yall_orig[splitnum][23][1])\n",
    "    X_totest,y_totest = read.train_optimizedMLR(folderpath,folderpath2).delete_padding(Xtest[splitnum]['lwswdtthuvw'],yall[splitnum][23][2])#yall_orig[splitnum][23][2])\n",
    "    calc_device = 'cpu'\n",
    "    ###################################################################################\n",
    "    # Convert numpy arrays into tensors\n",
    "    ###################################################################################\n",
    "    train_Xtensor = torch.FloatTensor(X_totrain).to(calc_device)\n",
    "    train_ytensor = torch.FloatTensor(y_totrain).to(calc_device)\n",
    "    val_Xtensor = torch.FloatTensor(X_tovalid).to(calc_device)\n",
    "    val_ytensor = torch.FloatTensor(y_tovalid).to(calc_device)\n",
    "    test_Xtensor = torch.FloatTensor(X_totest).to(calc_device)\n",
    "    test_ytensor = torch.FloatTensor(y_totest).to(calc_device)\n",
    "    train_data = torch.utils.data.TensorDataset(train_Xtensor, train_ytensor)\n",
    "    val_data = torch.utils.data.TensorDataset(val_Xtensor, val_ytensor)\n",
    "    test_data = torch.utils.data.TensorDataset(test_Xtensor, test_ytensor)\n",
    "    ###################################################################################\n",
    "    # Eigenvectors for Custom Loss in Physical Space\n",
    "    ###################################################################################\n",
    "    #eigenvectors = [torch.FloatTensor(obj).to(calc_device) for obj in [upcs,vpcs,thpcs]]#[upcs,vpcs,wpcs,thpcs]]\n",
    "    ###################################################################################\n",
    "    # Variances to calculate r2 in Physical Space\n",
    "    ###################################################################################\n",
    "    #varu,varv,varw,varth = np.var(yTRUTH['train'][splitnum]['du']),np.var(yTRUTH['train'][splitnum]['dv']),np.var(yTRUTH['train'][splitnum]['dw']),np.var(yTRUTH['train'][splitnum]['dth'])\n",
    "    #varu,varv,varth = np.var(yTRUTH['train'][splitnum]['du']),np.var(yTRUTH['train'][splitnum]['dv']),np.var(yTRUTH['train'][splitnum]['dth'])\n",
    "    batch_size = 9\n",
    "    num_workers = 2\n",
    "    train_loader = torch.utils.data.DataLoader(\n",
    "        dataset=train_data,\n",
    "        batch_size=batch_size,\n",
    "        shuffle=True\n",
    "    )\n",
    "    val_loader = torch.utils.data.DataLoader(\n",
    "        dataset=val_data,\n",
    "        batch_size=batch_size,\n",
    "        shuffle=False\n",
    "    )\n",
    "    test_loader = torch.utils.data.DataLoader(\n",
    "        dataset=test_data,\n",
    "        batch_size=batch_size,\n",
    "        shuffle=False\n",
    "    )\n",
    "    \n",
    "    times = ['exp1a','exp1b','exp1c','exp1d','exp1e']\n",
    "    #times = ['exp2a','exp2b','exp2c']#,'exp1d','exp1e']\n",
    "    for i in range(len(times)):\n",
    "        models,losses = [],[]\n",
    "        #model = OptimMLR_all_2D()\n",
    "        model = OptimMLR_all_3D_simple_lwswhdia()\n",
    "        optimizers = [torch.optim.Adam(model.parameters(), lr=1e-7)]#, optim.AdaBound(model.parameters(),lr=1e-7)] 1e-6\n",
    "        loss = torch.nn.MSELoss()\n",
    "        for optimizer in optimizers:\n",
    "            scheduler2 = torch.optim.lr_scheduler.CyclicLR(optimizer, base_lr=1e-9, max_lr=1e-5,cycle_momentum=False)\n",
    "            scheduler = torch.optim.lr_scheduler.ReduceLROnPlateau(optimizer, 'min',min_lr=1e-18)\n",
    "            num_epochs = 1000*18#26\n",
    "            early_stopper = EarlyStopping(patience=50, verbose=False, delta=1e-7, path='checkpoint.pt', trace_func=print)#EarlyStopper(patience=8, min_delta=1e-3)\n",
    "            #variance_store = [varu,varv,varw,varth]\n",
    "            #variance_store = [varu,varv,varth]\n",
    "            model,loss = train_model(optimizer=optimizer,scheduler=[scheduler,scheduler2],numepochs=num_epochs,early_stopper=early_stopper,variance_store=None,\\\n",
    "                                     lossfunc=loss)\n",
    "            models.append(model)\n",
    "            losses.append(loss)\n",
    "        torch.save(models, './tmp/torch_try/lwswhdia/0/models'+str(splitnum)+'_LWSW3d_1115_'+str(times[i])+'.pt')\n",
    "        read_and_proc.save_to_pickle('./tmp/torch_try/lwswhdia/0/losses'+str(splitnum)+'_LWSW3d_1115_'+str(times[i])+'.pkt',losses,'PICKLE')"
   ]
  },
  {
   "cell_type": "markdown",
   "id": "2261333b-7bd4-4179-bce9-ecb7a2e717c7",
   "metadata": {},
   "source": [
    "#### LW+SW"
   ]
  },
  {
   "cell_type": "markdown",
   "id": "f6ce9a2d-90cb-4c7a-9a82-03dae62afbec",
   "metadata": {},
   "source": [
    "#### LW+SW+U+W"
   ]
  },
  {
   "cell_type": "code",
   "execution_count": 26,
   "id": "2c9403f3-8ab3-48b7-92c8-934c68b44fd3",
   "metadata": {},
   "outputs": [
    {
     "name": "stderr",
     "output_type": "stream",
     "text": [
      "/tmp/ipykernel_440483/4243838913.py:2: ProplotWarning: rc setting 'linewidth' was renamed to 'meta.width' in version 0.8.\n",
      "  plot.rc.update({'axes.labelweight':'normal','tick.labelweight':'normal','figure.facecolor':'w','title.color':'k','fontname': 'Source Sans Pro', 'fontsize': 11,'linewidth':1.25})\n"
     ]
    },
    {
     "data": {
      "image/png": "[encoded data removed]",
      "text/plain": [
       "Figure(nrows=1, ncols=1, refaspect=1.93, refwidth=4.3)"
      ]
     },
     "metadata": {
      "image/png": {
       "height": 279,
       "width": 487
      }
     },
     "output_type": "display_data"
    }
   ],
   "source": [
    "plot.rc.metacolor = 'k'\n",
    "plot.rc.update({'axes.labelweight':'normal','tick.labelweight':'normal','figure.facecolor':'w','title.color':'k','fontname': 'Source Sans Pro', 'fontsize': 11,'linewidth':1.25})\n",
    "plot.rc.axesfacecolor = 'w'\n",
    "\n",
    "fig, ax1 = plot.subplots(ncols=1,nrows=1,axwidth=4.295,refaspect=1.931,share=False)\n",
    "ax1.plot(np.log10(losses[0]['train'][:]),label='training loss')\n",
    "ax1.plot(np.log10(losses[0]['val'][:]),label='valid loss')\n",
    "ax1.format(xlabel='N. of Epochs', ylabel='log10(MSE loss)')\n",
    "plt.savefig('./analysis/pic/lossdiagram.png',dpi=400)\n",
    "plt.show()"
   ]
  },
  {
   "cell_type": "code",
   "execution_count": 36,
   "id": "ad84fc26-145a-4852-bd07-57783e607a3f",
   "metadata": {},
   "outputs": [
    {
     "name": "stderr",
     "output_type": "stream",
     "text": [
      "/tmp/ipykernel_1847357/3712731464.py:2: ProplotWarning: rc setting 'linewidth' was renamed to 'meta.width' in version 0.8.\n",
      "  plot.rc.update({'axes.labelweight':'normal','tick.labelweight':'normal','figure.facecolor':'w','title.color':'k','fontname': 'Source Sans Pro', 'fontsize': 11,'linewidth':1.25})\n"
     ]
    },
    {
     "data": {
      "image/png": "[encoded data removed]",
      "text/plain": [
       "Figure(nrows=1, ncols=1, refaspect=1.93, refwidth=4.3)"
      ]
     },
     "metadata": {
      "image/png": {
       "height": 279,
       "width": 488
      }
     },
     "output_type": "display_data"
    }
   ],
   "source": [
    "plot.rc.metacolor = 'k'\n",
    "plot.rc.update({'axes.labelweight':'normal','tick.labelweight':'normal','figure.facecolor':'w','title.color':'k','fontname': 'Source Sans Pro', 'fontsize': 11,'linewidth':1.25})\n",
    "plot.rc.axesfacecolor = 'w'\n",
    "\n",
    "fig, ax1 = plot.subplots(ncols=1,nrows=1,axwidth=4.295,refaspect=1.931,share=False)\n",
    "ax1.plot(np.log10(losses[0]['train'][:]),label='training loss')\n",
    "ax1.plot(np.log10(losses[0]['val'][:]),label='valid loss')\n",
    "ax1.format(xlabel='N. of Epochs', ylabel='log10(MSE loss)')#,ylim=[-8,-7.5])\n",
    "#plt.savefig('./analysis/pic/lossdiagram.png',dpi=400)\n",
    "plt.show()"
   ]
  },
  {
   "cell_type": "code",
   "execution_count": 30,
   "id": "74aa50b9-b6c5-454c-a4a8-c1bac0f3955f",
   "metadata": {},
   "outputs": [
    {
     "name": "stderr",
     "output_type": "stream",
     "text": [
      "/tmp/ipykernel_440483/1894499735.py:2: ProplotWarning: rc setting 'linewidth' was renamed to 'meta.width' in version 0.8.\n",
      "  plot.rc.update({'axes.labelweight':'normal','tick.labelweight':'normal','figure.facecolor':'w','title.color':'k','fontname': 'Source Sans Pro', 'fontsize': 11,'linewidth':1.25})\n"
     ]
    },
    {
     "data": {
      "image/png": "[encoded data removed]",
      "text/plain": [
       "Figure(nrows=1, ncols=1, refaspect=1.93, refwidth=4.3)"
      ]
     },
     "metadata": {
      "image/png": {
       "height": 279,
       "width": 488
      }
     },
     "output_type": "display_data"
    }
   ],
   "source": [
    "plot.rc.metacolor = 'k'\n",
    "plot.rc.update({'axes.labelweight':'normal','tick.labelweight':'normal','figure.facecolor':'w','title.color':'k','fontname': 'Source Sans Pro', 'fontsize': 11,'linewidth':1.25})\n",
    "plot.rc.axesfacecolor = 'w'\n",
    "\n",
    "fig, ax1 = plot.subplots(ncols=1,nrows=1,axwidth=4.295,refaspect=1.931,share=False)\n",
    "ax1.plot(np.log10(losses[0]['train'][:]),label='training loss')\n",
    "ax1.plot(np.log10(losses[0]['val'][:]),label='valid loss')\n",
    "ax1.format(xlabel='N. of Epochs', ylabel='log10(MSE loss)')\n",
    "plt.savefig('./analysis/pic/lossdiagram2.png',dpi=400)\n",
    "plt.show()"
   ]
  },
  {
   "cell_type": "code",
   "execution_count": 78,
   "id": "358001b0-55bc-476c-b2d0-2c7579549681",
   "metadata": {},
   "outputs": [
    {
     "name": "stdout",
     "output_type": "stream",
     "text": [
      "Collecting torch_optimizer\n",
      "  Downloading torch_optimizer-0.3.0-py3-none-any.whl (61 kB)\n",
      "\u001b[K     |████████████████████████████████| 61 kB 10 kB/s  eta 0:00:011\n",
      "\u001b[?25hRequirement already satisfied: torch>=1.5.0 in /work/FAC/FGSE/IDYST/tbeucler/default/freddy0218/miniconda3/lib/python3.9/site-packages (from torch_optimizer) (1.12.1)\n",
      "Collecting pytorch-ranger>=0.1.1\n",
      "  Downloading pytorch_ranger-0.1.1-py3-none-any.whl (14 kB)\n",
      "Requirement already satisfied: typing-extensions in /work/FAC/FGSE/IDYST/tbeucler/default/freddy0218/miniconda3/lib/python3.9/site-packages (from torch>=1.5.0->torch_optimizer) (4.3.0)\n",
      "Installing collected packages: pytorch-ranger, torch-optimizer\n",
      "Successfully installed pytorch-ranger-0.1.1 torch-optimizer-0.3.0\n"
     ]
    }
   ],
   "source": [
    "! pip install torch_optimizer"
   ]
  },
  {
   "cell_type": "code",
   "execution_count": 58,
   "id": "7e5e0c7d-cfc2-40ad-8190-3a1508370020",
   "metadata": {},
   "outputs": [],
   "source": [
    "def myMSE(tensorX=None, tensorY=None, model=None, pcastore=None,var=[varu,varv,varw,varth]):\n",
    "    def myscore(y_pred, y, var_y):\n",
    "        #var_y = torch.var(y, unbiased=False)\n",
    "        return (np.sum((y - y_pred)**2)) / var_y #mse/var\n",
    "    \n",
    "    utru = np.dot(tensorY.detach().numpy()[:,:26],pcastore['u'].components_[:26])\n",
    "    upre = np.dot(model(tensorX).detach().numpy()[:,:26],pcastore['u'].components_[:26])\n",
    "    vtru = np.dot(tensorY.detach().numpy()[:,26:26+18],pcastore['v'].components_[:18])\n",
    "    vpre = np.dot(model(tensorX).detach().numpy()[:,26:26+18],pcastore['v'].components_[:18])\n",
    "    wtru = np.dot(tensorY.detach().numpy()[:,26+18:26+18+48],pcastore['w'].components_[:48])\n",
    "    wpre = np.dot(model(tensorX).detach().numpy()[:,26+18:26+18+48],pcastore['w'].components_[:48])\n",
    "    thtru = np.dot(tensorY.detach().numpy()[:,26+18+48:26+18+48+14],pcastore['theta'].components_[:14])\n",
    "    thpre = np.dot(model(tensorX).detach().numpy()[:,26+18+48:26+18+48+14],pcastore['theta'].components_[:14])\n",
    "    \n",
    "    umse = myscore(upre,utru,var[0])\n",
    "    vmse = myscore(vpre,vtru,var[1])\n",
    "    wmse = myscore(wpre,wtru,var[2])\n",
    "    thmse = myscore(thpre,thtru,var[3])\n",
    "    return (umse+vmse+wmse+thmse)/4, umse,vmse,wmse,thmse"
   ]
  },
  {
   "cell_type": "code",
   "execution_count": 59,
   "id": "9e3fda40-8773-4fe6-9913-0ad9570be38a",
   "metadata": {},
   "outputs": [
    {
     "data": {
      "text/plain": [
       "(1195322.427734375,\n",
       " 612982.1281738281,\n",
       " 21422826.21875,\n",
       " 880272.7783203125,\n",
       " 66240.11946256868)"
      ]
     },
     "execution_count": 59,
     "metadata": {},
     "output_type": "execute_result"
    }
   ],
   "source": [
    "trainu_losses[-1],trainv_losses[-1],trainw_losses[-1],trainth_losses[-1],train_losses[-1]"
   ]
  },
  {
   "cell_type": "code",
   "execution_count": 35,
   "id": "154167dc-4fcf-4361-ab03-4e884ffb6851",
   "metadata": {},
   "outputs": [
    {
     "data": {
      "text/plain": [
       "(63199537080.81876,\n",
       " 90842320181.89835,\n",
       " 10618086608.285873,\n",
       " 150571363619.71063,\n",
       " 766377913.3802272)"
      ]
     },
     "execution_count": 35,
     "metadata": {},
     "output_type": "execute_result"
    }
   ],
   "source": [
    "myMSE(tensorX=train_Xtensor, tensorY=train_ytensor, model=model, pcastore=pcastore)"
   ]
  },
  {
   "cell_type": "code",
   "execution_count": 37,
   "id": "7af1deb4-b23b-41a1-8616-e8f629000940",
   "metadata": {},
   "outputs": [],
   "source": [
    "surfix = '1625'\n",
    "torch.save(models, './tmp/torch_try/1025/1/models_lwswuv_1102_'+str(surfix)+'.pt')\n",
    "read_and_proc.save_to_pickle('./tmp/torch_try/1025/1/losses_lwswuv_1102_'+str(surfix)+\n",
    "                '.pkt',losses,'PICKLE')"
   ]
  },
  {
   "cell_type": "code",
   "execution_count": 74,
   "id": "bb5eefa2-c63f-49ac-8592-7efb7afa1ac7",
   "metadata": {},
   "outputs": [
    {
     "ename": "NameError",
     "evalue": "name 'train_losses' is not defined",
     "output_type": "error",
     "traceback": [
      "\u001b[0;31m---------------------------------------------------------------------------\u001b[0m",
      "\u001b[0;31mNameError\u001b[0m                                 Traceback (most recent call last)",
      "Input \u001b[0;32mIn [74]\u001b[0m, in \u001b[0;36m<cell line: 2>\u001b[0;34m()\u001b[0m\n\u001b[1;32m      1\u001b[0m \u001b[38;5;66;03m#plt.plot([obj.detach().numpy() for obj in trainv_losses])\u001b[39;00m\n\u001b[0;32m----> 2\u001b[0m plt\u001b[38;5;241m.\u001b[39mplot(\u001b[43mtrain_losses\u001b[49m)\n\u001b[1;32m      3\u001b[0m plt\u001b[38;5;241m.\u001b[39mplot(val_losses)\n\u001b[1;32m      4\u001b[0m \u001b[38;5;66;03m#plt.plot(val_NSEs)\u001b[39;00m\n",
      "\u001b[0;31mNameError\u001b[0m: name 'train_losses' is not defined"
     ]
    }
   ],
   "source": [
    "#plt.plot([obj.detach().numpy() for obj in trainv_losses])\n",
    "plt.plot(train_losses)\n",
    "plt.plot(val_losses)\n",
    "#plt.plot(val_NSEs)\n",
    "plt.ylim(-2,1)\n",
    "plt.show()"
   ]
  },
  {
   "cell_type": "code",
   "execution_count": 119,
   "id": "9af89ad0-9d29-4fd4-af05-ef5197d51432",
   "metadata": {},
   "outputs": [],
   "source": [
    "aaaaaa_th = np.dot(test_ytensor.detach().numpy()[:,26+18+48:26+18+48+14],pcastore['theta'].components_[:14])\n",
    "aaaaaa_w = np.dot(test_ytensor.detach().numpy()[:,26+18:26+18+48],pcastore['w'].components_[:48])\n",
    "aaaaaa_v = np.dot(test_ytensor.detach().numpy()[:,26:26+18],pcastore['v'].components_[:18])\n",
    "aaaaaa_u = np.dot(test_ytensor.detach().numpy()[:,:26],pcastore['u'].components_[:26])"
   ]
  },
  {
   "cell_type": "code",
   "execution_count": 120,
   "id": "4cad2268-b93e-4ce2-aeb1-3148315116c6",
   "metadata": {},
   "outputs": [],
   "source": [
    "bbbbbb_th = np.dot(model(test_Xtensor).detach().numpy()[:,26+18+48:26+18+48+14],pcastore['theta'].components_[:14])\n",
    "bbbbbb_w = np.dot(model(test_Xtensor).detach().numpy()[:,26+18:26+18+48],pcastore['w'].components_[:48])\n",
    "bbbbbb_v = np.dot(model(test_Xtensor).detach().numpy()[:,26:26+18],pcastore['v'].components_[:18])\n",
    "bbbbbb_u = np.dot(model(test_Xtensor).detach().numpy()[:,:26],pcastore['u'].components_[:26])"
   ]
  },
  {
   "cell_type": "code",
   "execution_count": 108,
   "id": "99a866da-aef5-41a9-9415-07e652258fdf",
   "metadata": {},
   "outputs": [
    {
     "data": {
      "text/plain": [
       "(0.37951426305479874, 8.465318223185857e-05, 0.00013643050466981933)"
      ]
     },
     "execution_count": 108,
     "metadata": {},
     "output_type": "execute_result"
    }
   ],
   "source": [
    "def myr2(truth,pred):\n",
    "    MSE = np.sum((truth-pred)**2)\n",
    "    VAR = np.sum((truth-np.mean(truth))**2)\n",
    "    return np.mean(1-MSE/VAR), MSE,VAR\n",
    "myr2(aaaaaa,bbbbbb)"
   ]
  },
  {
   "cell_type": "code",
   "execution_count": 112,
   "id": "cb11e618-656d-4470-829c-aa674f65af90",
   "metadata": {},
   "outputs": [
    {
     "data": {
      "text/plain": [
       "(0.6406571144313491, 0.00023148038979969583, 0.0006441769103996147)"
      ]
     },
     "execution_count": 112,
     "metadata": {},
     "output_type": "execute_result"
    }
   ],
   "source": [
    "# v\n",
    "myr2(aaaaaa,bbbbbb) "
   ]
  },
  {
   "cell_type": "code",
   "execution_count": 115,
   "id": "edc9772b-9c53-4a1a-a8bf-4d509dbf779b",
   "metadata": {},
   "outputs": [
    {
     "data": {
      "text/plain": [
       "(-21.816496008088382, 1.0253462547992716e-05, 4.4938813323298603e-07)"
      ]
     },
     "execution_count": 115,
     "metadata": {},
     "output_type": "execute_result"
    }
   ],
   "source": [
    "# w (var/error)\n",
    "myr2(aaaaaa,bbbbbb)"
   ]
  },
  {
   "cell_type": "code",
   "execution_count": 118,
   "id": "5a82a82d-22c8-4a07-a338-4eac337809fb",
   "metadata": {},
   "outputs": [
    {
     "data": {
      "text/plain": [
       "(0.5462829087013954, 2.9929102560471313e-05, 6.596423880530894e-05)"
      ]
     },
     "execution_count": 118,
     "metadata": {},
     "output_type": "execute_result"
    }
   ],
   "source": [
    "# theta\n",
    "myr2(aaaaaa,bbbbbb)"
   ]
  },
  {
   "cell_type": "markdown",
   "id": "5cd379b9-ceaa-4431-9b9c-9bd32824f3f9",
   "metadata": {},
   "source": [
    "#### No Early Stopping"
   ]
  },
  {
   "cell_type": "code",
   "execution_count": 146,
   "id": "97b2d9e6-4ec2-403a-a2ea-74f416416dd2",
   "metadata": {},
   "outputs": [
    {
     "data": {
      "text/plain": [
       "0.5539370425094943"
      ]
     },
     "execution_count": 146,
     "metadata": {},
     "output_type": "execute_result"
    }
   ],
   "source": [
    "# theta\n",
    "myr2(aaaaaa,bbbbbb)"
   ]
  },
  {
   "cell_type": "code",
   "execution_count": 143,
   "id": "9afe783e-6f57-41de-9635-04761170fbb7",
   "metadata": {},
   "outputs": [
    {
     "data": {
      "text/plain": [
       "-10.444096639815301"
      ]
     },
     "execution_count": 143,
     "metadata": {},
     "output_type": "execute_result"
    }
   ],
   "source": [
    "# w\n",
    "myr2(aaaaaa,bbbbbb)"
   ]
  },
  {
   "cell_type": "code",
   "execution_count": 149,
   "id": "39cfcc57-0a71-46b7-b93f-7cab32652e3b",
   "metadata": {},
   "outputs": [
    {
     "data": {
      "text/plain": [
       "0.7852923241310666"
      ]
     },
     "execution_count": 149,
     "metadata": {},
     "output_type": "execute_result"
    }
   ],
   "source": [
    "# v\n",
    "myr2(aaaaaa,bbbbbb)"
   ]
  },
  {
   "cell_type": "code",
   "execution_count": 152,
   "id": "6dc0268b-188e-4ca8-a398-3c6c7238d9b5",
   "metadata": {},
   "outputs": [
    {
     "data": {
      "text/plain": [
       "0.36458807362049384"
      ]
     },
     "execution_count": 152,
     "metadata": {},
     "output_type": "execute_result"
    }
   ],
   "source": [
    "# u\n",
    "myr2(aaaaaa,bbbbbb)"
   ]
  },
  {
   "cell_type": "code",
   "execution_count": null,
   "id": "8fc49aca-290b-4450-b93c-bc4d12afcef6",
   "metadata": {},
   "outputs": [],
   "source": []
  }
 ],
 "metadata": {
  "kernelspec": {
   "display_name": "Python 3 (ipykernel)",
   "language": "python",
   "name": "python3"
  },
  "language_info": {
   "codemirror_mode": {
    "name": "ipython",
    "version": 3
   },
   "file_extension": ".py",
   "mimetype": "text/x-python",
   "name": "python",
   "nbconvert_exporter": "python",
   "pygments_lexer": "ipython3",
   "version": "3.9.7"
  }
 },
 "nbformat": 4,
 "nbformat_minor": 5
}
