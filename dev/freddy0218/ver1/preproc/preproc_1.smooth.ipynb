{
 "cells": [
  {
   "cell_type": "code",
   "execution_count": 1,
   "id": "a62453a7-5d7a-4898-9ca2-c0425535991f",
   "metadata": {},
   "outputs": [
    {
     "name": "stderr",
     "output_type": "stream",
     "text": [
      "/tmp/ipykernel_240536/918310841.py:22: ProplotWarning: rc setting 'linewidth' was renamed to 'meta.width' in version 0.8.\n",
      "  plot.rc.update({'figure.facecolor':'w','axes.labelweight':'ultralight',\n",
      "/work/FAC/FGSE/IDYST/tbeucler/default/freddy0218/miniconda3/envs/fred_workenv/lib/python3.9/site-packages/distributed/node.py:160: UserWarning: Port 8787 is already in use.\n",
      "Perhaps you already have a cluster running?\n",
      "Hosting the HTTP server on port 42847 instead\n",
      "  warnings.warn(\n"
     ]
    }
   ],
   "source": [
    "import warnings\n",
    "warnings.filterwarnings('ignore',category=RuntimeWarning)\n",
    "import xarray as xr\n",
    "import numpy as np\n",
    "import matplotlib as mpl\n",
    "import matplotlib.pyplot as plt\n",
    "import seaborn as sns\n",
    "import glob,os,sys\n",
    "from tqdm import tqdm\n",
    "import datetime\n",
    "import proplot as plot\n",
    "from wrf import getvar\n",
    "import json,pickle\n",
    "import dask.array as da\n",
    "import gc\n",
    "from sklearn.decomposition import PCA\n",
    "sys.path.insert(1, '/work/FAC/FGSE/IDYST/tbeucler/default/freddy0218/TCGphy/2020_TC_CRF/dev/freddy0218/')\n",
    "from tools import derive_var,read_and_proc,preproc_noensemble\n",
    "from tools.mlr import mlr\n",
    "from tools.preprocess import do_eof,preproc_maria\n",
    "%matplotlib inline\n",
    "plot.rc.update({'figure.facecolor':'w','axes.labelweight':'ultralight',\n",
    "                'tick.labelweight':'ultralight','gridminor.linestyle':'--','title.weight':'normal','linewidth':0.5})\n",
    "\n",
    "from dask.distributed import Client\n",
    "client = Client(processes=True, threads_per_worker=1,n_workers=2)\n",
    "import time\n",
    "import numpy as np"
   ]
  },
  {
   "cell_type": "code",
   "execution_count": 2,
   "id": "2d570de2-ff5c-41b8-bbd9-bc3a2bbc2325",
   "metadata": {},
   "outputs": [],
   "source": [
    "from sklearn.decomposition import PCA\n",
    "def smooth_array_along_axis(array=None,axis=None,window=3):\n",
    "    if axis==0:\n",
    "        aN = array.copy()\n",
    "    else:\n",
    "        aN = np.swapaxes(array,axis,0)\n",
    "    aN = aN.reshape((aN.shape[0], -1))\n",
    "    return np.asarray([np.convolve(aN[:,i],np.ones(window)/window,'same')[0:aN.shape[0]] for i in range(len(aN[0,:]))]).transpose()\n",
    "\n",
    "def dummy(inlist=None):\n",
    "    return inlist\n",
    "\n",
    "def do_PCA(array=None):\n",
    "    skpcaVAR = PCA()\n",
    "    skpcaVAR.fit(array)\n",
    "    return skpcaVAR"
   ]
  },
  {
   "cell_type": "code",
   "execution_count": 3,
   "id": "cff3ab13-dcae-4bf2-843f-8034148de869",
   "metadata": {},
   "outputs": [],
   "source": [
    "def forward_diff(arrayin=None,delta=None,axis=None,LT=1):\n",
    "    result = []\n",
    "    if axis==0:\n",
    "            for i in range(0,arrayin.shape[axis]-LT):\n",
    "                temp = (arrayin[i+LT,:]-arrayin[i,:])/(LT*delta)\n",
    "                result.append(temp)\n",
    "            return np.asarray(result)"
   ]
  },
  {
   "cell_type": "code",
   "execution_count": null,
   "id": "d981ed13-a714-4db7-a93e-f0a8b83e7dcf",
   "metadata": {
    "jupyter": {
     "source_hidden": true
    },
    "tags": []
   },
   "outputs": [],
   "source": [
    "ctl_du,ctl_dv,ctl_dw = preproc_noensemble.preproc_dudvdw('/scratch/08350/tg876493/ruppert2020/',\\\n",
    "                                                         '/scratch/06040/tg853394/tc/output/redux/maria/','ctl')\n",
    "ncrf_36h_du,ncrf_36h_dv,ncrf_36h_dw = preproc_noensemble.preproc_dudvdw('/scratch/08350/tg876493/ruppert2020/',\\\n",
    "                                                                        '/scratch/06040/tg853394/tc/output/redux/maria/','ncrf_36h')\n",
    "ncrf_60h_du,ncrf_60h_dv,ncrf_60h_dw = preproc_noensemble.preproc_dudvdw('/scratch/08350/tg876493/ruppert2020/',\\\n",
    "                                                                        '/scratch/06040/tg853394/tc/output/redux/maria/','ncrf_60h')\n",
    "lwcrf_du,lwcrf_dv,lwcrf_dw = preproc_noensemble.preproc_dudvdw('/scratch/08350/tg876493/ruppert2020/',\\\n",
    "                                                               '/scratch/06040/tg853394/tc/output/redux/maria/','lwcrf')\n",
    "\n",
    "ctl_dict = {\"du\":ctl_du,\"dv\":ctl_dv,\"dw\":ctl_dw}\n",
    "del ctl_du,ctl_dv,ctl_dw\n",
    "gc.collect()\n",
    "ncrf_36h_dict = {\"du\":ncrf_36h_du,\"dv\":ncrf_36h_dv,\"dw\":ncrf_36h_dw}\n",
    "del ncrf_36h_du,ncrf_36h_dv,ncrf_36h_dw\n",
    "gc.collect()\n",
    "ncrf_60h_dict = {\"du\":ncrf_60h_du,\"dv\":ncrf_60h_dv,\"dw\":ncrf_60h_dw}\n",
    "del ncrf_60h_du,ncrf_60h_dv,ncrf_60h_dw\n",
    "gc.collect()\n",
    "lwcrf_dict = {\"du\":lwcrf_du,\"dv\":lwcrf_dv,\"dw\":lwcrf_dw}\n",
    "del lwcrf_du,lwcrf_dv,lwcrf_dw\n",
    "gc.collect()"
   ]
  },
  {
   "cell_type": "code",
   "execution_count": 7,
   "id": "b407de53-9847-4ae5-8809-43fc10abf887",
   "metadata": {
    "tags": []
   },
   "outputs": [
    {
     "name": "stdout",
     "output_type": "stream",
     "text": [
      "---Finish!---\n",
      "---Finish!---\n",
      "---Finish!---\n",
      "---Finish!---\n"
     ]
    }
   ],
   "source": [
    "import importlib\n",
    "importlib.reload(preproc_maria)\n",
    "############################################################################################################################################################\n",
    "# uvw-heatsum\n",
    "############################################################################################################################################################\n",
    "#ctl_outdict,_ = preproc_maria.preprocess('/scratch/itam/maria/processed/','/scratch/itam/maria/','ctl',5,'new',True,[3,0,0,0],'preproc_dict1b_g').preproc_uvwF(smooth=True)\n",
    "#preproc_maria.preprocess('/scratch/itam/maria/processed/','/scratch/itam/maria/','ncrf_36h',5,'new',True,[3,0,0,0],'preproc_dict1b_g').preproc_uvwF(smooth=True)\n",
    "#preproc_maria.preprocess('/scratch/itam/maria/processed/','/scratch/itam/maria/','ncrf_60h',5,'new',True,[3,0,0,0],'preproc_dict1b_g').preproc_uvwF(smooth=True)\n",
    "#preproc_maria.preprocess('/scratch/itam/maria/processed/','/scratch/itam/maria/','lwcrf',5,'new',True,[3,0,0,0],'preproc_dict1b_g').preproc_uvwF(smooth=True)\n",
    "############################################################################################################################################################\n",
    "# dudvdw\n",
    "############################################################################################################################################################\n",
    "#dudvdw_outdict = preproc_maria.preprocess('/scratch/itam/maria/processed/','/scratch/itam/maria/','ctl',5,'new').preproc_dudvdw()\n",
    "############################################################################################################################################################\n",
    "# dthdQ\n",
    "#dthdq_outdict = preproc_maria.preprocess('/scratch/itam/maria/processed/','/scratch/itam/maria/','ctl',5,'new').preproc_dthdQ()\n",
    "############################################################################################################################################################\n",
    "############################################################################################################################################################\n",
    "# Smoothed and flattened theta\n",
    "############################################################################################################################################################\n",
    "#ctl_outdict = preproc_maria.preprocess('/scratch/itam/maria/processed/','/scratch/itam/maria/','ctl',5,'new').preproc_onevar('theta','orig',None)\n",
    "#ncrf36_outdict = preproc_maria.preprocess('/scratch/itam/maria/processed/','/scratch/itam/maria/','ncrf_36h',5,'new').preproc_onevar('theta','orig',None)\n",
    "#ncrf60_outdict = preproc_maria.preprocess('/scratch/itam/maria/processed/','/scratch/itam/maria/','ncrf_60h',5,'new').preproc_onevar('theta','orig',None)\n",
    "#lwcrf_outdict = preproc_maria.preprocess('/scratch/itam/maria/processed/','/scratch/itam/maria/','lwcrf',5,'new').preproc_onevar('theta','orig',None)\n",
    "#theta_outdict = {'ctlTHETA':ctl_outdict['theta'],'ncrf36THETA':ncrf36_outdict['theta'],'ncrf60THETA':ncrf60_outdict['theta'],\\\n",
    "#                 'lwcrfTHETA':lwcrf_outdict['theta']}\n",
    "############################################################################################################################################################\n",
    "ctl_outdict = preproc_maria.preprocess('/scratch/itam/maria/processed/','/scratch/itam/maria/','ctl',5,'new',True,[3,0,0,0],'preproc_dict1b_g').preproc_heateq('IR')\n",
    "ncrf36_outdict = preproc_maria.preprocess('/scratch/itam/maria/processed/','/scratch/itam/maria/','ncrf_36h',5,'new',True,[3,0,0,0],'preproc_dict1b_g').preproc_heateq('IR')\n",
    "ncrf60_outdict = preproc_maria.preprocess('/scratch/itam/maria/processed/','/scratch/itam/maria/','ncrf_60h',5,'new',True,[3,0,0,0],'preproc_dict1b_g').preproc_heateq('IR')\n",
    "lwcrf_outdict = preproc_maria.preprocess('/scratch/itam/maria/processed/','/scratch/itam/maria/','lwcrf',5,'new',True,[3,0,0,0],'preproc_dict1b_g').preproc_heateq('IR')\n",
    "ir_outdict = {'ctlIR':ctl_outdict['HEAT'],'ncrf36IR':ncrf36_outdict['HEAT'],'ncrf60IR':ncrf60_outdict['HEAT'],'lwcrfIR':lwcrf_outdict['HEAT']}\n",
    "noir_outdict = {'ctlNOIR':ctl_outdict['NOHEAT'],'ncrf36NOIR':ncrf36_outdict['NOHEAT'],'ncrf60NOIR':ncrf60_outdict['NOHEAT'],'lwcrfNOIR':lwcrf_outdict['NOHEAT']}"
   ]
  },
  {
   "cell_type": "code",
   "execution_count": 8,
   "id": "a3d0858d-ffcf-4854-ba66-674c6954f4c3",
   "metadata": {
    "tags": []
   },
   "outputs": [],
   "source": [
    "expname = 'IR'\n",
    "folderpath='/work/FAC/FGSE/IDYST/tbeucler/default/freddy0218/TCGphy/2020_TC_CRF/dev/freddy0218/'\n",
    "read_and_proc.save_to_pickle(folderpath+'pca/output/uvwheat/'+str(expname)+'_'+'preproc_dict1_g_onevar',ir_outdict,'PICKLE')\n",
    "\n",
    "expname = 'NOIR'\n",
    "read_and_proc.save_to_pickle(folderpath+'pca/output/uvwheat/'+str(expname)+'_'+'preproc_dict1_g_onevar',noir_outdict,'PICKLE')"
   ]
  },
  {
   "cell_type": "code",
   "execution_count": 10,
   "id": "6f07c75b-d7bf-44c1-92e4-61b133aa97ea",
   "metadata": {},
   "outputs": [],
   "source": [
    "folderpath='/work/FAC/FGSE/IDYST/tbeucler/default/freddy0218/TCGphy/2020_TC_CRF/dev/freddy0218/'\n",
    "irdict = read_and_proc.depickle(folderpath+'pca/output/flatvar/NOIR_'+'preproc_dict1')"
   ]
  },
  {
   "cell_type": "code",
   "execution_count": 4,
   "id": "7971c4c9-4955-4d36-9a41-8dddf60e7a5a",
   "metadata": {
    "jupyter": {
     "source_hidden": true
    },
    "tags": []
   },
   "outputs": [],
   "source": [
    "expname = ['ctl','ncrf_60h']\n",
    "folderpath='/work/FAC/FGSE/IDYST/tbeucler/default/freddy0218/TCGphy/2020_TC_CRF/dev/freddy0218/'\n",
    "listdict = [read_and_proc.depickle(folderpath+'pca/output/uvwheat/test/'+str(expname[i])+'_'+'preproc_dict1') for i in range(2)]"
   ]
  },
  {
   "cell_type": "code",
   "execution_count": null,
   "id": "e00fc761-2064-41ff-bfbc-f67e7e793235",
   "metadata": {},
   "outputs": [],
   "source": [
    "fig,axs = plot.subplots(ncols=2,nrows=1,axwidth=2.095,refaspect=0.831)\n",
    "var = 'NOIR'\n",
    "axs[0].plot(np.nanmean(irdict['ctlNOIR'][58].reshape(39,360,167),axis=(1,2)),np.linspace(0,38,39))\n",
    "axs[0].plot(np.nanmean(irdict['ncrf60NOIR'][58].reshape(39,360,167),axis=(1,2)),np.linspace(0,38,39))\n",
    "axs[0].format(title=str(var)+';T=58hr')\n",
    "axs[1].plot(np.nanmean(irdict['ctlNOIR'][59].reshape(39,360,167),axis=(1,2)),np.linspace(0,38,39),label='CTRL')\n",
    "axs[1].plot(np.nanmean(irdict['ncrf60NOIR'][59].reshape(39,360,167),axis=(1,2)),np.linspace(0,38,39),label='NCRF60')\n",
    "axs[1].format(title=str(var)+';T=59hr')\n",
    "axs[1].legend(loc='lr',ncols=1)\n",
    "plt.savefig('./figures/'+str(var)+'_new.png',dpi=200)\n",
    "plt.show()"
   ]
  },
  {
   "cell_type": "code",
   "execution_count": null,
   "id": "71e96a48-d308-4bda-a0ff-2b2228c75ebb",
   "metadata": {},
   "outputs": [],
   "source": []
  }
 ],
 "metadata": {
  "kernelspec": {
   "display_name": "Python 3 (ipykernel)",
   "language": "python",
   "name": "python3"
  },
  "language_info": {
   "codemirror_mode": {
    "name": "ipython",
    "version": 3
   },
   "file_extension": ".py",
   "mimetype": "text/x-python",
   "name": "python",
   "nbconvert_exporter": "python",
   "pygments_lexer": "ipython3",
   "version": "3.9.7"
  }
 },
 "nbformat": 4,
 "nbformat_minor": 5
}
