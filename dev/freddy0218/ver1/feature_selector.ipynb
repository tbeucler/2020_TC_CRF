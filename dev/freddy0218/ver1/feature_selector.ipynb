{
 "cells": [
  {
   "cell_type": "code",
   "execution_count": 1,
   "id": "9dbd1263-3e6e-4915-a3b9-337ad9380386",
   "metadata": {},
   "outputs": [
    {
     "name": "stderr",
     "output_type": "stream",
     "text": [
      "distributed.diskutils - INFO - Found stale lock file and directory '/work/FAC/FGSE/IDYST/tbeucler/default/freddy0218/TCGphy/testML/dask-worker-space/worker-sj0nl3yo', purging\n",
      "distributed.diskutils - INFO - Found stale lock file and directory '/work/FAC/FGSE/IDYST/tbeucler/default/freddy0218/TCGphy/testML/dask-worker-space/worker-qfei6m22', purging\n",
      "/tmp/ipykernel_856926/2023895885.py:23: ProplotWarning: rc setting 'linewidth' was renamed to 'meta.width' in version 0.8.\n",
      "  plot.rc.update({'figure.facecolor':'w','axes.labelweight':'ultralight',\n"
     ]
    }
   ],
   "source": [
    "import warnings\n",
    "warnings.filterwarnings('ignore',category=RuntimeWarning)\n",
    "import xarray as xr\n",
    "import numpy as np\n",
    "import matplotlib as mpl\n",
    "import matplotlib.pyplot as plt\n",
    "import seaborn as sns\n",
    "import glob,os,sys\n",
    "from tqdm import tqdm\n",
    "import proplot as plot\n",
    "import json,pickle\n",
    "import dask.array as da\n",
    "import gc\n",
    "from sklearn.decomposition import PCA\n",
    "sys.path.insert(1, '/work/FAC/FGSE/IDYST/tbeucler/default/freddy0218/TCGphy/2020_TC_CRF/dev/freddy0218/')\n",
    "from tools import derive_var,read_and_proc,preproc_noensemble\n",
    "from tools.mlr import mlr,proc_mlrfcst\n",
    "from tools.preprocess import do_eof,preproc_maria\n",
    "import feature_select\n",
    "from dask.distributed import Client\n",
    "client = Client(processes=True, threads_per_worker=1,n_workers=2)\n",
    "%matplotlib inline\n",
    "plot.rc.update({'figure.facecolor':'w','axes.labelweight':'ultralight',\n",
    "                'tick.labelweight':'ultralight','gridminor.linestyle':'--','title.weight':'normal','linewidth':0.5})"
   ]
  },
  {
   "cell_type": "markdown",
   "id": "dee825ca-3f6f-48ed-abd7-56c440500266",
   "metadata": {},
   "source": [
    "#### Reconstruct - I. Input save variables"
   ]
  },
  {
   "cell_type": "code",
   "execution_count": 2,
   "id": "c2c99058-5084-4758-a6dc-dc0da32130e6",
   "metadata": {},
   "outputs": [
    {
     "name": "stderr",
     "output_type": "stream",
     "text": [
      "/work/FAC/FGSE/IDYST/tbeucler/default/freddy0218/miniconda3/envs/fred_workenv/lib/python3.9/site-packages/sklearn/base.py:329: UserWarning: Trying to unpickle estimator PCA from version 0.23.2 when using version 1.0.2. This might lead to breaking code or invalid results. Use at your own risk. For more info please refer to:\n",
      "https://scikit-learn.org/stable/modules/model_persistence.html#security-maintainability-limitations\n",
      "  warnings.warn(\n"
     ]
    },
    {
     "name": "stdout",
     "output_type": "stream",
     "text": [
      "--finish--\n"
     ]
    },
    {
     "data": {
      "text/plain": [
       "110"
      ]
     },
     "execution_count": 2,
     "metadata": {},
     "output_type": "execute_result"
    }
   ],
   "source": [
    "############################################################################################################################################\n",
    "# PCA_dict: Processed EOF objects; A_dict: Variable anomaly matrices; Af_dict: Flattened variable anomaly matrices\n",
    "# *note that following EOF conventions, we derived EOFs with anomalies.\n",
    "############################################################################################################################################\n",
    "# Basic settings\n",
    "folderpath='/work/FAC/FGSE/IDYST/tbeucler/default/freddy0218/TCGphy/2020_TC_CRF/dev/freddy0218/pca/output/uvwheat/'\n",
    "expname = ['ctl','ncrf_36h','ncrf_60h','lwcrf']\n",
    "varname = ['u','v','w']\n",
    "nummem = [54,26,50,5,75,36]#[22,8,35,5,19,36]#[12,3,26,5,3,19]#[36,16,44,8,6,23]\n",
    "PCAdict = read_and_proc.depickle(folderpath+'PCA/ctl_PCA_dict1')\n",
    "PCAtheta = read_and_proc.depickle(folderpath+'PCA/theta_PCA_dict1')\n",
    "PCAdict['theta'] = PCAtheta['theta']\n",
    "# Read files\n",
    "flatvar = [read_and_proc.depickle(folderpath+'preproc/'+str(expname[i])+'_'+'preproc_dict1') for i in range(len(expname))]\n",
    "print('--finish--')\n",
    "# theta\n",
    "folderpath='/work/FAC/FGSE/IDYST/tbeucler/default/freddy0218/TCGphy/2020_TC_CRF/dev/freddy0218/pca/output/flatvar/'\n",
    "thetavar = read_and_proc.depickle(folderpath+'theta_'+'preproc_dict1')\n",
    "vardicts = mlr.preproc_data(PCAdict,folderpath,varname,nummem).readvar(listdict=flatvar,withtheta='No',thetaflat=thetavar,smooth24=False)\n",
    "\n",
    "del flatvar,thetavar,PCAtheta\n",
    "gc.collect()\n",
    "#duvwsen_dict = preproc_data('/scratch/08350/tg876493/ruppert2020/output/',['du','dv','dw']).senfile('/ctrlbase/','_CORR',True)"
   ]
  },
  {
   "cell_type": "markdown",
   "id": "f2992c57-920d-4792-aff1-b24c2c6aed38",
   "metadata": {},
   "source": [
    "#### ForwardFeatureSelector"
   ]
  },
  {
   "cell_type": "code",
   "execution_count": 3,
   "id": "f76ad5b1-d78e-4b86-925a-38e2d1a27f16",
   "metadata": {},
   "outputs": [],
   "source": [
    "from sklearn.feature_selection import SelectorMixin\n",
    "from sklearn.metrics import r2_score\n",
    "from sklearn.base import BaseEstimator, MetaEstimatorMixin, clone\n",
    "from sklearn.model_selection import cross_val_score\n",
    "import numpy as np\n",
    "import gc\n",
    "import importlib\n",
    "importlib.reload(proc_mlrfcst)\n",
    "importlib.reload(mlr)\n",
    "\n",
    "class forwardfeatureadder(BaseEstimator,SelectorMixin,MetaEstimatorMixin):\n",
    "    \"\"\"Transformer to add feature at a sequential order\n",
    "    Parameters:\n",
    "    estimator: Regression model\n",
    "    n_features_to_select: number of features to add to the model\n",
    "    cv: how many folds would we want during cross-validation\n",
    "    n_jobs: Parallelization\n",
    "    startfeatures: Features we would like to include in the model without cross-validation [we do this to accentuate the role of heating]\n",
    "    \n",
    "    Output:\n",
    "    self instance\n",
    "    \"\"\"\n",
    "    def __init__(self,estimator,n_features_to_select=None,cv=5,n_jobs=None,startfeatures=None,PCAdict=None,Afdict=None,numcomp=None,LT=None,optigoal='surface',Xsurf=None,Ysurf=None):\n",
    "        self.estimator = estimator\n",
    "        self.n_features_to_select = n_features_to_select\n",
    "        self.cv = cv\n",
    "        self.n_jobs = n_jobs\n",
    "        self.startfeatures = startfeatures\n",
    "        self.PCAdict = PCAdict\n",
    "        self.Afdict = Afdict\n",
    "        self.numcomp = numcomp\n",
    "        self.LT = LT\n",
    "        self.optigoal = optigoal\n",
    "        self.Xsurf=Xsurf\n",
    "        self.Ysurf=Ysurf\n",
    "    \n",
    "    def get_real_winds(self):\n",
    "        temp1,temp2,temp3,temp4 = proc_mlrfcst.retrieve_cartesian(PCA_dict=self.PCAdict,Af_dict=self.Afdict,numcomp=self.numcomp,LT=self.LT,\n",
    "                            forecastPC=None).windrates_real(LT=self.LT)\n",
    "        return temp1,temp2,temp3,temp4\n",
    "    \n",
    "    def convert_forecast_winds(self,yforecast=None):\n",
    "        try:\n",
    "            temp1,temp2,temp3,temp4 = proc_mlrfcst.retrieve_cartesian(PCA_dict=self.PCAdict,Af_dict=self.Afdict,numcomp=self.numcomp,LT=self.LT,\n",
    "                                                                      forecastPC=yforecast).output_reshapeRECON(forecast_eig=yforecast[int(self.LT[i]-1)])\n",
    "            return temp1,temp2,temp3,temp4\n",
    "        except:\n",
    "            temp1,temp2 = proc_mlrfcst.retrieve_cartesian(PCA_dict=self.PCAdict,Af_dict=self.Afdict,numcomp=self.numcomp,LT=self.LT,\n",
    "                                                                      forecastPC=yforecast,target='surface').output_reshapeRECON(forecast_eig=yforecast)        \n",
    "            return temp1,temp2\n",
    "    \n",
    "    def fit(self, X,y=None):\n",
    "        \"\"\"Learn features to select from X.\n",
    "        X (n_samples,n_features): Training vectors\n",
    "        Y (n_samples): Target values\n",
    "        \"\"\"\n",
    "        # Define basic settings\n",
    "        n_features = X.shape[1]\n",
    "        current_mask = np.zeros(shape=n_features,dtype=bool)\n",
    "        for index in self.startfeatures:\n",
    "            current_mask[index] = True\n",
    "        n_iteractions = self.n_features_to_select\n",
    "        \n",
    "        # Do forward selection\n",
    "        addinput,r2 = [],[]\n",
    "        clone_estimator = clone(self.estimator)\n",
    "        for _ in range(n_iteractions):\n",
    "            #new_feature_idx,r2t = self.get_best_new_feature_R2based(clone_estimator,X,y,current_mask)\n",
    "            new_feature_idx = self.get_best_new_feature(clone_estimator,X,y,current_mask)\n",
    "            #r2.append(r2t)\n",
    "            current_mask[new_feature_idx] = True\n",
    "            addinput.append(current_mask)\n",
    "        \n",
    "        self.support_ = current_mask\n",
    "        self.new_feature = new_feature_idx\n",
    "        self.r2 = r2\n",
    "        return self\n",
    "    \n",
    "    def get_best_new_feature(self,estimator,X,y,current_mask):\n",
    "        candidate_feature_indices = np.flatnonzero(~current_mask)\n",
    "        scores={}\n",
    "        for feature_idx in candidate_feature_indices:\n",
    "            candidate_mask = current_mask.copy()\n",
    "            candidate_mask[feature_idx] = True\n",
    "            \n",
    "            # Add a new feature\n",
    "            X_new = X[:,candidate_mask]\n",
    "            # Improvement\n",
    "            scores[feature_idx] = cross_val_score(estimator,X_new,y,cv=self.cv,scoring=None,n_jobs=self.n_jobs).mean()\n",
    "        return max(scores,key=lambda feature_idx: scores[feature_idx])\n",
    "    \n",
    "    #--------------------------------------------------------------\n",
    "    # To do -> Add featureselector based on r2\n",
    "    # Candidate mask -> Xnew\n",
    "    # fit linear model with (Xnew,y)\n",
    "    # {output r2 term [time consideration => target: surface u/v]}...repeat for all u/v/w/theta members\n",
    "    # get component index that results in best r2 score\n",
    "    # --------[[Exit loops when r2 reaches 0.75?]]-----------------\n",
    "    # add to mask during fitting \n",
    "    #---------------------------------------------------------------------------------------------------\n",
    "    def get_best_new_feature_R2based(self,estimator,X,y,current_mask):             \n",
    "        candidate_feature_indices = np.flatnonzero(~current_mask)\n",
    "        scores={}\n",
    "        for feature_idx in candidate_feature_indices:\n",
    "            candidate_mask = current_mask.copy()\n",
    "            candidate_mask[feature_idx] = True\n",
    "            # Add a new feature\n",
    "            X_new = X[:,candidate_mask]\n",
    "            # Improvement\n",
    "            LDTME = np.linspace(0,44,45)+1\n",
    "            y_forecast = mlr.model_fitpredict(X_new,y,estimator,LDTME).modelfit(singleLT=True)[0].predict(X_new)\n",
    "            #################################################################################################################################################################################################################\n",
    "            # Forecast winds\n",
    "            #################################################################################################################################################################################################################\n",
    "            if self.optigoal=='surface':\n",
    "                teMP1,teMP2 = self.convert_forecast_winds(y_forecast)\n",
    "                teMP1s,teMP2s = (teMP1.reshape(teMP1.shape[0],39,360,167)[:,0,:,:]).reshape(teMP1.shape[0],360*167),(teMP2.reshape(teMP2.shape[0],39,360,167)[:,0,:,:]).reshape(teMP2.shape[0],360*167)\n",
    "                del teMP1,teMP2\n",
    "                gc.collect()\n",
    "                \n",
    "                scores[feature_idx] = r2_score(np.concatenate((self.Xsurf,self.Ysurf),axis=0),np.concatenate((teMP1s,teMP2s),axis=0))\n",
    "            else:\n",
    "                teMP1,teMP2,teMP3,teMP4 = self.convert_forecast_winds(y_forecast)                \n",
    "                scores[feature_idx] = r2_score(np.concatenate((reteMP1,reteMP2,reteMP3,reteMP4),axis=0),np.concatenate((teMP1,teMP2,teMP3,teMP4),axis=0))\n",
    "        return max(scores,key=lambda feature_idx: scores[feature_idx]),max(scores.values())\n",
    "    \n",
    "    def _get_support_mask(self):\n",
    "        return self.support_"
   ]
  },
  {
   "cell_type": "markdown",
   "id": "d8830b03-0660-4b6a-a968-cad7fdc56a27",
   "metadata": {
    "tags": []
   },
   "source": [
    "##### Train"
   ]
  },
  {
   "cell_type": "code",
   "execution_count": 4,
   "id": "f000db73-d629-4678-988f-a405d3e80553",
   "metadata": {},
   "outputs": [],
   "source": [
    "from tools.mlr import mlr,proc_mlrfcst\n",
    "from sklearn.pipeline import Pipeline\n",
    "from sklearn.linear_model import LinearRegression\n",
    "from sklearn.feature_selection import SequentialFeatureSelector\n",
    "\n",
    "path = '/work/FAC/FGSE/IDYST/tbeucler/default/freddy0218/TCGphy/2020_TC_CRF/dev/freddy0218/pca/output/complex/Q95_complex/'\n",
    "file2 = [path+'inputoutput/'+'inputQ95_dict_smoo6_withtheta',path+'inputoutput/'+'outputQ95_dict_smoo6_withtheta']#,path+'NOIR_dict_smoo6_withtheta',path+'IR_dict_smoo6_withtheta']\n",
    "mlr_inputdict,mlr_output = read_and_proc.depickle(file2[0]),read_and_proc.depickle(file2[1])"
   ]
  },
  {
   "cell_type": "code",
   "execution_count": 5,
   "id": "16b24643-8bd1-4e86-b7ed-a459a931e0ac",
   "metadata": {
    "tags": []
   },
   "outputs": [
    {
     "name": "stderr",
     "output_type": "stream",
     "text": [
      " 23%|███████████████████████████████████████████████████████▋                                                                                                                                                                                      | 48/205 [2:16:16<7:25:43, 170.34s/it]\n",
      "distributed.nanny - WARNING - Restarting worker\n",
      "distributed.nanny - WARNING - Restarting worker\n"
     ]
    },
    {
     "ename": "KeyboardInterrupt",
     "evalue": "",
     "output_type": "error",
     "traceback": [
      "\u001b[0;31m---------------------------------------------------------------------------\u001b[0m",
      "\u001b[0;31mKeyboardInterrupt\u001b[0m                         Traceback (most recent call last)",
      "Input \u001b[0;32mIn [5]\u001b[0m, in \u001b[0;36m<cell line: 12>\u001b[0;34m()\u001b[0m\n\u001b[1;32m     11\u001b[0m model,reducedX,new_feature \u001b[38;5;241m=\u001b[39m [],[],[]\n\u001b[1;32m     12\u001b[0m \u001b[38;5;28;01mfor\u001b[39;00m i \u001b[38;5;129;01min\u001b[39;00m tqdm(\u001b[38;5;28mrange\u001b[39m(np\u001b[38;5;241m.\u001b[39masarray(mlrIN)\u001b[38;5;241m.\u001b[39mshape[\u001b[38;5;241m1\u001b[39m]\u001b[38;5;241m-\u001b[39m\u001b[38;5;241m36\u001b[39m)):\n\u001b[1;32m     13\u001b[0m     \u001b[38;5;66;03m#seq_temp = forwardfeatureadder(linreg,i+1,3,2,[int(obj) for obj in np.linspace(241-36,240,36)],\\\u001b[39;00m\n\u001b[1;32m     14\u001b[0m     \u001b[38;5;66;03m#                              PCAdict,vardicts,nummem,24,'surface',reteMP1s,reteMP2s).fit(np.asarray(mlrIN),mlrOUT)\u001b[39;00m\n\u001b[0;32m---> 15\u001b[0m     seq_temp \u001b[38;5;241m=\u001b[39m \u001b[43mforwardfeatureadder\u001b[49m\u001b[43m(\u001b[49m\u001b[43mlinreg\u001b[49m\u001b[43m,\u001b[49m\u001b[43mi\u001b[49m\u001b[38;5;241;43m+\u001b[39;49m\u001b[38;5;241;43m1\u001b[39;49m\u001b[43m,\u001b[49m\u001b[38;5;241;43m3\u001b[39;49m\u001b[43m,\u001b[49m\u001b[38;5;241;43m2\u001b[39;49m\u001b[43m,\u001b[49m\u001b[43m[\u001b[49m\u001b[38;5;28;43mint\u001b[39;49m\u001b[43m(\u001b[49m\u001b[43mobj\u001b[49m\u001b[43m)\u001b[49m\u001b[43m \u001b[49m\u001b[38;5;28;43;01mfor\u001b[39;49;00m\u001b[43m \u001b[49m\u001b[43mobj\u001b[49m\u001b[43m \u001b[49m\u001b[38;5;129;43;01min\u001b[39;49;00m\u001b[43m \u001b[49m\u001b[43mnp\u001b[49m\u001b[38;5;241;43m.\u001b[39;49m\u001b[43mlinspace\u001b[49m\u001b[43m(\u001b[49m\u001b[38;5;241;43m241\u001b[39;49m\u001b[38;5;241;43m-\u001b[39;49m\u001b[38;5;241;43m36\u001b[39;49m\u001b[43m,\u001b[49m\u001b[38;5;241;43m240\u001b[39;49m\u001b[43m,\u001b[49m\u001b[38;5;241;43m36\u001b[39;49m\u001b[43m)\u001b[49m\u001b[43m]\u001b[49m\u001b[43m,\u001b[49m\u001b[43m\\\u001b[49m\n\u001b[1;32m     16\u001b[0m \u001b[43m                                  \u001b[49m\u001b[43mPCAdict\u001b[49m\u001b[43m,\u001b[49m\u001b[43mvardicts\u001b[49m\u001b[43m,\u001b[49m\u001b[43mnummem\u001b[49m\u001b[43m,\u001b[49m\u001b[38;5;241;43m24\u001b[39;49m\u001b[43m,\u001b[49m\u001b[38;5;124;43m'\u001b[39;49m\u001b[38;5;124;43msurface\u001b[39;49m\u001b[38;5;124;43m'\u001b[39;49m\u001b[43m,\u001b[49m\u001b[38;5;28;43;01mNone\u001b[39;49;00m\u001b[43m,\u001b[49m\u001b[38;5;28;43;01mNone\u001b[39;49;00m\u001b[43m)\u001b[49m\u001b[38;5;241;43m.\u001b[39;49m\u001b[43mfit\u001b[49m\u001b[43m(\u001b[49m\u001b[43mnp\u001b[49m\u001b[38;5;241;43m.\u001b[39;49m\u001b[43masarray\u001b[49m\u001b[43m(\u001b[49m\u001b[43mmlrIN\u001b[49m\u001b[43m)\u001b[49m\u001b[43m,\u001b[49m\u001b[43mmlrOUT\u001b[49m\u001b[43m)\u001b[49m\n\u001b[1;32m     17\u001b[0m     new_feature\u001b[38;5;241m.\u001b[39mappend(seq_temp\u001b[38;5;241m.\u001b[39mnew_feature)\n\u001b[1;32m     18\u001b[0m     Xn \u001b[38;5;241m=\u001b[39m seq_temp\u001b[38;5;241m.\u001b[39mtransform(np\u001b[38;5;241m.\u001b[39masarray(mlrIN)) \u001b[38;5;66;03m#Remove unimportant features\u001b[39;00m\n",
      "Input \u001b[0;32mIn [3]\u001b[0m, in \u001b[0;36mforwardfeatureadder.fit\u001b[0;34m(self, X, y)\u001b[0m\n\u001b[1;32m     66\u001b[0m clone_estimator \u001b[38;5;241m=\u001b[39m clone(\u001b[38;5;28mself\u001b[39m\u001b[38;5;241m.\u001b[39mestimator)\n\u001b[1;32m     67\u001b[0m \u001b[38;5;28;01mfor\u001b[39;00m _ \u001b[38;5;129;01min\u001b[39;00m \u001b[38;5;28mrange\u001b[39m(n_iteractions):\n\u001b[1;32m     68\u001b[0m     \u001b[38;5;66;03m#new_feature_idx,r2t = self.get_best_new_feature_R2based(clone_estimator,X,y,current_mask)\u001b[39;00m\n\u001b[0;32m---> 69\u001b[0m     new_feature_idx \u001b[38;5;241m=\u001b[39m \u001b[38;5;28;43mself\u001b[39;49m\u001b[38;5;241;43m.\u001b[39;49m\u001b[43mget_best_new_feature\u001b[49m\u001b[43m(\u001b[49m\u001b[43mclone_estimator\u001b[49m\u001b[43m,\u001b[49m\u001b[43mX\u001b[49m\u001b[43m,\u001b[49m\u001b[43my\u001b[49m\u001b[43m,\u001b[49m\u001b[43mcurrent_mask\u001b[49m\u001b[43m)\u001b[49m\n\u001b[1;32m     70\u001b[0m     \u001b[38;5;66;03m#r2.append(r2t)\u001b[39;00m\n\u001b[1;32m     71\u001b[0m     current_mask[new_feature_idx] \u001b[38;5;241m=\u001b[39m \u001b[38;5;28;01mTrue\u001b[39;00m\n",
      "Input \u001b[0;32mIn [3]\u001b[0m, in \u001b[0;36mforwardfeatureadder.get_best_new_feature\u001b[0;34m(self, estimator, X, y, current_mask)\u001b[0m\n\u001b[1;32m     87\u001b[0m     X_new \u001b[38;5;241m=\u001b[39m X[:,candidate_mask]\n\u001b[1;32m     88\u001b[0m     \u001b[38;5;66;03m# Improvement\u001b[39;00m\n\u001b[0;32m---> 89\u001b[0m     scores[feature_idx] \u001b[38;5;241m=\u001b[39m \u001b[43mcross_val_score\u001b[49m\u001b[43m(\u001b[49m\u001b[43mestimator\u001b[49m\u001b[43m,\u001b[49m\u001b[43mX_new\u001b[49m\u001b[43m,\u001b[49m\u001b[43my\u001b[49m\u001b[43m,\u001b[49m\u001b[43mcv\u001b[49m\u001b[38;5;241;43m=\u001b[39;49m\u001b[38;5;28;43mself\u001b[39;49m\u001b[38;5;241;43m.\u001b[39;49m\u001b[43mcv\u001b[49m\u001b[43m,\u001b[49m\u001b[43mscoring\u001b[49m\u001b[38;5;241;43m=\u001b[39;49m\u001b[38;5;28;43;01mNone\u001b[39;49;00m\u001b[43m,\u001b[49m\u001b[43mn_jobs\u001b[49m\u001b[38;5;241;43m=\u001b[39;49m\u001b[38;5;28;43mself\u001b[39;49m\u001b[38;5;241;43m.\u001b[39;49m\u001b[43mn_jobs\u001b[49m\u001b[43m)\u001b[49m\u001b[38;5;241m.\u001b[39mmean()\n\u001b[1;32m     90\u001b[0m \u001b[38;5;28;01mreturn\u001b[39;00m \u001b[38;5;28mmax\u001b[39m(scores,key\u001b[38;5;241m=\u001b[39m\u001b[38;5;28;01mlambda\u001b[39;00m feature_idx: scores[feature_idx])\n",
      "File \u001b[0;32m/work/FAC/FGSE/IDYST/tbeucler/default/freddy0218/miniconda3/envs/fred_workenv/lib/python3.9/site-packages/sklearn/model_selection/_validation.py:509\u001b[0m, in \u001b[0;36mcross_val_score\u001b[0;34m(estimator, X, y, groups, scoring, cv, n_jobs, verbose, fit_params, pre_dispatch, error_score)\u001b[0m\n\u001b[1;32m    506\u001b[0m \u001b[38;5;66;03m# To ensure multimetric format is not supported\u001b[39;00m\n\u001b[1;32m    507\u001b[0m scorer \u001b[38;5;241m=\u001b[39m check_scoring(estimator, scoring\u001b[38;5;241m=\u001b[39mscoring)\n\u001b[0;32m--> 509\u001b[0m cv_results \u001b[38;5;241m=\u001b[39m \u001b[43mcross_validate\u001b[49m\u001b[43m(\u001b[49m\n\u001b[1;32m    510\u001b[0m \u001b[43m    \u001b[49m\u001b[43mestimator\u001b[49m\u001b[38;5;241;43m=\u001b[39;49m\u001b[43mestimator\u001b[49m\u001b[43m,\u001b[49m\n\u001b[1;32m    511\u001b[0m \u001b[43m    \u001b[49m\u001b[43mX\u001b[49m\u001b[38;5;241;43m=\u001b[39;49m\u001b[43mX\u001b[49m\u001b[43m,\u001b[49m\n\u001b[1;32m    512\u001b[0m \u001b[43m    \u001b[49m\u001b[43my\u001b[49m\u001b[38;5;241;43m=\u001b[39;49m\u001b[43my\u001b[49m\u001b[43m,\u001b[49m\n\u001b[1;32m    513\u001b[0m \u001b[43m    \u001b[49m\u001b[43mgroups\u001b[49m\u001b[38;5;241;43m=\u001b[39;49m\u001b[43mgroups\u001b[49m\u001b[43m,\u001b[49m\n\u001b[1;32m    514\u001b[0m \u001b[43m    \u001b[49m\u001b[43mscoring\u001b[49m\u001b[38;5;241;43m=\u001b[39;49m\u001b[43m{\u001b[49m\u001b[38;5;124;43m\"\u001b[39;49m\u001b[38;5;124;43mscore\u001b[39;49m\u001b[38;5;124;43m\"\u001b[39;49m\u001b[43m:\u001b[49m\u001b[43m \u001b[49m\u001b[43mscorer\u001b[49m\u001b[43m}\u001b[49m\u001b[43m,\u001b[49m\n\u001b[1;32m    515\u001b[0m \u001b[43m    \u001b[49m\u001b[43mcv\u001b[49m\u001b[38;5;241;43m=\u001b[39;49m\u001b[43mcv\u001b[49m\u001b[43m,\u001b[49m\n\u001b[1;32m    516\u001b[0m \u001b[43m    \u001b[49m\u001b[43mn_jobs\u001b[49m\u001b[38;5;241;43m=\u001b[39;49m\u001b[43mn_jobs\u001b[49m\u001b[43m,\u001b[49m\n\u001b[1;32m    517\u001b[0m \u001b[43m    \u001b[49m\u001b[43mverbose\u001b[49m\u001b[38;5;241;43m=\u001b[39;49m\u001b[43mverbose\u001b[49m\u001b[43m,\u001b[49m\n\u001b[1;32m    518\u001b[0m \u001b[43m    \u001b[49m\u001b[43mfit_params\u001b[49m\u001b[38;5;241;43m=\u001b[39;49m\u001b[43mfit_params\u001b[49m\u001b[43m,\u001b[49m\n\u001b[1;32m    519\u001b[0m \u001b[43m    \u001b[49m\u001b[43mpre_dispatch\u001b[49m\u001b[38;5;241;43m=\u001b[39;49m\u001b[43mpre_dispatch\u001b[49m\u001b[43m,\u001b[49m\n\u001b[1;32m    520\u001b[0m \u001b[43m    \u001b[49m\u001b[43merror_score\u001b[49m\u001b[38;5;241;43m=\u001b[39;49m\u001b[43merror_score\u001b[49m\u001b[43m,\u001b[49m\n\u001b[1;32m    521\u001b[0m \u001b[43m\u001b[49m\u001b[43m)\u001b[49m\n\u001b[1;32m    522\u001b[0m \u001b[38;5;28;01mreturn\u001b[39;00m cv_results[\u001b[38;5;124m\"\u001b[39m\u001b[38;5;124mtest_score\u001b[39m\u001b[38;5;124m\"\u001b[39m]\n",
      "File \u001b[0;32m/work/FAC/FGSE/IDYST/tbeucler/default/freddy0218/miniconda3/envs/fred_workenv/lib/python3.9/site-packages/sklearn/model_selection/_validation.py:267\u001b[0m, in \u001b[0;36mcross_validate\u001b[0;34m(estimator, X, y, groups, scoring, cv, n_jobs, verbose, fit_params, pre_dispatch, return_train_score, return_estimator, error_score)\u001b[0m\n\u001b[1;32m    264\u001b[0m \u001b[38;5;66;03m# We clone the estimator to make sure that all the folds are\u001b[39;00m\n\u001b[1;32m    265\u001b[0m \u001b[38;5;66;03m# independent, and that it is pickle-able.\u001b[39;00m\n\u001b[1;32m    266\u001b[0m parallel \u001b[38;5;241m=\u001b[39m Parallel(n_jobs\u001b[38;5;241m=\u001b[39mn_jobs, verbose\u001b[38;5;241m=\u001b[39mverbose, pre_dispatch\u001b[38;5;241m=\u001b[39mpre_dispatch)\n\u001b[0;32m--> 267\u001b[0m results \u001b[38;5;241m=\u001b[39m \u001b[43mparallel\u001b[49m\u001b[43m(\u001b[49m\n\u001b[1;32m    268\u001b[0m \u001b[43m    \u001b[49m\u001b[43mdelayed\u001b[49m\u001b[43m(\u001b[49m\u001b[43m_fit_and_score\u001b[49m\u001b[43m)\u001b[49m\u001b[43m(\u001b[49m\n\u001b[1;32m    269\u001b[0m \u001b[43m        \u001b[49m\u001b[43mclone\u001b[49m\u001b[43m(\u001b[49m\u001b[43mestimator\u001b[49m\u001b[43m)\u001b[49m\u001b[43m,\u001b[49m\n\u001b[1;32m    270\u001b[0m \u001b[43m        \u001b[49m\u001b[43mX\u001b[49m\u001b[43m,\u001b[49m\n\u001b[1;32m    271\u001b[0m \u001b[43m        \u001b[49m\u001b[43my\u001b[49m\u001b[43m,\u001b[49m\n\u001b[1;32m    272\u001b[0m \u001b[43m        \u001b[49m\u001b[43mscorers\u001b[49m\u001b[43m,\u001b[49m\n\u001b[1;32m    273\u001b[0m \u001b[43m        \u001b[49m\u001b[43mtrain\u001b[49m\u001b[43m,\u001b[49m\n\u001b[1;32m    274\u001b[0m \u001b[43m        \u001b[49m\u001b[43mtest\u001b[49m\u001b[43m,\u001b[49m\n\u001b[1;32m    275\u001b[0m \u001b[43m        \u001b[49m\u001b[43mverbose\u001b[49m\u001b[43m,\u001b[49m\n\u001b[1;32m    276\u001b[0m \u001b[43m        \u001b[49m\u001b[38;5;28;43;01mNone\u001b[39;49;00m\u001b[43m,\u001b[49m\n\u001b[1;32m    277\u001b[0m \u001b[43m        \u001b[49m\u001b[43mfit_params\u001b[49m\u001b[43m,\u001b[49m\n\u001b[1;32m    278\u001b[0m \u001b[43m        \u001b[49m\u001b[43mreturn_train_score\u001b[49m\u001b[38;5;241;43m=\u001b[39;49m\u001b[43mreturn_train_score\u001b[49m\u001b[43m,\u001b[49m\n\u001b[1;32m    279\u001b[0m \u001b[43m        \u001b[49m\u001b[43mreturn_times\u001b[49m\u001b[38;5;241;43m=\u001b[39;49m\u001b[38;5;28;43;01mTrue\u001b[39;49;00m\u001b[43m,\u001b[49m\n\u001b[1;32m    280\u001b[0m \u001b[43m        \u001b[49m\u001b[43mreturn_estimator\u001b[49m\u001b[38;5;241;43m=\u001b[39;49m\u001b[43mreturn_estimator\u001b[49m\u001b[43m,\u001b[49m\n\u001b[1;32m    281\u001b[0m \u001b[43m        \u001b[49m\u001b[43merror_score\u001b[49m\u001b[38;5;241;43m=\u001b[39;49m\u001b[43merror_score\u001b[49m\u001b[43m,\u001b[49m\n\u001b[1;32m    282\u001b[0m \u001b[43m    \u001b[49m\u001b[43m)\u001b[49m\n\u001b[1;32m    283\u001b[0m \u001b[43m    \u001b[49m\u001b[38;5;28;43;01mfor\u001b[39;49;00m\u001b[43m \u001b[49m\u001b[43mtrain\u001b[49m\u001b[43m,\u001b[49m\u001b[43m \u001b[49m\u001b[43mtest\u001b[49m\u001b[43m \u001b[49m\u001b[38;5;129;43;01min\u001b[39;49;00m\u001b[43m \u001b[49m\u001b[43mcv\u001b[49m\u001b[38;5;241;43m.\u001b[39;49m\u001b[43msplit\u001b[49m\u001b[43m(\u001b[49m\u001b[43mX\u001b[49m\u001b[43m,\u001b[49m\u001b[43m \u001b[49m\u001b[43my\u001b[49m\u001b[43m,\u001b[49m\u001b[43m \u001b[49m\u001b[43mgroups\u001b[49m\u001b[43m)\u001b[49m\n\u001b[1;32m    284\u001b[0m \u001b[43m\u001b[49m\u001b[43m)\u001b[49m\n\u001b[1;32m    286\u001b[0m _warn_about_fit_failures(results, error_score)\n\u001b[1;32m    288\u001b[0m \u001b[38;5;66;03m# For callabe scoring, the return type is only know after calling. If the\u001b[39;00m\n\u001b[1;32m    289\u001b[0m \u001b[38;5;66;03m# return type is a dictionary, the error scores can now be inserted with\u001b[39;00m\n\u001b[1;32m    290\u001b[0m \u001b[38;5;66;03m# the correct key.\u001b[39;00m\n",
      "File \u001b[0;32m/work/FAC/FGSE/IDYST/tbeucler/default/freddy0218/miniconda3/envs/fred_workenv/lib/python3.9/site-packages/joblib/parallel.py:1056\u001b[0m, in \u001b[0;36mParallel.__call__\u001b[0;34m(self, iterable)\u001b[0m\n\u001b[1;32m   1053\u001b[0m     \u001b[38;5;28mself\u001b[39m\u001b[38;5;241m.\u001b[39m_iterating \u001b[38;5;241m=\u001b[39m \u001b[38;5;28;01mFalse\u001b[39;00m\n\u001b[1;32m   1055\u001b[0m \u001b[38;5;28;01mwith\u001b[39;00m \u001b[38;5;28mself\u001b[39m\u001b[38;5;241m.\u001b[39m_backend\u001b[38;5;241m.\u001b[39mretrieval_context():\n\u001b[0;32m-> 1056\u001b[0m     \u001b[38;5;28;43mself\u001b[39;49m\u001b[38;5;241;43m.\u001b[39;49m\u001b[43mretrieve\u001b[49m\u001b[43m(\u001b[49m\u001b[43m)\u001b[49m\n\u001b[1;32m   1057\u001b[0m \u001b[38;5;66;03m# Make sure that we get a last message telling us we are done\u001b[39;00m\n\u001b[1;32m   1058\u001b[0m elapsed_time \u001b[38;5;241m=\u001b[39m time\u001b[38;5;241m.\u001b[39mtime() \u001b[38;5;241m-\u001b[39m \u001b[38;5;28mself\u001b[39m\u001b[38;5;241m.\u001b[39m_start_time\n",
      "File \u001b[0;32m/work/FAC/FGSE/IDYST/tbeucler/default/freddy0218/miniconda3/envs/fred_workenv/lib/python3.9/site-packages/joblib/parallel.py:935\u001b[0m, in \u001b[0;36mParallel.retrieve\u001b[0;34m(self)\u001b[0m\n\u001b[1;32m    933\u001b[0m \u001b[38;5;28;01mtry\u001b[39;00m:\n\u001b[1;32m    934\u001b[0m     \u001b[38;5;28;01mif\u001b[39;00m \u001b[38;5;28mgetattr\u001b[39m(\u001b[38;5;28mself\u001b[39m\u001b[38;5;241m.\u001b[39m_backend, \u001b[38;5;124m'\u001b[39m\u001b[38;5;124msupports_timeout\u001b[39m\u001b[38;5;124m'\u001b[39m, \u001b[38;5;28;01mFalse\u001b[39;00m):\n\u001b[0;32m--> 935\u001b[0m         \u001b[38;5;28mself\u001b[39m\u001b[38;5;241m.\u001b[39m_output\u001b[38;5;241m.\u001b[39mextend(\u001b[43mjob\u001b[49m\u001b[38;5;241;43m.\u001b[39;49m\u001b[43mget\u001b[49m\u001b[43m(\u001b[49m\u001b[43mtimeout\u001b[49m\u001b[38;5;241;43m=\u001b[39;49m\u001b[38;5;28;43mself\u001b[39;49m\u001b[38;5;241;43m.\u001b[39;49m\u001b[43mtimeout\u001b[49m\u001b[43m)\u001b[49m)\n\u001b[1;32m    936\u001b[0m     \u001b[38;5;28;01melse\u001b[39;00m:\n\u001b[1;32m    937\u001b[0m         \u001b[38;5;28mself\u001b[39m\u001b[38;5;241m.\u001b[39m_output\u001b[38;5;241m.\u001b[39mextend(job\u001b[38;5;241m.\u001b[39mget())\n",
      "File \u001b[0;32m/work/FAC/FGSE/IDYST/tbeucler/default/freddy0218/miniconda3/envs/fred_workenv/lib/python3.9/site-packages/joblib/_parallel_backends.py:542\u001b[0m, in \u001b[0;36mLokyBackend.wrap_future_result\u001b[0;34m(future, timeout)\u001b[0m\n\u001b[1;32m    539\u001b[0m \u001b[38;5;124;03m\"\"\"Wrapper for Future.result to implement the same behaviour as\u001b[39;00m\n\u001b[1;32m    540\u001b[0m \u001b[38;5;124;03mAsyncResults.get from multiprocessing.\"\"\"\u001b[39;00m\n\u001b[1;32m    541\u001b[0m \u001b[38;5;28;01mtry\u001b[39;00m:\n\u001b[0;32m--> 542\u001b[0m     \u001b[38;5;28;01mreturn\u001b[39;00m \u001b[43mfuture\u001b[49m\u001b[38;5;241;43m.\u001b[39;49m\u001b[43mresult\u001b[49m\u001b[43m(\u001b[49m\u001b[43mtimeout\u001b[49m\u001b[38;5;241;43m=\u001b[39;49m\u001b[43mtimeout\u001b[49m\u001b[43m)\u001b[49m\n\u001b[1;32m    543\u001b[0m \u001b[38;5;28;01mexcept\u001b[39;00m CfTimeoutError \u001b[38;5;28;01mas\u001b[39;00m e:\n\u001b[1;32m    544\u001b[0m     \u001b[38;5;28;01mraise\u001b[39;00m \u001b[38;5;167;01mTimeoutError\u001b[39;00m \u001b[38;5;28;01mfrom\u001b[39;00m \u001b[38;5;21;01me\u001b[39;00m\n",
      "File \u001b[0;32m/work/FAC/FGSE/IDYST/tbeucler/default/freddy0218/miniconda3/envs/fred_workenv/lib/python3.9/concurrent/futures/_base.py:440\u001b[0m, in \u001b[0;36mFuture.result\u001b[0;34m(self, timeout)\u001b[0m\n\u001b[1;32m    437\u001b[0m \u001b[38;5;28;01melif\u001b[39;00m \u001b[38;5;28mself\u001b[39m\u001b[38;5;241m.\u001b[39m_state \u001b[38;5;241m==\u001b[39m FINISHED:\n\u001b[1;32m    438\u001b[0m     \u001b[38;5;28;01mreturn\u001b[39;00m \u001b[38;5;28mself\u001b[39m\u001b[38;5;241m.\u001b[39m__get_result()\n\u001b[0;32m--> 440\u001b[0m \u001b[38;5;28;43mself\u001b[39;49m\u001b[38;5;241;43m.\u001b[39;49m\u001b[43m_condition\u001b[49m\u001b[38;5;241;43m.\u001b[39;49m\u001b[43mwait\u001b[49m\u001b[43m(\u001b[49m\u001b[43mtimeout\u001b[49m\u001b[43m)\u001b[49m\n\u001b[1;32m    442\u001b[0m \u001b[38;5;28;01mif\u001b[39;00m \u001b[38;5;28mself\u001b[39m\u001b[38;5;241m.\u001b[39m_state \u001b[38;5;129;01min\u001b[39;00m [CANCELLED, CANCELLED_AND_NOTIFIED]:\n\u001b[1;32m    443\u001b[0m     \u001b[38;5;28;01mraise\u001b[39;00m CancelledError()\n",
      "File \u001b[0;32m/work/FAC/FGSE/IDYST/tbeucler/default/freddy0218/miniconda3/envs/fred_workenv/lib/python3.9/threading.py:312\u001b[0m, in \u001b[0;36mCondition.wait\u001b[0;34m(self, timeout)\u001b[0m\n\u001b[1;32m    310\u001b[0m \u001b[38;5;28;01mtry\u001b[39;00m:    \u001b[38;5;66;03m# restore state no matter what (e.g., KeyboardInterrupt)\u001b[39;00m\n\u001b[1;32m    311\u001b[0m     \u001b[38;5;28;01mif\u001b[39;00m timeout \u001b[38;5;129;01mis\u001b[39;00m \u001b[38;5;28;01mNone\u001b[39;00m:\n\u001b[0;32m--> 312\u001b[0m         \u001b[43mwaiter\u001b[49m\u001b[38;5;241;43m.\u001b[39;49m\u001b[43macquire\u001b[49m\u001b[43m(\u001b[49m\u001b[43m)\u001b[49m\n\u001b[1;32m    313\u001b[0m         gotit \u001b[38;5;241m=\u001b[39m \u001b[38;5;28;01mTrue\u001b[39;00m\n\u001b[1;32m    314\u001b[0m     \u001b[38;5;28;01melse\u001b[39;00m:\n",
      "\u001b[0;31mKeyboardInterrupt\u001b[0m: "
     ]
    }
   ],
   "source": [
    "# Initiate model\n",
    "nummem = [54,26,50,75]\n",
    "linreg = LinearRegression()\n",
    "mlrIN,mlrOUT = mlr.SimpleIOhandler(LT=24,auxIN=None).transform(mlr_inputdict['dtthuvw'],mlr_output)\n",
    "#reteMP1,reteMP2,_,_  = forwardfeatureadder(linreg,1,3,2,[int(obj) for obj in np.linspace(241-36,240,36)],PCAdict,vardicts,nummem,24,'surface').get_real_winds()\n",
    "#reteMP1s,reteMP2s = (reteMP1.reshape(reteMP1.shape[0],39,360,167)[:,0,:,:]).reshape(reteMP1.shape[0],360*167),(reteMP2.reshape(reteMP2.shape[0],39,360,167)[:,0,:,:]).reshape(reteMP2.shape[0],360*167)\n",
    "#del reteMP1,reteMP2\n",
    "#gc.collect()\n",
    "\n",
    "# Train model\n",
    "model,reducedX,new_feature = [],[],[]\n",
    "for i in tqdm(range(np.asarray(mlrIN).shape[1]-36)):\n",
    "    #seq_temp = forwardfeatureadder(linreg,i+1,3,2,[int(obj) for obj in np.linspace(241-36,240,36)],\\\n",
    "    #                              PCAdict,vardicts,nummem,24,'surface',reteMP1s,reteMP2s).fit(np.asarray(mlrIN),mlrOUT)\n",
    "    seq_temp = forwardfeatureadder(linreg,i+1,3,2,[int(obj) for obj in np.linspace(241-36,240,36)],\\\n",
    "                                  PCAdict,vardicts,nummem,24,'surface',None,None).fit(np.asarray(mlrIN),mlrOUT)\n",
    "    new_feature.append(seq_temp.new_feature)\n",
    "    Xn = seq_temp.transform(np.asarray(mlrIN)) #Remove unimportant features\n",
    "    ridge_reduced = LinearRegression().fit(Xn,mlrOUT) #Train model with reduced input\n",
    "    model.append(ridge_reduced)\n",
    "    reducedX.append(Xn)\n",
    "    ####################################################################################################\n",
    "    # Check r2 score\n",
    "    ####################################################################################################\n",
    "    #if r2_score(mlrOUT,ridge_reduced.predict(Xn))<=0.9:\n",
    "    #    continue\n",
    "    #else:\n",
    "    #    break"
   ]
  },
  {
   "cell_type": "code",
   "execution_count": 6,
   "id": "7bc5a6b2-ed0f-4476-bec7-023176098a8d",
   "metadata": {},
   "outputs": [
    {
     "data": {
      "text/plain": [
       "0"
      ]
     },
     "execution_count": 6,
     "metadata": {},
     "output_type": "execute_result"
    }
   ],
   "source": [
    "reteMP1,reteMP2,_,_  = forwardfeatureadder(linreg,1,3,2,[int(obj) for obj in np.linspace(241-36,240,36)],PCAdict,vardicts,nummem,24,'surface').get_real_winds()\n",
    "reteMP1s,reteMP2s = (reteMP1.reshape(reteMP1.shape[0],39,360,167)[:,0,:,:]).reshape(reteMP1.shape[0],360*167),(reteMP2.reshape(reteMP2.shape[0],39,360,167)[:,0,:,:]).reshape(reteMP2.shape[0],360*167)\n",
    "del reteMP1,reteMP2\n",
    "gc.collect()"
   ]
  },
  {
   "cell_type": "code",
   "execution_count": 7,
   "id": "943713cb-0f9f-4707-aa3c-ab8f1cd2e6af",
   "metadata": {},
   "outputs": [],
   "source": [
    "r2_list = [r2_score(mlrOUT,models.predict(Xns)) for (models,Xns) in zip(model,reducedX)]"
   ]
  },
  {
   "cell_type": "code",
   "execution_count": 8,
   "id": "c449abe0-84a6-40ac-8a65-5bd55bb52c0d",
   "metadata": {},
   "outputs": [],
   "source": [
    "def conversion_predictPC(PCA_dict=PCAdict,Af_dict=vardicts,numcomp=nummem,LT=24,yforecast=None):\n",
    "    t1,t2 = proc_mlrfcst.retrieve_cartesian(PCA_dict=PCA_dict,Af_dict=Af_dict,numcomp=numcomp,LT=LT,forecastPC=yforecast,target='surface').output_reshapeRECON(forecast_eig=yforecast)\n",
    "    return (t1.reshape(t1.shape[0],39,360,167)[:,0,:,:]).reshape(t1.shape[0],360*167),(t2.reshape(t2.shape[0],39,360,167)[:,0,:,:]).reshape(t2.shape[0],360*167)\n",
    "\n",
    "yf = [models.predict(Xns) for (models,Xns) in zip(model,reducedX)]\n",
    "\n",
    "t1f,t2f = [],[]\n",
    "for i in range(len(yf)):\n",
    "    temp1,temp2 = conversion_predictPC(yforecast=yf[i])\n",
    "    t1f.append(temp1)\n",
    "    t2f.append(temp2)"
   ]
  },
  {
   "cell_type": "code",
   "execution_count": 9,
   "id": "a8cfaa56-ae97-495c-8aef-4e6388f297fb",
   "metadata": {},
   "outputs": [],
   "source": [
    "r2_list = [r2_score(np.concatenate((reteMP1s,reteMP2s),axis=0),np.concatenate((pred1a,pred2a),axis=0)) for (pred1a,pred2a) in zip(t1f,t2f)]"
   ]
  },
  {
   "cell_type": "code",
   "execution_count": 19,
   "id": "39fccfac-320a-492f-a27b-90c4c52e1079",
   "metadata": {},
   "outputs": [
    {
     "data": {
      "text/plain": [
       "[137,\n",
       " 77,\n",
       " 79,\n",
       " 166,\n",
       " 201,\n",
       " 139,\n",
       " 140,\n",
       " 167,\n",
       " 29,\n",
       " 53,\n",
       " 190,\n",
       " 183,\n",
       " 176,\n",
       " 186,\n",
       " 15,\n",
       " 126,\n",
       " 44,\n",
       " 198,\n",
       " 112,\n",
       " 7,\n",
       " 42,\n",
       " 113,\n",
       " 173,\n",
       " 51,\n",
       " 188,\n",
       " 161,\n",
       " 153,\n",
       " 118,\n",
       " 21,\n",
       " 32,\n",
       " 199,\n",
       " 184,\n",
       " 114,\n",
       " 182,\n",
       " 47,\n",
       " 57,\n",
       " 96,\n",
       " 37,\n",
       " 95,\n",
       " 193,\n",
       " 191,\n",
       " 159,\n",
       " 80,\n",
       " 150,\n",
       " 151,\n",
       " 30,\n",
       " 194,\n",
       " 43]"
      ]
     },
     "execution_count": 19,
     "metadata": {},
     "output_type": "execute_result"
    }
   ],
   "source": [
    "new_feature"
   ]
  },
  {
   "cell_type": "code",
   "execution_count": 13,
   "id": "9e68f72f-50b4-410f-889b-685071d4cc3e",
   "metadata": {},
   "outputs": [],
   "source": [
    "def adjust_spines(ax, spines):\n",
    "    for loc, spine in ax.spines.items():\n",
    "        if loc in spines:\n",
    "            spine.set_position(('outward', 10))  # outward by 10 points\n",
    "        else:\n",
    "            spine.set_color('none')  # don't draw spine\n",
    "\n",
    "    # turn off ticks where there is no spine\n",
    "    if 'left' in spines:\n",
    "        ax.yaxis.set_ticks_position('left')\n",
    "    else:\n",
    "        # no yaxis ticks\n",
    "        ax.yaxis.set_ticks([])\n",
    "\n",
    "    if 'bottom' in spines:\n",
    "        ax.xaxis.set_ticks_position('bottom')\n",
    "    else:\n",
    "        # no xaxis ticks\n",
    "        ax.xaxis.set_ticks([])\n"
   ]
  },
  {
   "cell_type": "code",
   "execution_count": 18,
   "id": "23b0dcdd-cf46-4ca9-aadc-2d6571a78ef1",
   "metadata": {},
   "outputs": [
    {
     "data": {
      "image/png": "[encoded data removed]",
      "text/plain": [
       "Figure(nrows=1, ncols=1, refaspect=1.83, refwidth=4.3)"
      ]
     },
     "metadata": {
      "image/png": {
       "height": 324,
       "width": 507
      }
     },
     "output_type": "display_data"
    }
   ],
   "source": [
    "fig,axs = plot.subplots(ncols=1,nrows=1,axwidth=4.295,refaspect=1.831)\n",
    "#labels = ['93% Q[29]','95% Q[36]','97% Q[46]','98% Q[53]','99% Q[63]']\n",
    "axs[0].plot(r2_list,label='1000 hPa du/dv',lw=2.5)\n",
    "axs[0].axhline(y=0.7809388933616978,lw=1,ls='--',c='k',label='Q-$\\theta$-u-v-w')\n",
    "adjust_spines(axs[0], ['left', 'bottom'])\n",
    "axs.legend(loc='lr',prop={'size':8},ncols=1)\n",
    "axs[0].format(xlabel='Extra u/v/w/$\\theta$ components',ylabel='R${2}$',title='R$^{2}$, 1000 hPa winds, with FFW')\n",
    "#plt.savefig('./figures/0308/r2_noFFS_more.png',dpi=300)\n",
    "plt.savefig('./figures/0316/r2_withFFW.png',dpi=300)\n",
    "plt.show()"
   ]
  },
  {
   "cell_type": "code",
   "execution_count": 27,
   "id": "90536726-1331-48a3-a75b-ac30c1328a76",
   "metadata": {},
   "outputs": [],
   "source": [
    "read_and_proc.save_to_pickle('./FFWmodels',model,'PICKLE')\n",
    "read_and_proc.save_to_pickle('./reducedX',reducedX,'PICKLE')\n",
    "read_and_proc.save_to_pickle('./newfeature',new_feature,'PICKLE')"
   ]
  },
  {
   "cell_type": "markdown",
   "id": "b69facf5-1f15-4362-a73b-f5861087b450",
   "metadata": {},
   "source": [
    "#### Visualization"
   ]
  },
  {
   "cell_type": "code",
   "execution_count": 10,
   "id": "c7404345-2d42-4874-bfe3-9cf755177e2c",
   "metadata": {},
   "outputs": [],
   "source": [
    "model = read_and_proc.depickle('./output/FFW/FFWmodels')\n",
    "reducedX = read_and_proc.depickle('./output/FFW/reducedX')\n",
    "newfeature = read_and_proc.depickle('./output/FFW/newfeature')"
   ]
  },
  {
   "cell_type": "code",
   "execution_count": 9,
   "id": "cd934173-7f6d-4405-961a-2cb16eeea9a9",
   "metadata": {},
   "outputs": [
    {
     "name": "stderr",
     "output_type": "stream",
     "text": [
      "0it [00:00, ?it/s]\n"
     ]
    },
    {
     "ename": "IndexError",
     "evalue": "too many indices for array: array is 1-dimensional, but 2 were indexed",
     "output_type": "error",
     "traceback": [
      "\u001b[0;31m---------------------------------------------------------------------------\u001b[0m",
      "\u001b[0;31mIndexError\u001b[0m                                Traceback (most recent call last)",
      "Input \u001b[0;32mIn [9]\u001b[0m, in \u001b[0;36m<cell line: 8>\u001b[0;34m()\u001b[0m\n\u001b[1;32m      5\u001b[0m \u001b[38;5;66;03m#retrieve_cartesian(PCA_dict=PCAdict,Af_dict=vardicts,numcomp=numcomp,LT=LDTME,\\\u001b[39;00m\n\u001b[1;32m      6\u001b[0m \u001b[38;5;66;03m#                   forecastPC=forecastPC).output_forecast_structure(LTchoose=[6,12,18,24,30,36,42],expname='ctl',timestep=62,savepath='/scratch/itam/maria/forecast/ctl59/')\u001b[39;00m\n\u001b[1;32m      7\u001b[0m LDTME \u001b[38;5;241m=\u001b[39m np\u001b[38;5;241m.\u001b[39mlinspace(\u001b[38;5;241m0\u001b[39m,\u001b[38;5;241m43\u001b[39m,\u001b[38;5;241m44\u001b[39m)\u001b[38;5;241m+\u001b[39m\u001b[38;5;241m1\u001b[39m\n\u001b[0;32m----> 8\u001b[0m \u001b[43mproc_mlrfcst\u001b[49m\u001b[38;5;241;43m.\u001b[39;49m\u001b[43mretrieve_cartesian\u001b[49m\u001b[43m(\u001b[49m\u001b[43mPCA_dict\u001b[49m\u001b[38;5;241;43m=\u001b[39;49m\u001b[43mPCAdict\u001b[49m\u001b[43m,\u001b[49m\u001b[43mAf_dict\u001b[49m\u001b[38;5;241;43m=\u001b[39;49m\u001b[43mvardicts\u001b[49m\u001b[43m,\u001b[49m\u001b[43mnumcomp\u001b[49m\u001b[38;5;241;43m=\u001b[39;49m\u001b[43mnumcomp\u001b[49m\u001b[43m,\u001b[49m\u001b[43mLT\u001b[49m\u001b[38;5;241;43m=\u001b[39;49m\u001b[43mLDTME\u001b[49m\u001b[43m,\u001b[49m\u001b[43m\\\u001b[49m\n\u001b[1;32m      9\u001b[0m \u001b[43m                   \u001b[49m\u001b[43mforecastPC\u001b[49m\u001b[38;5;241;43m=\u001b[39;49m\u001b[43mmodel\u001b[49m\u001b[43m[\u001b[49m\u001b[38;5;241;43m30\u001b[39;49m\u001b[43m]\u001b[49m\u001b[38;5;241;43m.\u001b[39;49m\u001b[43mpredict\u001b[49m\u001b[43m(\u001b[49m\u001b[43mmlr_input_dtuvw_onlydt\u001b[49m\u001b[43m)\u001b[49m\u001b[43m)\u001b[49m\u001b[38;5;241;43m.\u001b[39;49m\u001b[43moutput_forecast_structure\u001b[49m\u001b[43m(\u001b[49m\u001b[43mLTchoose\u001b[49m\u001b[38;5;241;43m=\u001b[39;49m\u001b[43m[\u001b[49m\u001b[38;5;241;43m6\u001b[39;49m\u001b[43m,\u001b[49m\u001b[38;5;241;43m12\u001b[39;49m\u001b[43m,\u001b[49m\u001b[38;5;241;43m18\u001b[39;49m\u001b[43m,\u001b[49m\u001b[38;5;241;43m24\u001b[39;49m\u001b[43m,\u001b[49m\u001b[38;5;241;43m30\u001b[39;49m\u001b[43m,\u001b[49m\u001b[38;5;241;43m36\u001b[39;49m\u001b[43m,\u001b[49m\u001b[38;5;241;43m42\u001b[39;49m\u001b[43m]\u001b[49m\u001b[43m,\u001b[49m\u001b[43mexpname\u001b[49m\u001b[38;5;241;43m=\u001b[39;49m\u001b[38;5;124;43m'\u001b[39;49m\u001b[38;5;124;43mctl\u001b[39;49m\u001b[38;5;124;43m'\u001b[39;49m\u001b[43m,\u001b[49m\u001b[43mtimestep\u001b[49m\u001b[38;5;241;43m=\u001b[39;49m\u001b[38;5;241;43m62\u001b[39;49m\u001b[43m,\u001b[49m\u001b[43msavepath\u001b[49m\u001b[38;5;241;43m=\u001b[39;49m\u001b[38;5;124;43m'\u001b[39;49m\u001b[38;5;124;43m/scratch/itam/maria/forecast/test/ncrf_60_59/testFFW/\u001b[39;49m\u001b[38;5;124;43m'\u001b[39;49m\u001b[43m)\u001b[49m\n",
      "File \u001b[0;32m/work/FAC/FGSE/IDYST/tbeucler/default/freddy0218/TCGphy/2020_TC_CRF/dev/freddy0218/tools/mlr/proc_mlrfcst.py:119\u001b[0m, in \u001b[0;36mretrieve_cartesian.output_forecast_structure\u001b[0;34m(self, LTchoose, expname, timestep, savepath)\u001b[0m\n\u001b[1;32m    116\u001b[0m     \u001b[38;5;28;01mreturn\u001b[39;00m \u001b[38;5;28;01mNone\u001b[39;00m\n\u001b[1;32m    118\u001b[0m \u001b[38;5;28;01mfor\u001b[39;00m indx,LTobj \u001b[38;5;129;01min\u001b[39;00m tqdm(\u001b[38;5;28menumerate\u001b[39m(LTchoose)):\n\u001b[0;32m--> 119\u001b[0m     teMP1,teMP2,teMP3,teMP4 \u001b[38;5;241m=\u001b[39m \u001b[38;5;28;43mself\u001b[39;49m\u001b[38;5;241;43m.\u001b[39;49m\u001b[43moutput_reshapeRECON\u001b[49m\u001b[43m(\u001b[49m\u001b[43mforecast_eig\u001b[49m\u001b[38;5;241;43m=\u001b[39;49m\u001b[38;5;28;43mself\u001b[39;49m\u001b[38;5;241;43m.\u001b[39;49m\u001b[43mforecastPC\u001b[49m\u001b[43m[\u001b[49m\u001b[38;5;28;43mint\u001b[39;49m\u001b[43m(\u001b[49m\u001b[43mLTobj\u001b[49m\u001b[38;5;241;43m-\u001b[39;49m\u001b[38;5;241;43m1\u001b[39;49m\u001b[43m)\u001b[49m\u001b[43m]\u001b[49m\u001b[43m)\u001b[49m\n\u001b[1;32m    121\u001b[0m     \u001b[38;5;28;01mif\u001b[39;00m expname\u001b[38;5;241m==\u001b[39m\u001b[38;5;124m'\u001b[39m\u001b[38;5;124mncrf_36h\u001b[39m\u001b[38;5;124m'\u001b[39m:\n\u001b[1;32m    122\u001b[0m         expstart,rsindx,removetimes,sen_exp\u001b[38;5;241m=\u001b[39m\u001b[38;5;241m96\u001b[39m,\u001b[38;5;241m34\u001b[39m,\u001b[38;5;241m1\u001b[39m,\u001b[38;5;124m'\u001b[39m\u001b[38;5;124mYes\u001b[39m\u001b[38;5;124m'\u001b[39m\n",
      "File \u001b[0;32m/work/FAC/FGSE/IDYST/tbeucler/default/freddy0218/TCGphy/2020_TC_CRF/dev/freddy0218/tools/mlr/proc_mlrfcst.py:48\u001b[0m, in \u001b[0;36mretrieve_cartesian.output_reshapeRECON\u001b[0;34m(self, forecast_eig)\u001b[0m\n\u001b[1;32m     46\u001b[0m     \u001b[38;5;28;01mreturn\u001b[39;00m testrec_dudt,testrec_dvdt\n\u001b[1;32m     47\u001b[0m \u001b[38;5;28;01melse\u001b[39;00m:\n\u001b[0;32m---> 48\u001b[0m     testrec_dudt \u001b[38;5;241m=\u001b[39m np\u001b[38;5;241m.\u001b[39mdot(\u001b[43mforecast_eig\u001b[49m\u001b[43m[\u001b[49m\u001b[43m:\u001b[49m\u001b[43m,\u001b[49m\u001b[38;5;241;43m0\u001b[39;49m\u001b[43m:\u001b[49m\u001b[38;5;28;43mself\u001b[39;49m\u001b[38;5;241;43m.\u001b[39;49m\u001b[43mnumcomp\u001b[49m\u001b[43m[\u001b[49m\u001b[38;5;241;43m0\u001b[39;49m\u001b[43m]\u001b[49m\u001b[43m]\u001b[49m,(\u001b[38;5;28mself\u001b[39m\u001b[38;5;241m.\u001b[39mPCA_dict[\u001b[38;5;124m'\u001b[39m\u001b[38;5;124mu\u001b[39m\u001b[38;5;124m'\u001b[39m]\u001b[38;5;241m.\u001b[39mcomponents_[\u001b[38;5;241m0\u001b[39m:\u001b[38;5;28mself\u001b[39m\u001b[38;5;241m.\u001b[39mnumcomp[\u001b[38;5;241m0\u001b[39m]]))\u001b[38;5;66;03m#.reshape((91,39,360,167))\u001b[39;00m\n\u001b[1;32m     49\u001b[0m     testrec_dvdt \u001b[38;5;241m=\u001b[39m np\u001b[38;5;241m.\u001b[39mdot(forecast_eig[:,\u001b[38;5;28mself\u001b[39m\u001b[38;5;241m.\u001b[39mnumcomp[\u001b[38;5;241m0\u001b[39m]:\u001b[38;5;28mself\u001b[39m\u001b[38;5;241m.\u001b[39mnumcomp[\u001b[38;5;241m0\u001b[39m]\u001b[38;5;241m+\u001b[39m\u001b[38;5;28mself\u001b[39m\u001b[38;5;241m.\u001b[39mnumcomp[\u001b[38;5;241m1\u001b[39m]],(\u001b[38;5;28mself\u001b[39m\u001b[38;5;241m.\u001b[39mPCA_dict[\u001b[38;5;124m'\u001b[39m\u001b[38;5;124mv\u001b[39m\u001b[38;5;124m'\u001b[39m]\u001b[38;5;241m.\u001b[39mcomponents_[\u001b[38;5;241m0\u001b[39m:\u001b[38;5;28mself\u001b[39m\u001b[38;5;241m.\u001b[39mnumcomp[\u001b[38;5;241m1\u001b[39m]]))\u001b[38;5;66;03m#.reshape((91,39,360,167))\u001b[39;00m\n\u001b[1;32m     50\u001b[0m     testrec_dwdt \u001b[38;5;241m=\u001b[39m np\u001b[38;5;241m.\u001b[39mdot(forecast_eig[:,\u001b[38;5;28mself\u001b[39m\u001b[38;5;241m.\u001b[39mnumcomp[\u001b[38;5;241m0\u001b[39m]\u001b[38;5;241m+\u001b[39m\u001b[38;5;28mself\u001b[39m\u001b[38;5;241m.\u001b[39mnumcomp[\u001b[38;5;241m1\u001b[39m]:\u001b[38;5;28mself\u001b[39m\u001b[38;5;241m.\u001b[39mnumcomp[\u001b[38;5;241m0\u001b[39m]\u001b[38;5;241m+\u001b[39m\u001b[38;5;28mself\u001b[39m\u001b[38;5;241m.\u001b[39mnumcomp[\u001b[38;5;241m1\u001b[39m]\u001b[38;5;241m+\u001b[39m\u001b[38;5;28mself\u001b[39m\u001b[38;5;241m.\u001b[39mnumcomp[\u001b[38;5;241m2\u001b[39m]],(\u001b[38;5;28mself\u001b[39m\u001b[38;5;241m.\u001b[39mPCA_dict[\u001b[38;5;124m'\u001b[39m\u001b[38;5;124mw\u001b[39m\u001b[38;5;124m'\u001b[39m]\u001b[38;5;241m.\u001b[39mcomponents_[\u001b[38;5;241m0\u001b[39m:\u001b[38;5;28mself\u001b[39m\u001b[38;5;241m.\u001b[39mnumcomp[\u001b[38;5;241m2\u001b[39m]]))\u001b[38;5;66;03m#.reshape((39,360,167))\u001b[39;00m\n",
      "\u001b[0;31mIndexError\u001b[0m: too many indices for array: array is 1-dimensional, but 2 were indexed"
     ]
    }
   ],
   "source": [
    "from copy import deepcopy\n",
    "mlr_input_dtuvw_onlydt = deepcopy(reducedX[30])#mlr_inputdict['dt'])\n",
    "mlr_input_dtuvw_onlydt[58-24+4,:] = mlr_input_dtuvw_onlydt[96+86+(58-58)+4,:]\n",
    "numcomp = [54,26,50,75]\n",
    "#retrieve_cartesian(PCA_dict=PCAdict,Af_dict=vardicts,numcomp=numcomp,LT=LDTME,\\\n",
    "#                   forecastPC=forecastPC).output_forecast_structure(LTchoose=[6,12,18,24,30,36,42],expname='ctl',timestep=62,savepath='/scratch/itam/maria/forecast/ctl59/')\n",
    "LDTME = np.linspace(0,43,44)+1\n",
    "proc_mlrfcst.retrieve_cartesian(PCA_dict=PCAdict,Af_dict=vardicts,numcomp=numcomp,LT=LDTME,\\\n",
    "                   forecastPC=model[30].predict(mlr_input_dtuvw_onlydt)).output_forecast_structure(LTchoose=[6,12,18,24,30,36,42],expname='ctl',timestep=62,savepath='/scratch/itam/maria/forecast/test/ncrf_60_59/testFFW/')"
   ]
  },
  {
   "cell_type": "code",
   "execution_count": 12,
   "id": "0113a570-4404-4e2c-8c7c-6a1d9b793424",
   "metadata": {},
   "outputs": [
    {
     "data": {
      "text/plain": [
       "[137,\n",
       " 77,\n",
       " 79,\n",
       " 166,\n",
       " 201,\n",
       " 139,\n",
       " 140,\n",
       " 167,\n",
       " 29,\n",
       " 53,\n",
       " 190,\n",
       " 183,\n",
       " 176,\n",
       " 186,\n",
       " 15,\n",
       " 126,\n",
       " 44,\n",
       " 198,\n",
       " 112,\n",
       " 7,\n",
       " 42,\n",
       " 113,\n",
       " 173,\n",
       " 51,\n",
       " 188,\n",
       " 161,\n",
       " 153,\n",
       " 118,\n",
       " 21,\n",
       " 32]"
      ]
     },
     "execution_count": 12,
     "metadata": {},
     "output_type": "execute_result"
    }
   ],
   "source": [
    "newfeature[0:30]"
   ]
  },
  {
   "cell_type": "code",
   "execution_count": null,
   "id": "e0cc6b83-56bc-4c67-b360-648432b4c1f8",
   "metadata": {},
   "outputs": [],
   "source": [
    "from tools.mlr import read_mlr\n",
    "path = '/scratch/itam/maria/forecast/'\n",
    "RECONir_dict = read_mlr.read_in_forecast(path=path,subpath=['test/ncrf_60_59/testFFW/','*62*'])"
   ]
  }
 ],
 "metadata": {
  "kernelspec": {
   "display_name": "Python 3 (ipykernel)",
   "language": "python",
   "name": "python3"
  },
  "language_info": {
   "codemirror_mode": {
    "name": "ipython",
    "version": 3
   },
   "file_extension": ".py",
   "mimetype": "text/x-python",
   "name": "python",
   "nbconvert_exporter": "python",
   "pygments_lexer": "ipython3",
   "version": "3.9.7"
  }
 },
 "nbformat": 4,
 "nbformat_minor": 5
}
