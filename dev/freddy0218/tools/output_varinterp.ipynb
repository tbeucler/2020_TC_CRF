{
 "cells": [
  {
   "cell_type": "code",
   "execution_count": 1,
   "id": "cb77da2b",
   "metadata": {},
   "outputs": [],
   "source": [
    "from __future__ import print_function\n",
    "\n",
    "from netCDF4 import Dataset\n",
    "from wrf import getvar, ALL_TIMES, interplevel\n",
    "import glob,os\n",
    "from tqdm import tqdm\n",
    "import numpy as np"
   ]
  },
  {
   "cell_type": "markdown",
   "id": "891327cc",
   "metadata": {},
   "source": [
    "### Read files"
   ]
  },
  {
   "cell_type": "code",
   "execution_count": 2,
   "id": "ff95ab28",
   "metadata": {},
   "outputs": [
    {
     "name": "stdout",
     "output_type": "stream",
     "text": [
      "85\n"
     ]
    }
   ],
   "source": [
    "path='/scratch/06040/tg853394/tc/output/redux/maria/ncrf_60h/'\n",
    "filelist = sorted(glob.glob(path+'wrfout*'))\n",
    "print(len(filelist))"
   ]
  },
  {
   "cell_type": "code",
   "execution_count": 3,
   "id": "51714ba0",
   "metadata": {},
   "outputs": [],
   "source": [
    "from wrf import (getvar, ALL_TIMES, extract_vars,\n",
    "                 omp_set_num_threads, omp_get_num_procs)\n",
    "wrfin = [Dataset(x) for x in filelist]\n",
    "#my_cache = extract_vars(wrfin, ALL_TIMES, (\"QVAPOR\"))"
   ]
  },
  {
   "cell_type": "code",
   "execution_count": 4,
   "id": "8dbbbe3e",
   "metadata": {
    "scrolled": true
   },
   "outputs": [
    {
     "name": "stdout",
     "output_type": "stream",
     "text": [
      "0\n",
      "20\n",
      "40\n",
      "60\n",
      "80\n"
     ]
    }
   ],
   "source": [
    "#RTHFTEN,REFL_10CM\n",
    "import time\n",
    "def combine_wrfoutVAR(filenamelist=None,varname=None,resultshape=None,times_per_file=1,TYPE=\"3D\"):\n",
    "    if TYPE=='3D':\n",
    "        z_final = np.empty(resultshape, np.float32)\n",
    "        for timeidx in (range(resultshape[0])):\n",
    "            if timeidx % 20==0:\n",
    "                print(timeidx)\n",
    "            #fileidx = timeidx // times_per_file\n",
    "            file_timeidx = timeidx % times_per_file\n",
    "            \n",
    "            z = getvar(wrfin[timeidx], varname, file_timeidx)\n",
    "            z_final[timeidx,:] = z[:]\n",
    "        return z_final\n",
    "omp_set_num_threads(omp_get_num_procs())\n",
    "Tall = combine_wrfoutVAR(filelist,\"RTHFTEN\",(len(filelist), 54, 750, 1248),1,\"3D\")"
   ]
  },
  {
   "cell_type": "code",
   "execution_count": 5,
   "id": "71e05c23",
   "metadata": {
    "scrolled": true
   },
   "outputs": [
    {
     "name": "stdout",
     "output_type": "stream",
     "text": [
      "0\n",
      "20\n",
      "40\n",
      "60\n",
      "80\n"
     ]
    }
   ],
   "source": [
    "pall = combine_wrfoutVAR(filelist,\"pressure\",(len(filelist), 54, 750, 1248),1,\"3D\")"
   ]
  },
  {
   "cell_type": "markdown",
   "id": "888f9fdb",
   "metadata": {},
   "source": [
    "#### Interpolation"
   ]
  },
  {
   "cell_type": "code",
   "execution_count": 6,
   "id": "b7d246d1",
   "metadata": {},
   "outputs": [],
   "source": [
    "import xarray as xr\n",
    "path_coor = '/scratch/06040/tg853394/tc/output/redux/maria/ctl/post/U.nc'\n",
    "coor = xr.open_dataset(path_coor)\n",
    "pres_target = coor.pres.data"
   ]
  },
  {
   "cell_type": "code",
   "execution_count": null,
   "id": "1bda3b27",
   "metadata": {},
   "outputs": [],
   "source": [
    "Tall_interp = [interplevel(Tall[i,:,:,:], pall[i,:,:,:], pres_target) for i in range(len(Tall))]"
   ]
  },
  {
   "cell_type": "code",
   "execution_count": null,
   "id": "8dfbe0cb",
   "metadata": {},
   "outputs": [],
   "source": [
    "xlat,xlon = wrfin[0].variables['XLAT'][:],wrfin[0].variables['XLONG'][:]\n",
    "del wrfin,Tall,pall\n",
    "\n",
    "resultshape=(len(filelist), 39, 750, 1248)\n",
    "z_final = np.empty(resultshape, np.float32)\n",
    "for timeidx in (range(resultshape[0])):\n",
    "    if timeidx % 20==0:\n",
    "        print(timeidx)\n",
    "    z_final[timeidx,:] = Tall_interp[timeidx]"
   ]
  },
  {
   "cell_type": "code",
   "execution_count": null,
   "id": "f8090507",
   "metadata": {},
   "outputs": [],
   "source": [
    "import pandas as pd\n",
    "data_set=xr.Dataset( coords={'time': pd.date_range(start='9/17/2017', end='9/21/2017',freq='H')[:-12],\n",
    "                             'pressure': coor.pres.data,\n",
    "                             'lat': (['north_south', 'west_east'], np.squeeze(xlat)),\n",
    "                             'lon': (['north_south', 'west_east'], np.squeeze(xlon))})\n",
    "data_set[\"RTHFTEN\"]=(['time', 'pressure', 'north_south', 'west_east'],  z_final)"
   ]
  },
  {
   "cell_type": "code",
   "execution_count": null,
   "id": "71fb4728",
   "metadata": {},
   "outputs": [],
   "source": [
    "data_set.to_netcdf(path='./RTHFTENinterp_maria_ncrf60.nc')"
   ]
  },
  {
   "cell_type": "code",
   "execution_count": null,
   "id": "dc62531c",
   "metadata": {},
   "outputs": [],
   "source": [
    "#CTRL: pd.date_range(start='9/14/2017', end='9/21/2017',freq='H')[12:-12]\n",
    "\n",
    "#import json,pickle\n",
    "#def save_to_pickle(loc=None,var=None):\n",
    "#    with open(loc,\"wb\") as f:\n",
    "#        pickle.dump(var,f)\n",
    "#    return None"
   ]
  }
 ],
 "metadata": {
  "kernelspec": {
   "display_name": "Python 3 (ipykernel)",
   "language": "python",
   "name": "python3"
  },
  "language_info": {
   "codemirror_mode": {
    "name": "ipython",
    "version": 3
   },
   "file_extension": ".py",
   "mimetype": "text/x-python",
   "name": "python",
   "nbconvert_exporter": "python",
   "pygments_lexer": "ipython3",
   "version": "3.9.7"
  }
 },
 "nbformat": 4,
 "nbformat_minor": 5
}
