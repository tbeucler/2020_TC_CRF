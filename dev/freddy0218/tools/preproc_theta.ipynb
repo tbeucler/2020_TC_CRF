{
 "cells": [
  {
   "cell_type": "code",
   "execution_count": 1,
   "id": "7d72d691-c429-410a-b20b-d8eab4f05824",
   "metadata": {},
   "outputs": [],
   "source": [
    "import warnings\n",
    "warnings.filterwarnings('ignore',category=RuntimeWarning)\n",
    "import xarray as xr\n",
    "import numpy as np\n",
    "import matplotlib as mpl\n",
    "import matplotlib.pyplot as plt\n",
    "import seaborn as sns\n",
    "import glob,os\n",
    "from tqdm import tqdm\n",
    "import datetime\n",
    "import proplot as plot\n",
    "from netCDF4 import Dataset\n",
    "from wrf import getvar\n",
    "%matplotlib inline\n",
    "\n",
    "plot.rc.update({'figure.facecolor':'w','axes.labelweight':'ultralight',\n",
    "                'tick.labelweight':'ultralight','gridminor.linestyle':'--','title.weight':'normal','linewidth':0.5})"
   ]
  },
  {
   "cell_type": "code",
   "execution_count": 2,
   "id": "80a34baf-32d2-4e3b-80cd-f289b9e7e585",
   "metadata": {},
   "outputs": [
    {
     "name": "stdout",
     "output_type": "stream",
     "text": [
      "3dom  axisym  ctl  lwcrf  ncrf_36h  ncrf_60h  ncrf_96h\n"
     ]
    }
   ],
   "source": [
    "!ls /scratch/06040/tg853394/tc/output/redux/maria/"
   ]
  },
  {
   "cell_type": "markdown",
   "id": "85faee46-4d0a-4989-ac63-b9d1e473e442",
   "metadata": {},
   "source": [
    "#### Read in stuff"
   ]
  },
  {
   "cell_type": "code",
   "execution_count": 7,
   "id": "5fd85f04-7365-4814-9882-06b583efd2e1",
   "metadata": {},
   "outputs": [],
   "source": [
    "origin_path = '/scratch/06040/tg853394/tc/output/redux/maria/'\n",
    "#############################################################\n",
    "path_coor = '/scratch/06040/tg853394/tc/output/redux/maria/ctl/post/U.nc'\n",
    "coor = xr.open_dataset(path_coor)\n",
    "#Function####################################################\n",
    "import json,pickle\n",
    "def read_some_azimuth_fields(fileloc=None,fieldname=None):\n",
    "    dict_name = {}\n",
    "    for inx,obj in enumerate(fileloc):\n",
    "        field_read = xr.open_dataset(obj)\n",
    "        dict_name[fieldname[inx]] = field_read\n",
    "    return dict_name\n",
    "def nearest_index(array, value):\n",
    "    idx = (np.abs(array-value)).argmin()\n",
    "    return idx.values\n",
    "def save_to_pickle(loc=None,var=None):\n",
    "    with open(loc,\"wb\") as f:\n",
    "        pickle.dump(var,f)\n",
    "    return None\n",
    "#############################################################\n",
    "ctrlvar_dict = read_some_azimuth_fields(fileloc=[origin_path+'ctl/azim_U_0-144hr.nc',\n",
    "                                                 origin_path+'ctl/azim_V_0-144hr.nc',\n",
    "                                                origin_path+'ctl/azim_T_0-144hr.nc'],\n",
    "                                        fieldname=['U','V','T'])\n",
    "ncrf36var_dict = read_some_azimuth_fields(fileloc=[origin_path+'lwcrf/azim_U_36-144hr.nc',\n",
    "                                                   origin_path+'lwcrf/azim_V_36-144hr.nc',\n",
    "                                                  origin_path+'lwcrf/azim_T_36-144hr.nc'],\n",
    "                                          fieldname=['U','V','T'])"
   ]
  },
  {
   "cell_type": "code",
   "execution_count": 6,
   "id": "047fc011-6d4b-43fe-a913-4edc762fb021",
   "metadata": {},
   "outputs": [],
   "source": [
    "import os,sys\n",
    "sys.path.insert(1, '/work/08350/tg876493/stampede2/python_codes/2020_TC_CRF/dev/freddy0218/tools/')\n",
    "import derive_var"
   ]
  },
  {
   "cell_type": "code",
   "execution_count": 8,
   "id": "052ffc80-fa00-4d13-b026-d1237fe2935b",
   "metadata": {},
   "outputs": [
    {
     "name": "stderr",
     "output_type": "stream",
     "text": [
      "100%|████████████████████████████████████████████████████████████████████████████████████████████████████████████████████████████████████████████████████████████████████████████████████████████████████████████████████████████████████████████████████| 39/39 [04:45<00:00,  7.33s/it]\n"
     ]
    }
   ],
   "source": [
    "lwcrf_theta = derive_var.do_theta(ncrf36var_dict['T']['T'],coor.pres)"
   ]
  },
  {
   "cell_type": "code",
   "execution_count": 10,
   "id": "a69e7937-f00c-4796-b0af-6399545e5c3e",
   "metadata": {},
   "outputs": [],
   "source": [
    "save_to_pickle('/work2/08350/tg876493/stampede2/python_codes/tcg_radiation/output/lwcrf_thetaall',lwcrf_theta)"
   ]
  },
  {
   "cell_type": "code",
   "execution_count": null,
   "id": "3f1c2832-b85b-4407-bb0a-bef164d48051",
   "metadata": {},
   "outputs": [],
   "source": []
  }
 ],
 "metadata": {
  "kernelspec": {
   "display_name": "Python 3 (ipykernel)",
   "language": "python",
   "name": "python3"
  },
  "language_info": {
   "codemirror_mode": {
    "name": "ipython",
    "version": 3
   },
   "file_extension": ".py",
   "mimetype": "text/x-python",
   "name": "python",
   "nbconvert_exporter": "python",
   "pygments_lexer": "ipython3",
   "version": "3.8.8"
  }
 },
 "nbformat": 4,
 "nbformat_minor": 5
}
