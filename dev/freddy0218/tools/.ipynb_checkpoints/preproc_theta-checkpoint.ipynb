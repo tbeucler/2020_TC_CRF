{
 "cells": [
  {
   "cell_type": "code",
   "execution_count": 1,
   "id": "7d72d691-c429-410a-b20b-d8eab4f05824",
   "metadata": {},
   "outputs": [
    {
     "name": "stderr",
     "output_type": "stream",
     "text": [
      "/tmp/ipykernel_2948521/3383560018.py:22: ProplotWarning: rc setting 'linewidth' was renamed to 'meta.width' in version 0.8.\n",
      "  plot.rc.update({'figure.facecolor':'w','axes.labelweight':'ultralight',\n"
     ]
    }
   ],
   "source": [
    "import warnings\n",
    "warnings.filterwarnings('ignore',category=RuntimeWarning)\n",
    "import xarray as xr\n",
    "import numpy as np\n",
    "import matplotlib as mpl\n",
    "import matplotlib.pyplot as plt\n",
    "import seaborn as sns\n",
    "import glob,os\n",
    "from tqdm.auto import tqdm\n",
    "import datetime\n",
    "import proplot as plot\n",
    "from netCDF4 import Dataset\n",
    "from wrf import getvar\n",
    "import os,sys,gc\n",
    "sys.path.insert(1, '/work/FAC/FGSE/IDYST/tbeucler/default/freddy0218/TCGphy/2020_TC_CRF/dev/freddy0218/')\n",
    "from tools import derive_var,read_and_proc,preproc_noensemble\n",
    "from tools.mlr import mlr\n",
    "from tools.preprocess import do_eof,preproc_maria\n",
    "\n",
    "%matplotlib inline\n",
    "\n",
    "plot.rc.update({'figure.facecolor':'w','axes.labelweight':'ultralight',\n",
    "                'tick.labelweight':'ultralight','gridminor.linestyle':'--','title.weight':'normal','linewidth':0.5})"
   ]
  },
  {
   "cell_type": "code",
   "execution_count": 2,
   "id": "80a34baf-32d2-4e3b-80cd-f289b9e7e585",
   "metadata": {},
   "outputs": [
    {
     "name": "stdout",
     "output_type": "stream",
     "text": [
      "extract.sh  mem10  mem12  mem14  mem16\tmem18  mem2   mem3  mem5  mem7\tmem9\n",
      "mem1\t    mem11  mem13  mem15  mem17\tmem19  mem20  mem4  mem6  mem8\tU.nc\n"
     ]
    }
   ],
   "source": [
    "!ls /work/FAC/FGSE/IDYST/tbeucler/default/freddy0218/data/haiyan"
   ]
  },
  {
   "cell_type": "markdown",
   "id": "85faee46-4d0a-4989-ac63-b9d1e473e442",
   "metadata": {},
   "source": [
    "#### Read in stuff"
   ]
  },
  {
   "cell_type": "code",
   "execution_count": 3,
   "id": "5fd85f04-7365-4814-9882-06b583efd2e1",
   "metadata": {},
   "outputs": [],
   "source": [
    "origin_path = '/scratch/06040/tg853394/tc/output/redux/maria/'\n",
    "#############################################################\n",
    "path_coor = '/work/FAC/FGSE/IDYST/tbeucler/default/freddy0218/data/haiyan/U.nc'\n",
    "coor = xr.open_dataset(path_coor)\n",
    "#Function####################################################\n",
    "import json,pickle\n",
    "def read_some_azimuth_fields(fileloc=None,fieldname=None):\n",
    "    dict_name = {}\n",
    "    for inx,obj in enumerate(fileloc):\n",
    "        field_read = xr.open_dataset(obj)\n",
    "        dict_name[fieldname[inx]] = field_read\n",
    "    return dict_name\n",
    "def nearest_index(array, value):\n",
    "    idx = (np.abs(array-value)).argmin()\n",
    "    return idx.values\n",
    "def save_to_pickle(loc=None,var=None):\n",
    "    with open(loc,\"wb\") as f:\n",
    "        pickle.dump(var,f)\n",
    "    return None"
   ]
  },
  {
   "cell_type": "markdown",
   "id": "8067a303-5eac-4238-8cb0-71eca65fffa7",
   "metadata": {
    "tags": []
   },
   "source": [
    "#### Potential Temperature"
   ]
  },
  {
   "cell_type": "code",
   "execution_count": 4,
   "id": "052ffc80-fa00-4d13-b026-d1237fe2935b",
   "metadata": {
    "tags": []
   },
   "outputs": [],
   "source": [
    "def do_theta(originpath=None,coor_pres=coor.pres,savepath=None,number=None):\n",
    "    \"\"\"\n",
    "    Derive theta and save to /scratch\n",
    "    \"\"\"\n",
    "    ctrlvar_dict = read_some_azimuth_fields(fileloc=[originpath+'mem'+str(int(number))+'/azim_T_0-168hr_track1.nc'],fieldname=['T'])        \n",
    "    lwcrf_theta = derive_var.do_theta(ctrlvar_dict['T']['T'],coor.pres)\n",
    "    read_and_proc.save_to_pickle(savepath+'mem'+str(int(number))+'_theta',lwcrf_theta)\n",
    "    del ctrlvar_dict,lwcrf_theta\n",
    "    gc.collect()\n",
    "    return None\n",
    "\n",
    "#azim_T_0-168hr_track1.nc"
   ]
  },
  {
   "cell_type": "code",
   "execution_count": 5,
   "id": "a69e7937-f00c-4796-b0af-6399545e5c3e",
   "metadata": {
    "tags": []
   },
   "outputs": [
    {
     "data": {
      "application/vnd.jupyter.widget-view+json": {
       "model_id": "0c798b05c8ce4551bcf632bf3cdb7f32",
       "version_major": 2,
       "version_minor": 0
      },
      "text/plain": [
       "  0%|          | 0/20 [00:00<?, ?it/s]"
      ]
     },
     "metadata": {},
     "output_type": "display_data"
    }
   ],
   "source": [
    "for i in tqdm(range(1,21)):\n",
    "    do_theta(originpath='/work/FAC/FGSE/IDYST/tbeucler/default/freddy0218/data/haiyan/',coor_pres=coor.pres,savepath='/work/FAC/FGSE/IDYST/tbeucler/default/freddy0218/TCGphy/testML/output/haiyan/',number=i)"
   ]
  },
  {
   "cell_type": "markdown",
   "id": "aea68b95-2302-4d19-9dad-1af2b8e0f96d",
   "metadata": {},
   "source": [
    "#### Radial/Tangential Velocities"
   ]
  },
  {
   "cell_type": "code",
   "execution_count": 5,
   "id": "4ce85518-a662-401b-9f67-2b44a267823a",
   "metadata": {},
   "outputs": [],
   "source": [
    "def do_uradvtan(originpath=None,coor_pres=coor.pres,savepath=None,number=None,radius=None):\n",
    "    \"\"\"\n",
    "    Derive urad/vtan and save to /scratch\n",
    "    \"\"\"\n",
    "    ctrlvar_dict = read_some_azimuth_fields(fileloc=[originpath+'mem'+str(int(number))+'/azim_U_0-168hr_track1.nc',\\\n",
    "                                                     originpath+'mem'+str(int(number))+'/azim_V_0-168hr_track1.nc'],fieldname=['U','V'])\n",
    "    r500 = nearest_index(ctrlvar_dict['U']['U'].radius,radius)\n",
    "    ctrlhUrad,ctrlhVtan,_ = derive_var.ruppert_vtmax_calc(ctrlvar_dict['U']['U'].data,ctrlvar_dict['V']['V'].data,r500,ctrlvar_dict['U']['U'][:,0,:,:].azmiuth.values,None)\n",
    "    read_and_proc.save_to_pickle(savepath+'mem'+str(int(number))+'_urad',ctrlhUrad)\n",
    "    read_and_proc.save_to_pickle(savepath+'mem'+str(int(number))+'_vtan',ctrlhVtan)\n",
    "    del ctrlvar_dict,ctrlhUrad,ctrlhVtan\n",
    "    gc.collect()\n",
    "    return None    "
   ]
  },
  {
   "cell_type": "code",
   "execution_count": 6,
   "id": "b092d740-f5d7-4359-a202-4e0c0592cdef",
   "metadata": {},
   "outputs": [
    {
     "name": "stderr",
     "output_type": "stream",
     "text": [
      "100%|█████████████████████████████████████████████████████████████████████████████████████████████████████████████████████████████████████████████████████████████████████████████████████████████████████████| 20/20 [01:22<00:00,  4.14s/it]\n"
     ]
    }
   ],
   "source": [
    "from tqdm import tqdm\n",
    "for i in tqdm(range(1,21)):\n",
    "    do_uradvtan(originpath='/work/FAC/FGSE/IDYST/tbeucler/default/freddy0218/data/haiyan/',coor_pres=coor.pres,savepath='/work/FAC/FGSE/IDYST/tbeucler/default/freddy0218/TCGphy/testML/output/haiyan/',number=i,\n",
    "               radius=800)"
   ]
  },
  {
   "cell_type": "code",
   "execution_count": null,
   "id": "06d5f473-9963-4e72-9086-a68cfdcbb5a1",
   "metadata": {},
   "outputs": [],
   "source": []
  }
 ],
 "metadata": {
  "kernelspec": {
   "display_name": "Python 3 (ipykernel)",
   "language": "python",
   "name": "python3"
  },
  "language_info": {
   "codemirror_mode": {
    "name": "ipython",
    "version": 3
   },
   "file_extension": ".py",
   "mimetype": "text/x-python",
   "name": "python",
   "nbconvert_exporter": "python",
   "pygments_lexer": "ipython3",
   "version": "3.9.7"
  }
 },
 "nbformat": 4,
 "nbformat_minor": 5
}
