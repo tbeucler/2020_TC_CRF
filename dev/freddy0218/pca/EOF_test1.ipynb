{
 "cells": [
  {
   "cell_type": "code",
   "execution_count": 1,
   "id": "6b07fbf3",
   "metadata": {},
   "outputs": [],
   "source": [
    "import warnings\n",
    "warnings.filterwarnings('ignore',category=RuntimeWarning)\n",
    "import xarray as xr\n",
    "import numpy as np\n",
    "import matplotlib as mpl\n",
    "import matplotlib.pyplot as plt\n",
    "import seaborn as sns\n",
    "import glob,os\n",
    "from tqdm import tqdm\n",
    "import datetime\n",
    "import proplot as plot\n",
    "from netCDF4 import Dataset\n",
    "from wrf import getvar\n",
    "%matplotlib inline\n",
    "\n",
    "plot.rc.update({'figure.facecolor':'w','axes.labelweight':'ultralight',\n",
    "                'tick.labelweight':'ultralight','gridminor.linestyle':'--','title.weight':'normal','linewidth':0.5})"
   ]
  },
  {
   "cell_type": "code",
   "execution_count": 2,
   "id": "ee320756",
   "metadata": {},
   "outputs": [],
   "source": [
    "import json,pickle\n",
    "def save_to_pickle(loc=None,var=None):\n",
    "    with open(loc,\"wb\") as f:\n",
    "        pickle.dump(var,f)\n",
    "    return None\n",
    "\n",
    "#save_to_pickle(loc='../output/ctrl_thetaall',var=ctrl_theta)\n",
    "#save_to_pickle(loc='../output/ncrf36_thetaall',var=ncrf36_theta)\n",
    "#save_to_pickle(loc='../output/ncrf60_thetaall',var=ncrf60_theta)\n",
    "\n",
    "path = '/work2/08350/tg876493/stampede2/python_codes/tcg_radiation/output/'\n",
    "file = [path+'ctrl_thetaall',path+'ncrf36_thetaall',path+'ncrf60_thetaall']\n",
    "\n",
    "output = []\n",
    "for i in range(len(file)):\n",
    "    with open(file[i],'rb') as f:\n",
    "        output.append(pickle.load(f))\n",
    "\n",
    "theta_dict = {'CTRL_theta':output[0],'NCRF36_theta':output[1],'NCRF60_theta':output[2]}"
   ]
  },
  {
   "cell_type": "code",
   "execution_count": 3,
   "id": "61af0483",
   "metadata": {},
   "outputs": [],
   "source": [
    "origin_path = '/scratch/06040/tg853394/tc/output/redux/maria/'\n",
    "#Function####################################################\n",
    "def read_some_azimuth_fields(fileloc=None,fieldname=None):\n",
    "    dict_name = {}\n",
    "    for inx,obj in enumerate(fileloc):\n",
    "        field_read = xr.open_dataset(obj)\n",
    "        dict_name[fieldname[inx]] = field_read\n",
    "    return dict_name\n",
    "#############################################################\n",
    "ctrlvar_dict = read_some_azimuth_fields(fileloc=[origin_path+'ctl/azim_T_0-144hr.nc',\n",
    "                                                origin_path+'ctl/azim_H_DIABATIC_0-144hr.nc'],\n",
    "                                        fieldname=['T','HDIA'])\n",
    "ncrf60var_dict = read_some_azimuth_fields(fileloc=[origin_path+'ncrf_60h/azim_T_60-144hr.nc',\n",
    "                                                  origin_path+'ncrf_60h/azim_H_DIABATIC_60-144hr.nc'],\n",
    "                                          fieldname=['T','HDIA'])\n",
    "ncrf36var_dict = read_some_azimuth_fields(fileloc=[origin_path+'ncrf_36h/azim_T_36-144hr.nc',\n",
    "                                                  origin_path+'ncrf_36h/azim_H_DIABATIC_36-144hr.nc'],\n",
    "                                          fieldname=['T','HDIA'])"
   ]
  },
  {
   "cell_type": "code",
   "execution_count": 4,
   "id": "9e19a2cd",
   "metadata": {},
   "outputs": [],
   "source": [
    "def nearest_index(array, value):\n",
    "    idx = (np.abs(array-value)).argmin()\n",
    "    return idx.values\n",
    "# To be consistent with azimuthal files\n",
    "########################################################################################################\n",
    "ctrl_thetaA,ncrf36_thetaA,ncrf60_thetaA = np.swapaxes(np.asarray(theta_dict['CTRL_theta']),0,1),\\\n",
    "np.swapaxes(np.asarray(theta_dict['NCRF36_theta']),0,1),np.swapaxes(np.asarray(theta_dict['NCRF60_theta']),0,1)\n",
    "\n",
    "# Heating Rate\n",
    "#########################################################################################################\n",
    "r0,r200=(nearest_index(ctrlvar_dict['T']['T'].radius,0),nearest_index(ctrlvar_dict['T']['T'].radius,200))\n",
    "r300,r500=(nearest_index(ctrlvar_dict['T']['T'].radius,300),nearest_index(ctrlvar_dict['T']['T'].radius,500))\n",
    "ctrl_thetagrad = np.gradient(ctrl_thetaA,60*60,axis=0)\n",
    "ncrf36_thetagrad = np.gradient(ncrf36_thetaA,60*60,axis=0)\n",
    "ncrf60_thetagrad = np.gradient(ncrf60_thetaA,60*60,axis=0)"
   ]
  },
  {
   "cell_type": "code",
   "execution_count": 65,
   "id": "05141a89",
   "metadata": {},
   "outputs": [],
   "source": [
    "ctrl_t2,ctrl_t4 = nearest_index(ctrlvar_dict['T']['T'].time/24,2),nearest_index(ctrlvar_dict['T']['T'].time/24,4.5)"
   ]
  },
  {
   "cell_type": "markdown",
   "id": "530c3d48",
   "metadata": {},
   "source": [
    "### PCA"
   ]
  },
  {
   "cell_type": "code",
   "execution_count": 6,
   "id": "83f022aa",
   "metadata": {},
   "outputs": [],
   "source": [
    "def normalize_inner(var=None,outerradius=None):\n",
    "    PWper_ctrl = []\n",
    "    for indx in range(len(var[:,0,0])):\n",
    "        temp = var[indx,:,:outerradius]-np.nanmean(var[indx,:,:outerradius],axis=(0,1))\n",
    "        PWper_ctrl.append((temp-np.nanmean(temp))/np.nanstd(temp))\n",
    "    del temp\n",
    "    return np.asarray(PWper_ctrl)\n",
    "\n",
    "output_ctrl,output_ncrf36,output_ncrf60 = [],[],[]\n",
    "for presindex in range(len(ctrl_thetagrad[0,:,0,0])):\n",
    "    output_ctrl.append(normalize_inner(ctrl_thetagrad[:,presindex,:,:],r500))\n",
    "for presindex in range(len(ncrf36_thetagrad[0,:,0,0])):\n",
    "    output_ncrf36.append(normalize_inner(ncrf36_thetagrad[:,presindex,:,:],r500))\n",
    "for presindex in range(len(ncrf60_thetagrad[0,:,0,0])):\n",
    "    output_ncrf60.append(normalize_inner(ncrf60_thetagrad[:,presindex,:,:],r500))"
   ]
  },
  {
   "cell_type": "markdown",
   "id": "ac2c7825",
   "metadata": {},
   "source": [
    "##### Do we need to smooth the data?"
   ]
  },
  {
   "cell_type": "code",
   "execution_count": 23,
   "id": "2f0adf13",
   "metadata": {},
   "outputs": [],
   "source": [
    "from scipy.ndimage import gaussian_filter\n",
    "output_ctrl = []\n",
    "for presindex in range(len(ctrl_thetagrad[0,:,0,0])):\n",
    "    output_ctrl.append(gaussian_filter(normalize_inner(ctrl_thetagrad[:,presindex,:,:],r500),0.9))"
   ]
  },
  {
   "cell_type": "code",
   "execution_count": 24,
   "id": "90cfe4a9",
   "metadata": {},
   "outputs": [],
   "source": [
    "output_ctrl = np.swapaxes(np.asarray(output_ctrl),0,1)"
   ]
  },
  {
   "cell_type": "markdown",
   "id": "cd49dbcd",
   "metadata": {},
   "source": [
    "##### flatten matrices"
   ]
  },
  {
   "cell_type": "code",
   "execution_count": 70,
   "id": "dd46f0cd",
   "metadata": {},
   "outputs": [],
   "source": [
    "ctrl_thetagradf = np.asarray([output_ctrl[i,:,:,:r500].flatten() \\\n",
    "                              for i in range(len(output_ctrl[ctrl_t2:ctrl_t4,0,0,0]))])\n",
    "#ncrf36_thetagradf = np.asarray([ncrf36_thetagrad[i,:,:,:].flatten() for i in range(len(ncrf36_thetagrad[:,0,0,0]))])\n",
    "#ncrf60_thetagradf = np.asarray([ncrf60_thetagrad[i,:,:,:].flatten() for i in range(len(ncrf60_thetagrad[:,0,0,0]))])"
   ]
  },
  {
   "cell_type": "code",
   "execution_count": 71,
   "id": "730c568e",
   "metadata": {},
   "outputs": [
    {
     "data": {
      "text/plain": [
       "(60, 2344680)"
      ]
     },
     "execution_count": 71,
     "metadata": {},
     "output_type": "execute_result"
    }
   ],
   "source": [
    "ctrl_thetagradf.shape"
   ]
  },
  {
   "cell_type": "code",
   "execution_count": 72,
   "id": "ea720c89",
   "metadata": {},
   "outputs": [
    {
     "name": "stdout",
     "output_type": "stream",
     "text": [
      "--- 82.86938643455505 seconds ---\n"
     ]
    }
   ],
   "source": [
    "from sklearn.decomposition import PCA\n",
    "import time\n",
    "start_time = time.time()\n",
    "skpca = PCA()\n",
    "skpca.fit(ctrl_thetagradf.copy())\n",
    "print(\"--- %s seconds ---\" % (time.time() - start_time))"
   ]
  },
  {
   "cell_type": "code",
   "execution_count": 60,
   "id": "3fe09a6c",
   "metadata": {},
   "outputs": [
    {
     "data": {
      "text/plain": [
       "array([0.15355587, 0.23026858, 0.29874358, 0.36216944, 0.4171096 ,\n",
       "       0.46792486, 0.5170024 , 0.5608981 , 0.60340166, 0.64370966,\n",
       "       0.6808311 , 0.71616274, 0.7474792 , 0.77834386, 0.8061763 ,\n",
       "       0.8329123 , 0.85652566, 0.87757015, 0.8975714 , 0.91466135,\n",
       "       0.9286815 , 0.9416799 , 0.9519864 , 0.9609796 , 0.96921825,\n",
       "       0.97555274, 0.9814083 , 0.9861134 , 0.9898217 , 0.9925368 ,\n",
       "       0.99461806, 0.99615514, 0.9973289 , 0.9982197 , 0.99884224,\n",
       "       0.99921864, 0.99948496, 0.9996757 , 0.9997976 , 0.9998785 ,\n",
       "       0.9999256 , 0.9999641 , 0.99998146, 0.99999046, 0.9999965 ,\n",
       "       0.9999987 , 0.9999999 , 0.9999999 ], dtype=float32)"
      ]
     },
     "execution_count": 60,
     "metadata": {},
     "output_type": "execute_result"
    }
   ],
   "source": [
    "# Day2-Day4,r200-r500\n",
    "skpca.explained_variance_ratio_.cumsum()"
   ]
  },
  {
   "cell_type": "code",
   "execution_count": 69,
   "id": "c69ef6eb",
   "metadata": {},
   "outputs": [
    {
     "data": {
      "text/plain": [
       "array([0.12709036, 0.19826677, 0.2554981 , 0.31013787, 0.3577393 ,\n",
       "       0.40351126, 0.44621742, 0.48730913, 0.52680194, 0.5620174 ,\n",
       "       0.59554017, 0.62876236, 0.65848607, 0.6880091 , 0.71542555,\n",
       "       0.74203694, 0.767515  , 0.79093295, 0.81217635, 0.8332258 ,\n",
       "       0.8525363 , 0.8702053 , 0.8865003 , 0.90127486, 0.91515374,\n",
       "       0.92704886, 0.9376402 , 0.9470263 , 0.95511913, 0.96235967,\n",
       "       0.96895885, 0.9745965 , 0.9790088 , 0.98283327, 0.98627657,\n",
       "       0.9893389 , 0.99162287, 0.99350125, 0.99492776, 0.996151  ,\n",
       "       0.9971056 , 0.9978784 , 0.9984785 , 0.9989111 , 0.99920595,\n",
       "       0.9994284 , 0.9996045 , 0.99972594, 0.9998158 , 0.9998781 ,\n",
       "       0.9999186 , 0.999952  , 0.9999718 , 0.9999832 , 0.9999904 ,\n",
       "       0.9999955 , 0.99999774, 0.99999946, 1.        , 1.        ],\n",
       "      dtype=float32)"
      ]
     },
     "execution_count": 69,
     "metadata": {},
     "output_type": "execute_result"
    }
   ],
   "source": [
    "# Day2-Day4.5,r200-r500\n",
    "skpca.explained_variance_ratio_.cumsum()"
   ]
  },
  {
   "cell_type": "code",
   "execution_count": 73,
   "id": "ed9af0b1",
   "metadata": {},
   "outputs": [
    {
     "data": {
      "text/plain": [
       "array([0.10066482, 0.17190647, 0.22670533, 0.27941045, 0.32491195,\n",
       "       0.36937666, 0.4127213 , 0.45403045, 0.4917999 , 0.52766585,\n",
       "       0.5630492 , 0.597558  , 0.62982416, 0.66192144, 0.6929607 ,\n",
       "       0.722309  , 0.7486962 , 0.7738347 , 0.79748595, 0.8186267 ,\n",
       "       0.83864397, 0.85681283, 0.8745965 , 0.8918057 , 0.9069503 ,\n",
       "       0.9207477 , 0.93258786, 0.94256544, 0.95114964, 0.95910686,\n",
       "       0.965903  , 0.97184527, 0.9769644 , 0.9810928 , 0.9845227 ,\n",
       "       0.98775834, 0.9904834 , 0.99257916, 0.9943377 , 0.99574757,\n",
       "       0.99679244, 0.99763256, 0.9982626 , 0.9987617 , 0.9991294 ,\n",
       "       0.99938095, 0.9995577 , 0.99969894, 0.9997946 , 0.9998647 ,\n",
       "       0.9999122 , 0.99994135, 0.9999666 , 0.999982  , 0.9999897 ,\n",
       "       0.999995  , 0.99999803, 0.99999946, 1.0000001 , 1.0000001 ],\n",
       "      dtype=float32)"
      ]
     },
     "execution_count": 73,
     "metadata": {},
     "output_type": "execute_result"
    }
   ],
   "source": [
    "# Day2-Day4.5,r0-r500\n",
    "skpca.explained_variance_ratio_.cumsum()"
   ]
  },
  {
   "cell_type": "code",
   "execution_count": null,
   "id": "3e104346",
   "metadata": {},
   "outputs": [],
   "source": []
  }
 ],
 "metadata": {
  "kernelspec": {
   "display_name": "Python 3 (ipykernel)",
   "language": "python",
   "name": "python3"
  },
  "language_info": {
   "codemirror_mode": {
    "name": "ipython",
    "version": 3
   },
   "file_extension": ".py",
   "mimetype": "text/x-python",
   "name": "python",
   "nbconvert_exporter": "python",
   "pygments_lexer": "ipython3",
   "version": "3.8.8"
  }
 },
 "nbformat": 4,
 "nbformat_minor": 5
}
