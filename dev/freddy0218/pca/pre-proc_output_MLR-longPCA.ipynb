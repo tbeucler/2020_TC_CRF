{
 "cells": [
  {
   "cell_type": "code",
   "execution_count": 1,
   "id": "61c59aeb-337b-4745-a187-2078fc00df6a",
   "metadata": {},
   "outputs": [],
   "source": [
    "import warnings\n",
    "warnings.filterwarnings('ignore',category=RuntimeWarning)\n",
    "import xarray as xr\n",
    "import numpy as np\n",
    "import matplotlib as mpl\n",
    "import matplotlib.pyplot as plt\n",
    "import seaborn as sns\n",
    "import glob,os,sys\n",
    "from tqdm import tqdm\n",
    "import datetime\n",
    "import proplot as plot\n",
    "from netCDF4 import Dataset\n",
    "from wrf import getvar\n",
    "import celer\n",
    "from scipy.ndimage import gaussian_filter\n",
    "import gc\n",
    "%matplotlib inline\n",
    "\n",
    "sys.path.insert(1, '/work/08350/tg876493/stampede2/python_codes/2020_TC_CRF/dev/freddy0218/tools/')\n",
    "import derive_var\n",
    "import myeof \n",
    "import read_and_proc\n",
    "from derive_var import forward_diff\n",
    "\n",
    "plot.rc.update({'figure.facecolor':'w','axes.labelweight':'ultralight',\n",
    "                'tick.labelweight':'ultralight','gridminor.linestyle':'--','title.weight':'normal','linewidth':0.5})"
   ]
  },
  {
   "cell_type": "markdown",
   "id": "78162731-a37b-47f2-b40a-e4b005b74cfe",
   "metadata": {
    "tags": []
   },
   "source": [
    "#### PCA members needed (Urad:14,Vtan:16,w:40)"
   ]
  },
  {
   "cell_type": "code",
   "execution_count": 2,
   "id": "031e0ec1-92b4-4268-b65f-60094d531c54",
   "metadata": {
    "tags": []
   },
   "outputs": [
    {
     "name": "stderr",
     "output_type": "stream",
     "text": [
      "5it [01:49, 22.00s/it]\n"
     ]
    }
   ],
   "source": [
    "############################################################################################################################################\n",
    "# PCA_dict: Processed EOF objects; A_dict: Variable anomaly matrices; Af_dict: Flattened variable anomaly matrices\n",
    "# *note that following EOF conventions, we derived EOFs with anomalies.\n",
    "############################################################################################################################################\n",
    "import pickle\n",
    "from tqdm import tqdm\n",
    "path = '/scratch/08350/tg876493/ruppert2020/output/'\n",
    "pca_dict,flatvar_dict = {},{}\n",
    "varname = ['U','V','W','QV','dthdt']\n",
    "for inx,obj in tqdm(enumerate(varname)):\n",
    "    pca_dict[varname[inx]] = read_and_proc.depickle(path+'pca/'+str(obj)+'_pca')\n",
    "    flatvar_dict[varname[inx]] = read_and_proc.depickle(path+'flatvar/'+str(obj)+'_flatvar')\n",
    "#dudvdw_dict = {}\n",
    "#varname = ['dw']#,'dv','dw']\n",
    "#for inx,obj in tqdm(enumerate(varname)):\n",
    " #   dudvdw_dict[varname[inx]] = read_and_proc.depickle(path+'dudvdw/'+str(obj)+'_flatvar')"
   ]
  },
  {
   "cell_type": "code",
   "execution_count": 8,
   "id": "50b2c7cb-0a67-4a7d-8a29-2a9bdcb40495",
   "metadata": {
    "tags": []
   },
   "outputs": [
    {
     "name": "stdout",
     "output_type": "stream",
     "text": [
      "The number of required components to explain 90% variance of each variables: \n",
      "dthetadt:11 urad:3 vtan:1 w:20 qv:3\n"
     ]
    }
   ],
   "source": [
    "print(\"The number of required components to explain 90% variance of each variables: \")\n",
    "print(\"dthetadt:\"+str(np.abs(pca_dict['dthdt'].explained_variance_ratio_.cumsum()-0.8).argmin())+\" \"\\\n",
    "      \"urad:\"+str(np.abs(pca_dict['U'].explained_variance_ratio_.cumsum()-0.8).argmin())+\" \"\\\n",
    "      \"vtan:\"+str(np.abs(pca_dict['V'].explained_variance_ratio_.cumsum()-0.8).argmin())+\" \"\\\n",
    "      \"w:\"+str(np.abs(pca_dict['W'].explained_variance_ratio_.cumsum()-0.8).argmin())+\" \"\\\n",
    "     \"qv:\"+str(np.abs(pca_dict['QV'].explained_variance_ratio_.cumsum()-0.8).argmin()))"
   ]
  },
  {
   "cell_type": "markdown",
   "id": "a58e8ea5-ca60-43c5-a4ad-87c0ae74d9b3",
   "metadata": {
    "jp-MarkdownHeadingCollapsed": true,
    "tags": []
   },
   "source": [
    "##### Results"
   ]
  },
  {
   "cell_type": "code",
   "execution_count": 7,
   "id": "b2c6bf7f-97aa-4a2a-8e37-95ca8c8c5ac2",
   "metadata": {
    "tags": []
   },
   "outputs": [
    {
     "data": {
      "text/plain": [
       "[0.0,\n",
       " 0.2349252,\n",
       " 0.31573617,\n",
       " 0.4522541,\n",
       " 0.5136231,\n",
       " 0.5648523,\n",
       " 0.6347567,\n",
       " 0.6814561,\n",
       " 0.70532167,\n",
       " 0.73693025,\n",
       " 0.7583128,\n",
       " 0.7770223,\n",
       " 0.7949878,\n",
       " 0.8103021]"
      ]
     },
     "execution_count": 7,
     "metadata": {},
     "output_type": "execute_result"
    }
   ],
   "source": [
    "read_and_proc.depickle('./Vtan_var_new')"
   ]
  },
  {
   "cell_type": "code",
   "execution_count": 7,
   "id": "23c5a30f-01e3-4348-b18a-8c1a58e63f6d",
   "metadata": {
    "collapsed": true,
    "jupyter": {
     "outputs_hidden": true,
     "source_hidden": true
    },
    "tags": []
   },
   "outputs": [
    {
     "name": "stdout",
     "output_type": "stream",
     "text": [
      "0.0\n",
      "2.0\n",
      "4.0\n",
      "6.0\n",
      "8.0\n",
      "10.0\n",
      "12.0\n",
      "14.0\n",
      "16.0\n",
      "18.0\n",
      "20.0\n",
      "22.0\n",
      "24.0\n",
      "26.0\n"
     ]
    }
   ],
   "source": [
    "for i in np.linspace(0,26,14):\n",
    "    print(i)"
   ]
  },
  {
   "cell_type": "code",
   "execution_count": 3,
   "id": "786b90da-b632-4ed2-b134-3e4a0b5859fb",
   "metadata": {
    "tags": []
   },
   "outputs": [],
   "source": [
    "def output_varexplained(varname='U',dudvdw_name='du',pca_dict=None,flatvar_dict=None,dudvdw_dict=None,member=np.linspace(0,25,26)):\n",
    "    output = []\n",
    "    for i in (member):\n",
    "        temp1 = np.dot(forward_diff(pca_dict[varname].transform(flatvar_dict[varname])[0:108,0:int(i)],60*60,0,1),(pca_dict[varname].components_[0:int(i)]))\n",
    "        temp2 = np.dot(forward_diff(pca_dict[varname].transform(flatvar_dict[varname])[108:108+96,0:int(i)],60*60,0,1),(pca_dict[varname].components_[0:int(i)]))\n",
    "        temp3 = np.dot(forward_diff(pca_dict[varname].transform(flatvar_dict[varname])[108+96:108+96+72,0:int(i)],60*60,0,1),(pca_dict[varname].components_[0:int(i)]))\n",
    "        temp4 = np.dot(forward_diff(pca_dict[varname].transform(flatvar_dict[varname])[108+96+72:108+96+72+96,0:int(i)],60*60,0,1),(pca_dict[varname].components_[0:int(i)]))\n",
    "        temp = np.concatenate((temp1,temp2,temp3,temp4),axis=0)\n",
    "        del temp1,temp2,temp3,temp4\n",
    "        gc.collect()\n",
    "        \n",
    "        toout = np.var(temp)/np.var(dudvdw_dict[dudvdw_name][:,:])\n",
    "        output.append(toout)\n",
    "        del temp\n",
    "        gc.collect()\n",
    "        print(toout)\n",
    "    return output"
   ]
  },
  {
   "cell_type": "code",
   "execution_count": null,
   "id": "0ce687f9-6141-4c8a-b5a2-779bcc43eead",
   "metadata": {
    "collapsed": true,
    "jupyter": {
     "outputs_hidden": true
    },
    "tags": []
   },
   "outputs": [
    {
     "name": "stdout",
     "output_type": "stream",
     "text": [
      "0.0\n",
      "0.039352287\n",
      "0.1025091\n",
      "0.14543414\n",
      "0.17766559\n",
      "0.21379414\n",
      "0.25180483\n",
      "0.2863264\n",
      "0.30951533\n",
      "0.3385208\n",
      "0.37161696\n"
     ]
    }
   ],
   "source": [
    "Uvar = output_varexplained('W','dw',pca_dict,flatvar_dict,dudvdw_dict,np.linspace(0,34,18))#np.linspace(0,26,14)"
   ]
  },
  {
   "cell_type": "code",
   "execution_count": null,
   "id": "43d2b627-1267-4956-832b-5ba1d34a42ef",
   "metadata": {
    "tags": []
   },
   "outputs": [],
   "source": [
    "read_and_proc.save_to_pickle('./W_var_new',Uvar)"
   ]
  },
  {
   "cell_type": "markdown",
   "id": "bb56d339-834d-470e-8432-4c7755843f6c",
   "metadata": {
    "tags": []
   },
   "source": [
    "#### Functions"
   ]
  },
  {
   "cell_type": "code",
   "execution_count": 3,
   "id": "0cbd885f-9ac1-4737-853d-8c29793ce18c",
   "metadata": {
    "tags": []
   },
   "outputs": [],
   "source": [
    "#Function####################################################\n",
    "import json,pickle\n",
    "def nearest_index(array, value):\n",
    "    idx = (np.abs(array-value)).argmin()\n",
    "    return idx.values\n",
    "\n",
    "def standardize(t,formula='I'):\n",
    "    if formula=='I':\n",
    "        return (t-np.min(np.asarray(t)))/(np.max(np.asarray(t))-np.min(np.asarray(t)))\n",
    "    elif formula=='II':\n",
    "        return (t-np.mean(np.asarray(t)))/(np.std(np.asarray(t)))\n",
    "    \n",
    "def output_PCAtimeseries(PCAdict=None,varname=None,flatvar=None,no_comp=None,standard=True,standardtype='II'):\n",
    "    if varname is None:\n",
    "        varname=['dthdt','U','V','W','QV']\n",
    "    timeseries_out = {}\n",
    "    for index,var in enumerate(varname):\n",
    "        if standard is True:\n",
    "            timeseries_out[var] = standardize(PCAdict[var].transform(flatvar[var])[:,0:no_comp[index]],standardtype)\n",
    "        else:\n",
    "            timeseries_out[var] = PCAdict[var].transform(flatvar[var])[:,0:no_comp[index]]\n",
    "    return timeseries_out\n",
    "\n",
    "def output_PCAtimeseries_decompose(PCAdict=None,varname=None,flatvar=None,no_comp=None,standard=True,standardtype='II',\\\n",
    "                                   varname_total=['dtheta'],flatvar_store=None):\n",
    "    \"\"\"\n",
    "    Heat decomposition\n",
    "    \"\"\"\n",
    "    if varname is None:\n",
    "        varname=['dthdt','U','V','W','QV']\n",
    "    timeseries_out = {}\n",
    "    for index,var in enumerate(varname):\n",
    "        if standard is True:\n",
    "            if var==varname_total[0]:\n",
    "                storevar = PCAdict[var].transform(flatvar_store[0])[:,0:no_comp[index]]\n",
    "                mean_store,std_store = np.mean(np.asarray(storevar)),np.std(np.asarray(storevar))\n",
    "                timeseries_out[var] = PCAdict[var].transform(flatvar[index])[:,0:no_comp[index]]/std_store\n",
    "                timeseries_mean = mean_store/std_store\n",
    "            else:\n",
    "                timeseries_out[var] = standardize(PCAdict[var].transform(flatvar[index])[:,0:no_comp[index]],standardtype)\n",
    "    return timeseries_out,timeseries_mean\n",
    "\n",
    "def produce_input(PCAtimeseries=None):\n",
    "    dtuvw = np.concatenate([y for y in [PCAtimeseries['U'],PCAtimeseries['V'],PCAtimeseries['W'],PCAtimeseries['dthdt']]],axis=1)\n",
    "    uv = np.concatenate([y for y in [PCAtimeseries['U'],PCAtimeseries['V']]],axis=1)\n",
    "    dtuv = np.concatenate([y for y in [PCAtimeseries['U'],PCAtimeseries['V'],PCAtimeseries['dthdt']]],axis=1)\n",
    "    uvw = np.concatenate([y for y in [PCAtimeseries['U'],PCAtimeseries['V'],PCAtimeseries['W']]],axis=1)\n",
    "    uvwqv = np.concatenate([y for y in [PCAtimeseries['U'],PCAtimeseries['V'],PCAtimeseries['W'],PCAtimeseries['QV']]],axis=1)\n",
    "    uvqv = np.concatenate([y for y in [PCAtimeseries['U'],PCAtimeseries['V'],PCAtimeseries['QV']]],axis=1)\n",
    "    dtuvwqv = np.concatenate([y for y in [PCAtimeseries['U'],PCAtimeseries['V'],PCAtimeseries['W'],PCAtimeseries['dthdt'],PCAtimeseries['QV']]],axis=1)\n",
    "    output_dict={'uv':uv,'uvw':uvw,'uvqv':uvqv,'uvwqv':uvwqv,'dtuvw':dtuvw,'dtuvwqv':dtuvwqv,'dtuv':dtuv}\n",
    "    return output_dict"
   ]
  },
  {
   "cell_type": "code",
   "execution_count": 4,
   "id": "de87b818-dc47-488a-a293-fe08eeb819d1",
   "metadata": {},
   "outputs": [],
   "source": [
    "def produce_output_LT(PCAtimeseries=None,expname=['ctrl','ncrf36','ncrf60','lwcrf'],orig=True,leadtime=None,nocomp=None):\n",
    "    def output_timediff(LT=None,inputdict=None,settings=None,exp=None):\n",
    "        if exp=='ctrl':\n",
    "            a = prepare_inputdataset2([forward_diff(inputdict['u'],60*60,0,LT),forward_diff(inputdict['v'],60*60,0,LT),forward_diff(inputdict['w'],60*60,0,LT)],np.zeros((forward_diff(inputdict['u'],60*60,0,LT).shape[0],nocomp[1]+nocomp[2]+nocomp[3])),ctrl_t2)\n",
    "            azero = np.zeros((LT,nocomp[1]+nocomp[2]+nocomp[3]))\n",
    "            return np.concatenate((a,azero),axis=0)\n",
    "        elif (exp=='ncrf36') or (exp=='lwcrf'):\n",
    "            a = prepare_inputdataset2([forward_diff(inputdict['u'][36-ctrl_t2:],60*60,0,LT),forward_diff(inputdict['v'][36-ctrl_t2:],60*60,0,LT),forward_diff(inputdict['w'][36-ctrl_t2:],60*60,0,LT)],\n",
    "                                        np.zeros((forward_diff(inputdict['u'][36-ctrl_t2:],60*60,0,LT).shape[0],nocomp[1]+nocomp[2]+nocomp[3])),ctrl_t2)\n",
    "            azero = np.zeros((LT,nocomp[1]+nocomp[2]+nocomp[3]))\n",
    "            return np.concatenate((a,azero),axis=0)\n",
    "        elif exp=='ncrf60':\n",
    "            a = prepare_inputdataset2([forward_diff(inputdict['u'][60-ctrl_t2:],60*60,0,LT),forward_diff(inputdict['v'][60-ctrl_t2:],60*60,0,LT),forward_diff(inputdict['w'][60-ctrl_t2:],60*60,0,LT)],\n",
    "                                        np.zeros((forward_diff(inputdict['u'][60-ctrl_t2:],60*60,0,LT).shape[0],nocomp[1]+nocomp[2]+nocomp[3])),ctrl_t2)\n",
    "            azero = np.zeros((LT,nocomp[1]+nocomp[2]+nocomp[3]))\n",
    "            return np.concatenate((a,azero),axis=0)\n",
    "\n",
    "    if orig is True:\n",
    "        result = []\n",
    "        for index,expNAME in enumerate(expname):\n",
    "            result.append(output_timediff(LT=leadtime,inputdict=PCAtimeseries[index],settings=None,exp=expNAME))\n",
    "        del index,expNAME\n",
    "        result_con = np.concatenate((result),axis=0)\n",
    "        return result_con"
   ]
  },
  {
   "cell_type": "code",
   "execution_count": null,
   "id": "146f0834-af99-48ed-99a5-a30258f7234b",
   "metadata": {
    "jupyter": {
     "source_hidden": true
    },
    "tags": []
   },
   "outputs": [],
   "source": [
    "def prepare_inputdataset(inputTS=None,flat_out=np.zeros((83,12+3+3+9)),lefttimelim=None):\n",
    "    def flattenlist(inlist=None):\n",
    "        tempvarlist = []\n",
    "        for item in inlist:\n",
    "            tempvarlist.append(item)\n",
    "        return read_and_proc.flatten(tempvarlist)\n",
    "    input_dataset36 = []\n",
    "    for timeseries in inputTS:#[pca_timeseries_36,pcaur_timeseries_36,pcavr_timeseries_36,pcaw_timeseries_36]:\n",
    "        input_dataset36.append(timeseries)\n",
    "    for i in (range(inputTS[0][:,0].shape[0])):\n",
    "        tempinlist = [obj[i,:] for obj in input_dataset36]\n",
    "        flat_out[i,:] = flattenlist(tempinlist)\n",
    "    del timeseries,i\n",
    "    return flat_out"
   ]
  },
  {
   "cell_type": "code",
   "execution_count": null,
   "id": "983b26d0-c329-4fc3-8698-e6c3f7872416",
   "metadata": {
    "jupyter": {
     "source_hidden": true
    },
    "tags": []
   },
   "outputs": [],
   "source": [
    "def prepare_inputdataset(inputTS=None,flat_out=np.zeros((83,12+3+3+9)),lefttimelim=None):\n",
    "    def flattenlist(inlist=None):\n",
    "        tempvarlist = []\n",
    "        for item in inlist:\n",
    "            tempvarlist.append(item)\n",
    "        return read_and_proc.flatten(tempvarlist)\n",
    "    input_dataset36 = []\n",
    "    for timeseries in inputTS:#[pca_timeseries_36,pcaur_timeseries_36,pcavr_timeseries_36,pcaw_timeseries_36]:\n",
    "        input_dataset36.append(timeseries)\n",
    "    for i in (range(inputTS[0][:,0].shape[0])):\n",
    "        tempinlist = [obj[i,:] for obj in input_dataset36]\n",
    "        flat_out[i,:] = flattenlist(tempinlist)\n",
    "    del timeseries,i\n",
    "    return flat_out\n",
    "\n",
    "def produce_testdataset(TYPE='orig',LT=1,expTYPE='R21'):\n",
    "    if expTYPE=='R21':\n",
    "        if TYPE=='TCr':\n",
    "            output1_TCr = np.concatenate((prepare_inputdataset([forward_diff(pcaur_timeseries,60*60,0,LT),forward_diff(pcavr_timeseries,60*60,0,LT),forward_diff(pcaw_timeseries,60*60,0,LT)],np.zeros((96,4+3+9)),ctrl_t2),\n",
    "                                          prepare_inputdataset([forward_diff(pcaur_timeseries_36[36-ctrl_t2-5:],60*60,0,LT),forward_diff(pcavr_timeseries_36[36-ctrl_t2-5:],60*60,0,LT),forward_diff(pcaw_timeseries_36[36-ctrl_t2:],60*60,0,LT)],np.zeros((83,4+3+9)),ctrl_t2),\n",
    "                                          prepare_inputdataset([forward_diff(pcaur_timeseries_60[60-ctrl_t2-5:],60*60,0,LT),forward_diff(pcavr_timeseries_60[60-ctrl_t2-5:],60*60,0,LT),forward_diff(pcaw_timeseries_60[60-ctrl_t2:],60*60,0,LT)],np.zeros((59,4+3+9)),ctrl_t2),\n",
    "                                          prepare_inputdataset([forward_diff(pcaur_timeseries_lwcrf[36-ctrl_t2-5:],60*60,0,LT),forward_diff(pcavr_timeseries_lwcrf[36-ctrl_t2-5:],60*60,0,LT),forward_diff(pcaw_timeseries_lwcrf[36-ctrl_t2:],60*60,0,LT)],np.zeros((83,4+3+9)),ctrl_t2)),axis=0)\n",
    "            return output1_TCr\n",
    "        elif TYPE=='orig':\n",
    "            output1_orig = np.concatenate((prepare_inputdataset([forward_diff(pcau_timeseries,60*60,0,LT),forward_diff(pcav_timeseries,60*60,0,LT),forward_diff(pcaw_timeseries,60*60,0,LT)],np.zeros((96,3+3+9)),ctrl_t2),\n",
    "                                           prepare_inputdataset([forward_diff(pcau_timeseries_36[36-ctrl_t2:],60*60,0,LT),forward_diff(pcav_timeseries_36[36-28:],60*60,0,LT),forward_diff(pcaw_timeseries_36[36-ctrl_t2:],60*60,0,LT)],np.zeros((83,3+3+9)),ctrl_t2),\n",
    "                                           prepare_inputdataset([forward_diff(pcau_timeseries_60[60-ctrl_t2:],60*60,0,LT),forward_diff(pcav_timeseries_60[60-28:],60*60,0,LT),forward_diff(pcaw_timeseries_60[60-ctrl_t2:],60*60,0,LT)],np.zeros((59,3+3+9)),ctrl_t2),\n",
    "                                           prepare_inputdataset([forward_diff(pcau_timeseries_lwcrf[36-ctrl_t2:],60*60,0,LT),forward_diff(pcav_timeseries_lwcrf[36-28:],60*60,0,LT),forward_diff(pcaw_timeseries_lwcrf[36-ctrl_t2:],60*60,0,LT)],np.zeros((83,3+3+9)),ctrl_t2)),axis=0)\n",
    "            return output1_orig"
   ]
  },
  {
   "cell_type": "code",
   "execution_count": null,
   "id": "310a443f-ac37-46d3-b661-d80e3743d5f2",
   "metadata": {
    "jupyter": {
     "source_hidden": true
    },
    "tags": []
   },
   "outputs": [],
   "source": [
    "def output_PCAtimeseries_decompose(PCAdict=None,varname=None,flatvar=None,no_comp=None,standard=True,standardtype='II',\\\n",
    "                                   varname_total=['dtheta'],flatvar_store=None):\n",
    "    \"\"\"\n",
    "    Heat decomposition\n",
    "    \"\"\"\n",
    "    if varname is None:\n",
    "        varname=['dtheta','u','v','w','qv']\n",
    "    timeseries_out = {}\n",
    "    for index,var in enumerate(varname):\n",
    "        if standard is True:\n",
    "            if var==varname_total[0]:\n",
    "                storevar = PCA_dict[var].transform(flatvar_store[0])[:,0:no_comp[index]]\n",
    "                mean_store,std_store = np.mean(np.asarray(storevar)),np.std(np.asarray(storevar))\n",
    "                timeseries_out[var] = PCA_dict[var].transform(flatvar[index])[:,0:no_comp[index]]/std_store\n",
    "                timeseries_mean = mean_store/std_store\n",
    "            else:\n",
    "                timeseries_out[var] = standardize(PCA_dict[var].transform(flatvar[index])[:,0:no_comp[index]],standardtype)\n",
    "    return timeseries_out,timeseries_mean\n",
    "\n",
    "def produce_input(PCAtimeseries=None,expname='ncrf36',orig=True,leftstart=None,no_comp=None):\n",
    "    if no_comp is None:\n",
    "        no_comp=[12,3,3,9,5]\n",
    "    if expname=='ctrl':\n",
    "        if orig is True:\n",
    "            totltime=96\n",
    "            dtuvw = prepare_inputdataset([PCAtimeseries['u'],PCAtimeseries['v'],PCAtimeseries['w'],PCAtimeseries['dtheta']],\n",
    "                                         np.zeros((totltime,no_comp[1]+no_comp[2]+no_comp[3]+no_comp[0])),leftstart)\n",
    "            uv = prepare_inputdataset([PCAtimeseries['u'],PCAtimeseries['v']],np.zeros((totltime,no_comp[1]+no_comp[2])),leftstart)\n",
    "            dtuv = prepare_inputdataset([PCAtimeseries['u'],PCAtimeseries['v'],PCAtimeseries['dtheta']],np.zeros((totltime,no_comp[1]+no_comp[2]+no_comp[0])),leftstart)\n",
    "            uvw = prepare_inputdataset([PCAtimeseries['u'],PCAtimeseries['v'],PCAtimeseries['w']],np.zeros((totltime,no_comp[1]+no_comp[2]+no_comp[3])),leftstart)\n",
    "            uvwqv = prepare_inputdataset([PCAtimeseries['u'],PCAtimeseries['v'],PCAtimeseries['w'],PCAtimeseries['qv']],\n",
    "                                     np.zeros((totltime,no_comp[1]+no_comp[2]+no_comp[3]+no_comp[4])),leftstart)\n",
    "            uvqv = prepare_inputdataset([PCAtimeseries['u'],PCAtimeseries['v'],PCAtimeseries['qv']],np.zeros((totltime,no_comp[1]+no_comp[2]+no_comp[4])),leftstart)\n",
    "            dtuvwqv = prepare_inputdataset([PCAtimeseries['u'],PCAtimeseries['v'],PCAtimeseries['w'],PCAtimeseries['dtheta'],PCAtimeseries['qv']],\n",
    "                                           np.zeros((totltime,no_comp[1]+no_comp[2]+no_comp[3]+no_comp[0]+no_comp[4])),leftstart)\n",
    "            output_dict={'uv':uv,'uvw':uvw,'uvqv':uvqv,'uvwqv':uvwqv,'dtuvw':dtuvw,'dtuvwqv':dtuvwqv,'dtuv':dtuv}\n",
    "            return output_dict\n",
    "    else:\n",
    "        if expname=='ncrf36':\n",
    "            rsindx,totltime = 36,96-(36-23)\n",
    "        elif expname=='ncrf60':\n",
    "            rsindx,totltime = 60,96-(60-23)\n",
    "        \n",
    "        if orig is True:\n",
    "            dtuvw = prepare_inputdataset([PCAtimeseries['u'][rsindx-leftstart:],PCAtimeseries['v'][rsindx-leftstart:],\n",
    "                                          PCAtimeseries['w'][rsindx-leftstart:],PCAtimeseries['dtheta'][rsindx-leftstart:]],np.zeros((totltime,no_comp[1]+no_comp[2]+no_comp[3]+no_comp[0])),leftstart)\n",
    "            uv = prepare_inputdataset([PCAtimeseries['u'][rsindx-leftstart:],PCAtimeseries['v'][rsindx-leftstart:]],np.zeros((totltime,no_comp[1]+no_comp[2])),leftstart)\n",
    "            uvw = prepare_inputdataset([PCAtimeseries['u'][rsindx-leftstart:],PCAtimeseries['v'][rsindx-leftstart:],PCAtimeseries['w'][rsindx-leftstart:]],np.zeros((totltime,no_comp[1]+no_comp[2]+no_comp[3])),leftstart)\n",
    "            dtuv = prepare_inputdataset([PCAtimeseries['u'][rsindx-leftstart:],PCAtimeseries['v'][rsindx-leftstart:],PCAtimeseries['dtheta'][rsindx-leftstart:]],np.zeros((totltime,no_comp[1]+no_comp[2]+no_comp[0])),leftstart)\n",
    "            uvwqv = prepare_inputdataset([PCAtimeseries['u'][rsindx-leftstart:],PCAtimeseries['v'][rsindx-leftstart:],\n",
    "                                          PCAtimeseries['w'][rsindx-leftstart:],PCAtimeseries['qv'][rsindx-leftstart:]],np.zeros((totltime,no_comp[1]+no_comp[2]+no_comp[3]+no_comp[4])),leftstart)\n",
    "            uvqv = prepare_inputdataset([PCAtimeseries['u'][rsindx-leftstart:],PCAtimeseries['v'][rsindx-leftstart:],PCAtimeseries['qv'][rsindx-leftstart:]],np.zeros((totltime,no_comp[1]+no_comp[2]+no_comp[4])),leftstart)\n",
    "            dtuvwqv = prepare_inputdataset([PCAtimeseries['u'][rsindx-leftstart:],PCAtimeseries['v'][rsindx-leftstart:],\n",
    "                                            PCAtimeseries['w'][rsindx-leftstart:],PCAtimeseries['dtheta'][rsindx-leftstart:],\n",
    "                                            PCAtimeseries['qv'][rsindx-leftstart:]],np.zeros((totltime,no_comp[1]+no_comp[2]+no_comp[3]+no_comp[0]+no_comp[4])),leftstart)\n",
    "            output_dict={'uv':uv,'uvw':uvw,'uvqv':uvqv,'uvwqv':uvwqv,'dtuvw':dtuvw,'dtuvwqv':dtuvwqv,'dtuv':dtuv}\n",
    "            return output_dict\n",
    "\n",
    "def produce_output_LT(PCAtimeseries=None,expname=['ctrl','ncrf36','ncrf60','lwcrf'],orig=True,leadtime=None,nocomp=None):\n",
    "    def output_timediff(LT=None,inputdict=None,settings=None,exp=None):\n",
    "        if exp=='ctrl':\n",
    "            a = prepare_inputdataset2([forward_diff(inputdict['u'],60*60,0,LT),forward_diff(inputdict['v'],60*60,0,LT),forward_diff(inputdict['w'],60*60,0,LT)],np.zeros((forward_diff(inputdict['u'],60*60,0,LT).shape[0],nocomp[1]+nocomp[2]+nocomp[3])),ctrl_t2)\n",
    "            azero = np.zeros((LT,nocomp[1]+nocomp[2]+nocomp[3]))\n",
    "            return np.concatenate((a,azero),axis=0)\n",
    "        elif (exp=='ncrf36') or (exp=='lwcrf'):\n",
    "            a = prepare_inputdataset2([forward_diff(inputdict['u'][36-ctrl_t2:],60*60,0,LT),forward_diff(inputdict['v'][36-ctrl_t2:],60*60,0,LT),forward_diff(inputdict['w'][36-ctrl_t2:],60*60,0,LT)],\n",
    "                                        np.zeros((forward_diff(inputdict['u'][36-ctrl_t2:],60*60,0,LT).shape[0],nocomp[1]+nocomp[2]+nocomp[3])),ctrl_t2)\n",
    "            azero = np.zeros((LT,nocomp[1]+nocomp[2]+nocomp[3]))\n",
    "            return np.concatenate((a,azero),axis=0)\n",
    "        elif exp=='ncrf60':\n",
    "            a = prepare_inputdataset2([forward_diff(inputdict['u'][60-ctrl_t2:],60*60,0,LT),forward_diff(inputdict['v'][60-ctrl_t2:],60*60,0,LT),forward_diff(inputdict['w'][60-ctrl_t2:],60*60,0,LT)],\n",
    "                                        np.zeros((forward_diff(inputdict['u'][60-ctrl_t2:],60*60,0,LT).shape[0],nocomp[1]+nocomp[2]+nocomp[3])),ctrl_t2)\n",
    "            azero = np.zeros((LT,nocomp[1]+nocomp[2]+nocomp[3]))\n",
    "            return np.concatenate((a,azero),axis=0)\n",
    "\n",
    "    if orig is True:\n",
    "        result = []\n",
    "        for index,expNAME in enumerate(expname):\n",
    "            result.append(output_timediff(LT=leadtime,inputdict=PCAtimeseries[index],settings=None,exp=expNAME))\n",
    "        del index,expNAME\n",
    "        result_con = np.concatenate((result),axis=0)\n",
    "        return result_con\n",
    "    \n",
    "def prepare_inputdataset2(inputTS=None,flat_out=np.zeros((83,12+3+3+9)),lefttimelim=None):\n",
    "    def flattenlist(inlist=None):\n",
    "        tempvarlist = []\n",
    "        for item in inlist:\n",
    "            tempvarlist.append(item)\n",
    "        return read_and_proc.flatten(tempvarlist)\n",
    "    input_dataset36 = []\n",
    "    for timeseries in inputTS:#[pca_timeseries_36,pcaur_timeseries_36,pcavr_timeseries_36,pcaw_timeseries_36]:\n",
    "        input_dataset36.append(timeseries)\n",
    "    for i in (range(inputTS[0][:,0].shape[0])):\n",
    "        tempinlist = [obj[i,:] for obj in input_dataset36]\n",
    "        flat_out[i,:] = flattenlist(tempinlist)\n",
    "    del timeseries,i\n",
    "    return flat_out\n",
    "        \n",
    "#    produce_testdataset(TYPE='TCr',LT=1,expTYPE='R21'),produce_testdataset(TYPE='TCr',LT=2,expTYPE='R21'),produce_testdataset(TYPE='TCr',LT=3,expTYPE='R21')"
   ]
  },
  {
   "cell_type": "markdown",
   "id": "4a7213bf-28c7-4f4c-bdce-d3dffbd3d423",
   "metadata": {},
   "source": [
    "#### Produce inputs"
   ]
  },
  {
   "cell_type": "code",
   "execution_count": 5,
   "id": "c8e44a02-3a8f-45d1-92c1-1732dba660f0",
   "metadata": {},
   "outputs": [
    {
     "name": "stderr",
     "output_type": "stream",
     "text": [
      "1it [00:10, 10.20s/it]\n"
     ]
    }
   ],
   "source": [
    "origvar_dict = {}\n",
    "for inx,obj in tqdm(enumerate(['U'])):\n",
    "    origvar_dict[obj] = read_and_proc.depickle(path+'origvar/'+str(obj)+'_origvar')\n",
    "\n",
    "no_comp = [13,14,15,38,4]\n",
    "PCAtimeseries = output_PCAtimeseries(PCAdict=pca_dict,varname=['dthdt','U','V','W','QV'],flatvar=flatvar_dict,no_comp=no_comp,standard=True,standardtype='II')"
   ]
  },
  {
   "cell_type": "code",
   "execution_count": 6,
   "id": "def78898-5da2-4acd-bb06-98a2b114cdc9",
   "metadata": {},
   "outputs": [],
   "source": [
    "mlr_inputdict = produce_input(PCAtimeseries)"
   ]
  },
  {
   "cell_type": "code",
   "execution_count": 7,
   "id": "92deb4f3-19f8-4ba3-939e-d9d22d608e2d",
   "metadata": {},
   "outputs": [],
   "source": [
    "def divide_longseries(timeseries=None,indices=[96,96+84,96+84+60,96+84+60+84],no_comp=[14,15,38],varname='U'):\n",
    "    if varname=='U':\n",
    "        output = {'ctl':timeseries[0:indices[0],0:int(no_comp[0])],'ncrf36':timeseries[indices[0]:indices[1],0:int(no_comp[0])],\\\n",
    "                  'ncrf60':timeseries[indices[1]:indices[2],0:int(no_comp[0])],'lwcrf':timeseries[indices[2]:indices[3],0:int(no_comp[0])]}\n",
    "    elif varname=='V':\n",
    "        output = {'ctl':timeseries[0:indices[0],0:int(no_comp[1])],'ncrf36':timeseries[indices[0]:indices[1],0:int(no_comp[1])],\\\n",
    "                  'ncrf60':timeseries[indices[1]:indices[2],0:int(no_comp[1])],'lwcrf':timeseries[indices[2]:indices[3],0:int(no_comp[1])]}\n",
    "    elif varname=='W':\n",
    "        output = {'ctl':timeseries[0:indices[0],0:int(no_comp[2])],'ncrf36':timeseries[indices[0]:indices[1],0:int(no_comp[2])],\\\n",
    "                  'ncrf60':timeseries[indices[1]:indices[2],0:int(no_comp[2])],'lwcrf':timeseries[indices[2]:indices[3],0:int(no_comp[2])]}\n",
    "    return output\n",
    "Udict = divide_longseries(PCAtimeseries['U'],indices=[96,96+84,96+84+60,96+84+60+84],no_comp=[14,15,38],varname='U')\n",
    "Vdict = divide_longseries(PCAtimeseries['V'],indices=[96,96+84,96+84+60,96+84+60+84],no_comp=[14,15,38],varname='V')\n",
    "Wdict = divide_longseries(PCAtimeseries['W'],indices=[96,96+84,96+84+60,96+84+60+84],no_comp=[14,15,38],varname='W')"
   ]
  },
  {
   "cell_type": "code",
   "execution_count": 39,
   "id": "e1f7420f-e171-4e56-892a-b66088a0b14b",
   "metadata": {},
   "outputs": [],
   "source": [
    "import preproc_noensemble\n",
    "def produce_tooutput(WINDdict=None,LT=np.linspace(1,36,36)):\n",
    "    storedict = {}\n",
    "    for inx,obj in enumerate(['ctl','ncrf36','ncrf60','lwcrf']):\n",
    "        storedict[obj] = [preproc_noensemble.forward_diff(WINDdict[obj],60*60,0,int(LTi)) for LTi in LT]\n",
    "    return storedict\n",
    "Ustoredict = produce_tooutput(Udict,np.linspace(1,36,36))\n",
    "Vstoredict = produce_tooutput(Vdict,np.linspace(1,36,36))\n",
    "Wstoredict = produce_tooutput(Wdict,np.linspace(1,36,36))"
   ]
  },
  {
   "cell_type": "code",
   "execution_count": 45,
   "id": "29f563bd-020f-4a6f-b2de-80cd27617535",
   "metadata": {},
   "outputs": [
    {
     "data": {
      "text/plain": [
       "((95, 14), (83, 14), (59, 14), (82, 14))"
      ]
     },
     "execution_count": 45,
     "metadata": {},
     "output_type": "execute_result"
    }
   ],
   "source": [
    "Ustoredict['ctl'][0].shape,Ustoredict['ncrf36'][0].shape,Ustoredict['ncrf60'][0].shape,Ustoredict['lwcrf'][0].shape"
   ]
  },
  {
   "cell_type": "code",
   "execution_count": 48,
   "id": "b57965a2-107a-42ce-a7ca-11fc16f70f4c",
   "metadata": {},
   "outputs": [
    {
     "name": "stderr",
     "output_type": "stream",
     "text": [
      "100%|█████████████████████████████████████████████████████████████████████████████████████████████████████████████████████████████████████████████████████████████████████████| 36/36 [00:00<00:00, 8524.53it/s]\n",
      "100%|████████████████████████████████████████████████████████████████████████████████████████████████████████████████████████████████████████████████████████████████████████| 36/36 [00:00<00:00, 10039.56it/s]\n",
      "100%|█████████████████████████████████████████████████████████████████████████████████████████████████████████████████████████████████████████████████████████████████████████| 36/36 [00:00<00:00, 6843.81it/s]\n"
     ]
    }
   ],
   "source": [
    "def produce_tooutput2(storedict=None):\n",
    "    expname = list(storedict.keys())\n",
    "    output = []\n",
    "    for i in tqdm(range(len(storedict[expname[0]]))):\n",
    "        TEMP = [storedict[exps][i] for exps in expname]\n",
    "        temp = np.concatenate([y for y in TEMP])\n",
    "        output.append(temp)\n",
    "    return output\n",
    "Upreoutput = produce_tooutput2(Ustoredict)\n",
    "Vpreoutput = produce_tooutput2(Vstoredict)\n",
    "Wpreoutput = produce_tooutput2(Wstoredict)"
   ]
  },
  {
   "cell_type": "code",
   "execution_count": 56,
   "id": "80e7d875-59f9-4eac-bb7a-434f0e745ea3",
   "metadata": {},
   "outputs": [],
   "source": [
    "mlr_output = []\n",
    "for i in range(len(Upreoutput)):\n",
    "    temp=[Upreoutput[i],Vpreoutput[i],Wpreoutput[i]]\n",
    "    mlr_output.append(np.concatenate([y for y in temp],axis=1))"
   ]
  },
  {
   "cell_type": "code",
   "execution_count": 57,
   "id": "d84ef595-83f6-4a94-8e25-7a907bc792f2",
   "metadata": {},
   "outputs": [
    {
     "data": {
      "text/plain": [
       "((319, 67), (279, 67))"
      ]
     },
     "execution_count": 57,
     "metadata": {},
     "output_type": "execute_result"
    }
   ],
   "source": [
    "mlr_output[0].shape,mlr_output[10].shape"
   ]
  },
  {
   "cell_type": "code",
   "execution_count": 58,
   "id": "15a42734-d137-4024-b095-c039561076ad",
   "metadata": {},
   "outputs": [],
   "source": [
    "read_and_proc.save_to_pickle('/scratch/08350/tg876493/ruppert2020/output/mlr_output',mlr_output) "
   ]
  },
  {
   "cell_type": "code",
   "execution_count": 19,
   "id": "a3c8da9e-771e-446d-8650-baca80e87669",
   "metadata": {
    "jupyter": {
     "source_hidden": true
    },
    "tags": []
   },
   "outputs": [],
   "source": [
    "indices = read_and_proc.depickle('/scratch/08350/tg876493/ruppert2020/output/index_array')"
   ]
  },
  {
   "cell_type": "markdown",
   "id": "bb0d056f-7ecc-473d-8b27-ae8d4e21e2d5",
   "metadata": {},
   "source": [
    "#### Test"
   ]
  },
  {
   "cell_type": "code",
   "execution_count": null,
   "id": "0489ca91-4b63-4552-b216-4da94043d04f",
   "metadata": {
    "jupyter": {
     "source_hidden": true
    },
    "tags": []
   },
   "outputs": [],
   "source": [
    "######################################################################################################################################\n",
    "# PCA timeseries\n",
    "#.....................................................................................................................\n",
    "no_comp = [12,11,11,15,5+1] #80%\n",
    "# Radiation ...................................................................................................................................................................................................................................\n",
    "#.....................................................................................................................\n",
    "ctrl_PCAtimeseriesO,ctrl_mean = output_PCAtimeseries_decompose(PCAdict=PCA_dict,varname=['dtheta','u','v','w','qv'],\n",
    "                                           flatvar=[NORAD_Afdict['ctrlRESI'],Af_dict['u'],Af_dict['v'],Af_dict['w'],Af_dict['qv']],\n",
    "                                           no_comp=no_comp,standard=True,standardtype='II',varname_total=['dtheta'],flatvar_store=[HEAT_Afdict['ctrlHEAT']])\n",
    "ncrf36_PCAtimeseriesO,ncrf36_mean = output_PCAtimeseries_decompose(PCAdict=PCA_dict,varname=['dtheta','u','v','w','qv'],\n",
    "                                             flatvar=[NORAD_Afdict['ncrf36RESI'],normalUradncrf36f,normalVtanncrf36f,normalWncrf36f,normalWncrf36f],\n",
    "                                             no_comp=no_comp,standard=True,standardtype='II',varname_total=['dtheta'],flatvar_store=[HEAT_Afdict['ncrf36HEAT']])\n",
    "ncrf60_PCAtimeseriesO,ncrf60_mean = output_PCAtimeseries_decompose(PCAdict=PCA_dict,varname=['dtheta','u','v','w','qv'],\n",
    "                                             flatvar=[NORAD_Afdict['ncrf60RESI'],normalUradncrf60f,normalVtanncrf60f,normalWncrf60f,normalWncrf60f],\n",
    "                                             no_comp=no_comp,standard=True,standardtype='II',varname_total=['dtheta'],flatvar_store=[HEAT_Afdict['ncrf60HEAT']])\n",
    "lwcrf_PCAtimeseriesO,lwcrf_mean = output_PCAtimeseries_decompose(PCAdict=PCA_dict,varname=['dtheta','u','v','w','qv'],\n",
    "                                            flatvar=[NORAD_Afdict['lwcrfRESI'],normalUradlwcrff,normalVtanlwcrff,normalWlwcrff,normalWlwcrff],\n",
    "                                            no_comp=no_comp,standard=True,standardtype='II',varname_total=['dtheta'],flatvar_store=[HEAT_Afdict['lwcrfHEAT']])\n",
    "######################################################################################################################################\n",
    "# Produce Input\n",
    "#.....................................................................................................................\n",
    "#CTRLinputdataset_dict = produce_input(ctrl_PCAtimeseriesO,expname='ctrl',orig=True,leftstart=None,no_comp=no_comp)\n",
    "#NCRF36inputdataset_dict = produce_input(ncrf36_PCAtimeseriesO,expname='ncrf36',orig=True,leftstart=ctrl_t2,no_comp=no_comp)\n",
    "#NCRF60inputdataset_dict = produce_input(ncrf60_PCAtimeseriesO,expname='ncrf60',orig=True,leftstart=ctrl_t2,no_comp=no_comp)\n",
    "#LWCRFinputdataset_dict = produce_input(lwcrf_PCAtimeseriesO,expname='ncrf36',orig=True,leftstart=ctrl_t2,no_comp=no_comp)\n",
    "\n",
    "# Produce Fix Input\n",
    "#.....................................................................................................................\n",
    "print(ctrl_mean,ncrf36_mean,ncrf60_mean,lwcrf_mean)\n",
    "######################################################################################################################################"
   ]
  },
  {
   "cell_type": "code",
   "execution_count": null,
   "id": "4ae0b16b-d5c0-4dad-be57-65f6eac092f1",
   "metadata": {},
   "outputs": [],
   "source": [
    "######################################################################################################################################\n",
    "#.....................................................................................................................\n",
    "# Make input digestable with our MLR model\n",
    "#.....................................................................................................................\n",
    "mlr_inputtype = ['uv','uvw','uvqv','dtuv','uvwqv','dtuvw','dtuvwqv']\n",
    "mlr_inputdict = {}\n",
    "for TYPE in mlr_inputtype:\n",
    "    result = np.concatenate([exp[TYPE] for exp in [CTRLinputdataset_dict,NCRF36inputdataset_dict,NCRF60inputdataset_dict,LWCRFinputdataset_dict]],axis=0)\n",
    "    mlr_inputdict[TYPE] = result\n",
    "#.....................................................................................................................\n",
    "# MLR model output for training\n",
    "#.....................................................................................................................\n",
    "LDTME = np.linspace(0,44,45)+1\n",
    "mlr_output = []\n",
    "for index,TIMEstamp in enumerate(LDTME):\n",
    "    mlr_output.append(produce_output_LT([ctrl_PCAtimeseriesO,ncrf36_PCAtimeseriesO,ncrf60_PCAtimeseriesO,lwcrf_PCAtimeseriesO],['ctrl','ncrf36','ncrf60','lwcrf'],True,leadtime=int(TIMEstamp),nocomp=no_comp))\n",
    "del CTRLinputdataset_dict,NCRF36inputdataset_dict,NCRF60inputdataset_dict,LWCRFinputdataset_dict"
   ]
  },
  {
   "cell_type": "markdown",
   "id": "7dcf1991-f5db-4538-8d72-47e6bb5cbcc1",
   "metadata": {
    "tags": []
   },
   "source": [
    "### Multilinear Regression Model"
   ]
  },
  {
   "cell_type": "code",
   "execution_count": null,
   "id": "0754a26f-92ea-42d0-aef2-a3e7afbdd6db",
   "metadata": {
    "jupyter": {
     "source_hidden": true
    },
    "tags": []
   },
   "outputs": [],
   "source": [
    "from sklearn.linear_model import LinearRegression\n",
    "#from sklearn.linear_model import MultiTaskLassoCV\n",
    "from celer import MultiTaskLassoCV\n",
    "from celer import Lasso\n",
    "from sklearn.linear_model import ElasticNet\n",
    "def produce_regscore(inPUT=None,outPUT=None,aux_inPUT=None,outtype='score',do_aux=False,\n",
    "                     algorithm='linear',lassoparam=dict(tol=1e-6,cv=4,n_jobs=1,n_alphas=20),simplelassoalpha=0.001):\n",
    "    if algorithm=='linear':\n",
    "        reg = LinearRegression().fit(inPUT, outPUT)\n",
    "    elif algorithm=='lasso':\n",
    "        #reg = MultiTaskLassoCV(**lassoparam).fit(inPUT,outPUT)\n",
    "        reg = Lasso(simplelassoalpha).fit(inPUT,outPUT)\n",
    "    elif algorithm=='multilasso':\n",
    "        reg = MultiTaskLassoCV(**lassoparam).fit(inPUT,outPUT)\n",
    "    if outtype=='score':\n",
    "        if do_aux is False:\n",
    "            return reg.score(inPUT, outPUT)\n",
    "        elif do_aux is True:\n",
    "            return reg.score(aux_inPUT,outPUT)\n",
    "    elif outtype=='predict':\n",
    "        return reg.predict(inPUT)\n",
    "    elif outtype=='coeff':\n",
    "        return reg.coef_\n",
    "\n",
    "def delete_padding(inTS=None,outTS=None):\n",
    "    output_nozero,input_nozero = [],[]\n",
    "    for i in range(len(outTS[:,0])):\n",
    "        temp = outTS[i,:]\n",
    "        tempin = inTS[i,:]\n",
    "        if temp.all()==0:\n",
    "            continue\n",
    "        else:\n",
    "            output_nozero.append(temp)\n",
    "            input_nozero.append(tempin)\n",
    "    return input_nozero,output_nozero\n",
    "\n",
    "def output_regscore(inTS=None,outTS=None,LTlist=None,algorithm='linear',aux_inTS=None,do_aux=False,simplelassoalpha=0.001):\n",
    "    if do_aux is False:\n",
    "        return [produce_regscore(delete_padding(inTS,outTS[i])[0],delete_padding(inTS,outTS[i])[1],None,'score',False,algorithm,\\\n",
    "                                 dict(tol=1e-6,cv=4,n_jobs=1,n_alphas=20),simplelassoalpha) for i in range(len(outTS))]\n",
    "    elif do_aux is True:\n",
    "        return [produce_regscore(delete_padding(inTS,outTS[i])[0],delete_padding(inTS,outTS[i])[1],aux_inTS[:-int(LTlist[i])],'score',True,algorithm,\\\n",
    "                                 dict(tol=1e-6,cv=4,n_jobs=1,n_alphas=20),simplelassoalpha) for i in range(len(outTS))]\n",
    "    \n",
    "def output_regscore_withmemory(inTS=None,outTS=None,LTlist=None,algorithm='linear',aux_inTS=None,do_aux=False,simplelassoalpha=0.001):\n",
    "    if do_aux is False:\n",
    "        output = []\n",
    "        for i in (range(len(outTS))):\n",
    "            inTSn,outTSn = delete_padding(inTS,outTS[i])[0],delete_padding(inTS,outTS[i])[1]\n",
    "            inTRAIN = np.concatenate(((inTSn[int(LTlist[i]):]),(inTSn[0:-int(LTlist[i])])),axis=1)\n",
    "            outTRAIN = outTSn[int(LTlist[i]):]\n",
    "            output.append(produce_regscore(inTRAIN,outTRAIN,None,'score',False,algorithm,dict(tol=1e-6,cv=4,n_jobs=1,n_alphas=20),simplelassoalpha))\n",
    "        return output\n",
    "    elif do_aux is True:\n",
    "        output = []\n",
    "        for i in (range(len(outTS))):\n",
    "            inTSn,outTSn = delete_padding(inTS,outTS[i])[0],delete_padding(inTS,outTS[i])[1]\n",
    "            inTRAIN = np.concatenate(((inTSn[int(LTlist[i]):]),(inTSn[0:-int(LTlist[i])])),axis=1)\n",
    "            outTRAIN = outTSn[int(LTlist[i])]\n",
    "            auxin = np.concatenate(((aux_inTS[:-int(LTlist[i])][int(LTlist[i]):]),(aux_inTS[:-int(LTlist[i])][0:-int(LTlist[i])])),axis=1)\n",
    "            output.append(produce_regscore(inTRAIN,outTRAIN,auxin,'score',True,algorithm,dict(tol=1e-6,cv=4,n_jobs=1,n_alphas=20),simplelassoalpha))\n",
    "        return output        \n",
    "    \n",
    "def output_regcoeff(inTS=None,outTS=None,LTlist=None,algorithm='linear',memory='with',simplelassoalpha=0.001):\n",
    "    if memory=='with':\n",
    "        output = []\n",
    "        for i in range(len(outTS)):\n",
    "            inarray = np.concatenate(((inTS[:-int(LTlist[i])][int(LTlist[i]):]),(inTS[:-int(LTlist[i])][0:-int(LTlist[i])])),axis=1)\n",
    "            outarray = outTS[i][int(LTlist[i]):-int(LTlist[i])]\n",
    "            output.append(produce_regscore(inarray,outarray,'coeff',algorithm,dict(tol=1e-6,cv=4,n_jobs=1,n_alphas=20),0.01))\n",
    "        return output\n",
    "    elif memory=='without':\n",
    "        return [produce_regscore(inTS[:-int(LTlist[i])],outTS[i][:-int(LTlist[i])],'coeff',algorithm,dict(tol=1e-6,cv=4,n_jobs=1,n_alphas=20),simplelassoalpha) for i in range(len(outTS))]\n",
    "    \n",
    "def output_regpredict(inTS=None,outTS=None,LTlist=None,algorithm='linear',memory='without',simplelassoalpha=0.001):\n",
    "    if memory=='with':\n",
    "        output = []\n",
    "        for i in range(len(outTS)):\n",
    "            inarray = np.concatenate(((inTS[:-int(LTlist[i])][int(LTlist[i]):]),(inTS[:-int(LTlist[i])][0:-int(LTlist[i])])),axis=1)\n",
    "            outarray = outTS[i][int(LTlist[i]):-int(LTlist[i])]\n",
    "            output.append(produce_regscore(inarray,outarray,None,'predict',False,algorithm,dict(tol=1e-6,cv=4,n_jobs=1,n_alphas=20),0.01))\n",
    "        return output\n",
    "    elif memory=='without':\n",
    "        return [produce_regscore(delete_padding(inTS,outTS[i])[0],delete_padding(inTS,outTS[i])[1],None,'predict',False,algorithm,\n",
    "                                 dict(tol=1e-6,cv=4,n_jobs=1,n_alphas=20),simplelassoalpha) for i in range(len(outTS))]"
   ]
  },
  {
   "cell_type": "code",
   "execution_count": null,
   "id": "86d124a8-8053-4a9b-992c-75536f74e3a0",
   "metadata": {
    "jupyter": {
     "source_hidden": true
    },
    "tags": []
   },
   "outputs": [],
   "source": [
    "r2rad_timeseries = []\n",
    "with open('./output/1010_ns/sensitivity/r2rad_timeseries','rb') as f:\n",
    "    r2rad_timeseries.append(pickle.load(f))\n",
    "rad_input = []\n",
    "with open('./output/1010_ns/sensitivity/r2rad_input','rb') as f:\n",
    "    rad_input.append(pickle.load(f))\n",
    "rad_output = []\n",
    "with open('./output/1010_ns/sensitivity/r2rad_output','rb') as f:\n",
    "    rad_output.append(pickle.load(f))\n",
    "    \n",
    "r2resi_timeseries = []\n",
    "with open('./output/1010_ns/sensitivity/r2resi_timeseries','rb') as f:\n",
    "    r2resi_timeseries.append(pickle.load(f))\n",
    "resi_input = []\n",
    "with open('./output/1010_ns/sensitivity/r2resi_input','rb') as f:\n",
    "    resi_input.append(pickle.load(f))\n",
    "resi_output = []\n",
    "with open('./output/1010_ns/sensitivity/r2resi_output','rb') as f:\n",
    "    resi_output.append(pickle.load(f))"
   ]
  },
  {
   "cell_type": "code",
   "execution_count": null,
   "id": "9f58e228-7946-48ea-94c9-6a1a2235486e",
   "metadata": {
    "jupyter": {
     "source_hidden": true
    },
    "tags": []
   },
   "outputs": [],
   "source": [
    "fig,axs = plot.subplots(ncols=2,nrows=1,axwidth=3.55,refaspect=2.051)\n",
    "axs[0].plot(LDTME,output_regscore(inTS=mlr_inputdict['uv'],outTS=mlr_output,LTlist=LDTME,algorithm='lasso',\n",
    "                                  simplelassoalpha=0.001,aux_inTS=None,do_aux=False),label='u-v',c='k')\n",
    "axs[0].plot(LDTME,output_regscore(inTS=mlr_inputdict['uvw'],outTS=mlr_output,LTlist=LDTME,algorithm='lasso',\n",
    "                                  simplelassoalpha=0.001,aux_inTS=None,do_aux=False),label='u-v-w')\n",
    "axs[0].plot(LDTME,output_regscore(inTS=mlr_inputdict['dtuv'],outTS=mlr_output,LTlist=LDTME,algorithm='lasso',\n",
    "                                  simplelassoalpha=0.001,aux_inTS=None,do_aux=False),label='u-v-dtheta')\n",
    "axs[0].plot(LDTME,output_regscore(inTS=mlr_inputdict['uvqv'],outTS=mlr_output,LTlist=LDTME,algorithm='lasso',\n",
    "                                  simplelassoalpha=0.001,aux_inTS=None,do_aux=False),label='u-v-qv')\n",
    "axs[0].plot(LDTME,output_regscore(inTS=mlr_inputdict['dtuvw'],outTS=mlr_output,LTlist=LDTME,algorithm='lasso',\n",
    "                                  simplelassoalpha=0.001,aux_inTS=None,do_aux=False),label='dtheta-u-v-w')\n",
    "axs[0].plot(LDTME,output_regscore(inTS=mlr_inputdict['dtuvwqv'],outTS=mlr_output,LTlist=LDTME,algorithm='lasso',\n",
    "                                  simplelassoalpha=0.001,aux_inTS=None,do_aux=False),label='dtheta-u-v-w-qv')\n",
    "axs[0].plot(LDTME,output_regscore(inTS=mlr_inputdict['uvwqv'],outTS=mlr_output,LTlist=LDTME,algorithm='lasso',\n",
    "                                  simplelassoalpha=0.001,aux_inTS=None,do_aux=False),label='u-v-w-qv')\n",
    "axs[0].legend(loc='b')\n",
    "axs[0].format(ylabel='R$^2$',xlabel='Lead Time [Hr]',title='orig-orig')\n",
    "\n",
    "axs[1].plot(LDTME,output_regscore_withmemory(inTS=mlr_inputdict['uv'],outTS=mlr_output,LTlist=LDTME,algorithm='lasso',\n",
    "                                             simplelassoalpha=0.001,aux_inTS=None,do_aux=False),label='u-v',c='k')\n",
    "axs[1].plot(LDTME,output_regscore_withmemory(inTS=mlr_inputdict['uvw'],outTS=mlr_output,LTlist=LDTME,algorithm='lasso',\n",
    "                                             simplelassoalpha=0.001,aux_inTS=None,do_aux=False),label='u-v-w')\n",
    "axs[1].plot(LDTME,output_regscore_withmemory(inTS=mlr_inputdict['dtuv'],outTS=mlr_output,LTlist=LDTME,algorithm='lasso',\n",
    "                                             simplelassoalpha=0.001,aux_inTS=None,do_aux=False),label='u-v-dtheta')\n",
    "axs[1].plot(LDTME,output_regscore_withmemory(inTS=mlr_inputdict['uvqv'],outTS=mlr_output,LTlist=LDTME,algorithm='lasso',\n",
    "                                             simplelassoalpha=0.001,aux_inTS=None,do_aux=False),label='u-v-qv')\n",
    "axs[1].plot(LDTME,output_regscore_withmemory(inTS=mlr_inputdict['dtuvw'],outTS=mlr_output,LTlist=LDTME,algorithm='lasso',\n",
    "                                             simplelassoalpha=0.001,aux_inTS=None,do_aux=False),label='dtheta-u-v-w')\n",
    "axs[1].plot(LDTME,output_regscore_withmemory(inTS=mlr_inputdict['dtuvwqv'],outTS=mlr_output,LTlist=LDTME,algorithm='lasso',\n",
    "                                             simplelassoalpha=0.001,aux_inTS=None,do_aux=False),label='dtheta-u-v-w-qv')\n",
    "axs[1].plot(LDTME,output_regscore_withmemory(inTS=mlr_inputdict['uvwqv'],outTS=mlr_output,LTlist=LDTME,algorithm='lasso',\n",
    "                                             simplelassoalpha=0.001,aux_inTS=None,do_aux=False),label='u-v-w-qv')\n",
    "axs[1].legend(loc='b')\n",
    "axs[1].format(ylabel='R$^2$',xlabel='Lead Time [Hr]',title='orig-orig [Memory]')\n",
    "#plt.savefig('./proc_fig/1129/r2long_orig_moreterms.png',dpi=400)\n",
    "plt.show()"
   ]
  },
  {
   "cell_type": "code",
   "execution_count": null,
   "id": "8d7cc697-ca7a-4a78-808e-b3f6453b7ff8",
   "metadata": {
    "jupyter": {
     "source_hidden": true
    },
    "tags": []
   },
   "outputs": [],
   "source": [
    "fig,axs = plot.subplots(ncols=2,nrows=1,axwidth=3.55,refaspect=2.051)\n",
    "axs[0].plot(LDTME,output_regscore(inTS=mlr_inputdict['uv'],outTS=mlr_output,LTlist=LDTME,algorithm='linear',aux_inTS=None,do_aux=False),label='u-v',c='k')\n",
    "axs[0].plot(LDTME,output_regscore(inTS=mlr_inputdict['uvw'],outTS=mlr_output,LTlist=LDTME,algorithm='linear',aux_inTS=None,do_aux=False),label='u-v-w')\n",
    "axs[0].plot(LDTME,output_regscore(inTS=mlr_inputdict['dtuv'],outTS=mlr_output,LTlist=LDTME,algorithm='linear',aux_inTS=None,do_aux=False),label='u-v-dtheta')\n",
    "axs[0].plot(LDTME,output_regscore(inTS=mlr_inputdict['uvqv'],outTS=mlr_output,LTlist=LDTME,algorithm='linear',aux_inTS=None,do_aux=False),label='u-v-qv')\n",
    "axs[0].plot(LDTME,output_regscore(inTS=mlr_inputdict['dtuvw'],outTS=mlr_output,LTlist=LDTME,algorithm='linear',aux_inTS=None,do_aux=False),label='dtheta-u-v-w')\n",
    "axs[0].plot(LDTME,output_regscore(inTS=mlr_inputdict['dtuvwqv'],outTS=mlr_output,LTlist=LDTME,algorithm='linear',aux_inTS=None,do_aux=False),label='dtheta-u-v-w-qv')\n",
    "axs[0].plot(LDTME,output_regscore(inTS=mlr_inputdict['uvwqv'],outTS=mlr_output,LTlist=LDTME,algorithm='linear',aux_inTS=None,do_aux=False),label='u-v-w-qv')\n",
    "axs[0].legend(loc='b')\n",
    "axs[0].format(ylabel='R$^2$',xlabel='Lead Time [Hr]',title='orig-orig')\n",
    "\n",
    "axs[1].plot(LDTME,output_regscore_withmemory(inTS=mlr_inputdict['uv'],outTS=mlr_output,LTlist=LDTME,algorithm='linear',aux_inTS=None,do_aux=False),label='u-v',c='k')\n",
    "axs[1].plot(LDTME,output_regscore_withmemory(inTS=mlr_inputdict['uvw'],outTS=mlr_output,LTlist=LDTME,algorithm='linear',aux_inTS=None,do_aux=False),label='u-v-w')\n",
    "axs[1].plot(LDTME,output_regscore_withmemory(inTS=mlr_inputdict['dtuv'],outTS=mlr_output,LTlist=LDTME,algorithm='linear',aux_inTS=None,do_aux=False),label='u-v-dtheta')\n",
    "axs[1].plot(LDTME,output_regscore_withmemory(inTS=mlr_inputdict['uvqv'],outTS=mlr_output,LTlist=LDTME,algorithm='linear',aux_inTS=None,do_aux=False),label='u-v-qv')\n",
    "axs[1].plot(LDTME,output_regscore_withmemory(inTS=mlr_inputdict['dtuvw'],outTS=mlr_output,LTlist=LDTME,algorithm='linear',aux_inTS=None,do_aux=False),label='dtheta-u-v-w')\n",
    "axs[1].plot(LDTME,output_regscore_withmemory(inTS=mlr_inputdict['dtuvwqv'],outTS=mlr_output,LTlist=LDTME,algorithm='linear',aux_inTS=None,do_aux=False),label='dtheta-u-v-w-qv')\n",
    "axs[1].plot(LDTME,output_regscore_withmemory(inTS=mlr_inputdict['uvwqv'],outTS=mlr_output,LTlist=LDTME,algorithm='linear',aux_inTS=None,do_aux=False),label='u-v-w-qv')\n",
    "axs[1].legend(loc='b')\n",
    "axs[1].format(ylabel='R$^2$',xlabel='Lead Time [Hr]',title='orig-orig [Memory]')\n",
    "plt.savefig('./proc_fig/1129/r2long_orig_moreterms_T6.png',dpi=400)\n",
    "plt.show()"
   ]
  },
  {
   "cell_type": "code",
   "execution_count": null,
   "id": "9b161639-6f64-4877-a6b0-d77bb0b00cf1",
   "metadata": {
    "jupyter": {
     "source_hidden": true
    },
    "tags": []
   },
   "outputs": [],
   "source": [
    "fig,axs = plot.subplots(ncols=2,nrows=1,axwidth=3.55,refaspect=2.051)\n",
    "axs[0].plot(LDTME,output_regscore(inTS=mlr_inputdict['uv'],outTS=mlr_output,LTlist=LDTME,algorithm='linear',aux_inTS=None,do_aux=False),label='u-v',c='k')\n",
    "axs[0].plot(LDTME,output_regscore(inTS=mlr_inputdict['uvw'],outTS=mlr_output,LTlist=LDTME,algorithm='linear',aux_inTS=None,do_aux=False),label='u-v-w')\n",
    "axs[0].plot(LDTME,output_regscore(inTS=mlr_inputdict['dtuv'],outTS=mlr_output,LTlist=LDTME,algorithm='linear',aux_inTS=None,do_aux=False),label='u-v-dtheta')\n",
    "axs[0].plot(LDTME,output_regscore(inTS=mlr_inputdict['uvqv'],outTS=mlr_output,LTlist=LDTME,algorithm='linear',aux_inTS=None,do_aux=False),label='u-v-qv')\n",
    "axs[0].plot(LDTME,output_regscore(inTS=mlr_inputdict['dtuvw'],outTS=mlr_output,LTlist=LDTME,algorithm='linear',aux_inTS=None,do_aux=False),label='dtheta-u-v-w')\n",
    "axs[0].plot(LDTME,output_regscore(inTS=mlr_inputdict['dtuvwqv'],outTS=mlr_output,LTlist=LDTME,algorithm='linear',aux_inTS=None,do_aux=False),label='dtheta-u-v-w-qv')\n",
    "axs[0].plot(LDTME,output_regscore(inTS=mlr_inputdict['uvwqv'],outTS=mlr_output,LTlist=LDTME,algorithm='linear',aux_inTS=None,do_aux=False),label='u-v-w-qv')\n",
    "axs[0].legend(loc='b')\n",
    "axs[0].format(ylabel='R$^2$',xlabel='Lead Time [Hr]',title='orig-orig')\n",
    "\n",
    "axs[1].plot(LDTME,output_regscore_withmemory(inTS=mlr_inputdict['uv'],outTS=mlr_output,LTlist=LDTME,algorithm='linear',aux_inTS=None,do_aux=False),label='u-v',c='k')\n",
    "axs[1].plot(LDTME,output_regscore_withmemory(inTS=mlr_inputdict['uvw'],outTS=mlr_output,LTlist=LDTME,algorithm='linear',aux_inTS=None,do_aux=False),label='u-v-w')\n",
    "axs[1].plot(LDTME,output_regscore_withmemory(inTS=mlr_inputdict['dtuv'],outTS=mlr_output,LTlist=LDTME,algorithm='linear',aux_inTS=None,do_aux=False),label='u-v-dtheta')\n",
    "axs[1].plot(LDTME,output_regscore_withmemory(inTS=mlr_inputdict['uvqv'],outTS=mlr_output,LTlist=LDTME,algorithm='linear',aux_inTS=None,do_aux=False),label='u-v-qv')\n",
    "axs[1].plot(LDTME,output_regscore_withmemory(inTS=mlr_inputdict['dtuvw'],outTS=mlr_output,LTlist=LDTME,algorithm='linear',aux_inTS=None,do_aux=False),label='dtheta-u-v-w')\n",
    "axs[1].plot(LDTME,output_regscore_withmemory(inTS=mlr_inputdict['dtuvwqv'],outTS=mlr_output,LTlist=LDTME,algorithm='linear',aux_inTS=None,do_aux=False),label='dtheta-u-v-w-qv')\n",
    "axs[1].plot(LDTME,output_regscore_withmemory(inTS=mlr_inputdict['uvwqv'],outTS=mlr_output,LTlist=LDTME,algorithm='linear',aux_inTS=None,do_aux=False),label='u-v-w-qv')\n",
    "axs[1].legend(loc='b')\n",
    "axs[1].format(ylabel='R$^2$',xlabel='Lead Time [Hr]',title='orig-orig [Memory]')\n",
    "plt.savefig('./proc_fig/1129/r2long_orig_moreterms_T1_norm.png',dpi=400)\n",
    "plt.show()"
   ]
  },
  {
   "cell_type": "code",
   "execution_count": null,
   "id": "6445e876-0d34-451e-93fc-277b355faa7c",
   "metadata": {
    "jupyter": {
     "source_hidden": true
    },
    "tags": []
   },
   "outputs": [],
   "source": [
    "fig,axs = plot.subplots(ncols=1,nrows=1,axwidth=3.55,refaspect=1.751,share=False)\n",
    "leadtimec = 1\n",
    "cout=axs[0].pcolormesh(LinearRegression().fit(mlr_inputdict['dtuvw'][:-int(leadtimec)], \n",
    "                                              mlr_output[int(leadtimec)-1][:-int(leadtimec)]).coef_/1e-5,cmap='Div',cmap_kw={'cut': -0.01},\n",
    "                       vmin=-4,vmax=4,edgecolors='k', linewidths=0.25,alpha=0.99, shading='auto')\n",
    "axs[0].colorbar(cout,loc='r')\n",
    "axs[0].format(xticks=[1.15,3.85,9.75,20.5],xticklabels=['u$_{rad,r}$','v$_{tan,r}$','w',r'd$\\theta$/dt'],yticks=[1.5,4.5,9.5],\n",
    "              yticklabels=['du$_{rad}$/dt','dv$_{tan}$/dt','dw/dt'],title='Lead Time: 1hr; orig; No Memory [Residual]')\n",
    "axs[0].tick_params(axis='y',which='both',left=False)\n",
    "axs[0].tick_params(axis='x',which='both',bottom=False)\n",
    "for i in [3-0.5,6-0.5,16-0.5,16-0.5+12]:\n",
    "    axs[0].axvline(i,lw=3,color='k')\n",
    "for i in [3-0.5,6-0.5]:\n",
    "    axs[0].axhline(i,lw=3,color='k')\n",
    "#plt.savefig('./proc_fig/1122/uvwt_lt6_nm_coeff_resiheat.png',dpi=400)\n",
    "plt.show()"
   ]
  },
  {
   "cell_type": "code",
   "execution_count": null,
   "id": "ab26887e-091f-4618-8f78-38a3ee29c2aa",
   "metadata": {
    "jupyter": {
     "source_hidden": true
    },
    "tags": []
   },
   "outputs": [],
   "source": [
    "import matplotlib.ticker as ticker\n",
    "def fmt(x, pos):\n",
    "    a, b = '{:.2e}'.format(x).split('e')\n",
    "    b = int(b)\n",
    "    return r'${} \\times 10^{{{}}}$'.format(a, b)"
   ]
  },
  {
   "cell_type": "code",
   "execution_count": null,
   "id": "aad0d3d7-aba0-4020-998f-69468c7038f1",
   "metadata": {
    "jupyter": {
     "source_hidden": true
    },
    "tags": []
   },
   "outputs": [],
   "source": [
    "fig,axs = plot.subplots(ncols=2,nrows=1,axwidth=3.55,refaspect=1.751,share=False)\n",
    "leadtimec = 6\n",
    "cout=axs[0].pcolormesh(LinearRegression().fit(mlr_inputdict['dtuvw'][:-int(leadtimec)], \n",
    "                                              mlr_output[int(leadtimec)-1][:-int(leadtimec)]).coef_,cmap='Div',cmap_kw={'cut': -0.01},\n",
    "                       vmin=-4e-5,vmax=4e-5,edgecolors='k', linewidths=0.25,alpha=0.99, shading='auto')\n",
    "cbar = axs[0].colorbar(cout,loc='b',format=ticker.FuncFormatter(fmt))\n",
    "#cbar.formatter.set_powerlimits((0, 0))\n",
    "axs[0].format(xticks=[1.15,3.85,9.75,20.5],xticklabels=['u$_{rad,r}$','v$_{tan,r}$','w',r'd$\\theta$/dt'],yticks=[1.5,4.5,9.5],\n",
    "              yticklabels=['du$_{rad}$/dt','dv$_{tan}$/dt','dw/dt'],title='Lead Time: 6hr; orig; No Memory [Full Heating]')\n",
    "axs[0].tick_params(axis='y',which='both',left=False)\n",
    "axs[0].tick_params(axis='x',which='both',bottom=False)\n",
    "for i in [3-0.5,6-0.5,15-0.5,15-0.5+12]:\n",
    "    axs[0].axvline(i,lw=3,color='k')\n",
    "for i in [3-0.5,6-0.5]:\n",
    "    axs[0].axhline(i,lw=3,color='k')\n",
    "\n",
    "cout=axs[1].pcolormesh(LinearRegression().fit(rad_input[0]['dtuvw'][:-int(leadtimec)], \n",
    "                                              rad_output[0][int(leadtimec)-1][:-int(leadtimec)]).coef_,cmap='Div',cmap_kw={'cut': -0.01},\n",
    "                       vmin=-10e-5,vmax=10e-5,edgecolors='k', linewidths=0.25,alpha=0.99, shading='auto')\n",
    "cbar2 = axs[1].colorbar(cout,loc='b',ticks=[-8e-5,-4e-5,0,4e-5,8e-5],format=ticker.FuncFormatter(fmt))\n",
    "#cbar2.formatter.set_powerlimits((0, 0))\n",
    "axs[1].format(xticks=[1.15,3.85,9.75,20.5],xticklabels=['u$_{rad,r}$','v$_{tan,r}$','w',r'd$\\theta$/dt'],yticks=[1.5,4.5,9.5],\n",
    "              yticklabels=['du$_{rad}$/dt','dv$_{tan}$/dt','dw/dt'],title='Lead Time: 6hr; orig; No Memory [Radiative]')\n",
    "axs[1].tick_params(axis='y',which='both',left=False)\n",
    "axs[1].tick_params(axis='x',which='both',bottom=False)\n",
    "for i in [3-0.5,6-0.5,15-0.5,15-0.5+12]:\n",
    "    axs[1].axvline(i,lw=3,color='k')\n",
    "for i in [3-0.5,6-0.5]:\n",
    "    axs[1].axhline(i,lw=3,color='k')\n",
    "plt.savefig('./proc_fig/1122/uvwt_lt6_nm_coeff_fullheatradheat.png',dpi=400)\n",
    "plt.show()"
   ]
  },
  {
   "cell_type": "markdown",
   "id": "c3dbe595-e699-4afd-a0b2-adaa424251c1",
   "metadata": {},
   "source": [
    "### Reconstruction"
   ]
  },
  {
   "cell_type": "code",
   "execution_count": null,
   "id": "e831c610-514a-4539-996a-86629a02b672",
   "metadata": {},
   "outputs": [],
   "source": [
    "import json,pickle\n",
    "def save_to_pickle(loc=None,var=None):\n",
    "    with open(loc,\"wb\") as f:\n",
    "        pickle.dump(var,f)\n",
    "    return None\n",
    "\n",
    "save_to_pickle(loc='./output/1010_nc/MLR_train/radiation/simple/mlr_inputdictRESIn_T6',var=mlr_inputdict)\n",
    "save_to_pickle(loc='./output/1010_nc/MLR_train/radiation/simple/mlr_outputRESIn_T6',var=mlr_output)"
   ]
  },
  {
   "cell_type": "code",
   "execution_count": null,
   "id": "e59b8d2f-2a08-47a0-8991-7b49fe0f02e2",
   "metadata": {
    "jupyter": {
     "source_hidden": true
    },
    "tags": []
   },
   "outputs": [],
   "source": [
    "fileA = [path+'normalT_ctrl_nc']\n",
    "outputA = []\n",
    "for i in range(len(fileA)):\n",
    "    with open(fileA[i],'rb') as f:\n",
    "        outputA.append(pickle.load(f))\n",
    "A_dict = {'dtheta':outputA[0]}"
   ]
  },
  {
   "cell_type": "code",
   "execution_count": null,
   "id": "dd741265-18d1-4528-b3bd-00c9496946f4",
   "metadata": {
    "jupyter": {
     "source_hidden": true
    },
    "tags": []
   },
   "outputs": [],
   "source": [
    "forecast_eiginput = output_regpredict(mlr_inputdict['dtuvw'],mlr_output,LDTME,'linear','without')"
   ]
  },
  {
   "cell_type": "code",
   "execution_count": null,
   "id": "0b0aea8b-0ba8-4d57-ab6d-d7341c2179d9",
   "metadata": {
    "jupyter": {
     "source_hidden": true
    },
    "tags": []
   },
   "outputs": [],
   "source": [
    "def windrates_real(u=[Af_dict['u'],normalUradncrf36f,normalUradncrf60f,normalUradlwcrff],\n",
    "                   v=[Af_dict['v'],normalVtanncrf36f,normalVtanncrf60f,normalVtanlwcrff],w=[Af_dict['w'],normalWncrf36f,normalWncrf60f,normalWlwcrff],LT=None):\n",
    "    # dudt\n",
    "    dudtT = [forward_diff(uobj,60*60,0,LT) for uobj in u]\n",
    "    dudt = np.concatenate((dudtT[0],dudtT[1][96-(36-23):],dudtT[2][96-(60-23):],dudtT[3][96-(36-23):]),axis=0)\n",
    "    del dudtT\n",
    "    # dvdt\n",
    "    dvdtT = [forward_diff(vobj,60*60,0,LT) for vobj in v]\n",
    "    dvdt = np.concatenate((dvdtT[0],dvdtT[1][96-(36-23):],dvdtT[2][96-(60-23):],dvdtT[3][96-(36-23):]),axis=0)\n",
    "    del dvdtT \n",
    "    # dwdt\n",
    "    dwdtT = [forward_diff(wobj,60*60,0,LT) for wobj in w]\n",
    "    dwdt = np.concatenate((dwdtT[0],dwdtT[1][96-(36-23):],dwdtT[2][96-(60-23):],dwdtT[3][96-(36-23):]),axis=0)\n",
    "    del dwdtT \n",
    "    return dudt,dvdt,dwdt\n",
    "\n",
    "def recon_from_linear(forecast_eiginput=None,PCA_dict=None):\n",
    "    def output_reshapeRECON(forecast_eig=None,PCAdict=None):\n",
    "        testrec_dudt = np.dot(forecast_eig[:,0:3],(PCA_dict['u'].components_[0:3]))#.reshape((91,39,360,167))\n",
    "        testrec_dvdt = np.dot(forecast_eig[:,3:6],(PCA_dict['v'].components_[0:3]))#.reshape((91,39,360,167))\n",
    "        testrec_dwdt = np.dot(forecast_eig[:,6:],(PCA_dict['w'].components_[0:10]))#.reshape((39,360,167))\n",
    "        return testrec_dudt,testrec_dvdt,testrec_dwdt\n",
    "    ######################################################################################################################################################\n",
    "    name = ['dudt','dvdt','dwdt']\n",
    "    temp1,temp2,temp3 = [],[],[]\n",
    "    temp1b,temp2b,temp3b = [],[],[]\n",
    "    for i in tqdm(range(45)):\n",
    "        teMP1,teMP2,teMP3 = output_reshapeRECON(forecast_eiginput[i],PCA_dict)\n",
    "        reteMP1,reteMP2,reteMP3 = windrates_real(LT=i)\n",
    "        # Square error\n",
    "        temp1.append((teMP1-reteMP1)**2)\n",
    "        temp2.append((teMP2-reteMP2)**2)\n",
    "        temp3.append((teMP3-reteMP3)**2)\n",
    "        # Variance\n",
    "        temp1b.append((teMP1-np.nanmean(teMP1))**2)\n",
    "        temp2b.append((teMP2-np.nanmean(teMP2))**2)\n",
    "        temp3b.append((teMP3-np.nanmean(teMP3))**2)\n",
    "        del teMP1,teMP2,teMP3,rateMP1,reteMP2,reteMP3\n",
    "    del i\n",
    "    se_store = {name[0]:temp1,name[1]:temp2,name[2]:temp3}\n",
    "    va_store = {name[0]:temp1b,name[1]:temp2b,name[2]:temp3b}\n",
    "    ######################################################################################################################################################\n",
    "    return recon_store,va_store"
   ]
  },
  {
   "cell_type": "code",
   "execution_count": null,
   "id": "6968165c-c8aa-434f-ba1c-7b05940b27f9",
   "metadata": {
    "jupyter": {
     "source_hidden": true
    },
    "tags": []
   },
   "outputs": [],
   "source": [
    "import scipy\n",
    "def azimuth2angle(azimuth=None):\n",
    "    \"\"\"\n",
    "    https://math.stackexchange.com/questions/926226/conversion-from-azimuth-to-counterclockwise-angle\n",
    "    \"\"\"\n",
    "    angletest = 450-azimuth\n",
    "    for index,item in enumerate(angletest):\n",
    "        if item>360:\n",
    "            angletest[index] = item-360\n",
    "        else:\n",
    "            continue\n",
    "    return angletest\n",
    "\n",
    "def closest_index(array=None,target=None):\n",
    "    return np.abs(array-target).argmin()\n",
    "\n",
    "def polar2cartesian(outcoords, inputshape, origin):\n",
    "    \"\"\"Coordinate transform for converting a polar array to Cartesian coordinates. \n",
    "    inputshape is a tuple containing the shape of the polar array. origin is a\n",
    "    tuple containing the x and y indices of where the origin should be in the\n",
    "    output array.\"\"\"\n",
    "\n",
    "    xindex, yindex = outcoords\n",
    "    x0, y0 = origin\n",
    "    x = xindex - x0\n",
    "    y = yindex - y0\n",
    "\n",
    "    r = np.sqrt(x**2 + y**2)\n",
    "    theta = np.arctan2(y, x)\n",
    "    theta_index = np.round((theta + np.pi) * inputshape[1] / (2 * np.pi))\n",
    "\n",
    "    return (r,theta_index)\n",
    "\n",
    "def proc_tocart(polarfield=None,angle=None,twoD=True,twoDlv=None,standard=False):\n",
    "    if twoD==False:\n",
    "        PWnew = [np.asarray(polarfield)[int(twoDlv),int(np.abs(ANGLE-360).argmin()),:]]\n",
    "        for i in np.linspace(0,358,359):\n",
    "            PWnew.append(np.asarray(polarfield)[int(twoDlv),int(np.abs(ANGLE-i).argmin()),:])\n",
    "        PWnew = np.swapaxes(np.asarray(PWnew),0,1)\n",
    "        del i\n",
    "        \n",
    "        if standard==True:\n",
    "            PWnew = (PWnew-np.nanmean(PWnew))/np.nanstd(PWnew)\n",
    "        else:\n",
    "            PWnew=PWnew\n",
    "\n",
    "        test_2cartesian = scipy.ndimage.geometric_transform(PWnew, \n",
    "                                                            polar2cartesian,order=0,mode='constant',\n",
    "                                                            output_shape = \\\n",
    "                                                            (PWnew.shape[0] * 2,PWnew.shape[0] * 2),\n",
    "                                                            extra_keywords = \\\n",
    "                                                            {'inputshape':PWnew.shape,\n",
    "                                                             'origin':(PWnew.shape[0],PWnew.shape[0])})\n",
    "        #print('Finish processing')\n",
    "        return ((test_2cartesian))\n",
    "    elif twoD==True:\n",
    "        PWnew = [np.asarray(polarfield)[int(np.abs(ANGLE-360).argmin()),:]]\n",
    "        for i in np.linspace(0,358,359):\n",
    "            PWnew.append(np.asarray(polarfield)[int(np.abs(ANGLE-i).argmin()),:])\n",
    "        PWnew = np.swapaxes(np.asarray(PWnew),0,1)\n",
    "        del i\n",
    "        \n",
    "        if standard==True:\n",
    "            PWnew = (PWnew-np.nanmean(PWnew))/np.nanstd(PWnew)\n",
    "        else:\n",
    "            PWnew=PWnew\n",
    "\n",
    "        test_2cartesian = scipy.ndimage.geometric_transform(PWnew, \n",
    "                                                            polar2cartesian,order=0,mode='constant',\n",
    "                                                            output_shape = \\\n",
    "                                                            (PWnew.shape[0] * 2,PWnew.shape[0] * 2),\n",
    "                                                            extra_keywords = \\\n",
    "                                                            {'inputshape':PWnew.shape,\n",
    "                                                             'origin':(PWnew.shape[0],PWnew.shape[0])})\n",
    "        #print('Finish processing')\n",
    "        return ((test_2cartesian))"
   ]
  },
  {
   "cell_type": "code",
   "execution_count": null,
   "id": "a80ab821-8b50-4511-9775-5ad8faac9d66",
   "metadata": {
    "jupyter": {
     "source_hidden": true
    },
    "tags": []
   },
   "outputs": [],
   "source": [
    "ctrlvar_dict = read_and_proc.read_some_azimuth_fields(fileloc=[origin_path+'ctl/azim_W_0-144hr.nc'],fieldname=['W'])\n",
    "############################################################################################################################################\n",
    "ANGLE = azimuth2angle(np.linspace(0,359,360))\n",
    "NEWCART_axis = np.concatenate((np.flipud(-ctrlvar_dict['W'].radius[:r500]),ctrlvar_dict['W'].radius[:r500][:]))\n",
    "del ctrlvar_dict"
   ]
  },
  {
   "cell_type": "code",
   "execution_count": null,
   "id": "315caad6-5597-464c-acc6-4d05dad6fdf7",
   "metadata": {},
   "outputs": [],
   "source": []
  }
 ],
 "metadata": {
  "kernelspec": {
   "display_name": "Python 3 (ipykernel)",
   "language": "python",
   "name": "python3"
  },
  "language_info": {
   "codemirror_mode": {
    "name": "ipython",
    "version": 3
   },
   "file_extension": ".py",
   "mimetype": "text/x-python",
   "name": "python",
   "nbconvert_exporter": "python",
   "pygments_lexer": "ipython3",
   "version": "3.8.8"
  }
 },
 "nbformat": 4,
 "nbformat_minor": 5
}
