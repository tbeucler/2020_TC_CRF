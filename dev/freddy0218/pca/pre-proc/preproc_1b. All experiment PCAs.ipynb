{
 "cells": [
  {
   "cell_type": "code",
   "execution_count": 1,
   "id": "6b07fbf3",
   "metadata": {},
   "outputs": [],
   "source": [
    "import warnings\n",
    "warnings.filterwarnings('ignore',category=RuntimeWarning)\n",
    "import xarray as xr\n",
    "import numpy as np\n",
    "import matplotlib as mpl\n",
    "import matplotlib.pyplot as plt\n",
    "import seaborn as sns\n",
    "import glob,os,sys\n",
    "from tqdm import tqdm\n",
    "import datetime\n",
    "import proplot as plot\n",
    "from netCDF4 import Dataset\n",
    "from wrf import getvar\n",
    "import json,pickle\n",
    "from scipy.ndimage import uniform_filter1d\n",
    "from scipy.ndimage import gaussian_filter\n",
    "\n",
    "sys.path.insert(1, '/work/08350/tg876493/stampede2/python_codes/2020_TC_CRF/dev/freddy0218/tools/')\n",
    "import derive_var\n",
    "import read_and_proc,preproc_noensemble\n",
    "%matplotlib inline\n",
    "plot.rc.update({'figure.facecolor':'w','axes.labelweight':'ultralight',\n",
    "                'tick.labelweight':'ultralight','gridminor.linestyle':'--','title.weight':'normal','linewidth':0.5})"
   ]
  },
  {
   "cell_type": "code",
   "execution_count": 2,
   "id": "bf7641bd-84a7-49fc-b30a-48ae2aac25a7",
   "metadata": {
    "tags": []
   },
   "outputs": [],
   "source": [
    "#Function####################################################\n",
    "def nearest_index(array, value):\n",
    "    idx = (np.abs(array-value)).argmin()\n",
    "    return idx.values\n",
    "def forward_diff(arrayin=None,delta=None,axis=None):\n",
    "    result = []\n",
    "    if axis==0:\n",
    "        for i in range(0,arrayin.shape[axis]-1):\n",
    "            temp = (arrayin[i+1,:]-arrayin[i,:])/(delta)\n",
    "            result.append(temp)\n",
    "        return np.asarray(result)\n",
    "    \n",
    "def do_PCA(var=None,timezoom=None,smooth='Yes',gaussian=0.9,fromcenter='Yes',inradius=None,outradius=None,donormal='Yes',do_PCA='Yes',do_center='Yes'):\n",
    "    \"\"\"\n",
    "    Var: Input variable (must have 4 dimensions! Time-pres-theta-radius)\n",
    "    \"\"\"\n",
    "    if smooth=='Yes':\n",
    "        from scipy.ndimage import gaussian_filter\n",
    "        normal_var = []\n",
    "        if donormal=='Yes':\n",
    "            for presindex in range(len(var[0,:,0,0])):\n",
    "                normal_var.append(gaussian_filter(normalize_inner(var[:,presindex,:,:],outradius,'Yes'),sigma=gaussian))\n",
    "        elif donormal=='No':\n",
    "            if do_center=='Yes':\n",
    "                for presindex in range(len(var[0,:,0,0])):\n",
    "                    normal_var.append(gaussian_filter(normalize_inner(var[:,presindex,:,:],outradius,'No','Yes'),sigma=gaussian))\n",
    "            elif do_center=='No':\n",
    "                for presindex in range(len(var[0,:,0,0])):\n",
    "                    normal_var.append(gaussian_filter(normalize_inner(var[:,presindex,:,:],outradius,'No','No'),sigma=gaussian))  \n",
    "        normal_var = np.swapaxes(np.asarray(normal_var),0,1)\n",
    "    else:\n",
    "        normal_var = []\n",
    "        for presindex in range(len(var[0,:,0,0])):\n",
    "            normal_var.append(normalize_inner(var[:,presindex,:,:],outradius))\n",
    "        normal_var = np.swapaxes(np.asarray(normal_var),0,1)\n",
    "    if fromcenter=='Yes':\n",
    "        normal_varf = np.asarray([normal_var[i,:,:,:outradius].flatten() \\\n",
    "                                  for i in range(len(normal_var[timezoom[0]:timezoom[1],0,0,0]))])\n",
    "    elif fromcenter=='No':\n",
    "        normal_varf = np.asarray([normal_var[i,:,:,inradius:outradius].flatten() \\\n",
    "                                  for i in range(len(normal_var[timezoom[0]:timezoom[1],0,0,0]))])        \n",
    "    #print(\"--Finish preprocesing--\")\n",
    "    if do_PCA=='Yes':\n",
    "        from sklearn.decomposition import PCA\n",
    "        import time\n",
    "        start_time = time.time()\n",
    "        skpcaVAR = PCA()\n",
    "        skpcaVAR.fit(normal_varf.copy())\n",
    "        #print(\"--- %s seconds ---\" % (time.time() - start_time))\n",
    "        return skpcaVAR,normal_var,normal_varf\n",
    "    else:\n",
    "        return normal_var,normal_varf\n",
    "\n",
    "def normalize_inner(var=None,outerradius=None,standard='Yes',docenter='No'):\n",
    "    PWper_ctrl = []\n",
    "    for indx in range(len(var[:,0,0])):\n",
    "        if docenter=='Yes':\n",
    "            temp = var[indx,:,:outerradius]-np.nanmean(var[indx,:,:outerradius],axis=(0,1))\n",
    "        elif docenter=='No':\n",
    "            temp = var[indx,:,:outerradius]\n",
    "        if standard=='Yes':\n",
    "            PWper_ctrl.append((temp-np.nanmean(temp))/np.nanstd(temp))\n",
    "        elif standard=='No':\n",
    "            PWper_ctrl.append((temp))\n",
    "    del temp\n",
    "    return np.asarray(PWper_ctrl)"
   ]
  },
  {
   "cell_type": "markdown",
   "id": "b956d4f8",
   "metadata": {
    "tags": []
   },
   "source": [
    "### Velocities"
   ]
  },
  {
   "cell_type": "code",
   "execution_count": 3,
   "id": "7a8ec4ee-5d6d-4c17-a8f6-de967473f220",
   "metadata": {
    "tags": []
   },
   "outputs": [],
   "source": [
    "import gc\n",
    "def do_uradvtan_nonensemble(originpath=None,coor_pres=None,expname=None,savepath=None):\n",
    "    \"\"\"\n",
    "    Derive urad/vtan and save to /scratch\n",
    "    \"\"\"\n",
    "    ctrlvar_dict = read_and_proc.read_some_azimuth_fields(fileloc=[glob.glob(originpath+str(expname)+'/azim_U_*')[0],\\\n",
    "                                                     glob.glob(originpath+str(expname)+'/azim_V_*')[0]],fieldname=['U','V'])\n",
    "    r500 = nearest_index(ctrlvar_dict['U']['U'].radius,500)\n",
    "    ctrlhUrad,ctrlhVtan,_ = derive_var.ruppert_vtmax_calc(ctrlvar_dict['U']['U'].data,\\\n",
    "                                                          ctrlvar_dict['V']['V'].data,r500,ctrlvar_dict['U']['U'][:,0,:,:].azmiuth.values,None)\n",
    "    read_and_proc.save_to_pickle(savepath+'/'+str(expname)+'/'+'urad',ctrlhUrad,'PICKLE')\n",
    "    read_and_proc.save_to_pickle(savepath+'/'+str(expname)+'/'+'vtan',ctrlhVtan,'PICKLE')\n",
    "        \n",
    "    del ctrlvar_dict,ctrlhUrad,ctrlhVtan\n",
    "    gc.collect()\n",
    "    return None  \n",
    "\n",
    "def preproc_dtuvwqv(uvtpath=None,originpath=None,expname=None):\n",
    "    ###############################################################################################\n",
    "    # urad,vtan,theta & swapaxes\n",
    "    ###############################################################################################\n",
    "    urad = np.swapaxes(np.asarray(read_and_proc.depickle(uvtpath+str(expname)+'/urad')),0,1)\n",
    "    vtan = np.swapaxes(np.asarray(read_and_proc.depickle(uvtpath+str(expname)+'/vtan')),0,1)\n",
    "    theta = np.swapaxes(np.asarray(read_and_proc.depickle(uvtpath+str(expname)+'/theta')),0,1)\n",
    "    ###############################################################################################\n",
    "    # w,qv \n",
    "    ###############################################################################################\n",
    "    var_dict = read_and_proc.read_some_azimuth_fields(fileloc=[glob.glob(originpath+str(expname)+'/azim_W*')[0],\\\n",
    "                                                                   glob.glob(originpath+str(expname)+'/azim_QVAPOR_*')[0]],fieldname=['W','QVAPOR'])\n",
    "    #ctrl_t2,ctrl_t4 = nearest_index(ctrlvar_dict['W']['W'].time/24,0.5)-1,nearest_index(ctrlvar_dict['W']['W'].time/24,7)-1\n",
    "    r500=nearest_index(var_dict['W']['W'].radius,500)\n",
    "    ###############################################################################################\n",
    "    # dtheta\n",
    "    ###############################################################################################\n",
    "    if expname=='ctl':\n",
    "        dtheta = forward_diff(gaussian_filter(theta,sigma=[3,0,0,0]),60*60,0)\n",
    "    elif (expname=='ncrf_36h') or (expname=='lwcrf'):\n",
    "        ctrl_thetaA = np.swapaxes(np.asarray(read_and_proc.depickle(uvtpath+'/ctl/theta')),0,1)\n",
    "        thetaL = read_and_proc.add_ctrl_before_senstart(ctrl_thetaA,theta,'NCRF36','Yes')\n",
    "        dtheta = forward_diff(gaussian_filter(thetaL,sigma=[3,0,0,0]),60*60,0)\n",
    "        del ctrl_thetaA,thetaL\n",
    "        gc.collect()\n",
    "        ctrl_uradA = np.swapaxes(np.asarray(read_and_proc.depickle(uvtpath+'/ctl/urad')),0,1)\n",
    "        ctrl_vtanA = np.swapaxes(np.asarray(read_and_proc.depickle(uvtpath+'/ctl/vtan')),0,1)\n",
    "        uradL = read_and_proc.add_ctrl_before_senstart(ctrl_uradA,urad,'NCRF36','Yes')\n",
    "        vtanL = read_and_proc.add_ctrl_before_senstart(ctrl_vtanA,vtan,'NCRF36','Yes')\n",
    "        del ctrl_uradA,ctrl_vtanA\n",
    "        gc.collect()\n",
    "        ctrlvar_dict = read_and_proc.read_some_azimuth_fields(fileloc=[glob.glob(originpath+'ctl/azim_W*')[0],\\\n",
    "                                                                       glob.glob(originpath+'ctl/azim_QVAPOR_*')[0]],fieldname=['W','QVAPOR'])\n",
    "        wL = read_and_proc.add_ctrl_before_senstart(ctrlvar_dict['W']['W'],var_dict['W']['W'],'NCRF36','Yes')\n",
    "        qvL = read_and_proc.add_ctrl_before_senstart(ctrlvar_dict['QVAPOR']['QVAPOR'],var_dict['QVAPOR']['QVAPOR'],'NCRF36','Yes')\n",
    "        del ctrlvar_dict\n",
    "        gc.collect()\n",
    "    elif (expname=='ncrf_60h'):\n",
    "        ctrl_thetaA = np.swapaxes(np.asarray(read_and_proc.depickle(uvtpath+'/ctl/theta')),0,1)\n",
    "        thetaL = read_and_proc.add_ctrl_before_senstart(ctrl_thetaA,theta,'NCRF60','Yes')\n",
    "        dtheta = forward_diff(gaussian_filter(thetaL,sigma=[3,0,0,0]),60*60,0)\n",
    "        del ctrl_thetaA,thetaL\n",
    "        gc.collect()\n",
    "        ctrl_uradA = np.swapaxes(np.asarray(read_and_proc.depickle(uvtpath+'/ctl/urad')),0,1)\n",
    "        ctrl_vtanA = np.swapaxes(np.asarray(read_and_proc.depickle(uvtpath+'/ctl/vtan')),0,1)\n",
    "        uradL = read_and_proc.add_ctrl_before_senstart(ctrl_uradA,urad,'NCRF60','Yes')\n",
    "        vtanL = read_and_proc.add_ctrl_before_senstart(ctrl_vtanA,vtan,'NCRF60','Yes')\n",
    "        del ctrl_uradA,ctrl_vtanA\n",
    "        gc.collect()\n",
    "        ctrlvar_dict = read_and_proc.read_some_azimuth_fields(fileloc=[glob.glob(originpath+'ctl/azim_W*')[0],\\\n",
    "                                                                       glob.glob(originpath+'ctl/azim_QVAPOR_*')[0]],fieldname=['W','QVAPOR'])\n",
    "        wL = read_and_proc.add_ctrl_before_senstart(ctrlvar_dict['W']['W'],var_dict['W']['W'],'NCRF60','Yes')\n",
    "        qvL = read_and_proc.add_ctrl_before_senstart(ctrlvar_dict['QVAPOR']['QVAPOR'],var_dict['QVAPOR']['QVAPOR'],'NCRF60','Yes')\n",
    "        del ctrlvar_dict\n",
    "        gc.collect()\n",
    "    del theta\n",
    "    gc.collect()\n",
    "    ###############################################################################################\n",
    "    # smooth\n",
    "    ###############################################################################################\n",
    "    if expname=='ctl':\n",
    "        urads,vtans = gaussian_filter(urad,sigma=[3,0,0,0]),gaussian_filter(vtan,sigma=[3,0,0,0])\n",
    "        ws,qvs = gaussian_filter(var_dict['W']['W'],sigma=[3,0,0,0]),gaussian_filter(var_dict['QVAPOR']['QVAPOR'],sigma=[3,0,0,0])\n",
    "        del urad,vtan,var_dict\n",
    "    else:\n",
    "        urads,vtans = gaussian_filter(uradL,sigma=[3,0,0,0]),gaussian_filter(vtanL,sigma=[3,0,0,0])\n",
    "        ws,qvs = gaussian_filter(wL,sigma=[3,0,0,0]),gaussian_filter(qvL,sigma=[3,0,0,0])            \n",
    "        del uradL,vtanL,wL,qvL,var_dict    \n",
    "    gc.collect()\n",
    "            #print('memb_0'+str(i))\n",
    "            \n",
    "    urads = np.nan_to_num(urads)\n",
    "    vtans = np.nan_to_num(vtans)\n",
    "    ws = np.nan_to_num(ws)\n",
    "    qvs = np.nan_to_num(qvs)\n",
    "    dtheta = np.nan_to_num(dtheta)\n",
    "    print(\"---Finish!---\")\n",
    "    return dtheta,urads,vtans,ws,qvs,r500"
   ]
  },
  {
   "cell_type": "markdown",
   "id": "9c788ea2-7551-42d9-83da-739a137731c6",
   "metadata": {
    "tags": []
   },
   "source": [
    "#### Original PCA"
   ]
  },
  {
   "cell_type": "code",
   "execution_count": 4,
   "id": "22155a54-0673-49f6-b954-768338f947cd",
   "metadata": {
    "tags": []
   },
   "outputs": [
    {
     "name": "stdout",
     "output_type": "stream",
     "text": [
      "---Finish!---\n",
      "---Finish!---\n",
      "---Finish!---\n",
      "---Finish!---\n"
     ]
    }
   ],
   "source": [
    "#path_coor = '/scratch/06040/tg853394/tc/output/redux/maria/ctl/post/U.nc'\n",
    "#coor = xr.open_dataset(path_coor)\n",
    "#######################################################################################################################\n",
    "# Radial/tangential winds\n",
    "#######################################################################################################################\n",
    "#from tqdm import tqdm\n",
    "#exp_name=['ctl','ncrf_36h','ncrf_60h','lwcrf']\n",
    "#for inx,name in tqdm(enumerate(exp_name)):\n",
    "#    do_uradvtan_nonensemble(originpath='/scratch/06040/tg853394/tc/output/redux/maria/',coor_pres=coor.pres,\\\n",
    "#                expname=name,savepath='/scratch/08350/tg876493/ruppert2020/')\n",
    "#######################################################################################################################\n",
    "# Preproc data\n",
    "#######################################################################################################################\n",
    "ctl_dtheta,ctl_urad,ctl_vtan,ctl_w,ctl_qv,r500 = preproc_dtuvwqv(uvtpath='/scratch/08350/tg876493/ruppert2020/',\n",
    "                                                                originpath='/scratch/06040/tg853394/tc/output/redux/maria/',expname='ctl')\n",
    "ncrf36h_dtheta,ncrf36h_urad,ncrf36h_vtan,ncrf36h_w,ncrf36h_qv,_ = preproc_dtuvwqv(uvtpath='/scratch/08350/tg876493/ruppert2020/',\n",
    "                                                                originpath='/scratch/06040/tg853394/tc/output/redux/maria/',expname='ncrf_36h')\n",
    "ncrf60h_dtheta,ncrf60h_urad,ncrf60h_vtan,ncrf60h_w,ncrf60h_qv,_ = preproc_dtuvwqv(uvtpath='/scratch/08350/tg876493/ruppert2020/',\n",
    "                                                                originpath='/scratch/06040/tg853394/tc/output/redux/maria/',expname='ncrf_60h')\n",
    "lwcrf_dtheta,lwcrf_urad,lwcrf_vtan,lwcrf_w,lwcrf_qv,_ = preproc_dtuvwqv(uvtpath='/scratch/08350/tg876493/ruppert2020/',\n",
    "                                                                originpath='/scratch/06040/tg853394/tc/output/redux/maria/',expname='lwcrf')"
   ]
  },
  {
   "cell_type": "code",
   "execution_count": 5,
   "id": "bc0543c8-e9c1-4e5d-ac30-21873216de99",
   "metadata": {
    "tags": []
   },
   "outputs": [],
   "source": [
    "origin_path = '/scratch/06040/tg853394/tc/output/redux/maria/'\n",
    "ctrlvar_dict = read_and_proc.read_some_azimuth_fields(fileloc=[origin_path+'ctl/azim_U_0-144hr.nc'],fieldname=['U'])\n",
    "ncrf36var_dict = read_and_proc.read_some_azimuth_fields(fileloc=[origin_path+'ncrf_36h/azim_U_36-144hr.nc'],fieldname=['U'])\n",
    "ncrf60var_dict = read_and_proc.read_some_azimuth_fields(fileloc=[origin_path+'ncrf_60h/azim_U_60-144hr.nc'],fieldname=['U'])\n",
    "\n",
    "ctrl_t2,ctrl_t4 = nearest_index(ctrlvar_dict['U']['U'].time/24,1),nearest_index(ctrlvar_dict['U']['U'].time/24,5.5)\n",
    "ncrf36_t2,ncrf36_t4 = nearest_index(ncrf36var_dict['U']['U'].time/24,1),nearest_index(ncrf36var_dict['U']['U'].time/24,5.5)\n",
    "ncrf60_t2,ncrf60_t4 = nearest_index(ncrf60var_dict['U']['U'].time/24,1),nearest_index(ncrf60var_dict['U']['U'].time/24,5.5)\n",
    "#del ctrlvar_dict,ncrf36var_dict,ncrf60var_dict\n",
    "#gc.collect()"
   ]
  },
  {
   "cell_type": "code",
   "execution_count": 6,
   "id": "34f71648-f758-49e1-b457-992888cceff2",
   "metadata": {},
   "outputs": [
    {
     "data": {
      "text/plain": [
       "0"
      ]
     },
     "execution_count": 6,
     "metadata": {},
     "output_type": "execute_result"
    }
   ],
   "source": [
    "index_arrays = [np.ones((x.shape), dtype=int)*i for i, x in enumerate([ctl_dtheta[24:120],ncrf36h_dtheta[36:120],ncrf60h_dtheta[60:120],lwcrf_dtheta[36:120]])]\n",
    "alltheta = np.concatenate(([y for y in [ctl_dtheta[24:120],ncrf36h_dtheta[36:120],ncrf60h_dtheta[60:120],lwcrf_dtheta[36:120]]]))\n",
    "del ctl_dtheta,ncrf36h_dtheta,ncrf60h_dtheta,lwcrf_dtheta\n",
    "gc.collect()\n",
    "allurad = np.concatenate(([y for y in [ctl_urad[:-1][24:120],ncrf36h_urad[:-1][36:120],ncrf60h_urad[:-1][60:120],lwcrf_urad[:-1][36:120]]]))\n",
    "del ctl_urad,ncrf36h_urad,ncrf60h_urad,lwcrf_urad\n",
    "gc.collect()\n",
    "allvtan = np.concatenate(([y for y in [ctl_vtan[:-1][24:120],ncrf36h_vtan[:-1][36:120],ncrf60h_vtan[:-1][60:120],lwcrf_vtan[:-1][36:120]]]))\n",
    "del ctl_vtan,ncrf36h_vtan,ncrf60h_vtan,lwcrf_vtan\n",
    "gc.collect()\n",
    "allw = np.concatenate(([y for y in [ctl_w[:-1][24:120],ncrf36h_w[:-1][36:120],ncrf60h_w[:-1][60:120],lwcrf_w[:-1][36:120]]]))\n",
    "del ctl_w,ncrf36h_w,ncrf60h_w,lwcrf_w\n",
    "gc.collect()\n",
    "allqv = np.concatenate(([y for y in [ctl_qv[:-1][24:120],ncrf36h_qv[:-1][36:120],ncrf60h_qv[:-1][60:120],lwcrf_qv[:-1][36:120]]]))\n",
    "del ctl_qv,ncrf36h_qv,ncrf60h_qv,lwcrf_qv\n",
    "gc.collect()"
   ]
  },
  {
   "cell_type": "markdown",
   "id": "3c7d6641",
   "metadata": {
    "tags": []
   },
   "source": [
    "##### PCA"
   ]
  },
  {
   "cell_type": "code",
   "execution_count": 7,
   "id": "4a39f1d5-4b4f-404e-93f2-b44b0c28e016",
   "metadata": {},
   "outputs": [],
   "source": [
    "def save_PCA(var=None,varname=['U','V','W','QV','dthdt'],savepath=None):\n",
    "    ###################################################################\n",
    "    # Do PCA\n",
    "    #CTRL_PCAdict,CTRL_flatvardict,CTRL_origvardict = {},{},{}\n",
    "    for indx,obj in tqdm(enumerate(var)):\n",
    "        temp1,temp3,temp2 = do_PCA(var=obj,timezoom=[0,-1],smooth='Yes',\n",
    "                                   gaussian=[0,0,0],fromcenter='Yes',inradius=None,outradius=r500,donormal='No',do_PCA='Yes',do_center='No')\n",
    "        read_and_proc.save_to_pickle(savepath+'pca/'+str(varname[indx])+'_pca',temp1)\n",
    "        read_and_proc.save_to_pickle(savepath+'origvar/'+str(varname[indx])+'_origvar',temp3)\n",
    "        read_and_proc.save_to_pickle(savepath+'flatvar/'+str(varname[indx])+'_flatvar',temp2) \n",
    "        del temp1,temp2,temp3\n",
    "        gc.collect()        \n",
    "    return None"
   ]
  },
  {
   "cell_type": "code",
   "execution_count": 8,
   "id": "99d61fb7-2544-4ebf-bedf-7bd115da79fc",
   "metadata": {},
   "outputs": [
    {
     "name": "stderr",
     "output_type": "stream",
     "text": [
      "1it [15:20, 920.59s/it]\n"
     ]
    }
   ],
   "source": [
    "save_PCA(var=[alltheta],varname=['dthdt'],savepath='/scratch/08350/tg876493/ruppert2020/output/')\n",
    "read_and_proc.save_to_pickle('/scratch/08350/tg876493/ruppert2020/output/index_array',index_arrays) \n",
    "#var=[allurad,allvtan,allw,allqv,alltheta],varname=['U','V','W','QV','dthdt']"
   ]
  },
  {
   "cell_type": "code",
   "execution_count": 5,
   "id": "ae3dad59-1335-4b62-9358-9961b1f03421",
   "metadata": {
    "collapsed": true,
    "jupyter": {
     "outputs_hidden": true
    },
    "tags": []
   },
   "outputs": [
    {
     "data": {
      "text/plain": [
       "40"
      ]
     },
     "execution_count": 5,
     "metadata": {},
     "output_type": "execute_result"
    }
   ],
   "source": [
    "ctrl_ugrad_b = forward_diff(gaussian_filter(np.swapaxes(np.asarray(ctrlhUrad),0,1),sigma=[3,0,0,0]),60*60,0)\n",
    "ctrl_vgrad_b = forward_diff(gaussian_filter(np.swapaxes(np.asarray(ctrlhVtan),0,1),sigma=[3,0,0,0]),60*60,0)\n",
    "ctrl_wgrad_b = forward_diff(gaussian_filter(ctrlvar_dict['W']['W'].data,sigma=[3,0,0,0]),60*60,0)\n",
    "del ctrlhUrad,ctrlhVtan,ncrf_36hUrad,ncrf_36hVtan,ncrf_60hUrad,ncrf_60hVtan,ctrlvar_dict['W']['W'],ncrf60var_dict,ncrf36var_dict\n",
    "gc.collect()"
   ]
  },
  {
   "cell_type": "markdown",
   "id": "5e7e17b1-ada1-4142-b6b0-6235fc81c6af",
   "metadata": {
    "jp-MarkdownHeadingCollapsed": true,
    "tags": []
   },
   "source": [
    "#### Radiative"
   ]
  },
  {
   "cell_type": "code",
   "execution_count": 4,
   "id": "8c73a878-a8d9-4634-b469-f3a59ce62ca3",
   "metadata": {
    "tags": []
   },
   "outputs": [],
   "source": [
    "def preproc_onevar(varname=None,originpath=None,expname=None):\n",
    "    ###############################################################################################\n",
    "    # var\n",
    "    ###############################################################################################\n",
    "    var_dict = read_and_proc.read_some_azimuth_fields(fileloc=[glob.glob(originpath+str(expname)+'/azim_'+str(varname)+'_*')[0]],fieldname=[varname])\n",
    "    #ctrl_t2,ctrl_t4 = nearest_index(ctrlvar_dict['W']['W'].time/24,0.5)-1,nearest_index(ctrlvar_dict['W']['W'].time/24,7)-1\n",
    "    r500=nearest_index(var_dict[varname][varname].radius,500)\n",
    "    ###############################################################################################\n",
    "    # dtheta\n",
    "    ###############################################################################################\n",
    "    if expname=='ctl':\n",
    "        varL = var_dict[varname][varname]\n",
    "    elif (expname=='ncrf_36h') or (expname=='lwcrf'):\n",
    "        ctrlvar_dict = read_and_proc.read_some_azimuth_fields(fileloc=[glob.glob(originpath+'ctl/azim_'+str(varname)+'_*')[0]],fieldname=[varname])\n",
    "        varL = read_and_proc.add_ctrl_before_senstart(ctrlvar_dict[varname][varname],var_dict[varname][varname],'NCRF36','Yes')\n",
    "        del ctrlvar_dict\n",
    "        gc.collect()\n",
    "    elif (expname=='ncrf_60h'):\n",
    "        ctrlvar_dict = read_and_proc.read_some_azimuth_fields(fileloc=[glob.glob(originpath+'ctl/azim_'+str(varname)+'_*')[0]],fieldname=[varname])\n",
    "        varL = read_and_proc.add_ctrl_before_senstart(ctrlvar_dict[varname][varname],var_dict[varname][varname],'NCRF60','Yes')\n",
    "        del ctrlvar_dict\n",
    "        gc.collect()\n",
    "    ###############################################################################################\n",
    "    # smooth\n",
    "    ###############################################################################################\n",
    "    if expname=='ctl':\n",
    "        var_s = gaussian_filter(varL,sigma=[3,0,0,0])\n",
    "        del varL,var_dict\n",
    "    else:\n",
    "        var_s = gaussian_filter(varL,sigma=[3,0,0,0])\n",
    "        del varL,var_dict    \n",
    "    gc.collect()\n",
    "    var_s = np.nan_to_num(var_s)\n",
    "    print(\"---Finish!---\")\n",
    "    return var_s"
   ]
  },
  {
   "cell_type": "code",
   "execution_count": 18,
   "id": "27be4379-994b-4652-b275-48e2512f2496",
   "metadata": {},
   "outputs": [
    {
     "name": "stdout",
     "output_type": "stream",
     "text": [
      "---Finish!---\n",
      "---Finish!---\n",
      "---Finish!---\n",
      "---Finish!---\n",
      "---Finish!---\n",
      "---Finish!---\n",
      "---Finish!---\n",
      "---Finish!---\n"
     ]
    }
   ],
   "source": [
    "ctl_lw,ctl_lwc = preproc_onevar('RTHRATLW','/scratch/06040/tg853394/tc/output/redux/maria/','ctl'),preproc_onevar('RTHRATLWC','/scratch/06040/tg853394/tc/output/redux/maria/','ctl')\n",
    "ncrf_36h_lw,ncrf_36h_lwc = preproc_onevar('RTHRATLW','/scratch/06040/tg853394/tc/output/redux/maria/','ncrf_36h'),preproc_onevar('RTHRATLWC','/scratch/06040/tg853394/tc/output/redux/maria/','ncrf_36h')\n",
    "ncrf_60h_lw,ncrf_60h_lwc = preproc_onevar('RTHRATLW','/scratch/06040/tg853394/tc/output/redux/maria/','ncrf_60h'),preproc_onevar('RTHRATLWC','/scratch/06040/tg853394/tc/output/redux/maria/','ncrf_60h')\n",
    "lwcrf_lw,lwcrf_lwc = preproc_onevar('RTHRATLW','/scratch/06040/tg853394/tc/output/redux/maria/','lwcrf'),preproc_onevar('RTHRATLWC','/scratch/06040/tg853394/tc/output/redux/maria/','lwcrf')"
   ]
  },
  {
   "cell_type": "code",
   "execution_count": 19,
   "id": "df131253-29dc-4e75-b591-ebdc9114de4d",
   "metadata": {
    "tags": []
   },
   "outputs": [
    {
     "ename": "NameError",
     "evalue": "name 'ctl_sw' is not defined",
     "output_type": "error",
     "traceback": [
      "\u001b[0;31m---------------------------------------------------------------------------\u001b[0m",
      "\u001b[0;31mNameError\u001b[0m                                 Traceback (most recent call last)",
      "\u001b[0;32m/tmp/ipykernel_38494/3064313650.py\u001b[0m in \u001b[0;36m<module>\u001b[0;34m\u001b[0m\n\u001b[1;32m     10\u001b[0m     \u001b[0mlwcrf_rad\u001b[0m \u001b[0;34m=\u001b[0m \u001b[0mlwcrf_lw\u001b[0m\u001b[0;34m-\u001b[0m\u001b[0mlwcrf_lwc\u001b[0m\u001b[0;34m\u001b[0m\u001b[0;34m\u001b[0m\u001b[0m\n\u001b[1;32m     11\u001b[0m     \u001b[0mncrf60_rad\u001b[0m \u001b[0;34m=\u001b[0m \u001b[0mncrf_60h_lw\u001b[0m\u001b[0;34m-\u001b[0m\u001b[0mncrf_60h_lwc\u001b[0m\u001b[0;34m\u001b[0m\u001b[0;34m\u001b[0m\u001b[0m\n\u001b[0;32m---> 12\u001b[0;31m \u001b[0;32mdel\u001b[0m \u001b[0mctl_lw\u001b[0m\u001b[0;34m,\u001b[0m\u001b[0mctl_sw\u001b[0m\u001b[0;34m,\u001b[0m\u001b[0mncrf_36h_lw\u001b[0m\u001b[0;34m,\u001b[0m\u001b[0mncrf_36h_sw\u001b[0m\u001b[0;34m,\u001b[0m\u001b[0mncrf_60h_lw\u001b[0m\u001b[0;34m,\u001b[0m\u001b[0mncrf_60h_sw\u001b[0m\u001b[0;34m,\u001b[0m\u001b[0mlwcrf_lw\u001b[0m\u001b[0;34m,\u001b[0m\u001b[0mlwcrf_sw\u001b[0m\u001b[0;34m\u001b[0m\u001b[0;34m\u001b[0m\u001b[0m\n\u001b[0m\u001b[1;32m     13\u001b[0m \u001b[0mgc\u001b[0m\u001b[0;34m.\u001b[0m\u001b[0mcollect\u001b[0m\u001b[0;34m(\u001b[0m\u001b[0;34m)\u001b[0m\u001b[0;34m\u001b[0m\u001b[0;34m\u001b[0m\u001b[0m\n",
      "\u001b[0;31mNameError\u001b[0m: name 'ctl_sw' is not defined"
     ]
    }
   ],
   "source": [
    "radtype = 'ir'\n",
    "if radtype=='all':\n",
    "    ctrl_rad = ctl_lw+ctl_sw\n",
    "    ncrf36_rad = ncrf_36h_lw+ncrf_36h_sw\n",
    "    lwcrf_rad = lwcrf_lw+lwcrf_sw\n",
    "    ncrf60_rad = ncrf_60h_lw+ncrf_60h_sw\n",
    "elif radtype=='ir':\n",
    "    ctrl_rad = ctl_lw-ctl_lwc\n",
    "    ncrf36_rad = ncrf_36h_lw-ncrf_36h_lwc\n",
    "    lwcrf_rad = lwcrf_lw-lwcrf_lwc\n",
    "    ncrf60_rad = ncrf_60h_lw-ncrf_60h_lwc   \n",
    "del ctl_lw,ctl_sw,ncrf_36h_lw,ncrf_36h_sw,ncrf_60h_lw,ncrf_60h_sw,lwcrf_lw,lwcrf_sw\n",
    "gc.collect()"
   ]
  },
  {
   "cell_type": "code",
   "execution_count": null,
   "id": "a2f5e0b7-c99d-435b-a633-427c02c23ded",
   "metadata": {},
   "outputs": [],
   "source": [
    "resi=False\n",
    "if resi is True:\n",
    "    c_th,n36_th,n60_th,l_th=derive_var.output_dtheta('/scratch/08350/tg876493/ruppert2020/','/scratch/06040/tg853394/tc/output/redux/maria/','ctl'),\\\n",
    "    derive_var.output_dtheta('/scratch/08350/tg876493/ruppert2020/','/scratch/06040/tg853394/tc/output/redux/maria/','ncrf_36h'),\\\n",
    "    derive_var.output_dtheta('/scratch/08350/tg876493/ruppert2020/','/scratch/06040/tg853394/tc/output/redux/maria/','ncrf_60h'),\\\n",
    "    derive_var.output_dtheta('/scratch/08350/tg876493/ruppert2020/','/scratch/06040/tg853394/tc/output/redux/maria/','lwcrf')\n",
    "    \n",
    "    ctrl_resi = c_th-ctrl_rad[:-1]\n",
    "    ncrf36_resi = n36_th-ncrf36_rad[:-1]\n",
    "    ncrf60_resi = n60_th-ncrf60_rad[:-1]\n",
    "    lwcrf_resi = l_th-lwcrf_rad[:-1]\n",
    "    del c_th,n36_th,n60_th,l_th,ctrl_rad,ncrf36_rad,ncrf60_rad,lwcrf_rad\n",
    "    gc.collect()\n",
    "    allrad = np.concatenate(([y for y in [ctrl_resi[24:120],ncrf36_resi[36:120],ncrf60_resi[60:120],lwcrf_resi[36:120]]]))\n",
    "    del ctrl_resi,ncrf36_resi,ncrf60_resi,lwcrf_resi\n",
    "else:\n",
    "    index_arrays = [np.ones((x.shape), dtype=int)*i for i, x in enumerate([ctrl_rad[:-1][24:120],ncrf36_rad[:-1][36:120],ncrf60_rad[:-1][60:120],lwcrf_rad[:-1][36:120]])]\n",
    "    allrad = np.concatenate(([y for y in [ctrl_rad[:-1][24:120],ncrf36_rad[:-1][36:120],ncrf60_rad[:-1][60:120],lwcrf_rad[:-1][36:120]]]))\n",
    "    del ctrl_rad,ncrf36_rad,ncrf60_rad,lwcrf_rad\n",
    "    gc.collect()"
   ]
  },
  {
   "cell_type": "code",
   "execution_count": null,
   "id": "23cbb251-38d5-4ec5-9a4d-a07568c61045",
   "metadata": {
    "tags": []
   },
   "outputs": [],
   "source": [
    "preproc_noensemble.save_onevar(var=[allrad],varname=['ir'],savepath='/scratch/08350/tg876493/ruppert2020/output/heat/ir/',\\\n",
    "                              originpath='/scratch/06040/tg853394/tc/output/redux/maria/')\n",
    "#read_and_proc.save_to_pickle('/scratch/08350/tg876493/ruppert2020/output/index_array',index_arrays) "
   ]
  },
  {
   "cell_type": "markdown",
   "id": "b2edb79f-ea3b-4e86-b31a-645d0b28302d",
   "metadata": {
    "tags": []
   },
   "source": [
    "##### Remove diurnal effect"
   ]
  },
  {
   "cell_type": "code",
   "execution_count": null,
   "id": "b026ce23-2420-4058-b2b5-1f3a6097dacf",
   "metadata": {
    "jupyter": {
     "source_hidden": true
    },
    "tags": []
   },
   "outputs": [],
   "source": [
    "#from scipy.ndimage import uniform_filter1d\n",
    "#uniform_filter1d((obj),size=24,axis=0)\n",
    "##############################################################################################\n",
    "# (a) Urad, Vtan\n",
    "UVdict = {}\n",
    "dictname = ['ctrlU','ctrlV','ncrf36U','ncrf36V','ncrf60U','ncrf60V']\n",
    "for indx,obj in tqdm(enumerate([ctrlhUrad,ctrlhVtan,ncrf_36hUrad,ncrf_36hVtan,ncrf_60hUrad,ncrf_60hVtan])):\n",
    "    UVdict[dictname[indx]] = uniform_filter1d(np.swapaxes(np.asarray(obj),0,1),size=24,axis=0)\n",
    "del ctrlhUrad,ctrlhVtan,ncrf_36hUrad,ncrf_36hVtan,ncrf_60hUrad,ncrf_60hVtan,dictname\n",
    "gc.collect()\n",
    "##############################################################################################\n",
    "# (b) W, QV\n",
    "WQVdict = {}\n",
    "dictname = ['ctrlW','ctrlQV','ncrf36W','ncrf36QV','ncrf60W','ncrf60QV']\n",
    "for indx,obj in tqdm(enumerate([ctrlvar_dict['W']['W'],ctrlvar_dict['QVAPOR']['QVAPOR'],NCRF36_w,NCRF36_qv,NCRF60_w,NCRF60_qv])):\n",
    "    WQVdict[dictname[indx]] = uniform_filter1d((obj),size=24,axis=0)\n",
    "del NCRF36_w,NCRF36_qv,NCRF60_w,NCRF60_qv,ctrlvar_dict,ncrf36var_dict,ncrf60var_dict\n",
    "gc.collect()"
   ]
  },
  {
   "cell_type": "markdown",
   "id": "10a6a45c-04ff-437f-b849-dd35d093d993",
   "metadata": {},
   "source": [
    "#### Velocity time differences"
   ]
  },
  {
   "cell_type": "code",
   "execution_count": 5,
   "id": "3f2d4237-12c8-42b3-8e09-b46ccc09c2f9",
   "metadata": {},
   "outputs": [
    {
     "name": "stdout",
     "output_type": "stream",
     "text": [
      "---Finish!---\n",
      "---Finish!---\n",
      "---Finish!---\n",
      "---Finish!---\n"
     ]
    }
   ],
   "source": [
    "ctl_du,ctl_dv,ctl_dw = preproc_noensemble.preproc_dudvdw('/scratch/08350/tg876493/ruppert2020/',\\\n",
    "                                                         '/scratch/06040/tg853394/tc/output/redux/maria/','ctl')\n",
    "ncrf_36h_du,ncrf_36h_dv,ncrf_36h_dw = preproc_noensemble.preproc_dudvdw('/scratch/08350/tg876493/ruppert2020/',\\\n",
    "                                                                        '/scratch/06040/tg853394/tc/output/redux/maria/','ncrf_36h')\n",
    "ncrf_60h_du,ncrf_60h_dv,ncrf_60h_dw = preproc_noensemble.preproc_dudvdw('/scratch/08350/tg876493/ruppert2020/',\\\n",
    "                                                                        '/scratch/06040/tg853394/tc/output/redux/maria/','ncrf_60h')\n",
    "lwcrf_du,lwcrf_dv,lwcrf_dw = preproc_noensemble.preproc_dudvdw('/scratch/08350/tg876493/ruppert2020/',\\\n",
    "                                                               '/scratch/06040/tg853394/tc/output/redux/maria/','lwcrf')"
   ]
  },
  {
   "cell_type": "code",
   "execution_count": 6,
   "id": "7d9e4268-41bc-4866-86ac-663d4ef98cba",
   "metadata": {},
   "outputs": [
    {
     "data": {
      "text/plain": [
       "0"
      ]
     },
     "execution_count": 6,
     "metadata": {},
     "output_type": "execute_result"
    }
   ],
   "source": [
    "ctl_dict = {\"du\":ctl_du,\"dv\":ctl_dv,\"dw\":ctl_dw}\n",
    "del ctl_du,ctl_dv,ctl_dw\n",
    "gc.collect()\n",
    "ncrf_36h_dict = {\"du\":ncrf_36h_du,\"dv\":ncrf_36h_dv,\"dw\":ncrf_36h_dw}\n",
    "del ncrf_36h_du,ncrf_36h_dv,ncrf_36h_dw\n",
    "gc.collect()\n",
    "ncrf_60h_dict = {\"du\":ncrf_60h_du,\"dv\":ncrf_60h_dv,\"dw\":ncrf_60h_dw}\n",
    "del ncrf_60h_du,ncrf_60h_dv,ncrf_60h_dw\n",
    "gc.collect()\n",
    "lwcrf_dict = {\"du\":lwcrf_du,\"dv\":lwcrf_dv,\"dw\":lwcrf_dw}\n",
    "del lwcrf_du,lwcrf_dv,lwcrf_dw\n",
    "gc.collect()"
   ]
  },
  {
   "cell_type": "code",
   "execution_count": 7,
   "id": "95c95e31-3ca4-4e1b-83b0-a4452f089085",
   "metadata": {},
   "outputs": [],
   "source": [
    "alldu = np.concatenate(([y for y in [ctl_dict['du'][24:120],ncrf_36h_dict['du'][36:120],ncrf_60h_dict['du'][60:120],lwcrf_dict['du'][36:120]]]))\n",
    "alldv = np.concatenate(([y for y in [ctl_dict['dv'][24:120],ncrf_36h_dict['dv'][36:120],ncrf_60h_dict['dv'][60:120],lwcrf_dict['dv'][36:120]]]))\n",
    "alldw = np.concatenate(([y for y in [ctl_dict['dw'][24:120],ncrf_36h_dict['dw'][36:120],ncrf_60h_dict['dw'][60:120],lwcrf_dict['dw'][36:120]]]))"
   ]
  },
  {
   "cell_type": "code",
   "execution_count": 8,
   "id": "33c8b04c-eb3f-4ec5-96c5-a7f64e94cccd",
   "metadata": {},
   "outputs": [
    {
     "name": "stderr",
     "output_type": "stream",
     "text": [
      "1it [00:19, 19.12s/it]\n",
      "1it [00:18, 18.78s/it]\n",
      "1it [00:20, 20.02s/it]\n"
     ]
    }
   ],
   "source": [
    "import importlib\n",
    "importlib.reload(preproc_noensemble)\n",
    "preproc_noensemble.save_onevar(var=[alldu],varname=['du'],savepath='/scratch/08350/tg876493/ruppert2020/output/dudvdw/',\\\n",
    "                               originpath='/scratch/06040/tg853394/tc/output/redux/maria/')\n",
    "preproc_noensemble.save_onevar(var=[alldv],varname=['dv'],savepath='/scratch/08350/tg876493/ruppert2020/output/dudvdw/',\\\n",
    "                               originpath='/scratch/06040/tg853394/tc/output/redux/maria/')\n",
    "preproc_noensemble.save_onevar(var=[alldw],varname=['dw'],savepath='/scratch/08350/tg876493/ruppert2020/output/dudvdw/',\\\n",
    "                               originpath='/scratch/06040/tg853394/tc/output/redux/maria/')"
   ]
  },
  {
   "cell_type": "code",
   "execution_count": null,
   "id": "7eb7aca1-eb80-44d8-a3f5-23c2f0eea727",
   "metadata": {},
   "outputs": [],
   "source": []
  }
 ],
 "metadata": {
  "kernelspec": {
   "display_name": "Python 3 (ipykernel)",
   "language": "python",
   "name": "python3"
  },
  "language_info": {
   "codemirror_mode": {
    "name": "ipython",
    "version": 3
   },
   "file_extension": ".py",
   "mimetype": "text/x-python",
   "name": "python",
   "nbconvert_exporter": "python",
   "pygments_lexer": "ipython3",
   "version": "3.8.8"
  }
 },
 "nbformat": 4,
 "nbformat_minor": 5
}
