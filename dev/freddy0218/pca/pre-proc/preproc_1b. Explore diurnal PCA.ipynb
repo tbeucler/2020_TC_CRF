{
 "cells": [
  {
   "cell_type": "code",
   "execution_count": 1,
   "id": "6b07fbf3",
   "metadata": {},
   "outputs": [],
   "source": [
    "import warnings\n",
    "warnings.filterwarnings('ignore',category=RuntimeWarning)\n",
    "import xarray as xr\n",
    "import numpy as np\n",
    "import matplotlib as mpl\n",
    "import matplotlib.pyplot as plt\n",
    "import seaborn as sns\n",
    "import glob,os,sys\n",
    "from tqdm import tqdm\n",
    "import datetime\n",
    "import proplot as plot\n",
    "from netCDF4 import Dataset\n",
    "from wrf import getvar\n",
    "import json,pickle\n",
    "from scipy.ndimage import uniform_filter1d\n",
    "from scipy.ndimage import gaussian_filter\n",
    "\n",
    "sys.path.insert(1, '/work/08350/tg876493/stampede2/python_codes/2020_TC_CRF/dev/freddy0218/tools/')\n",
    "import derive_var\n",
    "import read_and_proc\n",
    "%matplotlib inline\n",
    "plot.rc.update({'figure.facecolor':'w','axes.labelweight':'ultralight',\n",
    "                'tick.labelweight':'ultralight','gridminor.linestyle':'--','title.weight':'normal','linewidth':0.5})"
   ]
  },
  {
   "cell_type": "code",
   "execution_count": 2,
   "id": "bf7641bd-84a7-49fc-b30a-48ae2aac25a7",
   "metadata": {},
   "outputs": [],
   "source": [
    "#Function####################################################\n",
    "def nearest_index(array, value):\n",
    "    idx = (np.abs(array-value)).argmin()\n",
    "    return idx.values\n",
    "def forward_diff(arrayin=None,delta=None,axis=None):\n",
    "    result = []\n",
    "    if axis==0:\n",
    "        for i in range(0,arrayin.shape[axis]-1):\n",
    "            temp = (arrayin[i+1,:]-arrayin[i,:])/(delta)\n",
    "            result.append(temp)\n",
    "        return np.asarray(result)\n",
    "    \n",
    "def do_PCA(var=None,timezoom=None,smooth='Yes',gaussian=0.9,fromcenter='Yes',inradius=None,outradius=None,donormal='Yes',do_PCA='Yes',do_center='Yes'):\n",
    "    \"\"\"\n",
    "    Var: Input variable (must have 4 dimensions! Time-pres-theta-radius)\n",
    "    \"\"\"\n",
    "    if smooth=='Yes':\n",
    "        from scipy.ndimage import gaussian_filter\n",
    "        normal_var = []\n",
    "        if donormal=='Yes':\n",
    "            for presindex in range(len(var[0,:,0,0])):\n",
    "                normal_var.append(gaussian_filter(normalize_inner(var[:,presindex,:,:],outradius,'Yes'),sigma=gaussian))\n",
    "        elif donormal=='No':\n",
    "            if do_center=='Yes':\n",
    "                for presindex in range(len(var[0,:,0,0])):\n",
    "                    normal_var.append(gaussian_filter(normalize_inner(var[:,presindex,:,:],outradius,'No','Yes'),sigma=gaussian))\n",
    "            elif do_center=='No':\n",
    "                for presindex in range(len(var[0,:,0,0])):\n",
    "                    normal_var.append(gaussian_filter(normalize_inner(var[:,presindex,:,:],outradius,'No','No'),sigma=gaussian))  \n",
    "        normal_var = np.swapaxes(np.asarray(normal_var),0,1)\n",
    "    else:\n",
    "        normal_var = []\n",
    "        for presindex in range(len(var[0,:,0,0])):\n",
    "            normal_var.append(normalize_inner(var[:,presindex,:,:],outradius))\n",
    "        normal_var = np.swapaxes(np.asarray(normal_var),0,1)\n",
    "    if fromcenter=='Yes':\n",
    "        normal_varf = np.asarray([normal_var[i,:,:,:outradius].flatten() \\\n",
    "                                  for i in range(len(normal_var[timezoom[0]:timezoom[1],0,0,0]))])\n",
    "    elif fromcenter=='No':\n",
    "        normal_varf = np.asarray([normal_var[i,:,:,inradius:outradius].flatten() \\\n",
    "                                  for i in range(len(normal_var[timezoom[0]:timezoom[1],0,0,0]))])        \n",
    "    #print(\"--Finish preprocesing--\")\n",
    "    if do_PCA=='Yes':\n",
    "        from sklearn.decomposition import PCA\n",
    "        import time\n",
    "        start_time = time.time()\n",
    "        skpcaVAR = PCA()\n",
    "        skpcaVAR.fit(normal_varf.copy())\n",
    "        #print(\"--- %s seconds ---\" % (time.time() - start_time))\n",
    "        return skpcaVAR,normal_var,normal_varf\n",
    "    else:\n",
    "        return normal_var,normal_varf\n",
    "\n",
    "def normalize_inner(var=None,outerradius=None,standard='Yes',docenter='No'):\n",
    "    PWper_ctrl = []\n",
    "    for indx in range(len(var[:,0,0])):\n",
    "        if docenter=='Yes':\n",
    "            temp = var[indx,:,:outerradius]-np.nanmean(var[indx,:,:outerradius],axis=(0,1))\n",
    "        elif docenter=='No':\n",
    "            temp = var[indx,:,:outerradius]\n",
    "        if standard=='Yes':\n",
    "            PWper_ctrl.append((temp-np.nanmean(temp))/np.nanstd(temp))\n",
    "        elif standard=='No':\n",
    "            PWper_ctrl.append((temp))\n",
    "    del temp\n",
    "    return np.asarray(PWper_ctrl)"
   ]
  },
  {
   "cell_type": "markdown",
   "id": "b956d4f8",
   "metadata": {
    "tags": []
   },
   "source": [
    "### Temperature"
   ]
  },
  {
   "cell_type": "code",
   "execution_count": 3,
   "id": "165ac6b4",
   "metadata": {
    "tags": []
   },
   "outputs": [],
   "source": [
    "import gc\n",
    "origin_path = '/scratch/06040/tg853394/tc/output/redux/maria/'\n",
    "\n",
    "#############################################################\n",
    "ctrlvar_dict = read_and_proc.read_some_azimuth_fields(fileloc=[origin_path+'ctl/azim_U_0-144hr.nc',origin_path+'ctl/azim_V_0-144hr.nc',origin_path+'ctl/azim_W_0-144hr.nc',origin_path+'ctl/azim_QVAPOR_0-144hr.nc'],\n",
    "                                        fieldname=['U','V','W','QVAPOR'])\n",
    "ncrf60var_dict = read_and_proc.read_some_azimuth_fields(fileloc=[origin_path+'ncrf_60h/azim_U_60-144hr.nc',origin_path+'ncrf_60h/azim_V_60-144hr.nc',origin_path+'ncrf_60h/azim_W_60-144hr.nc',origin_path+'ncrf_60h/azim_QVAPOR_60-144hr.nc'],\n",
    "                                          fieldname=['U','V','W','QVAPOR'])\n",
    "ncrf36var_dict = read_and_proc.read_some_azimuth_fields(fileloc=[origin_path+'lwcrf/azim_U_36-144hr.nc',origin_path+'lwcrf/azim_V_36-144hr.nc',origin_path+'lwcrf/azim_W_36-144hr.nc',origin_path+'lwcrf/azim_QVAPOR_36-144hr.nc'],\n",
    "                                          fieldname=['U','V','W','QVAPOR'])\n",
    "r300,r500=(nearest_index(ctrlvar_dict['U']['U'].radius,300),nearest_index(ctrlvar_dict['U']['U'].radius,500))\n",
    "NCRF36_u,NCRF36_v,NCRF36_w,NCRF36_qv = read_and_proc.add_ctrl_before_senstart(ctrlvar_dict['U']['U'],ncrf36var_dict['U']['U'],'NCRF36','Yes'),\\\n",
    "read_and_proc.add_ctrl_before_senstart(ctrlvar_dict['V']['V'],ncrf36var_dict['V']['V'],'NCRF36','Yes'),read_and_proc.add_ctrl_before_senstart(ctrlvar_dict['W']['W'],ncrf36var_dict['W']['W'],'NCRF36','Yes'),\\\n",
    "read_and_proc.add_ctrl_before_senstart(ctrlvar_dict['QVAPOR']['QVAPOR'],ncrf36var_dict['QVAPOR']['QVAPOR'],'NCRF36','Yes')\n",
    "NCRF60_u,NCRF60_v,NCRF60_w,NCRF60_qv = read_and_proc.add_ctrl_before_senstart(ctrlvar_dict['U']['U'],ncrf60var_dict['U']['U'],'NCRF60','Yes'),\\\n",
    "read_and_proc.add_ctrl_before_senstart(ctrlvar_dict['V']['V'],ncrf60var_dict['V']['V'],'NCRF60','Yes'),read_and_proc.add_ctrl_before_senstart(ctrlvar_dict['W']['W'],ncrf60var_dict['W']['W'],'NCRF60','Yes'),\\\n",
    "read_and_proc.add_ctrl_before_senstart(ctrlvar_dict['QVAPOR']['QVAPOR'],ncrf60var_dict['QVAPOR']['QVAPOR'],'NCRF60','Yes')"
   ]
  },
  {
   "cell_type": "code",
   "execution_count": 4,
   "id": "6d97d831-82db-47e3-b2dc-921317684a3c",
   "metadata": {
    "collapsed": true,
    "jupyter": {
     "outputs_hidden": true,
     "source_hidden": true
    },
    "tags": []
   },
   "outputs": [
    {
     "name": "stderr",
     "output_type": "stream",
     "text": [
      "100%|███████████████████████████████████████████████████████████████████████████████████████████████████████████████████████████████████████████████████████████████████████████| 39/39 [00:40<00:00,  1.05s/it]\n",
      "100%|███████████████████████████████████████████████████████████████████████████████████████████████████████████████████████████████████████████████████████████████████████████| 39/39 [00:39<00:00,  1.01s/it]\n",
      "100%|███████████████████████████████████████████████████████████████████████████████████████████████████████████████████████████████████████████████████████████████████████████| 39/39 [00:39<00:00,  1.02s/it]\n"
     ]
    },
    {
     "data": {
      "text/plain": [
       "83"
      ]
     },
     "execution_count": 4,
     "metadata": {},
     "output_type": "execute_result"
    }
   ],
   "source": [
    "import gc\n",
    "##############################################################################################################\n",
    "# Radial and Tangential Velocities\n",
    "##############################################################################################################\n",
    "ctrlhUrad,ctrlhVtan,_ = derive_var.ruppert_vtmax_calc(ctrlvar_dict['U']['U'].data,ctrlvar_dict['V']['V'].data,r500,ctrlvar_dict['U']['U'][:,0,:,:].azmiuth.values,'NCRF36')\n",
    "ncrf_36hUrad,ncrf_36hVtan,_ = derive_var.ruppert_vtmax_calc(NCRF36_u,NCRF36_v,r500,ctrlvar_dict['U']['U'][:,0,:,:].azmiuth.values,'NCRF36')\n",
    "ncrf_60hUrad,ncrf_60hVtan,_ = derive_var.ruppert_vtmax_calc(NCRF60_u[:],NCRF60_v[:],r500,ctrlvar_dict['U']['U'][:,0,:,:].azmiuth.values,'NCRF60')\n",
    "\n",
    "del NCRF36_u,NCRF60_u,NCRF36_v,NCRF60_v,ctrlvar_dict['U'],ctrlvar_dict['V'],ncrf36var_dict['U'],ncrf36var_dict['V'],ncrf60var_dict['U'],ncrf60var_dict['V']\n",
    "gc.collect()"
   ]
  },
  {
   "cell_type": "markdown",
   "id": "2a5d774b-cfb7-4a0d-9622-84e507f3868b",
   "metadata": {
    "jupyter": {
     "source_hidden": true
    },
    "tags": []
   },
   "source": [
    "##### Ugrad,Vgrad,Wgrad"
   ]
  },
  {
   "cell_type": "code",
   "execution_count": 5,
   "id": "ae3dad59-1335-4b62-9358-9961b1f03421",
   "metadata": {
    "collapsed": true,
    "jupyter": {
     "outputs_hidden": true,
     "source_hidden": true
    },
    "tags": []
   },
   "outputs": [
    {
     "data": {
      "text/plain": [
       "40"
      ]
     },
     "execution_count": 5,
     "metadata": {},
     "output_type": "execute_result"
    }
   ],
   "source": [
    "ctrl_ugrad_b = forward_diff(gaussian_filter(np.swapaxes(np.asarray(ctrlhUrad),0,1),sigma=[3,0,0,0]),60*60,0)\n",
    "ctrl_vgrad_b = forward_diff(gaussian_filter(np.swapaxes(np.asarray(ctrlhVtan),0,1),sigma=[3,0,0,0]),60*60,0)\n",
    "ctrl_wgrad_b = forward_diff(gaussian_filter(ctrlvar_dict['W']['W'].data,sigma=[3,0,0,0]),60*60,0)\n",
    "del ctrlhUrad,ctrlhVtan,ncrf_36hUrad,ncrf_36hVtan,ncrf_60hUrad,ncrf_60hVtan,ctrlvar_dict['W']['W'],ncrf60var_dict,ncrf36var_dict\n",
    "gc.collect()"
   ]
  },
  {
   "cell_type": "markdown",
   "id": "5e7e17b1-ada1-4142-b6b0-6235fc81c6af",
   "metadata": {},
   "source": [
    "### Radiative"
   ]
  },
  {
   "cell_type": "code",
   "execution_count": 3,
   "id": "ad97a4ec-27bc-4807-8602-25682cfc647a",
   "metadata": {},
   "outputs": [],
   "source": [
    "import gc\n",
    "origin_path = '/scratch/06040/tg853394/tc/output/redux/maria/'\n",
    "\n",
    "#############################################################\n",
    "ctrlvar_dict = read_and_proc.read_some_azimuth_fields(fileloc=[origin_path+'ctl/azim_RTHRATLW_0-144hr.nc',origin_path+'ctl/azim_RTHRATSW_0-144hr.nc',origin_path+'ctl/azim_RTHRATLWC_0-144hr.nc',origin_path+'ctl/azim_RTHRATSWC_0-144hr.nc'],\n",
    "                                        fieldname=['RTHRATLW','RTHRATSW','RTHRATLWC','RTHRATSWC'])\n",
    "ncrf60var_dict = read_and_proc.read_some_azimuth_fields(fileloc=[origin_path+'ncrf_60h/azim_RTHRATLW_60-144hr.nc',origin_path+'ncrf_60h/azim_RTHRATSW_60-144hr.nc',origin_path+'ncrf_60h/azim_RTHRATLWC_60-144hr.nc',origin_path+'ncrf_60h/azim_RTHRATSWC_60-144hr.nc'],\n",
    "                                          fieldname=['RTHRATLW','RTHRATSW','RTHRATLWC','RTHRATSWC'])\n",
    "lwcrfvar_dict = read_and_proc.read_some_azimuth_fields(fileloc=[origin_path+'lwcrf/azim_RTHRATLW_36-144hr.nc',origin_path+'lwcrf/azim_RTHRATSW_36-144hr.nc',origin_path+'lwcrf/azim_RTHRATLWC_36-144hr.nc',origin_path+'lwcrf/azim_RTHRATSWC_36-144hr.nc'],\n",
    "                                          fieldname=['RTHRATLW','RTHRATSW','RTHRATLWC','RTHRATSWC'])\n",
    "ncrf36var_dict = read_and_proc.read_some_azimuth_fields(fileloc=[origin_path+'ncrf_36h/azim_RTHRATLW_36-144hr.nc',origin_path+'ncrf_36h/azim_RTHRATSW_36-144hr.nc',origin_path+'ncrf_36h/azim_RTHRATLWC_36-144hr.nc',origin_path+'ncrf_36h/azim_RTHRATSWC_36-144hr.nc'],\n",
    "                                          fieldname=['RTHRATLW','RTHRATSW','RTHRATLWC','RTHRATSWC'])\n",
    "r300,r500=(nearest_index(ctrlvar_dict['RTHRATLW']['RTHRATLW'].radius,300),nearest_index(ctrlvar_dict['RTHRATLW']['RTHRATLW'].radius,500))\n",
    "NCRF36_LW,NCRF36_SW,NCRF36_LWC,NCRF36_SWC = read_and_proc.add_ctrl_before_senstart(ctrlvar_dict['RTHRATLW']['RTHRATLW'],ncrf36var_dict['RTHRATLW']['RTHRATLW'],'NCRF36','Yes'),\\\n",
    "read_and_proc.add_ctrl_before_senstart(ctrlvar_dict['RTHRATSW']['RTHRATSW'],ncrf36var_dict['RTHRATSW']['RTHRATSW'],'NCRF36','Yes'),read_and_proc.add_ctrl_before_senstart(ctrlvar_dict['RTHRATLWC']['RTHRATLWC'],ncrf36var_dict['RTHRATLWC']['RTHRATLWC'],'NCRF36','Yes'),\\\n",
    "read_and_proc.add_ctrl_before_senstart(ctrlvar_dict['RTHRATSWC']['RTHRATSWC'],ncrf36var_dict['RTHRATSWC']['RTHRATSWC'],'NCRF36','Yes')\n",
    "LWCRF_LW,LWCRF_SW,LWCRF_LWC,LWCRF_SWC = read_and_proc.add_ctrl_before_senstart(ctrlvar_dict['RTHRATLW']['RTHRATLW'],lwcrfvar_dict['RTHRATLW']['RTHRATLW'],'NCRF36','Yes'),\\\n",
    "read_and_proc.add_ctrl_before_senstart(ctrlvar_dict['RTHRATSW']['RTHRATSW'],lwcrfvar_dict['RTHRATSW']['RTHRATSW'],'NCRF36','Yes'),read_and_proc.add_ctrl_before_senstart(ctrlvar_dict['RTHRATLWC']['RTHRATLWC'],lwcrfvar_dict['RTHRATLWC']['RTHRATLWC'],'NCRF36','Yes'),\\\n",
    "read_and_proc.add_ctrl_before_senstart(ctrlvar_dict['RTHRATSWC']['RTHRATSWC'],lwcrfvar_dict['RTHRATSWC']['RTHRATSWC'],'NCRF36','Yes')\n",
    "NCRF60_LW,NCRF60_SW,NCRF60_LWC,NCRF60_SWC = read_and_proc.add_ctrl_before_senstart(ctrlvar_dict['RTHRATLW']['RTHRATLW'],ncrf60var_dict['RTHRATLW']['RTHRATLW'],'NCRF60','Yes'),\\\n",
    "read_and_proc.add_ctrl_before_senstart(ctrlvar_dict['RTHRATSW']['RTHRATSW'],ncrf60var_dict['RTHRATSW']['RTHRATSW'],'NCRF60','Yes'),read_and_proc.add_ctrl_before_senstart(ctrlvar_dict['RTHRATLWC']['RTHRATLWC'],ncrf60var_dict['RTHRATLWC']['RTHRATLWC'],'NCRF60','Yes'),\\\n",
    "read_and_proc.add_ctrl_before_senstart(ctrlvar_dict['RTHRATSWC']['RTHRATSWC'],ncrf60var_dict['RTHRATSWC']['RTHRATSWC'],'NCRF60','Yes')"
   ]
  },
  {
   "cell_type": "code",
   "execution_count": 4,
   "id": "df131253-29dc-4e75-b591-ebdc9114de4d",
   "metadata": {},
   "outputs": [
    {
     "data": {
      "text/plain": [
       "177"
      ]
     },
     "execution_count": 4,
     "metadata": {},
     "output_type": "execute_result"
    }
   ],
   "source": [
    "radtype = 'ir'\n",
    "if radtype=='all':\n",
    "    ctrl_rad = ctrlvar_dict['RTHRATLW']['RTHRATLW']+ctrlvar_dict['RTHRATSW']['RTHRATSW']\n",
    "    ncrf36_rad = NCRF36_LW+NCRF36_SW\n",
    "    lwcrf_rad = LWCRF_LW+LWCRF_SW\n",
    "    ncrf60_rad = NCRF60_LW+NCRF60_SW\n",
    "elif radtype=='ir':\n",
    "    ctrl_rad = ctrlvar_dict['RTHRATLW']['RTHRATLW']-ctrlvar_dict['RTHRATLWC']['RTHRATLWC']\n",
    "    ncrf36_rad = NCRF36_LW-NCRF36_LWC\n",
    "    lwcrf_rad = LWCRF_LW-LWCRF_LWC\n",
    "    ncrf60_rad = NCRF60_LW-NCRF60_LWC    \n",
    "del ncrf60var_dict,ncrf36var_dict,lwcrfvar_dict,LWCRF_LW,LWCRF_SW,LWCRF_LWC,LWCRF_SWC,NCRF36_LW,NCRF36_SW,NCRF36_LWC,NCRF36_SWC,NCRF60_LW,NCRF60_SW,NCRF60_LWC,NCRF60_SWC\n",
    "gc.collect()"
   ]
  },
  {
   "cell_type": "markdown",
   "id": "b2edb79f-ea3b-4e86-b31a-645d0b28302d",
   "metadata": {
    "tags": []
   },
   "source": [
    "### Remove diurnal effect"
   ]
  },
  {
   "cell_type": "code",
   "execution_count": null,
   "id": "b026ce23-2420-4058-b2b5-1f3a6097dacf",
   "metadata": {
    "tags": []
   },
   "outputs": [],
   "source": [
    "from scipy.ndimage import uniform_filter1d\n",
    "##############################################################################################\n",
    "# (a) Urad, Vtan\n",
    "UVdict = {}\n",
    "dictname = ['ctrlU','ctrlV','ncrf36U','ncrf36V','ncrf60U','ncrf60V']\n",
    "for indx,obj in tqdm(enumerate([ctrlhUrad,ctrlhVtan,ncrf_36hUrad,ncrf_36hVtan,ncrf_60hUrad,ncrf_60hVtan])):\n",
    "    UVdict[dictname[indx]] = uniform_filter1d(np.swapaxes(np.asarray(obj),0,1),size=24,axis=0)\n",
    "del ctrlhUrad,ctrlhVtan,ncrf_36hUrad,ncrf_36hVtan,ncrf_60hUrad,ncrf_60hVtan,dictname\n",
    "gc.collect()\n",
    "##############################################################################################\n",
    "# (b) W, QV\n",
    "WQVdict = {}\n",
    "dictname = ['ctrlW','ctrlQV','ncrf36W','ncrf36QV','ncrf60W','ncrf60QV']\n",
    "for indx,obj in tqdm(enumerate([ctrlvar_dict['W']['W'],ctrlvar_dict['QVAPOR']['QVAPOR'],NCRF36_w,NCRF36_qv,NCRF60_w,NCRF60_qv])):\n",
    "    WQVdict[dictname[indx]] = uniform_filter1d((obj),size=24,axis=0)\n",
    "del NCRF36_w,NCRF36_qv,NCRF60_w,NCRF60_qv,ctrlvar_dict,ncrf36var_dict,ncrf60var_dict\n",
    "gc.collect()"
   ]
  },
  {
   "cell_type": "markdown",
   "id": "b3970804",
   "metadata": {
    "tags": []
   },
   "source": [
    "##### Potential Temperature"
   ]
  },
  {
   "cell_type": "code",
   "execution_count": 5,
   "id": "a21595f8",
   "metadata": {},
   "outputs": [
    {
     "data": {
      "text/plain": [
       "0"
      ]
     },
     "execution_count": 5,
     "metadata": {},
     "output_type": "execute_result"
    }
   ],
   "source": [
    "path = '/work2/08350/tg876493/stampede2/python_codes/tcg_radiation/output/'\n",
    "file = [path+'ctrl_thetaall',path+'ncrf36_thetaall',path+'ncrf60_thetaall',path+'lwcrf_thetaall']\n",
    "\n",
    "output = []\n",
    "for i in range(len(file)):\n",
    "    with open(file[i],'rb') as f:\n",
    "        output.append(pickle.load(f))\n",
    "\n",
    "theta_dict = {'CTRL_theta':output[0],'NCRF36_theta':output[1],'NCRF60_theta':output[2],'LWCRF_theta':output[3]}\n",
    "# To be consistent with azimuthal files\n",
    "########################################################################################################\n",
    "ctrl_thetaA,ncrf36_thetaA,ncrf60_thetaA,lwcrf_thetaA = np.swapaxes(np.asarray(theta_dict['CTRL_theta']),0,1),\\\n",
    "np.swapaxes(np.asarray(theta_dict['NCRF36_theta']),0,1),np.swapaxes(np.asarray(theta_dict['NCRF60_theta']),0,1),\\\n",
    "np.swapaxes(np.asarray(theta_dict['LWCRF_theta']),0,1)\n",
    "\n",
    "ncrf36_thetaA_todo = read_and_proc.add_ctrl_before_senstart(ctrl_thetaA,ncrf36_thetaA,'NCRF36','Yes')\n",
    "lwcrf_thetaA_todo = read_and_proc.add_ctrl_before_senstart(ctrl_thetaA,lwcrf_thetaA,'NCRF36','Yes')\n",
    "ncrf60_thetaA_todo = read_and_proc.add_ctrl_before_senstart(ctrl_thetaA,ncrf60_thetaA,'NCRF60','Yes')\n",
    "del ncrf36_thetaA,ncrf60_thetaA,lwcrf_thetaA\n",
    "gc.collect()\n",
    "###################################################################\n",
    "# Heating Rate\n",
    "###################################################################\n",
    "buoy='No'\n",
    "rad = 'Yes'\n",
    "if buoy=='Yes':\n",
    "    ctrl_thetagrad_b = forward_diff(gaussian_filter(ctrl_buoyA,sigma=[3,0,0,0]),60*60,0)\n",
    "else:\n",
    "    if rad=='Yes':\n",
    "        ctrl_thetagrad_b = forward_diff(gaussian_filter(ctrl_thetaA,sigma=[3,0,0,0]),60*60,0)-gaussian_filter(ctrl_rad,sigma=[3,0,0,0])[1:,:]\n",
    "        ncrf36_thetagrad_b = forward_diff(gaussian_filter(ncrf36_thetaA_todo,sigma=[3,0,0,0]),60*60,0)-gaussian_filter(ncrf36_rad,sigma=[3,0,0,0])[1:,:]\n",
    "        lwcrf_thetagrad_b = forward_diff(gaussian_filter(lwcrf_thetaA_todo,sigma=[3,0,0,0]),60*60,0)-gaussian_filter(lwcrf_rad,sigma=[3,0,0,0])[1:,:]\n",
    "        ncrf60_thetagrad_b = forward_diff(gaussian_filter(ncrf60_thetaA_todo,sigma=[3,0,0,0]),60*60,0)-gaussian_filter(ncrf60_rad,sigma=[3,0,0,0])[1:,:]\n",
    "    else:\n",
    "        ctrl_thetagrad_b = forward_diff(gaussian_filter(ctrl_thetaA,sigma=[3,0,0,0]),60*60,0)\n",
    "        ncrf36_thetagrad_b = forward_diff(gaussian_filter(ncrf36_thetaA_todo,sigma=[3,0,0,0]),60*60,0)\n",
    "        ncrf60_thetagrad_b = forward_diff(gaussian_filter(ncrf60_thetaA_todo,sigma=[3,0,0,0]),60*60,0)        \n",
    "del ctrl_thetaA,ncrf36_thetaA_todo,ncrf60_thetaA_todo,theta_dict\n",
    "gc.collect()\n",
    "\n",
    "#ctrl_noIR = ctrl_thetagrad_b-gaussian_filter(ctrl_IR,sigma=[3,0,0,0])[1:]\n",
    "#ncrf36_noIR = ncrf36_thetagrad_b-gaussian_filter(ncrf36_IR,sigma=[3,0,0,0])[1:]\n",
    "#ncrf60_noIR = ncrf60_thetagrad_b-gaussian_filter(ncrf60_IR,sigma=[3,0,0,0])[1:]"
   ]
  },
  {
   "cell_type": "code",
   "execution_count": 6,
   "id": "afc473fa-fe1f-47cc-bafb-9e9ccfc97eb6",
   "metadata": {},
   "outputs": [
    {
     "name": "stderr",
     "output_type": "stream",
     "text": [
      "4it [03:47, 56.78s/it]\n"
     ]
    },
    {
     "data": {
      "text/plain": [
       "18"
      ]
     },
     "execution_count": 6,
     "metadata": {},
     "output_type": "execute_result"
    }
   ],
   "source": [
    "from scipy.ndimage import uniform_filter1d\n",
    "##############################################################################################\n",
    "# (c) dthdt\n",
    "DTHDTdict = {}\n",
    "dictname = ['ctrldthdt','ncrf36dthdt','ncrf60dthdt','lwcrfdthdt']\n",
    "for indx,obj in tqdm(enumerate([ctrl_thetagrad_b,ncrf36_thetagrad_b,ncrf60_thetagrad_b,lwcrf_thetagrad_b])):\n",
    "    DTHDTdict[dictname[indx]] = uniform_filter1d((obj),size=24,axis=0)\n",
    "del ctrl_thetagrad_b,ncrf36_thetagrad_b,ncrf60_thetagrad_b,lwcrf_thetagrad_b\n",
    "gc.collect()\n",
    "\n",
    "#(d) Gradient kinematics\n",
    "##############################################################################################\n",
    "#WINDGdict = {}\n",
    "#dictname = ['ctrlUG','ctrlVG','ctrlWG']\n",
    "#for indx,obj in tqdm(enumerate([ctrl_ugrad_b,ctrl_vgrad_b,ctrl_wgrad_b])):\n",
    "#    WINDGdict[dictname[indx]] = uniform_filter1d((obj),size=24,axis=0)\n",
    "#del ctrl_ugrad_b,ctrl_vgrad_b,ctrl_wgrad_b\n",
    "#gc.collect()"
   ]
  },
  {
   "cell_type": "markdown",
   "id": "3c7d6641",
   "metadata": {},
   "source": [
    "#### PCA"
   ]
  },
  {
   "cell_type": "code",
   "execution_count": 7,
   "id": "686fc9f3",
   "metadata": {},
   "outputs": [
    {
     "name": "stderr",
     "output_type": "stream",
     "text": [
      "4it [00:14,  3.70s/it]\n"
     ]
    },
    {
     "data": {
      "text/plain": [
       "0"
      ]
     },
     "execution_count": 7,
     "metadata": {},
     "output_type": "execute_result"
    }
   ],
   "source": [
    "###################################################################\n",
    "# Cut off time\n",
    "###################################################################\n",
    "ctrlvar_dict = read_and_proc.read_some_azimuth_fields(fileloc=[origin_path+'ctl/azim_U_0-144hr.nc'],fieldname=['U'])\n",
    "ctrl_t2,ctrl_t4 = nearest_index(ctrlvar_dict['U']['U'].time/24,1)-1,nearest_index(ctrlvar_dict['U']['U'].time/24,5)-1\n",
    "r300,r500=nearest_index(ctrlvar_dict['U']['U'].radius,300),nearest_index(ctrlvar_dict['U']['U'].radius,500)\n",
    "###################################################################\n",
    "# Time difference: gaussian=[0,0,0]; Other: gaussian=[3,0,0]\n",
    "###################################################################\n",
    "#CTRL_PCAdict,CTRL_flatvardict = {},{}\n",
    "#varname = ['U','V','W','QV','dthdt']\n",
    "#for indx,obj in tqdm(enumerate([UVdict['ctrlU'],UVdict['ctrlV'],WQVdict['ctrlW'],WQVdict['ctrlQV'],DTHDTdict['ctrldthdt']])):\n",
    "#    temp1,_,temp2 = do_PCA(var=obj,timezoom=[ctrl_t2,ctrl_t4],smooth='Yes',\n",
    "#                           gaussian=[0,0,0],fromcenter='Yes',inradius=None,outradius=r500,donormal='No',do_PCA='Yes',do_center='No')\n",
    "#    CTRL_PCAdict[varname[indx]] = temp1\n",
    "#    CTRL_flatvardict[varname[indx]] = temp2\n",
    "#    del temp1,temp2\n",
    "#    gc.collect()\n",
    "#del UVdict['ctrlU'],UVdict['ctrlV'],WQVdict['ctrlW'],WQVdict['ctrlQV'],DTHDTdict['ctrldthdt']\n",
    "#gc.collect()\n",
    "####################################################################\n",
    "# Output radiative terms/WG terms\n",
    "CTRL_flatvardict = {}\n",
    "varname = ['ctrlNORAD','ncrf36NORAD','ncrf60NORAD','lwcrfNORAD']\n",
    "for indx,obj in tqdm(enumerate([DTHDTdict['ctrldthdt'],DTHDTdict['ncrf36dthdt'],DTHDTdict['ncrf36dthdt'],DTHDTdict['lwcrfdthdt']])):\n",
    "    _,temp2 = do_PCA(var=obj,timezoom=[ctrl_t2,ctrl_t4],smooth='Yes',\n",
    "                           gaussian=[0,0,0],fromcenter='Yes',inradius=None,outradius=r500,donormal='No',do_PCA='No',do_center='No')\n",
    "    CTRL_flatvardict[varname[indx]] = temp2\n",
    "    del temp2\n",
    "    gc.collect()\n",
    "del DTHDTdict\n",
    "gc.collect()\n",
    "####################################################################\n",
    "# Output full terms for sensitivity experiments\n",
    "####################################################################\n",
    "#NCRF36_flatvardict,NCRF60_flatvardict = {},{}\n",
    "#varname = ['U','V','W','QV','dthdt']\n",
    "#for indx,obj in tqdm(enumerate([UVdict['ncrf36U'],UVdict['ncrf36V'],WQVdict['ncrf36W'],WQVdict['ncrf36QV'],DTHDTdict['ncrf36dthdt']])):\n",
    "#    _,temp2 = do_PCA(var=obj,timezoom=[ctrl_t2,ctrl_t4],smooth='Yes',\n",
    "#                           gaussian=[0,0,0],fromcenter='Yes',inradius=None,outradius=r500,donormal='No',do_PCA='No',do_center='No')\n",
    "#    NCRF36_flatvardict[varname[indx]] = temp2\n",
    "#    del temp2\n",
    "#    gc.collect()\n",
    "#del UVdict['ncrf36U'],UVdict['ncrf36V'],WQVdict['ncrf36W'],WQVdict['ncrf36QV'],DTHDTdict['ncrf36dthdt']\n",
    "#gc.collect()\n",
    "\n",
    "#for indx,obj in tqdm(enumerate([UVdict['ncrf60U'],UVdict['ncrf60V'],WQVdict['ncrf60W'],WQVdict['ncrf60QV'],DTHDTdict['ncrf60dthdt']])):\n",
    "#    _,temp2 = do_PCA(var=obj,timezoom=[ctrl_t2,ctrl_t4],smooth='Yes',\n",
    "#                           gaussian=[0,0,0],fromcenter='Yes',inradius=None,outradius=r500,donormal='No',do_PCA='No',do_center='No')\n",
    "#    NCRF60_flatvardict[varname[indx]] = temp2\n",
    "#    del temp2\n",
    "#    gc.collect()\n",
    "#del UVdict['ncrf60U'],UVdict['ncrf60V'],WQVdict['ncrf60W'],WQVdict['ncrf60QV'],DTHDTdict['ncrf60dthdt']\n",
    "#gc.collect()"
   ]
  },
  {
   "cell_type": "code",
   "execution_count": 8,
   "id": "d689d388",
   "metadata": {},
   "outputs": [],
   "source": [
    "import json,pickle\n",
    "def save_to_pickle(loc=None,var=None):\n",
    "    with open(loc,\"wb\") as f:\n",
    "        pickle.dump(var,f)\n",
    "    return None\n",
    "\n",
    "#!mkdir outputCTRL_PCAdict,CTRL_flatvardict\n",
    "#save_to_pickle(loc='../output/1010_nc_nodiurnal/CTRL_PCAdict',var=CTRL_PCAdict)\n",
    "save_to_pickle(loc='../output/1010_nc_nodiurnal/NOIR_flatvardict',var=CTRL_flatvardict)\n",
    "#save_to_pickle(loc='../output/1010_nc_nodiurnal/LWCRF_flatvardict',var=NCRF36_flatvardict)\n",
    "#save_to_pickle(loc='../output/1010_nc_nodiurnal/NCRF60_flatvardict',var=NCRF60_flatvardict)"
   ]
  },
  {
   "cell_type": "code",
   "execution_count": null,
   "id": "d07e41d1-88b4-4d86-a313-01256ec26478",
   "metadata": {},
   "outputs": [],
   "source": []
  }
 ],
 "metadata": {
  "kernelspec": {
   "display_name": "Python 3 (ipykernel)",
   "language": "python",
   "name": "python3"
  },
  "language_info": {
   "codemirror_mode": {
    "name": "ipython",
    "version": 3
   },
   "file_extension": ".py",
   "mimetype": "text/x-python",
   "name": "python",
   "nbconvert_exporter": "python",
   "pygments_lexer": "ipython3",
   "version": "3.8.8"
  }
 },
 "nbformat": 4,
 "nbformat_minor": 5
}
