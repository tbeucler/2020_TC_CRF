{
 "cells": [
  {
   "cell_type": "code",
   "execution_count": null,
   "id": "24612415-8636-4cbe-8f64-a91921de9a88",
   "metadata": {},
   "outputs": [],
   "source": [
    "import warnings\n",
    "warnings.filterwarnings('ignore',category=RuntimeWarning)\n",
    "import xarray as xr\n",
    "import numpy as np\n",
    "import matplotlib as mpl\n",
    "import matplotlib.pyplot as plt\n",
    "import seaborn as sns\n",
    "import glob,os,sys\n",
    "from tqdm import tqdm\n",
    "import datetime\n",
    "import proplot as plot\n",
    "from netCDF4 import Dataset\n",
    "from wrf import getvar\n",
    "import celer\n",
    "%matplotlib inline\n",
    "\n",
    "sys.path.insert(1, '/work/08350/tg876493/stampede2/python_codes/2020_TC_CRF/dev/freddy0218/tools/')\n",
    "import derive_var\n",
    "import read_and_proc\n",
    "\n",
    "plot.rc.update({'figure.facecolor':'w','axes.labelweight':'ultralight',\n",
    "                'tick.labelweight':'ultralight','gridminor.linestyle':'--','title.weight':'normal','linewidth':0.5})"
   ]
  },
  {
   "cell_type": "code",
   "execution_count": 2,
   "id": "c611a332-2cd9-4b95-bfbe-833090f61abe",
   "metadata": {},
   "outputs": [
    {
     "name": "stderr",
     "output_type": "stream",
     "text": [
      "/work/08350/tg876493/stampede2/gpu_env/fred_workenv/lib/python3.8/site-packages/sklearn/base.py:324: UserWarning: Trying to unpickle estimator PCA from version 0.24.2 when using version 1.0.1. This might lead to breaking code or invalid results. Use at your own risk. For more info please refer to:\n",
      "https://scikit-learn.org/stable/modules/model_persistence.html#security-maintainability-limitations\n",
      "  warnings.warn(\n"
     ]
    }
   ],
   "source": [
    "############################################################################################################################################\n",
    "# PCA_dict: Processed EOF objects; A_dict: Variable anomaly matrices; Af_dict: Flattened variable anomaly matrices\n",
    "# *note that following EOF conventions, we derived EOFs with anomalies.\n",
    "############################################################################################################################################\n",
    "import pickle\n",
    "path = './output/1010_ns/'\n",
    "filePCA = [path+'dtheta_pca_ns',path+'urad_pca_ns',path+'vtan_pca_ns',path+'w_pca_ns',path+'uradR_pca_ns',path+'vtanR_pca_ns',path+'qv_pca_ns']\n",
    "fileA = [path+'normalT_ctrl_ns',path+'normalUrad_ctrl_ns',path+'normalVtan_ctrl_ns',path+'normalw_ctrl_ns',path+'normalUradR_ctrl_ns',path+'normalVtanR_ctrl_ns',path+'normalQV_ctrl_ns']\n",
    "fileAf = [path+'normalT_ctrlf_ns',path+'normalUrad_ctrlf_ns',path+'normalVtan_ctrlf_ns',path+'normalw_ctrlf_ns',path+'normalUradR_ctrlf_ns',path+'normalVtanR_ctrlf_ns',path+'normalQV_ctrlf_ns']\n",
    "\n",
    "outputPCA,outputA,outputAf = [],[],[]\n",
    "for i in range(len(filePCA)):\n",
    "    with open(filePCA[i],'rb') as f:\n",
    "        outputPCA.append(pickle.load(f))\n",
    "    with open(fileA[i],'rb') as f:\n",
    "        outputA.append(pickle.load(f))\n",
    "    with open(fileAf[i],'rb') as f:\n",
    "        outputAf.append(pickle.load(f))\n",
    "\n",
    "PCA_dict = {'dtheta':outputPCA[0],'u':outputPCA[1],'v':outputPCA[2],'w':outputPCA[3],'ur':outputPCA[4],'vr':outputPCA[5],'qv':outputPCA[6]}\n",
    "#A_dict = {'dtheta':outputA[0],'u':outputA[1],'v':outputA[2],'w':outputA[3],'ur':outputA[4],'vr':outputA[5],'qv':outputA[6]}\n",
    "Af_dict = {'dtheta':outputAf[0],'u':outputAf[1],'v':outputAf[2],'w':outputAf[3],'ur':outputAf[4],'vr':outputAf[5],'qv':outputAf[6]}"
   ]
  },
  {
   "cell_type": "markdown",
   "id": "410b75c2-c249-41cc-9f91-8e53dc956701",
   "metadata": {},
   "source": [
    "#### WRF"
   ]
  },
  {
   "cell_type": "code",
   "execution_count": 3,
   "id": "6aff9567-acf5-419f-bf44-5c59c5372496",
   "metadata": {
    "tags": []
   },
   "outputs": [],
   "source": [
    "#Function####################################################\n",
    "import json,pickle\n",
    "def nearest_index(array, value):\n",
    "    idx = (np.abs(array-value)).argmin()\n",
    "    return idx.values\n",
    "def save_to_pickle(loc=None,var=None):\n",
    "    with open(loc,\"wb\") as f:\n",
    "        pickle.dump(var,f)\n",
    "    return None\n",
    "\n",
    "def do_PCA(var=None,timezoom=None,smooth='Yes',gaussian=0.9,fromcenter='Yes',inradius=None,outradius=None,donormal='Yes',doPCA='Yes'):\n",
    "    \"\"\"\n",
    "    Var: Input variable (must have 4 dimensions! Time-pres-theta-radius)\n",
    "    \"\"\"\n",
    "    if smooth=='Yes':\n",
    "        from scipy.ndimage import gaussian_filter\n",
    "        normal_var = []\n",
    "        if donormal=='Yes':\n",
    "            for presindex in range(len(var[0,:,0,0])):\n",
    "                normal_var.append(gaussian_filter(normalize_inner(var[:,presindex,:,:],outradius,'Yes'),sigma=gaussian))\n",
    "        elif donormal=='No':\n",
    "            for presindex in range(len(var[0,:,0,0])):\n",
    "                normal_var.append(gaussian_filter(normalize_inner(var[:,presindex,:,:],outradius,'No'),sigma=gaussian))            \n",
    "        normal_var = np.swapaxes(np.asarray(normal_var),0,1)\n",
    "    else:\n",
    "        normal_var = []\n",
    "        for presindex in range(len(var[0,:,0,0])):\n",
    "            normal_var.append(normalize_inner(var[:,presindex,:,:],outradius))\n",
    "        normal_var = np.swapaxes(np.asarray(normal_var),0,1)\n",
    "    if fromcenter=='Yes':\n",
    "        normal_varf = np.asarray([normal_var[i,:,:,:outradius].flatten() \\\n",
    "                                  for i in range(len(normal_var[timezoom[0]:timezoom[1],0,0,0]))])\n",
    "    elif fromcenter=='No':\n",
    "        normal_varf = np.asarray([normal_var[i,:,:,inradius:outradius].flatten() \\\n",
    "                                  for i in range(len(normal_var[timezoom[0]:timezoom[1],0,0,0]))])        \n",
    "    print(\"--Finish preprocesing--\")\n",
    "    if doPCA=='Yes':\n",
    "        from sklearn.decomposition import PCA\n",
    "        import time\n",
    "        start_time = time.time()\n",
    "        skpcaVAR = PCA()\n",
    "        skpcaVAR.fit(normal_varf.copy())\n",
    "        print(\"--- %s seconds ---\" % (time.time() - start_time))\n",
    "        return skpcaVAR,normal_var,normal_varf\n",
    "    else:\n",
    "        return normal_var,normal_varf\n",
    "\n",
    "def forward_diff(arrayin=None,delta=None,axis=None,LT=1):\n",
    "    result = []\n",
    "    if axis==0:\n",
    "        if LT==1:\n",
    "            for i in range(0,arrayin.shape[axis]-1):\n",
    "                temp = (arrayin[i+1,:]-arrayin[i,:])/(LT*delta)\n",
    "                result.append(temp)\n",
    "            return np.asarray(result)\n",
    "        elif LT==2:\n",
    "            for i in range(0,arrayin.shape[axis]-2):\n",
    "                temp = (arrayin[i+2,:]-arrayin[i,:])/(LT*delta)\n",
    "                result.append(temp)\n",
    "            return np.asarray(result)\n",
    "        elif LT==3:\n",
    "            for i in range(0,arrayin.shape[axis]-3):\n",
    "                temp = (arrayin[i+3,:]-arrayin[i,:])/(LT*delta)\n",
    "                result.append(temp)\n",
    "            return np.asarray(result)\n",
    "        \n",
    "def normalize_inner(var=None,outerradius=None,standard='Yes'):\n",
    "    PWper_ctrl = []\n",
    "    for indx in range(len(var[:,0,0])):\n",
    "        temp = var[indx,:,:outerradius]-np.nanmean(var[indx,:,:outerradius],axis=(0,1))\n",
    "        if standard=='Yes':\n",
    "            PWper_ctrl.append((temp-np.nanmean(temp))/np.nanstd(temp))\n",
    "        elif standard=='No':\n",
    "            PWper_ctrl.append((temp))\n",
    "    del temp\n",
    "    return np.asarray(PWper_ctrl)"
   ]
  },
  {
   "cell_type": "code",
   "execution_count": 4,
   "id": "1c7c0e81-e7d5-402e-8cb0-bea50a5481a3",
   "metadata": {},
   "outputs": [],
   "source": [
    "origin_path = '/scratch/06040/tg853394/tc/output/redux/maria/'\n",
    "\n",
    "#############################################################\n",
    "ctrlvar_dict = read_and_proc.read_some_azimuth_fields(fileloc=[origin_path+'ctl/azim_W_0-144hr.nc',origin_path+'ctl/azim_QVAPOR_0-144hr.nc',\n",
    "                                                              origin_path+'ctl/azim_RTHRATLW_0-144hr.nc',origin_path+'ctl/azim_RTHRATSW_0-144hr.nc'],fieldname=['W','QVAPOR','RTHRATLW','RTHRATSW'])\n",
    "ncrf60var_dict = read_and_proc.read_some_azimuth_fields(fileloc=[origin_path+'ncrf_60h/azim_W_60-144hr.nc',origin_path+'ncrf_60h/azim_QVAPOR_60-144hr.nc',\n",
    "                                                                origin_path+'ncrf_60h/azim_RTHRATLW_60-144hr.nc',origin_path+'ncrf_60h/azim_RTHRATSW_60-144hr.nc'],fieldname=['W','QVAPOR','RTHRATLW','RTHRATSW'])\n",
    "ncrf36var_dict = read_and_proc.read_some_azimuth_fields(fileloc=[origin_path+'ncrf_36h/azim_W_36-144hr.nc',origin_path+'ncrf_36h/azim_QVAPOR_36-144hr.nc',\n",
    "                                                                origin_path+'ncrf_36h/azim_RTHRATLW_36-144hr.nc',origin_path+'ncrf_36h/azim_RTHRATSW_36-144hr.nc'],fieldname=['W','QVAPOR','RTHRATLW','RTHRATSW'])\n",
    "lwcrfvar_dict = read_and_proc.read_some_azimuth_fields(fileloc=[origin_path+'lwcrf/azim_W_36-144hr.nc',origin_path+'lwcrf/azim_QVAPOR_36-144hr.nc',\n",
    "                                                               origin_path+'lwcrf/azim_RTHRATLW_36-144hr.nc',origin_path+'lwcrf/azim_RTHRATSW_36-144hr.nc'],fieldname=['W','QVAPOR','RTHRATLW','RTHRATSW'])\n",
    "\n",
    "path = '/work2/08350/tg876493/stampede2/python_codes/tcg_radiation/output/'\n",
    "file = [path+'ctrl_thetaall',path+'ncrf36_thetaall',path+'ncrf60_thetaall',path+'lwcrf_thetaall']\n",
    "output = []\n",
    "for i in range(len(file)):\n",
    "    with open(file[i],'rb') as f:\n",
    "        output.append(pickle.load(f))\n",
    "theta_dict = {'CTRL_theta':output[0],'NCRF36_theta':output[1],'NCRF60_theta':output[2],'LWCRF_theta':output[3]}\n",
    "# To be consistent with azimuthal files\n",
    "########################################################################################################\n",
    "ctrl_thetaA,ncrf36_thetaA,ncrf60_thetaA,lwcrf_thetaA = np.swapaxes(np.asarray(theta_dict['CTRL_theta']),0,1),\\\n",
    "np.swapaxes(np.asarray(theta_dict['NCRF36_theta']),0,1),np.swapaxes(np.asarray(theta_dict['NCRF60_theta']),0,1),np.swapaxes(np.asarray(theta_dict['LWCRF_theta']),0,1)\n",
    "del output,theta_dict,outputPCA,outputAf"
   ]
  },
  {
   "cell_type": "code",
   "execution_count": 5,
   "id": "28ecca1e-617a-413d-b2d3-a641c7a488a7",
   "metadata": {},
   "outputs": [],
   "source": [
    "from scipy.ndimage import gaussian_filter\n",
    "###################################################################\n",
    "# Cut off time\n",
    "###################################################################\n",
    "ctrl_t2,ctrl_t4 = nearest_index(ctrlvar_dict['W']['W'].time/24,1)-1,nearest_index(ctrlvar_dict['W']['W'].time/24,5)-1\n",
    "###################################################################\n",
    "# Heating Rate\n",
    "###################################################################\n",
    "ncrf36_thetaA_n,ncrf60_thetaA_n,lwcrf_thetaA_n = read_and_proc.add_ctrl_before_senstart(ctrl_thetaA,ncrf36_thetaA,'NCRF36','Yes'),\\\n",
    "read_and_proc.add_ctrl_before_senstart(ctrl_thetaA,ncrf60_thetaA,'NCRF60','Yes'),read_and_proc.add_ctrl_before_senstart(ctrl_thetaA,lwcrf_thetaA,'NCRF36','Yes')\n",
    "\n",
    "ctrl_thetagrad_b,ncrf36_thetagrad_b,ncrf60_thetagrad_b,lwcrf_thetagrad_b = forward_diff(gaussian_filter(ctrl_thetaA,sigma=[3,0,0,0]),60*60,0),forward_diff(gaussian_filter(ncrf36_thetaA_n,sigma=[3,0,0,0]),60*60,0),\\\n",
    "forward_diff(gaussian_filter(ncrf60_thetaA_n,sigma=[3,0,0,0]),60*60,0),forward_diff(gaussian_filter(lwcrf_thetaA_n,sigma=[3,0,0,0]),60*60,0)\n",
    "\n",
    "def proc_invar_forPCA(var=None,timezoom=[ctrl_t2,ctrl_t4],smooth='Yes',gaussian=[0,0,0],fromcenter='Yes',inradius=None,outradius=None,donormal='No',doPCA='No'):\n",
    "    return do_PCA(var=var,timezoom=[ctrl_t2,ctrl_t4],smooth='Yes',gaussian=[0,0,0],fromcenter='Yes',inradius=None,outradius=None,donormal='No',doPCA='No')"
   ]
  },
  {
   "cell_type": "markdown",
   "id": "48fedfac-9a9f-401a-a237-7f9e946ef727",
   "metadata": {},
   "source": [
    "### Radiative Heating + Residual Heating"
   ]
  },
  {
   "cell_type": "code",
   "execution_count": 6,
   "id": "248559a8-69d0-4fc7-940b-d40c29b89159",
   "metadata": {
    "tags": []
   },
   "outputs": [],
   "source": [
    "del ctrl_thetaA,ncrf36_thetaA,ncrf60_thetaA\n",
    "rad_ctrl = gaussian_filter(ctrlvar_dict['RTHRATLW']['RTHRATLW']+ctrlvar_dict['RTHRATSW']['RTHRATSW'],[3,0,0,0])\n",
    "rad_ncrf36 = read_and_proc.add_ctrl_before_senstart(rad_ctrl,gaussian_filter(ncrf36var_dict['RTHRATLW']['RTHRATLW']+ncrf36var_dict['RTHRATSW']['RTHRATSW'],[3,0,0,0]),'NCRF36','Yes')\n",
    "rad_ncrf60 = read_and_proc.add_ctrl_before_senstart(rad_ctrl,gaussian_filter(ncrf60var_dict['RTHRATLW']['RTHRATLW']+ncrf60var_dict['RTHRATSW']['RTHRATSW'],[3,0,0,0]),'NCRF60','Yes')\n",
    "rad_lwcrf = read_and_proc.add_ctrl_before_senstart(rad_ctrl,gaussian_filter(lwcrfvar_dict['RTHRATLW']['RTHRATLW']+lwcrfvar_dict['RTHRATSW']['RTHRATSW'],[3,0,0,0]),'NCRF36','Yes')\n",
    "\n",
    "resid_ctrl = ctrl_thetagrad_b-rad_ctrl[1:]\n",
    "resid_ncrf36 = ncrf36_thetagrad_b-rad_ncrf36[1:]\n",
    "resid_ncrf60 = ncrf60_thetagrad_b-rad_ncrf60[1:]\n",
    "resid_lwcrf = lwcrf_thetagrad_b-rad_lwcrf[1:]\n",
    "del ncrf36var_dict,ncrf60var_dict,lwcrfvar_dict"
   ]
  },
  {
   "cell_type": "code",
   "execution_count": 7,
   "id": "0b7ce380-24a8-4877-bdab-afd7d5aa4e54",
   "metadata": {},
   "outputs": [
    {
     "ename": "MemoryError",
     "evalue": "Unable to allocate 2.17 GiB for an array with shape (96, 6079320) and data type float32",
     "output_type": "error",
     "traceback": [
      "\u001b[0;31m---------------------------------------------------------------------------\u001b[0m",
      "\u001b[0;31mMemoryError\u001b[0m                               Traceback (most recent call last)",
      "\u001b[0;32m/tmp/ipykernel_199611/1954809522.py\u001b[0m in \u001b[0;36m<module>\u001b[0;34m\u001b[0m\n\u001b[1;32m     10\u001b[0m \u001b[0;31m#_,normalWlwcrff = proc_invar_forPCA(read_and_proc.add_ctrl_before_senstart(ctrlvar_dict['W']['W'],lwcrfvar_dict['W']['W'],'NCRF36','Yes'),[ctrl_t2,ctrl_t4],'Yes',[0,0,0],'Yes',None,r500,'No','No')\u001b[0m\u001b[0;34m\u001b[0m\u001b[0;34m\u001b[0m\u001b[0;34m\u001b[0m\u001b[0m\n\u001b[1;32m     11\u001b[0m \u001b[0;34m\u001b[0m\u001b[0m\n\u001b[0;32m---> 12\u001b[0;31m \u001b[0m_\u001b[0m\u001b[0;34m,\u001b[0m\u001b[0mnormalRADctrlf\u001b[0m \u001b[0;34m=\u001b[0m \u001b[0mproc_invar_forPCA\u001b[0m\u001b[0;34m(\u001b[0m\u001b[0mrad_ctrl\u001b[0m\u001b[0;34m,\u001b[0m\u001b[0;34m[\u001b[0m\u001b[0mctrl_t2\u001b[0m\u001b[0;34m,\u001b[0m\u001b[0mctrl_t4\u001b[0m\u001b[0;34m]\u001b[0m\u001b[0;34m,\u001b[0m\u001b[0;34m'Yes'\u001b[0m\u001b[0;34m,\u001b[0m\u001b[0;34m[\u001b[0m\u001b[0;36m3\u001b[0m\u001b[0;34m,\u001b[0m\u001b[0;36m0\u001b[0m\u001b[0;34m,\u001b[0m\u001b[0;36m0\u001b[0m\u001b[0;34m]\u001b[0m\u001b[0;34m,\u001b[0m\u001b[0;34m'Yes'\u001b[0m\u001b[0;34m,\u001b[0m\u001b[0;32mNone\u001b[0m\u001b[0;34m,\u001b[0m\u001b[0mr500\u001b[0m\u001b[0;34m,\u001b[0m\u001b[0;34m'No'\u001b[0m\u001b[0;34m,\u001b[0m\u001b[0;34m'No'\u001b[0m\u001b[0;34m)\u001b[0m\u001b[0;34m\u001b[0m\u001b[0;34m\u001b[0m\u001b[0m\n\u001b[0m\u001b[1;32m     13\u001b[0m \u001b[0m_\u001b[0m\u001b[0;34m,\u001b[0m\u001b[0mnormalRADncrf36f\u001b[0m \u001b[0;34m=\u001b[0m \u001b[0mproc_invar_forPCA\u001b[0m\u001b[0;34m(\u001b[0m\u001b[0mrad_ncrf36\u001b[0m\u001b[0;34m,\u001b[0m\u001b[0;34m[\u001b[0m\u001b[0mctrl_t2\u001b[0m\u001b[0;34m,\u001b[0m\u001b[0mctrl_t4\u001b[0m\u001b[0;34m]\u001b[0m\u001b[0;34m,\u001b[0m\u001b[0;34m'Yes'\u001b[0m\u001b[0;34m,\u001b[0m\u001b[0;34m[\u001b[0m\u001b[0;36m3\u001b[0m\u001b[0;34m,\u001b[0m\u001b[0;36m0\u001b[0m\u001b[0;34m,\u001b[0m\u001b[0;36m0\u001b[0m\u001b[0;34m]\u001b[0m\u001b[0;34m,\u001b[0m\u001b[0;34m'Yes'\u001b[0m\u001b[0;34m,\u001b[0m\u001b[0;32mNone\u001b[0m\u001b[0;34m,\u001b[0m\u001b[0mr500\u001b[0m\u001b[0;34m,\u001b[0m\u001b[0;34m'No'\u001b[0m\u001b[0;34m,\u001b[0m\u001b[0;34m'No'\u001b[0m\u001b[0;34m)\u001b[0m\u001b[0;34m\u001b[0m\u001b[0;34m\u001b[0m\u001b[0m\n\u001b[1;32m     14\u001b[0m \u001b[0m_\u001b[0m\u001b[0;34m,\u001b[0m\u001b[0mnormalRADncrf60f\u001b[0m \u001b[0;34m=\u001b[0m \u001b[0mproc_invar_forPCA\u001b[0m\u001b[0;34m(\u001b[0m\u001b[0mrad_ncrf60\u001b[0m\u001b[0;34m,\u001b[0m\u001b[0;34m[\u001b[0m\u001b[0mctrl_t2\u001b[0m\u001b[0;34m,\u001b[0m\u001b[0mctrl_t4\u001b[0m\u001b[0;34m]\u001b[0m\u001b[0;34m,\u001b[0m\u001b[0;34m'Yes'\u001b[0m\u001b[0;34m,\u001b[0m\u001b[0;34m[\u001b[0m\u001b[0;36m3\u001b[0m\u001b[0;34m,\u001b[0m\u001b[0;36m0\u001b[0m\u001b[0;34m,\u001b[0m\u001b[0;36m0\u001b[0m\u001b[0;34m]\u001b[0m\u001b[0;34m,\u001b[0m\u001b[0;34m'Yes'\u001b[0m\u001b[0;34m,\u001b[0m\u001b[0;32mNone\u001b[0m\u001b[0;34m,\u001b[0m\u001b[0mr500\u001b[0m\u001b[0;34m,\u001b[0m\u001b[0;34m'No'\u001b[0m\u001b[0;34m,\u001b[0m\u001b[0;34m'No'\u001b[0m\u001b[0;34m)\u001b[0m\u001b[0;34m\u001b[0m\u001b[0;34m\u001b[0m\u001b[0m\n",
      "\u001b[0;32m/tmp/ipykernel_199611/4882211.py\u001b[0m in \u001b[0;36mproc_invar_forPCA\u001b[0;34m(var, timezoom, smooth, gaussian, fromcenter, inradius, outradius, donormal, doPCA)\u001b[0m\n\u001b[1;32m     14\u001b[0m \u001b[0;34m\u001b[0m\u001b[0m\n\u001b[1;32m     15\u001b[0m \u001b[0;32mdef\u001b[0m \u001b[0mproc_invar_forPCA\u001b[0m\u001b[0;34m(\u001b[0m\u001b[0mvar\u001b[0m\u001b[0;34m=\u001b[0m\u001b[0;32mNone\u001b[0m\u001b[0;34m,\u001b[0m\u001b[0mtimezoom\u001b[0m\u001b[0;34m=\u001b[0m\u001b[0;34m[\u001b[0m\u001b[0mctrl_t2\u001b[0m\u001b[0;34m,\u001b[0m\u001b[0mctrl_t4\u001b[0m\u001b[0;34m]\u001b[0m\u001b[0;34m,\u001b[0m\u001b[0msmooth\u001b[0m\u001b[0;34m=\u001b[0m\u001b[0;34m'Yes'\u001b[0m\u001b[0;34m,\u001b[0m\u001b[0mgaussian\u001b[0m\u001b[0;34m=\u001b[0m\u001b[0;34m[\u001b[0m\u001b[0;36m0\u001b[0m\u001b[0;34m,\u001b[0m\u001b[0;36m0\u001b[0m\u001b[0;34m,\u001b[0m\u001b[0;36m0\u001b[0m\u001b[0;34m]\u001b[0m\u001b[0;34m,\u001b[0m\u001b[0mfromcenter\u001b[0m\u001b[0;34m=\u001b[0m\u001b[0;34m'Yes'\u001b[0m\u001b[0;34m,\u001b[0m\u001b[0minradius\u001b[0m\u001b[0;34m=\u001b[0m\u001b[0;32mNone\u001b[0m\u001b[0;34m,\u001b[0m\u001b[0moutradius\u001b[0m\u001b[0;34m=\u001b[0m\u001b[0;32mNone\u001b[0m\u001b[0;34m,\u001b[0m\u001b[0mdonormal\u001b[0m\u001b[0;34m=\u001b[0m\u001b[0;34m'No'\u001b[0m\u001b[0;34m,\u001b[0m\u001b[0mdoPCA\u001b[0m\u001b[0;34m=\u001b[0m\u001b[0;34m'No'\u001b[0m\u001b[0;34m)\u001b[0m\u001b[0;34m:\u001b[0m\u001b[0;34m\u001b[0m\u001b[0;34m\u001b[0m\u001b[0m\n\u001b[0;32m---> 16\u001b[0;31m     \u001b[0;32mreturn\u001b[0m \u001b[0mdo_PCA\u001b[0m\u001b[0;34m(\u001b[0m\u001b[0mvar\u001b[0m\u001b[0;34m=\u001b[0m\u001b[0mvar\u001b[0m\u001b[0;34m,\u001b[0m\u001b[0mtimezoom\u001b[0m\u001b[0;34m=\u001b[0m\u001b[0;34m[\u001b[0m\u001b[0mctrl_t2\u001b[0m\u001b[0;34m,\u001b[0m\u001b[0mctrl_t4\u001b[0m\u001b[0;34m]\u001b[0m\u001b[0;34m,\u001b[0m\u001b[0msmooth\u001b[0m\u001b[0;34m=\u001b[0m\u001b[0;34m'Yes'\u001b[0m\u001b[0;34m,\u001b[0m\u001b[0mgaussian\u001b[0m\u001b[0;34m=\u001b[0m\u001b[0;34m[\u001b[0m\u001b[0;36m0\u001b[0m\u001b[0;34m,\u001b[0m\u001b[0;36m0\u001b[0m\u001b[0;34m,\u001b[0m\u001b[0;36m0\u001b[0m\u001b[0;34m]\u001b[0m\u001b[0;34m,\u001b[0m\u001b[0mfromcenter\u001b[0m\u001b[0;34m=\u001b[0m\u001b[0;34m'Yes'\u001b[0m\u001b[0;34m,\u001b[0m\u001b[0minradius\u001b[0m\u001b[0;34m=\u001b[0m\u001b[0;32mNone\u001b[0m\u001b[0;34m,\u001b[0m\u001b[0moutradius\u001b[0m\u001b[0;34m=\u001b[0m\u001b[0;32mNone\u001b[0m\u001b[0;34m,\u001b[0m\u001b[0mdonormal\u001b[0m\u001b[0;34m=\u001b[0m\u001b[0;34m'No'\u001b[0m\u001b[0;34m,\u001b[0m\u001b[0mdoPCA\u001b[0m\u001b[0;34m=\u001b[0m\u001b[0;34m'No'\u001b[0m\u001b[0;34m)\u001b[0m\u001b[0;34m\u001b[0m\u001b[0;34m\u001b[0m\u001b[0m\n\u001b[0m",
      "\u001b[0;32m/tmp/ipykernel_199611/2936660451.py\u001b[0m in \u001b[0;36mdo_PCA\u001b[0;34m(var, timezoom, smooth, gaussian, fromcenter, inradius, outradius, donormal, doPCA)\u001b[0m\n\u001b[1;32m     29\u001b[0m         \u001b[0mnormal_var\u001b[0m \u001b[0;34m=\u001b[0m \u001b[0mnp\u001b[0m\u001b[0;34m.\u001b[0m\u001b[0mswapaxes\u001b[0m\u001b[0;34m(\u001b[0m\u001b[0mnp\u001b[0m\u001b[0;34m.\u001b[0m\u001b[0masarray\u001b[0m\u001b[0;34m(\u001b[0m\u001b[0mnormal_var\u001b[0m\u001b[0;34m)\u001b[0m\u001b[0;34m,\u001b[0m\u001b[0;36m0\u001b[0m\u001b[0;34m,\u001b[0m\u001b[0;36m1\u001b[0m\u001b[0;34m)\u001b[0m\u001b[0;34m\u001b[0m\u001b[0;34m\u001b[0m\u001b[0m\n\u001b[1;32m     30\u001b[0m     \u001b[0;32mif\u001b[0m \u001b[0mfromcenter\u001b[0m\u001b[0;34m==\u001b[0m\u001b[0;34m'Yes'\u001b[0m\u001b[0;34m:\u001b[0m\u001b[0;34m\u001b[0m\u001b[0;34m\u001b[0m\u001b[0m\n\u001b[0;32m---> 31\u001b[0;31m         normal_varf = np.asarray([normal_var[i,:,:,:outradius].flatten() \\\n\u001b[0m\u001b[1;32m     32\u001b[0m                                   for i in range(len(normal_var[timezoom[0]:timezoom[1],0,0,0]))])\n\u001b[1;32m     33\u001b[0m     \u001b[0;32melif\u001b[0m \u001b[0mfromcenter\u001b[0m\u001b[0;34m==\u001b[0m\u001b[0;34m'No'\u001b[0m\u001b[0;34m:\u001b[0m\u001b[0;34m\u001b[0m\u001b[0;34m\u001b[0m\u001b[0m\n",
      "\u001b[0;31mMemoryError\u001b[0m: Unable to allocate 2.17 GiB for an array with shape (96, 6079320) and data type float32"
     ]
    }
   ],
   "source": [
    "# Heating Rate\n",
    "#########################################################################################################\n",
    "r0,r200=(nearest_index(ctrlvar_dict['W']['W'].radius,0),nearest_index(ctrlvar_dict['W']['W'].radius,200))\n",
    "r300,r500=(nearest_index(ctrlvar_dict['W']['W'].radius,300),nearest_index(ctrlvar_dict['W']['W'].radius,500))\n",
    "########################################################################################################################\n",
    "# Patch data\n",
    "########################################################################################################################\n",
    "#_,normalWncrf36f = proc_invar_forPCA(read_and_proc.add_ctrl_before_senstart(ctrlvar_dict['W']['W'],ncrf36var_dict['W']['W'],'NCRF36','Yes'),[ctrl_t2,ctrl_t4],'Yes',[0,0,0],'Yes',None,r500,'No','No')\n",
    "#_,normalWncrf60f = proc_invar_forPCA(read_and_proc.add_ctrl_before_senstart(ctrlvar_dict['W']['W'],ncrf60var_dict['W']['W'],'NCRF60','Yes'),[ctrl_t2,ctrl_t4],'Yes',[0,0,0],'Yes',None,r500,'No','No')\n",
    "#_,normalWlwcrff = proc_invar_forPCA(read_and_proc.add_ctrl_before_senstart(ctrlvar_dict['W']['W'],lwcrfvar_dict['W']['W'],'NCRF36','Yes'),[ctrl_t2,ctrl_t4],'Yes',[0,0,0],'Yes',None,r500,'No','No')\n",
    "\n",
    "_,normalRADctrlf = proc_invar_forPCA(rad_ctrl,[ctrl_t2,ctrl_t4],'Yes',[3,0,0],'Yes',None,r500,'No','No')\n",
    "_,normalRADncrf36f = proc_invar_forPCA(rad_ncrf36,[ctrl_t2,ctrl_t4],'Yes',[3,0,0],'Yes',None,r500,'No','No')\n",
    "_,normalRADncrf60f = proc_invar_forPCA(rad_ncrf60,[ctrl_t2,ctrl_t4],'Yes',[3,0,0],'Yes',None,r500,'No','No')\n",
    "_,normalRADlwcrff= proc_invar_forPCA(rad_lwcrf,[ctrl_t2,ctrl_t4],'Yes',[3,0,0],'Yes',None,r500,'No','No')\n",
    "\n",
    "_,normalRESIctrlf = proc_invar_forPCA(resid_ctrl,[ctrl_t2,ctrl_t4],'Yes',[3,0,0],'Yes',None,r500,'No','No')\n",
    "_,normalRESIncrf36f = proc_invar_forPCA(resid_ncrf36,[ctrl_t2,ctrl_t4],'Yes',[3,0,0],'Yes',None,r500,'No','No')\n",
    "_,normalRESIncrf60f = proc_invar_forPCA(resid_ncrf60,[ctrl_t2,ctrl_t4],'Yes',[3,0,0],'Yes',None,r500,'No','No')\n",
    "_,normalRESIlwcrff = proc_invar_forPCA(resid_lwcrf,[ctrl_t2,ctrl_t4],'Yes',[3,0,0],'Yes',None,r500,'No','No')\n",
    "\n",
    "#_,normalQVncrf36f = proc_invar_forPCA(read_and_proc.add_ctrl_before_senstart(ctrlvar_dict['QVAPOR']['QVAPOR'],ncrf36var_dict['QVAPOR']['QVAPOR'],'NCRF36','Yes'),[ctrl_t2,ctrl_t4],'Yes',[0,0,0],'Yes',None,r500,'No','No')\n",
    "#_,normalQVncrf60f = proc_invar_forPCA(read_and_proc.add_ctrl_before_senstart(ctrlvar_dict['QVAPOR']['QVAPOR'],ncrf60var_dict['QVAPOR']['QVAPOR'],'NCRF60','Yes'),[ctrl_t2,ctrl_t4],'Yes',[0,0,0],'Yes',None,r500,'No','No')\n",
    "#_,normalQVlwcrff = proc_invar_forPCA(read_and_proc.add_ctrl_before_senstart(ctrlvar_dict['QVAPOR']['QVAPOR'],lwcrfvar_dict['QVAPOR']['QVAPOR'],'NCRF36','Yes'),[ctrl_t2,ctrl_t4],'Yes',[0,0,0],'Yes',None,r500,'No','No')\n",
    "\n",
    "del rad_ctrl,rad_ncrf36,rad_ncrf60,rad_lwcrf,resid_ctrl,resid_ncrf36,resid_ncrf60,resid_lwcrf"
   ]
  },
  {
   "cell_type": "markdown",
   "id": "e8a050b4-07ca-4c67-ba2e-857a1f636a96",
   "metadata": {},
   "source": [
    "#### Save to pickle"
   ]
  },
  {
   "cell_type": "code",
   "execution_count": 8,
   "id": "ced1d652-6480-4a6e-8de0-cf452f8c04ac",
   "metadata": {},
   "outputs": [],
   "source": [
    "def save_to_pickle(loc=None,var=None):\n",
    "    with open(loc,\"wb\") as f:\n",
    "        pickle.dump(var,f)\n",
    "    return None\n",
    "\n",
    "save_to_pickle('./output/1010_ns/sensitivity/RAD_ctrlf_ns',rad_ctrl)\n",
    "save_to_pickle('./output/1010_ns/sensitivity/RAD_ncrf36f_ns',rad_ncrf36)\n",
    "save_to_pickle('./output/1010_ns/sensitivity/RAD_ncrf60f_ns',rad_ncrf60)\n",
    "save_to_pickle('./output/1010_ns/sensitivity/RAD_lwcrff_ns',rad_lwcrf)\n",
    "\n",
    "save_to_pickle('./output/1010_ns/sensitivity/RESI_ctrlf_ns',resid_ctrl)\n",
    "save_to_pickle('./output/1010_ns/sensitivity/RESI_ncrf36f_ns',resid_ncrf36)\n",
    "save_to_pickle('./output/1010_ns/sensitivity/RESI_ncrf60f_ns',resid_ncrf60)\n",
    "save_to_pickle('./output/1010_ns/sensitivity/RESI_lwcrff_ns',resid_lwcrf)"
   ]
  },
  {
   "cell_type": "code",
   "execution_count": null,
   "id": "216d8edd-74ee-4327-95c5-6f4814ede400",
   "metadata": {},
   "outputs": [],
   "source": []
  }
 ],
 "metadata": {
  "kernelspec": {
   "display_name": "Python 3 (ipykernel)",
   "language": "python",
   "name": "python3"
  },
  "language_info": {
   "codemirror_mode": {
    "name": "ipython",
    "version": 3
   },
   "file_extension": ".py",
   "mimetype": "text/x-python",
   "name": "python",
   "nbconvert_exporter": "python",
   "pygments_lexer": "ipython3",
   "version": "3.8.8"
  }
 },
 "nbformat": 4,
 "nbformat_minor": 5
}
